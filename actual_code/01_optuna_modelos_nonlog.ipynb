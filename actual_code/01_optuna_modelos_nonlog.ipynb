{
 "cells": [
  {
   "cell_type": "code",
   "execution_count": 5,
   "metadata": {},
   "outputs": [
    {
     "name": "stdout",
     "output_type": "stream",
     "text": [
      "The autoreload extension is already loaded. To reload it, use:\n",
      "  %reload_ext autoreload\n"
     ]
    }
   ],
   "source": [
    "%load_ext autoreload\n",
    "%autoreload 2\n",
    "\n"
   ]
  },
  {
   "cell_type": "code",
   "execution_count": 6,
   "metadata": {},
   "outputs": [],
   "source": [
    "import pandas as pd\n",
    "from utils.preprocess import treat_dataset_pandas_init, build_preprocessing_pipeline,INIT_NUMERICAL_COLS, numerical_features\n",
    "\n",
    "from utils.metrics import rmsle_metric\n",
    "\n",
    "from sklearn.pipeline import Pipeline\n",
    "from sklearn.linear_model import LinearRegression\n",
    "\n",
    "from xgboost import XGBRegressor\n",
    "from sklearn.model_selection import ShuffleSplit\n",
    "from sklearn.metrics import root_mean_squared_log_error\n",
    "from sklearn.ensemble import StackingRegressor, HistGradientBoostingRegressor\n",
    "import numpy as np\n",
    "import xgboost as xgb\n",
    "from lightgbm import LGBMRegressor\n",
    "from sklearn.neighbors import KNeighborsRegressor\n",
    "\n",
    "from catboost import CatBoostRegressor\n",
    "from utils.categoricals import CategoricalToStringTransformer, CategoricalEncoder, CatogoricalUnknownTransformer\n",
    "\n",
    "import joblib"
   ]
  },
  {
   "cell_type": "code",
   "execution_count": 7,
   "metadata": {},
   "outputs": [],
   "source": [
    "train_data = pd.read_csv(\"playground-series-s4e12/train.csv\")#.sample(frac=0.1)\n",
    "test_data = pd.read_csv(\"playground-series-s4e12/test.csv\")\n",
    "\n",
    "treated_dataset = treat_dataset_pandas_init(train_data, process_as_category=True)\n",
    "\n",
    "X_train = treated_dataset.drop(columns=[\"Premium Amount\"])\n",
    "y_train = treated_dataset[\"Premium Amount\"]\n"
   ]
  },
  {
   "cell_type": "code",
   "execution_count": 9,
   "metadata": {},
   "outputs": [
    {
     "name": "stderr",
     "output_type": "stream",
     "text": [
      "[I 2024-12-28 00:27:22,996] A new study created in RDB with name: insurance-20241228_002722\n"
     ]
    }
   ],
   "source": [
    "import optuna\n",
    "import lightgbm as lgb\n",
    "from sklearn.model_selection import ShuffleSplit\n",
    "from sklearn.model_selection import train_test_split\n",
    "from datetime import datetime\n",
    "import numpy as np\n",
    "\n",
    "def rmsle_metric(y_pred, dataset):\n",
    "    y_true = dataset.get_label()\n",
    "    \n",
    "    #y_true = np.expm1(y_true) \n",
    "    #y_pred = np.expm1(y_pred) \n",
    "\n",
    "    rmsle = root_mean_squared_log_error(y_true, np.clip(y_pred, 10, 4999))\n",
    "    \n",
    "    return 'rmsle', rmsle, False  # False because lower is better\n",
    "\n",
    "# Define objective function\n",
    "def objective(trial):\n",
    "    param_grid = {\n",
    "        'boosting_type': 'gbdt',  # Gradient Boosting Decision Tree\n",
    "        'objective': 'regression',  # Use 'binary' for classification\n",
    "        'learning_rate': trial.suggest_float('learning_rate', 0.002, 0.5),  # Fine-tuned range\n",
    "        'num_boost_round': trial.suggest_int('num_boost_round', 100, 1000),\n",
    "        'num_leaves': trial.suggest_int('num_leaves', 2, 180),  # Wider range for more exploration\n",
    "        'max_depth': trial.suggest_int('max_depth', -1, 180),  # Allow deeper trees or unlimited depth (-1)\n",
    "        'feature_fraction': trial.suggest_float('feature_fraction', 0.5, 1.0),  # Sampling fraction of features\n",
    "        'bagging_fraction': trial.suggest_float('bagging_fraction', 0.5, 1.0),  # Sampling fraction of data\n",
    "        'bagging_freq': trial.suggest_int('bagging_freq', 1, 7),  # Frequency of bagging\n",
    "        'min_child_samples': trial.suggest_int('min_child_samples', 5, 50),  # Minimum samples per leaf\n",
    "        'min_split_gain': trial.suggest_float('min_split_gain', 1e-3, 0.1),  # Minimum gain for a split\n",
    "        'min_child_weight': trial.suggest_float('min_child_weight', 1e-3, 10),  # Minimum weight for children\n",
    "        'lambda_l1': trial.suggest_float ('lambda_l1', 1e-3, 10),  # L1 regularization\n",
    "        'lambda_l2': trial.suggest_float ('lambda_l2', 1e-3, 10),  # L2 regularization\n",
    "        'cat_smooth': trial.suggest_float ('cat_smooth', 5, 30),  # Smoothing for categorical features\n",
    "        'max_bin': trial.suggest_int('max_bin', 1, 255),  # Granularity of feature splits\n",
    "        'verbose': -1,  # Suppress output\n",
    "        'random_state': 41,  # Reproducibility\n",
    "    }\n",
    "    print(param_grid)\n",
    "    \n",
    "    X_train_fold, X_val_fold, y_train_fold, y_val_fold = train_test_split(X_train, y_train, test_size=0.2, random_state=1)\n",
    "    \n",
    "    #y_train_fold = np.log1p(y_train_fold)\n",
    "    #y_val_fold = np.log1p(y_val_fold)\n",
    "    \n",
    "    train_data_lgbm = lgb.Dataset(X_train_fold, label=y_train_fold)\n",
    "    val_data_lgbm = lgb.Dataset(X_val_fold, label=y_val_fold)\n",
    "    \n",
    "    # Train model\n",
    "    model = lgb.train(\n",
    "        param_grid,\n",
    "        train_data_lgbm,\n",
    "        valid_sets=[train_data_lgbm, val_data_lgbm],\n",
    "        valid_names=[\"train\", \"validation\"],\n",
    "        feval=rmsle_metric,    # Custom RMSLE metric\n",
    "        callbacks=[\n",
    "            lgb.early_stopping(stopping_rounds=10),\n",
    "            lgb.log_evaluation(period=5),  # Optional: Logs evaluation every 10 rounds\n",
    "        ]\n",
    "    )\n",
    "    return model.best_score['validation']['rmsle']\n",
    "        \n",
    "    \n",
    "import optuna\n",
    "\n",
    "# Get current date and time in the format YYYYMMDD_HHMMSS\n",
    "current_datetime = datetime.now().strftime(\"%Y%m%d_%H%M%S\")\n",
    "\n",
    "# Create a study with a date and time identifier\n",
    "study = optuna.create_study(\n",
    "    direction='minimize',\n",
    "    storage=\"sqlite:///optuna_db.sqlite3\",\n",
    "    study_name=f\"insurance-{current_datetime}\",  # Append date and time to study name,\n",
    "    sampler=optuna.samplers.TPESampler(),\n",
    "    pruner=optuna.pruners.HyperbandPruner()\n",
    ")"
   ]
  },
  {
   "cell_type": "code",
   "execution_count": 10,
   "metadata": {},
   "outputs": [
    {
     "name": "stdout",
     "output_type": "stream",
     "text": [
      "{'boosting_type': 'gbdt', 'objective': 'regression', 'learning_rate': 0.40363072393216337, 'num_boost_round': 539, 'num_leaves': 176, 'max_depth': 124, 'feature_fraction': 0.911446840888589, 'bagging_fraction': 0.9725988007778756, 'bagging_freq': 2, 'min_child_samples': 18, 'min_split_gain': 0.027054674866716588, 'min_child_weight': 5.357155043284326, 'lambda_l1': 9.669126545911324, 'lambda_l2': 6.683733289915376, 'cat_smooth': 26.661412990026623, 'max_bin': 42, 'verbose': -1, 'random_state': 41}\n"
     ]
    },
    {
     "name": "stderr",
     "output_type": "stream",
     "text": [
      "d:\\Development\\insurance\\venv\\lib\\site-packages\\lightgbm\\engine.py:204: UserWarning: Found `num_boost_round` in params. Will use it instead of argument\n",
      "  _log_warning(f\"Found `{alias}` in params. Will use it instead of argument\")\n"
     ]
    },
    {
     "name": "stdout",
     "output_type": "stream",
     "text": [
      "Training until validation scores don't improve for 10 rounds\n",
      "[5]\ttrain's l2: 667449\ttrain's rmsle: 1.11411\tvalidation's l2: 683575\tvalidation's rmsle: 1.11863\n",
      "[10]\ttrain's l2: 658386\ttrain's rmsle: 1.10693\tvalidation's l2: 684569\tvalidation's rmsle: 1.11534\n"
     ]
    },
    {
     "name": "stderr",
     "output_type": "stream",
     "text": [
      "[I 2024-12-28 00:27:29,380] Trial 0 finished with value: 1.1169776195177692 and parameters: {'learning_rate': 0.40363072393216337, 'num_boost_round': 539, 'num_leaves': 176, 'max_depth': 124, 'feature_fraction': 0.911446840888589, 'bagging_fraction': 0.9725988007778756, 'bagging_freq': 2, 'min_child_samples': 18, 'min_split_gain': 0.027054674866716588, 'min_child_weight': 5.357155043284326, 'lambda_l1': 9.669126545911324, 'lambda_l2': 6.683733289915376, 'cat_smooth': 26.661412990026623, 'max_bin': 42}. Best is trial 0 with value: 1.1169776195177692.\n"
     ]
    },
    {
     "name": "stdout",
     "output_type": "stream",
     "text": [
      "[15]\ttrain's l2: 652456\ttrain's rmsle: 1.10439\tvalidation's l2: 684992\tvalidation's rmsle: 1.11538\n",
      "Early stopping, best iteration is:\n",
      "[6]\ttrain's l2: 665160\ttrain's rmsle: 1.1116\tvalidation's l2: 683371\tvalidation's rmsle: 1.11698\n",
      "{'boosting_type': 'gbdt', 'objective': 'regression', 'learning_rate': 0.2841298122773911, 'num_boost_round': 246, 'num_leaves': 66, 'max_depth': 103, 'feature_fraction': 0.8336788837793689, 'bagging_fraction': 0.8889969310243462, 'bagging_freq': 6, 'min_child_samples': 9, 'min_split_gain': 0.03774586148153234, 'min_child_weight': 9.687641527976051, 'lambda_l1': 1.27088985863191, 'lambda_l2': 5.107341952961837, 'cat_smooth': 22.647924801101077, 'max_bin': 224, 'verbose': -1, 'random_state': 41}\n"
     ]
    },
    {
     "name": "stderr",
     "output_type": "stream",
     "text": [
      "d:\\Development\\insurance\\venv\\lib\\site-packages\\lightgbm\\engine.py:204: UserWarning: Found `num_boost_round` in params. Will use it instead of argument\n",
      "  _log_warning(f\"Found `{alias}` in params. Will use it instead of argument\")\n"
     ]
    },
    {
     "name": "stdout",
     "output_type": "stream",
     "text": [
      "Training until validation scores don't improve for 10 rounds\n",
      "[5]\ttrain's l2: 679058\ttrain's rmsle: 1.1248\tvalidation's l2: 685030\tvalidation's rmsle: 1.12529\n",
      "[10]\ttrain's l2: 669979\ttrain's rmsle: 1.11445\tvalidation's l2: 680320\tvalidation's rmsle: 1.11652\n",
      "[15]\ttrain's l2: 667001\ttrain's rmsle: 1.11213\tvalidation's l2: 680378\tvalidation's rmsle: 1.11544\n"
     ]
    },
    {
     "name": "stderr",
     "output_type": "stream",
     "text": [
      "[I 2024-12-28 00:27:33,764] Trial 1 finished with value: 1.1160890081335644 and parameters: {'learning_rate': 0.2841298122773911, 'num_boost_round': 246, 'num_leaves': 66, 'max_depth': 103, 'feature_fraction': 0.8336788837793689, 'bagging_fraction': 0.8889969310243462, 'bagging_freq': 6, 'min_child_samples': 9, 'min_split_gain': 0.03774586148153234, 'min_child_weight': 9.687641527976051, 'lambda_l1': 1.27088985863191, 'lambda_l2': 5.107341952961837, 'cat_smooth': 22.647924801101077, 'max_bin': 224}. Best is trial 1 with value: 1.1160890081335644.\n"
     ]
    },
    {
     "name": "stdout",
     "output_type": "stream",
     "text": [
      "[20]\ttrain's l2: 664249\ttrain's rmsle: 1.11078\tvalidation's l2: 680669\tvalidation's rmsle: 1.11528\n",
      "Early stopping, best iteration is:\n",
      "[11]\ttrain's l2: 669228\ttrain's rmsle: 1.11374\tvalidation's l2: 680310\tvalidation's rmsle: 1.11609\n",
      "{'boosting_type': 'gbdt', 'objective': 'regression', 'learning_rate': 0.007533201156436142, 'num_boost_round': 886, 'num_leaves': 27, 'max_depth': 82, 'feature_fraction': 0.5713766556958091, 'bagging_fraction': 0.6527230764485379, 'bagging_freq': 2, 'min_child_samples': 20, 'min_split_gain': 0.021617601689482464, 'min_child_weight': 7.66129522504821, 'lambda_l1': 5.457296403598397, 'lambda_l2': 1.923363399463856, 'cat_smooth': 17.247844437783225, 'max_bin': 59, 'verbose': -1, 'random_state': 41}\n"
     ]
    },
    {
     "name": "stderr",
     "output_type": "stream",
     "text": [
      "d:\\Development\\insurance\\venv\\lib\\site-packages\\lightgbm\\engine.py:204: UserWarning: Found `num_boost_round` in params. Will use it instead of argument\n",
      "  _log_warning(f\"Found `{alias}` in params. Will use it instead of argument\")\n"
     ]
    },
    {
     "name": "stdout",
     "output_type": "stream",
     "text": [
      "Training until validation scores don't improve for 10 rounds\n",
      "[5]\ttrain's l2: 744766\ttrain's rmsle: 1.16965\tvalidation's l2: 746115\tvalidation's rmsle: 1.16858\n",
      "[10]\ttrain's l2: 741392\ttrain's rmsle: 1.16815\tvalidation's l2: 742724\tvalidation's rmsle: 1.16707\n",
      "[15]\ttrain's l2: 738116\ttrain's rmsle: 1.16659\tvalidation's l2: 739423\tvalidation's rmsle: 1.1655\n",
      "[20]\ttrain's l2: 735116\ttrain's rmsle: 1.16519\tvalidation's l2: 736416\tvalidation's rmsle: 1.16408\n",
      "[25]\ttrain's l2: 732183\ttrain's rmsle: 1.1637\tvalidation's l2: 733449\tvalidation's rmsle: 1.16258\n",
      "[30]\ttrain's l2: 729174\ttrain's rmsle: 1.16215\tvalidation's l2: 730436\tvalidation's rmsle: 1.16102\n",
      "[35]\ttrain's l2: 726778\ttrain's rmsle: 1.1609\tvalidation's l2: 728057\tvalidation's rmsle: 1.15977\n",
      "[40]\ttrain's l2: 724371\ttrain's rmsle: 1.15954\tvalidation's l2: 725656\tvalidation's rmsle: 1.1584\n",
      "[45]\ttrain's l2: 722297\ttrain's rmsle: 1.15842\tvalidation's l2: 723583\tvalidation's rmsle: 1.15728\n",
      "[50]\ttrain's l2: 720292\ttrain's rmsle: 1.15725\tvalidation's l2: 721593\tvalidation's rmsle: 1.15612\n",
      "[55]\ttrain's l2: 718528\ttrain's rmsle: 1.15619\tvalidation's l2: 719852\tvalidation's rmsle: 1.15506\n",
      "[60]\ttrain's l2: 716692\ttrain's rmsle: 1.1551\tvalidation's l2: 718009\tvalidation's rmsle: 1.15395\n",
      "[65]\ttrain's l2: 715060\ttrain's rmsle: 1.1541\tvalidation's l2: 716383\tvalidation's rmsle: 1.15295\n",
      "[70]\ttrain's l2: 713300\ttrain's rmsle: 1.15299\tvalidation's l2: 714621\tvalidation's rmsle: 1.15183\n",
      "[75]\ttrain's l2: 711590\ttrain's rmsle: 1.1519\tvalidation's l2: 712931\tvalidation's rmsle: 1.15074\n",
      "[80]\ttrain's l2: 710250\ttrain's rmsle: 1.151\tvalidation's l2: 711634\tvalidation's rmsle: 1.14986\n",
      "[85]\ttrain's l2: 708759\ttrain's rmsle: 1.14991\tvalidation's l2: 710177\tvalidation's rmsle: 1.14877\n",
      "[90]\ttrain's l2: 707276\ttrain's rmsle: 1.14885\tvalidation's l2: 708695\tvalidation's rmsle: 1.1477\n",
      "[95]\ttrain's l2: 706008\ttrain's rmsle: 1.14793\tvalidation's l2: 707462\tvalidation's rmsle: 1.14679\n",
      "[100]\ttrain's l2: 704544\ttrain's rmsle: 1.14688\tvalidation's l2: 706005\tvalidation's rmsle: 1.14573\n",
      "[105]\ttrain's l2: 703213\ttrain's rmsle: 1.14588\tvalidation's l2: 704688\tvalidation's rmsle: 1.14473\n",
      "[110]\ttrain's l2: 702277\ttrain's rmsle: 1.14511\tvalidation's l2: 703793\tvalidation's rmsle: 1.14397\n",
      "[115]\ttrain's l2: 701284\ttrain's rmsle: 1.14436\tvalidation's l2: 702823\tvalidation's rmsle: 1.14322\n",
      "[120]\ttrain's l2: 700362\ttrain's rmsle: 1.14362\tvalidation's l2: 701942\tvalidation's rmsle: 1.14249\n",
      "[125]\ttrain's l2: 699540\ttrain's rmsle: 1.14295\tvalidation's l2: 701143\tvalidation's rmsle: 1.14182\n",
      "[130]\ttrain's l2: 698747\ttrain's rmsle: 1.14224\tvalidation's l2: 700366\tvalidation's rmsle: 1.14112\n",
      "[135]\ttrain's l2: 698072\ttrain's rmsle: 1.14167\tvalidation's l2: 699723\tvalidation's rmsle: 1.14055\n",
      "[140]\ttrain's l2: 697164\ttrain's rmsle: 1.14089\tvalidation's l2: 698815\tvalidation's rmsle: 1.13976\n",
      "[145]\ttrain's l2: 696281\ttrain's rmsle: 1.14011\tvalidation's l2: 697978\tvalidation's rmsle: 1.13899\n",
      "[150]\ttrain's l2: 695465\ttrain's rmsle: 1.13936\tvalidation's l2: 697208\tvalidation's rmsle: 1.13826\n",
      "[155]\ttrain's l2: 694582\ttrain's rmsle: 1.13853\tvalidation's l2: 696323\tvalidation's rmsle: 1.13742\n",
      "[160]\ttrain's l2: 693890\ttrain's rmsle: 1.1379\tvalidation's l2: 695675\tvalidation's rmsle: 1.1368\n",
      "[165]\ttrain's l2: 693226\ttrain's rmsle: 1.13723\tvalidation's l2: 695043\tvalidation's rmsle: 1.13612\n",
      "[170]\ttrain's l2: 692454\ttrain's rmsle: 1.13652\tvalidation's l2: 694287\tvalidation's rmsle: 1.13541\n",
      "[175]\ttrain's l2: 691824\ttrain's rmsle: 1.13589\tvalidation's l2: 693689\tvalidation's rmsle: 1.13478\n",
      "[180]\ttrain's l2: 691280\ttrain's rmsle: 1.13532\tvalidation's l2: 693177\tvalidation's rmsle: 1.13422\n",
      "[185]\ttrain's l2: 690671\ttrain's rmsle: 1.13471\tvalidation's l2: 692615\tvalidation's rmsle: 1.13362\n",
      "[190]\ttrain's l2: 690138\ttrain's rmsle: 1.13409\tvalidation's l2: 692112\tvalidation's rmsle: 1.133\n",
      "[195]\ttrain's l2: 689669\ttrain's rmsle: 1.13358\tvalidation's l2: 691689\tvalidation's rmsle: 1.13251\n",
      "[200]\ttrain's l2: 689332\ttrain's rmsle: 1.1332\tvalidation's l2: 691401\tvalidation's rmsle: 1.13214\n",
      "[205]\ttrain's l2: 688738\ttrain's rmsle: 1.13257\tvalidation's l2: 690806\tvalidation's rmsle: 1.1315\n",
      "[210]\ttrain's l2: 688212\ttrain's rmsle: 1.13204\tvalidation's l2: 690307\tvalidation's rmsle: 1.13097\n",
      "[215]\ttrain's l2: 687746\ttrain's rmsle: 1.13154\tvalidation's l2: 689884\tvalidation's rmsle: 1.13048\n",
      "[220]\ttrain's l2: 687405\ttrain's rmsle: 1.13116\tvalidation's l2: 689593\tvalidation's rmsle: 1.13011\n",
      "[225]\ttrain's l2: 687074\ttrain's rmsle: 1.13079\tvalidation's l2: 689315\tvalidation's rmsle: 1.12976\n",
      "[230]\ttrain's l2: 686697\ttrain's rmsle: 1.13033\tvalidation's l2: 688944\tvalidation's rmsle: 1.1293\n",
      "[235]\ttrain's l2: 686313\ttrain's rmsle: 1.12987\tvalidation's l2: 688585\tvalidation's rmsle: 1.12884\n",
      "[240]\ttrain's l2: 685959\ttrain's rmsle: 1.12946\tvalidation's l2: 688278\tvalidation's rmsle: 1.12845\n",
      "[245]\ttrain's l2: 685584\ttrain's rmsle: 1.12903\tvalidation's l2: 687948\tvalidation's rmsle: 1.12802\n",
      "[250]\ttrain's l2: 685367\ttrain's rmsle: 1.12879\tvalidation's l2: 687791\tvalidation's rmsle: 1.12781\n",
      "[255]\ttrain's l2: 685097\ttrain's rmsle: 1.12856\tvalidation's l2: 687560\tvalidation's rmsle: 1.12758\n",
      "[260]\ttrain's l2: 684762\ttrain's rmsle: 1.12818\tvalidation's l2: 687247\tvalidation's rmsle: 1.1272\n",
      "[265]\ttrain's l2: 684552\ttrain's rmsle: 1.12795\tvalidation's l2: 687067\tvalidation's rmsle: 1.12698\n",
      "[270]\ttrain's l2: 684367\ttrain's rmsle: 1.12776\tvalidation's l2: 686938\tvalidation's rmsle: 1.12681\n",
      "[275]\ttrain's l2: 684093\ttrain's rmsle: 1.12742\tvalidation's l2: 686675\tvalidation's rmsle: 1.12646\n",
      "[280]\ttrain's l2: 683807\ttrain's rmsle: 1.12708\tvalidation's l2: 686419\tvalidation's rmsle: 1.12614\n",
      "[285]\ttrain's l2: 683534\ttrain's rmsle: 1.12674\tvalidation's l2: 686186\tvalidation's rmsle: 1.1258\n",
      "[290]\ttrain's l2: 683334\ttrain's rmsle: 1.12651\tvalidation's l2: 686017\tvalidation's rmsle: 1.12558\n",
      "[295]\ttrain's l2: 683224\ttrain's rmsle: 1.12639\tvalidation's l2: 685960\tvalidation's rmsle: 1.12548\n",
      "[300]\ttrain's l2: 682986\ttrain's rmsle: 1.12608\tvalidation's l2: 685787\tvalidation's rmsle: 1.12519\n",
      "[305]\ttrain's l2: 682725\ttrain's rmsle: 1.12577\tvalidation's l2: 685538\tvalidation's rmsle: 1.12488\n",
      "[310]\ttrain's l2: 682521\ttrain's rmsle: 1.12557\tvalidation's l2: 685399\tvalidation's rmsle: 1.1247\n",
      "[315]\ttrain's l2: 682333\ttrain's rmsle: 1.12538\tvalidation's l2: 685236\tvalidation's rmsle: 1.12451\n",
      "[320]\ttrain's l2: 682191\ttrain's rmsle: 1.12521\tvalidation's l2: 685146\tvalidation's rmsle: 1.12436\n",
      "[325]\ttrain's l2: 682061\ttrain's rmsle: 1.12512\tvalidation's l2: 685065\tvalidation's rmsle: 1.12429\n",
      "[330]\ttrain's l2: 681861\ttrain's rmsle: 1.12491\tvalidation's l2: 684909\tvalidation's rmsle: 1.1241\n",
      "[335]\ttrain's l2: 681709\ttrain's rmsle: 1.12479\tvalidation's l2: 684809\tvalidation's rmsle: 1.12398\n",
      "[340]\ttrain's l2: 681551\ttrain's rmsle: 1.12456\tvalidation's l2: 684713\tvalidation's rmsle: 1.12378\n",
      "[345]\ttrain's l2: 681363\ttrain's rmsle: 1.12432\tvalidation's l2: 684559\tvalidation's rmsle: 1.12355\n",
      "[350]\ttrain's l2: 681200\ttrain's rmsle: 1.12417\tvalidation's l2: 684408\tvalidation's rmsle: 1.1234\n",
      "[355]\ttrain's l2: 681021\ttrain's rmsle: 1.12396\tvalidation's l2: 684274\tvalidation's rmsle: 1.1232\n",
      "[360]\ttrain's l2: 680860\ttrain's rmsle: 1.12374\tvalidation's l2: 684153\tvalidation's rmsle: 1.12299\n",
      "[365]\ttrain's l2: 680688\ttrain's rmsle: 1.12355\tvalidation's l2: 684015\tvalidation's rmsle: 1.12281\n",
      "[370]\ttrain's l2: 680530\ttrain's rmsle: 1.12337\tvalidation's l2: 683901\tvalidation's rmsle: 1.12264\n",
      "[375]\ttrain's l2: 680441\ttrain's rmsle: 1.12331\tvalidation's l2: 683849\tvalidation's rmsle: 1.12259\n",
      "[380]\ttrain's l2: 680270\ttrain's rmsle: 1.12315\tvalidation's l2: 683702\tvalidation's rmsle: 1.12243\n",
      "[385]\ttrain's l2: 680177\ttrain's rmsle: 1.12305\tvalidation's l2: 683653\tvalidation's rmsle: 1.12235\n",
      "[390]\ttrain's l2: 680065\ttrain's rmsle: 1.12289\tvalidation's l2: 683588\tvalidation's rmsle: 1.1222\n",
      "[395]\ttrain's l2: 679902\ttrain's rmsle: 1.12266\tvalidation's l2: 683444\tvalidation's rmsle: 1.12197\n",
      "[400]\ttrain's l2: 679761\ttrain's rmsle: 1.12245\tvalidation's l2: 683357\tvalidation's rmsle: 1.12178\n",
      "[405]\ttrain's l2: 679685\ttrain's rmsle: 1.12238\tvalidation's l2: 683332\tvalidation's rmsle: 1.12174\n",
      "[410]\ttrain's l2: 679543\ttrain's rmsle: 1.1222\tvalidation's l2: 683209\tvalidation's rmsle: 1.12156\n",
      "[415]\ttrain's l2: 679416\ttrain's rmsle: 1.12205\tvalidation's l2: 683123\tvalidation's rmsle: 1.12142\n",
      "[420]\ttrain's l2: 679311\ttrain's rmsle: 1.12197\tvalidation's l2: 683065\tvalidation's rmsle: 1.12136\n",
      "[425]\ttrain's l2: 679170\ttrain's rmsle: 1.12182\tvalidation's l2: 682976\tvalidation's rmsle: 1.12122\n",
      "[430]\ttrain's l2: 679041\ttrain's rmsle: 1.12161\tvalidation's l2: 682889\tvalidation's rmsle: 1.12102\n",
      "[435]\ttrain's l2: 678918\ttrain's rmsle: 1.12146\tvalidation's l2: 682772\tvalidation's rmsle: 1.12087\n",
      "[440]\ttrain's l2: 678822\ttrain's rmsle: 1.12132\tvalidation's l2: 682705\tvalidation's rmsle: 1.12074\n",
      "[445]\ttrain's l2: 678744\ttrain's rmsle: 1.12123\tvalidation's l2: 682677\tvalidation's rmsle: 1.12067\n",
      "[450]\ttrain's l2: 678623\ttrain's rmsle: 1.12109\tvalidation's l2: 682593\tvalidation's rmsle: 1.12055\n",
      "[455]\ttrain's l2: 678553\ttrain's rmsle: 1.12102\tvalidation's l2: 682555\tvalidation's rmsle: 1.12049\n",
      "[460]\ttrain's l2: 678438\ttrain's rmsle: 1.12087\tvalidation's l2: 682489\tvalidation's rmsle: 1.12035\n",
      "[465]\ttrain's l2: 678351\ttrain's rmsle: 1.12075\tvalidation's l2: 682445\tvalidation's rmsle: 1.12025\n",
      "[470]\ttrain's l2: 678246\ttrain's rmsle: 1.12062\tvalidation's l2: 682386\tvalidation's rmsle: 1.12014\n",
      "[475]\ttrain's l2: 678140\ttrain's rmsle: 1.12049\tvalidation's l2: 682316\tvalidation's rmsle: 1.12002\n",
      "[480]\ttrain's l2: 678015\ttrain's rmsle: 1.12037\tvalidation's l2: 682226\tvalidation's rmsle: 1.1199\n",
      "[485]\ttrain's l2: 677915\ttrain's rmsle: 1.12024\tvalidation's l2: 682169\tvalidation's rmsle: 1.11979\n",
      "[490]\ttrain's l2: 677821\ttrain's rmsle: 1.12014\tvalidation's l2: 682100\tvalidation's rmsle: 1.1197\n",
      "[495]\ttrain's l2: 677712\ttrain's rmsle: 1.11996\tvalidation's l2: 682027\tvalidation's rmsle: 1.11953\n",
      "[500]\ttrain's l2: 677643\ttrain's rmsle: 1.11988\tvalidation's l2: 681992\tvalidation's rmsle: 1.11946\n",
      "[505]\ttrain's l2: 677566\ttrain's rmsle: 1.1198\tvalidation's l2: 681943\tvalidation's rmsle: 1.11939\n",
      "[510]\ttrain's l2: 677472\ttrain's rmsle: 1.11976\tvalidation's l2: 681885\tvalidation's rmsle: 1.11936\n",
      "[515]\ttrain's l2: 677398\ttrain's rmsle: 1.11969\tvalidation's l2: 681845\tvalidation's rmsle: 1.1193\n",
      "[520]\ttrain's l2: 677330\ttrain's rmsle: 1.11961\tvalidation's l2: 681817\tvalidation's rmsle: 1.11923\n",
      "[525]\ttrain's l2: 677232\ttrain's rmsle: 1.11947\tvalidation's l2: 681731\tvalidation's rmsle: 1.11909\n",
      "[530]\ttrain's l2: 677129\ttrain's rmsle: 1.11938\tvalidation's l2: 681645\tvalidation's rmsle: 1.119\n",
      "[535]\ttrain's l2: 677050\ttrain's rmsle: 1.11929\tvalidation's l2: 681603\tvalidation's rmsle: 1.11892\n",
      "[540]\ttrain's l2: 676958\ttrain's rmsle: 1.11926\tvalidation's l2: 681521\tvalidation's rmsle: 1.1189\n",
      "[545]\ttrain's l2: 676892\ttrain's rmsle: 1.11915\tvalidation's l2: 681467\tvalidation's rmsle: 1.1188\n",
      "[550]\ttrain's l2: 676819\ttrain's rmsle: 1.11911\tvalidation's l2: 681424\tvalidation's rmsle: 1.11876\n",
      "[555]\ttrain's l2: 676744\ttrain's rmsle: 1.11904\tvalidation's l2: 681374\tvalidation's rmsle: 1.1187\n",
      "[560]\ttrain's l2: 676655\ttrain's rmsle: 1.11892\tvalidation's l2: 681315\tvalidation's rmsle: 1.11859\n",
      "[565]\ttrain's l2: 676542\ttrain's rmsle: 1.1188\tvalidation's l2: 681223\tvalidation's rmsle: 1.11848\n",
      "[570]\ttrain's l2: 676482\ttrain's rmsle: 1.11875\tvalidation's l2: 681188\tvalidation's rmsle: 1.11844\n",
      "[575]\ttrain's l2: 676415\ttrain's rmsle: 1.11868\tvalidation's l2: 681153\tvalidation's rmsle: 1.11837\n",
      "[580]\ttrain's l2: 676343\ttrain's rmsle: 1.11861\tvalidation's l2: 681100\tvalidation's rmsle: 1.1183\n",
      "[585]\ttrain's l2: 676263\ttrain's rmsle: 1.11851\tvalidation's l2: 681049\tvalidation's rmsle: 1.11822\n",
      "[590]\ttrain's l2: 676210\ttrain's rmsle: 1.11846\tvalidation's l2: 681040\tvalidation's rmsle: 1.11819\n",
      "[595]\ttrain's l2: 676156\ttrain's rmsle: 1.11841\tvalidation's l2: 681032\tvalidation's rmsle: 1.11815\n",
      "[600]\ttrain's l2: 676097\ttrain's rmsle: 1.11833\tvalidation's l2: 681002\tvalidation's rmsle: 1.11808\n",
      "[605]\ttrain's l2: 676032\ttrain's rmsle: 1.11829\tvalidation's l2: 680955\tvalidation's rmsle: 1.11805\n",
      "[610]\ttrain's l2: 675928\ttrain's rmsle: 1.11822\tvalidation's l2: 680870\tvalidation's rmsle: 1.11798\n",
      "[615]\ttrain's l2: 675882\ttrain's rmsle: 1.11817\tvalidation's l2: 680856\tvalidation's rmsle: 1.11794\n",
      "[620]\ttrain's l2: 675837\ttrain's rmsle: 1.11813\tvalidation's l2: 680846\tvalidation's rmsle: 1.11791\n",
      "[625]\ttrain's l2: 675769\ttrain's rmsle: 1.11806\tvalidation's l2: 680799\tvalidation's rmsle: 1.11786\n",
      "[630]\ttrain's l2: 675683\ttrain's rmsle: 1.11795\tvalidation's l2: 680742\tvalidation's rmsle: 1.11776\n",
      "[635]\ttrain's l2: 675624\ttrain's rmsle: 1.11787\tvalidation's l2: 680707\tvalidation's rmsle: 1.11769\n",
      "[640]\ttrain's l2: 675554\ttrain's rmsle: 1.11779\tvalidation's l2: 680677\tvalidation's rmsle: 1.11762\n",
      "[645]\ttrain's l2: 675489\ttrain's rmsle: 1.11775\tvalidation's l2: 680642\tvalidation's rmsle: 1.11759\n",
      "[650]\ttrain's l2: 675429\ttrain's rmsle: 1.1177\tvalidation's l2: 680602\tvalidation's rmsle: 1.11754\n",
      "[655]\ttrain's l2: 675379\ttrain's rmsle: 1.11765\tvalidation's l2: 680578\tvalidation's rmsle: 1.1175\n",
      "[660]\ttrain's l2: 675324\ttrain's rmsle: 1.11761\tvalidation's l2: 680564\tvalidation's rmsle: 1.11748\n",
      "[665]\ttrain's l2: 675282\ttrain's rmsle: 1.11755\tvalidation's l2: 680549\tvalidation's rmsle: 1.11742\n",
      "[670]\ttrain's l2: 675238\ttrain's rmsle: 1.11752\tvalidation's l2: 680530\tvalidation's rmsle: 1.1174\n",
      "[675]\ttrain's l2: 675197\ttrain's rmsle: 1.11747\tvalidation's l2: 680519\tvalidation's rmsle: 1.11737\n",
      "[680]\ttrain's l2: 675145\ttrain's rmsle: 1.11741\tvalidation's l2: 680503\tvalidation's rmsle: 1.11733\n",
      "[685]\ttrain's l2: 675095\ttrain's rmsle: 1.11736\tvalidation's l2: 680486\tvalidation's rmsle: 1.11729\n",
      "[690]\ttrain's l2: 675052\ttrain's rmsle: 1.11735\tvalidation's l2: 680472\tvalidation's rmsle: 1.11729\n",
      "[695]\ttrain's l2: 675004\ttrain's rmsle: 1.11729\tvalidation's l2: 680451\tvalidation's rmsle: 1.11723\n",
      "[700]\ttrain's l2: 674942\ttrain's rmsle: 1.11722\tvalidation's l2: 680416\tvalidation's rmsle: 1.11717\n",
      "[705]\ttrain's l2: 674880\ttrain's rmsle: 1.11717\tvalidation's l2: 680383\tvalidation's rmsle: 1.11713\n",
      "[710]\ttrain's l2: 674834\ttrain's rmsle: 1.11712\tvalidation's l2: 680365\tvalidation's rmsle: 1.1171\n",
      "[715]\ttrain's l2: 674796\ttrain's rmsle: 1.1171\tvalidation's l2: 680340\tvalidation's rmsle: 1.11708\n",
      "[720]\ttrain's l2: 674740\ttrain's rmsle: 1.11706\tvalidation's l2: 680301\tvalidation's rmsle: 1.11705\n",
      "[725]\ttrain's l2: 674702\ttrain's rmsle: 1.11703\tvalidation's l2: 680282\tvalidation's rmsle: 1.11702\n",
      "[730]\ttrain's l2: 674664\ttrain's rmsle: 1.11696\tvalidation's l2: 680274\tvalidation's rmsle: 1.11697\n",
      "[735]\ttrain's l2: 674617\ttrain's rmsle: 1.11693\tvalidation's l2: 680250\tvalidation's rmsle: 1.11695\n",
      "[740]\ttrain's l2: 674561\ttrain's rmsle: 1.11692\tvalidation's l2: 680215\tvalidation's rmsle: 1.11694\n",
      "[745]\ttrain's l2: 674527\ttrain's rmsle: 1.11689\tvalidation's l2: 680208\tvalidation's rmsle: 1.11692\n",
      "[750]\ttrain's l2: 674474\ttrain's rmsle: 1.11685\tvalidation's l2: 680180\tvalidation's rmsle: 1.1169\n",
      "[755]\ttrain's l2: 674419\ttrain's rmsle: 1.11684\tvalidation's l2: 680152\tvalidation's rmsle: 1.11689\n",
      "[760]\ttrain's l2: 674363\ttrain's rmsle: 1.11681\tvalidation's l2: 680125\tvalidation's rmsle: 1.11687\n",
      "[765]\ttrain's l2: 674325\ttrain's rmsle: 1.11677\tvalidation's l2: 680118\tvalidation's rmsle: 1.11684\n",
      "[770]\ttrain's l2: 674273\ttrain's rmsle: 1.11673\tvalidation's l2: 680097\tvalidation's rmsle: 1.11681\n",
      "[775]\ttrain's l2: 674229\ttrain's rmsle: 1.11668\tvalidation's l2: 680077\tvalidation's rmsle: 1.11677\n",
      "[780]\ttrain's l2: 674201\ttrain's rmsle: 1.11667\tvalidation's l2: 680071\tvalidation's rmsle: 1.11677\n",
      "[785]\ttrain's l2: 674164\ttrain's rmsle: 1.11665\tvalidation's l2: 680072\tvalidation's rmsle: 1.11676\n",
      "[790]\ttrain's l2: 674136\ttrain's rmsle: 1.11662\tvalidation's l2: 680066\tvalidation's rmsle: 1.11674\n",
      "[795]\ttrain's l2: 674104\ttrain's rmsle: 1.11659\tvalidation's l2: 680048\tvalidation's rmsle: 1.11672\n",
      "[800]\ttrain's l2: 674056\ttrain's rmsle: 1.11658\tvalidation's l2: 680037\tvalidation's rmsle: 1.11672\n",
      "[805]\ttrain's l2: 674026\ttrain's rmsle: 1.11654\tvalidation's l2: 680025\tvalidation's rmsle: 1.11669\n",
      "[810]\ttrain's l2: 673986\ttrain's rmsle: 1.11652\tvalidation's l2: 680024\tvalidation's rmsle: 1.11668\n",
      "[815]\ttrain's l2: 673950\ttrain's rmsle: 1.1165\tvalidation's l2: 680002\tvalidation's rmsle: 1.11667\n",
      "[820]\ttrain's l2: 673922\ttrain's rmsle: 1.11648\tvalidation's l2: 680001\tvalidation's rmsle: 1.11667\n",
      "[825]\ttrain's l2: 673874\ttrain's rmsle: 1.11643\tvalidation's l2: 679969\tvalidation's rmsle: 1.11662\n",
      "[830]\ttrain's l2: 673822\ttrain's rmsle: 1.11641\tvalidation's l2: 679937\tvalidation's rmsle: 1.11661\n",
      "[835]\ttrain's l2: 673788\ttrain's rmsle: 1.1164\tvalidation's l2: 679916\tvalidation's rmsle: 1.1166\n",
      "[840]\ttrain's l2: 673741\ttrain's rmsle: 1.11638\tvalidation's l2: 679896\tvalidation's rmsle: 1.11658\n",
      "[845]\ttrain's l2: 673705\ttrain's rmsle: 1.11633\tvalidation's l2: 679877\tvalidation's rmsle: 1.11655\n",
      "[850]\ttrain's l2: 673661\ttrain's rmsle: 1.11629\tvalidation's l2: 679855\tvalidation's rmsle: 1.11651\n",
      "[855]\ttrain's l2: 673622\ttrain's rmsle: 1.11627\tvalidation's l2: 679841\tvalidation's rmsle: 1.1165\n",
      "[860]\ttrain's l2: 673600\ttrain's rmsle: 1.11624\tvalidation's l2: 679838\tvalidation's rmsle: 1.11648\n",
      "[865]\ttrain's l2: 673577\ttrain's rmsle: 1.11622\tvalidation's l2: 679838\tvalidation's rmsle: 1.11647\n",
      "[870]\ttrain's l2: 673525\ttrain's rmsle: 1.11616\tvalidation's l2: 679806\tvalidation's rmsle: 1.11642\n",
      "[875]\ttrain's l2: 673499\ttrain's rmsle: 1.11613\tvalidation's l2: 679803\tvalidation's rmsle: 1.1164\n",
      "[880]\ttrain's l2: 673469\ttrain's rmsle: 1.11612\tvalidation's l2: 679799\tvalidation's rmsle: 1.11639\n",
      "[885]\ttrain's l2: 673449\ttrain's rmsle: 1.11613\tvalidation's l2: 679799\tvalidation's rmsle: 1.11641\n",
      "Did not meet early stopping. Best iteration is:\n",
      "[886]\ttrain's l2: 673439\ttrain's rmsle: 1.11613\tvalidation's l2: 679792\tvalidation's rmsle: 1.11641\n"
     ]
    },
    {
     "name": "stderr",
     "output_type": "stream",
     "text": [
      "[I 2024-12-28 00:29:01,611] Trial 2 finished with value: 1.1164096659894351 and parameters: {'learning_rate': 0.007533201156436142, 'num_boost_round': 886, 'num_leaves': 27, 'max_depth': 82, 'feature_fraction': 0.5713766556958091, 'bagging_fraction': 0.6527230764485379, 'bagging_freq': 2, 'min_child_samples': 20, 'min_split_gain': 0.021617601689482464, 'min_child_weight': 7.66129522504821, 'lambda_l1': 5.457296403598397, 'lambda_l2': 1.923363399463856, 'cat_smooth': 17.247844437783225, 'max_bin': 59}. Best is trial 1 with value: 1.1160890081335644.\n"
     ]
    },
    {
     "name": "stdout",
     "output_type": "stream",
     "text": [
      "{'boosting_type': 'gbdt', 'objective': 'regression', 'learning_rate': 0.3577608225468077, 'num_boost_round': 350, 'num_leaves': 21, 'max_depth': 88, 'feature_fraction': 0.600203633712791, 'bagging_fraction': 0.6384446880557195, 'bagging_freq': 6, 'min_child_samples': 45, 'min_split_gain': 0.0338595799087486, 'min_child_weight': 5.046542029099089, 'lambda_l1': 6.2608292660943485, 'lambda_l2': 3.245825586286113, 'cat_smooth': 26.935499196219464, 'max_bin': 43, 'verbose': -1, 'random_state': 41}\n"
     ]
    },
    {
     "name": "stderr",
     "output_type": "stream",
     "text": [
      "d:\\Development\\insurance\\venv\\lib\\site-packages\\lightgbm\\engine.py:204: UserWarning: Found `num_boost_round` in params. Will use it instead of argument\n",
      "  _log_warning(f\"Found `{alias}` in params. Will use it instead of argument\")\n"
     ]
    },
    {
     "name": "stdout",
     "output_type": "stream",
     "text": [
      "Training until validation scores don't improve for 10 rounds\n",
      "[5]\ttrain's l2: 686434\ttrain's rmsle: 1.12645\tvalidation's l2: 687648\tvalidation's rmsle: 1.12494\n",
      "[10]\ttrain's l2: 680634\ttrain's rmsle: 1.11987\tvalidation's l2: 683041\tvalidation's rmsle: 1.11853\n",
      "[15]\ttrain's l2: 678404\ttrain's rmsle: 1.11867\tvalidation's l2: 681864\tvalidation's rmsle: 1.11774\n",
      "[20]\ttrain's l2: 677405\ttrain's rmsle: 1.11846\tvalidation's l2: 681562\tvalidation's rmsle: 1.11781\n"
     ]
    },
    {
     "name": "stderr",
     "output_type": "stream",
     "text": [
      "[I 2024-12-28 00:29:06,068] Trial 3 finished with value: 1.1177939850512415 and parameters: {'learning_rate': 0.3577608225468077, 'num_boost_round': 350, 'num_leaves': 21, 'max_depth': 88, 'feature_fraction': 0.600203633712791, 'bagging_fraction': 0.6384446880557195, 'bagging_freq': 6, 'min_child_samples': 45, 'min_split_gain': 0.0338595799087486, 'min_child_weight': 5.046542029099089, 'lambda_l1': 6.2608292660943485, 'lambda_l2': 3.245825586286113, 'cat_smooth': 26.935499196219464, 'max_bin': 43}. Best is trial 1 with value: 1.1160890081335644.\n"
     ]
    },
    {
     "name": "stdout",
     "output_type": "stream",
     "text": [
      "[25]\ttrain's l2: 676251\ttrain's rmsle: 1.11793\tvalidation's l2: 681536\tvalidation's rmsle: 1.11769\n",
      "Early stopping, best iteration is:\n",
      "[16]\ttrain's l2: 677957\ttrain's rmsle: 1.1187\tvalidation's l2: 681443\tvalidation's rmsle: 1.11779\n",
      "{'boosting_type': 'gbdt', 'objective': 'regression', 'learning_rate': 0.0032587207772158825, 'num_boost_round': 572, 'num_leaves': 97, 'max_depth': 108, 'feature_fraction': 0.5353638255882349, 'bagging_fraction': 0.7459568651732815, 'bagging_freq': 4, 'min_child_samples': 39, 'min_split_gain': 0.06858132755899596, 'min_child_weight': 4.541153726653868, 'lambda_l1': 6.771721230679404, 'lambda_l2': 8.214808850427291, 'cat_smooth': 21.58099627079601, 'max_bin': 250, 'verbose': -1, 'random_state': 41}\n"
     ]
    },
    {
     "name": "stderr",
     "output_type": "stream",
     "text": [
      "d:\\Development\\insurance\\venv\\lib\\site-packages\\lightgbm\\engine.py:204: UserWarning: Found `num_boost_round` in params. Will use it instead of argument\n",
      "  _log_warning(f\"Found `{alias}` in params. Will use it instead of argument\")\n"
     ]
    },
    {
     "name": "stdout",
     "output_type": "stream",
     "text": [
      "Training until validation scores don't improve for 10 rounds\n",
      "[5]\ttrain's l2: 746368\ttrain's rmsle: 1.17043\tvalidation's l2: 747778\tvalidation's rmsle: 1.16939\n",
      "[10]\ttrain's l2: 744594\ttrain's rmsle: 1.16971\tvalidation's l2: 746042\tvalidation's rmsle: 1.16868\n",
      "[15]\ttrain's l2: 743107\ttrain's rmsle: 1.16905\tvalidation's l2: 744595\tvalidation's rmsle: 1.16804\n",
      "[20]\ttrain's l2: 741469\ttrain's rmsle: 1.16835\tvalidation's l2: 742990\tvalidation's rmsle: 1.16734\n",
      "[25]\ttrain's l2: 739780\ttrain's rmsle: 1.16761\tvalidation's l2: 741337\tvalidation's rmsle: 1.16662\n",
      "[30]\ttrain's l2: 738080\ttrain's rmsle: 1.16685\tvalidation's l2: 739700\tvalidation's rmsle: 1.16588\n",
      "[35]\ttrain's l2: 736641\ttrain's rmsle: 1.16622\tvalidation's l2: 738339\tvalidation's rmsle: 1.16527\n",
      "[40]\ttrain's l2: 735051\ttrain's rmsle: 1.16548\tvalidation's l2: 736815\tvalidation's rmsle: 1.16456\n",
      "[45]\ttrain's l2: 733728\ttrain's rmsle: 1.1649\tvalidation's l2: 735533\tvalidation's rmsle: 1.16398\n",
      "[50]\ttrain's l2: 732310\ttrain's rmsle: 1.16425\tvalidation's l2: 734165\tvalidation's rmsle: 1.16336\n",
      "[55]\ttrain's l2: 731165\ttrain's rmsle: 1.1637\tvalidation's l2: 733086\tvalidation's rmsle: 1.16283\n",
      "[60]\ttrain's l2: 729866\ttrain's rmsle: 1.16305\tvalidation's l2: 731829\tvalidation's rmsle: 1.16219\n",
      "[65]\ttrain's l2: 728640\ttrain's rmsle: 1.16246\tvalidation's l2: 730640\tvalidation's rmsle: 1.16162\n",
      "[70]\ttrain's l2: 727324\ttrain's rmsle: 1.1618\tvalidation's l2: 729381\tvalidation's rmsle: 1.16098\n",
      "[75]\ttrain's l2: 726102\ttrain's rmsle: 1.1612\tvalidation's l2: 728216\tvalidation's rmsle: 1.1604\n",
      "[80]\ttrain's l2: 725010\ttrain's rmsle: 1.16066\tvalidation's l2: 727193\tvalidation's rmsle: 1.15988\n",
      "[85]\ttrain's l2: 723772\ttrain's rmsle: 1.16001\tvalidation's l2: 726040\tvalidation's rmsle: 1.15926\n",
      "[90]\ttrain's l2: 722522\ttrain's rmsle: 1.15936\tvalidation's l2: 724822\tvalidation's rmsle: 1.15862\n",
      "[95]\ttrain's l2: 721405\ttrain's rmsle: 1.15876\tvalidation's l2: 723771\tvalidation's rmsle: 1.15805\n",
      "[100]\ttrain's l2: 720116\ttrain's rmsle: 1.15809\tvalidation's l2: 722518\tvalidation's rmsle: 1.15739\n",
      "[105]\ttrain's l2: 719018\ttrain's rmsle: 1.15751\tvalidation's l2: 721486\tvalidation's rmsle: 1.15683\n",
      "[110]\ttrain's l2: 718112\ttrain's rmsle: 1.15702\tvalidation's l2: 720625\tvalidation's rmsle: 1.15635\n",
      "[115]\ttrain's l2: 717163\ttrain's rmsle: 1.15649\tvalidation's l2: 719697\tvalidation's rmsle: 1.15583\n",
      "[120]\ttrain's l2: 716285\ttrain's rmsle: 1.15601\tvalidation's l2: 718839\tvalidation's rmsle: 1.15535\n",
      "[125]\ttrain's l2: 715495\ttrain's rmsle: 1.15555\tvalidation's l2: 718090\tvalidation's rmsle: 1.15491\n",
      "[130]\ttrain's l2: 714699\ttrain's rmsle: 1.15509\tvalidation's l2: 717328\tvalidation's rmsle: 1.15446\n",
      "[135]\ttrain's l2: 714001\ttrain's rmsle: 1.15468\tvalidation's l2: 716675\tvalidation's rmsle: 1.15406\n",
      "[140]\ttrain's l2: 713086\ttrain's rmsle: 1.15414\tvalidation's l2: 715780\tvalidation's rmsle: 1.15353\n",
      "[145]\ttrain's l2: 712134\ttrain's rmsle: 1.15358\tvalidation's l2: 714903\tvalidation's rmsle: 1.153\n",
      "[150]\ttrain's l2: 711282\ttrain's rmsle: 1.15307\tvalidation's l2: 714088\tvalidation's rmsle: 1.1525\n",
      "[155]\ttrain's l2: 710374\ttrain's rmsle: 1.15252\tvalidation's l2: 713199\tvalidation's rmsle: 1.15196\n",
      "[160]\ttrain's l2: 709544\ttrain's rmsle: 1.15202\tvalidation's l2: 712424\tvalidation's rmsle: 1.15147\n",
      "[165]\ttrain's l2: 708653\ttrain's rmsle: 1.15147\tvalidation's l2: 711584\tvalidation's rmsle: 1.15094\n",
      "[170]\ttrain's l2: 707676\ttrain's rmsle: 1.15088\tvalidation's l2: 710642\tvalidation's rmsle: 1.15035\n",
      "[175]\ttrain's l2: 706889\ttrain's rmsle: 1.15039\tvalidation's l2: 709909\tvalidation's rmsle: 1.14988\n",
      "[180]\ttrain's l2: 706145\ttrain's rmsle: 1.1499\tvalidation's l2: 709209\tvalidation's rmsle: 1.14941\n",
      "[185]\ttrain's l2: 705353\ttrain's rmsle: 1.14938\tvalidation's l2: 708472\tvalidation's rmsle: 1.14891\n",
      "[190]\ttrain's l2: 704556\ttrain's rmsle: 1.14886\tvalidation's l2: 707727\tvalidation's rmsle: 1.1484\n",
      "[195]\ttrain's l2: 703884\ttrain's rmsle: 1.14843\tvalidation's l2: 707126\tvalidation's rmsle: 1.148\n",
      "[200]\ttrain's l2: 703365\ttrain's rmsle: 1.14808\tvalidation's l2: 706662\tvalidation's rmsle: 1.14767\n",
      "[205]\ttrain's l2: 702501\ttrain's rmsle: 1.1475\tvalidation's l2: 705815\tvalidation's rmsle: 1.14709\n",
      "[210]\ttrain's l2: 701790\ttrain's rmsle: 1.14702\tvalidation's l2: 705140\tvalidation's rmsle: 1.14662\n",
      "[215]\ttrain's l2: 701140\ttrain's rmsle: 1.14657\tvalidation's l2: 704555\tvalidation's rmsle: 1.1462\n",
      "[220]\ttrain's l2: 700544\ttrain's rmsle: 1.14617\tvalidation's l2: 704027\tvalidation's rmsle: 1.14581\n",
      "[225]\ttrain's l2: 699949\ttrain's rmsle: 1.14574\tvalidation's l2: 703497\tvalidation's rmsle: 1.14541\n",
      "[230]\ttrain's l2: 699366\ttrain's rmsle: 1.14533\tvalidation's l2: 702940\tvalidation's rmsle: 1.14501\n",
      "[235]\ttrain's l2: 698822\ttrain's rmsle: 1.14493\tvalidation's l2: 702434\tvalidation's rmsle: 1.14462\n",
      "[240]\ttrain's l2: 698162\ttrain's rmsle: 1.14443\tvalidation's l2: 701839\tvalidation's rmsle: 1.14415\n",
      "[245]\ttrain's l2: 697584\ttrain's rmsle: 1.14401\tvalidation's l2: 701318\tvalidation's rmsle: 1.14375\n",
      "[250]\ttrain's l2: 697095\ttrain's rmsle: 1.14364\tvalidation's l2: 700880\tvalidation's rmsle: 1.14339\n",
      "[255]\ttrain's l2: 696614\ttrain's rmsle: 1.14326\tvalidation's l2: 700453\tvalidation's rmsle: 1.14303\n",
      "[260]\ttrain's l2: 696029\ttrain's rmsle: 1.14281\tvalidation's l2: 699907\tvalidation's rmsle: 1.14259\n",
      "[265]\ttrain's l2: 695590\ttrain's rmsle: 1.14248\tvalidation's l2: 699494\tvalidation's rmsle: 1.14227\n",
      "[270]\ttrain's l2: 695181\ttrain's rmsle: 1.14214\tvalidation's l2: 699153\tvalidation's rmsle: 1.14195\n",
      "[275]\ttrain's l2: 694650\ttrain's rmsle: 1.14172\tvalidation's l2: 698646\tvalidation's rmsle: 1.14155\n",
      "[280]\ttrain's l2: 694176\ttrain's rmsle: 1.14135\tvalidation's l2: 698200\tvalidation's rmsle: 1.14118\n",
      "[285]\ttrain's l2: 693658\ttrain's rmsle: 1.14094\tvalidation's l2: 697702\tvalidation's rmsle: 1.14077\n",
      "[290]\ttrain's l2: 693250\ttrain's rmsle: 1.1406\tvalidation's l2: 697347\tvalidation's rmsle: 1.14045\n",
      "[295]\ttrain's l2: 692912\ttrain's rmsle: 1.14034\tvalidation's l2: 697077\tvalidation's rmsle: 1.14021\n",
      "[300]\ttrain's l2: 692399\ttrain's rmsle: 1.13993\tvalidation's l2: 696633\tvalidation's rmsle: 1.13983\n",
      "[305]\ttrain's l2: 691966\ttrain's rmsle: 1.13959\tvalidation's l2: 696233\tvalidation's rmsle: 1.1395\n",
      "[310]\ttrain's l2: 691484\ttrain's rmsle: 1.1392\tvalidation's l2: 695832\tvalidation's rmsle: 1.13914\n",
      "[315]\ttrain's l2: 691088\ttrain's rmsle: 1.13886\tvalidation's l2: 695478\tvalidation's rmsle: 1.13882\n",
      "[320]\ttrain's l2: 690706\ttrain's rmsle: 1.13853\tvalidation's l2: 695168\tvalidation's rmsle: 1.13852\n",
      "[325]\ttrain's l2: 690345\ttrain's rmsle: 1.13823\tvalidation's l2: 694868\tvalidation's rmsle: 1.13824\n",
      "[330]\ttrain's l2: 689894\ttrain's rmsle: 1.13786\tvalidation's l2: 694477\tvalidation's rmsle: 1.13789\n",
      "[335]\ttrain's l2: 689531\ttrain's rmsle: 1.13755\tvalidation's l2: 694180\tvalidation's rmsle: 1.1376\n",
      "[340]\ttrain's l2: 689132\ttrain's rmsle: 1.1372\tvalidation's l2: 693837\tvalidation's rmsle: 1.13727\n",
      "[345]\ttrain's l2: 688722\ttrain's rmsle: 1.13683\tvalidation's l2: 693482\tvalidation's rmsle: 1.13692\n",
      "[350]\ttrain's l2: 688388\ttrain's rmsle: 1.13653\tvalidation's l2: 693167\tvalidation's rmsle: 1.13662\n",
      "[355]\ttrain's l2: 688015\ttrain's rmsle: 1.13619\tvalidation's l2: 692872\tvalidation's rmsle: 1.13631\n",
      "[360]\ttrain's l2: 687605\ttrain's rmsle: 1.13582\tvalidation's l2: 692516\tvalidation's rmsle: 1.13597\n",
      "[365]\ttrain's l2: 687206\ttrain's rmsle: 1.13546\tvalidation's l2: 692168\tvalidation's rmsle: 1.13562\n",
      "[370]\ttrain's l2: 686817\ttrain's rmsle: 1.13512\tvalidation's l2: 691838\tvalidation's rmsle: 1.13531\n",
      "[375]\ttrain's l2: 686514\ttrain's rmsle: 1.13484\tvalidation's l2: 691593\tvalidation's rmsle: 1.13504\n",
      "[380]\ttrain's l2: 686218\ttrain's rmsle: 1.13456\tvalidation's l2: 691334\tvalidation's rmsle: 1.13477\n",
      "[385]\ttrain's l2: 685918\ttrain's rmsle: 1.13427\tvalidation's l2: 691095\tvalidation's rmsle: 1.13451\n",
      "[390]\ttrain's l2: 685595\ttrain's rmsle: 1.13398\tvalidation's l2: 690833\tvalidation's rmsle: 1.13424\n",
      "[395]\ttrain's l2: 685245\ttrain's rmsle: 1.13364\tvalidation's l2: 690520\tvalidation's rmsle: 1.13391\n",
      "[400]\ttrain's l2: 684875\ttrain's rmsle: 1.1333\tvalidation's l2: 690237\tvalidation's rmsle: 1.1336\n",
      "[405]\ttrain's l2: 684605\ttrain's rmsle: 1.13304\tvalidation's l2: 690031\tvalidation's rmsle: 1.13337\n",
      "[410]\ttrain's l2: 684282\ttrain's rmsle: 1.13272\tvalidation's l2: 689741\tvalidation's rmsle: 1.13307\n",
      "[415]\ttrain's l2: 683970\ttrain's rmsle: 1.13241\tvalidation's l2: 689495\tvalidation's rmsle: 1.13278\n",
      "[420]\ttrain's l2: 683672\ttrain's rmsle: 1.13211\tvalidation's l2: 689268\tvalidation's rmsle: 1.13251\n",
      "[425]\ttrain's l2: 683355\ttrain's rmsle: 1.13181\tvalidation's l2: 689007\tvalidation's rmsle: 1.13222\n",
      "[430]\ttrain's l2: 683036\ttrain's rmsle: 1.1315\tvalidation's l2: 688758\tvalidation's rmsle: 1.13194\n",
      "[435]\ttrain's l2: 682773\ttrain's rmsle: 1.13123\tvalidation's l2: 688520\tvalidation's rmsle: 1.13168\n",
      "[440]\ttrain's l2: 682574\ttrain's rmsle: 1.13103\tvalidation's l2: 688367\tvalidation's rmsle: 1.13149\n",
      "[445]\ttrain's l2: 682321\ttrain's rmsle: 1.13077\tvalidation's l2: 688189\tvalidation's rmsle: 1.13127\n",
      "[450]\ttrain's l2: 682053\ttrain's rmsle: 1.13051\tvalidation's l2: 687982\tvalidation's rmsle: 1.13103\n",
      "[455]\ttrain's l2: 681841\ttrain's rmsle: 1.13029\tvalidation's l2: 687828\tvalidation's rmsle: 1.13082\n",
      "[460]\ttrain's l2: 681578\ttrain's rmsle: 1.13001\tvalidation's l2: 687631\tvalidation's rmsle: 1.13058\n",
      "[465]\ttrain's l2: 681343\ttrain's rmsle: 1.12977\tvalidation's l2: 687448\tvalidation's rmsle: 1.13035\n",
      "[470]\ttrain's l2: 681101\ttrain's rmsle: 1.12952\tvalidation's l2: 687275\tvalidation's rmsle: 1.13013\n",
      "[475]\ttrain's l2: 680872\ttrain's rmsle: 1.12928\tvalidation's l2: 687103\tvalidation's rmsle: 1.12991\n",
      "[480]\ttrain's l2: 680672\ttrain's rmsle: 1.12907\tvalidation's l2: 686946\tvalidation's rmsle: 1.12972\n",
      "[485]\ttrain's l2: 680409\ttrain's rmsle: 1.12879\tvalidation's l2: 686748\tvalidation's rmsle: 1.12946\n",
      "[490]\ttrain's l2: 680216\ttrain's rmsle: 1.12859\tvalidation's l2: 686607\tvalidation's rmsle: 1.12928\n",
      "[495]\ttrain's l2: 679963\ttrain's rmsle: 1.12833\tvalidation's l2: 686406\tvalidation's rmsle: 1.12903\n",
      "[500]\ttrain's l2: 679748\ttrain's rmsle: 1.1281\tvalidation's l2: 686234\tvalidation's rmsle: 1.12882\n",
      "[505]\ttrain's l2: 679562\ttrain's rmsle: 1.1279\tvalidation's l2: 686097\tvalidation's rmsle: 1.12864\n",
      "[510]\ttrain's l2: 679407\ttrain's rmsle: 1.12774\tvalidation's l2: 685983\tvalidation's rmsle: 1.12849\n",
      "[515]\ttrain's l2: 679224\ttrain's rmsle: 1.12753\tvalidation's l2: 685853\tvalidation's rmsle: 1.12831\n",
      "[520]\ttrain's l2: 679031\ttrain's rmsle: 1.12732\tvalidation's l2: 685733\tvalidation's rmsle: 1.12812\n",
      "[525]\ttrain's l2: 678820\ttrain's rmsle: 1.12707\tvalidation's l2: 685545\tvalidation's rmsle: 1.12788\n",
      "[530]\ttrain's l2: 678615\ttrain's rmsle: 1.12684\tvalidation's l2: 685372\tvalidation's rmsle: 1.12766\n",
      "[535]\ttrain's l2: 678412\ttrain's rmsle: 1.12662\tvalidation's l2: 685234\tvalidation's rmsle: 1.12746\n",
      "[540]\ttrain's l2: 678225\ttrain's rmsle: 1.12641\tvalidation's l2: 685077\tvalidation's rmsle: 1.12726\n",
      "[545]\ttrain's l2: 678044\ttrain's rmsle: 1.12619\tvalidation's l2: 684932\tvalidation's rmsle: 1.12706\n",
      "[550]\ttrain's l2: 677900\ttrain's rmsle: 1.12605\tvalidation's l2: 684838\tvalidation's rmsle: 1.12694\n",
      "[555]\ttrain's l2: 677721\ttrain's rmsle: 1.12587\tvalidation's l2: 684715\tvalidation's rmsle: 1.12677\n",
      "[560]\ttrain's l2: 677498\ttrain's rmsle: 1.12562\tvalidation's l2: 684545\tvalidation's rmsle: 1.12655\n",
      "[565]\ttrain's l2: 677306\ttrain's rmsle: 1.1254\tvalidation's l2: 684376\tvalidation's rmsle: 1.12633\n",
      "[570]\ttrain's l2: 677154\ttrain's rmsle: 1.12523\tvalidation's l2: 684270\tvalidation's rmsle: 1.12618\n"
     ]
    },
    {
     "name": "stderr",
     "output_type": "stream",
     "text": [
      "[I 2024-12-28 00:30:10,887] Trial 4 finished with value: 1.126091365293488 and parameters: {'learning_rate': 0.0032587207772158825, 'num_boost_round': 572, 'num_leaves': 97, 'max_depth': 108, 'feature_fraction': 0.5353638255882349, 'bagging_fraction': 0.7459568651732815, 'bagging_freq': 4, 'min_child_samples': 39, 'min_split_gain': 0.06858132755899596, 'min_child_weight': 4.541153726653868, 'lambda_l1': 6.771721230679404, 'lambda_l2': 8.214808850427291, 'cat_smooth': 21.58099627079601, 'max_bin': 250}. Best is trial 1 with value: 1.1160890081335644.\n"
     ]
    },
    {
     "name": "stdout",
     "output_type": "stream",
     "text": [
      "Did not meet early stopping. Best iteration is:\n",
      "[572]\ttrain's l2: 677068\ttrain's rmsle: 1.12514\tvalidation's l2: 684203\tvalidation's rmsle: 1.12609\n",
      "{'boosting_type': 'gbdt', 'objective': 'regression', 'learning_rate': 0.2722758849918868, 'num_boost_round': 967, 'num_leaves': 131, 'max_depth': 149, 'feature_fraction': 0.6916993516209704, 'bagging_fraction': 0.7237393878073035, 'bagging_freq': 2, 'min_child_samples': 25, 'min_split_gain': 0.0870741960938074, 'min_child_weight': 1.7916995072681545, 'lambda_l1': 1.0796257698297669, 'lambda_l2': 5.072873818706901, 'cat_smooth': 21.368896127657013, 'max_bin': 54, 'verbose': -1, 'random_state': 41}\n"
     ]
    },
    {
     "name": "stderr",
     "output_type": "stream",
     "text": [
      "d:\\Development\\insurance\\venv\\lib\\site-packages\\lightgbm\\engine.py:204: UserWarning: Found `num_boost_round` in params. Will use it instead of argument\n",
      "  _log_warning(f\"Found `{alias}` in params. Will use it instead of argument\")\n"
     ]
    },
    {
     "name": "stdout",
     "output_type": "stream",
     "text": [
      "Training until validation scores don't improve for 10 rounds\n",
      "[5]\ttrain's l2: 678486\ttrain's rmsle: 1.12737\tvalidation's l2: 687584\tvalidation's rmsle: 1.12907\n",
      "[10]\ttrain's l2: 667934\ttrain's rmsle: 1.11418\tvalidation's l2: 681510\tvalidation's rmsle: 1.11761\n",
      "[15]\ttrain's l2: 664246\ttrain's rmsle: 1.11142\tvalidation's l2: 681595\tvalidation's rmsle: 1.11616\n",
      "[20]\ttrain's l2: 661519\ttrain's rmsle: 1.11004\tvalidation's l2: 681965\tvalidation's rmsle: 1.11603\n",
      "Early stopping, best iteration is:\n",
      "[11]\ttrain's l2: 667184\ttrain's rmsle: 1.1135\tvalidation's l2: 681391\tvalidation's rmsle: 1.11713\n"
     ]
    },
    {
     "name": "stderr",
     "output_type": "stream",
     "text": [
      "[I 2024-12-28 00:30:15,251] Trial 5 finished with value: 1.1171250682646894 and parameters: {'learning_rate': 0.2722758849918868, 'num_boost_round': 967, 'num_leaves': 131, 'max_depth': 149, 'feature_fraction': 0.6916993516209704, 'bagging_fraction': 0.7237393878073035, 'bagging_freq': 2, 'min_child_samples': 25, 'min_split_gain': 0.0870741960938074, 'min_child_weight': 1.7916995072681545, 'lambda_l1': 1.0796257698297669, 'lambda_l2': 5.072873818706901, 'cat_smooth': 21.368896127657013, 'max_bin': 54}. Best is trial 1 with value: 1.1160890081335644.\n"
     ]
    },
    {
     "name": "stdout",
     "output_type": "stream",
     "text": [
      "{'boosting_type': 'gbdt', 'objective': 'regression', 'learning_rate': 0.21970782475373904, 'num_boost_round': 772, 'num_leaves': 99, 'max_depth': 129, 'feature_fraction': 0.8073278971540103, 'bagging_fraction': 0.7370561523108643, 'bagging_freq': 2, 'min_child_samples': 42, 'min_split_gain': 0.07171129087324973, 'min_child_weight': 3.7338985598830225, 'lambda_l1': 5.932565333570608, 'lambda_l2': 9.06739653423386, 'cat_smooth': 16.26362908062035, 'max_bin': 64, 'verbose': -1, 'random_state': 41}\n"
     ]
    },
    {
     "name": "stderr",
     "output_type": "stream",
     "text": [
      "d:\\Development\\insurance\\venv\\lib\\site-packages\\lightgbm\\engine.py:204: UserWarning: Found `num_boost_round` in params. Will use it instead of argument\n",
      "  _log_warning(f\"Found `{alias}` in params. Will use it instead of argument\")\n"
     ]
    },
    {
     "name": "stdout",
     "output_type": "stream",
     "text": [
      "Training until validation scores don't improve for 10 rounds\n",
      "[5]\ttrain's l2: 684161\ttrain's rmsle: 1.13235\tvalidation's l2: 690650\tvalidation's rmsle: 1.13307\n",
      "[10]\ttrain's l2: 670962\ttrain's rmsle: 1.1168\tvalidation's l2: 682912\tvalidation's rmsle: 1.11957\n",
      "[15]\ttrain's l2: 666597\ttrain's rmsle: 1.1122\tvalidation's l2: 681671\tvalidation's rmsle: 1.11617\n",
      "[20]\ttrain's l2: 663850\ttrain's rmsle: 1.11053\tvalidation's l2: 681547\tvalidation's rmsle: 1.11547\n"
     ]
    },
    {
     "name": "stderr",
     "output_type": "stream",
     "text": [
      "[I 2024-12-28 00:30:20,229] Trial 6 finished with value: 1.115698980853633 and parameters: {'learning_rate': 0.21970782475373904, 'num_boost_round': 772, 'num_leaves': 99, 'max_depth': 129, 'feature_fraction': 0.8073278971540103, 'bagging_fraction': 0.7370561523108643, 'bagging_freq': 2, 'min_child_samples': 42, 'min_split_gain': 0.07171129087324973, 'min_child_weight': 3.7338985598830225, 'lambda_l1': 5.932565333570608, 'lambda_l2': 9.06739653423386, 'cat_smooth': 16.26362908062035, 'max_bin': 64}. Best is trial 6 with value: 1.115698980853633.\n"
     ]
    },
    {
     "name": "stdout",
     "output_type": "stream",
     "text": [
      "[25]\ttrain's l2: 661820\ttrain's rmsle: 1.10955\tvalidation's l2: 681759\tvalidation's rmsle: 1.11538\n",
      "Early stopping, best iteration is:\n",
      "[16]\ttrain's l2: 666060\ttrain's rmsle: 1.11158\tvalidation's l2: 681462\tvalidation's rmsle: 1.1157\n",
      "{'boosting_type': 'gbdt', 'objective': 'regression', 'learning_rate': 0.3847884288608889, 'num_boost_round': 387, 'num_leaves': 64, 'max_depth': 111, 'feature_fraction': 0.6528860985054015, 'bagging_fraction': 0.5835894305322249, 'bagging_freq': 7, 'min_child_samples': 7, 'min_split_gain': 0.0033563307239120204, 'min_child_weight': 7.702654140144724, 'lambda_l1': 9.920506492437122, 'lambda_l2': 7.263387112338862, 'cat_smooth': 24.824527270267556, 'max_bin': 64, 'verbose': -1, 'random_state': 41}\n"
     ]
    },
    {
     "name": "stderr",
     "output_type": "stream",
     "text": [
      "d:\\Development\\insurance\\venv\\lib\\site-packages\\lightgbm\\engine.py:204: UserWarning: Found `num_boost_round` in params. Will use it instead of argument\n",
      "  _log_warning(f\"Found `{alias}` in params. Will use it instead of argument\")\n"
     ]
    },
    {
     "name": "stdout",
     "output_type": "stream",
     "text": [
      "Training until validation scores don't improve for 10 rounds\n",
      "[5]\ttrain's l2: 678522\ttrain's rmsle: 1.12082\tvalidation's l2: 684605\tvalidation's rmsle: 1.12104\n",
      "[10]\ttrain's l2: 673107\ttrain's rmsle: 1.11596\tvalidation's l2: 682648\tvalidation's rmsle: 1.11749\n",
      "[15]\ttrain's l2: 671201\ttrain's rmsle: 1.11445\tvalidation's l2: 683086\tvalidation's rmsle: 1.11687\n"
     ]
    },
    {
     "name": "stderr",
     "output_type": "stream",
     "text": [
      "[I 2024-12-28 00:30:23,988] Trial 7 finished with value: 1.1175015394979082 and parameters: {'learning_rate': 0.3847884288608889, 'num_boost_round': 387, 'num_leaves': 64, 'max_depth': 111, 'feature_fraction': 0.6528860985054015, 'bagging_fraction': 0.5835894305322249, 'bagging_freq': 7, 'min_child_samples': 7, 'min_split_gain': 0.0033563307239120204, 'min_child_weight': 7.702654140144724, 'lambda_l1': 9.920506492437122, 'lambda_l2': 7.263387112338862, 'cat_smooth': 24.824527270267556, 'max_bin': 64}. Best is trial 6 with value: 1.115698980853633.\n"
     ]
    },
    {
     "name": "stdout",
     "output_type": "stream",
     "text": [
      "Early stopping, best iteration is:\n",
      "[9]\ttrain's l2: 673381\ttrain's rmsle: 1.11608\tvalidation's l2: 682617\tvalidation's rmsle: 1.1175\n",
      "{'boosting_type': 'gbdt', 'objective': 'regression', 'learning_rate': 0.03642241277941901, 'num_boost_round': 586, 'num_leaves': 103, 'max_depth': 142, 'feature_fraction': 0.8030175949101325, 'bagging_fraction': 0.6786364165600914, 'bagging_freq': 7, 'min_child_samples': 28, 'min_split_gain': 0.028627768930565383, 'min_child_weight': 1.6829797523900303, 'lambda_l1': 6.015793287977021, 'lambda_l2': 5.354234662394096, 'cat_smooth': 25.043297214265124, 'max_bin': 230, 'verbose': -1, 'random_state': 41}\n"
     ]
    },
    {
     "name": "stderr",
     "output_type": "stream",
     "text": [
      "d:\\Development\\insurance\\venv\\lib\\site-packages\\lightgbm\\engine.py:204: UserWarning: Found `num_boost_round` in params. Will use it instead of argument\n",
      "  _log_warning(f\"Found `{alias}` in params. Will use it instead of argument\")\n"
     ]
    },
    {
     "name": "stdout",
     "output_type": "stream",
     "text": [
      "Training until validation scores don't improve for 10 rounds\n",
      "[5]\ttrain's l2: 728697\ttrain's rmsle: 1.16279\tvalidation's l2: 730712\tvalidation's rmsle: 1.16196\n",
      "[10]\ttrain's l2: 713484\ttrain's rmsle: 1.15483\tvalidation's l2: 716249\tvalidation's rmsle: 1.15425\n",
      "[15]\ttrain's l2: 702595\ttrain's rmsle: 1.14805\tvalidation's l2: 706078\tvalidation's rmsle: 1.1477\n",
      "[20]\ttrain's l2: 694400\ttrain's rmsle: 1.14193\tvalidation's l2: 698558\tvalidation's rmsle: 1.1418\n",
      "[25]\ttrain's l2: 688291\ttrain's rmsle: 1.13691\tvalidation's l2: 693077\tvalidation's rmsle: 1.13695\n",
      "[30]\ttrain's l2: 683873\ttrain's rmsle: 1.13249\tvalidation's l2: 689351\tvalidation's rmsle: 1.13278\n",
      "[35]\ttrain's l2: 680626\ttrain's rmsle: 1.12874\tvalidation's l2: 686887\tvalidation's rmsle: 1.12932\n",
      "[40]\ttrain's l2: 678110\ttrain's rmsle: 1.12577\tvalidation's l2: 685168\tvalidation's rmsle: 1.12663\n",
      "[45]\ttrain's l2: 676150\ttrain's rmsle: 1.12333\tvalidation's l2: 683858\tvalidation's rmsle: 1.12441\n",
      "[50]\ttrain's l2: 674483\ttrain's rmsle: 1.1214\tvalidation's l2: 682877\tvalidation's rmsle: 1.12273\n",
      "[55]\ttrain's l2: 673165\ttrain's rmsle: 1.11996\tvalidation's l2: 682337\tvalidation's rmsle: 1.1216\n",
      "[60]\ttrain's l2: 671955\ttrain's rmsle: 1.11837\tvalidation's l2: 681786\tvalidation's rmsle: 1.12027\n",
      "[65]\ttrain's l2: 670818\ttrain's rmsle: 1.11725\tvalidation's l2: 681171\tvalidation's rmsle: 1.11934\n",
      "[70]\ttrain's l2: 669916\ttrain's rmsle: 1.11636\tvalidation's l2: 680794\tvalidation's rmsle: 1.11863\n",
      "[75]\ttrain's l2: 669089\ttrain's rmsle: 1.11556\tvalidation's l2: 680530\tvalidation's rmsle: 1.11804\n",
      "[80]\ttrain's l2: 668324\ttrain's rmsle: 1.11501\tvalidation's l2: 680329\tvalidation's rmsle: 1.1177\n",
      "[85]\ttrain's l2: 667693\ttrain's rmsle: 1.11438\tvalidation's l2: 680262\tvalidation's rmsle: 1.11729\n",
      "[90]\ttrain's l2: 667042\ttrain's rmsle: 1.11368\tvalidation's l2: 680075\tvalidation's rmsle: 1.11677\n",
      "[95]\ttrain's l2: 666485\ttrain's rmsle: 1.11317\tvalidation's l2: 680038\tvalidation's rmsle: 1.11645\n",
      "[100]\ttrain's l2: 665868\ttrain's rmsle: 1.11259\tvalidation's l2: 679915\tvalidation's rmsle: 1.11609\n",
      "[105]\ttrain's l2: 665359\ttrain's rmsle: 1.11214\tvalidation's l2: 679877\tvalidation's rmsle: 1.11582\n",
      "[110]\ttrain's l2: 664892\ttrain's rmsle: 1.11186\tvalidation's l2: 679860\tvalidation's rmsle: 1.11573\n",
      "[115]\ttrain's l2: 664231\ttrain's rmsle: 1.11141\tvalidation's l2: 679620\tvalidation's rmsle: 1.11544\n",
      "[120]\ttrain's l2: 663721\ttrain's rmsle: 1.11114\tvalidation's l2: 679565\tvalidation's rmsle: 1.11535\n",
      "[125]\ttrain's l2: 663275\ttrain's rmsle: 1.11072\tvalidation's l2: 679535\tvalidation's rmsle: 1.11509\n",
      "[130]\ttrain's l2: 662853\ttrain's rmsle: 1.11052\tvalidation's l2: 679509\tvalidation's rmsle: 1.11505\n",
      "[135]\ttrain's l2: 662393\ttrain's rmsle: 1.11038\tvalidation's l2: 679468\tvalidation's rmsle: 1.11508\n"
     ]
    },
    {
     "name": "stderr",
     "output_type": "stream",
     "text": [
      "[I 2024-12-28 00:30:40,547] Trial 8 finished with value: 1.1150382736270519 and parameters: {'learning_rate': 0.03642241277941901, 'num_boost_round': 586, 'num_leaves': 103, 'max_depth': 142, 'feature_fraction': 0.8030175949101325, 'bagging_fraction': 0.6786364165600914, 'bagging_freq': 7, 'min_child_samples': 28, 'min_split_gain': 0.028627768930565383, 'min_child_weight': 1.6829797523900303, 'lambda_l1': 6.015793287977021, 'lambda_l2': 5.354234662394096, 'cat_smooth': 25.043297214265124, 'max_bin': 230}. Best is trial 8 with value: 1.1150382736270519.\n"
     ]
    },
    {
     "name": "stdout",
     "output_type": "stream",
     "text": [
      "Early stopping, best iteration is:\n",
      "[128]\ttrain's l2: 663038\ttrain's rmsle: 1.11057\tvalidation's l2: 679526\tvalidation's rmsle: 1.11504\n",
      "{'boosting_type': 'gbdt', 'objective': 'regression', 'learning_rate': 0.08802100958738901, 'num_boost_round': 687, 'num_leaves': 21, 'max_depth': 161, 'feature_fraction': 0.6860426418271233, 'bagging_fraction': 0.7415161673126662, 'bagging_freq': 1, 'min_child_samples': 7, 'min_split_gain': 0.03917925161306169, 'min_child_weight': 0.8434543723389931, 'lambda_l1': 1.5599527768380388, 'lambda_l2': 3.113567338032554, 'cat_smooth': 10.32000303267549, 'max_bin': 65, 'verbose': -1, 'random_state': 41}\n"
     ]
    },
    {
     "name": "stderr",
     "output_type": "stream",
     "text": [
      "d:\\Development\\insurance\\venv\\lib\\site-packages\\lightgbm\\engine.py:204: UserWarning: Found `num_boost_round` in params. Will use it instead of argument\n",
      "  _log_warning(f\"Found `{alias}` in params. Will use it instead of argument\")\n"
     ]
    },
    {
     "name": "stdout",
     "output_type": "stream",
     "text": [
      "Training until validation scores don't improve for 10 rounds\n",
      "[5]\ttrain's l2: 715901\ttrain's rmsle: 1.15445\tvalidation's l2: 716946\tvalidation's rmsle: 1.1532\n",
      "[10]\ttrain's l2: 701775\ttrain's rmsle: 1.14381\tvalidation's l2: 702819\tvalidation's rmsle: 1.14246\n",
      "[15]\ttrain's l2: 693394\ttrain's rmsle: 1.13609\tvalidation's l2: 694870\tvalidation's rmsle: 1.13483\n",
      "[20]\ttrain's l2: 687948\ttrain's rmsle: 1.13039\tvalidation's l2: 689892\tvalidation's rmsle: 1.12921\n",
      "[25]\ttrain's l2: 683911\ttrain's rmsle: 1.12565\tvalidation's l2: 686335\tvalidation's rmsle: 1.12454\n",
      "[30]\ttrain's l2: 681677\ttrain's rmsle: 1.12251\tvalidation's l2: 684521\tvalidation's rmsle: 1.12147\n",
      "[35]\ttrain's l2: 680397\ttrain's rmsle: 1.12083\tvalidation's l2: 683772\tvalidation's rmsle: 1.11995\n",
      "[40]\ttrain's l2: 678805\ttrain's rmsle: 1.1198\tvalidation's l2: 682570\tvalidation's rmsle: 1.11901\n",
      "[45]\ttrain's l2: 677909\ttrain's rmsle: 1.1191\tvalidation's l2: 682100\tvalidation's rmsle: 1.11848\n",
      "[50]\ttrain's l2: 677161\ttrain's rmsle: 1.1181\tvalidation's l2: 681731\tvalidation's rmsle: 1.11763\n",
      "[55]\ttrain's l2: 676473\ttrain's rmsle: 1.11745\tvalidation's l2: 681451\tvalidation's rmsle: 1.11713\n",
      "[60]\ttrain's l2: 675796\ttrain's rmsle: 1.11708\tvalidation's l2: 681113\tvalidation's rmsle: 1.11688\n",
      "[65]\ttrain's l2: 675263\ttrain's rmsle: 1.11694\tvalidation's l2: 680884\tvalidation's rmsle: 1.11687\n",
      "[70]\ttrain's l2: 674801\ttrain's rmsle: 1.1167\tvalidation's l2: 680659\tvalidation's rmsle: 1.11671\n",
      "[75]\ttrain's l2: 674442\ttrain's rmsle: 1.11655\tvalidation's l2: 680537\tvalidation's rmsle: 1.11664\n",
      "[80]\ttrain's l2: 674100\ttrain's rmsle: 1.11648\tvalidation's l2: 680480\tvalidation's rmsle: 1.11669\n",
      "[85]\ttrain's l2: 673822\ttrain's rmsle: 1.11644\tvalidation's l2: 680498\tvalidation's rmsle: 1.11675\n"
     ]
    },
    {
     "name": "stderr",
     "output_type": "stream",
     "text": [
      "[I 2024-12-28 00:30:50,188] Trial 9 finished with value: 1.1165794221725078 and parameters: {'learning_rate': 0.08802100958738901, 'num_boost_round': 687, 'num_leaves': 21, 'max_depth': 161, 'feature_fraction': 0.6860426418271233, 'bagging_fraction': 0.7415161673126662, 'bagging_freq': 1, 'min_child_samples': 7, 'min_split_gain': 0.03917925161306169, 'min_child_weight': 0.8434543723389931, 'lambda_l1': 1.5599527768380388, 'lambda_l2': 3.113567338032554, 'cat_smooth': 10.32000303267549, 'max_bin': 65}. Best is trial 8 with value: 1.1150382736270519.\n"
     ]
    },
    {
     "name": "stdout",
     "output_type": "stream",
     "text": [
      "Early stopping, best iteration is:\n",
      "[79]\ttrain's l2: 674198\ttrain's rmsle: 1.11638\tvalidation's l2: 680550\tvalidation's rmsle: 1.11658\n",
      "{'boosting_type': 'gbdt', 'objective': 'regression', 'learning_rate': 0.15894432068215425, 'num_boost_round': 101, 'num_leaves': 151, 'max_depth': 29, 'feature_fraction': 0.9860842073188215, 'bagging_fraction': 0.5107983772195953, 'bagging_freq': 4, 'min_child_samples': 34, 'min_split_gain': 0.009764863851844309, 'min_child_weight': 2.519323867028522, 'lambda_l1': 3.612556462823661, 'lambda_l2': 0.7503889140836071, 'cat_smooth': 29.73227154894445, 'max_bin': 174, 'verbose': -1, 'random_state': 41}\n"
     ]
    },
    {
     "name": "stderr",
     "output_type": "stream",
     "text": [
      "d:\\Development\\insurance\\venv\\lib\\site-packages\\lightgbm\\engine.py:204: UserWarning: Found `num_boost_round` in params. Will use it instead of argument\n",
      "  _log_warning(f\"Found `{alias}` in params. Will use it instead of argument\")\n"
     ]
    },
    {
     "name": "stdout",
     "output_type": "stream",
     "text": [
      "Training until validation scores don't improve for 10 rounds\n",
      "[5]\ttrain's l2: 688427\ttrain's rmsle: 1.13698\tvalidation's l2: 693345\tvalidation's rmsle: 1.13711\n",
      "[10]\ttrain's l2: 675239\ttrain's rmsle: 1.12193\tvalidation's l2: 684116\tvalidation's rmsle: 1.12344\n",
      "[15]\ttrain's l2: 670400\ttrain's rmsle: 1.11535\tvalidation's l2: 682652\tvalidation's rmsle: 1.11808\n",
      "[20]\ttrain's l2: 667584\ttrain's rmsle: 1.112\tvalidation's l2: 682545\tvalidation's rmsle: 1.11578\n",
      "[25]\ttrain's l2: 664901\ttrain's rmsle: 1.11095\tvalidation's l2: 682441\tvalidation's rmsle: 1.11571\n",
      "[30]\ttrain's l2: 662902\ttrain's rmsle: 1.10998\tvalidation's l2: 682821\tvalidation's rmsle: 1.11565\n"
     ]
    },
    {
     "name": "stderr",
     "output_type": "stream",
     "text": [
      "[I 2024-12-28 00:30:55,816] Trial 10 finished with value: 1.1157379005186685 and parameters: {'learning_rate': 0.15894432068215425, 'num_boost_round': 101, 'num_leaves': 151, 'max_depth': 29, 'feature_fraction': 0.9860842073188215, 'bagging_fraction': 0.5107983772195953, 'bagging_freq': 4, 'min_child_samples': 34, 'min_split_gain': 0.009764863851844309, 'min_child_weight': 2.519323867028522, 'lambda_l1': 3.612556462823661, 'lambda_l2': 0.7503889140836071, 'cat_smooth': 29.73227154894445, 'max_bin': 174}. Best is trial 8 with value: 1.1150382736270519.\n"
     ]
    },
    {
     "name": "stdout",
     "output_type": "stream",
     "text": [
      "Early stopping, best iteration is:\n",
      "[24]\ttrain's l2: 665461\ttrain's rmsle: 1.11123\tvalidation's l2: 682440\tvalidation's rmsle: 1.11574\n",
      "{'boosting_type': 'gbdt', 'objective': 'regression', 'learning_rate': 0.4969556421195087, 'num_boost_round': 764, 'num_leaves': 111, 'max_depth': 175, 'feature_fraction': 0.8019625231385136, 'bagging_fraction': 0.8688720518040147, 'bagging_freq': 5, 'min_child_samples': 50, 'min_split_gain': 0.060840144523583634, 'min_child_weight': 2.780914987012964, 'lambda_l1': 7.790168332447765, 'lambda_l2': 9.69663417893281, 'cat_smooth': 14.651937625889921, 'max_bin': 128, 'verbose': -1, 'random_state': 41}\n"
     ]
    },
    {
     "name": "stderr",
     "output_type": "stream",
     "text": [
      "d:\\Development\\insurance\\venv\\lib\\site-packages\\lightgbm\\engine.py:204: UserWarning: Found `num_boost_round` in params. Will use it instead of argument\n",
      "  _log_warning(f\"Found `{alias}` in params. Will use it instead of argument\")\n"
     ]
    },
    {
     "name": "stdout",
     "output_type": "stream",
     "text": [
      "Training until validation scores don't improve for 10 rounds\n",
      "[5]\ttrain's l2: 668079\ttrain's rmsle: 1.11396\tvalidation's l2: 683486\tvalidation's rmsle: 1.11797\n",
      "[10]\ttrain's l2: 660030\ttrain's rmsle: 1.10853\tvalidation's l2: 684638\tvalidation's rmsle: 1.11615\n"
     ]
    },
    {
     "name": "stderr",
     "output_type": "stream",
     "text": [
      "[I 2024-12-28 00:30:59,764] Trial 11 finished with value: 1.1164783655203252 and parameters: {'learning_rate': 0.4969556421195087, 'num_boost_round': 764, 'num_leaves': 111, 'max_depth': 175, 'feature_fraction': 0.8019625231385136, 'bagging_fraction': 0.8688720518040147, 'bagging_freq': 5, 'min_child_samples': 50, 'min_split_gain': 0.060840144523583634, 'min_child_weight': 2.780914987012964, 'lambda_l1': 7.790168332447765, 'lambda_l2': 9.69663417893281, 'cat_smooth': 14.651937625889921, 'max_bin': 128}. Best is trial 8 with value: 1.1150382736270519.\n"
     ]
    },
    {
     "name": "stdout",
     "output_type": "stream",
     "text": [
      "[15]\ttrain's l2: 656254\ttrain's rmsle: 1.10739\tvalidation's l2: 685571\tvalidation's rmsle: 1.11662\n",
      "Early stopping, best iteration is:\n",
      "[6]\ttrain's l2: 666130\ttrain's rmsle: 1.11182\tvalidation's l2: 683422\tvalidation's rmsle: 1.11648\n",
      "{'boosting_type': 'gbdt', 'objective': 'regression', 'learning_rate': 0.16418938674866226, 'num_boost_round': 767, 'num_leaves': 71, 'max_depth': 139, 'feature_fraction': 0.7734896634060101, 'bagging_fraction': 0.8451729335940676, 'bagging_freq': 3, 'min_child_samples': 33, 'min_split_gain': 0.09895536911162367, 'min_child_weight': 0.0718918399180768, 'lambda_l1': 3.8121951159835086, 'lambda_l2': 9.897783745722302, 'cat_smooth': 11.921841354943112, 'max_bin': 120, 'verbose': -1, 'random_state': 41}\n"
     ]
    },
    {
     "name": "stderr",
     "output_type": "stream",
     "text": [
      "d:\\Development\\insurance\\venv\\lib\\site-packages\\lightgbm\\engine.py:204: UserWarning: Found `num_boost_round` in params. Will use it instead of argument\n",
      "  _log_warning(f\"Found `{alias}` in params. Will use it instead of argument\")\n"
     ]
    },
    {
     "name": "stdout",
     "output_type": "stream",
     "text": [
      "Training until validation scores don't improve for 10 rounds\n",
      "[5]\ttrain's l2: 692728\ttrain's rmsle: 1.14034\tvalidation's l2: 696955\tvalidation's rmsle: 1.14016\n",
      "[10]\ttrain's l2: 676421\ttrain's rmsle: 1.12425\tvalidation's l2: 684424\tvalidation's rmsle: 1.12539\n",
      "[15]\ttrain's l2: 670910\ttrain's rmsle: 1.11684\tvalidation's l2: 681450\tvalidation's rmsle: 1.1189\n",
      "[20]\ttrain's l2: 667598\ttrain's rmsle: 1.11338\tvalidation's l2: 680165\tvalidation's rmsle: 1.11628\n",
      "[25]\ttrain's l2: 665132\ttrain's rmsle: 1.11132\tvalidation's l2: 679557\tvalidation's rmsle: 1.11503\n",
      "[30]\ttrain's l2: 663588\ttrain's rmsle: 1.11063\tvalidation's l2: 679597\tvalidation's rmsle: 1.11496\n",
      "[35]\ttrain's l2: 662071\ttrain's rmsle: 1.10998\tvalidation's l2: 679779\tvalidation's rmsle: 1.11495\n"
     ]
    },
    {
     "name": "stderr",
     "output_type": "stream",
     "text": [
      "[I 2024-12-28 00:31:05,910] Trial 12 finished with value: 1.1149082476430416 and parameters: {'learning_rate': 0.16418938674866226, 'num_boost_round': 767, 'num_leaves': 71, 'max_depth': 139, 'feature_fraction': 0.7734896634060101, 'bagging_fraction': 0.8451729335940676, 'bagging_freq': 3, 'min_child_samples': 33, 'min_split_gain': 0.09895536911162367, 'min_child_weight': 0.0718918399180768, 'lambda_l1': 3.8121951159835086, 'lambda_l2': 9.897783745722302, 'cat_smooth': 11.921841354943112, 'max_bin': 120}. Best is trial 12 with value: 1.1149082476430416.\n"
     ]
    },
    {
     "name": "stdout",
     "output_type": "stream",
     "text": [
      "Early stopping, best iteration is:\n",
      "[27]\ttrain's l2: 664510\ttrain's rmsle: 1.11098\tvalidation's l2: 679514\tvalidation's rmsle: 1.11491\n",
      "{'boosting_type': 'gbdt', 'objective': 'regression', 'learning_rate': 0.1097721897078071, 'num_boost_round': 593, 'num_leaves': 65, 'max_depth': 49, 'feature_fraction': 0.7510718001257539, 'bagging_fraction': 0.8420135771722769, 'bagging_freq': 3, 'min_child_samples': 30, 'min_split_gain': 0.09974959378422239, 'min_child_weight': 0.18566343823205844, 'lambda_l1': 3.5634003636451115, 'lambda_l2': 6.43893285262965, 'cat_smooth': 6.783299856675775, 'max_bin': 131, 'verbose': -1, 'random_state': 41}\n"
     ]
    },
    {
     "name": "stderr",
     "output_type": "stream",
     "text": [
      "d:\\Development\\insurance\\venv\\lib\\site-packages\\lightgbm\\engine.py:204: UserWarning: Found `num_boost_round` in params. Will use it instead of argument\n",
      "  _log_warning(f\"Found `{alias}` in params. Will use it instead of argument\")\n"
     ]
    },
    {
     "name": "stdout",
     "output_type": "stream",
     "text": [
      "Training until validation scores don't improve for 10 rounds\n",
      "[5]\ttrain's l2: 704749\ttrain's rmsle: 1.14885\tvalidation's l2: 707978\tvalidation's rmsle: 1.14836\n",
      "[10]\ttrain's l2: 685310\ttrain's rmsle: 1.13337\tvalidation's l2: 690413\tvalidation's rmsle: 1.13346\n",
      "[15]\ttrain's l2: 677616\ttrain's rmsle: 1.12432\tvalidation's l2: 683596\tvalidation's rmsle: 1.12466\n",
      "[20]\ttrain's l2: 673704\ttrain's rmsle: 1.11919\tvalidation's l2: 681418\tvalidation's rmsle: 1.12015\n",
      "[25]\ttrain's l2: 670478\ttrain's rmsle: 1.11602\tvalidation's l2: 679972\tvalidation's rmsle: 1.11766\n",
      "[30]\ttrain's l2: 668414\ttrain's rmsle: 1.11395\tvalidation's l2: 679358\tvalidation's rmsle: 1.11621\n",
      "[35]\ttrain's l2: 666963\ttrain's rmsle: 1.11276\tvalidation's l2: 679325\tvalidation's rmsle: 1.11558\n",
      "[40]\ttrain's l2: 665644\ttrain's rmsle: 1.11157\tvalidation's l2: 679369\tvalidation's rmsle: 1.11495\n",
      "[45]\ttrain's l2: 664575\ttrain's rmsle: 1.11098\tvalidation's l2: 679191\tvalidation's rmsle: 1.11468\n",
      "[50]\ttrain's l2: 663813\ttrain's rmsle: 1.1106\tvalidation's l2: 679232\tvalidation's rmsle: 1.1146\n"
     ]
    },
    {
     "name": "stderr",
     "output_type": "stream",
     "text": [
      "[I 2024-12-28 00:31:13,798] Trial 13 finished with value: 1.1147285337682835 and parameters: {'learning_rate': 0.1097721897078071, 'num_boost_round': 593, 'num_leaves': 65, 'max_depth': 49, 'feature_fraction': 0.7510718001257539, 'bagging_fraction': 0.8420135771722769, 'bagging_freq': 3, 'min_child_samples': 30, 'min_split_gain': 0.09974959378422239, 'min_child_weight': 0.18566343823205844, 'lambda_l1': 3.5634003636451115, 'lambda_l2': 6.43893285262965, 'cat_smooth': 6.783299856675775, 'max_bin': 131}. Best is trial 13 with value: 1.1147285337682835.\n"
     ]
    },
    {
     "name": "stdout",
     "output_type": "stream",
     "text": [
      "Early stopping, best iteration is:\n",
      "[43]\ttrain's l2: 665034\ttrain's rmsle: 1.11122\tvalidation's l2: 679131\tvalidation's rmsle: 1.11473\n",
      "{'boosting_type': 'gbdt', 'objective': 'regression', 'learning_rate': 0.13239398298918412, 'num_boost_round': 842, 'num_leaves': 60, 'max_depth': 48, 'feature_fraction': 0.7594120593820956, 'bagging_fraction': 0.8404722032925888, 'bagging_freq': 3, 'min_child_samples': 33, 'min_split_gain': 0.09898708685955337, 'min_child_weight': 0.08944034534185848, 'lambda_l1': 3.2256933806982895, 'lambda_l2': 7.0225317560594664, 'cat_smooth': 5.135965596035679, 'max_bin': 126, 'verbose': -1, 'random_state': 41}\n"
     ]
    },
    {
     "name": "stderr",
     "output_type": "stream",
     "text": [
      "d:\\Development\\insurance\\venv\\lib\\site-packages\\lightgbm\\engine.py:204: UserWarning: Found `num_boost_round` in params. Will use it instead of argument\n",
      "  _log_warning(f\"Found `{alias}` in params. Will use it instead of argument\")\n"
     ]
    },
    {
     "name": "stdout",
     "output_type": "stream",
     "text": [
      "Training until validation scores don't improve for 10 rounds\n",
      "[5]\ttrain's l2: 699464\ttrain's rmsle: 1.14531\tvalidation's l2: 702721\tvalidation's rmsle: 1.14479\n",
      "[10]\ttrain's l2: 681982\ttrain's rmsle: 1.12929\tvalidation's l2: 687892\tvalidation's rmsle: 1.1296\n",
      "[15]\ttrain's l2: 675383\ttrain's rmsle: 1.12078\tvalidation's l2: 682408\tvalidation's rmsle: 1.12142\n",
      "[20]\ttrain's l2: 671599\ttrain's rmsle: 1.11681\tvalidation's l2: 680402\tvalidation's rmsle: 1.11809\n",
      "[25]\ttrain's l2: 668963\ttrain's rmsle: 1.1139\tvalidation's l2: 679535\tvalidation's rmsle: 1.11595\n",
      "[30]\ttrain's l2: 667110\ttrain's rmsle: 1.11223\tvalidation's l2: 679144\tvalidation's rmsle: 1.11492\n",
      "[35]\ttrain's l2: 665750\ttrain's rmsle: 1.1116\tvalidation's l2: 679273\tvalidation's rmsle: 1.11486\n"
     ]
    },
    {
     "name": "stderr",
     "output_type": "stream",
     "text": [
      "[I 2024-12-28 00:31:19,943] Trial 14 finished with value: 1.1153391382005102 and parameters: {'learning_rate': 0.13239398298918412, 'num_boost_round': 842, 'num_leaves': 60, 'max_depth': 48, 'feature_fraction': 0.7594120593820956, 'bagging_fraction': 0.8404722032925888, 'bagging_freq': 3, 'min_child_samples': 33, 'min_split_gain': 0.09898708685955337, 'min_child_weight': 0.08944034534185848, 'lambda_l1': 3.2256933806982895, 'lambda_l2': 7.0225317560594664, 'cat_smooth': 5.135965596035679, 'max_bin': 126}. Best is trial 13 with value: 1.1147285337682835.\n"
     ]
    },
    {
     "name": "stdout",
     "output_type": "stream",
     "text": [
      "Early stopping, best iteration is:\n",
      "[27]\ttrain's l2: 668073\ttrain's rmsle: 1.1131\tvalidation's l2: 679123\tvalidation's rmsle: 1.11534\n",
      "{'boosting_type': 'gbdt', 'objective': 'regression', 'learning_rate': 0.19603204372576868, 'num_boost_round': 680, 'num_leaves': 47, 'max_depth': 0, 'feature_fraction': 0.9072114814871156, 'bagging_fraction': 0.8262498195470745, 'bagging_freq': 3, 'min_child_samples': 31, 'min_split_gain': 0.09970780529564112, 'min_child_weight': 0.18255685297017887, 'lambda_l1': 3.590245647695241, 'lambda_l2': 8.345567276350208, 'cat_smooth': 8.379013459641735, 'max_bin': 160, 'verbose': -1, 'random_state': 41}\n"
     ]
    },
    {
     "name": "stderr",
     "output_type": "stream",
     "text": [
      "d:\\Development\\insurance\\venv\\lib\\site-packages\\lightgbm\\engine.py:204: UserWarning: Found `num_boost_round` in params. Will use it instead of argument\n",
      "  _log_warning(f\"Found `{alias}` in params. Will use it instead of argument\")\n"
     ]
    },
    {
     "name": "stdout",
     "output_type": "stream",
     "text": [
      "Training until validation scores don't improve for 10 rounds\n",
      "[5]\ttrain's l2: 689231\ttrain's rmsle: 1.13469\tvalidation's l2: 692699\tvalidation's rmsle: 1.13411\n",
      "[10]\ttrain's l2: 677582\ttrain's rmsle: 1.12124\tvalidation's l2: 684146\tvalidation's rmsle: 1.12166\n",
      "[15]\ttrain's l2: 673028\ttrain's rmsle: 1.11571\tvalidation's l2: 681900\tvalidation's rmsle: 1.11698\n",
      "[20]\ttrain's l2: 670167\ttrain's rmsle: 1.11399\tvalidation's l2: 681407\tvalidation's rmsle: 1.11617\n",
      "[25]\ttrain's l2: 667937\ttrain's rmsle: 1.11283\tvalidation's l2: 681104\tvalidation's rmsle: 1.1158\n",
      "[30]\ttrain's l2: 666736\ttrain's rmsle: 1.11228\tvalidation's l2: 681283\tvalidation's rmsle: 1.11577\n"
     ]
    },
    {
     "name": "stderr",
     "output_type": "stream",
     "text": [
      "[I 2024-12-28 00:31:25,660] Trial 15 finished with value: 1.115795306088162 and parameters: {'learning_rate': 0.19603204372576868, 'num_boost_round': 680, 'num_leaves': 47, 'max_depth': 0, 'feature_fraction': 0.9072114814871156, 'bagging_fraction': 0.8262498195470745, 'bagging_freq': 3, 'min_child_samples': 31, 'min_split_gain': 0.09970780529564112, 'min_child_weight': 0.18255685297017887, 'lambda_l1': 3.590245647695241, 'lambda_l2': 8.345567276350208, 'cat_smooth': 8.379013459641735, 'max_bin': 160}. Best is trial 13 with value: 1.1147285337682835.\n"
     ]
    },
    {
     "name": "stdout",
     "output_type": "stream",
     "text": [
      "[35]\ttrain's l2: 665724\ttrain's rmsle: 1.11189\tvalidation's l2: 681413\tvalidation's rmsle: 1.11581\n",
      "Early stopping, best iteration is:\n",
      "[25]\ttrain's l2: 667937\ttrain's rmsle: 1.11283\tvalidation's l2: 681104\tvalidation's rmsle: 1.1158\n",
      "{'boosting_type': 'gbdt', 'objective': 'regression', 'learning_rate': 0.09356686296010583, 'num_boost_round': 447, 'num_leaves': 73, 'max_depth': 62, 'feature_fraction': 0.712237224774079, 'bagging_fraction': 0.950510447149952, 'bagging_freq': 3, 'min_child_samples': 38, 'min_split_gain': 0.08294210937334713, 'min_child_weight': 1.5599556735398599, 'lambda_l1': 2.6103972645318727, 'lambda_l2': 9.74790529031353, 'cat_smooth': 12.275398538863055, 'max_bin': 97, 'verbose': -1, 'random_state': 41}\n"
     ]
    },
    {
     "name": "stderr",
     "output_type": "stream",
     "text": [
      "d:\\Development\\insurance\\venv\\lib\\site-packages\\lightgbm\\engine.py:204: UserWarning: Found `num_boost_round` in params. Will use it instead of argument\n",
      "  _log_warning(f\"Found `{alias}` in params. Will use it instead of argument\")\n"
     ]
    },
    {
     "name": "stdout",
     "output_type": "stream",
     "text": [
      "Training until validation scores don't improve for 10 rounds\n",
      "[5]\ttrain's l2: 709110\ttrain's rmsle: 1.1518\tvalidation's l2: 712175\tvalidation's rmsle: 1.15131\n",
      "[10]\ttrain's l2: 689410\ttrain's rmsle: 1.1373\tvalidation's l2: 693875\tvalidation's rmsle: 1.13721\n",
      "[15]\ttrain's l2: 680590\ttrain's rmsle: 1.12778\tvalidation's l2: 685967\tvalidation's rmsle: 1.12795\n",
      "[20]\ttrain's l2: 675518\ttrain's rmsle: 1.12196\tvalidation's l2: 682686\tvalidation's rmsle: 1.12276\n",
      "[25]\ttrain's l2: 672238\ttrain's rmsle: 1.11791\tvalidation's l2: 681065\tvalidation's rmsle: 1.11933\n",
      "[30]\ttrain's l2: 669860\ttrain's rmsle: 1.11555\tvalidation's l2: 680216\tvalidation's rmsle: 1.11754\n",
      "[35]\ttrain's l2: 668109\ttrain's rmsle: 1.11409\tvalidation's l2: 679921\tvalidation's rmsle: 1.11664\n",
      "[40]\ttrain's l2: 666610\ttrain's rmsle: 1.11251\tvalidation's l2: 679873\tvalidation's rmsle: 1.11568\n",
      "[45]\ttrain's l2: 665500\ttrain's rmsle: 1.11184\tvalidation's l2: 679730\tvalidation's rmsle: 1.11535\n",
      "[50]\ttrain's l2: 664429\ttrain's rmsle: 1.11122\tvalidation's l2: 679772\tvalidation's rmsle: 1.11516\n"
     ]
    },
    {
     "name": "stderr",
     "output_type": "stream",
     "text": [
      "[I 2024-12-28 00:31:33,984] Trial 16 finished with value: 1.1152702424170555 and parameters: {'learning_rate': 0.09356686296010583, 'num_boost_round': 447, 'num_leaves': 73, 'max_depth': 62, 'feature_fraction': 0.712237224774079, 'bagging_fraction': 0.950510447149952, 'bagging_freq': 3, 'min_child_samples': 38, 'min_split_gain': 0.08294210937334713, 'min_child_weight': 1.5599556735398599, 'lambda_l1': 2.6103972645318727, 'lambda_l2': 9.74790529031353, 'cat_smooth': 12.275398538863055, 'max_bin': 97}. Best is trial 13 with value: 1.1147285337682835.\n"
     ]
    },
    {
     "name": "stdout",
     "output_type": "stream",
     "text": [
      "[55]\ttrain's l2: 663428\ttrain's rmsle: 1.1106\tvalidation's l2: 679858\tvalidation's rmsle: 1.11497\n",
      "Early stopping, best iteration is:\n",
      "[46]\ttrain's l2: 665328\ttrain's rmsle: 1.1117\tvalidation's l2: 679692\tvalidation's rmsle: 1.11527\n",
      "{'boosting_type': 'gbdt', 'objective': 'regression', 'learning_rate': 0.09884985018742165, 'num_boost_round': 987, 'num_leaves': 3, 'max_depth': 23, 'feature_fraction': 0.8661212006641967, 'bagging_fraction': 0.8201005235966817, 'bagging_freq': 1, 'min_child_samples': 23, 'min_split_gain': 0.08659029442701709, 'min_child_weight': 6.439562174780518, 'lambda_l1': 4.874003240504003, 'lambda_l2': 3.46714798214244, 'cat_smooth': 6.280541534060662, 'max_bin': 7, 'verbose': -1, 'random_state': 41}\n"
     ]
    },
    {
     "name": "stderr",
     "output_type": "stream",
     "text": [
      "d:\\Development\\insurance\\venv\\lib\\site-packages\\lightgbm\\engine.py:204: UserWarning: Found `num_boost_round` in params. Will use it instead of argument\n",
      "  _log_warning(f\"Found `{alias}` in params. Will use it instead of argument\")\n"
     ]
    },
    {
     "name": "stdout",
     "output_type": "stream",
     "text": [
      "Training until validation scores don't improve for 10 rounds\n",
      "[5]\ttrain's l2: 728437\ttrain's rmsle: 1.1603\tvalidation's l2: 729198\tvalidation's rmsle: 1.15888\n",
      "[10]\ttrain's l2: 717670\ttrain's rmsle: 1.15179\tvalidation's l2: 717948\tvalidation's rmsle: 1.15006\n",
      "[15]\ttrain's l2: 712735\ttrain's rmsle: 1.14626\tvalidation's l2: 712680\tvalidation's rmsle: 1.14429\n",
      "[20]\ttrain's l2: 710180\ttrain's rmsle: 1.14292\tvalidation's l2: 709981\tvalidation's rmsle: 1.14083\n",
      "[25]\ttrain's l2: 708683\ttrain's rmsle: 1.1409\tvalidation's l2: 708387\tvalidation's rmsle: 1.13875\n",
      "[30]\ttrain's l2: 707688\ttrain's rmsle: 1.13985\tvalidation's l2: 707280\tvalidation's rmsle: 1.13763\n",
      "[35]\ttrain's l2: 706917\ttrain's rmsle: 1.13912\tvalidation's l2: 706460\tvalidation's rmsle: 1.13686\n",
      "[40]\ttrain's l2: 706299\ttrain's rmsle: 1.13848\tvalidation's l2: 705811\tvalidation's rmsle: 1.1362\n",
      "[45]\ttrain's l2: 705897\ttrain's rmsle: 1.13755\tvalidation's l2: 705419\tvalidation's rmsle: 1.13525\n",
      "[50]\ttrain's l2: 705697\ttrain's rmsle: 1.13742\tvalidation's l2: 705261\tvalidation's rmsle: 1.13513\n",
      "[55]\ttrain's l2: 705545\ttrain's rmsle: 1.13719\tvalidation's l2: 705152\tvalidation's rmsle: 1.1349\n",
      "[60]\ttrain's l2: 705349\ttrain's rmsle: 1.13717\tvalidation's l2: 705014\tvalidation's rmsle: 1.13489\n",
      "[65]\ttrain's l2: 705207\ttrain's rmsle: 1.13692\tvalidation's l2: 704937\tvalidation's rmsle: 1.13466\n",
      "[70]\ttrain's l2: 705008\ttrain's rmsle: 1.13655\tvalidation's l2: 704768\tvalidation's rmsle: 1.13429\n",
      "[75]\ttrain's l2: 704940\ttrain's rmsle: 1.13657\tvalidation's l2: 704752\tvalidation's rmsle: 1.13432\n",
      "[80]\ttrain's l2: 704841\ttrain's rmsle: 1.13633\tvalidation's l2: 704679\tvalidation's rmsle: 1.13409\n",
      "[85]\ttrain's l2: 704800\ttrain's rmsle: 1.13636\tvalidation's l2: 704674\tvalidation's rmsle: 1.13414\n",
      "[90]\ttrain's l2: 704680\ttrain's rmsle: 1.13622\tvalidation's l2: 704579\tvalidation's rmsle: 1.134\n",
      "[95]\ttrain's l2: 704654\ttrain's rmsle: 1.13613\tvalidation's l2: 704595\tvalidation's rmsle: 1.13392\n",
      "[100]\ttrain's l2: 704553\ttrain's rmsle: 1.13605\tvalidation's l2: 704510\tvalidation's rmsle: 1.13384\n",
      "[105]\ttrain's l2: 704530\ttrain's rmsle: 1.13601\tvalidation's l2: 704506\tvalidation's rmsle: 1.1338\n",
      "[110]\ttrain's l2: 704496\ttrain's rmsle: 1.13597\tvalidation's l2: 704494\tvalidation's rmsle: 1.13377\n",
      "[115]\ttrain's l2: 704398\ttrain's rmsle: 1.13591\tvalidation's l2: 704419\tvalidation's rmsle: 1.13373\n",
      "[120]\ttrain's l2: 704379\ttrain's rmsle: 1.13584\tvalidation's l2: 704421\tvalidation's rmsle: 1.13366\n",
      "[125]\ttrain's l2: 704365\ttrain's rmsle: 1.13586\tvalidation's l2: 704416\tvalidation's rmsle: 1.13369\n"
     ]
    },
    {
     "name": "stderr",
     "output_type": "stream",
     "text": [
      "[I 2024-12-28 00:31:45,666] Trial 17 finished with value: 1.1336495490205032 and parameters: {'learning_rate': 0.09884985018742165, 'num_boost_round': 987, 'num_leaves': 3, 'max_depth': 23, 'feature_fraction': 0.8661212006641967, 'bagging_fraction': 0.8201005235966817, 'bagging_freq': 1, 'min_child_samples': 23, 'min_split_gain': 0.08659029442701709, 'min_child_weight': 6.439562174780518, 'lambda_l1': 4.874003240504003, 'lambda_l2': 3.46714798214244, 'cat_smooth': 6.280541534060662, 'max_bin': 7}. Best is trial 13 with value: 1.1147285337682835.\n"
     ]
    },
    {
     "name": "stdout",
     "output_type": "stream",
     "text": [
      "Early stopping, best iteration is:\n",
      "[118]\ttrain's l2: 704387\ttrain's rmsle: 1.13583\tvalidation's l2: 704418\tvalidation's rmsle: 1.13365\n",
      "{'boosting_type': 'gbdt', 'objective': 'regression', 'learning_rate': 0.16282758405870396, 'num_boost_round': 667, 'num_leaves': 81, 'max_depth': 73, 'feature_fraction': 0.762261958917259, 'bagging_fraction': 0.9257220689785032, 'bagging_freq': 4, 'min_child_samples': 14, 'min_split_gain': 0.05174795699449361, 'min_child_weight': 3.1322243434957073, 'lambda_l1': 0.0011043009055295983, 'lambda_l2': 6.361149711059409, 'cat_smooth': 12.063057215473956, 'max_bin': 170, 'verbose': -1, 'random_state': 41}\n"
     ]
    },
    {
     "name": "stderr",
     "output_type": "stream",
     "text": [
      "d:\\Development\\insurance\\venv\\lib\\site-packages\\lightgbm\\engine.py:204: UserWarning: Found `num_boost_round` in params. Will use it instead of argument\n",
      "  _log_warning(f\"Found `{alias}` in params. Will use it instead of argument\")\n"
     ]
    },
    {
     "name": "stdout",
     "output_type": "stream",
     "text": [
      "Training until validation scores don't improve for 10 rounds\n",
      "[5]\ttrain's l2: 692254\ttrain's rmsle: 1.13978\tvalidation's l2: 697006\tvalidation's rmsle: 1.1399\n",
      "[10]\ttrain's l2: 675379\ttrain's rmsle: 1.12348\tvalidation's l2: 684231\tvalidation's rmsle: 1.12507\n",
      "[15]\ttrain's l2: 669591\ttrain's rmsle: 1.1161\tvalidation's l2: 680375\tvalidation's rmsle: 1.11836\n",
      "[20]\ttrain's l2: 666172\ttrain's rmsle: 1.11278\tvalidation's l2: 679599\tvalidation's rmsle: 1.11604\n",
      "[25]\ttrain's l2: 663680\ttrain's rmsle: 1.11113\tvalidation's l2: 679543\tvalidation's rmsle: 1.11533\n",
      "[30]\ttrain's l2: 662132\ttrain's rmsle: 1.11009\tvalidation's l2: 679506\tvalidation's rmsle: 1.11492\n",
      "[35]\ttrain's l2: 660475\ttrain's rmsle: 1.1093\tvalidation's l2: 679645\tvalidation's rmsle: 1.11488\n"
     ]
    },
    {
     "name": "stderr",
     "output_type": "stream",
     "text": [
      "[I 2024-12-28 00:31:52,004] Trial 18 finished with value: 1.1150068303578187 and parameters: {'learning_rate': 0.16282758405870396, 'num_boost_round': 667, 'num_leaves': 81, 'max_depth': 73, 'feature_fraction': 0.762261958917259, 'bagging_fraction': 0.9257220689785032, 'bagging_freq': 4, 'min_child_samples': 14, 'min_split_gain': 0.05174795699449361, 'min_child_weight': 3.1322243434957073, 'lambda_l1': 0.0011043009055295983, 'lambda_l2': 6.361149711059409, 'cat_smooth': 12.063057215473956, 'max_bin': 170}. Best is trial 13 with value: 1.1147285337682835.\n"
     ]
    },
    {
     "name": "stdout",
     "output_type": "stream",
     "text": [
      "Early stopping, best iteration is:\n",
      "[27]\ttrain's l2: 662968\ttrain's rmsle: 1.11058\tvalidation's l2: 679402\tvalidation's rmsle: 1.11501\n",
      "{'boosting_type': 'gbdt', 'objective': 'regression', 'learning_rate': 0.23282765479854445, 'num_boost_round': 478, 'num_leaves': 44, 'max_depth': 33, 'feature_fraction': 0.6406866638464703, 'bagging_fraction': 0.8166288103976367, 'bagging_freq': 5, 'min_child_samples': 29, 'min_split_gain': 0.07708179318718958, 'min_child_weight': 1.045182702824288, 'lambda_l1': 4.398492621115406, 'lambda_l2': 8.201207159174382, 'cat_smooth': 8.378110912114755, 'max_bin': 108, 'verbose': -1, 'random_state': 41}\n"
     ]
    },
    {
     "name": "stderr",
     "output_type": "stream",
     "text": [
      "d:\\Development\\insurance\\venv\\lib\\site-packages\\lightgbm\\engine.py:204: UserWarning: Found `num_boost_round` in params. Will use it instead of argument\n",
      "  _log_warning(f\"Found `{alias}` in params. Will use it instead of argument\")\n"
     ]
    },
    {
     "name": "stdout",
     "output_type": "stream",
     "text": [
      "Training until validation scores don't improve for 10 rounds\n",
      "[5]\ttrain's l2: 687370\ttrain's rmsle: 1.13343\tvalidation's l2: 691147\tvalidation's rmsle: 1.13302\n",
      "[10]\ttrain's l2: 675975\ttrain's rmsle: 1.11951\tvalidation's l2: 681720\tvalidation's rmsle: 1.11965\n",
      "[15]\ttrain's l2: 672969\ttrain's rmsle: 1.11543\tvalidation's l2: 680289\tvalidation's rmsle: 1.11611\n",
      "[20]\ttrain's l2: 670736\ttrain's rmsle: 1.11354\tvalidation's l2: 679711\tvalidation's rmsle: 1.11486\n",
      "[25]\ttrain's l2: 669320\ttrain's rmsle: 1.11276\tvalidation's l2: 679622\tvalidation's rmsle: 1.11454\n",
      "[30]\ttrain's l2: 668042\ttrain's rmsle: 1.11246\tvalidation's l2: 679433\tvalidation's rmsle: 1.11465\n"
     ]
    },
    {
     "name": "stderr",
     "output_type": "stream",
     "text": [
      "[I 2024-12-28 00:31:57,607] Trial 19 finished with value: 1.1145387309414605 and parameters: {'learning_rate': 0.23282765479854445, 'num_boost_round': 478, 'num_leaves': 44, 'max_depth': 33, 'feature_fraction': 0.6406866638464703, 'bagging_fraction': 0.8166288103976367, 'bagging_freq': 5, 'min_child_samples': 29, 'min_split_gain': 0.07708179318718958, 'min_child_weight': 1.045182702824288, 'lambda_l1': 4.398492621115406, 'lambda_l2': 8.201207159174382, 'cat_smooth': 8.378110912114755, 'max_bin': 108}. Best is trial 19 with value: 1.1145387309414605.\n"
     ]
    },
    {
     "name": "stdout",
     "output_type": "stream",
     "text": [
      "[35]\ttrain's l2: 667239\ttrain's rmsle: 1.11213\tvalidation's l2: 679685\tvalidation's rmsle: 1.11475\n",
      "Early stopping, best iteration is:\n",
      "[25]\ttrain's l2: 669320\ttrain's rmsle: 1.11276\tvalidation's l2: 679622\tvalidation's rmsle: 1.11454\n",
      "{'boosting_type': 'gbdt', 'objective': 'regression', 'learning_rate': 0.3163166075179644, 'num_boost_round': 472, 'num_leaves': 46, 'max_depth': 43, 'feature_fraction': 0.6215768296136557, 'bagging_fraction': 0.7942138664212252, 'bagging_freq': 5, 'min_child_samples': 27, 'min_split_gain': 0.07944781539243104, 'min_child_weight': 1.1188942639073463, 'lambda_l1': 4.372513238120421, 'lambda_l2': 7.92422314550616, 'cat_smooth': 9.200333176713638, 'max_bin': 95, 'verbose': -1, 'random_state': 41}\n"
     ]
    },
    {
     "name": "stderr",
     "output_type": "stream",
     "text": [
      "d:\\Development\\insurance\\venv\\lib\\site-packages\\lightgbm\\engine.py:204: UserWarning: Found `num_boost_round` in params. Will use it instead of argument\n",
      "  _log_warning(f\"Found `{alias}` in params. Will use it instead of argument\")\n"
     ]
    },
    {
     "name": "stdout",
     "output_type": "stream",
     "text": [
      "Training until validation scores don't improve for 10 rounds\n",
      "[5]\ttrain's l2: 681133\ttrain's rmsle: 1.12526\tvalidation's l2: 686165\tvalidation's rmsle: 1.12512\n",
      "[10]\ttrain's l2: 673262\ttrain's rmsle: 1.11601\tvalidation's l2: 680232\tvalidation's rmsle: 1.11656\n",
      "[15]\ttrain's l2: 670774\ttrain's rmsle: 1.11411\tvalidation's l2: 679336\tvalidation's rmsle: 1.11522\n",
      "[20]\ttrain's l2: 669149\ttrain's rmsle: 1.11333\tvalidation's l2: 679381\tvalidation's rmsle: 1.11509\n"
     ]
    },
    {
     "name": "stderr",
     "output_type": "stream",
     "text": [
      "[I 2024-12-28 00:32:02,355] Trial 20 finished with value: 1.1152656656309055 and parameters: {'learning_rate': 0.3163166075179644, 'num_boost_round': 472, 'num_leaves': 46, 'max_depth': 43, 'feature_fraction': 0.6215768296136557, 'bagging_fraction': 0.7942138664212252, 'bagging_freq': 5, 'min_child_samples': 27, 'min_split_gain': 0.07944781539243104, 'min_child_weight': 1.1188942639073463, 'lambda_l1': 4.372513238120421, 'lambda_l2': 7.92422314550616, 'cat_smooth': 9.200333176713638, 'max_bin': 95}. Best is trial 19 with value: 1.1145387309414605.\n"
     ]
    },
    {
     "name": "stdout",
     "output_type": "stream",
     "text": [
      "[25]\ttrain's l2: 668206\ttrain's rmsle: 1.11276\tvalidation's l2: 679494\tvalidation's rmsle: 1.11491\n",
      "Early stopping, best iteration is:\n",
      "[16]\ttrain's l2: 670358\ttrain's rmsle: 1.11405\tvalidation's l2: 679119\tvalidation's rmsle: 1.11527\n",
      "{'boosting_type': 'gbdt', 'objective': 'regression', 'learning_rate': 0.217915023788639, 'num_boost_round': 615, 'num_leaves': 41, 'max_depth': 12, 'feature_fraction': 0.7335301968308606, 'bagging_fraction': 0.9003461507545184, 'bagging_freq': 5, 'min_child_samples': 36, 'min_split_gain': 0.09290158329916726, 'min_child_weight': 0.003182999146175647, 'lambda_l1': 2.381576584060677, 'lambda_l2': 8.930350866270377, 'cat_smooth': 7.275816717604796, 'max_bin': 146, 'verbose': -1, 'random_state': 41}\n"
     ]
    },
    {
     "name": "stderr",
     "output_type": "stream",
     "text": [
      "d:\\Development\\insurance\\venv\\lib\\site-packages\\lightgbm\\engine.py:204: UserWarning: Found `num_boost_round` in params. Will use it instead of argument\n",
      "  _log_warning(f\"Found `{alias}` in params. Will use it instead of argument\")\n"
     ]
    },
    {
     "name": "stdout",
     "output_type": "stream",
     "text": [
      "Training until validation scores don't improve for 10 rounds\n",
      "[5]\ttrain's l2: 689078\ttrain's rmsle: 1.13478\tvalidation's l2: 692216\tvalidation's rmsle: 1.13416\n",
      "[10]\ttrain's l2: 676927\ttrain's rmsle: 1.12081\tvalidation's l2: 681953\tvalidation's rmsle: 1.1207\n",
      "[15]\ttrain's l2: 673085\ttrain's rmsle: 1.11627\tvalidation's l2: 679463\tvalidation's rmsle: 1.11658\n",
      "[20]\ttrain's l2: 670961\ttrain's rmsle: 1.11451\tvalidation's l2: 679121\tvalidation's rmsle: 1.11551\n",
      "[25]\ttrain's l2: 669326\ttrain's rmsle: 1.11356\tvalidation's l2: 679159\tvalidation's rmsle: 1.1152\n",
      "Early stopping, best iteration is:\n",
      "[17]\ttrain's l2: 672153\ttrain's rmsle: 1.11538\tvalidation's l2: 678984\tvalidation's rmsle: 1.11585\n"
     ]
    },
    {
     "name": "stderr",
     "output_type": "stream",
     "text": [
      "[I 2024-12-28 00:32:07,146] Trial 21 finished with value: 1.1158492030724327 and parameters: {'learning_rate': 0.217915023788639, 'num_boost_round': 615, 'num_leaves': 41, 'max_depth': 12, 'feature_fraction': 0.7335301968308606, 'bagging_fraction': 0.9003461507545184, 'bagging_freq': 5, 'min_child_samples': 36, 'min_split_gain': 0.09290158329916726, 'min_child_weight': 0.003182999146175647, 'lambda_l1': 2.381576584060677, 'lambda_l2': 8.930350866270377, 'cat_smooth': 7.275816717604796, 'max_bin': 146}. Best is trial 19 with value: 1.1145387309414605.\n"
     ]
    },
    {
     "name": "stdout",
     "output_type": "stream",
     "text": [
      "{'boosting_type': 'gbdt', 'objective': 'regression', 'learning_rate': 0.17962475252987353, 'num_boost_round': 506, 'num_leaves': 82, 'max_depth': 54, 'feature_fraction': 0.6385094492489802, 'bagging_fraction': 0.8055429010946844, 'bagging_freq': 3, 'min_child_samples': 31, 'min_split_gain': 0.07576409513134605, 'min_child_weight': 0.7600247925490164, 'lambda_l1': 4.309821441788806, 'lambda_l2': 5.938144339976924, 'cat_smooth': 11.735942274635212, 'max_bin': 105, 'verbose': -1, 'random_state': 41}\n"
     ]
    },
    {
     "name": "stderr",
     "output_type": "stream",
     "text": [
      "d:\\Development\\insurance\\venv\\lib\\site-packages\\lightgbm\\engine.py:204: UserWarning: Found `num_boost_round` in params. Will use it instead of argument\n",
      "  _log_warning(f\"Found `{alias}` in params. Will use it instead of argument\")\n"
     ]
    },
    {
     "name": "stdout",
     "output_type": "stream",
     "text": [
      "Training until validation scores don't improve for 10 rounds\n",
      "[5]\ttrain's l2: 690379\ttrain's rmsle: 1.1379\tvalidation's l2: 696006\tvalidation's rmsle: 1.13832\n",
      "[10]\ttrain's l2: 674632\ttrain's rmsle: 1.12174\tvalidation's l2: 682919\tvalidation's rmsle: 1.12309\n",
      "[15]\ttrain's l2: 669866\ttrain's rmsle: 1.11551\tvalidation's l2: 680137\tvalidation's rmsle: 1.11755\n",
      "[20]\ttrain's l2: 666964\ttrain's rmsle: 1.11313\tvalidation's l2: 679744\tvalidation's rmsle: 1.11614\n",
      "[25]\ttrain's l2: 665050\ttrain's rmsle: 1.11162\tvalidation's l2: 679592\tvalidation's rmsle: 1.11536\n",
      "[30]\ttrain's l2: 663293\ttrain's rmsle: 1.11093\tvalidation's l2: 679608\tvalidation's rmsle: 1.1153\n",
      "[35]\ttrain's l2: 661921\ttrain's rmsle: 1.11023\tvalidation's l2: 679533\tvalidation's rmsle: 1.1151\n",
      "[40]\ttrain's l2: 660836\ttrain's rmsle: 1.10962\tvalidation's l2: 679707\tvalidation's rmsle: 1.115\n"
     ]
    },
    {
     "name": "stderr",
     "output_type": "stream",
     "text": [
      "[I 2024-12-28 00:32:13,584] Trial 22 finished with value: 1.1151134027542566 and parameters: {'learning_rate': 0.17962475252987353, 'num_boost_round': 506, 'num_leaves': 82, 'max_depth': 54, 'feature_fraction': 0.6385094492489802, 'bagging_fraction': 0.8055429010946844, 'bagging_freq': 3, 'min_child_samples': 31, 'min_split_gain': 0.07576409513134605, 'min_child_weight': 0.7600247925490164, 'lambda_l1': 4.309821441788806, 'lambda_l2': 5.938144339976924, 'cat_smooth': 11.735942274635212, 'max_bin': 105}. Best is trial 19 with value: 1.1145387309414605.\n"
     ]
    },
    {
     "name": "stdout",
     "output_type": "stream",
     "text": [
      "Early stopping, best iteration is:\n",
      "[32]\ttrain's l2: 662602\ttrain's rmsle: 1.11054\tvalidation's l2: 679441\tvalidation's rmsle: 1.11511\n",
      "{'boosting_type': 'gbdt', 'objective': 'regression', 'learning_rate': 0.24413334420586177, 'num_boost_round': 289, 'num_leaves': 52, 'max_depth': 36, 'feature_fraction': 0.6674231156778634, 'bagging_fraction': 0.782818030194383, 'bagging_freq': 5, 'min_child_samples': 29, 'min_split_gain': 0.06413535437098464, 'min_child_weight': 2.0967536739169628, 'lambda_l1': 7.291227557771168, 'lambda_l2': 7.618851586478897, 'cat_smooth': 13.679424722302475, 'max_bin': 202, 'verbose': -1, 'random_state': 41}\n"
     ]
    },
    {
     "name": "stderr",
     "output_type": "stream",
     "text": [
      "d:\\Development\\insurance\\venv\\lib\\site-packages\\lightgbm\\engine.py:204: UserWarning: Found `num_boost_round` in params. Will use it instead of argument\n",
      "  _log_warning(f\"Found `{alias}` in params. Will use it instead of argument\")\n"
     ]
    },
    {
     "name": "stdout",
     "output_type": "stream",
     "text": [
      "Training until validation scores don't improve for 10 rounds\n",
      "[5]\ttrain's l2: 685407\ttrain's rmsle: 1.13162\tvalidation's l2: 689976\tvalidation's rmsle: 1.13158\n",
      "[10]\ttrain's l2: 674281\ttrain's rmsle: 1.11777\tvalidation's l2: 681285\tvalidation's rmsle: 1.1185\n",
      "[15]\ttrain's l2: 670897\ttrain's rmsle: 1.11376\tvalidation's l2: 679604\tvalidation's rmsle: 1.11508\n",
      "[20]\ttrain's l2: 668762\ttrain's rmsle: 1.11286\tvalidation's l2: 679217\tvalidation's rmsle: 1.11482\n"
     ]
    },
    {
     "name": "stderr",
     "output_type": "stream",
     "text": [
      "[I 2024-12-28 00:32:18,003] Trial 23 finished with value: 1.115087626722553 and parameters: {'learning_rate': 0.24413334420586177, 'num_boost_round': 289, 'num_leaves': 52, 'max_depth': 36, 'feature_fraction': 0.6674231156778634, 'bagging_fraction': 0.782818030194383, 'bagging_freq': 5, 'min_child_samples': 29, 'min_split_gain': 0.06413535437098464, 'min_child_weight': 2.0967536739169628, 'lambda_l1': 7.291227557771168, 'lambda_l2': 7.618851586478897, 'cat_smooth': 13.679424722302475, 'max_bin': 202}. Best is trial 19 with value: 1.1145387309414605.\n"
     ]
    },
    {
     "name": "stdout",
     "output_type": "stream",
     "text": [
      "[25]\ttrain's l2: 667723\ttrain's rmsle: 1.11211\tvalidation's l2: 679278\tvalidation's rmsle: 1.11449\n",
      "Early stopping, best iteration is:\n",
      "[16]\ttrain's l2: 670190\ttrain's rmsle: 1.1137\tvalidation's l2: 679101\tvalidation's rmsle: 1.11509\n",
      "{'boosting_type': 'gbdt', 'objective': 'regression', 'learning_rate': 0.12839189298286652, 'num_boost_round': 756, 'num_leaves': 118, 'max_depth': 73, 'feature_fraction': 0.7400222514264264, 'bagging_fraction': 0.8799986191873803, 'bagging_freq': 4, 'min_child_samples': 22, 'min_split_gain': 0.09034099166937758, 'min_child_weight': 0.9220429307104413, 'lambda_l1': 4.650689388621965, 'lambda_l2': 9.920377594880627, 'cat_smooth': 9.137137739497927, 'max_bin': 123, 'verbose': -1, 'random_state': 41}\n"
     ]
    },
    {
     "name": "stderr",
     "output_type": "stream",
     "text": [
      "d:\\Development\\insurance\\venv\\lib\\site-packages\\lightgbm\\engine.py:204: UserWarning: Found `num_boost_round` in params. Will use it instead of argument\n",
      "  _log_warning(f\"Found `{alias}` in params. Will use it instead of argument\")\n"
     ]
    },
    {
     "name": "stdout",
     "output_type": "stream",
     "text": [
      "Training until validation scores don't improve for 10 rounds\n",
      "[5]\ttrain's l2: 697762\ttrain's rmsle: 1.14486\tvalidation's l2: 703436\tvalidation's rmsle: 1.1454\n",
      "[10]\ttrain's l2: 677411\ttrain's rmsle: 1.12771\tvalidation's l2: 686973\tvalidation's rmsle: 1.12973\n",
      "[15]\ttrain's l2: 669922\ttrain's rmsle: 1.11879\tvalidation's l2: 681584\tvalidation's rmsle: 1.12154\n",
      "[20]\ttrain's l2: 665802\ttrain's rmsle: 1.11407\tvalidation's l2: 680326\tvalidation's rmsle: 1.11794\n",
      "[25]\ttrain's l2: 662502\ttrain's rmsle: 1.1115\tvalidation's l2: 680014\tvalidation's rmsle: 1.11654\n",
      "[30]\ttrain's l2: 660354\ttrain's rmsle: 1.1099\tvalidation's l2: 680011\tvalidation's rmsle: 1.11584\n",
      "[35]\ttrain's l2: 658454\ttrain's rmsle: 1.10871\tvalidation's l2: 680143\tvalidation's rmsle: 1.11545\n"
     ]
    },
    {
     "name": "stderr",
     "output_type": "stream",
     "text": [
      "[I 2024-12-28 00:32:24,228] Trial 24 finished with value: 1.116259989037729 and parameters: {'learning_rate': 0.12839189298286652, 'num_boost_round': 756, 'num_leaves': 118, 'max_depth': 73, 'feature_fraction': 0.7400222514264264, 'bagging_fraction': 0.8799986191873803, 'bagging_freq': 4, 'min_child_samples': 22, 'min_split_gain': 0.09034099166937758, 'min_child_weight': 0.9220429307104413, 'lambda_l1': 4.650689388621965, 'lambda_l2': 9.920377594880627, 'cat_smooth': 9.137137739497927, 'max_bin': 123}. Best is trial 19 with value: 1.1145387309414605.\n"
     ]
    },
    {
     "name": "stdout",
     "output_type": "stream",
     "text": [
      "Early stopping, best iteration is:\n",
      "[27]\ttrain's l2: 661700\ttrain's rmsle: 1.11092\tvalidation's l2: 679944\tvalidation's rmsle: 1.11626\n",
      "{'boosting_type': 'gbdt', 'objective': 'regression', 'learning_rate': 0.053191262774017145, 'num_boost_round': 408, 'num_leaves': 31, 'max_depth': 15, 'feature_fraction': 0.5454854251406429, 'bagging_fraction': 0.9922105704272959, 'bagging_freq': 6, 'min_child_samples': 15, 'min_split_gain': 0.0934825653357082, 'min_child_weight': 3.6808135409059424, 'lambda_l1': 2.4616091478461453, 'lambda_l2': 8.794535886084823, 'cat_smooth': 6.880493225678584, 'max_bin': 89, 'verbose': -1, 'random_state': 41}\n"
     ]
    },
    {
     "name": "stderr",
     "output_type": "stream",
     "text": [
      "d:\\Development\\insurance\\venv\\lib\\site-packages\\lightgbm\\engine.py:204: UserWarning: Found `num_boost_round` in params. Will use it instead of argument\n",
      "  _log_warning(f\"Found `{alias}` in params. Will use it instead of argument\")\n"
     ]
    },
    {
     "name": "stdout",
     "output_type": "stream",
     "text": [
      "Training until validation scores don't improve for 10 rounds\n",
      "[5]\ttrain's l2: 728266\ttrain's rmsle: 1.16163\tvalidation's l2: 729628\tvalidation's rmsle: 1.16054\n",
      "[10]\ttrain's l2: 712997\ttrain's rmsle: 1.15284\tvalidation's l2: 714322\tvalidation's rmsle: 1.15168\n",
      "[15]\ttrain's l2: 703985\ttrain's rmsle: 1.14649\tvalidation's l2: 705497\tvalidation's rmsle: 1.14536\n",
      "[20]\ttrain's l2: 696490\ttrain's rmsle: 1.14054\tvalidation's l2: 698138\tvalidation's rmsle: 1.13939\n",
      "[25]\ttrain's l2: 691271\ttrain's rmsle: 1.13552\tvalidation's l2: 693169\tvalidation's rmsle: 1.1344\n",
      "[30]\ttrain's l2: 687283\ttrain's rmsle: 1.13134\tvalidation's l2: 689605\tvalidation's rmsle: 1.13031\n",
      "[35]\ttrain's l2: 684438\ttrain's rmsle: 1.12822\tvalidation's l2: 687279\tvalidation's rmsle: 1.12733\n",
      "[40]\ttrain's l2: 682424\ttrain's rmsle: 1.12571\tvalidation's l2: 685737\tvalidation's rmsle: 1.12495\n",
      "[45]\ttrain's l2: 681149\ttrain's rmsle: 1.12428\tvalidation's l2: 684735\tvalidation's rmsle: 1.12362\n",
      "[50]\ttrain's l2: 680016\ttrain's rmsle: 1.12306\tvalidation's l2: 683957\tvalidation's rmsle: 1.1225\n",
      "[55]\ttrain's l2: 679262\ttrain's rmsle: 1.12255\tvalidation's l2: 683687\tvalidation's rmsle: 1.12217\n",
      "[60]\ttrain's l2: 678423\ttrain's rmsle: 1.12141\tvalidation's l2: 683160\tvalidation's rmsle: 1.12112\n",
      "[65]\ttrain's l2: 677590\ttrain's rmsle: 1.12078\tvalidation's l2: 682616\tvalidation's rmsle: 1.12059\n",
      "[70]\ttrain's l2: 676768\ttrain's rmsle: 1.11984\tvalidation's l2: 682154\tvalidation's rmsle: 1.11977\n",
      "[75]\ttrain's l2: 675874\ttrain's rmsle: 1.11897\tvalidation's l2: 681632\tvalidation's rmsle: 1.11902\n",
      "[80]\ttrain's l2: 675127\ttrain's rmsle: 1.11844\tvalidation's l2: 681368\tvalidation's rmsle: 1.11868\n",
      "[85]\ttrain's l2: 674448\ttrain's rmsle: 1.11759\tvalidation's l2: 681170\tvalidation's rmsle: 1.11803\n",
      "[90]\ttrain's l2: 673755\ttrain's rmsle: 1.11695\tvalidation's l2: 680705\tvalidation's rmsle: 1.11746\n",
      "[95]\ttrain's l2: 673233\ttrain's rmsle: 1.11657\tvalidation's l2: 680610\tvalidation's rmsle: 1.11725\n",
      "[100]\ttrain's l2: 672705\ttrain's rmsle: 1.11605\tvalidation's l2: 680275\tvalidation's rmsle: 1.11682\n",
      "[105]\ttrain's l2: 672209\ttrain's rmsle: 1.11559\tvalidation's l2: 680142\tvalidation's rmsle: 1.11651\n",
      "[110]\ttrain's l2: 671853\ttrain's rmsle: 1.11548\tvalidation's l2: 680017\tvalidation's rmsle: 1.11649\n",
      "[115]\ttrain's l2: 671539\ttrain's rmsle: 1.1152\tvalidation's l2: 679859\tvalidation's rmsle: 1.11626\n",
      "[120]\ttrain's l2: 671288\ttrain's rmsle: 1.11507\tvalidation's l2: 679775\tvalidation's rmsle: 1.1162\n",
      "[125]\ttrain's l2: 671013\ttrain's rmsle: 1.11495\tvalidation's l2: 679717\tvalidation's rmsle: 1.11616\n",
      "[130]\ttrain's l2: 670793\ttrain's rmsle: 1.11483\tvalidation's l2: 679671\tvalidation's rmsle: 1.11611\n",
      "[135]\ttrain's l2: 670527\ttrain's rmsle: 1.1147\tvalidation's l2: 679607\tvalidation's rmsle: 1.11605\n",
      "[140]\ttrain's l2: 670220\ttrain's rmsle: 1.1145\tvalidation's l2: 679432\tvalidation's rmsle: 1.11588\n",
      "[145]\ttrain's l2: 669955\ttrain's rmsle: 1.11438\tvalidation's l2: 679467\tvalidation's rmsle: 1.11589\n",
      "[150]\ttrain's l2: 669771\ttrain's rmsle: 1.1143\tvalidation's l2: 679425\tvalidation's rmsle: 1.11587\n",
      "[155]\ttrain's l2: 669588\ttrain's rmsle: 1.11413\tvalidation's l2: 679348\tvalidation's rmsle: 1.11575\n",
      "[160]\ttrain's l2: 669379\ttrain's rmsle: 1.11399\tvalidation's l2: 679311\tvalidation's rmsle: 1.11569\n",
      "[165]\ttrain's l2: 669200\ttrain's rmsle: 1.1139\tvalidation's l2: 679312\tvalidation's rmsle: 1.11567\n",
      "[170]\ttrain's l2: 668941\ttrain's rmsle: 1.11372\tvalidation's l2: 679197\tvalidation's rmsle: 1.11555\n",
      "[175]\ttrain's l2: 668789\ttrain's rmsle: 1.11367\tvalidation's l2: 679190\tvalidation's rmsle: 1.11557\n",
      "[180]\ttrain's l2: 668660\ttrain's rmsle: 1.1136\tvalidation's l2: 679151\tvalidation's rmsle: 1.11554\n",
      "[185]\ttrain's l2: 668355\ttrain's rmsle: 1.11346\tvalidation's l2: 678994\tvalidation's rmsle: 1.11545\n",
      "[190]\ttrain's l2: 668165\ttrain's rmsle: 1.11342\tvalidation's l2: 678968\tvalidation's rmsle: 1.11548\n"
     ]
    },
    {
     "name": "stderr",
     "output_type": "stream",
     "text": [
      "[I 2024-12-28 00:32:46,039] Trial 25 finished with value: 1.1154482185138646 and parameters: {'learning_rate': 0.053191262774017145, 'num_boost_round': 408, 'num_leaves': 31, 'max_depth': 15, 'feature_fraction': 0.5454854251406429, 'bagging_fraction': 0.9922105704272959, 'bagging_freq': 6, 'min_child_samples': 15, 'min_split_gain': 0.0934825653357082, 'min_child_weight': 3.6808135409059424, 'lambda_l1': 2.4616091478461453, 'lambda_l2': 8.794535886084823, 'cat_smooth': 6.880493225678584, 'max_bin': 89}. Best is trial 19 with value: 1.1145387309414605.\n"
     ]
    },
    {
     "name": "stdout",
     "output_type": "stream",
     "text": [
      "Early stopping, best iteration is:\n",
      "[184]\ttrain's l2: 668378\ttrain's rmsle: 1.11347\tvalidation's l2: 678991\tvalidation's rmsle: 1.11545\n",
      "{'boosting_type': 'gbdt', 'objective': 'regression', 'learning_rate': 0.3133791523734477, 'num_boost_round': 843, 'num_leaves': 4, 'max_depth': 61, 'feature_fraction': 0.5018205472390296, 'bagging_fraction': 0.928935693843646, 'bagging_freq': 3, 'min_child_samples': 42, 'min_split_gain': 0.05702624217966251, 'min_child_weight': 0.6639044639834376, 'lambda_l1': 3.898371049549171, 'lambda_l2': 5.998089546211868, 'cat_smooth': 18.86622655428667, 'max_bin': 189, 'verbose': -1, 'random_state': 41}\n"
     ]
    },
    {
     "name": "stderr",
     "output_type": "stream",
     "text": [
      "d:\\Development\\insurance\\venv\\lib\\site-packages\\lightgbm\\engine.py:204: UserWarning: Found `num_boost_round` in params. Will use it instead of argument\n",
      "  _log_warning(f\"Found `{alias}` in params. Will use it instead of argument\")\n"
     ]
    },
    {
     "name": "stdout",
     "output_type": "stream",
     "text": [
      "Training until validation scores don't improve for 10 rounds\n",
      "[5]\ttrain's l2: 714045\ttrain's rmsle: 1.14959\tvalidation's l2: 714822\tvalidation's rmsle: 1.14811\n",
      "[10]\ttrain's l2: 702018\ttrain's rmsle: 1.13681\tvalidation's l2: 702344\tvalidation's rmsle: 1.13503\n",
      "[15]\ttrain's l2: 697526\ttrain's rmsle: 1.1306\tvalidation's l2: 697700\tvalidation's rmsle: 1.12866\n",
      "[20]\ttrain's l2: 695617\ttrain's rmsle: 1.12922\tvalidation's l2: 695865\tvalidation's rmsle: 1.12728\n",
      "[25]\ttrain's l2: 694122\ttrain's rmsle: 1.12822\tvalidation's l2: 694527\tvalidation's rmsle: 1.12628\n",
      "[30]\ttrain's l2: 693151\ttrain's rmsle: 1.12783\tvalidation's l2: 693703\tvalidation's rmsle: 1.12593\n",
      "[35]\ttrain's l2: 692729\ttrain's rmsle: 1.12764\tvalidation's l2: 693562\tvalidation's rmsle: 1.12587\n",
      "[40]\ttrain's l2: 692537\ttrain's rmsle: 1.12729\tvalidation's l2: 693482\tvalidation's rmsle: 1.12555\n",
      "[45]\ttrain's l2: 691381\ttrain's rmsle: 1.12668\tvalidation's l2: 692438\tvalidation's rmsle: 1.12498\n",
      "[50]\ttrain's l2: 690798\ttrain's rmsle: 1.12623\tvalidation's l2: 691870\tvalidation's rmsle: 1.12452\n",
      "[55]\ttrain's l2: 690570\ttrain's rmsle: 1.12616\tvalidation's l2: 691795\tvalidation's rmsle: 1.12449\n"
     ]
    },
    {
     "name": "stderr",
     "output_type": "stream",
     "text": [
      "[I 2024-12-28 00:32:53,921] Trial 26 finished with value: 1.1243264261800778 and parameters: {'learning_rate': 0.3133791523734477, 'num_boost_round': 843, 'num_leaves': 4, 'max_depth': 61, 'feature_fraction': 0.5018205472390296, 'bagging_fraction': 0.928935693843646, 'bagging_freq': 3, 'min_child_samples': 42, 'min_split_gain': 0.05702624217966251, 'min_child_weight': 0.6639044639834376, 'lambda_l1': 3.898371049549171, 'lambda_l2': 5.998089546211868, 'cat_smooth': 18.86622655428667, 'max_bin': 189}. Best is trial 19 with value: 1.1145387309414605.\n"
     ]
    },
    {
     "name": "stdout",
     "output_type": "stream",
     "text": [
      "Early stopping, best iteration is:\n",
      "[49]\ttrain's l2: 690907\ttrain's rmsle: 1.12604\tvalidation's l2: 691995\tvalidation's rmsle: 1.12433\n",
      "{'boosting_type': 'gbdt', 'objective': 'regression', 'learning_rate': 0.1374920881888067, 'num_boost_round': 635, 'num_leaves': 84, 'max_depth': 98, 'feature_fraction': 0.7762025805231909, 'bagging_fraction': 0.8524388191997544, 'bagging_freq': 4, 'min_child_samples': 35, 'min_split_gain': 0.07889584720614728, 'min_child_weight': 2.355669541095284, 'lambda_l1': 5.3116248202203815, 'lambda_l2': 3.836142216687945, 'cat_smooth': 10.462300407030934, 'max_bin': 147, 'verbose': -1, 'random_state': 41}\n"
     ]
    },
    {
     "name": "stderr",
     "output_type": "stream",
     "text": [
      "d:\\Development\\insurance\\venv\\lib\\site-packages\\lightgbm\\engine.py:204: UserWarning: Found `num_boost_round` in params. Will use it instead of argument\n",
      "  _log_warning(f\"Found `{alias}` in params. Will use it instead of argument\")\n"
     ]
    },
    {
     "name": "stdout",
     "output_type": "stream",
     "text": [
      "Training until validation scores don't improve for 10 rounds\n",
      "[5]\ttrain's l2: 696676\ttrain's rmsle: 1.14375\tvalidation's l2: 700884\tvalidation's rmsle: 1.14365\n",
      "[10]\ttrain's l2: 678051\ttrain's rmsle: 1.12669\tvalidation's l2: 685988\tvalidation's rmsle: 1.12795\n",
      "[15]\ttrain's l2: 671044\ttrain's rmsle: 1.11827\tvalidation's l2: 681558\tvalidation's rmsle: 1.12046\n",
      "[20]\ttrain's l2: 667180\ttrain's rmsle: 1.11371\tvalidation's l2: 680043\tvalidation's rmsle: 1.11675\n",
      "[25]\ttrain's l2: 664186\ttrain's rmsle: 1.11126\tvalidation's l2: 679605\tvalidation's rmsle: 1.11526\n",
      "[30]\ttrain's l2: 662406\ttrain's rmsle: 1.10987\tvalidation's l2: 679537\tvalidation's rmsle: 1.11455\n",
      "[35]\ttrain's l2: 660735\ttrain's rmsle: 1.109\tvalidation's l2: 679614\tvalidation's rmsle: 1.11436\n"
     ]
    },
    {
     "name": "stderr",
     "output_type": "stream",
     "text": [
      "[I 2024-12-28 00:32:59,962] Trial 27 finished with value: 1.1150226556613252 and parameters: {'learning_rate': 0.1374920881888067, 'num_boost_round': 635, 'num_leaves': 84, 'max_depth': 98, 'feature_fraction': 0.7762025805231909, 'bagging_fraction': 0.8524388191997544, 'bagging_freq': 4, 'min_child_samples': 35, 'min_split_gain': 0.07889584720614728, 'min_child_weight': 2.355669541095284, 'lambda_l1': 5.3116248202203815, 'lambda_l2': 3.836142216687945, 'cat_smooth': 10.462300407030934, 'max_bin': 147}. Best is trial 19 with value: 1.1145387309414605.\n"
     ]
    },
    {
     "name": "stdout",
     "output_type": "stream",
     "text": [
      "Early stopping, best iteration is:\n",
      "[27]\ttrain's l2: 663427\ttrain's rmsle: 1.1108\tvalidation's l2: 679467\tvalidation's rmsle: 1.11502\n",
      "{'boosting_type': 'gbdt', 'objective': 'regression', 'learning_rate': 0.23857063071100276, 'num_boost_round': 723, 'num_leaves': 38, 'max_depth': 1, 'feature_fraction': 0.8592833153353816, 'bagging_fraction': 0.7638171697276017, 'bagging_freq': 3, 'min_child_samples': 25, 'min_split_gain': 0.09840289611881553, 'min_child_weight': 1.3249019461008174, 'lambda_l1': 3.010587787037991, 'lambda_l2': 4.40615130856035, 'cat_smooth': 14.414446590217798, 'max_bin': 110, 'verbose': -1, 'random_state': 41}\n"
     ]
    },
    {
     "name": "stderr",
     "output_type": "stream",
     "text": [
      "d:\\Development\\insurance\\venv\\lib\\site-packages\\lightgbm\\engine.py:204: UserWarning: Found `num_boost_round` in params. Will use it instead of argument\n",
      "  _log_warning(f\"Found `{alias}` in params. Will use it instead of argument\")\n"
     ]
    },
    {
     "name": "stdout",
     "output_type": "stream",
     "text": [
      "Training until validation scores don't improve for 10 rounds\n",
      "[5]\ttrain's l2: 720106\ttrain's rmsle: 1.15364\tvalidation's l2: 720788\tvalidation's rmsle: 1.15211\n",
      "[10]\ttrain's l2: 709921\ttrain's rmsle: 1.14567\tvalidation's l2: 710400\tvalidation's rmsle: 1.14407\n",
      "[15]\ttrain's l2: 706360\ttrain's rmsle: 1.14171\tvalidation's l2: 706690\tvalidation's rmsle: 1.14005\n",
      "[20]\ttrain's l2: 704975\ttrain's rmsle: 1.13915\tvalidation's l2: 705239\tvalidation's rmsle: 1.13743\n",
      "[25]\ttrain's l2: 704282\ttrain's rmsle: 1.13806\tvalidation's l2: 704471\tvalidation's rmsle: 1.13633\n",
      "[30]\ttrain's l2: 703904\ttrain's rmsle: 1.13715\tvalidation's l2: 704013\tvalidation's rmsle: 1.13538\n",
      "[35]\ttrain's l2: 703652\ttrain's rmsle: 1.13678\tvalidation's l2: 703847\tvalidation's rmsle: 1.13504\n",
      "[40]\ttrain's l2: 703451\ttrain's rmsle: 1.13626\tvalidation's l2: 703728\tvalidation's rmsle: 1.13453\n",
      "[45]\ttrain's l2: 703272\ttrain's rmsle: 1.13557\tvalidation's l2: 703546\tvalidation's rmsle: 1.13383\n",
      "[50]\ttrain's l2: 703121\ttrain's rmsle: 1.13558\tvalidation's l2: 703425\tvalidation's rmsle: 1.13383\n",
      "[55]\ttrain's l2: 703012\ttrain's rmsle: 1.13562\tvalidation's l2: 703365\tvalidation's rmsle: 1.13389\n",
      "[60]\ttrain's l2: 702914\ttrain's rmsle: 1.13552\tvalidation's l2: 703297\tvalidation's rmsle: 1.1338\n",
      "[65]\ttrain's l2: 702819\ttrain's rmsle: 1.1351\tvalidation's l2: 703222\tvalidation's rmsle: 1.13339\n",
      "[70]\ttrain's l2: 702748\ttrain's rmsle: 1.13484\tvalidation's l2: 703215\tvalidation's rmsle: 1.13314\n",
      "[75]\ttrain's l2: 702675\ttrain's rmsle: 1.1346\tvalidation's l2: 703174\tvalidation's rmsle: 1.13292\n",
      "[80]\ttrain's l2: 702643\ttrain's rmsle: 1.13447\tvalidation's l2: 703167\tvalidation's rmsle: 1.13279\n",
      "[85]\ttrain's l2: 702609\ttrain's rmsle: 1.13442\tvalidation's l2: 703166\tvalidation's rmsle: 1.13275\n",
      "[90]\ttrain's l2: 702573\ttrain's rmsle: 1.13432\tvalidation's l2: 703162\tvalidation's rmsle: 1.13265\n",
      "[95]\ttrain's l2: 702536\ttrain's rmsle: 1.13429\tvalidation's l2: 703144\tvalidation's rmsle: 1.13264\n",
      "[100]\ttrain's l2: 702507\ttrain's rmsle: 1.13413\tvalidation's l2: 703114\tvalidation's rmsle: 1.13247\n",
      "[105]\ttrain's l2: 702480\ttrain's rmsle: 1.13406\tvalidation's l2: 703081\tvalidation's rmsle: 1.13239\n",
      "[110]\ttrain's l2: 702456\ttrain's rmsle: 1.13396\tvalidation's l2: 703054\tvalidation's rmsle: 1.1323\n",
      "[115]\ttrain's l2: 702434\ttrain's rmsle: 1.13385\tvalidation's l2: 703052\tvalidation's rmsle: 1.13219\n",
      "[120]\ttrain's l2: 702433\ttrain's rmsle: 1.13367\tvalidation's l2: 703076\tvalidation's rmsle: 1.13202\n"
     ]
    },
    {
     "name": "stderr",
     "output_type": "stream",
     "text": [
      "[I 2024-12-28 00:33:12,126] Trial 28 finished with value: 1.1321858928185304 and parameters: {'learning_rate': 0.23857063071100276, 'num_boost_round': 723, 'num_leaves': 38, 'max_depth': 1, 'feature_fraction': 0.8592833153353816, 'bagging_fraction': 0.7638171697276017, 'bagging_freq': 3, 'min_child_samples': 25, 'min_split_gain': 0.09840289611881553, 'min_child_weight': 1.3249019461008174, 'lambda_l1': 3.010587787037991, 'lambda_l2': 4.40615130856035, 'cat_smooth': 14.414446590217798, 'max_bin': 110}. Best is trial 19 with value: 1.1145387309414605.\n"
     ]
    },
    {
     "name": "stdout",
     "output_type": "stream",
     "text": [
      "Early stopping, best iteration is:\n",
      "[114]\ttrain's l2: 702435\ttrain's rmsle: 1.13385\tvalidation's l2: 703045\tvalidation's rmsle: 1.13219\n",
      "{'boosting_type': 'gbdt', 'objective': 'regression', 'learning_rate': 0.19821402512160224, 'num_boost_round': 557, 'num_leaves': 176, 'max_depth': 178, 'feature_fraction': 0.9509478854269775, 'bagging_fraction': 0.6902223514522782, 'bagging_freq': 2, 'min_child_samples': 18, 'min_split_gain': 0.04606016119819338, 'min_child_weight': 3.5304181262061727, 'lambda_l1': 8.760720850648585, 'lambda_l2': 6.781099052606511, 'cat_smooth': 5.771520412134626, 'max_bin': 143, 'verbose': -1, 'random_state': 41}\n"
     ]
    },
    {
     "name": "stderr",
     "output_type": "stream",
     "text": [
      "d:\\Development\\insurance\\venv\\lib\\site-packages\\lightgbm\\engine.py:204: UserWarning: Found `num_boost_round` in params. Will use it instead of argument\n",
      "  _log_warning(f\"Found `{alias}` in params. Will use it instead of argument\")\n"
     ]
    },
    {
     "name": "stdout",
     "output_type": "stream",
     "text": [
      "Training until validation scores don't improve for 10 rounds\n",
      "[5]\ttrain's l2: 679745\ttrain's rmsle: 1.13049\tvalidation's l2: 691398\tvalidation's rmsle: 1.13329\n",
      "[10]\ttrain's l2: 665305\ttrain's rmsle: 1.11397\tvalidation's l2: 684682\tvalidation's rmsle: 1.11985\n",
      "[15]\ttrain's l2: 659127\ttrain's rmsle: 1.10868\tvalidation's l2: 683600\tvalidation's rmsle: 1.11649\n",
      "[20]\ttrain's l2: 654576\ttrain's rmsle: 1.10591\tvalidation's l2: 683752\tvalidation's rmsle: 1.1157\n"
     ]
    },
    {
     "name": "stderr",
     "output_type": "stream",
     "text": [
      "[I 2024-12-28 00:33:16,876] Trial 29 finished with value: 1.1170222041250963 and parameters: {'learning_rate': 0.19821402512160224, 'num_boost_round': 557, 'num_leaves': 176, 'max_depth': 178, 'feature_fraction': 0.9509478854269775, 'bagging_fraction': 0.6902223514522782, 'bagging_freq': 2, 'min_child_samples': 18, 'min_split_gain': 0.04606016119819338, 'min_child_weight': 3.5304181262061727, 'lambda_l1': 8.760720850648585, 'lambda_l2': 6.781099052606511, 'cat_smooth': 5.771520412134626, 'max_bin': 143}. Best is trial 19 with value: 1.1145387309414605.\n"
     ]
    },
    {
     "name": "stdout",
     "output_type": "stream",
     "text": [
      "Early stopping, best iteration is:\n",
      "[13]\ttrain's l2: 661120\ttrain's rmsle: 1.11\tvalidation's l2: 683495\tvalidation's rmsle: 1.11702\n",
      "{'boosting_type': 'gbdt', 'objective': 'regression', 'learning_rate': 0.07071334075845717, 'num_boost_round': 494, 'num_leaves': 57, 'max_depth': 123, 'feature_fraction': 0.7064875568456492, 'bagging_fraction': 0.9731031140052502, 'bagging_freq': 1, 'min_child_samples': 30, 'min_split_gain': 0.07122923103730612, 'min_child_weight': 6.614867473985047, 'lambda_l1': 2.0321916940301312, 'lambda_l2': 8.983101330222249, 'cat_smooth': 7.739520917052969, 'max_bin': 79, 'verbose': -1, 'random_state': 41}\n"
     ]
    },
    {
     "name": "stderr",
     "output_type": "stream",
     "text": [
      "d:\\Development\\insurance\\venv\\lib\\site-packages\\lightgbm\\engine.py:204: UserWarning: Found `num_boost_round` in params. Will use it instead of argument\n",
      "  _log_warning(f\"Found `{alias}` in params. Will use it instead of argument\")\n"
     ]
    },
    {
     "name": "stdout",
     "output_type": "stream",
     "text": [
      "Training until validation scores don't improve for 10 rounds\n",
      "[5]\ttrain's l2: 717136\ttrain's rmsle: 1.15643\tvalidation's l2: 719404\tvalidation's rmsle: 1.15566\n",
      "[10]\ttrain's l2: 698584\ttrain's rmsle: 1.14418\tvalidation's l2: 701578\tvalidation's rmsle: 1.14362\n",
      "[15]\ttrain's l2: 688516\ttrain's rmsle: 1.13522\tvalidation's l2: 691957\tvalidation's rmsle: 1.13473\n",
      "[20]\ttrain's l2: 682562\ttrain's rmsle: 1.12912\tvalidation's l2: 687186\tvalidation's rmsle: 1.12901\n",
      "[25]\ttrain's l2: 678421\ttrain's rmsle: 1.12445\tvalidation's l2: 684226\tvalidation's rmsle: 1.12473\n",
      "[30]\ttrain's l2: 675704\ttrain's rmsle: 1.12129\tvalidation's l2: 682656\tvalidation's rmsle: 1.12198\n",
      "[35]\ttrain's l2: 673804\ttrain's rmsle: 1.11891\tvalidation's l2: 681824\tvalidation's rmsle: 1.11999\n",
      "[40]\ttrain's l2: 672157\ttrain's rmsle: 1.11697\tvalidation's l2: 681398\tvalidation's rmsle: 1.11852\n",
      "[45]\ttrain's l2: 670955\ttrain's rmsle: 1.11571\tvalidation's l2: 680743\tvalidation's rmsle: 1.11747\n",
      "[50]\ttrain's l2: 669934\ttrain's rmsle: 1.11481\tvalidation's l2: 680525\tvalidation's rmsle: 1.11687\n",
      "[55]\ttrain's l2: 668892\ttrain's rmsle: 1.11402\tvalidation's l2: 680469\tvalidation's rmsle: 1.11647\n",
      "[60]\ttrain's l2: 667869\ttrain's rmsle: 1.11313\tvalidation's l2: 680185\tvalidation's rmsle: 1.11589\n",
      "[65]\ttrain's l2: 667053\ttrain's rmsle: 1.11249\tvalidation's l2: 680037\tvalidation's rmsle: 1.11553\n",
      "[70]\ttrain's l2: 666275\ttrain's rmsle: 1.11192\tvalidation's l2: 679820\tvalidation's rmsle: 1.11519\n",
      "[75]\ttrain's l2: 665489\ttrain's rmsle: 1.11154\tvalidation's l2: 679847\tvalidation's rmsle: 1.11512\n",
      "Early stopping, best iteration is:\n",
      "[67]\ttrain's l2: 666669\ttrain's rmsle: 1.11225\tvalidation's l2: 679778\tvalidation's rmsle: 1.11534\n"
     ]
    },
    {
     "name": "stderr",
     "output_type": "stream",
     "text": [
      "[I 2024-12-28 00:33:26,324] Trial 30 finished with value: 1.115343617808736 and parameters: {'learning_rate': 0.07071334075845717, 'num_boost_round': 494, 'num_leaves': 57, 'max_depth': 123, 'feature_fraction': 0.7064875568456492, 'bagging_fraction': 0.9731031140052502, 'bagging_freq': 1, 'min_child_samples': 30, 'min_split_gain': 0.07122923103730612, 'min_child_weight': 6.614867473985047, 'lambda_l1': 2.0321916940301312, 'lambda_l2': 8.983101330222249, 'cat_smooth': 7.739520917052969, 'max_bin': 79}. Best is trial 19 with value: 1.1145387309414605.\n"
     ]
    },
    {
     "name": "stdout",
     "output_type": "stream",
     "text": [
      "{'boosting_type': 'gbdt', 'objective': 'regression', 'learning_rate': 0.1743644698464011, 'num_boost_round': 665, 'num_leaves': 77, 'max_depth': 72, 'feature_fraction': 0.7673117491852415, 'bagging_fraction': 0.9154818131281708, 'bagging_freq': 4, 'min_child_samples': 14, 'min_split_gain': 0.053848728764048656, 'min_child_weight': 3.230394345052483, 'lambda_l1': 0.08065513757525533, 'lambda_l2': 6.243343780846731, 'cat_smooth': 12.688245595267617, 'max_bin': 163, 'verbose': -1, 'random_state': 41}\n"
     ]
    },
    {
     "name": "stderr",
     "output_type": "stream",
     "text": [
      "d:\\Development\\insurance\\venv\\lib\\site-packages\\lightgbm\\engine.py:204: UserWarning: Found `num_boost_round` in params. Will use it instead of argument\n",
      "  _log_warning(f\"Found `{alias}` in params. Will use it instead of argument\")\n"
     ]
    },
    {
     "name": "stdout",
     "output_type": "stream",
     "text": [
      "Training until validation scores don't improve for 10 rounds\n",
      "[5]\ttrain's l2: 690229\ttrain's rmsle: 1.13829\tvalidation's l2: 695010\tvalidation's rmsle: 1.13832\n",
      "[10]\ttrain's l2: 674398\ttrain's rmsle: 1.12223\tvalidation's l2: 683255\tvalidation's rmsle: 1.12376\n",
      "[15]\ttrain's l2: 668882\ttrain's rmsle: 1.11542\tvalidation's l2: 679589\tvalidation's rmsle: 1.11757\n",
      "[20]\ttrain's l2: 666067\ttrain's rmsle: 1.1123\tvalidation's l2: 678951\tvalidation's rmsle: 1.11535\n",
      "[25]\ttrain's l2: 663638\ttrain's rmsle: 1.11088\tvalidation's l2: 679092\tvalidation's rmsle: 1.11494\n"
     ]
    },
    {
     "name": "stderr",
     "output_type": "stream",
     "text": [
      "[I 2024-12-28 00:33:31,414] Trial 31 finished with value: 1.1159820911175629 and parameters: {'learning_rate': 0.1743644698464011, 'num_boost_round': 665, 'num_leaves': 77, 'max_depth': 72, 'feature_fraction': 0.7673117491852415, 'bagging_fraction': 0.9154818131281708, 'bagging_freq': 4, 'min_child_samples': 14, 'min_split_gain': 0.053848728764048656, 'min_child_weight': 3.230394345052483, 'lambda_l1': 0.08065513757525533, 'lambda_l2': 6.243343780846731, 'cat_smooth': 12.688245595267617, 'max_bin': 163}. Best is trial 19 with value: 1.1145387309414605.\n"
     ]
    },
    {
     "name": "stdout",
     "output_type": "stream",
     "text": [
      "Early stopping, best iteration is:\n",
      "[18]\ttrain's l2: 666931\ttrain's rmsle: 1.11329\tvalidation's l2: 678906\tvalidation's rmsle: 1.11598\n",
      "{'boosting_type': 'gbdt', 'objective': 'regression', 'learning_rate': 0.15742025644942198, 'num_boost_round': 532, 'num_leaves': 87, 'max_depth': 74, 'feature_fraction': 0.8498886250990934, 'bagging_fraction': 0.9418682369799283, 'bagging_freq': 5, 'min_child_samples': 11, 'min_split_gain': 0.08513374108504493, 'min_child_weight': 4.3263778972490465, 'lambda_l1': 0.16852371811807235, 'lambda_l2': 7.483935483052907, 'cat_smooth': 10.869721033367842, 'max_bin': 178, 'verbose': -1, 'random_state': 41}\n"
     ]
    },
    {
     "name": "stderr",
     "output_type": "stream",
     "text": [
      "d:\\Development\\insurance\\venv\\lib\\site-packages\\lightgbm\\engine.py:204: UserWarning: Found `num_boost_round` in params. Will use it instead of argument\n",
      "  _log_warning(f\"Found `{alias}` in params. Will use it instead of argument\")\n"
     ]
    },
    {
     "name": "stdout",
     "output_type": "stream",
     "text": [
      "Training until validation scores don't improve for 10 rounds\n",
      "[5]\ttrain's l2: 691263\ttrain's rmsle: 1.13895\tvalidation's l2: 695899\tvalidation's rmsle: 1.13891\n",
      "[10]\ttrain's l2: 675242\ttrain's rmsle: 1.1229\tvalidation's l2: 684186\tvalidation's rmsle: 1.12438\n",
      "[15]\ttrain's l2: 668661\ttrain's rmsle: 1.11505\tvalidation's l2: 680862\tvalidation's rmsle: 1.11779\n",
      "[20]\ttrain's l2: 664589\ttrain's rmsle: 1.11156\tvalidation's l2: 680474\tvalidation's rmsle: 1.11568\n",
      "[25]\ttrain's l2: 661950\ttrain's rmsle: 1.10962\tvalidation's l2: 680403\tvalidation's rmsle: 1.11477\n",
      "[30]\ttrain's l2: 659571\ttrain's rmsle: 1.10829\tvalidation's l2: 680393\tvalidation's rmsle: 1.11441\n",
      "[35]\ttrain's l2: 657835\ttrain's rmsle: 1.10745\tvalidation's l2: 680599\tvalidation's rmsle: 1.11436\n"
     ]
    },
    {
     "name": "stderr",
     "output_type": "stream",
     "text": [
      "[I 2024-12-28 00:33:37,520] Trial 32 finished with value: 1.1146067254341725 and parameters: {'learning_rate': 0.15742025644942198, 'num_boost_round': 532, 'num_leaves': 87, 'max_depth': 74, 'feature_fraction': 0.8498886250990934, 'bagging_fraction': 0.9418682369799283, 'bagging_freq': 5, 'min_child_samples': 11, 'min_split_gain': 0.08513374108504493, 'min_child_weight': 4.3263778972490465, 'lambda_l1': 0.16852371811807235, 'lambda_l2': 7.483935483052907, 'cat_smooth': 10.869721033367842, 'max_bin': 178}. Best is trial 19 with value: 1.1145387309414605.\n"
     ]
    },
    {
     "name": "stdout",
     "output_type": "stream",
     "text": [
      "Early stopping, best iteration is:\n",
      "[28]\ttrain's l2: 660697\ttrain's rmsle: 1.10893\tvalidation's l2: 680379\tvalidation's rmsle: 1.11461\n",
      "{'boosting_type': 'gbdt', 'objective': 'regression', 'learning_rate': 0.11766676548415962, 'num_boost_round': 531, 'num_leaves': 70, 'max_depth': 39, 'feature_fraction': 0.8816106469378856, 'bagging_fraction': 0.8571446606015534, 'bagging_freq': 5, 'min_child_samples': 10, 'min_split_gain': 0.08503619715565593, 'min_child_weight': 9.623756764119426, 'lambda_l1': 0.8513330854073704, 'lambda_l2': 7.460714065339932, 'cat_smooth': 10.518562739266795, 'max_bin': 200, 'verbose': -1, 'random_state': 41}\n"
     ]
    },
    {
     "name": "stderr",
     "output_type": "stream",
     "text": [
      "d:\\Development\\insurance\\venv\\lib\\site-packages\\lightgbm\\engine.py:204: UserWarning: Found `num_boost_round` in params. Will use it instead of argument\n",
      "  _log_warning(f\"Found `{alias}` in params. Will use it instead of argument\")\n"
     ]
    },
    {
     "name": "stdout",
     "output_type": "stream",
     "text": [
      "Training until validation scores don't improve for 10 rounds\n",
      "[5]\ttrain's l2: 700724\ttrain's rmsle: 1.14632\tvalidation's l2: 703747\tvalidation's rmsle: 1.14569\n",
      "[10]\ttrain's l2: 683248\ttrain's rmsle: 1.131\tvalidation's l2: 688861\tvalidation's rmsle: 1.13127\n",
      "[15]\ttrain's l2: 676023\ttrain's rmsle: 1.1222\tvalidation's l2: 683693\tvalidation's rmsle: 1.12323\n",
      "[20]\ttrain's l2: 671220\ttrain's rmsle: 1.11657\tvalidation's l2: 681266\tvalidation's rmsle: 1.11847\n",
      "[25]\ttrain's l2: 668328\ttrain's rmsle: 1.11384\tvalidation's l2: 680621\tvalidation's rmsle: 1.1166\n",
      "[30]\ttrain's l2: 666290\ttrain's rmsle: 1.11209\tvalidation's l2: 680617\tvalidation's rmsle: 1.11569\n",
      "[35]\ttrain's l2: 664651\ttrain's rmsle: 1.11126\tvalidation's l2: 680640\tvalidation's rmsle: 1.11552\n"
     ]
    },
    {
     "name": "stderr",
     "output_type": "stream",
     "text": [
      "[I 2024-12-28 00:33:44,151] Trial 33 finished with value: 1.1156808509097902 and parameters: {'learning_rate': 0.11766676548415962, 'num_boost_round': 531, 'num_leaves': 70, 'max_depth': 39, 'feature_fraction': 0.8816106469378856, 'bagging_fraction': 0.8571446606015534, 'bagging_freq': 5, 'min_child_samples': 10, 'min_split_gain': 0.08503619715565593, 'min_child_weight': 9.623756764119426, 'lambda_l1': 0.8513330854073704, 'lambda_l2': 7.460714065339932, 'cat_smooth': 10.518562739266795, 'max_bin': 200}. Best is trial 19 with value: 1.1145387309414605.\n"
     ]
    },
    {
     "name": "stdout",
     "output_type": "stream",
     "text": [
      "[40]\ttrain's l2: 663265\ttrain's rmsle: 1.11012\tvalidation's l2: 680646\tvalidation's rmsle: 1.11496\n",
      "Early stopping, best iteration is:\n",
      "[31]\ttrain's l2: 665852\ttrain's rmsle: 1.11195\tvalidation's l2: 680546\tvalidation's rmsle: 1.11568\n",
      "{'boosting_type': 'gbdt', 'objective': 'regression', 'learning_rate': 0.2737122143650637, 'num_boost_round': 311, 'num_leaves': 93, 'max_depth': 92, 'feature_fraction': 0.8185459434109522, 'bagging_fraction': 0.889717673719769, 'bagging_freq': 6, 'min_child_samples': 20, 'min_split_gain': 0.09338935841365709, 'min_child_weight': 4.338623460715021, 'lambda_l1': 1.678421593065703, 'lambda_l2': 8.283613963849458, 'cat_smooth': 15.761356050037026, 'max_bin': 118, 'verbose': -1, 'random_state': 41}\n"
     ]
    },
    {
     "name": "stderr",
     "output_type": "stream",
     "text": [
      "d:\\Development\\insurance\\venv\\lib\\site-packages\\lightgbm\\engine.py:204: UserWarning: Found `num_boost_round` in params. Will use it instead of argument\n",
      "  _log_warning(f\"Found `{alias}` in params. Will use it instead of argument\")\n"
     ]
    },
    {
     "name": "stdout",
     "output_type": "stream",
     "text": [
      "Training until validation scores don't improve for 10 rounds\n",
      "[5]\ttrain's l2: 678189\ttrain's rmsle: 1.12651\tvalidation's l2: 686319\tvalidation's rmsle: 1.12792\n",
      "[10]\ttrain's l2: 667212\ttrain's rmsle: 1.11379\tvalidation's l2: 681448\tvalidation's rmsle: 1.1175\n",
      "[15]\ttrain's l2: 662689\ttrain's rmsle: 1.11019\tvalidation's l2: 680456\tvalidation's rmsle: 1.1153\n",
      "[20]\ttrain's l2: 660158\ttrain's rmsle: 1.10909\tvalidation's l2: 680992\tvalidation's rmsle: 1.11536\n",
      "Early stopping, best iteration is:\n",
      "[12]\ttrain's l2: 664745\ttrain's rmsle: 1.1115\tvalidation's l2: 680264\tvalidation's rmsle: 1.11568\n"
     ]
    },
    {
     "name": "stderr",
     "output_type": "stream",
     "text": [
      "[I 2024-12-28 00:33:48,467] Trial 34 finished with value: 1.1156763156875995 and parameters: {'learning_rate': 0.2737122143650637, 'num_boost_round': 311, 'num_leaves': 93, 'max_depth': 92, 'feature_fraction': 0.8185459434109522, 'bagging_fraction': 0.889717673719769, 'bagging_freq': 6, 'min_child_samples': 20, 'min_split_gain': 0.09338935841365709, 'min_child_weight': 4.338623460715021, 'lambda_l1': 1.678421593065703, 'lambda_l2': 8.283613963849458, 'cat_smooth': 15.761356050037026, 'max_bin': 118}. Best is trial 19 with value: 1.1145387309414605.\n"
     ]
    },
    {
     "name": "stdout",
     "output_type": "stream",
     "text": [
      "{'boosting_type': 'gbdt', 'objective': 'regression', 'learning_rate': 0.30435473376858724, 'num_boost_round': 181, 'num_leaves': 127, 'max_depth': 81, 'feature_fraction': 0.8434626198252426, 'bagging_fraction': 0.9611057715888477, 'bagging_freq': 5, 'min_child_samples': 32, 'min_split_gain': 0.0811351658315908, 'min_child_weight': 5.898231166259352, 'lambda_l1': 5.503667195636559, 'lambda_l2': 5.577043280845536, 'cat_smooth': 9.3117727339582, 'max_bin': 136, 'verbose': -1, 'random_state': 41}\n"
     ]
    },
    {
     "name": "stderr",
     "output_type": "stream",
     "text": [
      "d:\\Development\\insurance\\venv\\lib\\site-packages\\lightgbm\\engine.py:204: UserWarning: Found `num_boost_round` in params. Will use it instead of argument\n",
      "  _log_warning(f\"Found `{alias}` in params. Will use it instead of argument\")\n"
     ]
    },
    {
     "name": "stdout",
     "output_type": "stream",
     "text": [
      "Training until validation scores don't improve for 10 rounds\n",
      "[5]\ttrain's l2: 672675\ttrain's rmsle: 1.12082\tvalidation's l2: 684793\tvalidation's rmsle: 1.1236\n",
      "[10]\ttrain's l2: 661290\ttrain's rmsle: 1.10983\tvalidation's l2: 682573\tvalidation's rmsle: 1.11625\n",
      "[15]\ttrain's l2: 656146\ttrain's rmsle: 1.10654\tvalidation's l2: 682861\tvalidation's rmsle: 1.11513\n"
     ]
    },
    {
     "name": "stderr",
     "output_type": "stream",
     "text": [
      "[I 2024-12-28 00:33:52,903] Trial 35 finished with value: 1.1160171609990612 and parameters: {'learning_rate': 0.30435473376858724, 'num_boost_round': 181, 'num_leaves': 127, 'max_depth': 81, 'feature_fraction': 0.8434626198252426, 'bagging_fraction': 0.9611057715888477, 'bagging_freq': 5, 'min_child_samples': 32, 'min_split_gain': 0.0811351658315908, 'min_child_weight': 5.898231166259352, 'lambda_l1': 5.503667195636559, 'lambda_l2': 5.577043280845536, 'cat_smooth': 9.3117727339582, 'max_bin': 136}. Best is trial 19 with value: 1.1145387309414605.\n"
     ]
    },
    {
     "name": "stdout",
     "output_type": "stream",
     "text": [
      "[20]\ttrain's l2: 651582\ttrain's rmsle: 1.10428\tvalidation's l2: 683661\tvalidation's rmsle: 1.11499\n",
      "Early stopping, best iteration is:\n",
      "[11]\ttrain's l2: 660389\ttrain's rmsle: 1.10933\tvalidation's l2: 682419\tvalidation's rmsle: 1.11602\n",
      "{'boosting_type': 'gbdt', 'objective': 'regression', 'learning_rate': 0.1440152645733252, 'num_boost_round': 923, 'num_leaves': 63, 'max_depth': 61, 'feature_fraction': 0.5923538334619104, 'bagging_fraction': 0.7873216849907384, 'bagging_freq': 6, 'min_child_samples': 26, 'min_split_gain': 0.0901352834519502, 'min_child_weight': 8.578316307249619, 'lambda_l1': 0.648116599622306, 'lambda_l2': 9.285869781956816, 'cat_smooth': 17.992801372083886, 'max_bin': 83, 'verbose': -1, 'random_state': 41}\n"
     ]
    },
    {
     "name": "stderr",
     "output_type": "stream",
     "text": [
      "d:\\Development\\insurance\\venv\\lib\\site-packages\\lightgbm\\engine.py:204: UserWarning: Found `num_boost_round` in params. Will use it instead of argument\n",
      "  _log_warning(f\"Found `{alias}` in params. Will use it instead of argument\")\n"
     ]
    },
    {
     "name": "stdout",
     "output_type": "stream",
     "text": [
      "Training until validation scores don't improve for 10 rounds\n",
      "[5]\ttrain's l2: 699843\ttrain's rmsle: 1.14486\tvalidation's l2: 702681\tvalidation's rmsle: 1.14423\n",
      "[10]\ttrain's l2: 683591\ttrain's rmsle: 1.12999\tvalidation's l2: 687730\tvalidation's rmsle: 1.12972\n",
      "[15]\ttrain's l2: 676935\ttrain's rmsle: 1.12191\tvalidation's l2: 682304\tvalidation's rmsle: 1.12203\n",
      "[20]\ttrain's l2: 673443\ttrain's rmsle: 1.1176\tvalidation's l2: 680523\tvalidation's rmsle: 1.1183\n",
      "[25]\ttrain's l2: 671208\ttrain's rmsle: 1.11545\tvalidation's l2: 679772\tvalidation's rmsle: 1.11666\n",
      "[30]\ttrain's l2: 669752\ttrain's rmsle: 1.11366\tvalidation's l2: 679554\tvalidation's rmsle: 1.11537\n",
      "[35]\ttrain's l2: 668578\ttrain's rmsle: 1.11304\tvalidation's l2: 679660\tvalidation's rmsle: 1.11526\n"
     ]
    },
    {
     "name": "stderr",
     "output_type": "stream",
     "text": [
      "[I 2024-12-28 00:33:59,035] Trial 36 finished with value: 1.1158282551373964 and parameters: {'learning_rate': 0.1440152645733252, 'num_boost_round': 923, 'num_leaves': 63, 'max_depth': 61, 'feature_fraction': 0.5923538334619104, 'bagging_fraction': 0.7873216849907384, 'bagging_freq': 6, 'min_child_samples': 26, 'min_split_gain': 0.0901352834519502, 'min_child_weight': 8.578316307249619, 'lambda_l1': 0.648116599622306, 'lambda_l2': 9.285869781956816, 'cat_smooth': 17.992801372083886, 'max_bin': 83}. Best is trial 19 with value: 1.1145387309414605.\n"
     ]
    },
    {
     "name": "stdout",
     "output_type": "stream",
     "text": [
      "Early stopping, best iteration is:\n",
      "[28]\ttrain's l2: 670365\ttrain's rmsle: 1.11438\tvalidation's l2: 679525\tvalidation's rmsle: 1.11583\n",
      "{'boosting_type': 'gbdt', 'objective': 'regression', 'learning_rate': 0.20865086054258183, 'num_boost_round': 439, 'num_leaves': 88, 'max_depth': 30, 'feature_fraction': 0.9051566952480424, 'bagging_fraction': 0.8260173469486118, 'bagging_freq': 2, 'min_child_samples': 38, 'min_split_gain': 0.07360546527894125, 'min_child_weight': 0.5049024374302804, 'lambda_l1': 4.062175387853021, 'lambda_l2': 8.362191085150108, 'cat_smooth': 11.089584143487741, 'max_bin': 185, 'verbose': -1, 'random_state': 41}\n"
     ]
    },
    {
     "name": "stderr",
     "output_type": "stream",
     "text": [
      "d:\\Development\\insurance\\venv\\lib\\site-packages\\lightgbm\\engine.py:204: UserWarning: Found `num_boost_round` in params. Will use it instead of argument\n",
      "  _log_warning(f\"Found `{alias}` in params. Will use it instead of argument\")\n"
     ]
    },
    {
     "name": "stdout",
     "output_type": "stream",
     "text": [
      "Training until validation scores don't improve for 10 rounds\n",
      "[5]\ttrain's l2: 684094\ttrain's rmsle: 1.13238\tvalidation's l2: 689735\tvalidation's rmsle: 1.13268\n",
      "[10]\ttrain's l2: 671581\ttrain's rmsle: 1.11721\tvalidation's l2: 682531\tvalidation's rmsle: 1.11948\n",
      "[15]\ttrain's l2: 666832\ttrain's rmsle: 1.11233\tvalidation's l2: 680969\tvalidation's rmsle: 1.11585\n",
      "[20]\ttrain's l2: 663529\ttrain's rmsle: 1.11046\tvalidation's l2: 680967\tvalidation's rmsle: 1.11531\n",
      "[25]\ttrain's l2: 661270\ttrain's rmsle: 1.10937\tvalidation's l2: 681320\tvalidation's rmsle: 1.1152\n"
     ]
    },
    {
     "name": "stderr",
     "output_type": "stream",
     "text": [
      "[I 2024-12-28 00:34:04,723] Trial 37 finished with value: 1.1154426725364164 and parameters: {'learning_rate': 0.20865086054258183, 'num_boost_round': 439, 'num_leaves': 88, 'max_depth': 30, 'feature_fraction': 0.9051566952480424, 'bagging_fraction': 0.8260173469486118, 'bagging_freq': 2, 'min_child_samples': 38, 'min_split_gain': 0.07360546527894125, 'min_child_weight': 0.5049024374302804, 'lambda_l1': 4.062175387853021, 'lambda_l2': 8.362191085150108, 'cat_smooth': 11.089584143487741, 'max_bin': 185}. Best is trial 19 with value: 1.1145387309414605.\n"
     ]
    },
    {
     "name": "stdout",
     "output_type": "stream",
     "text": [
      "Early stopping, best iteration is:\n",
      "[17]\ttrain's l2: 665200\ttrain's rmsle: 1.11142\tvalidation's l2: 680704\tvalidation's rmsle: 1.11544\n",
      "{'boosting_type': 'gbdt', 'objective': 'regression', 'learning_rate': 0.023777631119439757, 'num_boost_round': 359, 'num_leaves': 30, 'max_depth': 49, 'feature_fraction': 0.722570093998148, 'bagging_fraction': 0.7079648285270466, 'bagging_freq': 6, 'min_child_samples': 41, 'min_split_gain': 0.06495521480183539, 'min_child_weight': 4.513088829031823, 'lambda_l1': 3.064019501169573, 'lambda_l2': 7.766587780604627, 'cat_smooth': 7.693787743358783, 'max_bin': 24, 'verbose': -1, 'random_state': 41}\n"
     ]
    },
    {
     "name": "stderr",
     "output_type": "stream",
     "text": [
      "d:\\Development\\insurance\\venv\\lib\\site-packages\\lightgbm\\engine.py:204: UserWarning: Found `num_boost_round` in params. Will use it instead of argument\n",
      "  _log_warning(f\"Found `{alias}` in params. Will use it instead of argument\")\n"
     ]
    },
    {
     "name": "stdout",
     "output_type": "stream",
     "text": [
      "Training until validation scores don't improve for 10 rounds\n",
      "[5]\ttrain's l2: 736987\ttrain's rmsle: 1.16602\tvalidation's l2: 738344\tvalidation's rmsle: 1.16496\n",
      "[10]\ttrain's l2: 727037\ttrain's rmsle: 1.16102\tvalidation's l2: 728337\tvalidation's rmsle: 1.1599\n",
      "[15]\ttrain's l2: 719003\ttrain's rmsle: 1.15641\tvalidation's l2: 720206\tvalidation's rmsle: 1.15522\n",
      "[20]\ttrain's l2: 712522\ttrain's rmsle: 1.15248\tvalidation's l2: 713795\tvalidation's rmsle: 1.15126\n",
      "[25]\ttrain's l2: 706946\ttrain's rmsle: 1.14857\tvalidation's l2: 708241\tvalidation's rmsle: 1.14732\n",
      "[30]\ttrain's l2: 702627\ttrain's rmsle: 1.14522\tvalidation's l2: 704008\tvalidation's rmsle: 1.14397\n",
      "[35]\ttrain's l2: 698954\ttrain's rmsle: 1.14225\tvalidation's l2: 700432\tvalidation's rmsle: 1.141\n",
      "[40]\ttrain's l2: 696218\ttrain's rmsle: 1.13963\tvalidation's l2: 697901\tvalidation's rmsle: 1.13841\n",
      "[45]\ttrain's l2: 693707\ttrain's rmsle: 1.13735\tvalidation's l2: 695438\tvalidation's rmsle: 1.13612\n",
      "[50]\ttrain's l2: 691619\ttrain's rmsle: 1.13528\tvalidation's l2: 693554\tvalidation's rmsle: 1.13412\n",
      "[55]\ttrain's l2: 689888\ttrain's rmsle: 1.13332\tvalidation's l2: 692092\tvalidation's rmsle: 1.13224\n",
      "[60]\ttrain's l2: 688312\ttrain's rmsle: 1.13133\tvalidation's l2: 690736\tvalidation's rmsle: 1.13032\n",
      "[65]\ttrain's l2: 687040\ttrain's rmsle: 1.12994\tvalidation's l2: 689629\tvalidation's rmsle: 1.12896\n",
      "[70]\ttrain's l2: 685884\ttrain's rmsle: 1.1287\tvalidation's l2: 688622\tvalidation's rmsle: 1.12777\n",
      "[75]\ttrain's l2: 684913\ttrain's rmsle: 1.12765\tvalidation's l2: 687862\tvalidation's rmsle: 1.12678\n",
      "[80]\ttrain's l2: 684104\ttrain's rmsle: 1.1268\tvalidation's l2: 687258\tvalidation's rmsle: 1.12598\n",
      "[85]\ttrain's l2: 683288\ttrain's rmsle: 1.12574\tvalidation's l2: 686694\tvalidation's rmsle: 1.125\n",
      "[90]\ttrain's l2: 682519\ttrain's rmsle: 1.12471\tvalidation's l2: 686141\tvalidation's rmsle: 1.12405\n",
      "[95]\ttrain's l2: 682023\ttrain's rmsle: 1.12397\tvalidation's l2: 685887\tvalidation's rmsle: 1.1234\n",
      "[100]\ttrain's l2: 681451\ttrain's rmsle: 1.12321\tvalidation's l2: 685494\tvalidation's rmsle: 1.12269\n",
      "[105]\ttrain's l2: 680893\ttrain's rmsle: 1.12263\tvalidation's l2: 685171\tvalidation's rmsle: 1.12219\n",
      "[110]\ttrain's l2: 680476\ttrain's rmsle: 1.12211\tvalidation's l2: 684942\tvalidation's rmsle: 1.12173\n",
      "[115]\ttrain's l2: 679905\ttrain's rmsle: 1.12148\tvalidation's l2: 684462\tvalidation's rmsle: 1.12113\n",
      "[120]\ttrain's l2: 679570\ttrain's rmsle: 1.12101\tvalidation's l2: 684318\tvalidation's rmsle: 1.12072\n",
      "[125]\ttrain's l2: 679277\ttrain's rmsle: 1.12059\tvalidation's l2: 684182\tvalidation's rmsle: 1.12036\n",
      "[130]\ttrain's l2: 678997\ttrain's rmsle: 1.12023\tvalidation's l2: 684041\tvalidation's rmsle: 1.12005\n",
      "[135]\ttrain's l2: 678709\ttrain's rmsle: 1.11992\tvalidation's l2: 683914\tvalidation's rmsle: 1.11981\n",
      "[140]\ttrain's l2: 678344\ttrain's rmsle: 1.11936\tvalidation's l2: 683626\tvalidation's rmsle: 1.11928\n",
      "[145]\ttrain's l2: 678044\ttrain's rmsle: 1.11912\tvalidation's l2: 683537\tvalidation's rmsle: 1.11911\n",
      "[150]\ttrain's l2: 677827\ttrain's rmsle: 1.11884\tvalidation's l2: 683452\tvalidation's rmsle: 1.11889\n",
      "[155]\ttrain's l2: 677530\ttrain's rmsle: 1.11849\tvalidation's l2: 683210\tvalidation's rmsle: 1.11856\n",
      "[160]\ttrain's l2: 677345\ttrain's rmsle: 1.11829\tvalidation's l2: 683176\tvalidation's rmsle: 1.11843\n",
      "[165]\ttrain's l2: 677113\ttrain's rmsle: 1.118\tvalidation's l2: 683055\tvalidation's rmsle: 1.11818\n",
      "[170]\ttrain's l2: 676870\ttrain's rmsle: 1.11762\tvalidation's l2: 682943\tvalidation's rmsle: 1.11785\n",
      "[175]\ttrain's l2: 676637\ttrain's rmsle: 1.11746\tvalidation's l2: 682817\tvalidation's rmsle: 1.11773\n",
      "[180]\ttrain's l2: 676437\ttrain's rmsle: 1.11739\tvalidation's l2: 682771\tvalidation's rmsle: 1.11772\n",
      "[185]\ttrain's l2: 676277\ttrain's rmsle: 1.11725\tvalidation's l2: 682735\tvalidation's rmsle: 1.11762\n",
      "[190]\ttrain's l2: 675989\ttrain's rmsle: 1.11714\tvalidation's l2: 682565\tvalidation's rmsle: 1.11756\n",
      "[195]\ttrain's l2: 675833\ttrain's rmsle: 1.11697\tvalidation's l2: 682515\tvalidation's rmsle: 1.11743\n",
      "[200]\ttrain's l2: 675682\ttrain's rmsle: 1.11681\tvalidation's l2: 682482\tvalidation's rmsle: 1.11732\n",
      "[205]\ttrain's l2: 675375\ttrain's rmsle: 1.11652\tvalidation's l2: 682238\tvalidation's rmsle: 1.11706\n",
      "[210]\ttrain's l2: 675112\ttrain's rmsle: 1.11625\tvalidation's l2: 682048\tvalidation's rmsle: 1.11682\n",
      "[215]\ttrain's l2: 674952\ttrain's rmsle: 1.11612\tvalidation's l2: 682024\tvalidation's rmsle: 1.11676\n"
     ]
    },
    {
     "name": "stderr",
     "output_type": "stream",
     "text": [
      "[I 2024-12-28 00:34:26,595] Trial 38 finished with value: 1.1167494672871907 and parameters: {'learning_rate': 0.023777631119439757, 'num_boost_round': 359, 'num_leaves': 30, 'max_depth': 49, 'feature_fraction': 0.722570093998148, 'bagging_fraction': 0.7079648285270466, 'bagging_freq': 6, 'min_child_samples': 41, 'min_split_gain': 0.06495521480183539, 'min_child_weight': 4.513088829031823, 'lambda_l1': 3.064019501169573, 'lambda_l2': 7.766587780604627, 'cat_smooth': 7.693787743358783, 'max_bin': 24}. Best is trial 19 with value: 1.1145387309414605.\n"
     ]
    },
    {
     "name": "stdout",
     "output_type": "stream",
     "text": [
      "[220]\ttrain's l2: 674805\ttrain's rmsle: 1.11607\tvalidation's l2: 682000\tvalidation's rmsle: 1.11675\n",
      "Early stopping, best iteration is:\n",
      "[211]\ttrain's l2: 675062\ttrain's rmsle: 1.11617\tvalidation's l2: 682009\tvalidation's rmsle: 1.11675\n",
      "{'boosting_type': 'gbdt', 'objective': 'regression', 'learning_rate': 0.2514566273272232, 'num_boost_round': 597, 'num_leaves': 16, 'max_depth': 117, 'feature_fraction': 0.7945755812197995, 'bagging_fraction': 0.7638208817112088, 'bagging_freq': 4, 'min_child_samples': 23, 'min_split_gain': 0.09513221294023572, 'min_child_weight': 1.7535092297763932, 'lambda_l1': 6.626713695547222, 'lambda_l2': 6.8709918999883435, 'cat_smooth': 5.039880947805988, 'max_bin': 233, 'verbose': -1, 'random_state': 41}\n"
     ]
    },
    {
     "name": "stderr",
     "output_type": "stream",
     "text": [
      "d:\\Development\\insurance\\venv\\lib\\site-packages\\lightgbm\\engine.py:204: UserWarning: Found `num_boost_round` in params. Will use it instead of argument\n",
      "  _log_warning(f\"Found `{alias}` in params. Will use it instead of argument\")\n"
     ]
    },
    {
     "name": "stdout",
     "output_type": "stream",
     "text": [
      "Training until validation scores don't improve for 10 rounds\n",
      "[5]\ttrain's l2: 691406\ttrain's rmsle: 1.13444\tvalidation's l2: 692097\tvalidation's rmsle: 1.1328\n",
      "[10]\ttrain's l2: 682141\ttrain's rmsle: 1.12197\tvalidation's l2: 683912\tvalidation's rmsle: 1.12044\n",
      "[15]\ttrain's l2: 679305\ttrain's rmsle: 1.11809\tvalidation's l2: 682104\tvalidation's rmsle: 1.11689\n",
      "[20]\ttrain's l2: 677659\ttrain's rmsle: 1.11701\tvalidation's l2: 681563\tvalidation's rmsle: 1.11624\n",
      "[25]\ttrain's l2: 676085\ttrain's rmsle: 1.11707\tvalidation's l2: 680955\tvalidation's rmsle: 1.11668\n"
     ]
    },
    {
     "name": "stderr",
     "output_type": "stream",
     "text": [
      "[I 2024-12-28 00:34:31,392] Trial 39 finished with value: 1.1162394834312106 and parameters: {'learning_rate': 0.2514566273272232, 'num_boost_round': 597, 'num_leaves': 16, 'max_depth': 117, 'feature_fraction': 0.7945755812197995, 'bagging_fraction': 0.7638208817112088, 'bagging_freq': 4, 'min_child_samples': 23, 'min_split_gain': 0.09513221294023572, 'min_child_weight': 1.7535092297763932, 'lambda_l1': 6.626713695547222, 'lambda_l2': 6.8709918999883435, 'cat_smooth': 5.039880947805988, 'max_bin': 233}. Best is trial 19 with value: 1.1145387309414605.\n"
     ]
    },
    {
     "name": "stdout",
     "output_type": "stream",
     "text": [
      "[30]\ttrain's l2: 675414\ttrain's rmsle: 1.11684\tvalidation's l2: 680964\tvalidation's rmsle: 1.11668\n",
      "Early stopping, best iteration is:\n",
      "[20]\ttrain's l2: 677659\ttrain's rmsle: 1.11701\tvalidation's l2: 681563\tvalidation's rmsle: 1.11624\n",
      "{'boosting_type': 'gbdt', 'objective': 'regression', 'learning_rate': 0.34250124946801386, 'num_boost_round': 816, 'num_leaves': 103, 'max_depth': 147, 'feature_fraction': 0.8399108376711787, 'bagging_fraction': 0.9985330893723334, 'bagging_freq': 4, 'min_child_samples': 46, 'min_split_gain': 0.08769294449080603, 'min_child_weight': 1.2981292127647843, 'lambda_l1': 5.225228152540249, 'lambda_l2': 4.44990629066211, 'cat_smooth': 13.591569487100728, 'max_bin': 155, 'verbose': -1, 'random_state': 41}\n"
     ]
    },
    {
     "name": "stderr",
     "output_type": "stream",
     "text": [
      "d:\\Development\\insurance\\venv\\lib\\site-packages\\lightgbm\\engine.py:204: UserWarning: Found `num_boost_round` in params. Will use it instead of argument\n",
      "  _log_warning(f\"Found `{alias}` in params. Will use it instead of argument\")\n"
     ]
    },
    {
     "name": "stdout",
     "output_type": "stream",
     "text": [
      "Training until validation scores don't improve for 10 rounds\n",
      "[5]\ttrain's l2: 672774\ttrain's rmsle: 1.11896\tvalidation's l2: 683409\tvalidation's rmsle: 1.12115\n",
      "[10]\ttrain's l2: 663549\ttrain's rmsle: 1.10981\tvalidation's l2: 682231\tvalidation's rmsle: 1.1153\n",
      "[15]\ttrain's l2: 659005\ttrain's rmsle: 1.10768\tvalidation's l2: 682692\tvalidation's rmsle: 1.11508\n"
     ]
    },
    {
     "name": "stderr",
     "output_type": "stream",
     "text": [
      "[I 2024-12-28 00:34:35,666] Trial 40 finished with value: 1.115330954597706 and parameters: {'learning_rate': 0.34250124946801386, 'num_boost_round': 816, 'num_leaves': 103, 'max_depth': 147, 'feature_fraction': 0.8399108376711787, 'bagging_fraction': 0.9985330893723334, 'bagging_freq': 4, 'min_child_samples': 46, 'min_split_gain': 0.08769294449080603, 'min_child_weight': 1.2981292127647843, 'lambda_l1': 5.225228152540249, 'lambda_l2': 4.44990629066211, 'cat_smooth': 13.591569487100728, 'max_bin': 155}. Best is trial 19 with value: 1.1145387309414605.\n"
     ]
    },
    {
     "name": "stdout",
     "output_type": "stream",
     "text": [
      "Early stopping, best iteration is:\n",
      "[9]\ttrain's l2: 665143\ttrain's rmsle: 1.11055\tvalidation's l2: 682060\tvalidation's rmsle: 1.11533\n",
      "{'boosting_type': 'gbdt', 'objective': 'regression', 'learning_rate': 0.1564885109919557, 'num_boost_round': 715, 'num_leaves': 74, 'max_depth': 73, 'feature_fraction': 0.7747490446163634, 'bagging_fraction': 0.9265834619825993, 'bagging_freq': 3, 'min_child_samples': 12, 'min_split_gain': 0.04882638319890992, 'min_child_weight': 5.315620920914961, 'lambda_l1': 0.006528622773500636, 'lambda_l2': 6.5146906807583305, 'cat_smooth': 9.140826616458712, 'max_bin': 172, 'verbose': -1, 'random_state': 41}\n"
     ]
    },
    {
     "name": "stderr",
     "output_type": "stream",
     "text": [
      "d:\\Development\\insurance\\venv\\lib\\site-packages\\lightgbm\\engine.py:204: UserWarning: Found `num_boost_round` in params. Will use it instead of argument\n",
      "  _log_warning(f\"Found `{alias}` in params. Will use it instead of argument\")\n"
     ]
    },
    {
     "name": "stdout",
     "output_type": "stream",
     "text": [
      "Training until validation scores don't improve for 10 rounds\n",
      "[5]\ttrain's l2: 693544\ttrain's rmsle: 1.14095\tvalidation's l2: 697875\tvalidation's rmsle: 1.14081\n"
     ]
    },
    {
     "name": "stderr",
     "output_type": "stream",
     "text": [
      "[W 2024-12-28 00:34:38,521] Trial 41 failed with parameters: {'learning_rate': 0.1564885109919557, 'num_boost_round': 715, 'num_leaves': 74, 'max_depth': 73, 'feature_fraction': 0.7747490446163634, 'bagging_fraction': 0.9265834619825993, 'bagging_freq': 3, 'min_child_samples': 12, 'min_split_gain': 0.04882638319890992, 'min_child_weight': 5.315620920914961, 'lambda_l1': 0.006528622773500636, 'lambda_l2': 6.5146906807583305, 'cat_smooth': 9.140826616458712, 'max_bin': 172} because of the following error: KeyboardInterrupt().\n",
      "Traceback (most recent call last):\n",
      "  File \"d:\\Development\\insurance\\venv\\lib\\site-packages\\optuna\\study\\_optimize.py\", line 197, in _run_trial\n",
      "    value_or_values = func(trial)\n",
      "  File \"C:\\Users\\geroa\\AppData\\Local\\Temp\\ipykernel_22944\\57506347.py\", line 51, in objective\n",
      "    model = lgb.train(\n",
      "  File \"d:\\Development\\insurance\\venv\\lib\\site-packages\\lightgbm\\engine.py\", line 307, in train\n",
      "    booster.update(fobj=fobj)\n",
      "  File \"d:\\Development\\insurance\\venv\\lib\\site-packages\\lightgbm\\basic.py\", line 4136, in update\n",
      "    _LIB.LGBM_BoosterUpdateOneIter(\n",
      "KeyboardInterrupt\n",
      "[W 2024-12-28 00:34:38,522] Trial 41 failed with value None.\n"
     ]
    },
    {
     "ename": "KeyboardInterrupt",
     "evalue": "",
     "output_type": "error",
     "traceback": [
      "\u001b[1;31m---------------------------------------------------------------------------\u001b[0m",
      "\u001b[1;31mKeyboardInterrupt\u001b[0m                         Traceback (most recent call last)",
      "Cell \u001b[1;32mIn[10], line 1\u001b[0m\n\u001b[1;32m----> 1\u001b[0m \u001b[43mstudy\u001b[49m\u001b[38;5;241;43m.\u001b[39;49m\u001b[43moptimize\u001b[49m\u001b[43m(\u001b[49m\u001b[43mobjective\u001b[49m\u001b[43m,\u001b[49m\u001b[43m \u001b[49m\u001b[43mn_trials\u001b[49m\u001b[38;5;241;43m=\u001b[39;49m\u001b[38;5;241;43m50\u001b[39;49m\u001b[43m)\u001b[49m\n",
      "File \u001b[1;32md:\\Development\\insurance\\venv\\lib\\site-packages\\optuna\\study\\study.py:475\u001b[0m, in \u001b[0;36mStudy.optimize\u001b[1;34m(self, func, n_trials, timeout, n_jobs, catch, callbacks, gc_after_trial, show_progress_bar)\u001b[0m\n\u001b[0;32m    373\u001b[0m \u001b[38;5;28;01mdef\u001b[39;00m \u001b[38;5;21moptimize\u001b[39m(\n\u001b[0;32m    374\u001b[0m     \u001b[38;5;28mself\u001b[39m,\n\u001b[0;32m    375\u001b[0m     func: ObjectiveFuncType,\n\u001b[1;32m   (...)\u001b[0m\n\u001b[0;32m    382\u001b[0m     show_progress_bar: \u001b[38;5;28mbool\u001b[39m \u001b[38;5;241m=\u001b[39m \u001b[38;5;28;01mFalse\u001b[39;00m,\n\u001b[0;32m    383\u001b[0m ) \u001b[38;5;241m-\u001b[39m\u001b[38;5;241m>\u001b[39m \u001b[38;5;28;01mNone\u001b[39;00m:\n\u001b[0;32m    384\u001b[0m \u001b[38;5;250m    \u001b[39m\u001b[38;5;124;03m\"\"\"Optimize an objective function.\u001b[39;00m\n\u001b[0;32m    385\u001b[0m \n\u001b[0;32m    386\u001b[0m \u001b[38;5;124;03m    Optimization is done by choosing a suitable set of hyperparameter values from a given\u001b[39;00m\n\u001b[1;32m   (...)\u001b[0m\n\u001b[0;32m    473\u001b[0m \u001b[38;5;124;03m            If nested invocation of this method occurs.\u001b[39;00m\n\u001b[0;32m    474\u001b[0m \u001b[38;5;124;03m    \"\"\"\u001b[39;00m\n\u001b[1;32m--> 475\u001b[0m     \u001b[43m_optimize\u001b[49m\u001b[43m(\u001b[49m\n\u001b[0;32m    476\u001b[0m \u001b[43m        \u001b[49m\u001b[43mstudy\u001b[49m\u001b[38;5;241;43m=\u001b[39;49m\u001b[38;5;28;43mself\u001b[39;49m\u001b[43m,\u001b[49m\n\u001b[0;32m    477\u001b[0m \u001b[43m        \u001b[49m\u001b[43mfunc\u001b[49m\u001b[38;5;241;43m=\u001b[39;49m\u001b[43mfunc\u001b[49m\u001b[43m,\u001b[49m\n\u001b[0;32m    478\u001b[0m \u001b[43m        \u001b[49m\u001b[43mn_trials\u001b[49m\u001b[38;5;241;43m=\u001b[39;49m\u001b[43mn_trials\u001b[49m\u001b[43m,\u001b[49m\n\u001b[0;32m    479\u001b[0m \u001b[43m        \u001b[49m\u001b[43mtimeout\u001b[49m\u001b[38;5;241;43m=\u001b[39;49m\u001b[43mtimeout\u001b[49m\u001b[43m,\u001b[49m\n\u001b[0;32m    480\u001b[0m \u001b[43m        \u001b[49m\u001b[43mn_jobs\u001b[49m\u001b[38;5;241;43m=\u001b[39;49m\u001b[43mn_jobs\u001b[49m\u001b[43m,\u001b[49m\n\u001b[0;32m    481\u001b[0m \u001b[43m        \u001b[49m\u001b[43mcatch\u001b[49m\u001b[38;5;241;43m=\u001b[39;49m\u001b[38;5;28;43mtuple\u001b[39;49m\u001b[43m(\u001b[49m\u001b[43mcatch\u001b[49m\u001b[43m)\u001b[49m\u001b[43m \u001b[49m\u001b[38;5;28;43;01mif\u001b[39;49;00m\u001b[43m \u001b[49m\u001b[38;5;28;43misinstance\u001b[39;49m\u001b[43m(\u001b[49m\u001b[43mcatch\u001b[49m\u001b[43m,\u001b[49m\u001b[43m \u001b[49m\u001b[43mIterable\u001b[49m\u001b[43m)\u001b[49m\u001b[43m \u001b[49m\u001b[38;5;28;43;01melse\u001b[39;49;00m\u001b[43m \u001b[49m\u001b[43m(\u001b[49m\u001b[43mcatch\u001b[49m\u001b[43m,\u001b[49m\u001b[43m)\u001b[49m\u001b[43m,\u001b[49m\n\u001b[0;32m    482\u001b[0m \u001b[43m        \u001b[49m\u001b[43mcallbacks\u001b[49m\u001b[38;5;241;43m=\u001b[39;49m\u001b[43mcallbacks\u001b[49m\u001b[43m,\u001b[49m\n\u001b[0;32m    483\u001b[0m \u001b[43m        \u001b[49m\u001b[43mgc_after_trial\u001b[49m\u001b[38;5;241;43m=\u001b[39;49m\u001b[43mgc_after_trial\u001b[49m\u001b[43m,\u001b[49m\n\u001b[0;32m    484\u001b[0m \u001b[43m        \u001b[49m\u001b[43mshow_progress_bar\u001b[49m\u001b[38;5;241;43m=\u001b[39;49m\u001b[43mshow_progress_bar\u001b[49m\u001b[43m,\u001b[49m\n\u001b[0;32m    485\u001b[0m \u001b[43m    \u001b[49m\u001b[43m)\u001b[49m\n",
      "File \u001b[1;32md:\\Development\\insurance\\venv\\lib\\site-packages\\optuna\\study\\_optimize.py:63\u001b[0m, in \u001b[0;36m_optimize\u001b[1;34m(study, func, n_trials, timeout, n_jobs, catch, callbacks, gc_after_trial, show_progress_bar)\u001b[0m\n\u001b[0;32m     61\u001b[0m \u001b[38;5;28;01mtry\u001b[39;00m:\n\u001b[0;32m     62\u001b[0m     \u001b[38;5;28;01mif\u001b[39;00m n_jobs \u001b[38;5;241m==\u001b[39m \u001b[38;5;241m1\u001b[39m:\n\u001b[1;32m---> 63\u001b[0m         \u001b[43m_optimize_sequential\u001b[49m\u001b[43m(\u001b[49m\n\u001b[0;32m     64\u001b[0m \u001b[43m            \u001b[49m\u001b[43mstudy\u001b[49m\u001b[43m,\u001b[49m\n\u001b[0;32m     65\u001b[0m \u001b[43m            \u001b[49m\u001b[43mfunc\u001b[49m\u001b[43m,\u001b[49m\n\u001b[0;32m     66\u001b[0m \u001b[43m            \u001b[49m\u001b[43mn_trials\u001b[49m\u001b[43m,\u001b[49m\n\u001b[0;32m     67\u001b[0m \u001b[43m            \u001b[49m\u001b[43mtimeout\u001b[49m\u001b[43m,\u001b[49m\n\u001b[0;32m     68\u001b[0m \u001b[43m            \u001b[49m\u001b[43mcatch\u001b[49m\u001b[43m,\u001b[49m\n\u001b[0;32m     69\u001b[0m \u001b[43m            \u001b[49m\u001b[43mcallbacks\u001b[49m\u001b[43m,\u001b[49m\n\u001b[0;32m     70\u001b[0m \u001b[43m            \u001b[49m\u001b[43mgc_after_trial\u001b[49m\u001b[43m,\u001b[49m\n\u001b[0;32m     71\u001b[0m \u001b[43m            \u001b[49m\u001b[43mreseed_sampler_rng\u001b[49m\u001b[38;5;241;43m=\u001b[39;49m\u001b[38;5;28;43;01mFalse\u001b[39;49;00m\u001b[43m,\u001b[49m\n\u001b[0;32m     72\u001b[0m \u001b[43m            \u001b[49m\u001b[43mtime_start\u001b[49m\u001b[38;5;241;43m=\u001b[39;49m\u001b[38;5;28;43;01mNone\u001b[39;49;00m\u001b[43m,\u001b[49m\n\u001b[0;32m     73\u001b[0m \u001b[43m            \u001b[49m\u001b[43mprogress_bar\u001b[49m\u001b[38;5;241;43m=\u001b[39;49m\u001b[43mprogress_bar\u001b[49m\u001b[43m,\u001b[49m\n\u001b[0;32m     74\u001b[0m \u001b[43m        \u001b[49m\u001b[43m)\u001b[49m\n\u001b[0;32m     75\u001b[0m     \u001b[38;5;28;01melse\u001b[39;00m:\n\u001b[0;32m     76\u001b[0m         \u001b[38;5;28;01mif\u001b[39;00m n_jobs \u001b[38;5;241m==\u001b[39m \u001b[38;5;241m-\u001b[39m\u001b[38;5;241m1\u001b[39m:\n",
      "File \u001b[1;32md:\\Development\\insurance\\venv\\lib\\site-packages\\optuna\\study\\_optimize.py:160\u001b[0m, in \u001b[0;36m_optimize_sequential\u001b[1;34m(study, func, n_trials, timeout, catch, callbacks, gc_after_trial, reseed_sampler_rng, time_start, progress_bar)\u001b[0m\n\u001b[0;32m    157\u001b[0m         \u001b[38;5;28;01mbreak\u001b[39;00m\n\u001b[0;32m    159\u001b[0m \u001b[38;5;28;01mtry\u001b[39;00m:\n\u001b[1;32m--> 160\u001b[0m     frozen_trial \u001b[38;5;241m=\u001b[39m \u001b[43m_run_trial\u001b[49m\u001b[43m(\u001b[49m\u001b[43mstudy\u001b[49m\u001b[43m,\u001b[49m\u001b[43m \u001b[49m\u001b[43mfunc\u001b[49m\u001b[43m,\u001b[49m\u001b[43m \u001b[49m\u001b[43mcatch\u001b[49m\u001b[43m)\u001b[49m\n\u001b[0;32m    161\u001b[0m \u001b[38;5;28;01mfinally\u001b[39;00m:\n\u001b[0;32m    162\u001b[0m     \u001b[38;5;66;03m# The following line mitigates memory problems that can be occurred in some\u001b[39;00m\n\u001b[0;32m    163\u001b[0m     \u001b[38;5;66;03m# environments (e.g., services that use computing containers such as GitHub Actions).\u001b[39;00m\n\u001b[0;32m    164\u001b[0m     \u001b[38;5;66;03m# Please refer to the following PR for further details:\u001b[39;00m\n\u001b[0;32m    165\u001b[0m     \u001b[38;5;66;03m# https://github.com/optuna/optuna/pull/325.\u001b[39;00m\n\u001b[0;32m    166\u001b[0m     \u001b[38;5;28;01mif\u001b[39;00m gc_after_trial:\n",
      "File \u001b[1;32md:\\Development\\insurance\\venv\\lib\\site-packages\\optuna\\study\\_optimize.py:248\u001b[0m, in \u001b[0;36m_run_trial\u001b[1;34m(study, func, catch)\u001b[0m\n\u001b[0;32m    241\u001b[0m         \u001b[38;5;28;01massert\u001b[39;00m \u001b[38;5;28;01mFalse\u001b[39;00m, \u001b[38;5;124m\"\u001b[39m\u001b[38;5;124mShould not reach.\u001b[39m\u001b[38;5;124m\"\u001b[39m\n\u001b[0;32m    243\u001b[0m \u001b[38;5;28;01mif\u001b[39;00m (\n\u001b[0;32m    244\u001b[0m     frozen_trial\u001b[38;5;241m.\u001b[39mstate \u001b[38;5;241m==\u001b[39m TrialState\u001b[38;5;241m.\u001b[39mFAIL\n\u001b[0;32m    245\u001b[0m     \u001b[38;5;129;01mand\u001b[39;00m func_err \u001b[38;5;129;01mis\u001b[39;00m \u001b[38;5;129;01mnot\u001b[39;00m \u001b[38;5;28;01mNone\u001b[39;00m\n\u001b[0;32m    246\u001b[0m     \u001b[38;5;129;01mand\u001b[39;00m \u001b[38;5;129;01mnot\u001b[39;00m \u001b[38;5;28misinstance\u001b[39m(func_err, catch)\n\u001b[0;32m    247\u001b[0m ):\n\u001b[1;32m--> 248\u001b[0m     \u001b[38;5;28;01mraise\u001b[39;00m func_err\n\u001b[0;32m    249\u001b[0m \u001b[38;5;28;01mreturn\u001b[39;00m frozen_trial\n",
      "File \u001b[1;32md:\\Development\\insurance\\venv\\lib\\site-packages\\optuna\\study\\_optimize.py:197\u001b[0m, in \u001b[0;36m_run_trial\u001b[1;34m(study, func, catch)\u001b[0m\n\u001b[0;32m    195\u001b[0m \u001b[38;5;28;01mwith\u001b[39;00m get_heartbeat_thread(trial\u001b[38;5;241m.\u001b[39m_trial_id, study\u001b[38;5;241m.\u001b[39m_storage):\n\u001b[0;32m    196\u001b[0m     \u001b[38;5;28;01mtry\u001b[39;00m:\n\u001b[1;32m--> 197\u001b[0m         value_or_values \u001b[38;5;241m=\u001b[39m \u001b[43mfunc\u001b[49m\u001b[43m(\u001b[49m\u001b[43mtrial\u001b[49m\u001b[43m)\u001b[49m\n\u001b[0;32m    198\u001b[0m     \u001b[38;5;28;01mexcept\u001b[39;00m exceptions\u001b[38;5;241m.\u001b[39mTrialPruned \u001b[38;5;28;01mas\u001b[39;00m e:\n\u001b[0;32m    199\u001b[0m         \u001b[38;5;66;03m# TODO(mamu): Handle multi-objective cases.\u001b[39;00m\n\u001b[0;32m    200\u001b[0m         state \u001b[38;5;241m=\u001b[39m TrialState\u001b[38;5;241m.\u001b[39mPRUNED\n",
      "Cell \u001b[1;32mIn[9], line 51\u001b[0m, in \u001b[0;36mobjective\u001b[1;34m(trial)\u001b[0m\n\u001b[0;32m     48\u001b[0m val_data_lgbm \u001b[38;5;241m=\u001b[39m lgb\u001b[38;5;241m.\u001b[39mDataset(X_val_fold, label\u001b[38;5;241m=\u001b[39my_val_fold)\n\u001b[0;32m     50\u001b[0m \u001b[38;5;66;03m# Train model\u001b[39;00m\n\u001b[1;32m---> 51\u001b[0m model \u001b[38;5;241m=\u001b[39m \u001b[43mlgb\u001b[49m\u001b[38;5;241;43m.\u001b[39;49m\u001b[43mtrain\u001b[49m\u001b[43m(\u001b[49m\n\u001b[0;32m     52\u001b[0m \u001b[43m    \u001b[49m\u001b[43mparam_grid\u001b[49m\u001b[43m,\u001b[49m\n\u001b[0;32m     53\u001b[0m \u001b[43m    \u001b[49m\u001b[43mtrain_data_lgbm\u001b[49m\u001b[43m,\u001b[49m\n\u001b[0;32m     54\u001b[0m \u001b[43m    \u001b[49m\u001b[43mvalid_sets\u001b[49m\u001b[38;5;241;43m=\u001b[39;49m\u001b[43m[\u001b[49m\u001b[43mtrain_data_lgbm\u001b[49m\u001b[43m,\u001b[49m\u001b[43m \u001b[49m\u001b[43mval_data_lgbm\u001b[49m\u001b[43m]\u001b[49m\u001b[43m,\u001b[49m\n\u001b[0;32m     55\u001b[0m \u001b[43m    \u001b[49m\u001b[43mvalid_names\u001b[49m\u001b[38;5;241;43m=\u001b[39;49m\u001b[43m[\u001b[49m\u001b[38;5;124;43m\"\u001b[39;49m\u001b[38;5;124;43mtrain\u001b[39;49m\u001b[38;5;124;43m\"\u001b[39;49m\u001b[43m,\u001b[49m\u001b[43m \u001b[49m\u001b[38;5;124;43m\"\u001b[39;49m\u001b[38;5;124;43mvalidation\u001b[39;49m\u001b[38;5;124;43m\"\u001b[39;49m\u001b[43m]\u001b[49m\u001b[43m,\u001b[49m\n\u001b[0;32m     56\u001b[0m \u001b[43m    \u001b[49m\u001b[43mfeval\u001b[49m\u001b[38;5;241;43m=\u001b[39;49m\u001b[43mrmsle_metric\u001b[49m\u001b[43m,\u001b[49m\u001b[43m    \u001b[49m\u001b[38;5;66;43;03m# Custom RMSLE metric\u001b[39;49;00m\n\u001b[0;32m     57\u001b[0m \u001b[43m    \u001b[49m\u001b[43mcallbacks\u001b[49m\u001b[38;5;241;43m=\u001b[39;49m\u001b[43m[\u001b[49m\n\u001b[0;32m     58\u001b[0m \u001b[43m        \u001b[49m\u001b[43mlgb\u001b[49m\u001b[38;5;241;43m.\u001b[39;49m\u001b[43mearly_stopping\u001b[49m\u001b[43m(\u001b[49m\u001b[43mstopping_rounds\u001b[49m\u001b[38;5;241;43m=\u001b[39;49m\u001b[38;5;241;43m10\u001b[39;49m\u001b[43m)\u001b[49m\u001b[43m,\u001b[49m\n\u001b[0;32m     59\u001b[0m \u001b[43m        \u001b[49m\u001b[43mlgb\u001b[49m\u001b[38;5;241;43m.\u001b[39;49m\u001b[43mlog_evaluation\u001b[49m\u001b[43m(\u001b[49m\u001b[43mperiod\u001b[49m\u001b[38;5;241;43m=\u001b[39;49m\u001b[38;5;241;43m5\u001b[39;49m\u001b[43m)\u001b[49m\u001b[43m,\u001b[49m\u001b[43m  \u001b[49m\u001b[38;5;66;43;03m# Optional: Logs evaluation every 10 rounds\u001b[39;49;00m\n\u001b[0;32m     60\u001b[0m \u001b[43m    \u001b[49m\u001b[43m]\u001b[49m\n\u001b[0;32m     61\u001b[0m \u001b[43m\u001b[49m\u001b[43m)\u001b[49m\n\u001b[0;32m     62\u001b[0m \u001b[38;5;28;01mreturn\u001b[39;00m model\u001b[38;5;241m.\u001b[39mbest_score[\u001b[38;5;124m'\u001b[39m\u001b[38;5;124mvalidation\u001b[39m\u001b[38;5;124m'\u001b[39m][\u001b[38;5;124m'\u001b[39m\u001b[38;5;124mrmsle\u001b[39m\u001b[38;5;124m'\u001b[39m]\n",
      "File \u001b[1;32md:\\Development\\insurance\\venv\\lib\\site-packages\\lightgbm\\engine.py:307\u001b[0m, in \u001b[0;36mtrain\u001b[1;34m(params, train_set, num_boost_round, valid_sets, valid_names, feval, init_model, feature_name, categorical_feature, keep_training_booster, callbacks)\u001b[0m\n\u001b[0;32m    295\u001b[0m \u001b[38;5;28;01mfor\u001b[39;00m cb \u001b[38;5;129;01min\u001b[39;00m callbacks_before_iter:\n\u001b[0;32m    296\u001b[0m     cb(\n\u001b[0;32m    297\u001b[0m         callback\u001b[38;5;241m.\u001b[39mCallbackEnv(\n\u001b[0;32m    298\u001b[0m             model\u001b[38;5;241m=\u001b[39mbooster,\n\u001b[1;32m   (...)\u001b[0m\n\u001b[0;32m    304\u001b[0m         )\n\u001b[0;32m    305\u001b[0m     )\n\u001b[1;32m--> 307\u001b[0m \u001b[43mbooster\u001b[49m\u001b[38;5;241;43m.\u001b[39;49m\u001b[43mupdate\u001b[49m\u001b[43m(\u001b[49m\u001b[43mfobj\u001b[49m\u001b[38;5;241;43m=\u001b[39;49m\u001b[43mfobj\u001b[49m\u001b[43m)\u001b[49m\n\u001b[0;32m    309\u001b[0m evaluation_result_list: List[_LGBM_BoosterEvalMethodResultType] \u001b[38;5;241m=\u001b[39m []\n\u001b[0;32m    310\u001b[0m \u001b[38;5;66;03m# check evaluation result.\u001b[39;00m\n",
      "File \u001b[1;32md:\\Development\\insurance\\venv\\lib\\site-packages\\lightgbm\\basic.py:4136\u001b[0m, in \u001b[0;36mBooster.update\u001b[1;34m(self, train_set, fobj)\u001b[0m\n\u001b[0;32m   4133\u001b[0m \u001b[38;5;28;01mif\u001b[39;00m \u001b[38;5;28mself\u001b[39m\u001b[38;5;241m.\u001b[39m__set_objective_to_none:\n\u001b[0;32m   4134\u001b[0m     \u001b[38;5;28;01mraise\u001b[39;00m LightGBMError(\u001b[38;5;124m\"\u001b[39m\u001b[38;5;124mCannot update due to null objective function.\u001b[39m\u001b[38;5;124m\"\u001b[39m)\n\u001b[0;32m   4135\u001b[0m _safe_call(\n\u001b[1;32m-> 4136\u001b[0m     \u001b[43m_LIB\u001b[49m\u001b[38;5;241;43m.\u001b[39;49m\u001b[43mLGBM_BoosterUpdateOneIter\u001b[49m\u001b[43m(\u001b[49m\n\u001b[0;32m   4137\u001b[0m \u001b[43m        \u001b[49m\u001b[38;5;28;43mself\u001b[39;49m\u001b[38;5;241;43m.\u001b[39;49m\u001b[43m_handle\u001b[49m\u001b[43m,\u001b[49m\n\u001b[0;32m   4138\u001b[0m \u001b[43m        \u001b[49m\u001b[43mctypes\u001b[49m\u001b[38;5;241;43m.\u001b[39;49m\u001b[43mbyref\u001b[49m\u001b[43m(\u001b[49m\u001b[43mis_finished\u001b[49m\u001b[43m)\u001b[49m\u001b[43m,\u001b[49m\n\u001b[0;32m   4139\u001b[0m \u001b[43m    \u001b[49m\u001b[43m)\u001b[49m\n\u001b[0;32m   4140\u001b[0m )\n\u001b[0;32m   4141\u001b[0m \u001b[38;5;28mself\u001b[39m\u001b[38;5;241m.\u001b[39m__is_predicted_cur_iter \u001b[38;5;241m=\u001b[39m [\u001b[38;5;28;01mFalse\u001b[39;00m \u001b[38;5;28;01mfor\u001b[39;00m _ \u001b[38;5;129;01min\u001b[39;00m \u001b[38;5;28mrange\u001b[39m(\u001b[38;5;28mself\u001b[39m\u001b[38;5;241m.\u001b[39m__num_dataset)]\n\u001b[0;32m   4142\u001b[0m \u001b[38;5;28;01mreturn\u001b[39;00m is_finished\u001b[38;5;241m.\u001b[39mvalue \u001b[38;5;241m==\u001b[39m \u001b[38;5;241m1\u001b[39m\n",
      "\u001b[1;31mKeyboardInterrupt\u001b[0m: "
     ]
    }
   ],
   "source": [
    "study.optimize(objective, n_trials=50)"
   ]
  },
  {
   "cell_type": "code",
   "execution_count": 13,
   "metadata": {},
   "outputs": [
    {
     "name": "stderr",
     "output_type": "stream",
     "text": [
      "[I 2024-12-28 00:35:24,607] A new study created in RDB with name: insurance-20241228_003524\n"
     ]
    }
   ],
   "source": [
    "from sklearn.metrics import mean_squared_log_error\n",
    "\n",
    "# RMSLE custom metric\n",
    "def rmsle_metric(y_pred, dtrain):\n",
    "    y_true = dtrain.get_label()\n",
    "    rmsle = np.sqrt(mean_squared_log_error(y_true, np.clip(y_pred, 10, 4999)))\n",
    "    return 'rmsle', rmsle\n",
    "\n",
    "# Define objective function\n",
    "def objective(trial):\n",
    "    param_grid = {\n",
    "        'objective': 'reg:squaredlogerror',  # For regression tasks\n",
    "        'eval_metric': 'rmse',  # Root Mean Squared Error is commonly used for regression\n",
    "        'learning_rate': trial.suggest_float('learning_rate', 0.002, 0.5),  # Fine-tuned range\n",
    "        'max_depth': trial.suggest_int('max_depth', 3, 10),  # Depth of trees\n",
    "        'min_child_weight': trial.suggest_int('min_child_weight', 1, 50),  # Minimum sum of instance weight in a child\n",
    "        'subsample': trial.suggest_float('subsample', 0.5, 1.0),  # Fraction of data used for each tree\n",
    "        'colsample_bytree': trial.suggest_float('colsample_bytree', 0.5, 1.0),  # Fraction of features used\n",
    "        'gamma': trial.suggest_float('gamma', 0, 10),  # Minimum loss reduction to make a further partition\n",
    "        'lambda': trial.suggest_float('lambda', 0.01, 10),  # L2 regularization\n",
    "        'alpha': trial.suggest_float('alpha', 0.01, 10),  # L1 regularization\n",
    "        'random_state': 42,  # Reproducibility\n",
    "    }\n",
    "\n",
    "    print(param_grid)\n",
    "\n",
    "    # Split data into train and validation sets\n",
    "    X_train_fold, X_val_fold, y_train_fold, y_val_fold = train_test_split(X_train, y_train, test_size=0.2, random_state=1)\n",
    "\n",
    "    # Create DMatrix for XGBoost\n",
    "    dtrain = xgb.DMatrix(X_train_fold, label=y_train_fold, enable_categorical=True)\n",
    "    dval = xgb.DMatrix(X_val_fold, label=y_val_fold, enable_categorical=True)\n",
    "    \n",
    "    # Train model\n",
    "    evals = [(dtrain, 'train'), (dval, 'validation')]\n",
    "    model = xgb.train(\n",
    "        param_grid,\n",
    "        dtrain,\n",
    "        num_boost_round=trial.suggest_int('n_estimators', 100, 1000),\n",
    "        evals=evals,\n",
    "        early_stopping_rounds=10,\n",
    "        feval=rmsle_metric,  # Custom RMSLE metric\n",
    "        verbose_eval=5  # Logs every 5 rounds\n",
    "    )\n",
    "    return model.best_score\n",
    "\n",
    "# Get current date and time in the format YYYYMMDD_HHMMSS\n",
    "current_datetime = datetime.now().strftime(\"%Y%m%d_%H%M%S\")\n",
    "\n",
    "# Create a study with a date and time identifier\n",
    "study = optuna.create_study(\n",
    "    direction='minimize',\n",
    "    storage=\"sqlite:///optuna_db.sqlite3\",\n",
    "    study_name=f\"insurance-{current_datetime}\",  # Append date and time to study name\n",
    "    sampler=optuna.samplers.TPESampler(),\n",
    "    pruner=optuna.pruners.HyperbandPruner()\n",
    ")\n"
   ]
  },
  {
   "cell_type": "code",
   "execution_count": 14,
   "metadata": {},
   "outputs": [
    {
     "name": "stdout",
     "output_type": "stream",
     "text": [
      "{'objective': 'reg:squaredlogerror', 'eval_metric': 'rmse', 'learning_rate': 0.2957419903119456, 'n_estimators': 162, 'max_depth': 10, 'min_child_weight': 2, 'subsample': 0.5469697057872275, 'colsample_bytree': 0.7526638489519668, 'gamma': 7.0686259657348005, 'lambda': 3.2441712497799524, 'alpha': 1.3613880149191246, 'random_state': 42}\n"
     ]
    },
    {
     "name": "stderr",
     "output_type": "stream",
     "text": [
      "d:\\Development\\insurance\\venv\\lib\\site-packages\\xgboost\\training.py:38: UserWarning: `feval` is deprecated, use `custom_metric` instead.  They have different behavior when custom objective is also used.See https://xgboost.readthedocs.io/en/latest/tutorials/custom_metric_obj.html for details on the `custom_metric`.\n",
      "  warnings.warn(\n",
      "d:\\Development\\insurance\\venv\\lib\\site-packages\\xgboost\\core.py:158: UserWarning: [00:35:26] WARNING: C:\\buildkite-agent\\builds\\buildkite-windows-cpu-autoscaling-group-i-0c55ff5f71b100e98-1\\xgboost\\xgboost-ci-windows\\src\\learner.cc:740: \n",
      "Parameters: { \"n_estimators\" } are not used.\n",
      "\n",
      "  warnings.warn(smsg, UserWarning)\n"
     ]
    },
    {
     "name": "stdout",
     "output_type": "stream",
     "text": [
      "[0]\ttrain-rmse:1400.28310\ttrain-rmsle:4.33687\tvalidation-rmse:1400.42128\tvalidation-rmsle:4.33615\n",
      "[5]\ttrain-rmse:1396.53222\ttrain-rmsle:4.33687\tvalidation-rmse:1396.67218\tvalidation-rmsle:4.33615\n",
      "[10]\ttrain-rmse:1385.85695\ttrain-rmsle:3.72757\tvalidation-rmse:1386.00219\tvalidation-rmsle:3.72680\n",
      "[15]\ttrain-rmse:1357.80529\ttrain-rmsle:2.77857\tvalidation-rmse:1357.96519\tvalidation-rmsle:2.77769\n",
      "[20]\ttrain-rmse:1294.32860\ttrain-rmsle:1.97900\tvalidation-rmse:1294.52470\tvalidation-rmsle:1.97795\n",
      "[25]\ttrain-rmse:1191.92072\ttrain-rmsle:1.44848\tvalidation-rmse:1192.18615\tvalidation-rmsle:1.44724\n",
      "[30]\ttrain-rmse:1096.49936\ttrain-rmsle:1.21796\tvalidation-rmse:1096.84627\tvalidation-rmsle:1.21663\n",
      "[35]\ttrain-rmse:1036.96077\ttrain-rmsle:1.14130\tvalidation-rmse:1037.37065\tvalidation-rmsle:1.13995\n",
      "[40]\ttrain-rmse:1002.53369\ttrain-rmsle:1.11462\tvalidation-rmse:1002.98607\tvalidation-rmsle:1.11328\n",
      "[45]\ttrain-rmse:997.58265\ttrain-rmsle:1.11176\tvalidation-rmse:998.04160\tvalidation-rmsle:1.11042\n",
      "[50]\ttrain-rmse:997.58265\ttrain-rmsle:1.11176\tvalidation-rmse:998.04160\tvalidation-rmsle:1.11042\n",
      "[51]\ttrain-rmse:997.58265\ttrain-rmsle:1.11176\tvalidation-rmse:998.04160\tvalidation-rmsle:1.11042\n"
     ]
    },
    {
     "name": "stderr",
     "output_type": "stream",
     "text": [
      "[I 2024-12-28 00:35:32,341] Trial 0 finished with value: 1.110417 and parameters: {'learning_rate': 0.2957419903119456, 'n_estimators': 162, 'max_depth': 10, 'min_child_weight': 2, 'subsample': 0.5469697057872275, 'colsample_bytree': 0.7526638489519668, 'gamma': 7.0686259657348005, 'lambda': 3.2441712497799524, 'alpha': 1.3613880149191246}. Best is trial 0 with value: 1.110417.\n"
     ]
    },
    {
     "name": "stdout",
     "output_type": "stream",
     "text": [
      "{'objective': 'reg:squaredlogerror', 'eval_metric': 'rmse', 'learning_rate': 0.3322873389994825, 'n_estimators': 282, 'max_depth': 7, 'min_child_weight': 47, 'subsample': 0.9716350310292818, 'colsample_bytree': 0.7666170928500625, 'gamma': 8.906028557947097, 'lambda': 6.1392653263772905, 'alpha': 8.736733799976047, 'random_state': 42}\n"
     ]
    },
    {
     "name": "stderr",
     "output_type": "stream",
     "text": [
      "d:\\Development\\insurance\\venv\\lib\\site-packages\\xgboost\\training.py:38: UserWarning: `feval` is deprecated, use `custom_metric` instead.  They have different behavior when custom objective is also used.See https://xgboost.readthedocs.io/en/latest/tutorials/custom_metric_obj.html for details on the `custom_metric`.\n",
      "  warnings.warn(\n",
      "d:\\Development\\insurance\\venv\\lib\\site-packages\\xgboost\\core.py:158: UserWarning: [00:35:33] WARNING: C:\\buildkite-agent\\builds\\buildkite-windows-cpu-autoscaling-group-i-0c55ff5f71b100e98-1\\xgboost\\xgboost-ci-windows\\src\\learner.cc:740: \n",
      "Parameters: { \"n_estimators\" } are not used.\n",
      "\n",
      "  warnings.warn(smsg, UserWarning)\n"
     ]
    },
    {
     "name": "stdout",
     "output_type": "stream",
     "text": [
      "[0]\ttrain-rmse:1400.23710\ttrain-rmsle:4.33687\tvalidation-rmse:1400.37530\tvalidation-rmsle:4.33615\n",
      "[5]\ttrain-rmse:1395.66835\ttrain-rmsle:4.33687\tvalidation-rmse:1395.80877\tvalidation-rmsle:4.33615\n",
      "[10]\ttrain-rmse:1381.23783\ttrain-rmsle:3.48812\tvalidation-rmse:1381.38554\tvalidation-rmsle:3.48733\n",
      "[15]\ttrain-rmse:1340.34775\ttrain-rmsle:2.47290\tvalidation-rmse:1340.51728\tvalidation-rmsle:2.47197\n",
      "[20]\ttrain-rmse:1249.55071\ttrain-rmsle:1.69051\tvalidation-rmse:1249.77535\tvalidation-rmsle:1.68937\n",
      "[25]\ttrain-rmse:1225.86425\ttrain-rmsle:1.57787\tvalidation-rmse:1226.10505\tvalidation-rmsle:1.57668\n",
      "[30]\ttrain-rmse:1225.86425\ttrain-rmsle:1.57787\tvalidation-rmse:1226.10505\tvalidation-rmsle:1.57668\n",
      "[31]\ttrain-rmse:1225.86425\ttrain-rmsle:1.57787\tvalidation-rmse:1226.10505\tvalidation-rmsle:1.57668\n"
     ]
    },
    {
     "name": "stderr",
     "output_type": "stream",
     "text": [
      "[I 2024-12-28 00:35:37,394] Trial 1 finished with value: 1.576682 and parameters: {'learning_rate': 0.3322873389994825, 'n_estimators': 282, 'max_depth': 7, 'min_child_weight': 47, 'subsample': 0.9716350310292818, 'colsample_bytree': 0.7666170928500625, 'gamma': 8.906028557947097, 'lambda': 6.1392653263772905, 'alpha': 8.736733799976047}. Best is trial 0 with value: 1.110417.\n"
     ]
    },
    {
     "name": "stdout",
     "output_type": "stream",
     "text": [
      "{'objective': 'reg:squaredlogerror', 'eval_metric': 'rmse', 'learning_rate': 0.11669224520832086, 'n_estimators': 412, 'max_depth': 9, 'min_child_weight': 29, 'subsample': 0.6370794052459486, 'colsample_bytree': 0.8765318845080767, 'gamma': 9.109000367761544, 'lambda': 7.851952882294577, 'alpha': 7.821418975088781, 'random_state': 42}\n"
     ]
    },
    {
     "name": "stderr",
     "output_type": "stream",
     "text": [
      "d:\\Development\\insurance\\venv\\lib\\site-packages\\xgboost\\training.py:38: UserWarning: `feval` is deprecated, use `custom_metric` instead.  They have different behavior when custom objective is also used.See https://xgboost.readthedocs.io/en/latest/tutorials/custom_metric_obj.html for details on the `custom_metric`.\n",
      "  warnings.warn(\n",
      "d:\\Development\\insurance\\venv\\lib\\site-packages\\xgboost\\core.py:158: UserWarning: [00:35:38] WARNING: C:\\buildkite-agent\\builds\\buildkite-windows-cpu-autoscaling-group-i-0c55ff5f71b100e98-1\\xgboost\\xgboost-ci-windows\\src\\learner.cc:740: \n",
      "Parameters: { \"n_estimators\" } are not used.\n",
      "\n",
      "  warnings.warn(smsg, UserWarning)\n"
     ]
    },
    {
     "name": "stdout",
     "output_type": "stream",
     "text": [
      "[0]\ttrain-rmse:1400.50867\ttrain-rmsle:4.33687\tvalidation-rmse:1400.64674\tvalidation-rmsle:4.33615\n",
      "[5]\ttrain-rmse:1399.53034\ttrain-rmsle:4.33687\tvalidation-rmse:1399.66890\tvalidation-rmsle:4.33615\n",
      "[10]\ttrain-rmse:1397.98607\ttrain-rmsle:4.33687\tvalidation-rmse:1398.12540\tvalidation-rmsle:4.33615\n"
     ]
    },
    {
     "name": "stderr",
     "output_type": "stream",
     "text": [
      "[I 2024-12-28 00:35:40,478] Trial 2 finished with value: 4.336152 and parameters: {'learning_rate': 0.11669224520832086, 'n_estimators': 412, 'max_depth': 9, 'min_child_weight': 29, 'subsample': 0.6370794052459486, 'colsample_bytree': 0.8765318845080767, 'gamma': 9.109000367761544, 'lambda': 7.851952882294577, 'alpha': 7.821418975088781}. Best is trial 0 with value: 1.110417.\n"
     ]
    },
    {
     "name": "stdout",
     "output_type": "stream",
     "text": [
      "{'objective': 'reg:squaredlogerror', 'eval_metric': 'rmse', 'learning_rate': 0.15296793190628755, 'n_estimators': 642, 'max_depth': 3, 'min_child_weight': 32, 'subsample': 0.6145972897306239, 'colsample_bytree': 0.8335990171644219, 'gamma': 8.582019949517324, 'lambda': 0.08288226808584656, 'alpha': 7.011841821551324, 'random_state': 42}\n"
     ]
    },
    {
     "name": "stderr",
     "output_type": "stream",
     "text": [
      "d:\\Development\\insurance\\venv\\lib\\site-packages\\xgboost\\training.py:38: UserWarning: `feval` is deprecated, use `custom_metric` instead.  They have different behavior when custom objective is also used.See https://xgboost.readthedocs.io/en/latest/tutorials/custom_metric_obj.html for details on the `custom_metric`.\n",
      "  warnings.warn(\n",
      "d:\\Development\\insurance\\venv\\lib\\site-packages\\xgboost\\core.py:158: UserWarning: [00:35:41] WARNING: C:\\buildkite-agent\\builds\\buildkite-windows-cpu-autoscaling-group-i-0c55ff5f71b100e98-1\\xgboost\\xgboost-ci-windows\\src\\learner.cc:740: \n",
      "Parameters: { \"n_estimators\" } are not used.\n",
      "\n",
      "  warnings.warn(smsg, UserWarning)\n"
     ]
    },
    {
     "name": "stdout",
     "output_type": "stream",
     "text": [
      "[0]\ttrain-rmse:1400.46297\ttrain-rmsle:4.33687\tvalidation-rmse:1400.60106\tvalidation-rmsle:4.33615\n",
      "[5]\ttrain-rmse:1399.06460\ttrain-rmsle:4.33687\tvalidation-rmse:1399.20337\tvalidation-rmsle:4.33615\n",
      "[9]\ttrain-rmse:1397.17657\ttrain-rmsle:4.33687\tvalidation-rmse:1397.31624\tvalidation-rmsle:4.33615\n"
     ]
    },
    {
     "name": "stderr",
     "output_type": "stream",
     "text": [
      "[I 2024-12-28 00:35:43,688] Trial 3 finished with value: 4.336152 and parameters: {'learning_rate': 0.15296793190628755, 'n_estimators': 642, 'max_depth': 3, 'min_child_weight': 32, 'subsample': 0.6145972897306239, 'colsample_bytree': 0.8335990171644219, 'gamma': 8.582019949517324, 'lambda': 0.08288226808584656, 'alpha': 7.011841821551324}. Best is trial 0 with value: 1.110417.\n"
     ]
    },
    {
     "name": "stdout",
     "output_type": "stream",
     "text": [
      "{'objective': 'reg:squaredlogerror', 'eval_metric': 'rmse', 'learning_rate': 0.3389296845011204, 'n_estimators': 981, 'max_depth': 5, 'min_child_weight': 15, 'subsample': 0.791625846224681, 'colsample_bytree': 0.9952371341307311, 'gamma': 7.552184811314383, 'lambda': 6.4208543994770295, 'alpha': 9.117317051502306, 'random_state': 42}\n"
     ]
    },
    {
     "name": "stderr",
     "output_type": "stream",
     "text": [
      "d:\\Development\\insurance\\venv\\lib\\site-packages\\xgboost\\training.py:38: UserWarning: `feval` is deprecated, use `custom_metric` instead.  They have different behavior when custom objective is also used.See https://xgboost.readthedocs.io/en/latest/tutorials/custom_metric_obj.html for details on the `custom_metric`.\n",
      "  warnings.warn(\n",
      "d:\\Development\\insurance\\venv\\lib\\site-packages\\xgboost\\core.py:158: UserWarning: [00:35:44] WARNING: C:\\buildkite-agent\\builds\\buildkite-windows-cpu-autoscaling-group-i-0c55ff5f71b100e98-1\\xgboost\\xgboost-ci-windows\\src\\learner.cc:740: \n",
      "Parameters: { \"n_estimators\" } are not used.\n",
      "\n",
      "  warnings.warn(smsg, UserWarning)\n"
     ]
    },
    {
     "name": "stdout",
     "output_type": "stream",
     "text": [
      "[0]\ttrain-rmse:1400.22876\ttrain-rmsle:4.33687\tvalidation-rmse:1400.36698\tvalidation-rmsle:4.33615\n",
      "[5]\ttrain-rmse:1395.50206\ttrain-rmsle:4.33687\tvalidation-rmse:1395.64267\tvalidation-rmsle:4.33615\n",
      "[10]\ttrain-rmse:1380.25603\ttrain-rmsle:3.44570\tvalidation-rmse:1380.40466\tvalidation-rmsle:3.44494\n",
      "[15]\ttrain-rmse:1336.73097\ttrain-rmsle:2.42149\tvalidation-rmse:1336.90285\tvalidation-rmsle:2.42055\n",
      "[20]\ttrain-rmse:1242.17886\ttrain-rmsle:1.65314\tvalidation-rmse:1242.40863\tvalidation-rmsle:1.65198\n",
      "[25]\ttrain-rmse:1171.78657\ttrain-rmsle:1.38565\tvalidation-rmse:1172.06774\tvalidation-rmsle:1.38438\n",
      "[30]\ttrain-rmse:1171.78657\ttrain-rmsle:1.38565\tvalidation-rmse:1172.06774\tvalidation-rmsle:1.38438\n",
      "[33]\ttrain-rmse:1171.78657\ttrain-rmsle:1.38565\tvalidation-rmse:1172.06774\tvalidation-rmsle:1.38438\n"
     ]
    },
    {
     "name": "stderr",
     "output_type": "stream",
     "text": [
      "[I 2024-12-28 00:35:48,921] Trial 4 finished with value: 1.38438 and parameters: {'learning_rate': 0.3389296845011204, 'n_estimators': 981, 'max_depth': 5, 'min_child_weight': 15, 'subsample': 0.791625846224681, 'colsample_bytree': 0.9952371341307311, 'gamma': 7.552184811314383, 'lambda': 6.4208543994770295, 'alpha': 9.117317051502306}. Best is trial 0 with value: 1.110417.\n"
     ]
    },
    {
     "name": "stdout",
     "output_type": "stream",
     "text": [
      "{'objective': 'reg:squaredlogerror', 'eval_metric': 'rmse', 'learning_rate': 0.07332342504867854, 'n_estimators': 610, 'max_depth': 8, 'min_child_weight': 9, 'subsample': 0.5829792443136237, 'colsample_bytree': 0.8000207749577295, 'gamma': 4.624550311076244, 'lambda': 6.266712516596265, 'alpha': 0.7613073525411335, 'random_state': 42}\n"
     ]
    },
    {
     "name": "stderr",
     "output_type": "stream",
     "text": [
      "d:\\Development\\insurance\\venv\\lib\\site-packages\\xgboost\\training.py:38: UserWarning: `feval` is deprecated, use `custom_metric` instead.  They have different behavior when custom objective is also used.See https://xgboost.readthedocs.io/en/latest/tutorials/custom_metric_obj.html for details on the `custom_metric`.\n",
      "  warnings.warn(\n",
      "d:\\Development\\insurance\\venv\\lib\\site-packages\\xgboost\\core.py:158: UserWarning: [00:35:49] WARNING: C:\\buildkite-agent\\builds\\buildkite-windows-cpu-autoscaling-group-i-0c55ff5f71b100e98-1\\xgboost\\xgboost-ci-windows\\src\\learner.cc:740: \n",
      "Parameters: { \"n_estimators\" } are not used.\n",
      "\n",
      "  warnings.warn(smsg, UserWarning)\n"
     ]
    },
    {
     "name": "stdout",
     "output_type": "stream",
     "text": [
      "[0]\ttrain-rmse:1400.56330\ttrain-rmsle:4.33687\tvalidation-rmse:1400.70134\tvalidation-rmsle:4.33615\n",
      "[5]\ttrain-rmse:1400.00964\ttrain-rmsle:4.33687\tvalidation-rmse:1400.14795\tvalidation-rmsle:4.33615\n",
      "[9]\ttrain-rmse:1399.43337\ttrain-rmsle:4.33687\tvalidation-rmse:1399.57196\tvalidation-rmsle:4.33615\n"
     ]
    },
    {
     "name": "stderr",
     "output_type": "stream",
     "text": [
      "[I 2024-12-28 00:35:52,085] Trial 5 finished with value: 4.336152 and parameters: {'learning_rate': 0.07332342504867854, 'n_estimators': 610, 'max_depth': 8, 'min_child_weight': 9, 'subsample': 0.5829792443136237, 'colsample_bytree': 0.8000207749577295, 'gamma': 4.624550311076244, 'lambda': 6.266712516596265, 'alpha': 0.7613073525411335}. Best is trial 0 with value: 1.110417.\n"
     ]
    },
    {
     "name": "stdout",
     "output_type": "stream",
     "text": [
      "{'objective': 'reg:squaredlogerror', 'eval_metric': 'rmse', 'learning_rate': 0.15073055018287604, 'n_estimators': 342, 'max_depth': 7, 'min_child_weight': 7, 'subsample': 0.6685983220301637, 'colsample_bytree': 0.8979008300231877, 'gamma': 8.941745934133325, 'lambda': 2.6363795123754143, 'alpha': 7.501775871743993, 'random_state': 42}\n"
     ]
    },
    {
     "name": "stderr",
     "output_type": "stream",
     "text": [
      "d:\\Development\\insurance\\venv\\lib\\site-packages\\xgboost\\training.py:38: UserWarning: `feval` is deprecated, use `custom_metric` instead.  They have different behavior when custom objective is also used.See https://xgboost.readthedocs.io/en/latest/tutorials/custom_metric_obj.html for details on the `custom_metric`.\n",
      "  warnings.warn(\n",
      "d:\\Development\\insurance\\venv\\lib\\site-packages\\xgboost\\core.py:158: UserWarning: [00:35:53] WARNING: C:\\buildkite-agent\\builds\\buildkite-windows-cpu-autoscaling-group-i-0c55ff5f71b100e98-1\\xgboost\\xgboost-ci-windows\\src\\learner.cc:740: \n",
      "Parameters: { \"n_estimators\" } are not used.\n",
      "\n",
      "  warnings.warn(smsg, UserWarning)\n"
     ]
    },
    {
     "name": "stdout",
     "output_type": "stream",
     "text": [
      "[0]\ttrain-rmse:1400.46578\ttrain-rmsle:4.33687\tvalidation-rmse:1400.60388\tvalidation-rmsle:4.33615\n",
      "[5]\ttrain-rmse:1399.09544\ttrain-rmsle:4.33687\tvalidation-rmse:1399.23423\tvalidation-rmsle:4.33615\n",
      "[9]\ttrain-rmse:1397.25780\ttrain-rmsle:4.33687\tvalidation-rmse:1397.39751\tvalidation-rmsle:4.33615\n"
     ]
    },
    {
     "name": "stderr",
     "output_type": "stream",
     "text": [
      "[I 2024-12-28 00:35:55,239] Trial 6 finished with value: 4.336152 and parameters: {'learning_rate': 0.15073055018287604, 'n_estimators': 342, 'max_depth': 7, 'min_child_weight': 7, 'subsample': 0.6685983220301637, 'colsample_bytree': 0.8979008300231877, 'gamma': 8.941745934133325, 'lambda': 2.6363795123754143, 'alpha': 7.501775871743993}. Best is trial 0 with value: 1.110417.\n"
     ]
    },
    {
     "name": "stdout",
     "output_type": "stream",
     "text": [
      "{'objective': 'reg:squaredlogerror', 'eval_metric': 'rmse', 'learning_rate': 0.06550365330858139, 'n_estimators': 149, 'max_depth': 10, 'min_child_weight': 11, 'subsample': 0.7586527899019407, 'colsample_bytree': 0.5014328262004872, 'gamma': 6.0500359281726706, 'lambda': 0.45956557571602163, 'alpha': 6.314571171183111, 'random_state': 42}\n"
     ]
    },
    {
     "name": "stderr",
     "output_type": "stream",
     "text": [
      "d:\\Development\\insurance\\venv\\lib\\site-packages\\xgboost\\training.py:38: UserWarning: `feval` is deprecated, use `custom_metric` instead.  They have different behavior when custom objective is also used.See https://xgboost.readthedocs.io/en/latest/tutorials/custom_metric_obj.html for details on the `custom_metric`.\n",
      "  warnings.warn(\n",
      "d:\\Development\\insurance\\venv\\lib\\site-packages\\xgboost\\core.py:158: UserWarning: [00:35:56] WARNING: C:\\buildkite-agent\\builds\\buildkite-windows-cpu-autoscaling-group-i-0c55ff5f71b100e98-1\\xgboost\\xgboost-ci-windows\\src\\learner.cc:740: \n",
      "Parameters: { \"n_estimators\" } are not used.\n",
      "\n",
      "  warnings.warn(smsg, UserWarning)\n"
     ]
    },
    {
     "name": "stdout",
     "output_type": "stream",
     "text": [
      "[0]\ttrain-rmse:1400.57318\ttrain-rmsle:4.33687\tvalidation-rmse:1400.71122\tvalidation-rmsle:4.33615\n",
      "[5]\ttrain-rmse:1400.08818\ttrain-rmsle:4.33687\tvalidation-rmse:1400.22646\tvalidation-rmsle:4.33615\n",
      "[9]\ttrain-rmse:1399.59666\ttrain-rmsle:4.33687\tvalidation-rmse:1399.73517\tvalidation-rmsle:4.33615\n"
     ]
    },
    {
     "name": "stderr",
     "output_type": "stream",
     "text": [
      "[I 2024-12-28 00:35:58,350] Trial 7 finished with value: 4.336152 and parameters: {'learning_rate': 0.06550365330858139, 'n_estimators': 149, 'max_depth': 10, 'min_child_weight': 11, 'subsample': 0.7586527899019407, 'colsample_bytree': 0.5014328262004872, 'gamma': 6.0500359281726706, 'lambda': 0.45956557571602163, 'alpha': 6.314571171183111}. Best is trial 0 with value: 1.110417.\n"
     ]
    },
    {
     "name": "stdout",
     "output_type": "stream",
     "text": [
      "{'objective': 'reg:squaredlogerror', 'eval_metric': 'rmse', 'learning_rate': 0.055832197449977666, 'n_estimators': 991, 'max_depth': 9, 'min_child_weight': 26, 'subsample': 0.9274264165278947, 'colsample_bytree': 0.9203067189839201, 'gamma': 4.407650576366776, 'lambda': 5.244403216804072, 'alpha': 9.691974333836695, 'random_state': 42}\n"
     ]
    },
    {
     "name": "stderr",
     "output_type": "stream",
     "text": [
      "d:\\Development\\insurance\\venv\\lib\\site-packages\\xgboost\\training.py:38: UserWarning: `feval` is deprecated, use `custom_metric` instead.  They have different behavior when custom objective is also used.See https://xgboost.readthedocs.io/en/latest/tutorials/custom_metric_obj.html for details on the `custom_metric`.\n",
      "  warnings.warn(\n",
      "d:\\Development\\insurance\\venv\\lib\\site-packages\\xgboost\\core.py:158: UserWarning: [00:35:59] WARNING: C:\\buildkite-agent\\builds\\buildkite-windows-cpu-autoscaling-group-i-0c55ff5f71b100e98-1\\xgboost\\xgboost-ci-windows\\src\\learner.cc:740: \n",
      "Parameters: { \"n_estimators\" } are not used.\n",
      "\n",
      "  warnings.warn(smsg, UserWarning)\n"
     ]
    },
    {
     "name": "stdout",
     "output_type": "stream",
     "text": [
      "[0]\ttrain-rmse:1400.58532\ttrain-rmsle:4.33687\tvalidation-rmse:1400.72335\tvalidation-rmsle:4.33615\n",
      "[5]\ttrain-rmse:1400.18137\ttrain-rmsle:4.33687\tvalidation-rmse:1400.31960\tvalidation-rmsle:4.33615\n",
      "[9]\ttrain-rmse:1399.78564\ttrain-rmsle:4.33687\tvalidation-rmse:1399.92406\tvalidation-rmsle:4.33615\n"
     ]
    },
    {
     "name": "stderr",
     "output_type": "stream",
     "text": [
      "[I 2024-12-28 00:36:01,515] Trial 8 finished with value: 4.336152 and parameters: {'learning_rate': 0.055832197449977666, 'n_estimators': 991, 'max_depth': 9, 'min_child_weight': 26, 'subsample': 0.9274264165278947, 'colsample_bytree': 0.9203067189839201, 'gamma': 4.407650576366776, 'lambda': 5.244403216804072, 'alpha': 9.691974333836695}. Best is trial 0 with value: 1.110417.\n"
     ]
    },
    {
     "name": "stdout",
     "output_type": "stream",
     "text": [
      "{'objective': 'reg:squaredlogerror', 'eval_metric': 'rmse', 'learning_rate': 0.24717563136449805, 'n_estimators': 899, 'max_depth': 7, 'min_child_weight': 17, 'subsample': 0.5357960893778075, 'colsample_bytree': 0.9921862678613508, 'gamma': 5.804516653501697, 'lambda': 8.614439748444395, 'alpha': 5.503721083428369, 'random_state': 42}\n"
     ]
    },
    {
     "name": "stderr",
     "output_type": "stream",
     "text": [
      "d:\\Development\\insurance\\venv\\lib\\site-packages\\xgboost\\training.py:38: UserWarning: `feval` is deprecated, use `custom_metric` instead.  They have different behavior when custom objective is also used.See https://xgboost.readthedocs.io/en/latest/tutorials/custom_metric_obj.html for details on the `custom_metric`.\n",
      "  warnings.warn(\n",
      "d:\\Development\\insurance\\venv\\lib\\site-packages\\xgboost\\core.py:158: UserWarning: [00:36:02] WARNING: C:\\buildkite-agent\\builds\\buildkite-windows-cpu-autoscaling-group-i-0c55ff5f71b100e98-1\\xgboost\\xgboost-ci-windows\\src\\learner.cc:740: \n",
      "Parameters: { \"n_estimators\" } are not used.\n",
      "\n",
      "  warnings.warn(smsg, UserWarning)\n"
     ]
    },
    {
     "name": "stdout",
     "output_type": "stream",
     "text": [
      "[0]\ttrain-rmse:1400.34432\ttrain-rmsle:4.33687\tvalidation-rmse:1400.48247\tvalidation-rmsle:4.33615\n",
      "[5]\ttrain-rmse:1397.53459\ttrain-rmsle:4.33687\tvalidation-rmse:1397.67413\tvalidation-rmsle:4.33615\n",
      "[10]\ttrain-rmse:1390.62716\ttrain-rmsle:4.06200\tvalidation-rmse:1390.77010\tvalidation-rmsle:4.06127\n",
      "[15]\ttrain-rmse:1374.54528\ttrain-rmsle:3.22382\tvalidation-rmse:1374.69645\tvalidation-rmsle:3.22300\n",
      "[20]\ttrain-rmse:1340.15575\ttrain-rmsle:2.47009\tvalidation-rmse:1340.32539\tvalidation-rmsle:2.46916\n",
      "[25]\ttrain-rmse:1279.22830\ttrain-rmsle:1.86776\tvalidation-rmse:1279.43382\tvalidation-rmsle:1.86668\n",
      "[30]\ttrain-rmse:1204.28736\ttrain-rmsle:1.49188\tvalidation-rmse:1204.54368\tvalidation-rmsle:1.49066\n",
      "[35]\ttrain-rmse:1204.28736\ttrain-rmsle:1.49188\tvalidation-rmse:1204.54368\tvalidation-rmsle:1.49066\n",
      "[39]\ttrain-rmse:1204.28736\ttrain-rmsle:1.49188\tvalidation-rmse:1204.54368\tvalidation-rmsle:1.49066\n"
     ]
    },
    {
     "name": "stderr",
     "output_type": "stream",
     "text": [
      "[I 2024-12-28 00:36:07,222] Trial 9 finished with value: 1.49066 and parameters: {'learning_rate': 0.24717563136449805, 'n_estimators': 899, 'max_depth': 7, 'min_child_weight': 17, 'subsample': 0.5357960893778075, 'colsample_bytree': 0.9921862678613508, 'gamma': 5.804516653501697, 'lambda': 8.614439748444395, 'alpha': 5.503721083428369}. Best is trial 0 with value: 1.110417.\n"
     ]
    },
    {
     "name": "stdout",
     "output_type": "stream",
     "text": [
      "{'objective': 'reg:squaredlogerror', 'eval_metric': 'rmse', 'learning_rate': 0.48237033995001705, 'n_estimators': 111, 'max_depth': 5, 'min_child_weight': 2, 'subsample': 0.5136532468595041, 'colsample_bytree': 0.6474008250675563, 'gamma': 1.495570126675255, 'lambda': 2.993614286886009, 'alpha': 2.1148946207063615, 'random_state': 42}\n"
     ]
    },
    {
     "name": "stderr",
     "output_type": "stream",
     "text": [
      "d:\\Development\\insurance\\venv\\lib\\site-packages\\xgboost\\training.py:38: UserWarning: `feval` is deprecated, use `custom_metric` instead.  They have different behavior when custom objective is also used.See https://xgboost.readthedocs.io/en/latest/tutorials/custom_metric_obj.html for details on the `custom_metric`.\n",
      "  warnings.warn(\n",
      "d:\\Development\\insurance\\venv\\lib\\site-packages\\xgboost\\core.py:158: UserWarning: [00:36:08] WARNING: C:\\buildkite-agent\\builds\\buildkite-windows-cpu-autoscaling-group-i-0c55ff5f71b100e98-1\\xgboost\\xgboost-ci-windows\\src\\learner.cc:740: \n",
      "Parameters: { \"n_estimators\" } are not used.\n",
      "\n",
      "  warnings.warn(smsg, UserWarning)\n"
     ]
    },
    {
     "name": "stdout",
     "output_type": "stream",
     "text": [
      "[0]\ttrain-rmse:1400.04810\ttrain-rmsle:4.33687\tvalidation-rmse:1400.18640\tvalidation-rmsle:4.33615\n",
      "[5]\ttrain-rmse:1390.93223\ttrain-rmsle:4.08803\tvalidation-rmse:1391.07480\tvalidation-rmsle:4.08727\n",
      "[10]\ttrain-rmse:1349.06187\ttrain-rmsle:2.61208\tvalidation-rmse:1349.22641\tvalidation-rmsle:2.61116\n",
      "[15]\ttrain-rmse:1217.15138\ttrain-rmsle:1.54144\tvalidation-rmse:1217.39818\tvalidation-rmsle:1.54024\n",
      "[20]\ttrain-rmse:1066.67812\ttrain-rmsle:1.17437\tvalidation-rmse:1067.05508\tvalidation-rmsle:1.17301\n",
      "[25]\ttrain-rmse:999.20583\ttrain-rmsle:1.11267\tvalidation-rmse:999.66257\tvalidation-rmsle:1.11133\n",
      "[30]\ttrain-rmse:999.20583\ttrain-rmsle:1.11267\tvalidation-rmse:999.66257\tvalidation-rmsle:1.11133\n",
      "[34]\ttrain-rmse:999.20583\ttrain-rmsle:1.11267\tvalidation-rmse:999.66257\tvalidation-rmsle:1.11133\n"
     ]
    },
    {
     "name": "stderr",
     "output_type": "stream",
     "text": [
      "[I 2024-12-28 00:36:12,443] Trial 10 finished with value: 1.111328 and parameters: {'learning_rate': 0.48237033995001705, 'n_estimators': 111, 'max_depth': 5, 'min_child_weight': 2, 'subsample': 0.5136532468595041, 'colsample_bytree': 0.6474008250675563, 'gamma': 1.495570126675255, 'lambda': 2.993614286886009, 'alpha': 2.1148946207063615}. Best is trial 0 with value: 1.110417.\n"
     ]
    },
    {
     "name": "stdout",
     "output_type": "stream",
     "text": [
      "{'objective': 'reg:squaredlogerror', 'eval_metric': 'rmse', 'learning_rate': 0.4343605232774949, 'n_estimators': 134, 'max_depth': 5, 'min_child_weight': 3, 'subsample': 0.5192125705417148, 'colsample_bytree': 0.6384677184455108, 'gamma': 1.2385486891122817, 'lambda': 2.7504249346093, 'alpha': 1.9551519907514225, 'random_state': 42}\n"
     ]
    },
    {
     "name": "stderr",
     "output_type": "stream",
     "text": [
      "d:\\Development\\insurance\\venv\\lib\\site-packages\\xgboost\\training.py:38: UserWarning: `feval` is deprecated, use `custom_metric` instead.  They have different behavior when custom objective is also used.See https://xgboost.readthedocs.io/en/latest/tutorials/custom_metric_obj.html for details on the `custom_metric`.\n",
      "  warnings.warn(\n",
      "d:\\Development\\insurance\\venv\\lib\\site-packages\\xgboost\\core.py:158: UserWarning: [00:36:13] WARNING: C:\\buildkite-agent\\builds\\buildkite-windows-cpu-autoscaling-group-i-0c55ff5f71b100e98-1\\xgboost\\xgboost-ci-windows\\src\\learner.cc:740: \n",
      "Parameters: { \"n_estimators\" } are not used.\n",
      "\n",
      "  warnings.warn(smsg, UserWarning)\n"
     ]
    },
    {
     "name": "stdout",
     "output_type": "stream",
     "text": [
      "[0]\ttrain-rmse:1400.10848\ttrain-rmsle:4.33687\tvalidation-rmse:1400.24675\tvalidation-rmsle:4.33615\n",
      "[5]\ttrain-rmse:1392.67666\ttrain-rmsle:4.25176\tvalidation-rmse:1392.81857\tvalidation-rmsle:4.25103\n",
      "[10]\ttrain-rmse:1362.09134\ttrain-rmsle:2.87321\tvalidation-rmse:1362.24907\tvalidation-rmsle:2.87234\n",
      "[15]\ttrain-rmse:1264.33627\ttrain-rmsle:1.77293\tvalidation-rmse:1264.55125\tvalidation-rmsle:1.77181\n",
      "[20]\ttrain-rmse:1110.94915\ttrain-rmsle:1.24326\tvalidation-rmse:1111.28249\tvalidation-rmsle:1.24193\n",
      "[25]\ttrain-rmse:1047.95121\ttrain-rmsle:1.15240\tvalidation-rmse:1048.34867\tvalidation-rmsle:1.15105\n",
      "[30]\ttrain-rmse:1047.95121\ttrain-rmsle:1.15240\tvalidation-rmse:1048.34867\tvalidation-rmsle:1.15105\n",
      "[32]\ttrain-rmse:1047.95121\ttrain-rmsle:1.15240\tvalidation-rmse:1048.34867\tvalidation-rmsle:1.15105\n"
     ]
    },
    {
     "name": "stderr",
     "output_type": "stream",
     "text": [
      "[I 2024-12-28 00:36:17,546] Trial 11 finished with value: 1.151052 and parameters: {'learning_rate': 0.4343605232774949, 'n_estimators': 134, 'max_depth': 5, 'min_child_weight': 3, 'subsample': 0.5192125705417148, 'colsample_bytree': 0.6384677184455108, 'gamma': 1.2385486891122817, 'lambda': 2.7504249346093, 'alpha': 1.9551519907514225}. Best is trial 0 with value: 1.110417.\n"
     ]
    },
    {
     "name": "stdout",
     "output_type": "stream",
     "text": [
      "{'objective': 'reg:squaredlogerror', 'eval_metric': 'rmse', 'learning_rate': 0.4952944364874617, 'n_estimators': 116, 'max_depth': 5, 'min_child_weight': 2, 'subsample': 0.5082348856906618, 'colsample_bytree': 0.6793787368611759, 'gamma': 1.5655504382632477, 'lambda': 2.81597673456249, 'alpha': 3.396830374159408, 'random_state': 42}\n"
     ]
    },
    {
     "name": "stderr",
     "output_type": "stream",
     "text": [
      "d:\\Development\\insurance\\venv\\lib\\site-packages\\xgboost\\training.py:38: UserWarning: `feval` is deprecated, use `custom_metric` instead.  They have different behavior when custom objective is also used.See https://xgboost.readthedocs.io/en/latest/tutorials/custom_metric_obj.html for details on the `custom_metric`.\n",
      "  warnings.warn(\n",
      "d:\\Development\\insurance\\venv\\lib\\site-packages\\xgboost\\core.py:158: UserWarning: [00:36:18] WARNING: C:\\buildkite-agent\\builds\\buildkite-windows-cpu-autoscaling-group-i-0c55ff5f71b100e98-1\\xgboost\\xgboost-ci-windows\\src\\learner.cc:740: \n",
      "Parameters: { \"n_estimators\" } are not used.\n",
      "\n",
      "  warnings.warn(smsg, UserWarning)\n"
     ]
    },
    {
     "name": "stdout",
     "output_type": "stream",
     "text": [
      "[0]\ttrain-rmse:1400.03184\ttrain-rmsle:4.33687\tvalidation-rmse:1400.17014\tvalidation-rmsle:4.33615\n",
      "[5]\ttrain-rmse:1390.42298\ttrain-rmsle:4.04498\tvalidation-rmse:1390.56594\tvalidation-rmsle:4.04423\n",
      "[10]\ttrain-rmse:1345.02574\ttrain-rmsle:2.54481\tvalidation-rmse:1345.19262\tvalidation-rmsle:2.54388\n",
      "[15]\ttrain-rmse:1203.40984\ttrain-rmsle:1.48866\tvalidation-rmse:1203.66673\tvalidation-rmsle:1.48744\n",
      "[20]\ttrain-rmse:1054.86980\ttrain-rmsle:1.16006\tvalidation-rmse:1055.25954\tvalidation-rmsle:1.15870\n",
      "[25]\ttrain-rmse:1000.68900\ttrain-rmsle:1.11353\tvalidation-rmse:1001.14386\tvalidation-rmsle:1.11219\n",
      "[30]\ttrain-rmse:1000.68900\ttrain-rmsle:1.11353\tvalidation-rmse:1001.14386\tvalidation-rmsle:1.11219\n",
      "[34]\ttrain-rmse:1000.68900\ttrain-rmsle:1.11353\tvalidation-rmse:1001.14386\tvalidation-rmsle:1.11219\n"
     ]
    },
    {
     "name": "stderr",
     "output_type": "stream",
     "text": [
      "[I 2024-12-28 00:36:22,688] Trial 12 finished with value: 1.112188 and parameters: {'learning_rate': 0.4952944364874617, 'n_estimators': 116, 'max_depth': 5, 'min_child_weight': 2, 'subsample': 0.5082348856906618, 'colsample_bytree': 0.6793787368611759, 'gamma': 1.5655504382632477, 'lambda': 2.81597673456249, 'alpha': 3.396830374159408}. Best is trial 0 with value: 1.110417.\n"
     ]
    },
    {
     "name": "stdout",
     "output_type": "stream",
     "text": [
      "{'objective': 'reg:squaredlogerror', 'eval_metric': 'rmse', 'learning_rate': 0.3740693839063438, 'n_estimators': 482, 'max_depth': 3, 'min_child_weight': 19, 'subsample': 0.6963237754820335, 'colsample_bytree': 0.6514272270144688, 'gamma': 2.8674815516291208, 'lambda': 4.080710899931579, 'alpha': 3.6024011442751185, 'random_state': 42}\n"
     ]
    },
    {
     "name": "stderr",
     "output_type": "stream",
     "text": [
      "d:\\Development\\insurance\\venv\\lib\\site-packages\\xgboost\\training.py:38: UserWarning: `feval` is deprecated, use `custom_metric` instead.  They have different behavior when custom objective is also used.See https://xgboost.readthedocs.io/en/latest/tutorials/custom_metric_obj.html for details on the `custom_metric`.\n",
      "  warnings.warn(\n",
      "d:\\Development\\insurance\\venv\\lib\\site-packages\\xgboost\\core.py:158: UserWarning: [00:36:23] WARNING: C:\\buildkite-agent\\builds\\buildkite-windows-cpu-autoscaling-group-i-0c55ff5f71b100e98-1\\xgboost\\xgboost-ci-windows\\src\\learner.cc:740: \n",
      "Parameters: { \"n_estimators\" } are not used.\n",
      "\n",
      "  warnings.warn(smsg, UserWarning)\n"
     ]
    },
    {
     "name": "stdout",
     "output_type": "stream",
     "text": [
      "[0]\ttrain-rmse:1400.18444\ttrain-rmsle:4.33687\tvalidation-rmse:1400.32266\tvalidation-rmsle:4.33615\n",
      "[5]\ttrain-rmse:1394.55302\ttrain-rmsle:4.33687\tvalidation-rmse:1394.69399\tvalidation-rmsle:4.33615\n",
      "[10]\ttrain-rmse:1374.63898\ttrain-rmsle:3.22681\tvalidation-rmse:1374.79012\tvalidation-rmsle:3.22599\n",
      "[15]\ttrain-rmse:1314.23161\ttrain-rmsle:2.15659\tvalidation-rmse:1314.41601\tvalidation-rmsle:2.15558\n",
      "[20]\ttrain-rmse:1191.19686\ttrain-rmsle:1.44607\tvalidation-rmse:1191.46298\tvalidation-rmsle:1.44483\n",
      "[25]\ttrain-rmse:1191.19686\ttrain-rmsle:1.44607\tvalidation-rmse:1191.46298\tvalidation-rmsle:1.44483\n",
      "[29]\ttrain-rmse:1191.19686\ttrain-rmsle:1.44607\tvalidation-rmse:1191.46298\tvalidation-rmsle:1.44483\n"
     ]
    },
    {
     "name": "stderr",
     "output_type": "stream",
     "text": [
      "[I 2024-12-28 00:36:27,428] Trial 13 finished with value: 1.44483 and parameters: {'learning_rate': 0.3740693839063438, 'n_estimators': 482, 'max_depth': 3, 'min_child_weight': 19, 'subsample': 0.6963237754820335, 'colsample_bytree': 0.6514272270144688, 'gamma': 2.8674815516291208, 'lambda': 4.080710899931579, 'alpha': 3.6024011442751185}. Best is trial 0 with value: 1.110417.\n"
     ]
    },
    {
     "name": "stdout",
     "output_type": "stream",
     "text": [
      "{'objective': 'reg:squaredlogerror', 'eval_metric': 'rmse', 'learning_rate': 0.23801137124961316, 'n_estimators': 240, 'max_depth': 4, 'min_child_weight': 38, 'subsample': 0.5730130723977579, 'colsample_bytree': 0.5617099347725765, 'gamma': 0.3104032796206362, 'lambda': 1.878568140286045, 'alpha': 0.2562696358127883, 'random_state': 42}\n"
     ]
    },
    {
     "name": "stderr",
     "output_type": "stream",
     "text": [
      "d:\\Development\\insurance\\venv\\lib\\site-packages\\xgboost\\training.py:38: UserWarning: `feval` is deprecated, use `custom_metric` instead.  They have different behavior when custom objective is also used.See https://xgboost.readthedocs.io/en/latest/tutorials/custom_metric_obj.html for details on the `custom_metric`.\n",
      "  warnings.warn(\n",
      "d:\\Development\\insurance\\venv\\lib\\site-packages\\xgboost\\core.py:158: UserWarning: [00:36:28] WARNING: C:\\buildkite-agent\\builds\\buildkite-windows-cpu-autoscaling-group-i-0c55ff5f71b100e98-1\\xgboost\\xgboost-ci-windows\\src\\learner.cc:740: \n",
      "Parameters: { \"n_estimators\" } are not used.\n",
      "\n",
      "  warnings.warn(smsg, UserWarning)\n"
     ]
    },
    {
     "name": "stdout",
     "output_type": "stream",
     "text": [
      "[0]\ttrain-rmse:1400.35579\ttrain-rmsle:4.33687\tvalidation-rmse:1400.49394\tvalidation-rmsle:4.33615\n",
      "[5]\ttrain-rmse:1397.70456\ttrain-rmsle:4.33687\tvalidation-rmse:1397.84396\tvalidation-rmsle:4.33615\n",
      "[10]\ttrain-rmse:1391.38178\ttrain-rmsle:4.12690\tvalidation-rmse:1391.52435\tvalidation-rmsle:4.12618\n",
      "[15]\ttrain-rmse:1376.96345\ttrain-rmsle:3.31071\tvalidation-rmse:1377.11342\tvalidation-rmsle:3.30991\n",
      "[20]\ttrain-rmse:1346.26485\ttrain-rmsle:2.56485\tvalidation-rmse:1346.43117\tvalidation-rmsle:2.56394\n",
      "[25]\ttrain-rmse:1288.35097\ttrain-rmsle:1.93288\tvalidation-rmse:1288.55086\tvalidation-rmsle:1.93181\n",
      "[30]\ttrain-rmse:1256.36109\ttrain-rmsle:1.72716\tvalidation-rmse:1256.58127\tvalidation-rmsle:1.72602\n",
      "[35]\ttrain-rmse:1256.36109\ttrain-rmsle:1.72716\tvalidation-rmse:1256.58127\tvalidation-rmsle:1.72602\n",
      "[36]\ttrain-rmse:1256.36109\ttrain-rmsle:1.72716\tvalidation-rmse:1256.58127\tvalidation-rmsle:1.72602\n"
     ]
    },
    {
     "name": "stderr",
     "output_type": "stream",
     "text": [
      "[I 2024-12-28 00:36:32,904] Trial 14 finished with value: 1.726024 and parameters: {'learning_rate': 0.23801137124961316, 'n_estimators': 240, 'max_depth': 4, 'min_child_weight': 38, 'subsample': 0.5730130723977579, 'colsample_bytree': 0.5617099347725765, 'gamma': 0.3104032796206362, 'lambda': 1.878568140286045, 'alpha': 0.2562696358127883}. Best is trial 0 with value: 1.110417.\n"
     ]
    },
    {
     "name": "stdout",
     "output_type": "stream",
     "text": [
      "{'objective': 'reg:squaredlogerror', 'eval_metric': 'rmse', 'learning_rate': 0.49810510475233133, 'n_estimators': 747, 'max_depth': 6, 'min_child_weight': 20, 'subsample': 0.8517635459260641, 'colsample_bytree': 0.7126375299279417, 'gamma': 3.038201528067855, 'lambda': 4.242450802729119, 'alpha': 2.3089371246833745, 'random_state': 42}\n"
     ]
    },
    {
     "name": "stderr",
     "output_type": "stream",
     "text": [
      "d:\\Development\\insurance\\venv\\lib\\site-packages\\xgboost\\training.py:38: UserWarning: `feval` is deprecated, use `custom_metric` instead.  They have different behavior when custom objective is also used.See https://xgboost.readthedocs.io/en/latest/tutorials/custom_metric_obj.html for details on the `custom_metric`.\n",
      "  warnings.warn(\n",
      "d:\\Development\\insurance\\venv\\lib\\site-packages\\xgboost\\core.py:158: UserWarning: [00:36:33] WARNING: C:\\buildkite-agent\\builds\\buildkite-windows-cpu-autoscaling-group-i-0c55ff5f71b100e98-1\\xgboost\\xgboost-ci-windows\\src\\learner.cc:740: \n",
      "Parameters: { \"n_estimators\" } are not used.\n",
      "\n",
      "  warnings.warn(smsg, UserWarning)\n"
     ]
    },
    {
     "name": "stdout",
     "output_type": "stream",
     "text": [
      "[0]\ttrain-rmse:1400.02820\ttrain-rmsle:4.33687\tvalidation-rmse:1400.16650\tvalidation-rmsle:4.33615\n",
      "[5]\ttrain-rmse:1390.30621\ttrain-rmsle:4.03557\tvalidation-rmse:1390.44924\tvalidation-rmsle:4.03483\n",
      "[10]\ttrain-rmse:1344.08606\ttrain-rmsle:2.53002\tvalidation-rmse:1344.25332\tvalidation-rmsle:2.52909\n",
      "[15]\ttrain-rmse:1199.44696\ttrain-rmsle:1.47439\tvalidation-rmse:1199.70656\tvalidation-rmsle:1.47315\n",
      "[20]\ttrain-rmse:1162.12356\ttrain-rmsle:1.35860\tvalidation-rmse:1162.41214\tvalidation-rmsle:1.35732\n",
      "[25]\ttrain-rmse:1162.12356\ttrain-rmsle:1.35860\tvalidation-rmse:1162.41214\tvalidation-rmsle:1.35732\n"
     ]
    },
    {
     "name": "stderr",
     "output_type": "stream",
     "text": [
      "[I 2024-12-28 00:36:37,326] Trial 15 finished with value: 1.357315 and parameters: {'learning_rate': 0.49810510475233133, 'n_estimators': 747, 'max_depth': 6, 'min_child_weight': 20, 'subsample': 0.8517635459260641, 'colsample_bytree': 0.7126375299279417, 'gamma': 3.038201528067855, 'lambda': 4.242450802729119, 'alpha': 2.3089371246833745}. Best is trial 0 with value: 1.110417.\n"
     ]
    },
    {
     "name": "stdout",
     "output_type": "stream",
     "text": [
      "{'objective': 'reg:squaredlogerror', 'eval_metric': 'rmse', 'learning_rate': 0.4048420597137037, 'n_estimators': 239, 'max_depth': 10, 'min_child_weight': 3, 'subsample': 0.703064924537427, 'colsample_bytree': 0.5942960693118459, 'gamma': 6.629265361195437, 'lambda': 1.7136072782468696, 'alpha': 4.128252647415191, 'random_state': 42}\n"
     ]
    },
    {
     "name": "stderr",
     "output_type": "stream",
     "text": [
      "d:\\Development\\insurance\\venv\\lib\\site-packages\\xgboost\\training.py:38: UserWarning: `feval` is deprecated, use `custom_metric` instead.  They have different behavior when custom objective is also used.See https://xgboost.readthedocs.io/en/latest/tutorials/custom_metric_obj.html for details on the `custom_metric`.\n",
      "  warnings.warn(\n",
      "d:\\Development\\insurance\\venv\\lib\\site-packages\\xgboost\\core.py:158: UserWarning: [00:36:38] WARNING: C:\\buildkite-agent\\builds\\buildkite-windows-cpu-autoscaling-group-i-0c55ff5f71b100e98-1\\xgboost\\xgboost-ci-windows\\src\\learner.cc:740: \n",
      "Parameters: { \"n_estimators\" } are not used.\n",
      "\n",
      "  warnings.warn(smsg, UserWarning)\n"
     ]
    },
    {
     "name": "stdout",
     "output_type": "stream",
     "text": [
      "[0]\ttrain-rmse:1400.14574\ttrain-rmsle:4.33687\tvalidation-rmse:1400.28400\tvalidation-rmsle:4.33615\n",
      "[5]\ttrain-rmse:1393.63677\ttrain-rmsle:4.33687\tvalidation-rmse:1393.77820\tvalidation-rmsle:4.33615\n",
      "[10]\ttrain-rmse:1368.69952\ttrain-rmsle:3.04240\tvalidation-rmse:1368.85377\tvalidation-rmsle:3.04156\n",
      "[15]\ttrain-rmse:1289.74746\ttrain-rmsle:1.94340\tvalidation-rmse:1289.94645\tvalidation-rmsle:1.94233\n",
      "[20]\ttrain-rmse:1136.89032\ttrain-rmsle:1.29629\tvalidation-rmse:1137.20031\tvalidation-rmsle:1.29498\n",
      "[25]\ttrain-rmse:1018.97858\ttrain-rmsle:1.12585\tvalidation-rmse:1019.40992\tvalidation-rmsle:1.12450\n",
      "[30]\ttrain-rmse:1005.53042\ttrain-rmsle:1.11645\tvalidation-rmse:1005.97879\tvalidation-rmsle:1.11511\n",
      "[35]\ttrain-rmse:1005.53042\ttrain-rmsle:1.11645\tvalidation-rmse:1005.97879\tvalidation-rmsle:1.11511\n",
      "[36]\ttrain-rmse:1005.53042\ttrain-rmsle:1.11645\tvalidation-rmse:1005.97879\tvalidation-rmsle:1.11511\n"
     ]
    },
    {
     "name": "stderr",
     "output_type": "stream",
     "text": [
      "[I 2024-12-28 00:36:42,696] Trial 16 finished with value: 1.115106 and parameters: {'learning_rate': 0.4048420597137037, 'n_estimators': 239, 'max_depth': 10, 'min_child_weight': 3, 'subsample': 0.703064924537427, 'colsample_bytree': 0.5942960693118459, 'gamma': 6.629265361195437, 'lambda': 1.7136072782468696, 'alpha': 4.128252647415191}. Best is trial 0 with value: 1.110417.\n"
     ]
    },
    {
     "name": "stdout",
     "output_type": "stream",
     "text": [
      "{'objective': 'reg:squaredlogerror', 'eval_metric': 'rmse', 'learning_rate': 0.2996118848898108, 'n_estimators': 390, 'max_depth': 6, 'min_child_weight': 12, 'subsample': 0.5752453430034871, 'colsample_bytree': 0.7356243280497473, 'gamma': 3.4149059541351567, 'lambda': 4.04924635663647, 'alpha': 1.6001555509388359, 'random_state': 42}\n"
     ]
    },
    {
     "name": "stderr",
     "output_type": "stream",
     "text": [
      "d:\\Development\\insurance\\venv\\lib\\site-packages\\xgboost\\training.py:38: UserWarning: `feval` is deprecated, use `custom_metric` instead.  They have different behavior when custom objective is also used.See https://xgboost.readthedocs.io/en/latest/tutorials/custom_metric_obj.html for details on the `custom_metric`.\n",
      "  warnings.warn(\n",
      "d:\\Development\\insurance\\venv\\lib\\site-packages\\xgboost\\core.py:158: UserWarning: [00:36:43] WARNING: C:\\buildkite-agent\\builds\\buildkite-windows-cpu-autoscaling-group-i-0c55ff5f71b100e98-1\\xgboost\\xgboost-ci-windows\\src\\learner.cc:740: \n",
      "Parameters: { \"n_estimators\" } are not used.\n",
      "\n",
      "  warnings.warn(smsg, UserWarning)\n"
     ]
    },
    {
     "name": "stdout",
     "output_type": "stream",
     "text": [
      "[0]\ttrain-rmse:1400.27821\ttrain-rmsle:4.33687\tvalidation-rmse:1400.41640\tvalidation-rmsle:4.33615\n",
      "[5]\ttrain-rmse:1396.44540\ttrain-rmsle:4.33687\tvalidation-rmse:1396.58545\tvalidation-rmsle:4.33615\n",
      "[10]\ttrain-rmse:1385.42038\ttrain-rmsle:3.70180\tvalidation-rmse:1385.56597\tvalidation-rmsle:3.70104\n",
      "[15]\ttrain-rmse:1356.19190\ttrain-rmsle:2.74530\tvalidation-rmse:1356.35280\tvalidation-rmsle:2.74441\n",
      "[20]\ttrain-rmse:1290.24984\ttrain-rmsle:1.94722\tvalidation-rmse:1290.44855\tvalidation-rmsle:1.94616\n",
      "[25]\ttrain-rmse:1187.43555\ttrain-rmsle:1.43370\tvalidation-rmse:1187.70451\tvalidation-rmsle:1.43245\n",
      "[30]\ttrain-rmse:1166.61799\ttrain-rmsle:1.37099\tvalidation-rmse:1166.90328\tvalidation-rmsle:1.36972\n",
      "[35]\ttrain-rmse:1166.61799\ttrain-rmsle:1.37099\tvalidation-rmse:1166.90328\tvalidation-rmsle:1.36972\n",
      "[36]\ttrain-rmse:1166.61799\ttrain-rmsle:1.37099\tvalidation-rmse:1166.90328\tvalidation-rmsle:1.36972\n"
     ]
    },
    {
     "name": "stderr",
     "output_type": "stream",
     "text": [
      "[I 2024-12-28 00:36:48,020] Trial 17 finished with value: 1.369719 and parameters: {'learning_rate': 0.2996118848898108, 'n_estimators': 390, 'max_depth': 6, 'min_child_weight': 12, 'subsample': 0.5752453430034871, 'colsample_bytree': 0.7356243280497473, 'gamma': 3.4149059541351567, 'lambda': 4.04924635663647, 'alpha': 1.6001555509388359}. Best is trial 0 with value: 1.110417.\n"
     ]
    },
    {
     "name": "stdout",
     "output_type": "stream",
     "text": [
      "{'objective': 'reg:squaredlogerror', 'eval_metric': 'rmse', 'learning_rate': 0.19723139721805402, 'n_estimators': 483, 'max_depth': 8, 'min_child_weight': 38, 'subsample': 0.8398755208003557, 'colsample_bytree': 0.5934767244364119, 'gamma': 7.353709451011542, 'lambda': 1.2348034055420367, 'alpha': 3.088389013517654, 'random_state': 42}\n"
     ]
    },
    {
     "name": "stderr",
     "output_type": "stream",
     "text": [
      "d:\\Development\\insurance\\venv\\lib\\site-packages\\xgboost\\training.py:38: UserWarning: `feval` is deprecated, use `custom_metric` instead.  They have different behavior when custom objective is also used.See https://xgboost.readthedocs.io/en/latest/tutorials/custom_metric_obj.html for details on the `custom_metric`.\n",
      "  warnings.warn(\n",
      "d:\\Development\\insurance\\venv\\lib\\site-packages\\xgboost\\core.py:158: UserWarning: [00:36:49] WARNING: C:\\buildkite-agent\\builds\\buildkite-windows-cpu-autoscaling-group-i-0c55ff5f71b100e98-1\\xgboost\\xgboost-ci-windows\\src\\learner.cc:740: \n",
      "Parameters: { \"n_estimators\" } are not used.\n",
      "\n",
      "  warnings.warn(smsg, UserWarning)\n"
     ]
    },
    {
     "name": "stdout",
     "output_type": "stream",
     "text": [
      "[0]\ttrain-rmse:1400.40724\ttrain-rmsle:4.33687\tvalidation-rmse:1400.54537\tvalidation-rmsle:4.33615\n",
      "[5]\ttrain-rmse:1398.40721\ttrain-rmsle:4.33687\tvalidation-rmse:1398.54632\tvalidation-rmsle:4.33615\n",
      "[9]\ttrain-rmse:1395.32095\ttrain-rmsle:4.33687\tvalidation-rmse:1395.46149\tvalidation-rmsle:4.33615\n"
     ]
    },
    {
     "name": "stderr",
     "output_type": "stream",
     "text": [
      "[I 2024-12-28 00:36:51,168] Trial 18 finished with value: 4.336152 and parameters: {'learning_rate': 0.19723139721805402, 'n_estimators': 483, 'max_depth': 8, 'min_child_weight': 38, 'subsample': 0.8398755208003557, 'colsample_bytree': 0.5934767244364119, 'gamma': 7.353709451011542, 'lambda': 1.2348034055420367, 'alpha': 3.088389013517654}. Best is trial 0 with value: 1.110417.\n"
     ]
    },
    {
     "name": "stdout",
     "output_type": "stream",
     "text": [
      "{'objective': 'reg:squaredlogerror', 'eval_metric': 'rmse', 'learning_rate': 0.009096100383667094, 'n_estimators': 211, 'max_depth': 4, 'min_child_weight': 1, 'subsample': 0.5010630427097713, 'colsample_bytree': 0.6962755449663794, 'gamma': 0.13216414056744807, 'lambda': 3.4878052414636556, 'alpha': 4.5960418648362715, 'random_state': 42}\n"
     ]
    },
    {
     "name": "stderr",
     "output_type": "stream",
     "text": [
      "d:\\Development\\insurance\\venv\\lib\\site-packages\\xgboost\\training.py:38: UserWarning: `feval` is deprecated, use `custom_metric` instead.  They have different behavior when custom objective is also used.See https://xgboost.readthedocs.io/en/latest/tutorials/custom_metric_obj.html for details on the `custom_metric`.\n",
      "  warnings.warn(\n",
      "d:\\Development\\insurance\\venv\\lib\\site-packages\\xgboost\\core.py:158: UserWarning: [00:36:52] WARNING: C:\\buildkite-agent\\builds\\buildkite-windows-cpu-autoscaling-group-i-0c55ff5f71b100e98-1\\xgboost\\xgboost-ci-windows\\src\\learner.cc:740: \n",
      "Parameters: { \"n_estimators\" } are not used.\n",
      "\n",
      "  warnings.warn(smsg, UserWarning)\n"
     ]
    },
    {
     "name": "stdout",
     "output_type": "stream",
     "text": [
      "[0]\ttrain-rmse:1400.64419\ttrain-rmsle:4.33687\tvalidation-rmse:1400.78220\tvalidation-rmsle:4.33615\n",
      "[5]\ttrain-rmse:1400.58556\ttrain-rmsle:4.33687\tvalidation-rmse:1400.72359\tvalidation-rmsle:4.33615\n",
      "[9]\ttrain-rmse:1400.53706\ttrain-rmsle:4.33687\tvalidation-rmse:1400.67511\tvalidation-rmsle:4.33615\n"
     ]
    },
    {
     "name": "stderr",
     "output_type": "stream",
     "text": [
      "[I 2024-12-28 00:36:54,450] Trial 19 finished with value: 4.336152 and parameters: {'learning_rate': 0.009096100383667094, 'n_estimators': 211, 'max_depth': 4, 'min_child_weight': 1, 'subsample': 0.5010630427097713, 'colsample_bytree': 0.6962755449663794, 'gamma': 0.13216414056744807, 'lambda': 3.4878052414636556, 'alpha': 4.5960418648362715}. Best is trial 0 with value: 1.110417.\n"
     ]
    },
    {
     "name": "stdout",
     "output_type": "stream",
     "text": [
      "{'objective': 'reg:squaredlogerror', 'eval_metric': 'rmse', 'learning_rate': 0.4367918523858846, 'n_estimators': 314, 'max_depth': 9, 'min_child_weight': 7, 'subsample': 0.6454890057721083, 'colsample_bytree': 0.7777874994252726, 'gamma': 9.860752593909407, 'lambda': 5.102949604305409, 'alpha': 1.1178731461787939, 'random_state': 42}\n"
     ]
    },
    {
     "name": "stderr",
     "output_type": "stream",
     "text": [
      "d:\\Development\\insurance\\venv\\lib\\site-packages\\xgboost\\training.py:38: UserWarning: `feval` is deprecated, use `custom_metric` instead.  They have different behavior when custom objective is also used.See https://xgboost.readthedocs.io/en/latest/tutorials/custom_metric_obj.html for details on the `custom_metric`.\n",
      "  warnings.warn(\n",
      "d:\\Development\\insurance\\venv\\lib\\site-packages\\xgboost\\core.py:158: UserWarning: [00:36:55] WARNING: C:\\buildkite-agent\\builds\\buildkite-windows-cpu-autoscaling-group-i-0c55ff5f71b100e98-1\\xgboost\\xgboost-ci-windows\\src\\learner.cc:740: \n",
      "Parameters: { \"n_estimators\" } are not used.\n",
      "\n",
      "  warnings.warn(smsg, UserWarning)\n"
     ]
    },
    {
     "name": "stdout",
     "output_type": "stream",
     "text": [
      "[0]\ttrain-rmse:1400.10545\ttrain-rmsle:4.33687\tvalidation-rmse:1400.24372\tvalidation-rmsle:4.33615\n",
      "[5]\ttrain-rmse:1392.59412\ttrain-rmsle:4.24335\tvalidation-rmse:1392.73607\tvalidation-rmsle:4.24263\n",
      "[10]\ttrain-rmse:1361.51547\ttrain-rmsle:2.86002\tvalidation-rmse:1361.67355\tvalidation-rmsle:2.85915\n",
      "[15]\ttrain-rmse:1263.30111\ttrain-rmsle:1.76681\tvalidation-rmse:1263.51677\tvalidation-rmsle:1.76569\n",
      "[20]\ttrain-rmse:1119.27572\ttrain-rmsle:1.25916\tvalidation-rmse:1119.60137\tvalidation-rmsle:1.25783\n",
      "[25]\ttrain-rmse:1119.27572\ttrain-rmsle:1.25916\tvalidation-rmse:1119.60137\tvalidation-rmsle:1.25783\n",
      "[30]\ttrain-rmse:1119.27572\ttrain-rmsle:1.25916\tvalidation-rmse:1119.60137\tvalidation-rmsle:1.25783\n"
     ]
    },
    {
     "name": "stderr",
     "output_type": "stream",
     "text": [
      "[I 2024-12-28 00:36:59,313] Trial 20 finished with value: 1.257834 and parameters: {'learning_rate': 0.4367918523858846, 'n_estimators': 314, 'max_depth': 9, 'min_child_weight': 7, 'subsample': 0.6454890057721083, 'colsample_bytree': 0.7777874994252726, 'gamma': 9.860752593909407, 'lambda': 5.102949604305409, 'alpha': 1.1178731461787939}. Best is trial 0 with value: 1.110417.\n"
     ]
    },
    {
     "name": "stdout",
     "output_type": "stream",
     "text": [
      "{'objective': 'reg:squaredlogerror', 'eval_metric': 'rmse', 'learning_rate': 0.49834242527916917, 'n_estimators': 136, 'max_depth': 5, 'min_child_weight': 1, 'subsample': 0.5444138743424491, 'colsample_bytree': 0.6643660010359216, 'gamma': 1.865247358301744, 'lambda': 2.7001825241121646, 'alpha': 2.7811671100435094, 'random_state': 42}\n"
     ]
    },
    {
     "name": "stderr",
     "output_type": "stream",
     "text": [
      "d:\\Development\\insurance\\venv\\lib\\site-packages\\xgboost\\training.py:38: UserWarning: `feval` is deprecated, use `custom_metric` instead.  They have different behavior when custom objective is also used.See https://xgboost.readthedocs.io/en/latest/tutorials/custom_metric_obj.html for details on the `custom_metric`.\n",
      "  warnings.warn(\n",
      "d:\\Development\\insurance\\venv\\lib\\site-packages\\xgboost\\core.py:158: UserWarning: [00:37:00] WARNING: C:\\buildkite-agent\\builds\\buildkite-windows-cpu-autoscaling-group-i-0c55ff5f71b100e98-1\\xgboost\\xgboost-ci-windows\\src\\learner.cc:740: \n",
      "Parameters: { \"n_estimators\" } are not used.\n",
      "\n",
      "  warnings.warn(smsg, UserWarning)\n"
     ]
    },
    {
     "name": "stdout",
     "output_type": "stream",
     "text": [
      "[0]\ttrain-rmse:1400.02793\ttrain-rmsle:4.33687\tvalidation-rmse:1400.16624\tvalidation-rmsle:4.33615\n",
      "[5]\ttrain-rmse:1390.29732\ttrain-rmsle:4.03483\tvalidation-rmse:1390.44035\tvalidation-rmsle:4.03409\n",
      "[10]\ttrain-rmse:1344.02306\ttrain-rmsle:2.52889\tvalidation-rmse:1344.19048\tvalidation-rmsle:2.52796\n",
      "[15]\ttrain-rmse:1199.26232\ttrain-rmsle:1.47376\tvalidation-rmse:1199.52225\tvalidation-rmsle:1.47253\n",
      "[20]\ttrain-rmse:1048.56478\ttrain-rmsle:1.15304\tvalidation-rmse:1048.96141\tvalidation-rmsle:1.15169\n",
      "[25]\ttrain-rmse:987.30202\ttrain-rmsle:1.10656\tvalidation-rmse:987.77498\tvalidation-rmsle:1.10522\n",
      "[30]\ttrain-rmse:963.37201\ttrain-rmsle:1.09844\tvalidation-rmse:963.88026\tvalidation-rmsle:1.09712\n",
      "[35]\ttrain-rmse:952.89065\ttrain-rmsle:1.09666\tvalidation-rmse:953.41568\tvalidation-rmsle:1.09535\n",
      "[40]\ttrain-rmse:947.89413\ttrain-rmsle:1.09620\tvalidation-rmse:948.42749\tvalidation-rmsle:1.09491\n",
      "[45]\ttrain-rmse:945.41577\ttrain-rmsle:1.09607\tvalidation-rmse:945.95335\tvalidation-rmsle:1.09478\n",
      "[50]\ttrain-rmse:944.31552\ttrain-rmsle:1.09604\tvalidation-rmse:944.85498\tvalidation-rmsle:1.09474\n",
      "[55]\ttrain-rmse:943.55521\ttrain-rmsle:1.09602\tvalidation-rmse:944.09599\tvalidation-rmsle:1.09473\n",
      "[60]\ttrain-rmse:943.31297\ttrain-rmsle:1.09602\tvalidation-rmse:943.85417\tvalidation-rmsle:1.09472\n",
      "[65]\ttrain-rmse:943.04104\ttrain-rmsle:1.09601\tvalidation-rmse:943.58271\tvalidation-rmsle:1.09472\n",
      "[70]\ttrain-rmse:942.91995\ttrain-rmsle:1.09601\tvalidation-rmse:943.46183\tvalidation-rmsle:1.09472\n",
      "[75]\ttrain-rmse:942.89232\ttrain-rmsle:1.09601\tvalidation-rmse:943.43425\tvalidation-rmsle:1.09472\n",
      "[80]\ttrain-rmse:942.84583\ttrain-rmsle:1.09601\tvalidation-rmse:943.38784\tvalidation-rmsle:1.09472\n"
     ]
    },
    {
     "name": "stderr",
     "output_type": "stream",
     "text": [
      "[I 2024-12-28 00:37:08,927] Trial 21 finished with value: 1.094718 and parameters: {'learning_rate': 0.49834242527916917, 'n_estimators': 136, 'max_depth': 5, 'min_child_weight': 1, 'subsample': 0.5444138743424491, 'colsample_bytree': 0.6643660010359216, 'gamma': 1.865247358301744, 'lambda': 2.7001825241121646, 'alpha': 2.7811671100435094}. Best is trial 21 with value: 1.094718.\n"
     ]
    },
    {
     "name": "stdout",
     "output_type": "stream",
     "text": [
      "{'objective': 'reg:squaredlogerror', 'eval_metric': 'rmse', 'learning_rate': 0.4396711616953305, 'n_estimators': 100, 'max_depth': 4, 'min_child_weight': 7, 'subsample': 0.5785303174918787, 'colsample_bytree': 0.6345475964866913, 'gamma': 1.9193872602625808, 'lambda': 9.82968676028914, 'alpha': 2.695258164056043, 'random_state': 42}\n"
     ]
    },
    {
     "name": "stderr",
     "output_type": "stream",
     "text": [
      "d:\\Development\\insurance\\venv\\lib\\site-packages\\xgboost\\training.py:38: UserWarning: `feval` is deprecated, use `custom_metric` instead.  They have different behavior when custom objective is also used.See https://xgboost.readthedocs.io/en/latest/tutorials/custom_metric_obj.html for details on the `custom_metric`.\n",
      "  warnings.warn(\n",
      "d:\\Development\\insurance\\venv\\lib\\site-packages\\xgboost\\core.py:158: UserWarning: [00:37:10] WARNING: C:\\buildkite-agent\\builds\\buildkite-windows-cpu-autoscaling-group-i-0c55ff5f71b100e98-1\\xgboost\\xgboost-ci-windows\\src\\learner.cc:740: \n",
      "Parameters: { \"n_estimators\" } are not used.\n",
      "\n",
      "  warnings.warn(smsg, UserWarning)\n"
     ]
    },
    {
     "name": "stdout",
     "output_type": "stream",
     "text": [
      "[0]\ttrain-rmse:1400.10195\ttrain-rmsle:4.33687\tvalidation-rmse:1400.24023\tvalidation-rmsle:4.33615\n",
      "[5]\ttrain-rmse:1392.49954\ttrain-rmsle:4.23355\tvalidation-rmse:1392.64162\tvalidation-rmsle:4.23285\n",
      "[10]\ttrain-rmse:1360.89713\ttrain-rmsle:2.84577\tvalidation-rmse:1361.05559\tvalidation-rmsle:2.84491\n",
      "[15]\ttrain-rmse:1264.91066\ttrain-rmsle:1.77636\tvalidation-rmse:1265.12534\tvalidation-rmsle:1.77524\n",
      "[20]\ttrain-rmse:1143.73328\ttrain-rmsle:1.31212\tvalidation-rmse:1144.03755\tvalidation-rmsle:1.31082\n",
      "[25]\ttrain-rmse:1125.74700\ttrain-rmsle:1.27227\tvalidation-rmse:1126.06694\tvalidation-rmsle:1.27095\n",
      "[30]\ttrain-rmse:1125.74700\ttrain-rmsle:1.27227\tvalidation-rmse:1126.06694\tvalidation-rmsle:1.27095\n"
     ]
    },
    {
     "name": "stderr",
     "output_type": "stream",
     "text": [
      "[I 2024-12-28 00:37:13,920] Trial 22 finished with value: 1.270952 and parameters: {'learning_rate': 0.4396711616953305, 'n_estimators': 100, 'max_depth': 4, 'min_child_weight': 7, 'subsample': 0.5785303174918787, 'colsample_bytree': 0.6345475964866913, 'gamma': 1.9193872602625808, 'lambda': 9.82968676028914, 'alpha': 2.695258164056043}. Best is trial 21 with value: 1.094718.\n"
     ]
    },
    {
     "name": "stdout",
     "output_type": "stream",
     "text": [
      "{'objective': 'reg:squaredlogerror', 'eval_metric': 'rmse', 'learning_rate': 0.4604678397279545, 'n_estimators': 200, 'max_depth': 6, 'min_child_weight': 1, 'subsample': 0.5376057216222354, 'colsample_bytree': 0.7398887336318174, 'gamma': 3.7363052515026123, 'lambda': 3.2708965970009842, 'alpha': 1.294237927765506, 'random_state': 42}\n"
     ]
    },
    {
     "name": "stderr",
     "output_type": "stream",
     "text": [
      "d:\\Development\\insurance\\venv\\lib\\site-packages\\xgboost\\training.py:38: UserWarning: `feval` is deprecated, use `custom_metric` instead.  They have different behavior when custom objective is also used.See https://xgboost.readthedocs.io/en/latest/tutorials/custom_metric_obj.html for details on the `custom_metric`.\n",
      "  warnings.warn(\n",
      "d:\\Development\\insurance\\venv\\lib\\site-packages\\xgboost\\core.py:158: UserWarning: [00:37:14] WARNING: C:\\buildkite-agent\\builds\\buildkite-windows-cpu-autoscaling-group-i-0c55ff5f71b100e98-1\\xgboost\\xgboost-ci-windows\\src\\learner.cc:740: \n",
      "Parameters: { \"n_estimators\" } are not used.\n",
      "\n",
      "  warnings.warn(smsg, UserWarning)\n"
     ]
    },
    {
     "name": "stdout",
     "output_type": "stream",
     "text": [
      "[0]\ttrain-rmse:1400.07561\ttrain-rmsle:4.33687\tvalidation-rmse:1400.21390\tvalidation-rmsle:4.33615\n",
      "[5]\ttrain-rmse:1391.75698\ttrain-rmsle:4.16196\tvalidation-rmse:1391.89930\tvalidation-rmsle:4.16123\n",
      "[10]\ttrain-rmse:1355.37011\ttrain-rmsle:2.72903\tvalidation-rmse:1355.53139\tvalidation-rmsle:2.72814\n",
      "[15]\ttrain-rmse:1239.55598\ttrain-rmsle:1.64035\tvalidation-rmse:1239.78725\tvalidation-rmsle:1.63918\n",
      "[20]\ttrain-rmse:1087.45841\ttrain-rmsle:1.20355\tvalidation-rmse:1087.81407\tvalidation-rmsle:1.20220\n",
      "[25]\ttrain-rmse:1010.93306\ttrain-rmsle:1.12001\tvalidation-rmse:1011.37440\tvalidation-rmsle:1.11866\n",
      "[30]\ttrain-rmse:977.75356\ttrain-rmsle:1.10263\tvalidation-rmse:978.24000\tvalidation-rmsle:1.10131\n",
      "[35]\ttrain-rmse:961.76736\ttrain-rmsle:1.09808\tvalidation-rmse:962.27796\tvalidation-rmsle:1.09676\n",
      "[40]\ttrain-rmse:953.30238\ttrain-rmsle:1.09669\tvalidation-rmse:953.82656\tvalidation-rmsle:1.09538\n",
      "[45]\ttrain-rmse:948.65089\ttrain-rmsle:1.09624\tvalidation-rmse:949.18280\tvalidation-rmsle:1.09494\n",
      "[50]\ttrain-rmse:946.10054\ttrain-rmsle:1.09608\tvalidation-rmse:946.63677\tvalidation-rmsle:1.09479\n",
      "[55]\ttrain-rmse:944.45848\ttrain-rmsle:1.09602\tvalidation-rmse:944.99753\tvalidation-rmsle:1.09473\n",
      "[60]\ttrain-rmse:943.64012\ttrain-rmsle:1.09600\tvalidation-rmse:944.18058\tvalidation-rmsle:1.09471\n",
      "[65]\ttrain-rmse:943.03561\ttrain-rmsle:1.09599\tvalidation-rmse:943.57711\tvalidation-rmsle:1.09470\n",
      "[70]\ttrain-rmse:942.68848\ttrain-rmsle:1.09599\tvalidation-rmse:943.23059\tvalidation-rmsle:1.09470\n",
      "[75]\ttrain-rmse:942.57892\ttrain-rmsle:1.09599\tvalidation-rmse:943.12122\tvalidation-rmsle:1.09470\n",
      "[80]\ttrain-rmse:942.49153\ttrain-rmsle:1.09599\tvalidation-rmse:943.03398\tvalidation-rmsle:1.09470\n",
      "[85]\ttrain-rmse:942.37213\ttrain-rmsle:1.09599\tvalidation-rmse:942.91479\tvalidation-rmsle:1.09469\n",
      "[90]\ttrain-rmse:942.36670\ttrain-rmsle:1.09599\tvalidation-rmse:942.90937\tvalidation-rmsle:1.09469\n"
     ]
    },
    {
     "name": "stderr",
     "output_type": "stream",
     "text": [
      "[I 2024-12-28 00:37:24,212] Trial 23 finished with value: 1.094695 and parameters: {'learning_rate': 0.4604678397279545, 'n_estimators': 200, 'max_depth': 6, 'min_child_weight': 1, 'subsample': 0.5376057216222354, 'colsample_bytree': 0.7398887336318174, 'gamma': 3.7363052515026123, 'lambda': 3.2708965970009842, 'alpha': 1.294237927765506}. Best is trial 23 with value: 1.094695.\n"
     ]
    },
    {
     "name": "stdout",
     "output_type": "stream",
     "text": [
      "{'objective': 'reg:squaredlogerror', 'eval_metric': 'rmse', 'learning_rate': 0.3756959503588311, 'n_estimators': 193, 'max_depth': 6, 'min_child_weight': 13, 'subsample': 0.5594673816823463, 'colsample_bytree': 0.8035407171904392, 'gamma': 3.847718589236454, 'lambda': 1.816550531655992, 'alpha': 0.5023638057338653, 'random_state': 42}\n"
     ]
    },
    {
     "name": "stderr",
     "output_type": "stream",
     "text": [
      "d:\\Development\\insurance\\venv\\lib\\site-packages\\xgboost\\training.py:38: UserWarning: `feval` is deprecated, use `custom_metric` instead.  They have different behavior when custom objective is also used.See https://xgboost.readthedocs.io/en/latest/tutorials/custom_metric_obj.html for details on the `custom_metric`.\n",
      "  warnings.warn(\n",
      "d:\\Development\\insurance\\venv\\lib\\site-packages\\xgboost\\core.py:158: UserWarning: [00:37:25] WARNING: C:\\buildkite-agent\\builds\\buildkite-windows-cpu-autoscaling-group-i-0c55ff5f71b100e98-1\\xgboost\\xgboost-ci-windows\\src\\learner.cc:740: \n",
      "Parameters: { \"n_estimators\" } are not used.\n",
      "\n",
      "  warnings.warn(smsg, UserWarning)\n"
     ]
    },
    {
     "name": "stdout",
     "output_type": "stream",
     "text": [
      "[0]\ttrain-rmse:1400.18231\ttrain-rmsle:4.33687\tvalidation-rmse:1400.32053\tvalidation-rmsle:4.33615\n",
      "[5]\ttrain-rmse:1394.50363\ttrain-rmsle:4.33687\tvalidation-rmse:1394.64444\tvalidation-rmsle:4.33615\n",
      "[10]\ttrain-rmse:1374.30794\ttrain-rmsle:3.21659\tvalidation-rmse:1374.45892\tvalidation-rmsle:3.21577\n",
      "[15]\ttrain-rmse:1312.74720\ttrain-rmsle:2.14209\tvalidation-rmse:1312.93215\tvalidation-rmsle:2.14108\n",
      "[20]\ttrain-rmse:1183.31636\ttrain-rmsle:1.42040\tvalidation-rmse:1183.58777\tvalidation-rmsle:1.41915\n",
      "[25]\ttrain-rmse:1183.31636\ttrain-rmsle:1.42040\tvalidation-rmse:1183.58777\tvalidation-rmsle:1.41915\n",
      "[29]\ttrain-rmse:1183.31636\ttrain-rmsle:1.42040\tvalidation-rmse:1183.58777\tvalidation-rmsle:1.41915\n"
     ]
    },
    {
     "name": "stderr",
     "output_type": "stream",
     "text": [
      "[I 2024-12-28 00:37:29,263] Trial 24 finished with value: 1.419145 and parameters: {'learning_rate': 0.3756959503588311, 'n_estimators': 193, 'max_depth': 6, 'min_child_weight': 13, 'subsample': 0.5594673816823463, 'colsample_bytree': 0.8035407171904392, 'gamma': 3.847718589236454, 'lambda': 1.816550531655992, 'alpha': 0.5023638057338653}. Best is trial 23 with value: 1.094695.\n"
     ]
    },
    {
     "name": "stdout",
     "output_type": "stream",
     "text": [
      "{'objective': 'reg:squaredlogerror', 'eval_metric': 'rmse', 'learning_rate': 0.4531827020292612, 'n_estimators': 272, 'max_depth': 8, 'min_child_weight': 6, 'subsample': 0.619292382313168, 'colsample_bytree': 0.7383926266836084, 'gamma': 5.286031623925442, 'lambda': 4.686274807387061, 'alpha': 1.043339468393257, 'random_state': 42}\n"
     ]
    },
    {
     "name": "stderr",
     "output_type": "stream",
     "text": [
      "d:\\Development\\insurance\\venv\\lib\\site-packages\\xgboost\\training.py:38: UserWarning: `feval` is deprecated, use `custom_metric` instead.  They have different behavior when custom objective is also used.See https://xgboost.readthedocs.io/en/latest/tutorials/custom_metric_obj.html for details on the `custom_metric`.\n",
      "  warnings.warn(\n",
      "d:\\Development\\insurance\\venv\\lib\\site-packages\\xgboost\\core.py:158: UserWarning: [00:37:30] WARNING: C:\\buildkite-agent\\builds\\buildkite-windows-cpu-autoscaling-group-i-0c55ff5f71b100e98-1\\xgboost\\xgboost-ci-windows\\src\\learner.cc:740: \n",
      "Parameters: { \"n_estimators\" } are not used.\n",
      "\n",
      "  warnings.warn(smsg, UserWarning)\n"
     ]
    },
    {
     "name": "stdout",
     "output_type": "stream",
     "text": [
      "[0]\ttrain-rmse:1400.08477\ttrain-rmsle:4.33687\tvalidation-rmse:1400.22305\tvalidation-rmsle:4.33615\n",
      "[5]\ttrain-rmse:1392.02061\ttrain-rmsle:4.18687\tvalidation-rmse:1392.16284\tvalidation-rmsle:4.18614\n",
      "[10]\ttrain-rmse:1357.34762\ttrain-rmsle:2.76910\tvalidation-rmse:1357.50793\tvalidation-rmsle:2.76822\n",
      "[15]\ttrain-rmse:1247.72856\ttrain-rmsle:1.68106\tvalidation-rmse:1247.95443\tvalidation-rmsle:1.67991\n",
      "[20]\ttrain-rmse:1101.54056\ttrain-rmsle:1.22644\tvalidation-rmse:1101.88265\tvalidation-rmsle:1.22511\n",
      "[25]\ttrain-rmse:1101.54056\ttrain-rmsle:1.22644\tvalidation-rmse:1101.88265\tvalidation-rmsle:1.22511\n",
      "[29]\ttrain-rmse:1101.54056\ttrain-rmsle:1.22644\tvalidation-rmse:1101.88265\tvalidation-rmsle:1.22511\n"
     ]
    },
    {
     "name": "stderr",
     "output_type": "stream",
     "text": [
      "[I 2024-12-28 00:37:34,190] Trial 25 finished with value: 1.225107 and parameters: {'learning_rate': 0.4531827020292612, 'n_estimators': 272, 'max_depth': 8, 'min_child_weight': 6, 'subsample': 0.619292382313168, 'colsample_bytree': 0.7383926266836084, 'gamma': 5.286031623925442, 'lambda': 4.686274807387061, 'alpha': 1.043339468393257}. Best is trial 23 with value: 1.094695.\n"
     ]
    },
    {
     "name": "stdout",
     "output_type": "stream",
     "text": [
      "{'objective': 'reg:squaredlogerror', 'eval_metric': 'rmse', 'learning_rate': 0.2993013945030359, 'n_estimators': 193, 'max_depth': 6, 'min_child_weight': 22, 'subsample': 0.6991772349330755, 'colsample_bytree': 0.8439340061730012, 'gamma': 2.33187099832597, 'lambda': 3.432063650637047, 'alpha': 5.421815959343773, 'random_state': 42}\n"
     ]
    },
    {
     "name": "stderr",
     "output_type": "stream",
     "text": [
      "d:\\Development\\insurance\\venv\\lib\\site-packages\\xgboost\\training.py:38: UserWarning: `feval` is deprecated, use `custom_metric` instead.  They have different behavior when custom objective is also used.See https://xgboost.readthedocs.io/en/latest/tutorials/custom_metric_obj.html for details on the `custom_metric`.\n",
      "  warnings.warn(\n",
      "d:\\Development\\insurance\\venv\\lib\\site-packages\\xgboost\\core.py:158: UserWarning: [00:37:35] WARNING: C:\\buildkite-agent\\builds\\buildkite-windows-cpu-autoscaling-group-i-0c55ff5f71b100e98-1\\xgboost\\xgboost-ci-windows\\src\\learner.cc:740: \n",
      "Parameters: { \"n_estimators\" } are not used.\n",
      "\n",
      "  warnings.warn(smsg, UserWarning)\n"
     ]
    },
    {
     "name": "stdout",
     "output_type": "stream",
     "text": [
      "[0]\ttrain-rmse:1400.27860\ttrain-rmsle:4.33687\tvalidation-rmse:1400.41679\tvalidation-rmsle:4.33615\n",
      "[5]\ttrain-rmse:1396.45230\ttrain-rmsle:4.33687\tvalidation-rmse:1396.59235\tvalidation-rmsle:4.33615\n",
      "[10]\ttrain-rmse:1385.44773\ttrain-rmsle:3.70376\tvalidation-rmse:1385.59331\tvalidation-rmsle:3.70300\n",
      "[15]\ttrain-rmse:1356.28584\ttrain-rmsle:2.74744\tvalidation-rmse:1356.44669\tvalidation-rmsle:2.74656\n",
      "[20]\ttrain-rmse:1290.05382\ttrain-rmsle:1.94577\tvalidation-rmse:1290.25261\tvalidation-rmsle:1.94471\n",
      "[25]\ttrain-rmse:1206.21298\ttrain-rmsle:1.49899\tvalidation-rmse:1206.46778\tvalidation-rmsle:1.49777\n",
      "[30]\ttrain-rmse:1206.21298\ttrain-rmsle:1.49899\tvalidation-rmse:1206.46778\tvalidation-rmsle:1.49777\n",
      "[33]\ttrain-rmse:1206.21298\ttrain-rmsle:1.49899\tvalidation-rmse:1206.46778\tvalidation-rmsle:1.49777\n"
     ]
    },
    {
     "name": "stderr",
     "output_type": "stream",
     "text": [
      "[I 2024-12-28 00:37:39,385] Trial 26 finished with value: 1.497766 and parameters: {'learning_rate': 0.2993013945030359, 'n_estimators': 193, 'max_depth': 6, 'min_child_weight': 22, 'subsample': 0.6991772349330755, 'colsample_bytree': 0.8439340061730012, 'gamma': 2.33187099832597, 'lambda': 3.432063650637047, 'alpha': 5.421815959343773}. Best is trial 23 with value: 1.094695.\n"
     ]
    },
    {
     "name": "stdout",
     "output_type": "stream",
     "text": [
      "{'objective': 'reg:squaredlogerror', 'eval_metric': 'rmse', 'learning_rate': 0.39066917077603397, 'n_estimators': 360, 'max_depth': 7, 'min_child_weight': 5, 'subsample': 0.5464408301720487, 'colsample_bytree': 0.7182817094805934, 'gamma': 4.082228763421027, 'lambda': 2.083300214599012, 'alpha': 1.2714787047316265, 'random_state': 42}\n"
     ]
    },
    {
     "name": "stderr",
     "output_type": "stream",
     "text": [
      "d:\\Development\\insurance\\venv\\lib\\site-packages\\xgboost\\training.py:38: UserWarning: `feval` is deprecated, use `custom_metric` instead.  They have different behavior when custom objective is also used.See https://xgboost.readthedocs.io/en/latest/tutorials/custom_metric_obj.html for details on the `custom_metric`.\n",
      "  warnings.warn(\n",
      "d:\\Development\\insurance\\venv\\lib\\site-packages\\xgboost\\core.py:158: UserWarning: [00:37:40] WARNING: C:\\buildkite-agent\\builds\\buildkite-windows-cpu-autoscaling-group-i-0c55ff5f71b100e98-1\\xgboost\\xgboost-ci-windows\\src\\learner.cc:740: \n",
      "Parameters: { \"n_estimators\" } are not used.\n",
      "\n",
      "  warnings.warn(smsg, UserWarning)\n"
     ]
    },
    {
     "name": "stdout",
     "output_type": "stream",
     "text": [
      "[0]\ttrain-rmse:1400.16350\ttrain-rmsle:4.33687\tvalidation-rmse:1400.30174\tvalidation-rmsle:4.33615\n",
      "[5]\ttrain-rmse:1394.06851\ttrain-rmsle:4.33687\tvalidation-rmse:1394.20971\tvalidation-rmsle:4.33615\n",
      "[10]\ttrain-rmse:1371.54459\ttrain-rmsle:3.12642\tvalidation-rmse:1371.69728\tvalidation-rmsle:3.12559\n",
      "[15]\ttrain-rmse:1301.57447\ttrain-rmsle:2.03902\tvalidation-rmse:1301.76623\tvalidation-rmsle:2.03799\n",
      "[20]\ttrain-rmse:1162.54739\ttrain-rmsle:1.35977\tvalidation-rmse:1162.83577\tvalidation-rmsle:1.35848\n",
      "[25]\ttrain-rmse:1082.71210\ttrain-rmsle:1.19640\tvalidation-rmse:1083.07245\tvalidation-rmsle:1.19506\n",
      "[30]\ttrain-rmse:1082.71210\ttrain-rmsle:1.19640\tvalidation-rmse:1083.07245\tvalidation-rmsle:1.19506\n",
      "[32]\ttrain-rmse:1082.71210\ttrain-rmsle:1.19640\tvalidation-rmse:1083.07245\tvalidation-rmsle:1.19506\n"
     ]
    },
    {
     "name": "stderr",
     "output_type": "stream",
     "text": [
      "[I 2024-12-28 00:37:44,682] Trial 27 finished with value: 1.195056 and parameters: {'learning_rate': 0.39066917077603397, 'n_estimators': 360, 'max_depth': 7, 'min_child_weight': 5, 'subsample': 0.5464408301720487, 'colsample_bytree': 0.7182817094805934, 'gamma': 4.082228763421027, 'lambda': 2.083300214599012, 'alpha': 1.2714787047316265}. Best is trial 23 with value: 1.094695.\n"
     ]
    },
    {
     "name": "stdout",
     "output_type": "stream",
     "text": [
      "{'objective': 'reg:squaredlogerror', 'eval_metric': 'rmse', 'learning_rate': 0.29683985759489734, 'n_estimators': 455, 'max_depth': 4, 'min_child_weight': 10, 'subsample': 0.6039095592359147, 'colsample_bytree': 0.6758099202571831, 'gamma': 5.2836187718194285, 'lambda': 0.9453896090845388, 'alpha': 2.675738230322805, 'random_state': 42}\n"
     ]
    },
    {
     "name": "stderr",
     "output_type": "stream",
     "text": [
      "d:\\Development\\insurance\\venv\\lib\\site-packages\\xgboost\\training.py:38: UserWarning: `feval` is deprecated, use `custom_metric` instead.  They have different behavior when custom objective is also used.See https://xgboost.readthedocs.io/en/latest/tutorials/custom_metric_obj.html for details on the `custom_metric`.\n",
      "  warnings.warn(\n",
      "d:\\Development\\insurance\\venv\\lib\\site-packages\\xgboost\\core.py:158: UserWarning: [00:37:45] WARNING: C:\\buildkite-agent\\builds\\buildkite-windows-cpu-autoscaling-group-i-0c55ff5f71b100e98-1\\xgboost\\xgboost-ci-windows\\src\\learner.cc:740: \n",
      "Parameters: { \"n_estimators\" } are not used.\n",
      "\n",
      "  warnings.warn(smsg, UserWarning)\n"
     ]
    },
    {
     "name": "stdout",
     "output_type": "stream",
     "text": [
      "[0]\ttrain-rmse:1400.28171\ttrain-rmsle:4.33687\tvalidation-rmse:1400.41989\tvalidation-rmsle:4.33615\n",
      "[5]\ttrain-rmse:1396.50702\ttrain-rmsle:4.33687\tvalidation-rmse:1396.64705\tvalidation-rmsle:4.33615\n",
      "[10]\ttrain-rmse:1385.72129\ttrain-rmsle:3.71992\tvalidation-rmse:1385.86608\tvalidation-rmsle:3.71914\n",
      "[15]\ttrain-rmse:1357.27637\ttrain-rmsle:2.76777\tvalidation-rmse:1357.43588\tvalidation-rmsle:2.76688\n",
      "[20]\ttrain-rmse:1292.00724\ttrain-rmsle:1.96073\tvalidation-rmse:1292.20403\tvalidation-rmsle:1.95966\n",
      "[25]\ttrain-rmse:1179.92539\ttrain-rmsle:1.40988\tvalidation-rmse:1180.19918\tvalidation-rmsle:1.40861\n",
      "[30]\ttrain-rmse:1154.76495\ttrain-rmsle:1.33917\tvalidation-rmse:1155.05891\tvalidation-rmsle:1.33788\n",
      "[35]\ttrain-rmse:1154.76495\ttrain-rmsle:1.33917\tvalidation-rmse:1155.05891\tvalidation-rmsle:1.33788\n",
      "[36]\ttrain-rmse:1154.76495\ttrain-rmsle:1.33917\tvalidation-rmse:1155.05891\tvalidation-rmsle:1.33788\n"
     ]
    },
    {
     "name": "stderr",
     "output_type": "stream",
     "text": [
      "[I 2024-12-28 00:37:50,155] Trial 28 finished with value: 1.337876 and parameters: {'learning_rate': 0.29683985759489734, 'n_estimators': 455, 'max_depth': 4, 'min_child_weight': 10, 'subsample': 0.6039095592359147, 'colsample_bytree': 0.6758099202571831, 'gamma': 5.2836187718194285, 'lambda': 0.9453896090845388, 'alpha': 2.675738230322805}. Best is trial 23 with value: 1.094695.\n"
     ]
    },
    {
     "name": "stdout",
     "output_type": "stream",
     "text": [
      "{'objective': 'reg:squaredlogerror', 'eval_metric': 'rmse', 'learning_rate': 0.35502964435088447, 'n_estimators': 296, 'max_depth': 5, 'min_child_weight': 50, 'subsample': 0.9941910360156475, 'colsample_bytree': 0.7697168178543661, 'gamma': 7.415862247210665, 'lambda': 3.541402053148793, 'alpha': 0.02949878339394063, 'random_state': 42}\n"
     ]
    },
    {
     "name": "stderr",
     "output_type": "stream",
     "text": [
      "d:\\Development\\insurance\\venv\\lib\\site-packages\\xgboost\\training.py:38: UserWarning: `feval` is deprecated, use `custom_metric` instead.  They have different behavior when custom objective is also used.See https://xgboost.readthedocs.io/en/latest/tutorials/custom_metric_obj.html for details on the `custom_metric`.\n",
      "  warnings.warn(\n",
      "d:\\Development\\insurance\\venv\\lib\\site-packages\\xgboost\\core.py:158: UserWarning: [00:37:51] WARNING: C:\\buildkite-agent\\builds\\buildkite-windows-cpu-autoscaling-group-i-0c55ff5f71b100e98-1\\xgboost\\xgboost-ci-windows\\src\\learner.cc:740: \n",
      "Parameters: { \"n_estimators\" } are not used.\n",
      "\n",
      "  warnings.warn(smsg, UserWarning)\n"
     ]
    },
    {
     "name": "stdout",
     "output_type": "stream",
     "text": [
      "[0]\ttrain-rmse:1400.20829\ttrain-rmsle:4.33687\tvalidation-rmse:1400.34650\tvalidation-rmsle:4.33615\n",
      "[5]\ttrain-rmse:1395.07595\ttrain-rmsle:4.33687\tvalidation-rmse:1395.21649\tvalidation-rmsle:4.33615\n",
      "[10]\ttrain-rmse:1377.80442\ttrain-rmsle:3.34391\tvalidation-rmse:1377.95352\tvalidation-rmsle:3.34311\n",
      "[15]\ttrain-rmse:1326.77387\ttrain-rmsle:2.29394\tvalidation-rmse:1326.95049\tvalidation-rmsle:2.29297\n",
      "[20]\ttrain-rmse:1241.77329\ttrain-rmsle:1.65110\tvalidation-rmse:1242.00234\tvalidation-rmsle:1.64994\n",
      "[25]\ttrain-rmse:1241.77329\ttrain-rmsle:1.65110\tvalidation-rmse:1242.00234\tvalidation-rmsle:1.64994\n",
      "[28]\ttrain-rmse:1241.77329\ttrain-rmsle:1.65110\tvalidation-rmse:1242.00234\tvalidation-rmsle:1.64994\n"
     ]
    },
    {
     "name": "stderr",
     "output_type": "stream",
     "text": [
      "[I 2024-12-28 00:37:55,131] Trial 29 finished with value: 1.649937 and parameters: {'learning_rate': 0.35502964435088447, 'n_estimators': 296, 'max_depth': 5, 'min_child_weight': 50, 'subsample': 0.9941910360156475, 'colsample_bytree': 0.7697168178543661, 'gamma': 7.415862247210665, 'lambda': 3.541402053148793, 'alpha': 0.02949878339394063}. Best is trial 23 with value: 1.094695.\n"
     ]
    },
    {
     "name": "stdout",
     "output_type": "stream",
     "text": [
      "{'objective': 'reg:squaredlogerror', 'eval_metric': 'rmse', 'learning_rate': 0.47048362530490695, 'n_estimators': 566, 'max_depth': 6, 'min_child_weight': 1, 'subsample': 0.6638942151336711, 'colsample_bytree': 0.756165913757123, 'gamma': 2.344706000569428, 'lambda': 5.225336300892604, 'alpha': 3.999287588596742, 'random_state': 42}\n"
     ]
    },
    {
     "name": "stderr",
     "output_type": "stream",
     "text": [
      "d:\\Development\\insurance\\venv\\lib\\site-packages\\xgboost\\training.py:38: UserWarning: `feval` is deprecated, use `custom_metric` instead.  They have different behavior when custom objective is also used.See https://xgboost.readthedocs.io/en/latest/tutorials/custom_metric_obj.html for details on the `custom_metric`.\n",
      "  warnings.warn(\n",
      "d:\\Development\\insurance\\venv\\lib\\site-packages\\xgboost\\core.py:158: UserWarning: [00:37:56] WARNING: C:\\buildkite-agent\\builds\\buildkite-windows-cpu-autoscaling-group-i-0c55ff5f71b100e98-1\\xgboost\\xgboost-ci-windows\\src\\learner.cc:740: \n",
      "Parameters: { \"n_estimators\" } are not used.\n",
      "\n",
      "  warnings.warn(smsg, UserWarning)\n"
     ]
    },
    {
     "name": "stdout",
     "output_type": "stream",
     "text": [
      "[0]\ttrain-rmse:1400.06302\ttrain-rmsle:4.33687\tvalidation-rmse:1400.20131\tvalidation-rmsle:4.33615\n",
      "[5]\ttrain-rmse:1391.38787\ttrain-rmsle:4.12806\tvalidation-rmse:1391.53043\tvalidation-rmsle:4.12733\n",
      "[10]\ttrain-rmse:1352.59286\ttrain-rmsle:2.67565\tvalidation-rmse:1352.75569\tvalidation-rmsle:2.67476\n",
      "[15]\ttrain-rmse:1231.22180\ttrain-rmsle:1.60152\tvalidation-rmse:1231.45883\tvalidation-rmsle:1.60034\n",
      "[20]\ttrain-rmse:1087.59118\ttrain-rmsle:1.20375\tvalidation-rmse:1087.94674\tvalidation-rmsle:1.20241\n",
      "[25]\ttrain-rmse:1017.21157\ttrain-rmsle:1.12451\tvalidation-rmse:1017.64502\tvalidation-rmsle:1.12316\n",
      "[30]\ttrain-rmse:988.10295\ttrain-rmsle:1.10219\tvalidation-rmse:988.51241\tvalidation-rmsle:1.10072\n",
      "[35]\ttrain-rmse:969.59179\ttrain-rmsle:1.09357\tvalidation-rmse:970.00421\tvalidation-rmsle:1.09208\n",
      "[40]\ttrain-rmse:957.54057\ttrain-rmsle:1.09044\tvalidation-rmse:957.96925\tvalidation-rmsle:1.08896\n",
      "[45]\ttrain-rmse:950.48331\ttrain-rmsle:1.08927\tvalidation-rmse:950.92198\tvalidation-rmsle:1.08780\n",
      "[50]\ttrain-rmse:946.36165\ttrain-rmsle:1.08882\tvalidation-rmse:946.80633\tvalidation-rmsle:1.08736\n",
      "[55]\ttrain-rmse:943.74698\ttrain-rmsle:1.08863\tvalidation-rmse:944.19553\tvalidation-rmsle:1.08717\n",
      "[60]\ttrain-rmse:942.18658\ttrain-rmsle:1.08855\tvalidation-rmse:942.63747\tvalidation-rmsle:1.08709\n",
      "[65]\ttrain-rmse:941.15431\ttrain-rmsle:1.08851\tvalidation-rmse:941.60677\tvalidation-rmsle:1.08705\n",
      "[70]\ttrain-rmse:940.46455\ttrain-rmsle:1.08849\tvalidation-rmse:940.91805\tvalidation-rmsle:1.08703\n",
      "[75]\ttrain-rmse:940.05964\ttrain-rmsle:1.08848\tvalidation-rmse:940.51376\tvalidation-rmsle:1.08702\n",
      "[80]\ttrain-rmse:939.82154\ttrain-rmsle:1.08847\tvalidation-rmse:940.27603\tvalidation-rmsle:1.08702\n",
      "[85]\ttrain-rmse:939.64861\ttrain-rmsle:1.08847\tvalidation-rmse:940.10336\tvalidation-rmsle:1.08702\n",
      "[90]\ttrain-rmse:939.57771\ttrain-rmsle:1.08847\tvalidation-rmse:940.03256\tvalidation-rmsle:1.08702\n",
      "[95]\ttrain-rmse:939.50042\ttrain-rmsle:1.08847\tvalidation-rmse:939.95540\tvalidation-rmsle:1.08701\n",
      "[100]\ttrain-rmse:939.44078\ttrain-rmsle:1.08847\tvalidation-rmse:939.89584\tvalidation-rmsle:1.08701\n",
      "[105]\ttrain-rmse:939.39973\ttrain-rmsle:1.08847\tvalidation-rmse:939.85487\tvalidation-rmsle:1.08701\n",
      "[110]\ttrain-rmse:939.36328\ttrain-rmsle:1.08846\tvalidation-rmse:939.81846\tvalidation-rmsle:1.08701\n",
      "[115]\ttrain-rmse:939.36328\ttrain-rmsle:1.08846\tvalidation-rmse:939.81846\tvalidation-rmsle:1.08701\n",
      "[118]\ttrain-rmse:939.35221\ttrain-rmsle:1.08846\tvalidation-rmse:939.80741\tvalidation-rmsle:1.08701\n"
     ]
    },
    {
     "name": "stderr",
     "output_type": "stream",
     "text": [
      "[I 2024-12-28 00:38:08,029] Trial 30 finished with value: 1.087012 and parameters: {'learning_rate': 0.47048362530490695, 'n_estimators': 566, 'max_depth': 6, 'min_child_weight': 1, 'subsample': 0.6638942151336711, 'colsample_bytree': 0.756165913757123, 'gamma': 2.344706000569428, 'lambda': 5.225336300892604, 'alpha': 3.999287588596742}. Best is trial 30 with value: 1.087012.\n"
     ]
    },
    {
     "name": "stdout",
     "output_type": "stream",
     "text": [
      "{'objective': 'reg:squaredlogerror', 'eval_metric': 'rmse', 'learning_rate': 0.4658449750432566, 'n_estimators': 559, 'max_depth': 6, 'min_child_weight': 1, 'subsample': 0.6633179071141333, 'colsample_bytree': 0.7517526500522184, 'gamma': 2.559640497416814, 'lambda': 5.692361135924348, 'alpha': 3.9070957911078565, 'random_state': 42}\n"
     ]
    },
    {
     "name": "stderr",
     "output_type": "stream",
     "text": [
      "d:\\Development\\insurance\\venv\\lib\\site-packages\\xgboost\\training.py:38: UserWarning: `feval` is deprecated, use `custom_metric` instead.  They have different behavior when custom objective is also used.See https://xgboost.readthedocs.io/en/latest/tutorials/custom_metric_obj.html for details on the `custom_metric`.\n",
      "  warnings.warn(\n",
      "d:\\Development\\insurance\\venv\\lib\\site-packages\\xgboost\\core.py:158: UserWarning: [00:38:09] WARNING: C:\\buildkite-agent\\builds\\buildkite-windows-cpu-autoscaling-group-i-0c55ff5f71b100e98-1\\xgboost\\xgboost-ci-windows\\src\\learner.cc:740: \n",
      "Parameters: { \"n_estimators\" } are not used.\n",
      "\n",
      "  warnings.warn(smsg, UserWarning)\n"
     ]
    },
    {
     "name": "stdout",
     "output_type": "stream",
     "text": [
      "[0]\ttrain-rmse:1400.06890\ttrain-rmsle:4.33687\tvalidation-rmse:1400.20718\tvalidation-rmsle:4.33615\n",
      "[5]\ttrain-rmse:1391.56113\ttrain-rmsle:4.14377\tvalidation-rmse:1391.70360\tvalidation-rmsle:4.14305\n",
      "[10]\ttrain-rmse:1353.91789\ttrain-rmsle:2.70071\tvalidation-rmse:1354.08001\tvalidation-rmsle:2.69982\n",
      "[15]\ttrain-rmse:1236.34397\ttrain-rmsle:1.62508\tvalidation-rmse:1236.57749\tvalidation-rmsle:1.62391\n",
      "[20]\ttrain-rmse:1094.78456\ttrain-rmsle:1.21514\tvalidation-rmse:1095.13308\tvalidation-rmsle:1.21379\n",
      "[25]\ttrain-rmse:1023.39459\ttrain-rmsle:1.12934\tvalidation-rmse:1023.82045\tvalidation-rmsle:1.12799\n",
      "[30]\ttrain-rmse:992.24913\ttrain-rmsle:1.10531\tvalidation-rmse:992.65954\tvalidation-rmsle:1.10385\n",
      "[35]\ttrain-rmse:973.44023\ttrain-rmsle:1.09589\tvalidation-rmse:973.85365\tvalidation-rmsle:1.09441\n",
      "[40]\ttrain-rmse:961.21586\ttrain-rmsle:1.09185\tvalidation-rmse:961.63718\tvalidation-rmsle:1.09037\n",
      "[45]\ttrain-rmse:953.31063\ttrain-rmsle:1.09032\tvalidation-rmse:953.74306\tvalidation-rmsle:1.08885\n",
      "[50]\ttrain-rmse:948.54549\ttrain-rmsle:1.08970\tvalidation-rmse:948.98485\tvalidation-rmsle:1.08823\n",
      "[55]\ttrain-rmse:945.44966\ttrain-rmsle:1.08942\tvalidation-rmse:945.89362\tvalidation-rmsle:1.08796\n",
      "[60]\ttrain-rmse:943.52909\ttrain-rmsle:1.08930\tvalidation-rmse:943.97593\tvalidation-rmsle:1.08784\n",
      "[65]\ttrain-rmse:942.23433\ttrain-rmsle:1.08923\tvalidation-rmse:942.68314\tvalidation-rmsle:1.08778\n",
      "[70]\ttrain-rmse:941.35314\ttrain-rmsle:1.08920\tvalidation-rmse:941.80331\tvalidation-rmsle:1.08775\n",
      "[75]\ttrain-rmse:940.80433\ttrain-rmsle:1.08919\tvalidation-rmse:941.25533\tvalidation-rmsle:1.08774\n",
      "[80]\ttrain-rmse:940.45949\ttrain-rmsle:1.08918\tvalidation-rmse:940.91102\tvalidation-rmsle:1.08773\n",
      "[85]\ttrain-rmse:940.21706\ttrain-rmsle:1.08918\tvalidation-rmse:940.66896\tvalidation-rmsle:1.08773\n",
      "[90]\ttrain-rmse:940.09865\ttrain-rmsle:1.08917\tvalidation-rmse:940.55074\tvalidation-rmsle:1.08772\n",
      "[95]\ttrain-rmse:939.98261\ttrain-rmsle:1.08917\tvalidation-rmse:940.43489\tvalidation-rmsle:1.08772\n",
      "[100]\ttrain-rmse:939.89996\ttrain-rmsle:1.08917\tvalidation-rmse:940.35236\tvalidation-rmsle:1.08772\n",
      "[105]\ttrain-rmse:939.84827\ttrain-rmsle:1.08917\tvalidation-rmse:940.30075\tvalidation-rmsle:1.08772\n",
      "[110]\ttrain-rmse:939.80288\ttrain-rmsle:1.08917\tvalidation-rmse:940.25543\tvalidation-rmsle:1.08772\n",
      "[115]\ttrain-rmse:939.80288\ttrain-rmsle:1.08917\tvalidation-rmse:940.25543\tvalidation-rmsle:1.08772\n",
      "[118]\ttrain-rmse:939.78529\ttrain-rmsle:1.08917\tvalidation-rmse:940.23787\tvalidation-rmsle:1.08772\n"
     ]
    },
    {
     "name": "stderr",
     "output_type": "stream",
     "text": [
      "[I 2024-12-28 00:38:21,038] Trial 31 finished with value: 1.087719 and parameters: {'learning_rate': 0.4658449750432566, 'n_estimators': 559, 'max_depth': 6, 'min_child_weight': 1, 'subsample': 0.6633179071141333, 'colsample_bytree': 0.7517526500522184, 'gamma': 2.559640497416814, 'lambda': 5.692361135924348, 'alpha': 3.9070957911078565}. Best is trial 30 with value: 1.087012.\n"
     ]
    },
    {
     "name": "stdout",
     "output_type": "stream",
     "text": [
      "{'objective': 'reg:squaredlogerror', 'eval_metric': 'rmse', 'learning_rate': 0.46166270025774625, 'n_estimators': 563, 'max_depth': 6, 'min_child_weight': 1, 'subsample': 0.6703871741048457, 'colsample_bytree': 0.7465236412487395, 'gamma': 0.7912168598725842, 'lambda': 7.122318642078136, 'alpha': 4.08528224077269, 'random_state': 42}\n"
     ]
    },
    {
     "name": "stderr",
     "output_type": "stream",
     "text": [
      "d:\\Development\\insurance\\venv\\lib\\site-packages\\xgboost\\training.py:38: UserWarning: `feval` is deprecated, use `custom_metric` instead.  They have different behavior when custom objective is also used.See https://xgboost.readthedocs.io/en/latest/tutorials/custom_metric_obj.html for details on the `custom_metric`.\n",
      "  warnings.warn(\n",
      "d:\\Development\\insurance\\venv\\lib\\site-packages\\xgboost\\core.py:158: UserWarning: [00:38:22] WARNING: C:\\buildkite-agent\\builds\\buildkite-windows-cpu-autoscaling-group-i-0c55ff5f71b100e98-1\\xgboost\\xgboost-ci-windows\\src\\learner.cc:740: \n",
      "Parameters: { \"n_estimators\" } are not used.\n",
      "\n",
      "  warnings.warn(smsg, UserWarning)\n"
     ]
    },
    {
     "name": "stdout",
     "output_type": "stream",
     "text": [
      "[0]\ttrain-rmse:1400.07414\ttrain-rmsle:4.33687\tvalidation-rmse:1400.21242\tvalidation-rmsle:4.33615\n",
      "[5]\ttrain-rmse:1391.71642\ttrain-rmsle:4.15802\tvalidation-rmse:1391.85886\tvalidation-rmsle:4.15730\n",
      "[10]\ttrain-rmse:1355.10680\ttrain-rmsle:2.72382\tvalidation-rmse:1355.26831\tvalidation-rmsle:2.72293\n",
      "[15]\ttrain-rmse:1241.88796\ttrain-rmsle:1.65170\tvalidation-rmse:1242.11774\tvalidation-rmsle:1.65054\n",
      "[20]\ttrain-rmse:1106.59908\ttrain-rmsle:1.23533\tvalidation-rmse:1106.93636\tvalidation-rmsle:1.23399\n",
      "[25]\ttrain-rmse:1035.81528\ttrain-rmsle:1.14020\tvalidation-rmse:1036.22641\tvalidation-rmsle:1.13885\n",
      "[30]\ttrain-rmse:1001.34083\ttrain-rmsle:1.11282\tvalidation-rmse:1001.77812\tvalidation-rmsle:1.11145\n",
      "[35]\ttrain-rmse:982.10597\ttrain-rmsle:1.10163\tvalidation-rmse:982.54923\tvalidation-rmsle:1.10023\n",
      "[40]\ttrain-rmse:970.73704\ttrain-rmsle:1.09554\tvalidation-rmse:971.16323\tvalidation-rmsle:1.09409\n",
      "[45]\ttrain-rmse:960.76407\ttrain-rmsle:1.09283\tvalidation-rmse:961.20353\tvalidation-rmsle:1.09139\n",
      "[50]\ttrain-rmse:954.37571\ttrain-rmsle:1.09161\tvalidation-rmse:954.82402\tvalidation-rmsle:1.09017\n",
      "[55]\ttrain-rmse:950.04384\ttrain-rmsle:1.09101\tvalidation-rmse:950.49831\tvalidation-rmsle:1.08958\n",
      "[60]\ttrain-rmse:947.15282\ttrain-rmsle:1.09072\tvalidation-rmse:947.61148\tvalidation-rmsle:1.08929\n",
      "[65]\ttrain-rmse:945.11803\ttrain-rmsle:1.09056\tvalidation-rmse:945.57968\tvalidation-rmsle:1.08914\n",
      "[70]\ttrain-rmse:943.66414\ttrain-rmsle:1.09048\tvalidation-rmse:944.12795\tvalidation-rmsle:1.08906\n",
      "[75]\ttrain-rmse:942.66526\ttrain-rmsle:1.09043\tvalidation-rmse:943.13056\tvalidation-rmsle:1.08902\n",
      "[80]\ttrain-rmse:941.98414\ttrain-rmsle:1.09041\tvalidation-rmse:942.45046\tvalidation-rmsle:1.08899\n",
      "[85]\ttrain-rmse:941.48365\ttrain-rmsle:1.09039\tvalidation-rmse:941.95073\tvalidation-rmsle:1.08898\n",
      "[90]\ttrain-rmse:941.17856\ttrain-rmsle:1.09039\tvalidation-rmse:941.64610\tvalidation-rmsle:1.08897\n",
      "[95]\ttrain-rmse:940.91614\ttrain-rmsle:1.09038\tvalidation-rmse:941.38408\tvalidation-rmsle:1.08897\n",
      "[100]\ttrain-rmse:940.73394\ttrain-rmsle:1.09038\tvalidation-rmse:941.20214\tvalidation-rmsle:1.08896\n",
      "[105]\ttrain-rmse:940.62622\ttrain-rmsle:1.09038\tvalidation-rmse:941.09459\tvalidation-rmsle:1.08896\n",
      "[110]\ttrain-rmse:940.52641\ttrain-rmsle:1.09037\tvalidation-rmse:940.99493\tvalidation-rmsle:1.08896\n",
      "[115]\ttrain-rmse:940.51746\ttrain-rmsle:1.09037\tvalidation-rmse:940.98600\tvalidation-rmsle:1.08896\n",
      "[120]\ttrain-rmse:940.44665\ttrain-rmsle:1.09037\tvalidation-rmse:940.91529\tvalidation-rmsle:1.08896\n",
      "[125]\ttrain-rmse:940.39234\ttrain-rmsle:1.09037\tvalidation-rmse:940.86107\tvalidation-rmsle:1.08896\n",
      "[130]\ttrain-rmse:940.34211\ttrain-rmsle:1.09037\tvalidation-rmse:940.81091\tvalidation-rmsle:1.08896\n",
      "[135]\ttrain-rmse:940.29528\ttrain-rmsle:1.09037\tvalidation-rmse:940.76416\tvalidation-rmsle:1.08896\n"
     ]
    },
    {
     "name": "stderr",
     "output_type": "stream",
     "text": [
      "[I 2024-12-28 00:38:35,358] Trial 32 finished with value: 1.088956 and parameters: {'learning_rate': 0.46166270025774625, 'n_estimators': 563, 'max_depth': 6, 'min_child_weight': 1, 'subsample': 0.6703871741048457, 'colsample_bytree': 0.7465236412487395, 'gamma': 0.7912168598725842, 'lambda': 7.122318642078136, 'alpha': 4.08528224077269}. Best is trial 30 with value: 1.087012.\n"
     ]
    },
    {
     "name": "stdout",
     "output_type": "stream",
     "text": [
      "{'objective': 'reg:squaredlogerror', 'eval_metric': 'rmse', 'learning_rate': 0.4617029177020948, 'n_estimators': 548, 'max_depth': 6, 'min_child_weight': 5, 'subsample': 0.7336243893158448, 'colsample_bytree': 0.7538645248282033, 'gamma': 0.7555247446696904, 'lambda': 6.981842296157179, 'alpha': 4.5871680063228455, 'random_state': 42}\n"
     ]
    },
    {
     "name": "stderr",
     "output_type": "stream",
     "text": [
      "d:\\Development\\insurance\\venv\\lib\\site-packages\\xgboost\\training.py:38: UserWarning: `feval` is deprecated, use `custom_metric` instead.  They have different behavior when custom objective is also used.See https://xgboost.readthedocs.io/en/latest/tutorials/custom_metric_obj.html for details on the `custom_metric`.\n",
      "  warnings.warn(\n",
      "d:\\Development\\insurance\\venv\\lib\\site-packages\\xgboost\\core.py:158: UserWarning: [00:38:36] WARNING: C:\\buildkite-agent\\builds\\buildkite-windows-cpu-autoscaling-group-i-0c55ff5f71b100e98-1\\xgboost\\xgboost-ci-windows\\src\\learner.cc:740: \n",
      "Parameters: { \"n_estimators\" } are not used.\n",
      "\n",
      "  warnings.warn(smsg, UserWarning)\n"
     ]
    },
    {
     "name": "stdout",
     "output_type": "stream",
     "text": [
      "[0]\ttrain-rmse:1400.07410\ttrain-rmsle:4.33687\tvalidation-rmse:1400.21238\tvalidation-rmsle:4.33615\n",
      "[5]\ttrain-rmse:1391.71384\ttrain-rmsle:4.15785\tvalidation-rmse:1391.85629\tvalidation-rmsle:4.15713\n",
      "[10]\ttrain-rmse:1355.07912\ttrain-rmsle:2.72328\tvalidation-rmse:1355.24072\tvalidation-rmsle:2.72239\n",
      "[15]\ttrain-rmse:1241.02262\ttrain-rmsle:1.64746\tvalidation-rmse:1241.25306\tvalidation-rmsle:1.64630\n",
      "[20]\ttrain-rmse:1102.28918\ttrain-rmsle:1.22774\tvalidation-rmse:1102.63060\tvalidation-rmsle:1.22640\n",
      "[25]\ttrain-rmse:1066.87819\ttrain-rmsle:1.17461\tvalidation-rmse:1067.25502\tvalidation-rmsle:1.17326\n",
      "[30]\ttrain-rmse:1066.87819\ttrain-rmsle:1.17461\tvalidation-rmse:1067.25502\tvalidation-rmsle:1.17326\n",
      "[31]\ttrain-rmse:1066.87819\ttrain-rmsle:1.17461\tvalidation-rmse:1067.25502\tvalidation-rmsle:1.17326\n"
     ]
    },
    {
     "name": "stderr",
     "output_type": "stream",
     "text": [
      "[I 2024-12-28 00:38:40,437] Trial 33 finished with value: 1.173258 and parameters: {'learning_rate': 0.4617029177020948, 'n_estimators': 548, 'max_depth': 6, 'min_child_weight': 5, 'subsample': 0.7336243893158448, 'colsample_bytree': 0.7538645248282033, 'gamma': 0.7555247446696904, 'lambda': 6.981842296157179, 'alpha': 4.5871680063228455}. Best is trial 30 with value: 1.087012.\n"
     ]
    },
    {
     "name": "stdout",
     "output_type": "stream",
     "text": [
      "{'objective': 'reg:squaredlogerror', 'eval_metric': 'rmse', 'learning_rate': 0.41821228956073586, 'n_estimators': 765, 'max_depth': 7, 'min_child_weight': 14, 'subsample': 0.6656450423659206, 'colsample_bytree': 0.8194654276053875, 'gamma': 2.6886191887146604, 'lambda': 5.695852857760521, 'alpha': 3.9943357806058595, 'random_state': 42}\n"
     ]
    },
    {
     "name": "stderr",
     "output_type": "stream",
     "text": [
      "d:\\Development\\insurance\\venv\\lib\\site-packages\\xgboost\\training.py:38: UserWarning: `feval` is deprecated, use `custom_metric` instead.  They have different behavior when custom objective is also used.See https://xgboost.readthedocs.io/en/latest/tutorials/custom_metric_obj.html for details on the `custom_metric`.\n",
      "  warnings.warn(\n",
      "d:\\Development\\insurance\\venv\\lib\\site-packages\\xgboost\\core.py:158: UserWarning: [00:38:41] WARNING: C:\\buildkite-agent\\builds\\buildkite-windows-cpu-autoscaling-group-i-0c55ff5f71b100e98-1\\xgboost\\xgboost-ci-windows\\src\\learner.cc:740: \n",
      "Parameters: { \"n_estimators\" } are not used.\n",
      "\n",
      "  warnings.warn(smsg, UserWarning)\n"
     ]
    },
    {
     "name": "stdout",
     "output_type": "stream",
     "text": [
      "[0]\ttrain-rmse:1400.12884\ttrain-rmsle:4.33687\tvalidation-rmse:1400.26710\tvalidation-rmsle:4.33615\n",
      "[5]\ttrain-rmse:1393.21357\ttrain-rmsle:4.30764\tvalidation-rmse:1393.35527\tvalidation-rmsle:4.30694\n",
      "[10]\ttrain-rmse:1365.85514\ttrain-rmsle:2.96568\tvalidation-rmse:1366.01098\tvalidation-rmsle:2.96483\n",
      "[15]\ttrain-rmse:1280.06454\ttrain-rmsle:1.87349\tvalidation-rmse:1280.26962\tvalidation-rmsle:1.87240\n",
      "[20]\ttrain-rmse:1167.77549\ttrain-rmsle:1.37423\tvalidation-rmse:1168.05988\tvalidation-rmsle:1.37296\n",
      "[25]\ttrain-rmse:1167.77549\ttrain-rmsle:1.37423\tvalidation-rmse:1168.05988\tvalidation-rmsle:1.37296\n",
      "[29]\ttrain-rmse:1167.77549\ttrain-rmsle:1.37423\tvalidation-rmse:1168.05988\tvalidation-rmsle:1.37296\n"
     ]
    },
    {
     "name": "stderr",
     "output_type": "stream",
     "text": [
      "[I 2024-12-28 00:38:45,216] Trial 34 finished with value: 1.372958 and parameters: {'learning_rate': 0.41821228956073586, 'n_estimators': 765, 'max_depth': 7, 'min_child_weight': 14, 'subsample': 0.6656450423659206, 'colsample_bytree': 0.8194654276053875, 'gamma': 2.6886191887146604, 'lambda': 5.695852857760521, 'alpha': 3.9943357806058595}. Best is trial 30 with value: 1.087012.\n"
     ]
    },
    {
     "name": "stdout",
     "output_type": "stream",
     "text": [
      "{'objective': 'reg:squaredlogerror', 'eval_metric': 'rmse', 'learning_rate': 0.4677697025977646, 'n_estimators': 641, 'max_depth': 6, 'min_child_weight': 9, 'subsample': 0.7391603666875943, 'colsample_bytree': 0.7783382564513512, 'gamma': 3.507450247713326, 'lambda': 6.80088881856358, 'alpha': 5.513079165854973, 'random_state': 42}\n"
     ]
    },
    {
     "name": "stderr",
     "output_type": "stream",
     "text": [
      "d:\\Development\\insurance\\venv\\lib\\site-packages\\xgboost\\training.py:38: UserWarning: `feval` is deprecated, use `custom_metric` instead.  They have different behavior when custom objective is also used.See https://xgboost.readthedocs.io/en/latest/tutorials/custom_metric_obj.html for details on the `custom_metric`.\n",
      "  warnings.warn(\n",
      "d:\\Development\\insurance\\venv\\lib\\site-packages\\xgboost\\core.py:158: UserWarning: [00:38:46] WARNING: C:\\buildkite-agent\\builds\\buildkite-windows-cpu-autoscaling-group-i-0c55ff5f71b100e98-1\\xgboost\\xgboost-ci-windows\\src\\learner.cc:740: \n",
      "Parameters: { \"n_estimators\" } are not used.\n",
      "\n",
      "  warnings.warn(smsg, UserWarning)\n"
     ]
    },
    {
     "name": "stdout",
     "output_type": "stream",
     "text": [
      "[0]\ttrain-rmse:1400.06646\ttrain-rmsle:4.33687\tvalidation-rmse:1400.20475\tvalidation-rmsle:4.33615\n",
      "[5]\ttrain-rmse:1391.49037\ttrain-rmsle:4.13725\tvalidation-rmse:1391.63292\tvalidation-rmsle:4.13654\n",
      "[10]\ttrain-rmse:1353.38540\ttrain-rmsle:2.69055\tvalidation-rmse:1353.54784\tvalidation-rmsle:2.68966\n",
      "[15]\ttrain-rmse:1235.01105\ttrain-rmsle:1.61886\tvalidation-rmse:1235.24551\tvalidation-rmsle:1.61769\n",
      "[20]\ttrain-rmse:1117.84605\ttrain-rmsle:1.25635\tvalidation-rmse:1118.17293\tvalidation-rmsle:1.25503\n",
      "[25]\ttrain-rmse:1117.84605\ttrain-rmsle:1.25635\tvalidation-rmse:1118.17293\tvalidation-rmsle:1.25503\n",
      "[28]\ttrain-rmse:1117.84605\ttrain-rmsle:1.25635\tvalidation-rmse:1118.17293\tvalidation-rmsle:1.25503\n"
     ]
    },
    {
     "name": "stderr",
     "output_type": "stream",
     "text": [
      "[I 2024-12-28 00:38:50,097] Trial 35 finished with value: 1.255027 and parameters: {'learning_rate': 0.4677697025977646, 'n_estimators': 641, 'max_depth': 6, 'min_child_weight': 9, 'subsample': 0.7391603666875943, 'colsample_bytree': 0.7783382564513512, 'gamma': 3.507450247713326, 'lambda': 6.80088881856358, 'alpha': 5.513079165854973}. Best is trial 30 with value: 1.087012.\n"
     ]
    },
    {
     "name": "stdout",
     "output_type": "stream",
     "text": [
      "{'objective': 'reg:squaredlogerror', 'eval_metric': 'rmse', 'learning_rate': 0.412585025878477, 'n_estimators': 538, 'max_depth': 8, 'min_child_weight': 4, 'subsample': 0.7770417534814638, 'colsample_bytree': 0.8555382929125448, 'gamma': 0.8930366861831418, 'lambda': 8.32502321059991, 'alpha': 6.198984883052145, 'random_state': 42}\n"
     ]
    },
    {
     "name": "stderr",
     "output_type": "stream",
     "text": [
      "d:\\Development\\insurance\\venv\\lib\\site-packages\\xgboost\\training.py:38: UserWarning: `feval` is deprecated, use `custom_metric` instead.  They have different behavior when custom objective is also used.See https://xgboost.readthedocs.io/en/latest/tutorials/custom_metric_obj.html for details on the `custom_metric`.\n",
      "  warnings.warn(\n",
      "d:\\Development\\insurance\\venv\\lib\\site-packages\\xgboost\\core.py:158: UserWarning: [00:38:51] WARNING: C:\\buildkite-agent\\builds\\buildkite-windows-cpu-autoscaling-group-i-0c55ff5f71b100e98-1\\xgboost\\xgboost-ci-windows\\src\\learner.cc:740: \n",
      "Parameters: { \"n_estimators\" } are not used.\n",
      "\n",
      "  warnings.warn(smsg, UserWarning)\n"
     ]
    },
    {
     "name": "stdout",
     "output_type": "stream",
     "text": [
      "[0]\ttrain-rmse:1400.13594\ttrain-rmsle:4.33687\tvalidation-rmse:1400.27420\tvalidation-rmsle:4.33615\n",
      "[5]\ttrain-rmse:1393.39495\ttrain-rmsle:4.32573\tvalidation-rmse:1393.53660\tvalidation-rmsle:4.32502\n",
      "[10]\ttrain-rmse:1367.10138\ttrain-rmsle:2.99846\tvalidation-rmse:1367.25660\tvalidation-rmsle:2.99762\n",
      "[15]\ttrain-rmse:1285.43120\ttrain-rmsle:1.91140\tvalidation-rmse:1285.63298\tvalidation-rmsle:1.91033\n",
      "[20]\ttrain-rmse:1154.21536\ttrain-rmsle:1.33787\tvalidation-rmse:1154.51083\tvalidation-rmsle:1.33658\n",
      "[25]\ttrain-rmse:1066.59450\ttrain-rmsle:1.17427\tvalidation-rmse:1066.97173\tvalidation-rmsle:1.17292\n",
      "[30]\ttrain-rmse:1035.79022\ttrain-rmsle:1.14020\tvalidation-rmse:1036.20157\tvalidation-rmsle:1.13885\n",
      "[35]\ttrain-rmse:1035.79022\ttrain-rmsle:1.14020\tvalidation-rmse:1036.20157\tvalidation-rmsle:1.13885\n",
      "[37]\ttrain-rmse:1035.79022\ttrain-rmsle:1.14020\tvalidation-rmse:1036.20157\tvalidation-rmsle:1.13885\n"
     ]
    },
    {
     "name": "stderr",
     "output_type": "stream",
     "text": [
      "[I 2024-12-28 00:38:55,755] Trial 36 finished with value: 1.138847 and parameters: {'learning_rate': 0.412585025878477, 'n_estimators': 538, 'max_depth': 8, 'min_child_weight': 4, 'subsample': 0.7770417534814638, 'colsample_bytree': 0.8555382929125448, 'gamma': 0.8930366861831418, 'lambda': 8.32502321059991, 'alpha': 6.198984883052145}. Best is trial 30 with value: 1.087012.\n"
     ]
    },
    {
     "name": "stdout",
     "output_type": "stream",
     "text": [
      "{'objective': 'reg:squaredlogerror', 'eval_metric': 'rmse', 'learning_rate': 0.34446470476862484, 'n_estimators': 732, 'max_depth': 7, 'min_child_weight': 32, 'subsample': 0.646005261877903, 'colsample_bytree': 0.7175007102038962, 'gamma': 2.31962218005443, 'lambda': 7.652974648556831, 'alpha': 4.843616178236289, 'random_state': 42}\n"
     ]
    },
    {
     "name": "stderr",
     "output_type": "stream",
     "text": [
      "d:\\Development\\insurance\\venv\\lib\\site-packages\\xgboost\\training.py:38: UserWarning: `feval` is deprecated, use `custom_metric` instead.  They have different behavior when custom objective is also used.See https://xgboost.readthedocs.io/en/latest/tutorials/custom_metric_obj.html for details on the `custom_metric`.\n",
      "  warnings.warn(\n",
      "d:\\Development\\insurance\\venv\\lib\\site-packages\\xgboost\\core.py:158: UserWarning: [00:38:56] WARNING: C:\\buildkite-agent\\builds\\buildkite-windows-cpu-autoscaling-group-i-0c55ff5f71b100e98-1\\xgboost\\xgboost-ci-windows\\src\\learner.cc:740: \n",
      "Parameters: { \"n_estimators\" } are not used.\n",
      "\n",
      "  warnings.warn(smsg, UserWarning)\n"
     ]
    },
    {
     "name": "stdout",
     "output_type": "stream",
     "text": [
      "[0]\ttrain-rmse:1400.22176\ttrain-rmsle:4.33687\tvalidation-rmse:1400.35997\tvalidation-rmsle:4.33615\n",
      "[5]\ttrain-rmse:1395.35931\ttrain-rmsle:4.33687\tvalidation-rmse:1395.49993\tvalidation-rmsle:4.33615\n",
      "[10]\ttrain-rmse:1379.48323\ttrain-rmsle:3.41098\tvalidation-rmse:1379.63192\tvalidation-rmsle:3.41018\n",
      "[15]\ttrain-rmse:1333.74185\ttrain-rmsle:2.38072\tvalidation-rmse:1333.91513\tvalidation-rmsle:2.37977\n",
      "[20]\ttrain-rmse:1238.09294\ttrain-rmsle:1.63335\tvalidation-rmse:1238.32538\tvalidation-rmsle:1.63219\n",
      "[25]\ttrain-rmse:1238.09294\ttrain-rmsle:1.63335\tvalidation-rmse:1238.32538\tvalidation-rmsle:1.63219\n",
      "[29]\ttrain-rmse:1238.09294\ttrain-rmsle:1.63335\tvalidation-rmse:1238.32538\tvalidation-rmsle:1.63219\n"
     ]
    },
    {
     "name": "stderr",
     "output_type": "stream",
     "text": [
      "[I 2024-12-28 00:39:00,701] Trial 37 finished with value: 1.632186 and parameters: {'learning_rate': 0.34446470476862484, 'n_estimators': 732, 'max_depth': 7, 'min_child_weight': 32, 'subsample': 0.646005261877903, 'colsample_bytree': 0.7175007102038962, 'gamma': 2.31962218005443, 'lambda': 7.652974648556831, 'alpha': 4.843616178236289}. Best is trial 30 with value: 1.087012.\n"
     ]
    },
    {
     "name": "stdout",
     "output_type": "stream",
     "text": [
      "{'objective': 'reg:squaredlogerror', 'eval_metric': 'rmse', 'learning_rate': 0.46616556938735554, 'n_estimators': 593, 'max_depth': 6, 'min_child_weight': 9, 'subsample': 0.6737294923309677, 'colsample_bytree': 0.7986208519700295, 'gamma': 2.290514796103798, 'lambda': 5.920177202821554, 'alpha': 3.8838609102635138, 'random_state': 42}\n"
     ]
    },
    {
     "name": "stderr",
     "output_type": "stream",
     "text": [
      "d:\\Development\\insurance\\venv\\lib\\site-packages\\xgboost\\training.py:38: UserWarning: `feval` is deprecated, use `custom_metric` instead.  They have different behavior when custom objective is also used.See https://xgboost.readthedocs.io/en/latest/tutorials/custom_metric_obj.html for details on the `custom_metric`.\n",
      "  warnings.warn(\n",
      "d:\\Development\\insurance\\venv\\lib\\site-packages\\xgboost\\core.py:158: UserWarning: [00:39:01] WARNING: C:\\buildkite-agent\\builds\\buildkite-windows-cpu-autoscaling-group-i-0c55ff5f71b100e98-1\\xgboost\\xgboost-ci-windows\\src\\learner.cc:740: \n",
      "Parameters: { \"n_estimators\" } are not used.\n",
      "\n",
      "  warnings.warn(smsg, UserWarning)\n"
     ]
    },
    {
     "name": "stdout",
     "output_type": "stream",
     "text": [
      "[0]\ttrain-rmse:1400.06845\ttrain-rmsle:4.33687\tvalidation-rmse:1400.20674\tvalidation-rmsle:4.33615\n",
      "[5]\ttrain-rmse:1391.54923\ttrain-rmsle:4.14269\tvalidation-rmse:1391.69177\tvalidation-rmsle:4.14197\n",
      "[10]\ttrain-rmse:1353.83142\ttrain-rmsle:2.69905\tvalidation-rmse:1353.99369\tvalidation-rmsle:2.69816\n",
      "[15]\ttrain-rmse:1236.20663\ttrain-rmsle:1.62444\tvalidation-rmse:1236.44035\tvalidation-rmsle:1.62326\n",
      "[20]\ttrain-rmse:1117.73506\ttrain-rmsle:1.25613\tvalidation-rmse:1118.06212\tvalidation-rmsle:1.25481\n",
      "[25]\ttrain-rmse:1117.73506\ttrain-rmsle:1.25613\tvalidation-rmse:1118.06212\tvalidation-rmsle:1.25481\n",
      "[28]\ttrain-rmse:1117.73506\ttrain-rmsle:1.25613\tvalidation-rmse:1118.06212\tvalidation-rmsle:1.25481\n"
     ]
    },
    {
     "name": "stderr",
     "output_type": "stream",
     "text": [
      "[I 2024-12-28 00:39:05,488] Trial 38 finished with value: 1.254807 and parameters: {'learning_rate': 0.46616556938735554, 'n_estimators': 593, 'max_depth': 6, 'min_child_weight': 9, 'subsample': 0.6737294923309677, 'colsample_bytree': 0.7986208519700295, 'gamma': 2.290514796103798, 'lambda': 5.920177202821554, 'alpha': 3.8838609102635138}. Best is trial 30 with value: 1.087012.\n"
     ]
    },
    {
     "name": "stdout",
     "output_type": "stream",
     "text": [
      "{'objective': 'reg:squaredlogerror', 'eval_metric': 'rmse', 'learning_rate': 0.4212268961792999, 'n_estimators': 688, 'max_depth': 7, 'min_child_weight': 5, 'subsample': 0.6133511761526943, 'colsample_bytree': 0.868069584551673, 'gamma': 0.7937611367054433, 'lambda': 7.346724409673902, 'alpha': 6.48772356724146, 'random_state': 42}\n"
     ]
    },
    {
     "name": "stderr",
     "output_type": "stream",
     "text": [
      "d:\\Development\\insurance\\venv\\lib\\site-packages\\xgboost\\training.py:38: UserWarning: `feval` is deprecated, use `custom_metric` instead.  They have different behavior when custom objective is also used.See https://xgboost.readthedocs.io/en/latest/tutorials/custom_metric_obj.html for details on the `custom_metric`.\n",
      "  warnings.warn(\n",
      "d:\\Development\\insurance\\venv\\lib\\site-packages\\xgboost\\core.py:158: UserWarning: [00:39:06] WARNING: C:\\buildkite-agent\\builds\\buildkite-windows-cpu-autoscaling-group-i-0c55ff5f71b100e98-1\\xgboost\\xgboost-ci-windows\\src\\learner.cc:740: \n",
      "Parameters: { \"n_estimators\" } are not used.\n",
      "\n",
      "  warnings.warn(smsg, UserWarning)\n"
     ]
    },
    {
     "name": "stdout",
     "output_type": "stream",
     "text": [
      "[0]\ttrain-rmse:1400.12517\ttrain-rmsle:4.33687\tvalidation-rmse:1400.26343\tvalidation-rmsle:4.33615\n",
      "[5]\ttrain-rmse:1393.11741\ttrain-rmsle:4.29775\tvalidation-rmse:1393.25925\tvalidation-rmsle:4.29705\n",
      "[10]\ttrain-rmse:1365.19766\ttrain-rmsle:2.94905\tvalidation-rmse:1365.35400\tvalidation-rmsle:2.94821\n",
      "[15]\ttrain-rmse:1278.63135\ttrain-rmsle:1.86372\tvalidation-rmse:1278.83743\tvalidation-rmsle:1.86263\n",
      "[20]\ttrain-rmse:1148.52977\ttrain-rmsle:1.32364\tvalidation-rmse:1148.82997\tvalidation-rmsle:1.32234\n",
      "[25]\ttrain-rmse:1078.53747\ttrain-rmsle:1.19037\tvalidation-rmse:1078.90225\tvalidation-rmsle:1.18902\n",
      "[30]\ttrain-rmse:1078.53747\ttrain-rmsle:1.19037\tvalidation-rmse:1078.90225\tvalidation-rmsle:1.18902\n",
      "[33]\ttrain-rmse:1078.53747\ttrain-rmsle:1.19037\tvalidation-rmse:1078.90225\tvalidation-rmsle:1.18902\n"
     ]
    },
    {
     "name": "stderr",
     "output_type": "stream",
     "text": [
      "[I 2024-12-28 00:39:10,804] Trial 39 finished with value: 1.18902 and parameters: {'learning_rate': 0.4212268961792999, 'n_estimators': 688, 'max_depth': 7, 'min_child_weight': 5, 'subsample': 0.6133511761526943, 'colsample_bytree': 0.868069584551673, 'gamma': 0.7937611367054433, 'lambda': 7.346724409673902, 'alpha': 6.48772356724146}. Best is trial 30 with value: 1.087012.\n"
     ]
    },
    {
     "name": "stdout",
     "output_type": "stream",
     "text": [
      "{'objective': 'reg:squaredlogerror', 'eval_metric': 'rmse', 'learning_rate': 0.37762581634127446, 'n_estimators': 424, 'max_depth': 5, 'min_child_weight': 1, 'subsample': 0.8053162163348875, 'colsample_bytree': 0.8238764246763333, 'gamma': 3.313867058563727, 'lambda': 5.495518009829452, 'alpha': 7.861910206824982, 'random_state': 42}\n"
     ]
    },
    {
     "name": "stderr",
     "output_type": "stream",
     "text": [
      "d:\\Development\\insurance\\venv\\lib\\site-packages\\xgboost\\training.py:38: UserWarning: `feval` is deprecated, use `custom_metric` instead.  They have different behavior when custom objective is also used.See https://xgboost.readthedocs.io/en/latest/tutorials/custom_metric_obj.html for details on the `custom_metric`.\n",
      "  warnings.warn(\n",
      "d:\\Development\\insurance\\venv\\lib\\site-packages\\xgboost\\core.py:158: UserWarning: [00:39:11] WARNING: C:\\buildkite-agent\\builds\\buildkite-windows-cpu-autoscaling-group-i-0c55ff5f71b100e98-1\\xgboost\\xgboost-ci-windows\\src\\learner.cc:740: \n",
      "Parameters: { \"n_estimators\" } are not used.\n",
      "\n",
      "  warnings.warn(smsg, UserWarning)\n"
     ]
    },
    {
     "name": "stdout",
     "output_type": "stream",
     "text": [
      "[0]\ttrain-rmse:1400.17997\ttrain-rmsle:4.33687\tvalidation-rmse:1400.31820\tvalidation-rmsle:4.33615\n",
      "[5]\ttrain-rmse:1394.45140\ttrain-rmsle:4.33687\tvalidation-rmse:1394.59242\tvalidation-rmsle:4.33615\n",
      "[10]\ttrain-rmse:1373.99529\ttrain-rmsle:3.20530\tvalidation-rmse:1374.14676\tvalidation-rmsle:3.20448\n",
      "[15]\ttrain-rmse:1311.81506\ttrain-rmsle:2.13278\tvalidation-rmse:1312.00084\tvalidation-rmsle:2.13177\n",
      "[20]\ttrain-rmse:1188.25938\ttrain-rmsle:1.43636\tvalidation-rmse:1188.52762\tvalidation-rmsle:1.43512\n",
      "[25]\ttrain-rmse:1078.55841\ttrain-rmsle:1.18583\tvalidation-rmse:1078.89673\tvalidation-rmsle:1.18428\n",
      "[30]\ttrain-rmse:1018.75313\ttrain-rmsle:1.11576\tvalidation-rmse:1019.11706\tvalidation-rmsle:1.11403\n",
      "[35]\ttrain-rmse:986.79140\ttrain-rmsle:1.09221\tvalidation-rmse:987.14716\tvalidation-rmsle:1.09036\n",
      "[40]\ttrain-rmse:968.83623\ttrain-rmsle:1.08173\tvalidation-rmse:969.16315\tvalidation-rmsle:1.07976\n",
      "[45]\ttrain-rmse:956.75145\ttrain-rmsle:1.07628\tvalidation-rmse:957.04327\tvalidation-rmsle:1.07420\n",
      "[50]\ttrain-rmse:948.69891\ttrain-rmsle:1.07316\tvalidation-rmse:948.96566\tvalidation-rmsle:1.07102\n",
      "[55]\ttrain-rmse:942.80166\ttrain-rmsle:1.07118\tvalidation-rmse:943.04567\tvalidation-rmsle:1.06900\n",
      "[60]\ttrain-rmse:938.48540\ttrain-rmsle:1.06987\tvalidation-rmse:938.71216\tvalidation-rmsle:1.06766\n",
      "[65]\ttrain-rmse:935.22483\ttrain-rmsle:1.06893\tvalidation-rmse:935.43976\tvalidation-rmsle:1.06668\n",
      "[70]\ttrain-rmse:932.77521\ttrain-rmsle:1.06822\tvalidation-rmse:932.97839\tvalidation-rmsle:1.06594\n",
      "[75]\ttrain-rmse:930.84684\ttrain-rmsle:1.06768\tvalidation-rmse:931.03715\tvalidation-rmsle:1.06538\n",
      "[80]\ttrain-rmse:929.13747\ttrain-rmsle:1.06726\tvalidation-rmse:929.31306\tvalidation-rmsle:1.06492\n",
      "[85]\ttrain-rmse:927.87194\ttrain-rmsle:1.06692\tvalidation-rmse:928.03643\tvalidation-rmsle:1.06457\n",
      "[90]\ttrain-rmse:927.02753\ttrain-rmsle:1.06664\tvalidation-rmse:927.18712\tvalidation-rmsle:1.06428\n",
      "[95]\ttrain-rmse:926.32219\ttrain-rmsle:1.06640\tvalidation-rmse:926.48010\tvalidation-rmsle:1.06403\n",
      "[100]\ttrain-rmse:925.74400\ttrain-rmsle:1.06619\tvalidation-rmse:925.89714\tvalidation-rmsle:1.06380\n",
      "[105]\ttrain-rmse:925.17338\ttrain-rmsle:1.06600\tvalidation-rmse:925.32356\tvalidation-rmsle:1.06360\n",
      "[110]\ttrain-rmse:924.85925\ttrain-rmsle:1.06583\tvalidation-rmse:925.00938\tvalidation-rmsle:1.06342\n",
      "[115]\ttrain-rmse:924.54161\ttrain-rmsle:1.06568\tvalidation-rmse:924.68949\tvalidation-rmsle:1.06326\n",
      "[120]\ttrain-rmse:924.23113\ttrain-rmsle:1.06553\tvalidation-rmse:924.37739\tvalidation-rmsle:1.06310\n",
      "[125]\ttrain-rmse:923.89806\ttrain-rmsle:1.06540\tvalidation-rmse:924.04231\tvalidation-rmsle:1.06297\n",
      "[130]\ttrain-rmse:923.72674\ttrain-rmsle:1.06529\tvalidation-rmse:923.86915\tvalidation-rmsle:1.06284\n",
      "[135]\ttrain-rmse:923.54668\ttrain-rmsle:1.06518\tvalidation-rmse:923.68633\tvalidation-rmsle:1.06272\n",
      "[140]\ttrain-rmse:923.36475\ttrain-rmsle:1.06508\tvalidation-rmse:923.50333\tvalidation-rmsle:1.06262\n",
      "[145]\ttrain-rmse:923.14326\ttrain-rmsle:1.06499\tvalidation-rmse:923.28043\tvalidation-rmsle:1.06252\n",
      "[150]\ttrain-rmse:923.04442\ttrain-rmsle:1.06490\tvalidation-rmse:923.18159\tvalidation-rmsle:1.06243\n",
      "[155]\ttrain-rmse:922.92800\ttrain-rmsle:1.06482\tvalidation-rmse:923.06626\tvalidation-rmsle:1.06235\n",
      "[160]\ttrain-rmse:922.87528\ttrain-rmsle:1.06475\tvalidation-rmse:923.01294\tvalidation-rmsle:1.06227\n",
      "[165]\ttrain-rmse:922.68789\ttrain-rmsle:1.06468\tvalidation-rmse:922.82355\tvalidation-rmsle:1.06220\n",
      "[170]\ttrain-rmse:922.66472\ttrain-rmsle:1.06462\tvalidation-rmse:922.80156\tvalidation-rmsle:1.06213\n",
      "[175]\ttrain-rmse:922.63342\ttrain-rmsle:1.06457\tvalidation-rmse:922.76999\tvalidation-rmsle:1.06208\n",
      "[180]\ttrain-rmse:922.52342\ttrain-rmsle:1.06452\tvalidation-rmse:922.65754\tvalidation-rmsle:1.06201\n",
      "[185]\ttrain-rmse:922.38951\ttrain-rmsle:1.06447\tvalidation-rmse:922.52293\tvalidation-rmsle:1.06196\n",
      "[190]\ttrain-rmse:922.35241\ttrain-rmsle:1.06442\tvalidation-rmse:922.48673\tvalidation-rmsle:1.06192\n",
      "[195]\ttrain-rmse:922.34633\ttrain-rmsle:1.06438\tvalidation-rmse:922.48172\tvalidation-rmsle:1.06187\n",
      "[200]\ttrain-rmse:922.22407\ttrain-rmsle:1.06434\tvalidation-rmse:922.35714\tvalidation-rmsle:1.06183\n",
      "[205]\ttrain-rmse:922.20954\ttrain-rmsle:1.06430\tvalidation-rmse:922.34277\tvalidation-rmsle:1.06179\n",
      "[210]\ttrain-rmse:922.08320\ttrain-rmsle:1.06427\tvalidation-rmse:922.21620\tvalidation-rmsle:1.06175\n",
      "[215]\ttrain-rmse:921.96638\ttrain-rmsle:1.06423\tvalidation-rmse:922.09851\tvalidation-rmsle:1.06171\n",
      "[220]\ttrain-rmse:921.93906\ttrain-rmsle:1.06420\tvalidation-rmse:922.07024\tvalidation-rmsle:1.06167\n",
      "[225]\ttrain-rmse:921.92573\ttrain-rmsle:1.06417\tvalidation-rmse:922.05857\tvalidation-rmsle:1.06164\n",
      "[230]\ttrain-rmse:921.91861\ttrain-rmsle:1.06414\tvalidation-rmse:922.05212\tvalidation-rmsle:1.06162\n",
      "[235]\ttrain-rmse:921.92598\ttrain-rmsle:1.06412\tvalidation-rmse:922.06023\tvalidation-rmsle:1.06160\n",
      "[240]\ttrain-rmse:921.88647\ttrain-rmsle:1.06411\tvalidation-rmse:922.01967\tvalidation-rmsle:1.06158\n",
      "[245]\ttrain-rmse:921.86224\ttrain-rmsle:1.06408\tvalidation-rmse:921.99590\tvalidation-rmsle:1.06155\n",
      "[250]\ttrain-rmse:921.87335\ttrain-rmsle:1.06407\tvalidation-rmse:922.00820\tvalidation-rmsle:1.06154\n",
      "[255]\ttrain-rmse:921.88307\ttrain-rmsle:1.06405\tvalidation-rmse:922.01842\tvalidation-rmsle:1.06152\n",
      "[260]\ttrain-rmse:921.88995\ttrain-rmsle:1.06404\tvalidation-rmse:922.02531\tvalidation-rmsle:1.06151\n",
      "[265]\ttrain-rmse:921.85012\ttrain-rmsle:1.06403\tvalidation-rmse:921.98609\tvalidation-rmsle:1.06149\n",
      "[270]\ttrain-rmse:921.83208\ttrain-rmsle:1.06402\tvalidation-rmse:921.96801\tvalidation-rmsle:1.06149\n",
      "[275]\ttrain-rmse:921.83240\ttrain-rmsle:1.06402\tvalidation-rmse:921.96880\tvalidation-rmsle:1.06148\n",
      "[280]\ttrain-rmse:921.82414\ttrain-rmsle:1.06401\tvalidation-rmse:921.96084\tvalidation-rmsle:1.06147\n",
      "[285]\ttrain-rmse:921.82576\ttrain-rmsle:1.06400\tvalidation-rmse:921.96315\tvalidation-rmsle:1.06146\n",
      "[290]\ttrain-rmse:921.82371\ttrain-rmsle:1.06399\tvalidation-rmse:921.96106\tvalidation-rmsle:1.06146\n",
      "[295]\ttrain-rmse:921.82371\ttrain-rmsle:1.06399\tvalidation-rmse:921.96106\tvalidation-rmsle:1.06146\n",
      "[296]\ttrain-rmse:921.82371\ttrain-rmsle:1.06399\tvalidation-rmse:921.96106\tvalidation-rmsle:1.06146\n"
     ]
    },
    {
     "name": "stderr",
     "output_type": "stream",
     "text": [
      "[I 2024-12-28 00:39:40,981] Trial 40 finished with value: 1.061457 and parameters: {'learning_rate': 0.37762581634127446, 'n_estimators': 424, 'max_depth': 5, 'min_child_weight': 1, 'subsample': 0.8053162163348875, 'colsample_bytree': 0.8238764246763333, 'gamma': 3.313867058563727, 'lambda': 5.495518009829452, 'alpha': 7.861910206824982}. Best is trial 40 with value: 1.061457.\n"
     ]
    },
    {
     "name": "stdout",
     "output_type": "stream",
     "text": [
      "{'objective': 'reg:squaredlogerror', 'eval_metric': 'rmse', 'learning_rate': 0.39128787307598867, 'n_estimators': 575, 'max_depth': 5, 'min_child_weight': 1, 'subsample': 0.8126150483332225, 'colsample_bytree': 0.7471066233240348, 'gamma': 4.700022514173262, 'lambda': 5.396342885353014, 'alpha': 8.26747981566606, 'random_state': 42}\n"
     ]
    },
    {
     "name": "stderr",
     "output_type": "stream",
     "text": [
      "d:\\Development\\insurance\\venv\\lib\\site-packages\\xgboost\\training.py:38: UserWarning: `feval` is deprecated, use `custom_metric` instead.  They have different behavior when custom objective is also used.See https://xgboost.readthedocs.io/en/latest/tutorials/custom_metric_obj.html for details on the `custom_metric`.\n",
      "  warnings.warn(\n",
      "d:\\Development\\insurance\\venv\\lib\\site-packages\\xgboost\\core.py:158: UserWarning: [00:39:42] WARNING: C:\\buildkite-agent\\builds\\buildkite-windows-cpu-autoscaling-group-i-0c55ff5f71b100e98-1\\xgboost\\xgboost-ci-windows\\src\\learner.cc:740: \n",
      "Parameters: { \"n_estimators\" } are not used.\n",
      "\n",
      "  warnings.warn(smsg, UserWarning)\n"
     ]
    },
    {
     "name": "stdout",
     "output_type": "stream",
     "text": [
      "[0]\ttrain-rmse:1400.16274\ttrain-rmsle:4.33687\tvalidation-rmse:1400.30098\tvalidation-rmsle:4.33615\n",
      "[5]\ttrain-rmse:1394.05074\ttrain-rmsle:4.33687\tvalidation-rmse:1394.19195\tvalidation-rmsle:4.33615\n",
      "[10]\ttrain-rmse:1371.43836\ttrain-rmsle:3.12313\tvalidation-rmse:1371.59116\tvalidation-rmsle:3.12230\n",
      "[15]\ttrain-rmse:1301.60509\ttrain-rmsle:2.03929\tvalidation-rmse:1301.79689\tvalidation-rmsle:2.03826\n",
      "[20]\ttrain-rmse:1169.53935\ttrain-rmsle:1.37922\tvalidation-rmse:1169.82216\tvalidation-rmsle:1.37794\n",
      "[25]\ttrain-rmse:1064.25565\ttrain-rmsle:1.16607\tvalidation-rmse:1064.59229\tvalidation-rmsle:1.16445\n",
      "[30]\ttrain-rmse:1009.42900\ttrain-rmsle:1.10849\tvalidation-rmse:1009.77145\tvalidation-rmsle:1.10667\n",
      "[35]\ttrain-rmse:981.44998\ttrain-rmsle:1.08955\tvalidation-rmse:981.78716\tvalidation-rmsle:1.08765\n",
      "[40]\ttrain-rmse:964.88702\ttrain-rmsle:1.08047\tvalidation-rmse:965.17952\tvalidation-rmsle:1.07843\n",
      "[45]\ttrain-rmse:953.73468\ttrain-rmsle:1.07573\tvalidation-rmse:953.98939\tvalidation-rmsle:1.07361\n",
      "[50]\ttrain-rmse:946.03347\ttrain-rmsle:1.07306\tvalidation-rmse:946.25441\tvalidation-rmsle:1.07086\n",
      "[55]\ttrain-rmse:940.77888\ttrain-rmsle:1.07137\tvalidation-rmse:940.97658\tvalidation-rmsle:1.06913\n",
      "[60]\ttrain-rmse:937.22437\ttrain-rmsle:1.07023\tvalidation-rmse:937.40883\tvalidation-rmsle:1.06796\n",
      "[65]\ttrain-rmse:934.26725\ttrain-rmsle:1.06938\tvalidation-rmse:934.43940\tvalidation-rmsle:1.06708\n",
      "[70]\ttrain-rmse:931.90789\ttrain-rmsle:1.06874\tvalidation-rmse:932.06446\tvalidation-rmsle:1.06640\n",
      "[75]\ttrain-rmse:930.22042\ttrain-rmsle:1.06824\tvalidation-rmse:930.36341\tvalidation-rmsle:1.06588\n",
      "[80]\ttrain-rmse:928.84805\ttrain-rmsle:1.06785\tvalidation-rmse:928.97774\tvalidation-rmsle:1.06546\n",
      "[85]\ttrain-rmse:927.74747\ttrain-rmsle:1.06754\tvalidation-rmse:927.86612\tvalidation-rmsle:1.06513\n",
      "[90]\ttrain-rmse:927.05542\ttrain-rmsle:1.06728\tvalidation-rmse:927.17175\tvalidation-rmsle:1.06485\n",
      "[95]\ttrain-rmse:926.47244\ttrain-rmsle:1.06704\tvalidation-rmse:926.58609\tvalidation-rmsle:1.06461\n",
      "[100]\ttrain-rmse:925.97696\ttrain-rmsle:1.06683\tvalidation-rmse:926.08551\tvalidation-rmsle:1.06439\n",
      "[105]\ttrain-rmse:925.58533\ttrain-rmsle:1.06665\tvalidation-rmse:925.69249\tvalidation-rmsle:1.06419\n",
      "[110]\ttrain-rmse:925.22857\ttrain-rmsle:1.06648\tvalidation-rmse:925.33373\tvalidation-rmsle:1.06401\n",
      "[115]\ttrain-rmse:924.96055\ttrain-rmsle:1.06633\tvalidation-rmse:925.06382\tvalidation-rmsle:1.06385\n",
      "[120]\ttrain-rmse:924.68550\ttrain-rmsle:1.06619\tvalidation-rmse:924.78666\tvalidation-rmsle:1.06370\n",
      "[125]\ttrain-rmse:924.47014\ttrain-rmsle:1.06606\tvalidation-rmse:924.57032\tvalidation-rmsle:1.06356\n",
      "[130]\ttrain-rmse:924.25703\ttrain-rmsle:1.06594\tvalidation-rmse:924.35348\tvalidation-rmsle:1.06343\n",
      "[135]\ttrain-rmse:924.18226\ttrain-rmsle:1.06584\tvalidation-rmse:924.27708\tvalidation-rmsle:1.06332\n",
      "[140]\ttrain-rmse:924.01322\ttrain-rmsle:1.06574\tvalidation-rmse:924.10746\tvalidation-rmsle:1.06322\n",
      "[145]\ttrain-rmse:923.80801\ttrain-rmsle:1.06565\tvalidation-rmse:923.90007\tvalidation-rmsle:1.06312\n",
      "[150]\ttrain-rmse:923.67727\ttrain-rmsle:1.06557\tvalidation-rmse:923.76845\tvalidation-rmsle:1.06303\n",
      "[155]\ttrain-rmse:923.62021\ttrain-rmsle:1.06549\tvalidation-rmse:923.71207\tvalidation-rmsle:1.06295\n",
      "[160]\ttrain-rmse:923.55598\ttrain-rmsle:1.06542\tvalidation-rmse:923.64888\tvalidation-rmsle:1.06287\n",
      "[165]\ttrain-rmse:923.44336\ttrain-rmsle:1.06535\tvalidation-rmse:923.53599\tvalidation-rmsle:1.06280\n",
      "[170]\ttrain-rmse:923.32622\ttrain-rmsle:1.06530\tvalidation-rmse:923.41701\tvalidation-rmsle:1.06274\n",
      "[175]\ttrain-rmse:923.24206\ttrain-rmsle:1.06524\tvalidation-rmse:923.32993\tvalidation-rmsle:1.06267\n",
      "[180]\ttrain-rmse:923.14652\ttrain-rmsle:1.06518\tvalidation-rmse:923.23315\tvalidation-rmsle:1.06261\n",
      "[185]\ttrain-rmse:923.01635\ttrain-rmsle:1.06514\tvalidation-rmse:923.10052\tvalidation-rmsle:1.06256\n",
      "[190]\ttrain-rmse:922.98284\ttrain-rmsle:1.06509\tvalidation-rmse:923.06781\tvalidation-rmsle:1.06252\n",
      "[195]\ttrain-rmse:922.92289\ttrain-rmsle:1.06505\tvalidation-rmse:923.00640\tvalidation-rmsle:1.06246\n",
      "[200]\ttrain-rmse:922.81889\ttrain-rmsle:1.06501\tvalidation-rmse:922.90223\tvalidation-rmsle:1.06242\n",
      "[205]\ttrain-rmse:922.80714\ttrain-rmsle:1.06497\tvalidation-rmse:922.89138\tvalidation-rmsle:1.06238\n",
      "[210]\ttrain-rmse:922.62794\ttrain-rmsle:1.06493\tvalidation-rmse:922.70923\tvalidation-rmsle:1.06234\n",
      "[215]\ttrain-rmse:922.56014\ttrain-rmsle:1.06491\tvalidation-rmse:922.64081\tvalidation-rmsle:1.06231\n",
      "[220]\ttrain-rmse:922.55743\ttrain-rmsle:1.06490\tvalidation-rmse:922.63842\tvalidation-rmsle:1.06230\n",
      "[225]\ttrain-rmse:922.55339\ttrain-rmsle:1.06488\tvalidation-rmse:922.63516\tvalidation-rmsle:1.06228\n",
      "[230]\ttrain-rmse:922.55407\ttrain-rmsle:1.06487\tvalidation-rmse:922.63565\tvalidation-rmsle:1.06227\n",
      "[235]\ttrain-rmse:922.54896\ttrain-rmsle:1.06486\tvalidation-rmse:922.63101\tvalidation-rmsle:1.06226\n",
      "[240]\ttrain-rmse:922.54280\ttrain-rmsle:1.06486\tvalidation-rmse:922.62465\tvalidation-rmsle:1.06225\n",
      "[245]\ttrain-rmse:922.54280\ttrain-rmsle:1.06486\tvalidation-rmse:922.62465\tvalidation-rmsle:1.06225\n",
      "[248]\ttrain-rmse:922.54280\ttrain-rmsle:1.06486\tvalidation-rmse:922.62465\tvalidation-rmsle:1.06225\n"
     ]
    },
    {
     "name": "stderr",
     "output_type": "stream",
     "text": [
      "[I 2024-12-28 00:40:06,836] Trial 41 finished with value: 1.062255 and parameters: {'learning_rate': 0.39128787307598867, 'n_estimators': 575, 'max_depth': 5, 'min_child_weight': 1, 'subsample': 0.8126150483332225, 'colsample_bytree': 0.7471066233240348, 'gamma': 4.700022514173262, 'lambda': 5.396342885353014, 'alpha': 8.26747981566606}. Best is trial 40 with value: 1.061457.\n"
     ]
    },
    {
     "name": "stdout",
     "output_type": "stream",
     "text": [
      "{'objective': 'reg:squaredlogerror', 'eval_metric': 'rmse', 'learning_rate': 0.386289368981495, 'n_estimators': 522, 'max_depth': 5, 'min_child_weight': 8, 'subsample': 0.8298822832306252, 'colsample_bytree': 0.903572672356112, 'gamma': 4.296387068834617, 'lambda': 5.519379590427994, 'alpha': 8.202226491180326, 'random_state': 42}\n"
     ]
    },
    {
     "name": "stderr",
     "output_type": "stream",
     "text": [
      "d:\\Development\\insurance\\venv\\lib\\site-packages\\xgboost\\training.py:38: UserWarning: `feval` is deprecated, use `custom_metric` instead.  They have different behavior when custom objective is also used.See https://xgboost.readthedocs.io/en/latest/tutorials/custom_metric_obj.html for details on the `custom_metric`.\n",
      "  warnings.warn(\n",
      "d:\\Development\\insurance\\venv\\lib\\site-packages\\xgboost\\core.py:158: UserWarning: [00:40:07] WARNING: C:\\buildkite-agent\\builds\\buildkite-windows-cpu-autoscaling-group-i-0c55ff5f71b100e98-1\\xgboost\\xgboost-ci-windows\\src\\learner.cc:740: \n",
      "Parameters: { \"n_estimators\" } are not used.\n",
      "\n",
      "  warnings.warn(smsg, UserWarning)\n"
     ]
    },
    {
     "name": "stdout",
     "output_type": "stream",
     "text": [
      "[0]\ttrain-rmse:1400.16906\ttrain-rmsle:4.33687\tvalidation-rmse:1400.30730\tvalidation-rmsle:4.33615\n",
      "[5]\ttrain-rmse:1394.19924\ttrain-rmsle:4.33687\tvalidation-rmse:1394.34040\tvalidation-rmsle:4.33615\n",
      "[10]\ttrain-rmse:1372.38522\ttrain-rmsle:3.15299\tvalidation-rmse:1372.53771\tvalidation-rmsle:3.15217\n",
      "[15]\ttrain-rmse:1305.41275\ttrain-rmsle:2.07289\tvalidation-rmse:1305.60243\tvalidation-rmsle:2.07186\n",
      "[20]\ttrain-rmse:1176.19865\ttrain-rmsle:1.39865\tvalidation-rmse:1176.47629\tvalidation-rmsle:1.39739\n",
      "[25]\ttrain-rmse:1104.00631\ttrain-rmsle:1.23070\tvalidation-rmse:1104.34601\tvalidation-rmsle:1.22937\n",
      "[30]\ttrain-rmse:1104.00631\ttrain-rmsle:1.23070\tvalidation-rmse:1104.34601\tvalidation-rmsle:1.22937\n",
      "[32]\ttrain-rmse:1104.00631\ttrain-rmsle:1.23070\tvalidation-rmse:1104.34601\tvalidation-rmsle:1.22937\n"
     ]
    },
    {
     "name": "stderr",
     "output_type": "stream",
     "text": [
      "[I 2024-12-28 00:40:12,297] Trial 42 finished with value: 1.229368 and parameters: {'learning_rate': 0.386289368981495, 'n_estimators': 522, 'max_depth': 5, 'min_child_weight': 8, 'subsample': 0.8298822832306252, 'colsample_bytree': 0.903572672356112, 'gamma': 4.296387068834617, 'lambda': 5.519379590427994, 'alpha': 8.202226491180326}. Best is trial 40 with value: 1.061457.\n"
     ]
    },
    {
     "name": "stdout",
     "output_type": "stream",
     "text": [
      "{'objective': 'reg:squaredlogerror', 'eval_metric': 'rmse', 'learning_rate': 0.3243063944426229, 'n_estimators': 429, 'max_depth': 5, 'min_child_weight': 4, 'subsample': 0.8740466883619824, 'colsample_bytree': 0.8238600654630621, 'gamma': 4.718888151750008, 'lambda': 6.571330105452125, 'alpha': 8.986119749610676, 'random_state': 42}\n"
     ]
    },
    {
     "name": "stderr",
     "output_type": "stream",
     "text": [
      "d:\\Development\\insurance\\venv\\lib\\site-packages\\xgboost\\training.py:38: UserWarning: `feval` is deprecated, use `custom_metric` instead.  They have different behavior when custom objective is also used.See https://xgboost.readthedocs.io/en/latest/tutorials/custom_metric_obj.html for details on the `custom_metric`.\n",
      "  warnings.warn(\n",
      "d:\\Development\\insurance\\venv\\lib\\site-packages\\xgboost\\core.py:158: UserWarning: [00:40:13] WARNING: C:\\buildkite-agent\\builds\\buildkite-windows-cpu-autoscaling-group-i-0c55ff5f71b100e98-1\\xgboost\\xgboost-ci-windows\\src\\learner.cc:740: \n",
      "Parameters: { \"n_estimators\" } are not used.\n",
      "\n",
      "  warnings.warn(smsg, UserWarning)\n"
     ]
    },
    {
     "name": "stdout",
     "output_type": "stream",
     "text": [
      "[0]\ttrain-rmse:1400.24717\ttrain-rmsle:4.33687\tvalidation-rmse:1400.38537\tvalidation-rmsle:4.33615\n",
      "[5]\ttrain-rmse:1395.86695\ttrain-rmsle:4.33687\tvalidation-rmse:1396.00734\tvalidation-rmsle:4.33615\n",
      "[10]\ttrain-rmse:1382.33595\ttrain-rmsle:3.53960\tvalidation-rmse:1382.48320\tvalidation-rmsle:3.53883\n",
      "[15]\ttrain-rmse:1344.60273\ttrain-rmsle:2.53803\tvalidation-rmse:1344.77001\tvalidation-rmsle:2.53710\n",
      "[20]\ttrain-rmse:1260.67236\ttrain-rmsle:1.75152\tvalidation-rmse:1260.88978\tvalidation-rmsle:1.75039\n",
      "[25]\ttrain-rmse:1149.04494\ttrain-rmsle:1.32493\tvalidation-rmse:1149.34470\tvalidation-rmsle:1.32363\n",
      "[30]\ttrain-rmse:1068.67917\ttrain-rmsle:1.17697\tvalidation-rmse:1069.05420\tvalidation-rmsle:1.17562\n",
      "[35]\ttrain-rmse:1022.78351\ttrain-rmsle:1.12888\tvalidation-rmse:1023.21035\tvalidation-rmsle:1.12753\n",
      "[40]\ttrain-rmse:1022.78351\ttrain-rmsle:1.12888\tvalidation-rmse:1023.21035\tvalidation-rmsle:1.12753\n",
      "[45]\ttrain-rmse:1022.78351\ttrain-rmsle:1.12888\tvalidation-rmse:1023.21035\tvalidation-rmsle:1.12753\n"
     ]
    },
    {
     "name": "stderr",
     "output_type": "stream",
     "text": [
      "[I 2024-12-28 00:40:18,398] Trial 43 finished with value: 1.127529 and parameters: {'learning_rate': 0.3243063944426229, 'n_estimators': 429, 'max_depth': 5, 'min_child_weight': 4, 'subsample': 0.8740466883619824, 'colsample_bytree': 0.8238600654630621, 'gamma': 4.718888151750008, 'lambda': 6.571330105452125, 'alpha': 8.986119749610676}. Best is trial 40 with value: 1.061457.\n"
     ]
    },
    {
     "name": "stdout",
     "output_type": "stream",
     "text": [
      "{'objective': 'reg:squaredlogerror', 'eval_metric': 'rmse', 'learning_rate': 0.36172435940130304, 'n_estimators': 601, 'max_depth': 5, 'min_child_weight': 1, 'subsample': 0.8012669035572587, 'colsample_bytree': 0.7879568516017615, 'gamma': 3.2306446992413473, 'lambda': 4.852749686010474, 'alpha': 8.115454963584241, 'random_state': 42}\n"
     ]
    },
    {
     "name": "stderr",
     "output_type": "stream",
     "text": [
      "d:\\Development\\insurance\\venv\\lib\\site-packages\\xgboost\\training.py:38: UserWarning: `feval` is deprecated, use `custom_metric` instead.  They have different behavior when custom objective is also used.See https://xgboost.readthedocs.io/en/latest/tutorials/custom_metric_obj.html for details on the `custom_metric`.\n",
      "  warnings.warn(\n",
      "d:\\Development\\insurance\\venv\\lib\\site-packages\\xgboost\\core.py:158: UserWarning: [00:40:19] WARNING: C:\\buildkite-agent\\builds\\buildkite-windows-cpu-autoscaling-group-i-0c55ff5f71b100e98-1\\xgboost\\xgboost-ci-windows\\src\\learner.cc:740: \n",
      "Parameters: { \"n_estimators\" } are not used.\n",
      "\n",
      "  warnings.warn(smsg, UserWarning)\n"
     ]
    },
    {
     "name": "stdout",
     "output_type": "stream",
     "text": [
      "[0]\ttrain-rmse:1400.19998\ttrain-rmsle:4.33687\tvalidation-rmse:1400.33820\tvalidation-rmsle:4.33615\n",
      "[5]\ttrain-rmse:1394.89748\ttrain-rmsle:4.33687\tvalidation-rmse:1395.03829\tvalidation-rmsle:4.33615\n",
      "[10]\ttrain-rmse:1376.74206\ttrain-rmsle:3.30266\tvalidation-rmse:1376.89207\tvalidation-rmsle:3.30185\n",
      "[15]\ttrain-rmse:1322.68061\ttrain-rmsle:2.24623\tvalidation-rmse:1322.86006\tvalidation-rmsle:2.24525\n",
      "[20]\ttrain-rmse:1208.92093\ttrain-rmsle:1.50918\tvalidation-rmse:1209.17377\tvalidation-rmsle:1.50796\n",
      "[25]\ttrain-rmse:1092.04615\ttrain-rmsle:1.20676\tvalidation-rmse:1092.38890\tvalidation-rmsle:1.20529\n",
      "[30]\ttrain-rmse:1024.56816\ttrain-rmsle:1.12060\tvalidation-rmse:1024.95067\tvalidation-rmsle:1.11892\n",
      "[35]\ttrain-rmse:988.80048\ttrain-rmsle:1.09361\tvalidation-rmse:989.19117\tvalidation-rmsle:1.09184\n",
      "[40]\ttrain-rmse:969.55418\ttrain-rmsle:1.08195\tvalidation-rmse:969.90016\tvalidation-rmsle:1.08004\n",
      "[45]\ttrain-rmse:956.80804\ttrain-rmsle:1.07607\tvalidation-rmse:957.11578\tvalidation-rmsle:1.07407\n",
      "[50]\ttrain-rmse:948.04098\ttrain-rmsle:1.07285\tvalidation-rmse:948.31505\tvalidation-rmsle:1.07076\n",
      "[55]\ttrain-rmse:942.09009\ttrain-rmsle:1.07085\tvalidation-rmse:942.33927\tvalidation-rmsle:1.06872\n",
      "[60]\ttrain-rmse:938.05514\ttrain-rmsle:1.06954\tvalidation-rmse:938.28885\tvalidation-rmsle:1.06738\n",
      "[65]\ttrain-rmse:934.77135\ttrain-rmsle:1.06858\tvalidation-rmse:934.99173\tvalidation-rmsle:1.06638\n",
      "[70]\ttrain-rmse:932.16693\ttrain-rmsle:1.06786\tvalidation-rmse:932.37167\tvalidation-rmsle:1.06563\n",
      "[75]\ttrain-rmse:930.29168\ttrain-rmsle:1.06733\tvalidation-rmse:930.48011\tvalidation-rmsle:1.06506\n",
      "[80]\ttrain-rmse:928.78597\ttrain-rmsle:1.06690\tvalidation-rmse:928.96036\tvalidation-rmsle:1.06461\n",
      "[85]\ttrain-rmse:927.58284\ttrain-rmsle:1.06656\tvalidation-rmse:927.74580\tvalidation-rmsle:1.06425\n",
      "[90]\ttrain-rmse:926.64730\ttrain-rmsle:1.06629\tvalidation-rmse:926.79918\tvalidation-rmsle:1.06395\n",
      "[95]\ttrain-rmse:926.13823\ttrain-rmsle:1.06605\tvalidation-rmse:926.29034\tvalidation-rmsle:1.06371\n",
      "[100]\ttrain-rmse:925.95953\ttrain-rmsle:1.06597\tvalidation-rmse:926.11165\tvalidation-rmsle:1.06363\n",
      "[105]\ttrain-rmse:925.75465\ttrain-rmsle:1.06593\tvalidation-rmse:925.90389\tvalidation-rmsle:1.06358\n",
      "[110]\ttrain-rmse:925.59530\ttrain-rmsle:1.06585\tvalidation-rmse:925.74228\tvalidation-rmsle:1.06350\n",
      "[115]\ttrain-rmse:925.59530\ttrain-rmsle:1.06585\tvalidation-rmse:925.74228\tvalidation-rmsle:1.06350\n",
      "[118]\ttrain-rmse:925.59530\ttrain-rmsle:1.06585\tvalidation-rmse:925.74228\tvalidation-rmsle:1.06350\n"
     ]
    },
    {
     "name": "stderr",
     "output_type": "stream",
     "text": [
      "[I 2024-12-28 00:40:31,692] Trial 44 finished with value: 1.063498 and parameters: {'learning_rate': 0.36172435940130304, 'n_estimators': 601, 'max_depth': 5, 'min_child_weight': 1, 'subsample': 0.8012669035572587, 'colsample_bytree': 0.7879568516017615, 'gamma': 3.2306446992413473, 'lambda': 4.852749686010474, 'alpha': 8.115454963584241}. Best is trial 40 with value: 1.061457.\n"
     ]
    },
    {
     "name": "stdout",
     "output_type": "stream",
     "text": [
      "{'objective': 'reg:squaredlogerror', 'eval_metric': 'rmse', 'learning_rate': 0.357478377436344, 'n_estimators': 687, 'max_depth': 4, 'min_child_weight': 4, 'subsample': 0.8014531768104577, 'colsample_bytree': 0.7758002698474188, 'gamma': 3.11964530924157, 'lambda': 4.890425952760805, 'alpha': 8.287848065057803, 'random_state': 42}\n"
     ]
    },
    {
     "name": "stderr",
     "output_type": "stream",
     "text": [
      "d:\\Development\\insurance\\venv\\lib\\site-packages\\xgboost\\training.py:38: UserWarning: `feval` is deprecated, use `custom_metric` instead.  They have different behavior when custom objective is also used.See https://xgboost.readthedocs.io/en/latest/tutorials/custom_metric_obj.html for details on the `custom_metric`.\n",
      "  warnings.warn(\n",
      "d:\\Development\\insurance\\venv\\lib\\site-packages\\xgboost\\core.py:158: UserWarning: [00:40:32] WARNING: C:\\buildkite-agent\\builds\\buildkite-windows-cpu-autoscaling-group-i-0c55ff5f71b100e98-1\\xgboost\\xgboost-ci-windows\\src\\learner.cc:740: \n",
      "Parameters: { \"n_estimators\" } are not used.\n",
      "\n",
      "  warnings.warn(smsg, UserWarning)\n"
     ]
    },
    {
     "name": "stdout",
     "output_type": "stream",
     "text": [
      "[0]\ttrain-rmse:1400.20534\ttrain-rmsle:4.33687\tvalidation-rmse:1400.34356\tvalidation-rmsle:4.33615\n",
      "[5]\ttrain-rmse:1395.01299\ttrain-rmsle:4.33687\tvalidation-rmse:1395.15373\tvalidation-rmsle:4.33615\n",
      "[10]\ttrain-rmse:1377.43698\ttrain-rmsle:3.32901\tvalidation-rmse:1377.58664\tvalidation-rmsle:3.32820\n",
      "[15]\ttrain-rmse:1325.44076\ttrain-rmsle:2.27780\tvalidation-rmse:1325.61864\tvalidation-rmsle:2.27682\n",
      "[20]\ttrain-rmse:1214.92183\ttrain-rmsle:1.53250\tvalidation-rmse:1215.17035\tvalidation-rmsle:1.53130\n",
      "[25]\ttrain-rmse:1097.28649\ttrain-rmsle:1.21926\tvalidation-rmse:1097.63263\tvalidation-rmsle:1.21792\n",
      "[30]\ttrain-rmse:1029.24479\ttrain-rmsle:1.13426\tvalidation-rmse:1029.66369\tvalidation-rmsle:1.13291\n",
      "[35]\ttrain-rmse:1029.24479\ttrain-rmsle:1.13426\tvalidation-rmse:1029.66369\tvalidation-rmsle:1.13291\n",
      "[40]\ttrain-rmse:1029.24479\ttrain-rmsle:1.13426\tvalidation-rmse:1029.66369\tvalidation-rmsle:1.13291\n"
     ]
    },
    {
     "name": "stderr",
     "output_type": "stream",
     "text": [
      "[I 2024-12-28 00:40:37,508] Trial 45 finished with value: 1.132911 and parameters: {'learning_rate': 0.357478377436344, 'n_estimators': 687, 'max_depth': 4, 'min_child_weight': 4, 'subsample': 0.8014531768104577, 'colsample_bytree': 0.7758002698474188, 'gamma': 3.11964530924157, 'lambda': 4.890425952760805, 'alpha': 8.287848065057803}. Best is trial 40 with value: 1.061457.\n"
     ]
    },
    {
     "name": "stdout",
     "output_type": "stream",
     "text": [
      "{'objective': 'reg:squaredlogerror', 'eval_metric': 'rmse', 'learning_rate': 0.3290472909913051, 'n_estimators': 603, 'max_depth': 5, 'min_child_weight': 15, 'subsample': 0.9180120298814192, 'colsample_bytree': 0.8030475721470176, 'gamma': 4.9192119389370985, 'lambda': 6.1020826995170205, 'alpha': 9.959946470758968, 'random_state': 42}\n"
     ]
    },
    {
     "name": "stderr",
     "output_type": "stream",
     "text": [
      "d:\\Development\\insurance\\venv\\lib\\site-packages\\xgboost\\training.py:38: UserWarning: `feval` is deprecated, use `custom_metric` instead.  They have different behavior when custom objective is also used.See https://xgboost.readthedocs.io/en/latest/tutorials/custom_metric_obj.html for details on the `custom_metric`.\n",
      "  warnings.warn(\n",
      "d:\\Development\\insurance\\venv\\lib\\site-packages\\xgboost\\core.py:158: UserWarning: [00:40:38] WARNING: C:\\buildkite-agent\\builds\\buildkite-windows-cpu-autoscaling-group-i-0c55ff5f71b100e98-1\\xgboost\\xgboost-ci-windows\\src\\learner.cc:740: \n",
      "Parameters: { \"n_estimators\" } are not used.\n",
      "\n",
      "  warnings.warn(smsg, UserWarning)\n"
     ]
    },
    {
     "name": "stdout",
     "output_type": "stream",
     "text": [
      "[0]\ttrain-rmse:1400.24115\ttrain-rmsle:4.33687\tvalidation-rmse:1400.37935\tvalidation-rmsle:4.33615\n",
      "[5]\ttrain-rmse:1395.74906\ttrain-rmsle:4.33687\tvalidation-rmse:1395.88945\tvalidation-rmsle:4.33615\n",
      "[10]\ttrain-rmse:1381.68938\ttrain-rmsle:3.50897\tvalidation-rmse:1381.83687\tvalidation-rmsle:3.50819\n",
      "[15]\ttrain-rmse:1342.10193\ttrain-rmsle:2.49916\tvalidation-rmse:1342.27049\tvalidation-rmsle:2.49822\n",
      "[20]\ttrain-rmse:1254.05109\ttrain-rmsle:1.71450\tvalidation-rmse:1254.27275\tvalidation-rmsle:1.71336\n",
      "[25]\ttrain-rmse:1139.03209\ttrain-rmsle:1.30117\tvalidation-rmse:1139.34028\tvalidation-rmsle:1.29987\n",
      "[30]\ttrain-rmse:1139.03209\ttrain-rmsle:1.30117\tvalidation-rmse:1139.34028\tvalidation-rmsle:1.29987\n",
      "[35]\ttrain-rmse:1139.03209\ttrain-rmsle:1.30117\tvalidation-rmse:1139.34028\tvalidation-rmsle:1.29987\n"
     ]
    },
    {
     "name": "stderr",
     "output_type": "stream",
     "text": [
      "[I 2024-12-28 00:40:42,999] Trial 46 finished with value: 1.299868 and parameters: {'learning_rate': 0.3290472909913051, 'n_estimators': 603, 'max_depth': 5, 'min_child_weight': 15, 'subsample': 0.9180120298814192, 'colsample_bytree': 0.8030475721470176, 'gamma': 4.9192119389370985, 'lambda': 6.1020826995170205, 'alpha': 9.959946470758968}. Best is trial 40 with value: 1.061457.\n"
     ]
    },
    {
     "name": "stdout",
     "output_type": "stream",
     "text": [
      "{'objective': 'reg:squaredlogerror', 'eval_metric': 'rmse', 'learning_rate': 0.2611839061640622, 'n_estimators': 827, 'max_depth': 3, 'min_child_weight': 11, 'subsample': 0.8049264041394857, 'colsample_bytree': 0.8868462561299081, 'gamma': 2.5741353212262736, 'lambda': 4.443447364526398, 'alpha': 7.459658929766394, 'random_state': 42}\n"
     ]
    },
    {
     "name": "stderr",
     "output_type": "stream",
     "text": [
      "d:\\Development\\insurance\\venv\\lib\\site-packages\\xgboost\\training.py:38: UserWarning: `feval` is deprecated, use `custom_metric` instead.  They have different behavior when custom objective is also used.See https://xgboost.readthedocs.io/en/latest/tutorials/custom_metric_obj.html for details on the `custom_metric`.\n",
      "  warnings.warn(\n",
      "d:\\Development\\insurance\\venv\\lib\\site-packages\\xgboost\\core.py:158: UserWarning: [00:40:44] WARNING: C:\\buildkite-agent\\builds\\buildkite-windows-cpu-autoscaling-group-i-0c55ff5f71b100e98-1\\xgboost\\xgboost-ci-windows\\src\\learner.cc:740: \n",
      "Parameters: { \"n_estimators\" } are not used.\n",
      "\n",
      "  warnings.warn(smsg, UserWarning)\n"
     ]
    },
    {
     "name": "stdout",
     "output_type": "stream",
     "text": [
      "[0]\ttrain-rmse:1400.32666\ttrain-rmsle:4.33687\tvalidation-rmse:1400.46482\tvalidation-rmsle:4.33615\n",
      "[5]\ttrain-rmse:1397.26083\ttrain-rmsle:4.33687\tvalidation-rmse:1397.40049\tvalidation-rmsle:4.33615\n",
      "[10]\ttrain-rmse:1389.39241\ttrain-rmsle:3.96345\tvalidation-rmse:1389.53601\tvalidation-rmsle:3.96271\n",
      "[15]\ttrain-rmse:1370.34750\ttrain-rmsle:3.09035\tvalidation-rmse:1370.50101\tvalidation-rmsle:3.08952\n",
      "[20]\ttrain-rmse:1328.42350\ttrain-rmsle:2.31342\tvalidation-rmse:1328.59982\tvalidation-rmsle:2.31245\n",
      "[25]\ttrain-rmse:1252.29189\ttrain-rmsle:1.70502\tvalidation-rmse:1252.51477\tvalidation-rmsle:1.70388\n",
      "[30]\ttrain-rmse:1156.68077\ttrain-rmsle:1.34419\tvalidation-rmse:1156.97407\tvalidation-rmsle:1.34290\n",
      "[35]\ttrain-rmse:1138.93725\ttrain-rmsle:1.30093\tvalidation-rmse:1139.24547\tvalidation-rmsle:1.29962\n",
      "[40]\ttrain-rmse:1138.93725\ttrain-rmsle:1.30093\tvalidation-rmse:1139.24547\tvalidation-rmsle:1.29962\n"
     ]
    },
    {
     "name": "stderr",
     "output_type": "stream",
     "text": [
      "[I 2024-12-28 00:40:48,868] Trial 47 finished with value: 1.299618 and parameters: {'learning_rate': 0.2611839061640622, 'n_estimators': 827, 'max_depth': 3, 'min_child_weight': 11, 'subsample': 0.8049264041394857, 'colsample_bytree': 0.8868462561299081, 'gamma': 2.5741353212262736, 'lambda': 4.443447364526398, 'alpha': 7.459658929766394}. Best is trial 40 with value: 1.061457.\n"
     ]
    },
    {
     "name": "stdout",
     "output_type": "stream",
     "text": [
      "{'objective': 'reg:squaredlogerror', 'eval_metric': 'rmse', 'learning_rate': 0.39531450215753533, 'n_estimators': 498, 'max_depth': 5, 'min_child_weight': 7, 'subsample': 0.7554623417381063, 'colsample_bytree': 0.9532031017959572, 'gamma': 3.344744440568482, 'lambda': 5.356291249581793, 'alpha': 6.890281045939616, 'random_state': 42}\n"
     ]
    },
    {
     "name": "stderr",
     "output_type": "stream",
     "text": [
      "d:\\Development\\insurance\\venv\\lib\\site-packages\\xgboost\\training.py:38: UserWarning: `feval` is deprecated, use `custom_metric` instead.  They have different behavior when custom objective is also used.See https://xgboost.readthedocs.io/en/latest/tutorials/custom_metric_obj.html for details on the `custom_metric`.\n",
      "  warnings.warn(\n",
      "d:\\Development\\insurance\\venv\\lib\\site-packages\\xgboost\\core.py:158: UserWarning: [00:40:49] WARNING: C:\\buildkite-agent\\builds\\buildkite-windows-cpu-autoscaling-group-i-0c55ff5f71b100e98-1\\xgboost\\xgboost-ci-windows\\src\\learner.cc:740: \n",
      "Parameters: { \"n_estimators\" } are not used.\n",
      "\n",
      "  warnings.warn(smsg, UserWarning)\n"
     ]
    },
    {
     "name": "stdout",
     "output_type": "stream",
     "text": [
      "[0]\ttrain-rmse:1400.15772\ttrain-rmsle:4.33687\tvalidation-rmse:1400.29596\tvalidation-rmsle:4.33615\n",
      "[5]\ttrain-rmse:1393.92961\ttrain-rmsle:4.33687\tvalidation-rmse:1394.07088\tvalidation-rmsle:4.33615\n",
      "[10]\ttrain-rmse:1370.64102\ttrain-rmsle:3.09924\tvalidation-rmse:1370.79423\tvalidation-rmsle:3.09841\n",
      "[15]\ttrain-rmse:1298.54900\ttrain-rmsle:2.01342\tvalidation-rmse:1298.74259\tvalidation-rmsle:2.01238\n",
      "[20]\ttrain-rmse:1165.38590\ttrain-rmsle:1.36753\tvalidation-rmse:1165.67193\tvalidation-rmsle:1.36625\n",
      "[25]\ttrain-rmse:1095.89943\ttrain-rmsle:1.21693\tvalidation-rmse:1096.24668\tvalidation-rmsle:1.21559\n",
      "[30]\ttrain-rmse:1095.89943\ttrain-rmsle:1.21693\tvalidation-rmse:1096.24668\tvalidation-rmsle:1.21559\n",
      "[33]\ttrain-rmse:1095.89943\ttrain-rmsle:1.21693\tvalidation-rmse:1096.24668\tvalidation-rmsle:1.21559\n"
     ]
    },
    {
     "name": "stderr",
     "output_type": "stream",
     "text": [
      "[I 2024-12-28 00:40:53,992] Trial 48 finished with value: 1.215588 and parameters: {'learning_rate': 0.39531450215753533, 'n_estimators': 498, 'max_depth': 5, 'min_child_weight': 7, 'subsample': 0.7554623417381063, 'colsample_bytree': 0.9532031017959572, 'gamma': 3.344744440568482, 'lambda': 5.356291249581793, 'alpha': 6.890281045939616}. Best is trial 40 with value: 1.061457.\n"
     ]
    },
    {
     "name": "stdout",
     "output_type": "stream",
     "text": [
      "{'objective': 'reg:squaredlogerror', 'eval_metric': 'rmse', 'learning_rate': 0.3697488181012969, 'n_estimators': 642, 'max_depth': 4, 'min_child_weight': 42, 'subsample': 0.8866985145130636, 'colsample_bytree': 0.8301649437991283, 'gamma': 5.882724228124118, 'lambda': 6.4263503080482, 'alpha': 8.383511948251405, 'random_state': 42}\n"
     ]
    },
    {
     "name": "stderr",
     "output_type": "stream",
     "text": [
      "d:\\Development\\insurance\\venv\\lib\\site-packages\\xgboost\\training.py:38: UserWarning: `feval` is deprecated, use `custom_metric` instead.  They have different behavior when custom objective is also used.See https://xgboost.readthedocs.io/en/latest/tutorials/custom_metric_obj.html for details on the `custom_metric`.\n",
      "  warnings.warn(\n",
      "d:\\Development\\insurance\\venv\\lib\\site-packages\\xgboost\\core.py:158: UserWarning: [00:40:55] WARNING: C:\\buildkite-agent\\builds\\buildkite-windows-cpu-autoscaling-group-i-0c55ff5f71b100e98-1\\xgboost\\xgboost-ci-windows\\src\\learner.cc:740: \n",
      "Parameters: { \"n_estimators\" } are not used.\n",
      "\n",
      "  warnings.warn(smsg, UserWarning)\n"
     ]
    },
    {
     "name": "stdout",
     "output_type": "stream",
     "text": [
      "[0]\ttrain-rmse:1400.18990\ttrain-rmsle:4.33687\tvalidation-rmse:1400.32812\tvalidation-rmsle:4.33615\n",
      "[5]\ttrain-rmse:1394.67512\ttrain-rmsle:4.33687\tvalidation-rmse:1394.81603\tvalidation-rmsle:4.33615\n",
      "[10]\ttrain-rmse:1375.38724\ttrain-rmsle:3.25334\tvalidation-rmse:1375.53800\tvalidation-rmsle:3.25253\n",
      "[15]\ttrain-rmse:1317.39140\ttrain-rmsle:2.18899\tvalidation-rmse:1317.57394\tvalidation-rmsle:2.18799\n",
      "[20]\ttrain-rmse:1226.13502\ttrain-rmsle:1.57904\tvalidation-rmse:1226.37561\tvalidation-rmsle:1.57785\n",
      "[25]\ttrain-rmse:1226.13502\ttrain-rmsle:1.57904\tvalidation-rmse:1226.37561\tvalidation-rmsle:1.57785\n",
      "[29]\ttrain-rmse:1226.13502\ttrain-rmsle:1.57904\tvalidation-rmse:1226.37561\tvalidation-rmsle:1.57785\n"
     ]
    },
    {
     "name": "stderr",
     "output_type": "stream",
     "text": [
      "[I 2024-12-28 00:40:58,816] Trial 49 finished with value: 1.577853 and parameters: {'learning_rate': 0.3697488181012969, 'n_estimators': 642, 'max_depth': 4, 'min_child_weight': 42, 'subsample': 0.8866985145130636, 'colsample_bytree': 0.8301649437991283, 'gamma': 5.882724228124118, 'lambda': 6.4263503080482, 'alpha': 8.383511948251405}. Best is trial 40 with value: 1.061457.\n"
     ]
    },
    {
     "name": "stdout",
     "output_type": "stream",
     "text": [
      "{'objective': 'reg:squaredlogerror', 'eval_metric': 'rmse', 'learning_rate': 0.3199168875428794, 'n_estimators': 421, 'max_depth': 5, 'min_child_weight': 27, 'subsample': 0.7800201441209977, 'colsample_bytree': 0.7001576910155496, 'gamma': 6.465551989837667, 'lambda': 4.683301671066549, 'alpha': 9.237307370673028, 'random_state': 42}\n"
     ]
    },
    {
     "name": "stderr",
     "output_type": "stream",
     "text": [
      "d:\\Development\\insurance\\venv\\lib\\site-packages\\xgboost\\training.py:38: UserWarning: `feval` is deprecated, use `custom_metric` instead.  They have different behavior when custom objective is also used.See https://xgboost.readthedocs.io/en/latest/tutorials/custom_metric_obj.html for details on the `custom_metric`.\n",
      "  warnings.warn(\n",
      "d:\\Development\\insurance\\venv\\lib\\site-packages\\xgboost\\core.py:158: UserWarning: [00:40:59] WARNING: C:\\buildkite-agent\\builds\\buildkite-windows-cpu-autoscaling-group-i-0c55ff5f71b100e98-1\\xgboost\\xgboost-ci-windows\\src\\learner.cc:740: \n",
      "Parameters: { \"n_estimators\" } are not used.\n",
      "\n",
      "  warnings.warn(smsg, UserWarning)\n"
     ]
    },
    {
     "name": "stdout",
     "output_type": "stream",
     "text": [
      "[0]\ttrain-rmse:1400.25271\ttrain-rmsle:4.33687\tvalidation-rmse:1400.39091\tvalidation-rmsle:4.33615\n",
      "[5]\ttrain-rmse:1395.97327\ttrain-rmsle:4.33687\tvalidation-rmse:1396.11360\tvalidation-rmsle:4.33615\n",
      "[10]\ttrain-rmse:1382.91622\ttrain-rmsle:3.56803\tvalidation-rmse:1383.06318\tvalidation-rmsle:3.56726\n",
      "[15]\ttrain-rmse:1346.78322\ttrain-rmsle:2.57342\tvalidation-rmse:1346.94930\tvalidation-rmsle:2.57251\n",
      "[20]\ttrain-rmse:1265.46532\ttrain-rmsle:1.77968\tvalidation-rmse:1265.67964\tvalidation-rmsle:1.77857\n",
      "[25]\ttrain-rmse:1196.68838\ttrain-rmsle:1.46476\tvalidation-rmse:1196.95039\tvalidation-rmsle:1.46352\n",
      "[30]\ttrain-rmse:1196.68838\ttrain-rmsle:1.46476\tvalidation-rmse:1196.95039\tvalidation-rmsle:1.46352\n",
      "[33]\ttrain-rmse:1196.68838\ttrain-rmsle:1.46476\tvalidation-rmse:1196.95039\tvalidation-rmsle:1.46352\n"
     ]
    },
    {
     "name": "stderr",
     "output_type": "stream",
     "text": [
      "[I 2024-12-28 00:41:04,014] Trial 50 finished with value: 1.463524 and parameters: {'learning_rate': 0.3199168875428794, 'n_estimators': 421, 'max_depth': 5, 'min_child_weight': 27, 'subsample': 0.7800201441209977, 'colsample_bytree': 0.7001576910155496, 'gamma': 6.465551989837667, 'lambda': 4.683301671066549, 'alpha': 9.237307370673028}. Best is trial 40 with value: 1.061457.\n"
     ]
    },
    {
     "name": "stdout",
     "output_type": "stream",
     "text": [
      "{'objective': 'reg:squaredlogerror', 'eval_metric': 'rmse', 'learning_rate': 0.48189805018561727, 'n_estimators': 572, 'max_depth': 6, 'min_child_weight': 1, 'subsample': 0.717783885060449, 'colsample_bytree': 0.7595227385833847, 'gamma': 1.7328894799551529, 'lambda': 5.859306886273802, 'alpha': 7.6537205065104645, 'random_state': 42}\n"
     ]
    },
    {
     "name": "stderr",
     "output_type": "stream",
     "text": [
      "d:\\Development\\insurance\\venv\\lib\\site-packages\\xgboost\\training.py:38: UserWarning: `feval` is deprecated, use `custom_metric` instead.  They have different behavior when custom objective is also used.See https://xgboost.readthedocs.io/en/latest/tutorials/custom_metric_obj.html for details on the `custom_metric`.\n",
      "  warnings.warn(\n",
      "d:\\Development\\insurance\\venv\\lib\\site-packages\\xgboost\\core.py:158: UserWarning: [00:41:05] WARNING: C:\\buildkite-agent\\builds\\buildkite-windows-cpu-autoscaling-group-i-0c55ff5f71b100e98-1\\xgboost\\xgboost-ci-windows\\src\\learner.cc:740: \n",
      "Parameters: { \"n_estimators\" } are not used.\n",
      "\n",
      "  warnings.warn(smsg, UserWarning)\n"
     ]
    },
    {
     "name": "stdout",
     "output_type": "stream",
     "text": [
      "[0]\ttrain-rmse:1400.04864\ttrain-rmsle:4.33687\tvalidation-rmse:1400.18693\tvalidation-rmsle:4.33615\n",
      "[5]\ttrain-rmse:1390.95308\ttrain-rmsle:4.08967\tvalidation-rmse:1391.09590\tvalidation-rmsle:4.08895\n",
      "[10]\ttrain-rmse:1349.24683\ttrain-rmsle:2.61540\tvalidation-rmse:1349.41150\tvalidation-rmsle:2.61450\n",
      "[15]\ttrain-rmse:1220.35340\ttrain-rmsle:1.55455\tvalidation-rmse:1220.59806\tvalidation-rmsle:1.55335\n",
      "[20]\ttrain-rmse:1080.01966\ttrain-rmsle:1.19249\tvalidation-rmse:1080.38279\tvalidation-rmsle:1.19114\n",
      "[25]\ttrain-rmse:1016.19387\ttrain-rmsle:1.12001\tvalidation-rmse:1016.57336\tvalidation-rmsle:1.11851\n",
      "[30]\ttrain-rmse:985.32451\ttrain-rmsle:1.09813\tvalidation-rmse:985.66034\tvalidation-rmsle:1.09648\n",
      "[35]\ttrain-rmse:967.34064\ttrain-rmsle:1.08996\tvalidation-rmse:967.67599\tvalidation-rmsle:1.08829\n",
      "[40]\ttrain-rmse:956.87594\ttrain-rmsle:1.08567\tvalidation-rmse:957.19676\tvalidation-rmsle:1.08396\n",
      "[45]\ttrain-rmse:949.23157\ttrain-rmsle:1.08424\tvalidation-rmse:949.56089\tvalidation-rmsle:1.08254\n",
      "[50]\ttrain-rmse:944.78543\ttrain-rmsle:1.08369\tvalidation-rmse:945.11986\tvalidation-rmsle:1.08199\n",
      "[55]\ttrain-rmse:941.99233\ttrain-rmsle:1.08344\tvalidation-rmse:942.33003\tvalidation-rmsle:1.08175\n",
      "[60]\ttrain-rmse:940.37843\ttrain-rmsle:1.08333\tvalidation-rmse:940.71804\tvalidation-rmsle:1.08165\n",
      "[65]\ttrain-rmse:939.27679\ttrain-rmsle:1.08328\tvalidation-rmse:939.61772\tvalidation-rmsle:1.08160\n",
      "[70]\ttrain-rmse:938.56075\ttrain-rmsle:1.08325\tvalidation-rmse:938.90253\tvalidation-rmsle:1.08157\n",
      "[75]\ttrain-rmse:938.12096\ttrain-rmsle:1.08323\tvalidation-rmse:938.46327\tvalidation-rmsle:1.08156\n",
      "[80]\ttrain-rmse:937.87270\ttrain-rmsle:1.08323\tvalidation-rmse:938.21532\tvalidation-rmsle:1.08155\n",
      "[85]\ttrain-rmse:937.68502\ttrain-rmsle:1.08322\tvalidation-rmse:938.02786\tvalidation-rmsle:1.08154\n",
      "[90]\ttrain-rmse:937.64298\ttrain-rmsle:1.08322\tvalidation-rmse:937.98587\tvalidation-rmsle:1.08154\n",
      "[95]\ttrain-rmse:937.54311\ttrain-rmsle:1.08322\tvalidation-rmse:937.88613\tvalidation-rmsle:1.08154\n",
      "[100]\ttrain-rmse:937.48977\ttrain-rmsle:1.08322\tvalidation-rmse:937.83285\tvalidation-rmsle:1.08154\n",
      "[105]\ttrain-rmse:937.46478\ttrain-rmsle:1.08322\tvalidation-rmse:937.80789\tvalidation-rmsle:1.08154\n",
      "[110]\ttrain-rmse:937.43271\ttrain-rmsle:1.08322\tvalidation-rmse:937.77586\tvalidation-rmsle:1.08154\n",
      "[115]\ttrain-rmse:937.43271\ttrain-rmsle:1.08322\tvalidation-rmse:937.77586\tvalidation-rmsle:1.08154\n",
      "[116]\ttrain-rmse:937.43271\ttrain-rmsle:1.08322\tvalidation-rmse:937.77586\tvalidation-rmsle:1.08154\n"
     ]
    },
    {
     "name": "stderr",
     "output_type": "stream",
     "text": [
      "[I 2024-12-28 00:41:16,670] Trial 51 finished with value: 1.081539 and parameters: {'learning_rate': 0.48189805018561727, 'n_estimators': 572, 'max_depth': 6, 'min_child_weight': 1, 'subsample': 0.717783885060449, 'colsample_bytree': 0.7595227385833847, 'gamma': 1.7328894799551529, 'lambda': 5.859306886273802, 'alpha': 7.6537205065104645}. Best is trial 40 with value: 1.061457.\n"
     ]
    },
    {
     "name": "stdout",
     "output_type": "stream",
     "text": [
      "{'objective': 'reg:squaredlogerror', 'eval_metric': 'rmse', 'learning_rate': 0.4837529183198226, 'n_estimators': 578, 'max_depth': 5, 'min_child_weight': 3, 'subsample': 0.7224095976994734, 'colsample_bytree': 0.7600959898073221, 'gamma': 1.723488240658414, 'lambda': 5.819453545580649, 'alpha': 7.683723928958903, 'random_state': 42}\n"
     ]
    },
    {
     "name": "stderr",
     "output_type": "stream",
     "text": [
      "d:\\Development\\insurance\\venv\\lib\\site-packages\\xgboost\\training.py:38: UserWarning: `feval` is deprecated, use `custom_metric` instead.  They have different behavior when custom objective is also used.See https://xgboost.readthedocs.io/en/latest/tutorials/custom_metric_obj.html for details on the `custom_metric`.\n",
      "  warnings.warn(\n",
      "d:\\Development\\insurance\\venv\\lib\\site-packages\\xgboost\\core.py:158: UserWarning: [00:41:17] WARNING: C:\\buildkite-agent\\builds\\buildkite-windows-cpu-autoscaling-group-i-0c55ff5f71b100e98-1\\xgboost\\xgboost-ci-windows\\src\\learner.cc:740: \n",
      "Parameters: { \"n_estimators\" } are not used.\n",
      "\n",
      "  warnings.warn(smsg, UserWarning)\n"
     ]
    },
    {
     "name": "stdout",
     "output_type": "stream",
     "text": [
      "[0]\ttrain-rmse:1400.04633\ttrain-rmsle:4.33687\tvalidation-rmse:1400.18463\tvalidation-rmsle:4.33615\n",
      "[5]\ttrain-rmse:1390.88097\ttrain-rmsle:4.08346\tvalidation-rmse:1391.02382\tvalidation-rmsle:4.08274\n",
      "[10]\ttrain-rmse:1348.68272\ttrain-rmsle:2.60565\tvalidation-rmse:1348.84771\tvalidation-rmsle:2.60474\n",
      "[15]\ttrain-rmse:1218.40468\ttrain-rmsle:1.54653\tvalidation-rmse:1218.65072\tvalidation-rmsle:1.54533\n",
      "[20]\ttrain-rmse:1078.04987\ttrain-rmsle:1.18967\tvalidation-rmse:1078.41500\tvalidation-rmsle:1.18833\n",
      "[25]\ttrain-rmse:1012.71454\ttrain-rmsle:1.12125\tvalidation-rmse:1013.15360\tvalidation-rmsle:1.11990\n",
      "[30]\ttrain-rmse:1012.71454\ttrain-rmsle:1.12125\tvalidation-rmse:1013.15360\tvalidation-rmsle:1.11990\n",
      "[35]\ttrain-rmse:1012.71454\ttrain-rmsle:1.12125\tvalidation-rmse:1013.15360\tvalidation-rmsle:1.11990\n"
     ]
    },
    {
     "name": "stderr",
     "output_type": "stream",
     "text": [
      "[I 2024-12-28 00:41:21,987] Trial 52 finished with value: 1.119901 and parameters: {'learning_rate': 0.4837529183198226, 'n_estimators': 578, 'max_depth': 5, 'min_child_weight': 3, 'subsample': 0.7224095976994734, 'colsample_bytree': 0.7600959898073221, 'gamma': 1.723488240658414, 'lambda': 5.819453545580649, 'alpha': 7.683723928958903}. Best is trial 40 with value: 1.061457.\n"
     ]
    },
    {
     "name": "stdout",
     "output_type": "stream",
     "text": [
      "{'objective': 'reg:squaredlogerror', 'eval_metric': 'rmse', 'learning_rate': 0.4218996415497851, 'n_estimators': 649, 'max_depth': 6, 'min_child_weight': 3, 'subsample': 0.8176994647617397, 'colsample_bytree': 0.7933238828623476, 'gamma': 1.3770004303363814, 'lambda': 5.180622910355684, 'alpha': 7.152763584940244, 'random_state': 42}\n"
     ]
    },
    {
     "name": "stderr",
     "output_type": "stream",
     "text": [
      "d:\\Development\\insurance\\venv\\lib\\site-packages\\xgboost\\training.py:38: UserWarning: `feval` is deprecated, use `custom_metric` instead.  They have different behavior when custom objective is also used.See https://xgboost.readthedocs.io/en/latest/tutorials/custom_metric_obj.html for details on the `custom_metric`.\n",
      "  warnings.warn(\n",
      "d:\\Development\\insurance\\venv\\lib\\site-packages\\xgboost\\core.py:158: UserWarning: [00:41:23] WARNING: C:\\buildkite-agent\\builds\\buildkite-windows-cpu-autoscaling-group-i-0c55ff5f71b100e98-1\\xgboost\\xgboost-ci-windows\\src\\learner.cc:740: \n",
      "Parameters: { \"n_estimators\" } are not used.\n",
      "\n",
      "  warnings.warn(smsg, UserWarning)\n"
     ]
    },
    {
     "name": "stdout",
     "output_type": "stream",
     "text": [
      "[0]\ttrain-rmse:1400.12419\ttrain-rmsle:4.33687\tvalidation-rmse:1400.26245\tvalidation-rmsle:4.33615\n",
      "[5]\ttrain-rmse:1393.09206\ttrain-rmsle:4.29473\tvalidation-rmse:1393.23373\tvalidation-rmsle:4.29401\n",
      "[10]\ttrain-rmse:1365.01109\ttrain-rmsle:2.94414\tvalidation-rmse:1365.16725\tvalidation-rmsle:2.94328\n",
      "[15]\ttrain-rmse:1276.10780\ttrain-rmsle:1.84678\tvalidation-rmse:1276.31523\tvalidation-rmsle:1.84568\n",
      "[20]\ttrain-rmse:1130.02550\ttrain-rmsle:1.28125\tvalidation-rmse:1130.34149\tvalidation-rmsle:1.27994\n",
      "[25]\ttrain-rmse:1036.65057\ttrain-rmsle:1.14100\tvalidation-rmse:1037.06078\tvalidation-rmsle:1.13965\n",
      "[30]\ttrain-rmse:993.50956\ttrain-rmsle:1.10957\tvalidation-rmse:993.97395\tvalidation-rmsle:1.10823\n",
      "[35]\ttrain-rmse:993.50956\ttrain-rmsle:1.10957\tvalidation-rmse:993.97395\tvalidation-rmsle:1.10823\n",
      "[40]\ttrain-rmse:993.50956\ttrain-rmsle:1.10957\tvalidation-rmse:993.97395\tvalidation-rmsle:1.10823\n"
     ]
    },
    {
     "name": "stderr",
     "output_type": "stream",
     "text": [
      "[I 2024-12-28 00:41:27,692] Trial 53 finished with value: 1.108234 and parameters: {'learning_rate': 0.4218996415497851, 'n_estimators': 649, 'max_depth': 6, 'min_child_weight': 3, 'subsample': 0.8176994647617397, 'colsample_bytree': 0.7933238828623476, 'gamma': 1.3770004303363814, 'lambda': 5.180622910355684, 'alpha': 7.152763584940244}. Best is trial 40 with value: 1.061457.\n"
     ]
    },
    {
     "name": "stdout",
     "output_type": "stream",
     "text": [
      "{'objective': 'reg:squaredlogerror', 'eval_metric': 'rmse', 'learning_rate': 0.43871450003397416, 'n_estimators': 518, 'max_depth': 6, 'min_child_weight': 1, 'subsample': 0.7713386821627352, 'colsample_bytree': 0.7905885146905473, 'gamma': 2.976459906472194, 'lambda': 3.8548683087137956, 'alpha': 9.399843338295293, 'random_state': 42}\n"
     ]
    },
    {
     "name": "stderr",
     "output_type": "stream",
     "text": [
      "d:\\Development\\insurance\\venv\\lib\\site-packages\\xgboost\\training.py:38: UserWarning: `feval` is deprecated, use `custom_metric` instead.  They have different behavior when custom objective is also used.See https://xgboost.readthedocs.io/en/latest/tutorials/custom_metric_obj.html for details on the `custom_metric`.\n",
      "  warnings.warn(\n",
      "d:\\Development\\insurance\\venv\\lib\\site-packages\\xgboost\\core.py:158: UserWarning: [00:41:28] WARNING: C:\\buildkite-agent\\builds\\buildkite-windows-cpu-autoscaling-group-i-0c55ff5f71b100e98-1\\xgboost\\xgboost-ci-windows\\src\\learner.cc:740: \n",
      "Parameters: { \"n_estimators\" } are not used.\n",
      "\n",
      "  warnings.warn(smsg, UserWarning)\n"
     ]
    },
    {
     "name": "stdout",
     "output_type": "stream",
     "text": [
      "[0]\ttrain-rmse:1400.10304\ttrain-rmsle:4.33687\tvalidation-rmse:1400.24131\tvalidation-rmsle:4.33615\n",
      "[5]\ttrain-rmse:1392.52796\ttrain-rmsle:4.23665\tvalidation-rmse:1392.66991\tvalidation-rmsle:4.23593\n",
      "[10]\ttrain-rmse:1361.02113\ttrain-rmsle:2.84874\tvalidation-rmse:1361.17940\tvalidation-rmsle:2.84786\n",
      "[15]\ttrain-rmse:1260.11927\ttrain-rmsle:1.74834\tvalidation-rmse:1260.33691\tvalidation-rmsle:1.74721\n",
      "[20]\ttrain-rmse:1104.85482\ttrain-rmsle:1.23046\tvalidation-rmse:1105.19922\tvalidation-rmsle:1.22910\n",
      "[25]\ttrain-rmse:1017.45397\ttrain-rmsle:1.11476\tvalidation-rmse:1017.79968\tvalidation-rmsle:1.11302\n",
      "[30]\ttrain-rmse:977.63818\ttrain-rmsle:1.08718\tvalidation-rmse:977.97601\tvalidation-rmsle:1.08526\n",
      "[35]\ttrain-rmse:959.81958\ttrain-rmsle:1.07763\tvalidation-rmse:960.13159\tvalidation-rmsle:1.07560\n",
      "[40]\ttrain-rmse:947.78695\ttrain-rmsle:1.07320\tvalidation-rmse:948.05360\tvalidation-rmsle:1.07107\n",
      "[45]\ttrain-rmse:940.40723\ttrain-rmsle:1.07100\tvalidation-rmse:940.64481\tvalidation-rmsle:1.06882\n",
      "[50]\ttrain-rmse:935.40190\ttrain-rmsle:1.06976\tvalidation-rmse:935.62097\tvalidation-rmsle:1.06753\n",
      "[55]\ttrain-rmse:932.31997\ttrain-rmsle:1.06920\tvalidation-rmse:932.53016\tvalidation-rmsle:1.06695\n",
      "[60]\ttrain-rmse:930.85989\ttrain-rmsle:1.06912\tvalidation-rmse:931.07058\tvalidation-rmsle:1.06687\n",
      "[65]\ttrain-rmse:929.99620\ttrain-rmsle:1.06908\tvalidation-rmse:930.20719\tvalidation-rmsle:1.06683\n",
      "[70]\ttrain-rmse:929.52696\ttrain-rmsle:1.06906\tvalidation-rmse:929.73810\tvalidation-rmsle:1.06681\n",
      "[75]\ttrain-rmse:929.26965\ttrain-rmsle:1.06905\tvalidation-rmse:929.48089\tvalidation-rmsle:1.06681\n",
      "[80]\ttrain-rmse:929.15352\ttrain-rmsle:1.06905\tvalidation-rmse:929.36480\tvalidation-rmsle:1.06680\n",
      "[85]\ttrain-rmse:929.06415\ttrain-rmsle:1.06904\tvalidation-rmse:929.27545\tvalidation-rmsle:1.06680\n",
      "[90]\ttrain-rmse:929.05571\ttrain-rmsle:1.06904\tvalidation-rmse:929.26702\tvalidation-rmsle:1.06680\n",
      "[95]\ttrain-rmse:929.03067\ttrain-rmsle:1.06904\tvalidation-rmse:929.24198\tvalidation-rmsle:1.06680\n",
      "[100]\ttrain-rmse:929.00190\ttrain-rmsle:1.06904\tvalidation-rmse:929.21323\tvalidation-rmsle:1.06680\n",
      "[105]\ttrain-rmse:928.99700\ttrain-rmsle:1.06904\tvalidation-rmse:929.20833\tvalidation-rmsle:1.06680\n",
      "[106]\ttrain-rmse:928.99700\ttrain-rmsle:1.06904\tvalidation-rmse:929.20833\tvalidation-rmsle:1.06680\n"
     ]
    },
    {
     "name": "stderr",
     "output_type": "stream",
     "text": [
      "[I 2024-12-28 00:41:39,692] Trial 54 finished with value: 1.066797 and parameters: {'learning_rate': 0.43871450003397416, 'n_estimators': 518, 'max_depth': 6, 'min_child_weight': 1, 'subsample': 0.7713386821627352, 'colsample_bytree': 0.7905885146905473, 'gamma': 2.976459906472194, 'lambda': 3.8548683087137956, 'alpha': 9.399843338295293}. Best is trial 40 with value: 1.061457.\n"
     ]
    },
    {
     "name": "stdout",
     "output_type": "stream",
     "text": [
      "{'objective': 'reg:squaredlogerror', 'eval_metric': 'rmse', 'learning_rate': 0.4413381605098111, 'n_estimators': 517, 'max_depth': 7, 'min_child_weight': 6, 'subsample': 0.7715871233365261, 'colsample_bytree': 0.8459504106594785, 'gamma': 8.224715239878162, 'lambda': 4.150097779787325, 'alpha': 9.414180489106078, 'random_state': 42}\n"
     ]
    },
    {
     "name": "stderr",
     "output_type": "stream",
     "text": [
      "d:\\Development\\insurance\\venv\\lib\\site-packages\\xgboost\\training.py:38: UserWarning: `feval` is deprecated, use `custom_metric` instead.  They have different behavior when custom objective is also used.See https://xgboost.readthedocs.io/en/latest/tutorials/custom_metric_obj.html for details on the `custom_metric`.\n",
      "  warnings.warn(\n",
      "d:\\Development\\insurance\\venv\\lib\\site-packages\\xgboost\\core.py:158: UserWarning: [00:41:40] WARNING: C:\\buildkite-agent\\builds\\buildkite-windows-cpu-autoscaling-group-i-0c55ff5f71b100e98-1\\xgboost\\xgboost-ci-windows\\src\\learner.cc:740: \n",
      "Parameters: { \"n_estimators\" } are not used.\n",
      "\n",
      "  warnings.warn(smsg, UserWarning)\n"
     ]
    },
    {
     "name": "stdout",
     "output_type": "stream",
     "text": [
      "[0]\ttrain-rmse:1400.09984\ttrain-rmsle:4.33687\tvalidation-rmse:1400.23812\tvalidation-rmsle:4.33615\n",
      "[5]\ttrain-rmse:1392.44026\ttrain-rmsle:4.22760\tvalidation-rmse:1392.58238\tvalidation-rmsle:4.22689\n",
      "[10]\ttrain-rmse:1360.37254\ttrain-rmsle:2.83412\tvalidation-rmse:1360.53127\tvalidation-rmsle:2.83325\n",
      "[15]\ttrain-rmse:1257.81706\ttrain-rmsle:1.73530\tvalidation-rmse:1258.03631\tvalidation-rmsle:1.73417\n",
      "[20]\ttrain-rmse:1103.84549\ttrain-rmsle:1.23046\tvalidation-rmse:1104.18544\tvalidation-rmsle:1.22913\n",
      "[25]\ttrain-rmse:1080.36222\ttrain-rmsle:1.19300\tvalidation-rmse:1080.72514\tvalidation-rmsle:1.19166\n",
      "[30]\ttrain-rmse:1080.36222\ttrain-rmsle:1.19300\tvalidation-rmse:1080.72514\tvalidation-rmsle:1.19166\n"
     ]
    },
    {
     "name": "stderr",
     "output_type": "stream",
     "text": [
      "[I 2024-12-28 00:41:44,776] Trial 55 finished with value: 1.191658 and parameters: {'learning_rate': 0.4413381605098111, 'n_estimators': 517, 'max_depth': 7, 'min_child_weight': 6, 'subsample': 0.7715871233365261, 'colsample_bytree': 0.8459504106594785, 'gamma': 8.224715239878162, 'lambda': 4.150097779787325, 'alpha': 9.414180489106078}. Best is trial 40 with value: 1.061457.\n"
     ]
    },
    {
     "name": "stdout",
     "output_type": "stream",
     "text": [
      "{'objective': 'reg:squaredlogerror', 'eval_metric': 'rmse', 'learning_rate': 0.48401337570808645, 'n_estimators': 462, 'max_depth': 5, 'min_child_weight': 3, 'subsample': 0.8680328229885627, 'colsample_bytree': 0.7875037681323003, 'gamma': 2.0682182281771313, 'lambda': 4.930586386494656, 'alpha': 8.465970771688944, 'random_state': 42}\n"
     ]
    },
    {
     "name": "stderr",
     "output_type": "stream",
     "text": [
      "d:\\Development\\insurance\\venv\\lib\\site-packages\\xgboost\\training.py:38: UserWarning: `feval` is deprecated, use `custom_metric` instead.  They have different behavior when custom objective is also used.See https://xgboost.readthedocs.io/en/latest/tutorials/custom_metric_obj.html for details on the `custom_metric`.\n",
      "  warnings.warn(\n",
      "d:\\Development\\insurance\\venv\\lib\\site-packages\\xgboost\\core.py:158: UserWarning: [00:41:45] WARNING: C:\\buildkite-agent\\builds\\buildkite-windows-cpu-autoscaling-group-i-0c55ff5f71b100e98-1\\xgboost\\xgboost-ci-windows\\src\\learner.cc:740: \n",
      "Parameters: { \"n_estimators\" } are not used.\n",
      "\n",
      "  warnings.warn(smsg, UserWarning)\n"
     ]
    },
    {
     "name": "stdout",
     "output_type": "stream",
     "text": [
      "[0]\ttrain-rmse:1400.04600\ttrain-rmsle:4.33687\tvalidation-rmse:1400.18429\tvalidation-rmsle:4.33615\n",
      "[5]\ttrain-rmse:1390.86947\ttrain-rmsle:4.08252\tvalidation-rmse:1391.01215\tvalidation-rmsle:4.08178\n",
      "[10]\ttrain-rmse:1348.55037\ttrain-rmsle:2.60337\tvalidation-rmse:1348.71519\tvalidation-rmsle:2.60246\n",
      "[15]\ttrain-rmse:1215.29452\ttrain-rmsle:1.53398\tvalidation-rmse:1215.54262\tvalidation-rmsle:1.53278\n",
      "[20]\ttrain-rmse:1064.73561\ttrain-rmsle:1.17188\tvalidation-rmse:1065.11452\tvalidation-rmsle:1.17053\n",
      "[25]\ttrain-rmse:998.26161\ttrain-rmsle:1.11211\tvalidation-rmse:998.71947\tvalidation-rmsle:1.11077\n",
      "[30]\ttrain-rmse:990.80271\ttrain-rmsle:1.10819\tvalidation-rmse:991.27070\tvalidation-rmsle:1.10685\n",
      "[35]\ttrain-rmse:990.80271\ttrain-rmsle:1.10819\tvalidation-rmse:991.27070\tvalidation-rmsle:1.10685\n",
      "[36]\ttrain-rmse:990.80271\ttrain-rmsle:1.10819\tvalidation-rmse:991.27070\tvalidation-rmsle:1.10685\n"
     ]
    },
    {
     "name": "stderr",
     "output_type": "stream",
     "text": [
      "[I 2024-12-28 00:41:50,293] Trial 56 finished with value: 1.106853 and parameters: {'learning_rate': 0.48401337570808645, 'n_estimators': 462, 'max_depth': 5, 'min_child_weight': 3, 'subsample': 0.8680328229885627, 'colsample_bytree': 0.7875037681323003, 'gamma': 2.0682182281771313, 'lambda': 4.930586386494656, 'alpha': 8.465970771688944}. Best is trial 40 with value: 1.061457.\n"
     ]
    },
    {
     "name": "stdout",
     "output_type": "stream",
     "text": [
      "{'objective': 'reg:squaredlogerror', 'eval_metric': 'rmse', 'learning_rate': 0.40631912812556303, 'n_estimators': 624, 'max_depth': 4, 'min_child_weight': 1, 'subsample': 0.716242348700372, 'colsample_bytree': 0.8097453625278589, 'gamma': 3.008547388710028, 'lambda': 6.1578643215663895, 'alpha': 8.880067093115407, 'random_state': 42}\n"
     ]
    },
    {
     "name": "stderr",
     "output_type": "stream",
     "text": [
      "d:\\Development\\insurance\\venv\\lib\\site-packages\\xgboost\\training.py:38: UserWarning: `feval` is deprecated, use `custom_metric` instead.  They have different behavior when custom objective is also used.See https://xgboost.readthedocs.io/en/latest/tutorials/custom_metric_obj.html for details on the `custom_metric`.\n",
      "  warnings.warn(\n",
      "d:\\Development\\insurance\\venv\\lib\\site-packages\\xgboost\\core.py:158: UserWarning: [00:41:51] WARNING: C:\\buildkite-agent\\builds\\buildkite-windows-cpu-autoscaling-group-i-0c55ff5f71b100e98-1\\xgboost\\xgboost-ci-windows\\src\\learner.cc:740: \n",
      "Parameters: { \"n_estimators\" } are not used.\n",
      "\n",
      "  warnings.warn(smsg, UserWarning)\n"
     ]
    },
    {
     "name": "stdout",
     "output_type": "stream",
     "text": [
      "[0]\ttrain-rmse:1400.14389\ttrain-rmsle:4.33687\tvalidation-rmse:1400.28215\tvalidation-rmsle:4.33615\n",
      "[5]\ttrain-rmse:1393.59334\ttrain-rmsle:4.33687\tvalidation-rmse:1393.73493\tvalidation-rmsle:4.33615\n",
      "[10]\ttrain-rmse:1368.42561\ttrain-rmsle:3.03465\tvalidation-rmse:1368.58018\tvalidation-rmsle:3.03382\n",
      "[15]\ttrain-rmse:1290.06153\ttrain-rmsle:1.94580\tvalidation-rmse:1290.26051\tvalidation-rmsle:1.94474\n",
      "[20]\ttrain-rmse:1155.87793\ttrain-rmsle:1.34215\tvalidation-rmse:1156.17208\tvalidation-rmsle:1.34086\n",
      "[25]\ttrain-rmse:1061.53531\ttrain-rmsle:1.16795\tvalidation-rmse:1061.91796\tvalidation-rmsle:1.16660\n",
      "[30]\ttrain-rmse:1016.37256\ttrain-rmsle:1.11967\tvalidation-rmse:1016.73465\tvalidation-rmsle:1.11813\n",
      "[35]\ttrain-rmse:990.44238\ttrain-rmsle:1.10087\tvalidation-rmse:990.77714\tvalidation-rmsle:1.09924\n",
      "[40]\ttrain-rmse:974.61981\ttrain-rmsle:1.09183\tvalidation-rmse:974.92359\tvalidation-rmsle:1.09011\n",
      "[45]\ttrain-rmse:964.18204\ttrain-rmsle:1.08681\tvalidation-rmse:964.46013\tvalidation-rmsle:1.08502\n",
      "[50]\ttrain-rmse:956.89126\ttrain-rmsle:1.08382\tvalidation-rmse:957.15308\tvalidation-rmsle:1.08198\n",
      "[55]\ttrain-rmse:951.56372\ttrain-rmsle:1.08191\tvalidation-rmse:951.81851\tvalidation-rmsle:1.08005\n",
      "[60]\ttrain-rmse:946.27376\ttrain-rmsle:1.08099\tvalidation-rmse:946.53412\tvalidation-rmsle:1.07914\n",
      "[65]\ttrain-rmse:942.71474\ttrain-rmsle:1.08054\tvalidation-rmse:942.97894\tvalidation-rmsle:1.07870\n",
      "[70]\ttrain-rmse:940.32611\ttrain-rmsle:1.08031\tvalidation-rmse:940.59293\tvalidation-rmsle:1.07848\n",
      "[75]\ttrain-rmse:938.72149\ttrain-rmsle:1.08019\tvalidation-rmse:938.99010\tvalidation-rmsle:1.07836\n",
      "[80]\ttrain-rmse:937.65691\ttrain-rmsle:1.08013\tvalidation-rmse:937.92670\tvalidation-rmsle:1.07830\n",
      "[85]\ttrain-rmse:936.89876\ttrain-rmsle:1.08009\tvalidation-rmse:937.16940\tvalidation-rmsle:1.07826\n",
      "[90]\ttrain-rmse:936.44659\ttrain-rmsle:1.08007\tvalidation-rmse:936.71775\tvalidation-rmsle:1.07824\n",
      "[95]\ttrain-rmse:936.07264\ttrain-rmsle:1.08005\tvalidation-rmse:936.34422\tvalidation-rmsle:1.07823\n",
      "[100]\ttrain-rmse:935.82596\ttrain-rmsle:1.08004\tvalidation-rmse:936.09782\tvalidation-rmsle:1.07822\n",
      "[105]\ttrain-rmse:935.67978\ttrain-rmsle:1.08004\tvalidation-rmse:935.95181\tvalidation-rmsle:1.07821\n",
      "[110]\ttrain-rmse:935.55235\ttrain-rmsle:1.08003\tvalidation-rmse:935.82452\tvalidation-rmsle:1.07821\n",
      "[115]\ttrain-rmse:935.52127\ttrain-rmsle:1.08003\tvalidation-rmse:935.79348\tvalidation-rmsle:1.07821\n",
      "[120]\ttrain-rmse:935.43332\ttrain-rmsle:1.08003\tvalidation-rmse:935.70563\tvalidation-rmsle:1.07821\n",
      "[125]\ttrain-rmse:935.38423\ttrain-rmsle:1.08003\tvalidation-rmse:935.65659\tvalidation-rmsle:1.07821\n",
      "[130]\ttrain-rmse:935.31598\ttrain-rmsle:1.08003\tvalidation-rmse:935.58842\tvalidation-rmsle:1.07820\n",
      "[135]\ttrain-rmse:935.28226\ttrain-rmsle:1.08003\tvalidation-rmse:935.55474\tvalidation-rmsle:1.07820\n",
      "[140]\ttrain-rmse:935.24244\ttrain-rmsle:1.08003\tvalidation-rmse:935.51496\tvalidation-rmsle:1.07820\n",
      "[145]\ttrain-rmse:935.22528\ttrain-rmsle:1.08002\tvalidation-rmse:935.49782\tvalidation-rmsle:1.07820\n",
      "[150]\ttrain-rmse:935.19498\ttrain-rmsle:1.08002\tvalidation-rmse:935.46756\tvalidation-rmsle:1.07820\n",
      "[155]\ttrain-rmse:935.19498\ttrain-rmsle:1.08002\tvalidation-rmse:935.46756\tvalidation-rmsle:1.07820\n",
      "[156]\ttrain-rmse:935.19498\ttrain-rmsle:1.08002\tvalidation-rmse:935.46756\tvalidation-rmsle:1.07820\n"
     ]
    },
    {
     "name": "stderr",
     "output_type": "stream",
     "text": [
      "[I 2024-12-28 00:42:06,834] Trial 57 finished with value: 1.078201 and parameters: {'learning_rate': 0.40631912812556303, 'n_estimators': 624, 'max_depth': 4, 'min_child_weight': 1, 'subsample': 0.716242348700372, 'colsample_bytree': 0.8097453625278589, 'gamma': 3.008547388710028, 'lambda': 6.1578643215663895, 'alpha': 8.880067093115407}. Best is trial 40 with value: 1.061457.\n"
     ]
    },
    {
     "name": "stdout",
     "output_type": "stream",
     "text": [
      "{'objective': 'reg:squaredlogerror', 'eval_metric': 'rmse', 'learning_rate': 0.3987628330832942, 'n_estimators': 683, 'max_depth': 3, 'min_child_weight': 8, 'subsample': 0.7115991376979589, 'colsample_bytree': 0.8115010631786579, 'gamma': 3.035387789861073, 'lambda': 3.8205450256520366, 'alpha': 8.787922200896727, 'random_state': 42}\n"
     ]
    },
    {
     "name": "stderr",
     "output_type": "stream",
     "text": [
      "d:\\Development\\insurance\\venv\\lib\\site-packages\\xgboost\\training.py:38: UserWarning: `feval` is deprecated, use `custom_metric` instead.  They have different behavior when custom objective is also used.See https://xgboost.readthedocs.io/en/latest/tutorials/custom_metric_obj.html for details on the `custom_metric`.\n",
      "  warnings.warn(\n",
      "d:\\Development\\insurance\\venv\\lib\\site-packages\\xgboost\\core.py:158: UserWarning: [00:42:07] WARNING: C:\\buildkite-agent\\builds\\buildkite-windows-cpu-autoscaling-group-i-0c55ff5f71b100e98-1\\xgboost\\xgboost-ci-windows\\src\\learner.cc:740: \n",
      "Parameters: { \"n_estimators\" } are not used.\n",
      "\n",
      "  warnings.warn(smsg, UserWarning)\n"
     ]
    },
    {
     "name": "stdout",
     "output_type": "stream",
     "text": [
      "[0]\ttrain-rmse:1400.15334\ttrain-rmsle:4.33687\tvalidation-rmse:1400.29159\tvalidation-rmsle:4.33615\n",
      "[5]\ttrain-rmse:1393.82456\ttrain-rmsle:4.33687\tvalidation-rmse:1393.96590\tvalidation-rmsle:4.33615\n",
      "[10]\ttrain-rmse:1369.95520\ttrain-rmsle:3.07865\tvalidation-rmse:1370.10889\tvalidation-rmsle:3.07782\n",
      "[15]\ttrain-rmse:1295.47641\ttrain-rmsle:1.98822\tvalidation-rmse:1295.67201\tvalidation-rmsle:1.98717\n",
      "[20]\ttrain-rmse:1156.15455\ttrain-rmsle:1.34283\tvalidation-rmse:1156.44832\tvalidation-rmsle:1.34155\n",
      "[25]\ttrain-rmse:1104.68129\ttrain-rmsle:1.23191\tvalidation-rmse:1105.02041\tvalidation-rmsle:1.23057\n",
      "[30]\ttrain-rmse:1104.68129\ttrain-rmsle:1.23191\tvalidation-rmse:1105.02041\tvalidation-rmsle:1.23057\n",
      "[31]\ttrain-rmse:1104.68129\ttrain-rmsle:1.23191\tvalidation-rmse:1105.02041\tvalidation-rmsle:1.23057\n"
     ]
    },
    {
     "name": "stderr",
     "output_type": "stream",
     "text": [
      "[I 2024-12-28 00:42:11,856] Trial 58 finished with value: 1.230572 and parameters: {'learning_rate': 0.3987628330832942, 'n_estimators': 683, 'max_depth': 3, 'min_child_weight': 8, 'subsample': 0.7115991376979589, 'colsample_bytree': 0.8115010631786579, 'gamma': 3.035387789861073, 'lambda': 3.8205450256520366, 'alpha': 8.787922200896727}. Best is trial 40 with value: 1.061457.\n"
     ]
    },
    {
     "name": "stdout",
     "output_type": "stream",
     "text": [
      "{'objective': 'reg:squaredlogerror', 'eval_metric': 'rmse', 'learning_rate': 0.36499773397151736, 'n_estimators': 391, 'max_depth': 4, 'min_child_weight': 3, 'subsample': 0.7508048226917723, 'colsample_bytree': 0.8732807540511743, 'gamma': 3.8075603726052982, 'lambda': 6.279875316121698, 'alpha': 8.067239022557828, 'random_state': 42}\n"
     ]
    },
    {
     "name": "stderr",
     "output_type": "stream",
     "text": [
      "d:\\Development\\insurance\\venv\\lib\\site-packages\\xgboost\\training.py:38: UserWarning: `feval` is deprecated, use `custom_metric` instead.  They have different behavior when custom objective is also used.See https://xgboost.readthedocs.io/en/latest/tutorials/custom_metric_obj.html for details on the `custom_metric`.\n",
      "  warnings.warn(\n",
      "d:\\Development\\insurance\\venv\\lib\\site-packages\\xgboost\\core.py:158: UserWarning: [00:42:12] WARNING: C:\\buildkite-agent\\builds\\buildkite-windows-cpu-autoscaling-group-i-0c55ff5f71b100e98-1\\xgboost\\xgboost-ci-windows\\src\\learner.cc:740: \n",
      "Parameters: { \"n_estimators\" } are not used.\n",
      "\n",
      "  warnings.warn(smsg, UserWarning)\n"
     ]
    },
    {
     "name": "stdout",
     "output_type": "stream",
     "text": [
      "[0]\ttrain-rmse:1400.19596\ttrain-rmsle:4.33687\tvalidation-rmse:1400.33418\tvalidation-rmsle:4.33615\n",
      "[5]\ttrain-rmse:1394.80931\ttrain-rmsle:4.33687\tvalidation-rmse:1394.95023\tvalidation-rmsle:4.33615\n",
      "[10]\ttrain-rmse:1376.19460\ttrain-rmsle:3.28263\tvalidation-rmse:1376.34502\tvalidation-rmsle:3.28183\n",
      "[15]\ttrain-rmse:1320.71261\ttrain-rmsle:2.22450\tvalidation-rmse:1320.89329\tvalidation-rmsle:2.22351\n",
      "[20]\ttrain-rmse:1207.82162\ttrain-rmsle:1.50502\tvalidation-rmse:1208.07531\tvalidation-rmsle:1.50380\n",
      "[25]\ttrain-rmse:1099.09751\ttrain-rmsle:1.22228\tvalidation-rmse:1099.44187\tvalidation-rmsle:1.22095\n",
      "[30]\ttrain-rmse:1037.13789\ttrain-rmsle:1.14145\tvalidation-rmse:1037.54742\tvalidation-rmsle:1.14009\n",
      "[35]\ttrain-rmse:1008.58078\ttrain-rmsle:1.11843\tvalidation-rmse:1009.02510\tvalidation-rmsle:1.11708\n",
      "[40]\ttrain-rmse:1008.58078\ttrain-rmsle:1.11843\tvalidation-rmse:1009.02510\tvalidation-rmsle:1.11708\n",
      "[44]\ttrain-rmse:1008.58078\ttrain-rmsle:1.11843\tvalidation-rmse:1009.02510\tvalidation-rmsle:1.11708\n"
     ]
    },
    {
     "name": "stderr",
     "output_type": "stream",
     "text": [
      "[I 2024-12-28 00:42:18,210] Trial 59 finished with value: 1.117079 and parameters: {'learning_rate': 0.36499773397151736, 'n_estimators': 391, 'max_depth': 4, 'min_child_weight': 3, 'subsample': 0.7508048226917723, 'colsample_bytree': 0.8732807540511743, 'gamma': 3.8075603726052982, 'lambda': 6.279875316121698, 'alpha': 8.067239022557828}. Best is trial 40 with value: 1.061457.\n"
     ]
    },
    {
     "name": "stdout",
     "output_type": "stream",
     "text": [
      "{'objective': 'reg:squaredlogerror', 'eval_metric': 'rmse', 'learning_rate': 0.27482611586106, 'n_estimators': 618, 'max_depth': 4, 'min_child_weight': 11, 'subsample': 0.7911374243675167, 'colsample_bytree': 0.8325454522331617, 'gamma': 4.087238522292261, 'lambda': 3.8916530922385166, 'alpha': 9.573027752769455, 'random_state': 42}\n"
     ]
    },
    {
     "name": "stderr",
     "output_type": "stream",
     "text": [
      "d:\\Development\\insurance\\venv\\lib\\site-packages\\xgboost\\training.py:38: UserWarning: `feval` is deprecated, use `custom_metric` instead.  They have different behavior when custom objective is also used.See https://xgboost.readthedocs.io/en/latest/tutorials/custom_metric_obj.html for details on the `custom_metric`.\n",
      "  warnings.warn(\n",
      "d:\\Development\\insurance\\venv\\lib\\site-packages\\xgboost\\core.py:158: UserWarning: [00:42:19] WARNING: C:\\buildkite-agent\\builds\\buildkite-windows-cpu-autoscaling-group-i-0c55ff5f71b100e98-1\\xgboost\\xgboost-ci-windows\\src\\learner.cc:740: \n",
      "Parameters: { \"n_estimators\" } are not used.\n",
      "\n",
      "  warnings.warn(smsg, UserWarning)\n"
     ]
    },
    {
     "name": "stdout",
     "output_type": "stream",
     "text": [
      "[0]\ttrain-rmse:1400.30943\ttrain-rmsle:4.33687\tvalidation-rmse:1400.44759\tvalidation-rmsle:4.33615\n",
      "[5]\ttrain-rmse:1396.98290\ttrain-rmsle:4.33687\tvalidation-rmse:1397.12269\tvalidation-rmsle:4.33615\n",
      "[10]\ttrain-rmse:1388.08802\ttrain-rmsle:3.86924\tvalidation-rmse:1388.23227\tvalidation-rmsle:3.86849\n",
      "[15]\ttrain-rmse:1365.80499\ttrain-rmsle:2.96468\tvalidation-rmse:1365.96078\tvalidation-rmsle:2.96383\n",
      "[20]\ttrain-rmse:1315.95478\ttrain-rmsle:2.17417\tvalidation-rmse:1316.13814\tvalidation-rmsle:2.17317\n",
      "[25]\ttrain-rmse:1227.99661\ttrain-rmsle:1.58716\tvalidation-rmse:1228.23586\tvalidation-rmsle:1.58598\n",
      "[30]\ttrain-rmse:1127.75519\ttrain-rmsle:1.27641\tvalidation-rmse:1128.07307\tvalidation-rmsle:1.27510\n",
      "[35]\ttrain-rmse:1127.75519\ttrain-rmsle:1.27641\tvalidation-rmse:1128.07307\tvalidation-rmsle:1.27510\n",
      "[40]\ttrain-rmse:1127.75519\ttrain-rmsle:1.27641\tvalidation-rmse:1128.07307\tvalidation-rmsle:1.27510\n"
     ]
    },
    {
     "name": "stderr",
     "output_type": "stream",
     "text": [
      "[I 2024-12-28 00:42:24,341] Trial 60 finished with value: 1.275097 and parameters: {'learning_rate': 0.27482611586106, 'n_estimators': 618, 'max_depth': 4, 'min_child_weight': 11, 'subsample': 0.7911374243675167, 'colsample_bytree': 0.8325454522331617, 'gamma': 4.087238522292261, 'lambda': 3.8916530922385166, 'alpha': 9.573027752769455}. Best is trial 40 with value: 1.061457.\n"
     ]
    },
    {
     "name": "stdout",
     "output_type": "stream",
     "text": [
      "{'objective': 'reg:squaredlogerror', 'eval_metric': 'rmse', 'learning_rate': 0.42759885733666164, 'n_estimators': 494, 'max_depth': 5, 'min_child_weight': 1, 'subsample': 0.6856508004166768, 'colsample_bytree': 0.7241497300453756, 'gamma': 3.3263425997509994, 'lambda': 4.389452521939244, 'alpha': 8.758373410833887, 'random_state': 42}\n"
     ]
    },
    {
     "name": "stderr",
     "output_type": "stream",
     "text": [
      "d:\\Development\\insurance\\venv\\lib\\site-packages\\xgboost\\training.py:38: UserWarning: `feval` is deprecated, use `custom_metric` instead.  They have different behavior when custom objective is also used.See https://xgboost.readthedocs.io/en/latest/tutorials/custom_metric_obj.html for details on the `custom_metric`.\n",
      "  warnings.warn(\n",
      "d:\\Development\\insurance\\venv\\lib\\site-packages\\xgboost\\core.py:158: UserWarning: [00:42:25] WARNING: C:\\buildkite-agent\\builds\\buildkite-windows-cpu-autoscaling-group-i-0c55ff5f71b100e98-1\\xgboost\\xgboost-ci-windows\\src\\learner.cc:740: \n",
      "Parameters: { \"n_estimators\" } are not used.\n",
      "\n",
      "  warnings.warn(smsg, UserWarning)\n"
     ]
    },
    {
     "name": "stdout",
     "output_type": "stream",
     "text": [
      "[0]\ttrain-rmse:1400.11715\ttrain-rmsle:4.33687\tvalidation-rmse:1400.25541\tvalidation-rmsle:4.33615\n",
      "[5]\ttrain-rmse:1392.90676\ttrain-rmsle:4.27536\tvalidation-rmse:1393.04864\tvalidation-rmsle:4.27466\n",
      "[10]\ttrain-rmse:1363.70288\ttrain-rmsle:2.91169\tvalidation-rmse:1363.85984\tvalidation-rmsle:2.91084\n",
      "[15]\ttrain-rmse:1271.07518\ttrain-rmsle:1.81423\tvalidation-rmse:1271.28589\tvalidation-rmsle:1.81313\n",
      "[20]\ttrain-rmse:1123.82767\ttrain-rmsle:1.26831\tvalidation-rmse:1124.14925\tvalidation-rmsle:1.26699\n",
      "[25]\ttrain-rmse:1035.02514\ttrain-rmsle:1.13759\tvalidation-rmse:1035.40567\tvalidation-rmsle:1.13615\n",
      "[30]\ttrain-rmse:994.51895\ttrain-rmsle:1.10386\tvalidation-rmse:994.86169\tvalidation-rmsle:1.10226\n",
      "[35]\ttrain-rmse:972.25254\ttrain-rmsle:1.09242\tvalidation-rmse:972.59476\tvalidation-rmsle:1.09079\n",
      "[40]\ttrain-rmse:959.14426\ttrain-rmsle:1.08758\tvalidation-rmse:959.48559\tvalidation-rmsle:1.08594\n",
      "[45]\ttrain-rmse:950.81402\ttrain-rmsle:1.08596\tvalidation-rmse:951.16539\tvalidation-rmsle:1.08433\n",
      "[50]\ttrain-rmse:946.12771\ttrain-rmsle:1.08536\tvalidation-rmse:946.48492\tvalidation-rmsle:1.08374\n",
      "[55]\ttrain-rmse:943.29308\ttrain-rmsle:1.08511\tvalidation-rmse:943.65390\tvalidation-rmsle:1.08349\n",
      "[60]\ttrain-rmse:941.68830\ttrain-rmsle:1.08500\tvalidation-rmse:942.05119\tvalidation-rmsle:1.08338\n",
      "[65]\ttrain-rmse:940.62263\ttrain-rmsle:1.08494\tvalidation-rmse:940.98690\tvalidation-rmsle:1.08333\n",
      "[70]\ttrain-rmse:939.94473\ttrain-rmsle:1.08491\tvalidation-rmse:940.30988\tvalidation-rmsle:1.08330\n",
      "[75]\ttrain-rmse:939.54474\ttrain-rmsle:1.08490\tvalidation-rmse:939.91042\tvalidation-rmsle:1.08329\n",
      "[80]\ttrain-rmse:939.34281\ttrain-rmsle:1.08489\tvalidation-rmse:939.70875\tvalidation-rmsle:1.08328\n",
      "[85]\ttrain-rmse:939.18576\ttrain-rmsle:1.08489\tvalidation-rmse:939.55191\tvalidation-rmsle:1.08327\n",
      "[90]\ttrain-rmse:939.13677\ttrain-rmsle:1.08488\tvalidation-rmse:939.50299\tvalidation-rmsle:1.08327\n",
      "[95]\ttrain-rmse:939.06215\ttrain-rmsle:1.08488\tvalidation-rmse:939.42846\tvalidation-rmsle:1.08327\n",
      "[100]\ttrain-rmse:939.00651\ttrain-rmsle:1.08488\tvalidation-rmse:939.37289\tvalidation-rmsle:1.08327\n",
      "[105]\ttrain-rmse:938.97929\ttrain-rmsle:1.08488\tvalidation-rmse:939.34571\tvalidation-rmsle:1.08327\n",
      "[110]\ttrain-rmse:938.94339\ttrain-rmsle:1.08488\tvalidation-rmse:939.30986\tvalidation-rmsle:1.08327\n",
      "[115]\ttrain-rmse:938.94339\ttrain-rmsle:1.08488\tvalidation-rmse:939.30986\tvalidation-rmsle:1.08327\n",
      "[118]\ttrain-rmse:938.93767\ttrain-rmsle:1.08488\tvalidation-rmse:939.30414\tvalidation-rmsle:1.08327\n"
     ]
    },
    {
     "name": "stderr",
     "output_type": "stream",
     "text": [
      "[I 2024-12-28 00:42:37,047] Trial 61 finished with value: 1.083268 and parameters: {'learning_rate': 0.42759885733666164, 'n_estimators': 494, 'max_depth': 5, 'min_child_weight': 1, 'subsample': 0.6856508004166768, 'colsample_bytree': 0.7241497300453756, 'gamma': 3.3263425997509994, 'lambda': 4.389452521939244, 'alpha': 8.758373410833887}. Best is trial 40 with value: 1.061457.\n"
     ]
    },
    {
     "name": "stdout",
     "output_type": "stream",
     "text": [
      "{'objective': 'reg:squaredlogerror', 'eval_metric': 'rmse', 'learning_rate': 0.43516445437115836, 'n_estimators': 501, 'max_depth': 4, 'min_child_weight': 6, 'subsample': 0.8177054983523901, 'colsample_bytree': 0.72458556110247, 'gamma': 3.3148790118600284, 'lambda': 4.4462302546766965, 'alpha': 8.640709336477034, 'random_state': 42}\n"
     ]
    },
    {
     "name": "stderr",
     "output_type": "stream",
     "text": [
      "d:\\Development\\insurance\\venv\\lib\\site-packages\\xgboost\\training.py:38: UserWarning: `feval` is deprecated, use `custom_metric` instead.  They have different behavior when custom objective is also used.See https://xgboost.readthedocs.io/en/latest/tutorials/custom_metric_obj.html for details on the `custom_metric`.\n",
      "  warnings.warn(\n",
      "d:\\Development\\insurance\\venv\\lib\\site-packages\\xgboost\\core.py:158: UserWarning: [00:42:38] WARNING: C:\\buildkite-agent\\builds\\buildkite-windows-cpu-autoscaling-group-i-0c55ff5f71b100e98-1\\xgboost\\xgboost-ci-windows\\src\\learner.cc:740: \n",
      "Parameters: { \"n_estimators\" } are not used.\n",
      "\n",
      "  warnings.warn(smsg, UserWarning)\n"
     ]
    },
    {
     "name": "stdout",
     "output_type": "stream",
     "text": [
      "[0]\ttrain-rmse:1400.10750\ttrain-rmsle:4.33687\tvalidation-rmse:1400.24577\tvalidation-rmsle:4.33615\n",
      "[5]\ttrain-rmse:1392.64928\ttrain-rmsle:4.24896\tvalidation-rmse:1392.79117\tvalidation-rmsle:4.24824\n",
      "[10]\ttrain-rmse:1361.89186\ttrain-rmsle:2.86870\tvalidation-rmse:1362.04966\tvalidation-rmsle:2.86784\n",
      "[15]\ttrain-rmse:1263.66912\ttrain-rmsle:1.76898\tvalidation-rmse:1263.88447\tvalidation-rmsle:1.76786\n",
      "[20]\ttrain-rmse:1110.94768\ttrain-rmsle:1.24324\tvalidation-rmse:1111.28090\tvalidation-rmsle:1.24191\n",
      "[25]\ttrain-rmse:1066.28299\ttrain-rmsle:1.17385\tvalidation-rmse:1066.66037\tvalidation-rmsle:1.17250\n",
      "[30]\ttrain-rmse:1066.28299\ttrain-rmsle:1.17385\tvalidation-rmse:1066.66037\tvalidation-rmsle:1.17250\n",
      "[32]\ttrain-rmse:1066.28299\ttrain-rmsle:1.17385\tvalidation-rmse:1066.66037\tvalidation-rmsle:1.17250\n"
     ]
    },
    {
     "name": "stderr",
     "output_type": "stream",
     "text": [
      "[I 2024-12-28 00:42:42,387] Trial 62 finished with value: 1.172502 and parameters: {'learning_rate': 0.43516445437115836, 'n_estimators': 501, 'max_depth': 4, 'min_child_weight': 6, 'subsample': 0.8177054983523901, 'colsample_bytree': 0.72458556110247, 'gamma': 3.3148790118600284, 'lambda': 4.4462302546766965, 'alpha': 8.640709336477034}. Best is trial 40 with value: 1.061457.\n"
     ]
    },
    {
     "name": "stdout",
     "output_type": "stream",
     "text": [
      "{'objective': 'reg:squaredlogerror', 'eval_metric': 'rmse', 'learning_rate': 0.40791554849334527, 'n_estimators': 459, 'max_depth': 5, 'min_child_weight': 2, 'subsample': 0.724758565626225, 'colsample_bytree': 0.695929990216734, 'gamma': 4.3915376215106985, 'lambda': 4.682537147942123, 'alpha': 7.884837068465055, 'random_state': 42}\n"
     ]
    },
    {
     "name": "stderr",
     "output_type": "stream",
     "text": [
      "d:\\Development\\insurance\\venv\\lib\\site-packages\\xgboost\\training.py:38: UserWarning: `feval` is deprecated, use `custom_metric` instead.  They have different behavior when custom objective is also used.See https://xgboost.readthedocs.io/en/latest/tutorials/custom_metric_obj.html for details on the `custom_metric`.\n",
      "  warnings.warn(\n",
      "d:\\Development\\insurance\\venv\\lib\\site-packages\\xgboost\\core.py:158: UserWarning: [00:42:43] WARNING: C:\\buildkite-agent\\builds\\buildkite-windows-cpu-autoscaling-group-i-0c55ff5f71b100e98-1\\xgboost\\xgboost-ci-windows\\src\\learner.cc:740: \n",
      "Parameters: { \"n_estimators\" } are not used.\n",
      "\n",
      "  warnings.warn(smsg, UserWarning)\n"
     ]
    },
    {
     "name": "stdout",
     "output_type": "stream",
     "text": [
      "[0]\ttrain-rmse:1400.14182\ttrain-rmsle:4.33687\tvalidation-rmse:1400.28007\tvalidation-rmsle:4.33615\n",
      "[5]\ttrain-rmse:1393.54083\ttrain-rmsle:4.33687\tvalidation-rmse:1393.68229\tvalidation-rmsle:4.33615\n",
      "[10]\ttrain-rmse:1368.07799\ttrain-rmsle:3.02504\tvalidation-rmse:1368.23254\tvalidation-rmsle:3.02419\n",
      "[15]\ttrain-rmse:1288.20288\ttrain-rmsle:1.93179\tvalidation-rmse:1288.40280\tvalidation-rmsle:1.93073\n",
      "[20]\ttrain-rmse:1147.59898\ttrain-rmsle:1.32138\tvalidation-rmse:1147.89986\tvalidation-rmsle:1.32008\n",
      "[25]\ttrain-rmse:1048.16324\ttrain-rmsle:1.15262\tvalidation-rmse:1048.56036\tvalidation-rmsle:1.15127\n",
      "[30]\ttrain-rmse:1000.65118\ttrain-rmsle:1.11350\tvalidation-rmse:1001.10602\tvalidation-rmsle:1.11216\n",
      "[35]\ttrain-rmse:976.82900\ttrain-rmsle:1.10233\tvalidation-rmse:977.31698\tvalidation-rmsle:1.10100\n",
      "[40]\ttrain-rmse:963.76886\ttrain-rmsle:1.09854\tvalidation-rmse:964.27653\tvalidation-rmsle:1.09722\n",
      "[45]\ttrain-rmse:963.76886\ttrain-rmsle:1.09854\tvalidation-rmse:964.27653\tvalidation-rmsle:1.09722\n",
      "[50]\ttrain-rmse:963.76886\ttrain-rmsle:1.09854\tvalidation-rmse:964.27653\tvalidation-rmsle:1.09722\n"
     ]
    },
    {
     "name": "stderr",
     "output_type": "stream",
     "text": [
      "[I 2024-12-28 00:42:49,096] Trial 63 finished with value: 1.097222 and parameters: {'learning_rate': 0.40791554849334527, 'n_estimators': 459, 'max_depth': 5, 'min_child_weight': 2, 'subsample': 0.724758565626225, 'colsample_bytree': 0.695929990216734, 'gamma': 4.3915376215106985, 'lambda': 4.682537147942123, 'alpha': 7.884837068465055}. Best is trial 40 with value: 1.061457.\n"
     ]
    },
    {
     "name": "stdout",
     "output_type": "stream",
     "text": [
      "{'objective': 'reg:squaredlogerror', 'eval_metric': 'rmse', 'learning_rate': 0.1749311074607192, 'n_estimators': 622, 'max_depth': 5, 'min_child_weight': 1, 'subsample': 0.6847012216521237, 'colsample_bytree': 0.7695508575086216, 'gamma': 5.373048554210943, 'lambda': 5.367765833041937, 'alpha': 9.977469889119373, 'random_state': 42}\n"
     ]
    },
    {
     "name": "stderr",
     "output_type": "stream",
     "text": [
      "d:\\Development\\insurance\\venv\\lib\\site-packages\\xgboost\\training.py:38: UserWarning: `feval` is deprecated, use `custom_metric` instead.  They have different behavior when custom objective is also used.See https://xgboost.readthedocs.io/en/latest/tutorials/custom_metric_obj.html for details on the `custom_metric`.\n",
      "  warnings.warn(\n",
      "d:\\Development\\insurance\\venv\\lib\\site-packages\\xgboost\\core.py:158: UserWarning: [00:42:50] WARNING: C:\\buildkite-agent\\builds\\buildkite-windows-cpu-autoscaling-group-i-0c55ff5f71b100e98-1\\xgboost\\xgboost-ci-windows\\src\\learner.cc:740: \n",
      "Parameters: { \"n_estimators\" } are not used.\n",
      "\n",
      "  warnings.warn(smsg, UserWarning)\n"
     ]
    },
    {
     "name": "stdout",
     "output_type": "stream",
     "text": [
      "[0]\ttrain-rmse:1400.43529\ttrain-rmsle:4.33687\tvalidation-rmse:1400.57340\tvalidation-rmsle:4.33615\n",
      "[5]\ttrain-rmse:1398.75180\ttrain-rmsle:4.33687\tvalidation-rmse:1398.89075\tvalidation-rmsle:4.33615\n",
      "[10]\ttrain-rmse:1395.48772\ttrain-rmsle:4.33687\tvalidation-rmse:1395.62830\tvalidation-rmsle:4.33615\n"
     ]
    },
    {
     "name": "stderr",
     "output_type": "stream",
     "text": [
      "[I 2024-12-28 00:42:52,239] Trial 64 finished with value: 4.336152 and parameters: {'learning_rate': 0.1749311074607192, 'n_estimators': 622, 'max_depth': 5, 'min_child_weight': 1, 'subsample': 0.6847012216521237, 'colsample_bytree': 0.7695508575086216, 'gamma': 5.373048554210943, 'lambda': 5.367765833041937, 'alpha': 9.977469889119373}. Best is trial 40 with value: 1.061457.\n"
     ]
    },
    {
     "name": "stdout",
     "output_type": "stream",
     "text": [
      "{'objective': 'reg:squaredlogerror', 'eval_metric': 'rmse', 'learning_rate': 0.3840018097898478, 'n_estimators': 355, 'max_depth': 3, 'min_child_weight': 5, 'subsample': 0.7682793121612261, 'colsample_bytree': 0.7302083069881977, 'gamma': 2.87890489556555, 'lambda': 6.018790003188393, 'alpha': 9.129147005182174, 'random_state': 42}\n"
     ]
    },
    {
     "name": "stderr",
     "output_type": "stream",
     "text": [
      "d:\\Development\\insurance\\venv\\lib\\site-packages\\xgboost\\training.py:38: UserWarning: `feval` is deprecated, use `custom_metric` instead.  They have different behavior when custom objective is also used.See https://xgboost.readthedocs.io/en/latest/tutorials/custom_metric_obj.html for details on the `custom_metric`.\n",
      "  warnings.warn(\n",
      "d:\\Development\\insurance\\venv\\lib\\site-packages\\xgboost\\core.py:158: UserWarning: [00:42:53] WARNING: C:\\buildkite-agent\\builds\\buildkite-windows-cpu-autoscaling-group-i-0c55ff5f71b100e98-1\\xgboost\\xgboost-ci-windows\\src\\learner.cc:740: \n",
      "Parameters: { \"n_estimators\" } are not used.\n",
      "\n",
      "  warnings.warn(smsg, UserWarning)\n"
     ]
    },
    {
     "name": "stdout",
     "output_type": "stream",
     "text": [
      "[0]\ttrain-rmse:1400.17200\ttrain-rmsle:4.33687\tvalidation-rmse:1400.31024\tvalidation-rmsle:4.33615\n",
      "[5]\ttrain-rmse:1394.26858\ttrain-rmsle:4.33687\tvalidation-rmse:1394.40977\tvalidation-rmsle:4.33615\n",
      "[10]\ttrain-rmse:1372.83723\ttrain-rmsle:3.16687\tvalidation-rmse:1372.98939\tvalidation-rmsle:3.16605\n",
      "[15]\ttrain-rmse:1307.30636\ttrain-rmsle:2.09006\tvalidation-rmse:1307.49489\tvalidation-rmsle:2.08904\n",
      "[20]\ttrain-rmse:1181.85067\ttrain-rmsle:1.41594\tvalidation-rmse:1182.12398\tvalidation-rmsle:1.41469\n",
      "[25]\ttrain-rmse:1077.04155\ttrain-rmsle:1.18829\tvalidation-rmse:1077.40793\tvalidation-rmsle:1.18694\n",
      "[30]\ttrain-rmse:1062.84337\ttrain-rmsle:1.16956\tvalidation-rmse:1063.22458\tvalidation-rmsle:1.16821\n",
      "[35]\ttrain-rmse:1062.84337\ttrain-rmsle:1.16956\tvalidation-rmse:1063.22458\tvalidation-rmsle:1.16821\n",
      "[36]\ttrain-rmse:1062.84337\ttrain-rmsle:1.16956\tvalidation-rmse:1063.22458\tvalidation-rmsle:1.16821\n"
     ]
    },
    {
     "name": "stderr",
     "output_type": "stream",
     "text": [
      "[I 2024-12-28 00:42:57,668] Trial 65 finished with value: 1.168212 and parameters: {'learning_rate': 0.3840018097898478, 'n_estimators': 355, 'max_depth': 3, 'min_child_weight': 5, 'subsample': 0.7682793121612261, 'colsample_bytree': 0.7302083069881977, 'gamma': 2.87890489556555, 'lambda': 6.018790003188393, 'alpha': 9.129147005182174}. Best is trial 40 with value: 1.061457.\n"
     ]
    },
    {
     "name": "stdout",
     "output_type": "stream",
     "text": [
      "{'objective': 'reg:squaredlogerror', 'eval_metric': 'rmse', 'learning_rate': 0.44681457189311496, 'n_estimators': 480, 'max_depth': 5, 'min_child_weight': 23, 'subsample': 0.8477762769429256, 'colsample_bytree': 0.7837953307904348, 'gamma': 3.722409335782844, 'lambda': 6.645578666762099, 'alpha': 7.370578533087854, 'random_state': 42}\n"
     ]
    },
    {
     "name": "stderr",
     "output_type": "stream",
     "text": [
      "d:\\Development\\insurance\\venv\\lib\\site-packages\\xgboost\\training.py:38: UserWarning: `feval` is deprecated, use `custom_metric` instead.  They have different behavior when custom objective is also used.See https://xgboost.readthedocs.io/en/latest/tutorials/custom_metric_obj.html for details on the `custom_metric`.\n",
      "  warnings.warn(\n",
      "d:\\Development\\insurance\\venv\\lib\\site-packages\\xgboost\\core.py:158: UserWarning: [00:42:58] WARNING: C:\\buildkite-agent\\builds\\buildkite-windows-cpu-autoscaling-group-i-0c55ff5f71b100e98-1\\xgboost\\xgboost-ci-windows\\src\\learner.cc:740: \n",
      "Parameters: { \"n_estimators\" } are not used.\n",
      "\n",
      "  warnings.warn(smsg, UserWarning)\n"
     ]
    },
    {
     "name": "stdout",
     "output_type": "stream",
     "text": [
      "[0]\ttrain-rmse:1400.09286\ttrain-rmsle:4.33687\tvalidation-rmse:1400.23114\tvalidation-rmsle:4.33615\n",
      "[5]\ttrain-rmse:1392.24806\ttrain-rmsle:4.20875\tvalidation-rmse:1392.39020\tvalidation-rmsle:4.20803\n",
      "[10]\ttrain-rmse:1359.00887\ttrain-rmsle:2.80422\tvalidation-rmse:1359.16826\tvalidation-rmsle:2.80335\n",
      "[15]\ttrain-rmse:1253.98170\ttrain-rmsle:1.71413\tvalidation-rmse:1254.20340\tvalidation-rmsle:1.71299\n",
      "[20]\ttrain-rmse:1191.76430\ttrain-rmsle:1.44796\tvalidation-rmse:1192.02990\tvalidation-rmsle:1.44671\n",
      "[25]\ttrain-rmse:1191.76430\ttrain-rmsle:1.44796\tvalidation-rmse:1192.02990\tvalidation-rmsle:1.44671\n",
      "[27]\ttrain-rmse:1191.76430\ttrain-rmsle:1.44796\tvalidation-rmse:1192.02990\tvalidation-rmsle:1.44671\n"
     ]
    },
    {
     "name": "stderr",
     "output_type": "stream",
     "text": [
      "[I 2024-12-28 00:43:02,395] Trial 66 finished with value: 1.446712 and parameters: {'learning_rate': 0.44681457189311496, 'n_estimators': 480, 'max_depth': 5, 'min_child_weight': 23, 'subsample': 0.8477762769429256, 'colsample_bytree': 0.7837953307904348, 'gamma': 3.722409335782844, 'lambda': 6.645578666762099, 'alpha': 7.370578533087854}. Best is trial 40 with value: 1.061457.\n"
     ]
    },
    {
     "name": "stdout",
     "output_type": "stream",
     "text": [
      "{'objective': 'reg:squaredlogerror', 'eval_metric': 'rmse', 'learning_rate': 0.42632916158662554, 'n_estimators': 527, 'max_depth': 4, 'min_child_weight': 2, 'subsample': 0.7442171826908954, 'colsample_bytree': 0.8113045640595336, 'gamma': 4.653052647838815, 'lambda': 2.4455613943823185, 'alpha': 8.802344806248282, 'random_state': 42}\n"
     ]
    },
    {
     "name": "stderr",
     "output_type": "stream",
     "text": [
      "d:\\Development\\insurance\\venv\\lib\\site-packages\\xgboost\\training.py:38: UserWarning: `feval` is deprecated, use `custom_metric` instead.  They have different behavior when custom objective is also used.See https://xgboost.readthedocs.io/en/latest/tutorials/custom_metric_obj.html for details on the `custom_metric`.\n",
      "  warnings.warn(\n",
      "d:\\Development\\insurance\\venv\\lib\\site-packages\\xgboost\\core.py:158: UserWarning: [00:43:03] WARNING: C:\\buildkite-agent\\builds\\buildkite-windows-cpu-autoscaling-group-i-0c55ff5f71b100e98-1\\xgboost\\xgboost-ci-windows\\src\\learner.cc:740: \n",
      "Parameters: { \"n_estimators\" } are not used.\n",
      "\n",
      "  warnings.warn(smsg, UserWarning)\n"
     ]
    },
    {
     "name": "stdout",
     "output_type": "stream",
     "text": [
      "[0]\ttrain-rmse:1400.11862\ttrain-rmsle:4.33687\tvalidation-rmse:1400.25689\tvalidation-rmsle:4.33615\n",
      "[5]\ttrain-rmse:1392.94579\ttrain-rmsle:4.27971\tvalidation-rmse:1393.08754\tvalidation-rmsle:4.27899\n",
      "[10]\ttrain-rmse:1363.96237\ttrain-rmsle:2.91835\tvalidation-rmse:1364.11901\tvalidation-rmsle:2.91749\n",
      "[15]\ttrain-rmse:1270.96030\ttrain-rmsle:1.81351\tvalidation-rmse:1271.17086\tvalidation-rmsle:1.81241\n",
      "[20]\ttrain-rmse:1111.12488\ttrain-rmsle:1.24353\tvalidation-rmse:1111.45772\tvalidation-rmsle:1.24220\n",
      "[25]\ttrain-rmse:1010.76575\ttrain-rmsle:1.11986\tvalidation-rmse:1011.20709\tvalidation-rmsle:1.11851\n",
      "[30]\ttrain-rmse:972.04244\ttrain-rmsle:1.10068\tvalidation-rmse:972.53705\tvalidation-rmsle:1.09936\n",
      "[35]\ttrain-rmse:961.33074\ttrain-rmsle:1.09795\tvalidation-rmse:961.84176\tvalidation-rmsle:1.09664\n",
      "[40]\ttrain-rmse:961.33074\ttrain-rmsle:1.09795\tvalidation-rmse:961.84176\tvalidation-rmsle:1.09664\n",
      "[43]\ttrain-rmse:961.33074\ttrain-rmsle:1.09795\tvalidation-rmse:961.84176\tvalidation-rmsle:1.09664\n"
     ]
    },
    {
     "name": "stderr",
     "output_type": "stream",
     "text": [
      "[I 2024-12-28 00:43:08,453] Trial 67 finished with value: 1.096636 and parameters: {'learning_rate': 0.42632916158662554, 'n_estimators': 527, 'max_depth': 4, 'min_child_weight': 2, 'subsample': 0.7442171826908954, 'colsample_bytree': 0.8113045640595336, 'gamma': 4.653052647838815, 'lambda': 2.4455613943823185, 'alpha': 8.802344806248282}. Best is trial 40 with value: 1.061457.\n"
     ]
    },
    {
     "name": "stdout",
     "output_type": "stream",
     "text": [
      "{'objective': 'reg:squaredlogerror', 'eval_metric': 'rmse', 'learning_rate': 0.34675169312255405, 'n_estimators': 667, 'max_depth': 6, 'min_child_weight': 4, 'subsample': 0.713344950940442, 'colsample_bytree': 0.8572728944455772, 'gamma': 3.5192604590771186, 'lambda': 3.054646645297651, 'alpha': 6.911204169679004, 'random_state': 42}\n"
     ]
    },
    {
     "name": "stderr",
     "output_type": "stream",
     "text": [
      "d:\\Development\\insurance\\venv\\lib\\site-packages\\xgboost\\training.py:38: UserWarning: `feval` is deprecated, use `custom_metric` instead.  They have different behavior when custom objective is also used.See https://xgboost.readthedocs.io/en/latest/tutorials/custom_metric_obj.html for details on the `custom_metric`.\n",
      "  warnings.warn(\n",
      "d:\\Development\\insurance\\venv\\lib\\site-packages\\xgboost\\core.py:158: UserWarning: [00:43:09] WARNING: C:\\buildkite-agent\\builds\\buildkite-windows-cpu-autoscaling-group-i-0c55ff5f71b100e98-1\\xgboost\\xgboost-ci-windows\\src\\learner.cc:740: \n",
      "Parameters: { \"n_estimators\" } are not used.\n",
      "\n",
      "  warnings.warn(smsg, UserWarning)\n"
     ]
    },
    {
     "name": "stdout",
     "output_type": "stream",
     "text": [
      "[0]\ttrain-rmse:1400.21889\ttrain-rmsle:4.33687\tvalidation-rmse:1400.35710\tvalidation-rmsle:4.33615\n",
      "[5]\ttrain-rmse:1395.29827\ttrain-rmsle:4.33687\tvalidation-rmse:1395.43888\tvalidation-rmsle:4.33615\n",
      "[10]\ttrain-rmse:1379.11836\ttrain-rmsle:3.39605\tvalidation-rmse:1379.26715\tvalidation-rmsle:3.39525\n",
      "[15]\ttrain-rmse:1331.98632\ttrain-rmsle:2.35790\tvalidation-rmse:1332.16051\tvalidation-rmsle:2.35694\n",
      "[20]\ttrain-rmse:1227.85678\ttrain-rmsle:1.58655\tvalidation-rmse:1228.09617\tvalidation-rmsle:1.58536\n",
      "[25]\ttrain-rmse:1102.16553\ttrain-rmsle:1.22753\tvalidation-rmse:1102.50703\tvalidation-rmsle:1.22620\n",
      "[30]\ttrain-rmse:1036.42710\ttrain-rmsle:1.14079\tvalidation-rmse:1036.83759\tvalidation-rmsle:1.13944\n",
      "[35]\ttrain-rmse:1036.42710\ttrain-rmsle:1.14079\tvalidation-rmse:1036.83759\tvalidation-rmsle:1.13944\n",
      "[39]\ttrain-rmse:1036.42710\ttrain-rmsle:1.14079\tvalidation-rmse:1036.83759\tvalidation-rmsle:1.13944\n"
     ]
    },
    {
     "name": "stderr",
     "output_type": "stream",
     "text": [
      "[I 2024-12-28 00:43:14,084] Trial 68 finished with value: 1.139436 and parameters: {'learning_rate': 0.34675169312255405, 'n_estimators': 667, 'max_depth': 6, 'min_child_weight': 4, 'subsample': 0.713344950940442, 'colsample_bytree': 0.8572728944455772, 'gamma': 3.5192604590771186, 'lambda': 3.054646645297651, 'alpha': 6.911204169679004}. Best is trial 40 with value: 1.061457.\n"
     ]
    },
    {
     "name": "stdout",
     "output_type": "stream",
     "text": [
      "{'objective': 'reg:squaredlogerror', 'eval_metric': 'rmse', 'learning_rate': 0.3110015175299482, 'n_estimators': 579, 'max_depth': 5, 'min_child_weight': 6, 'subsample': 0.7936671525651308, 'colsample_bytree': 0.6899917759522753, 'gamma': 1.1675016676727406, 'lambda': 3.7376839035734655, 'alpha': 7.832124554808491, 'random_state': 42}\n"
     ]
    },
    {
     "name": "stderr",
     "output_type": "stream",
     "text": [
      "d:\\Development\\insurance\\venv\\lib\\site-packages\\xgboost\\training.py:38: UserWarning: `feval` is deprecated, use `custom_metric` instead.  They have different behavior when custom objective is also used.See https://xgboost.readthedocs.io/en/latest/tutorials/custom_metric_obj.html for details on the `custom_metric`.\n",
      "  warnings.warn(\n",
      "d:\\Development\\insurance\\venv\\lib\\site-packages\\xgboost\\core.py:158: UserWarning: [00:43:15] WARNING: C:\\buildkite-agent\\builds\\buildkite-windows-cpu-autoscaling-group-i-0c55ff5f71b100e98-1\\xgboost\\xgboost-ci-windows\\src\\learner.cc:740: \n",
      "Parameters: { \"n_estimators\" } are not used.\n",
      "\n",
      "  warnings.warn(smsg, UserWarning)\n"
     ]
    },
    {
     "name": "stdout",
     "output_type": "stream",
     "text": [
      "[0]\ttrain-rmse:1400.26390\ttrain-rmsle:4.33687\tvalidation-rmse:1400.40209\tvalidation-rmsle:4.33615\n",
      "[5]\ttrain-rmse:1396.18345\ttrain-rmsle:4.33687\tvalidation-rmse:1396.32363\tvalidation-rmsle:4.33615\n",
      "[10]\ttrain-rmse:1384.05411\ttrain-rmsle:3.62632\tvalidation-rmse:1384.20042\tvalidation-rmsle:3.62554\n",
      "[15]\ttrain-rmse:1351.05812\ttrain-rmsle:2.64731\tvalidation-rmse:1351.22182\tvalidation-rmsle:2.64641\n",
      "[20]\ttrain-rmse:1276.04745\ttrain-rmsle:1.84637\tvalidation-rmse:1276.25500\tvalidation-rmsle:1.84527\n",
      "[25]\ttrain-rmse:1162.14527\ttrain-rmsle:1.35871\tvalidation-rmse:1162.43421\tvalidation-rmsle:1.35743\n",
      "[30]\ttrain-rmse:1067.88303\ttrain-rmsle:1.17594\tvalidation-rmse:1068.25893\tvalidation-rmsle:1.17459\n",
      "[35]\ttrain-rmse:1067.88303\ttrain-rmsle:1.17594\tvalidation-rmse:1068.25893\tvalidation-rmsle:1.17459\n",
      "[39]\ttrain-rmse:1067.88303\ttrain-rmsle:1.17594\tvalidation-rmse:1068.25893\tvalidation-rmsle:1.17459\n"
     ]
    },
    {
     "name": "stderr",
     "output_type": "stream",
     "text": [
      "[I 2024-12-28 00:43:20,004] Trial 69 finished with value: 1.174592 and parameters: {'learning_rate': 0.3110015175299482, 'n_estimators': 579, 'max_depth': 5, 'min_child_weight': 6, 'subsample': 0.7936671525651308, 'colsample_bytree': 0.6899917759522753, 'gamma': 1.1675016676727406, 'lambda': 3.7376839035734655, 'alpha': 7.832124554808491}. Best is trial 40 with value: 1.061457.\n"
     ]
    },
    {
     "name": "stdout",
     "output_type": "stream",
     "text": [
      "{'objective': 'reg:squaredlogerror', 'eval_metric': 'rmse', 'learning_rate': 0.22236632361638128, 'n_estimators': 717, 'max_depth': 4, 'min_child_weight': 1, 'subsample': 0.6912394516885711, 'colsample_bytree': 0.7109207681231241, 'gamma': 2.8325966647484977, 'lambda': 4.42139807737781, 'alpha': 9.661139323941425, 'random_state': 42}\n"
     ]
    },
    {
     "name": "stderr",
     "output_type": "stream",
     "text": [
      "d:\\Development\\insurance\\venv\\lib\\site-packages\\xgboost\\training.py:38: UserWarning: `feval` is deprecated, use `custom_metric` instead.  They have different behavior when custom objective is also used.See https://xgboost.readthedocs.io/en/latest/tutorials/custom_metric_obj.html for details on the `custom_metric`.\n",
      "  warnings.warn(\n",
      "d:\\Development\\insurance\\venv\\lib\\site-packages\\xgboost\\core.py:158: UserWarning: [00:43:21] WARNING: C:\\buildkite-agent\\builds\\buildkite-windows-cpu-autoscaling-group-i-0c55ff5f71b100e98-1\\xgboost\\xgboost-ci-windows\\src\\learner.cc:740: \n",
      "Parameters: { \"n_estimators\" } are not used.\n",
      "\n",
      "  warnings.warn(smsg, UserWarning)\n"
     ]
    },
    {
     "name": "stdout",
     "output_type": "stream",
     "text": [
      "[0]\ttrain-rmse:1400.37557\ttrain-rmsle:4.33687\tvalidation-rmse:1400.51371\tvalidation-rmsle:4.33615\n",
      "[5]\ttrain-rmse:1397.98688\ttrain-rmsle:4.33687\tvalidation-rmse:1398.12619\tvalidation-rmsle:4.33615\n",
      "[10]\ttrain-rmse:1392.56482\ttrain-rmsle:4.23972\tvalidation-rmse:1392.70682\tvalidation-rmsle:4.23900\n",
      "[15]\ttrain-rmse:1380.73255\ttrain-rmsle:3.46496\tvalidation-rmse:1380.88056\tvalidation-rmsle:3.46417\n",
      "[20]\ttrain-rmse:1356.33056\ttrain-rmsle:2.74804\tvalidation-rmse:1356.49141\tvalidation-rmsle:2.74715\n",
      "[25]\ttrain-rmse:1310.72252\ttrain-rmsle:2.12216\tvalidation-rmse:1310.90901\tvalidation-rmsle:2.12115\n",
      "[30]\ttrain-rmse:1240.25884\ttrain-rmsle:1.64375\tvalidation-rmse:1240.48980\tvalidation-rmsle:1.64259\n",
      "[35]\ttrain-rmse:1160.48628\ttrain-rmsle:1.35426\tvalidation-rmse:1160.77661\tvalidation-rmsle:1.35298\n",
      "[40]\ttrain-rmse:1095.20492\ttrain-rmsle:1.21587\tvalidation-rmse:1095.55330\tvalidation-rmsle:1.21453\n",
      "[45]\ttrain-rmse:1050.96861\ttrain-rmsle:1.15462\tvalidation-rmse:1051.34626\tvalidation-rmsle:1.15322\n",
      "[50]\ttrain-rmse:1022.24312\ttrain-rmsle:1.12462\tvalidation-rmse:1022.60215\tvalidation-rmsle:1.12309\n",
      "[55]\ttrain-rmse:1002.19942\ttrain-rmsle:1.10850\tvalidation-rmse:1002.53321\tvalidation-rmsle:1.10688\n",
      "[60]\ttrain-rmse:987.59548\ttrain-rmsle:1.09900\tvalidation-rmse:987.90619\tvalidation-rmsle:1.09732\n",
      "[65]\ttrain-rmse:977.64188\ttrain-rmsle:1.09299\tvalidation-rmse:977.93022\tvalidation-rmsle:1.09124\n",
      "[70]\ttrain-rmse:969.29987\ttrain-rmsle:1.08894\tvalidation-rmse:969.57471\tvalidation-rmsle:1.08715\n",
      "[75]\ttrain-rmse:962.71314\ttrain-rmsle:1.08619\tvalidation-rmse:962.97915\tvalidation-rmsle:1.08437\n",
      "[80]\ttrain-rmse:956.86820\ttrain-rmsle:1.08434\tvalidation-rmse:957.13346\tvalidation-rmsle:1.08251\n",
      "[85]\ttrain-rmse:951.94356\ttrain-rmsle:1.08325\tvalidation-rmse:952.21427\tvalidation-rmsle:1.08143\n",
      "[90]\ttrain-rmse:948.30612\ttrain-rmsle:1.08260\tvalidation-rmse:948.58094\tvalidation-rmsle:1.08079\n",
      "[95]\ttrain-rmse:945.52281\ttrain-rmsle:1.08220\tvalidation-rmse:945.80083\tvalidation-rmsle:1.08040\n",
      "[100]\ttrain-rmse:943.40556\ttrain-rmsle:1.08194\tvalidation-rmse:943.68605\tvalidation-rmsle:1.08015\n",
      "[105]\ttrain-rmse:941.80837\ttrain-rmsle:1.08178\tvalidation-rmse:942.09074\tvalidation-rmsle:1.07999\n",
      "[110]\ttrain-rmse:940.56128\ttrain-rmsle:1.08168\tvalidation-rmse:940.84513\tvalidation-rmsle:1.07989\n",
      "[115]\ttrain-rmse:939.65066\ttrain-rmsle:1.08161\tvalidation-rmse:939.93560\tvalidation-rmsle:1.07983\n",
      "[120]\ttrain-rmse:938.90161\ttrain-rmsle:1.08157\tvalidation-rmse:939.18746\tvalidation-rmsle:1.07978\n",
      "[125]\ttrain-rmse:938.32187\ttrain-rmsle:1.08153\tvalidation-rmse:938.60841\tvalidation-rmsle:1.07975\n",
      "[130]\ttrain-rmse:937.86281\ttrain-rmsle:1.08151\tvalidation-rmse:938.14991\tvalidation-rmsle:1.07973\n",
      "[135]\ttrain-rmse:937.53728\ttrain-rmsle:1.08149\tvalidation-rmse:937.82477\tvalidation-rmsle:1.07971\n",
      "[140]\ttrain-rmse:937.25600\ttrain-rmsle:1.08148\tvalidation-rmse:937.54383\tvalidation-rmsle:1.07970\n",
      "[145]\ttrain-rmse:937.05576\ttrain-rmsle:1.08147\tvalidation-rmse:937.34384\tvalidation-rmsle:1.07969\n",
      "[150]\ttrain-rmse:936.88001\ttrain-rmsle:1.08146\tvalidation-rmse:937.16830\tvalidation-rmsle:1.07969\n",
      "[155]\ttrain-rmse:936.78063\ttrain-rmsle:1.08146\tvalidation-rmse:937.06904\tvalidation-rmsle:1.07968\n",
      "[160]\ttrain-rmse:936.69049\ttrain-rmsle:1.08146\tvalidation-rmse:936.97901\tvalidation-rmsle:1.07968\n",
      "[165]\ttrain-rmse:936.59946\ttrain-rmsle:1.08145\tvalidation-rmse:936.88809\tvalidation-rmsle:1.07967\n",
      "[170]\ttrain-rmse:936.55635\ttrain-rmsle:1.08145\tvalidation-rmse:936.84504\tvalidation-rmsle:1.07967\n",
      "[175]\ttrain-rmse:936.53089\ttrain-rmsle:1.08145\tvalidation-rmse:936.81961\tvalidation-rmsle:1.07967\n",
      "[180]\ttrain-rmse:936.51211\ttrain-rmsle:1.08145\tvalidation-rmse:936.80085\tvalidation-rmsle:1.07967\n",
      "[185]\ttrain-rmse:936.46030\ttrain-rmsle:1.08145\tvalidation-rmse:936.74910\tvalidation-rmsle:1.07967\n",
      "[190]\ttrain-rmse:936.41599\ttrain-rmsle:1.08145\tvalidation-rmse:936.70485\tvalidation-rmsle:1.07967\n",
      "[195]\ttrain-rmse:936.39899\ttrain-rmsle:1.08145\tvalidation-rmse:936.68787\tvalidation-rmsle:1.07967\n",
      "[200]\ttrain-rmse:936.34116\ttrain-rmsle:1.08144\tvalidation-rmse:936.63010\tvalidation-rmsle:1.07967\n",
      "[205]\ttrain-rmse:936.32551\ttrain-rmsle:1.08144\tvalidation-rmse:936.61447\tvalidation-rmsle:1.07967\n",
      "[210]\ttrain-rmse:936.28266\ttrain-rmsle:1.08144\tvalidation-rmse:936.57168\tvalidation-rmsle:1.07967\n",
      "[215]\ttrain-rmse:936.23565\ttrain-rmsle:1.08144\tvalidation-rmse:936.52473\tvalidation-rmsle:1.07966\n",
      "[220]\ttrain-rmse:936.22760\ttrain-rmsle:1.08144\tvalidation-rmse:936.51669\tvalidation-rmsle:1.07966\n",
      "[225]\ttrain-rmse:936.22050\ttrain-rmsle:1.08144\tvalidation-rmse:936.50959\tvalidation-rmsle:1.07966\n",
      "[228]\ttrain-rmse:936.22050\ttrain-rmsle:1.08144\tvalidation-rmse:936.50959\tvalidation-rmsle:1.07966\n"
     ]
    },
    {
     "name": "stderr",
     "output_type": "stream",
     "text": [
      "[I 2024-12-28 00:43:42,295] Trial 70 finished with value: 1.079663 and parameters: {'learning_rate': 0.22236632361638128, 'n_estimators': 717, 'max_depth': 4, 'min_child_weight': 1, 'subsample': 0.6912394516885711, 'colsample_bytree': 0.7109207681231241, 'gamma': 2.8325966647484977, 'lambda': 4.42139807737781, 'alpha': 9.661139323941425}. Best is trial 40 with value: 1.061457.\n"
     ]
    },
    {
     "name": "stdout",
     "output_type": "stream",
     "text": [
      "{'objective': 'reg:squaredlogerror', 'eval_metric': 'rmse', 'learning_rate': 0.18991780087956542, 'n_estimators': 714, 'max_depth': 4, 'min_child_weight': 1, 'subsample': 0.6974075008820964, 'colsample_bytree': 0.7390101006054854, 'gamma': 2.90370817023238, 'lambda': 4.421620308117608, 'alpha': 9.575261129751233, 'random_state': 42}\n"
     ]
    },
    {
     "name": "stderr",
     "output_type": "stream",
     "text": [
      "d:\\Development\\insurance\\venv\\lib\\site-packages\\xgboost\\training.py:38: UserWarning: `feval` is deprecated, use `custom_metric` instead.  They have different behavior when custom objective is also used.See https://xgboost.readthedocs.io/en/latest/tutorials/custom_metric_obj.html for details on the `custom_metric`.\n",
      "  warnings.warn(\n",
      "d:\\Development\\insurance\\venv\\lib\\site-packages\\xgboost\\core.py:158: UserWarning: [00:43:43] WARNING: C:\\buildkite-agent\\builds\\buildkite-windows-cpu-autoscaling-group-i-0c55ff5f71b100e98-1\\xgboost\\xgboost-ci-windows\\src\\learner.cc:740: \n",
      "Parameters: { \"n_estimators\" } are not used.\n",
      "\n",
      "  warnings.warn(smsg, UserWarning)\n"
     ]
    },
    {
     "name": "stdout",
     "output_type": "stream",
     "text": [
      "[0]\ttrain-rmse:1400.41645\ttrain-rmsle:4.33687\tvalidation-rmse:1400.55456\tvalidation-rmsle:4.33615\n",
      "[5]\ttrain-rmse:1398.52368\ttrain-rmsle:4.33687\tvalidation-rmse:1398.66274\tvalidation-rmsle:4.33615\n",
      "[10]\ttrain-rmse:1394.66262\ttrain-rmsle:4.33687\tvalidation-rmse:1394.80362\tvalidation-rmsle:4.33615\n"
     ]
    },
    {
     "name": "stderr",
     "output_type": "stream",
     "text": [
      "[I 2024-12-28 00:43:45,416] Trial 71 finished with value: 4.336152 and parameters: {'learning_rate': 0.18991780087956542, 'n_estimators': 714, 'max_depth': 4, 'min_child_weight': 1, 'subsample': 0.6974075008820964, 'colsample_bytree': 0.7390101006054854, 'gamma': 2.90370817023238, 'lambda': 4.421620308117608, 'alpha': 9.575261129751233}. Best is trial 40 with value: 1.061457.\n"
     ]
    },
    {
     "name": "stdout",
     "output_type": "stream",
     "text": [
      "{'objective': 'reg:squaredlogerror', 'eval_metric': 'rmse', 'learning_rate': 0.22241094169993703, 'n_estimators': 792, 'max_depth': 4, 'min_child_weight': 3, 'subsample': 0.8268706788480208, 'colsample_bytree': 0.7052539745561828, 'gamma': 2.0436880421936547, 'lambda': 4.959255686233238, 'alpha': 9.06173452411318, 'random_state': 42}\n"
     ]
    },
    {
     "name": "stderr",
     "output_type": "stream",
     "text": [
      "d:\\Development\\insurance\\venv\\lib\\site-packages\\xgboost\\training.py:38: UserWarning: `feval` is deprecated, use `custom_metric` instead.  They have different behavior when custom objective is also used.See https://xgboost.readthedocs.io/en/latest/tutorials/custom_metric_obj.html for details on the `custom_metric`.\n",
      "  warnings.warn(\n",
      "d:\\Development\\insurance\\venv\\lib\\site-packages\\xgboost\\core.py:158: UserWarning: [00:43:46] WARNING: C:\\buildkite-agent\\builds\\buildkite-windows-cpu-autoscaling-group-i-0c55ff5f71b100e98-1\\xgboost\\xgboost-ci-windows\\src\\learner.cc:740: \n",
      "Parameters: { \"n_estimators\" } are not used.\n",
      "\n",
      "  warnings.warn(smsg, UserWarning)\n"
     ]
    },
    {
     "name": "stdout",
     "output_type": "stream",
     "text": [
      "[0]\ttrain-rmse:1400.37544\ttrain-rmsle:4.33687\tvalidation-rmse:1400.51357\tvalidation-rmsle:4.33615\n",
      "[5]\ttrain-rmse:1397.98542\ttrain-rmsle:4.33687\tvalidation-rmse:1398.12472\tvalidation-rmsle:4.33615\n",
      "[10]\ttrain-rmse:1392.56052\ttrain-rmsle:4.23936\tvalidation-rmse:1392.70254\tvalidation-rmsle:4.23865\n",
      "[15]\ttrain-rmse:1380.71699\ttrain-rmsle:3.46445\tvalidation-rmse:1380.86503\tvalidation-rmsle:3.46366\n",
      "[20]\ttrain-rmse:1356.29201\ttrain-rmsle:2.74732\tvalidation-rmse:1356.45290\tvalidation-rmsle:2.74644\n",
      "[25]\ttrain-rmse:1310.59927\ttrain-rmsle:2.12100\tvalidation-rmse:1310.78583\tvalidation-rmsle:2.11998\n",
      "[30]\ttrain-rmse:1239.76721\ttrain-rmsle:1.64138\tvalidation-rmse:1239.99849\tvalidation-rmsle:1.64021\n",
      "[35]\ttrain-rmse:1159.09473\ttrain-rmsle:1.35056\tvalidation-rmse:1159.38614\tvalidation-rmsle:1.34927\n",
      "[40]\ttrain-rmse:1092.85228\ttrain-rmsle:1.21205\tvalidation-rmse:1093.20287\tvalidation-rmsle:1.21070\n",
      "[45]\ttrain-rmse:1047.33403\ttrain-rmsle:1.15176\tvalidation-rmse:1047.73220\tvalidation-rmsle:1.15040\n",
      "[50]\ttrain-rmse:1017.21424\ttrain-rmsle:1.12456\tvalidation-rmse:1017.64796\tvalidation-rmsle:1.12321\n",
      "[55]\ttrain-rmse:996.92651\ttrain-rmsle:1.11142\tvalidation-rmse:997.38644\tvalidation-rmsle:1.11008\n",
      "[60]\ttrain-rmse:996.92651\ttrain-rmsle:1.11142\tvalidation-rmse:997.38644\tvalidation-rmsle:1.11008\n",
      "[64]\ttrain-rmse:996.92651\ttrain-rmsle:1.11142\tvalidation-rmse:997.38644\tvalidation-rmsle:1.11008\n"
     ]
    },
    {
     "name": "stderr",
     "output_type": "stream",
     "text": [
      "[I 2024-12-28 00:43:53,520] Trial 72 finished with value: 1.110076 and parameters: {'learning_rate': 0.22241094169993703, 'n_estimators': 792, 'max_depth': 4, 'min_child_weight': 3, 'subsample': 0.8268706788480208, 'colsample_bytree': 0.7052539745561828, 'gamma': 2.0436880421936547, 'lambda': 4.959255686233238, 'alpha': 9.06173452411318}. Best is trial 40 with value: 1.061457.\n"
     ]
    },
    {
     "name": "stdout",
     "output_type": "stream",
     "text": [
      "{'objective': 'reg:squaredlogerror', 'eval_metric': 'rmse', 'learning_rate': 0.12126005782868154, 'n_estimators': 826, 'max_depth': 5, 'min_child_weight': 2, 'subsample': 0.6888122629356684, 'colsample_bytree': 0.6703683624063875, 'gamma': 4.107237738183551, 'lambda': 5.462239968623554, 'alpha': 8.735497834204299, 'random_state': 42}\n"
     ]
    },
    {
     "name": "stderr",
     "output_type": "stream",
     "text": [
      "d:\\Development\\insurance\\venv\\lib\\site-packages\\xgboost\\training.py:38: UserWarning: `feval` is deprecated, use `custom_metric` instead.  They have different behavior when custom objective is also used.See https://xgboost.readthedocs.io/en/latest/tutorials/custom_metric_obj.html for details on the `custom_metric`.\n",
      "  warnings.warn(\n",
      "d:\\Development\\insurance\\venv\\lib\\site-packages\\xgboost\\core.py:158: UserWarning: [00:43:54] WARNING: C:\\buildkite-agent\\builds\\buildkite-windows-cpu-autoscaling-group-i-0c55ff5f71b100e98-1\\xgboost\\xgboost-ci-windows\\src\\learner.cc:740: \n",
      "Parameters: { \"n_estimators\" } are not used.\n",
      "\n",
      "  warnings.warn(smsg, UserWarning)\n"
     ]
    },
    {
     "name": "stdout",
     "output_type": "stream",
     "text": [
      "[0]\ttrain-rmse:1400.50292\ttrain-rmsle:4.33687\tvalidation-rmse:1400.64099\tvalidation-rmsle:4.33615\n",
      "[5]\ttrain-rmse:1399.47507\ttrain-rmsle:4.33687\tvalidation-rmse:1399.61366\tvalidation-rmsle:4.33615\n",
      "[9]\ttrain-rmse:1398.22075\ttrain-rmsle:4.33687\tvalidation-rmse:1398.35996\tvalidation-rmsle:4.33615\n"
     ]
    },
    {
     "name": "stderr",
     "output_type": "stream",
     "text": [
      "[I 2024-12-28 00:43:56,630] Trial 73 finished with value: 4.336152 and parameters: {'learning_rate': 0.12126005782868154, 'n_estimators': 826, 'max_depth': 5, 'min_child_weight': 2, 'subsample': 0.6888122629356684, 'colsample_bytree': 0.6703683624063875, 'gamma': 4.107237738183551, 'lambda': 5.462239968623554, 'alpha': 8.735497834204299}. Best is trial 40 with value: 1.061457.\n"
     ]
    },
    {
     "name": "stdout",
     "output_type": "stream",
     "text": [
      "{'objective': 'reg:squaredlogerror', 'eval_metric': 'rmse', 'learning_rate': 0.22658432284187224, 'n_estimators': 444, 'max_depth': 4, 'min_child_weight': 5, 'subsample': 0.7599017581712678, 'colsample_bytree': 0.6236563127637362, 'gamma': 2.699769291577822, 'lambda': 5.590041698334508, 'alpha': 9.386070558348298, 'random_state': 42}\n"
     ]
    },
    {
     "name": "stderr",
     "output_type": "stream",
     "text": [
      "d:\\Development\\insurance\\venv\\lib\\site-packages\\xgboost\\training.py:38: UserWarning: `feval` is deprecated, use `custom_metric` instead.  They have different behavior when custom objective is also used.See https://xgboost.readthedocs.io/en/latest/tutorials/custom_metric_obj.html for details on the `custom_metric`.\n",
      "  warnings.warn(\n",
      "d:\\Development\\insurance\\venv\\lib\\site-packages\\xgboost\\core.py:158: UserWarning: [00:43:57] WARNING: C:\\buildkite-agent\\builds\\buildkite-windows-cpu-autoscaling-group-i-0c55ff5f71b100e98-1\\xgboost\\xgboost-ci-windows\\src\\learner.cc:740: \n",
      "Parameters: { \"n_estimators\" } are not used.\n",
      "\n",
      "  warnings.warn(smsg, UserWarning)\n"
     ]
    },
    {
     "name": "stdout",
     "output_type": "stream",
     "text": [
      "[0]\ttrain-rmse:1400.37025\ttrain-rmsle:4.33687\tvalidation-rmse:1400.50838\tvalidation-rmsle:4.33615\n",
      "[5]\ttrain-rmse:1397.91256\ttrain-rmsle:4.33687\tvalidation-rmse:1398.05192\tvalidation-rmsle:4.33615\n",
      "[10]\ttrain-rmse:1392.25944\ttrain-rmsle:4.20915\tvalidation-rmse:1392.40164\tvalidation-rmsle:4.20844\n",
      "[15]\ttrain-rmse:1379.77343\ttrain-rmsle:3.42312\tvalidation-rmse:1379.92199\tvalidation-rmsle:3.42233\n",
      "[20]\ttrain-rmse:1353.81810\ttrain-rmsle:2.69857\tvalidation-rmse:1353.98036\tvalidation-rmsle:2.69768\n",
      "[25]\ttrain-rmse:1305.40630\ttrain-rmsle:2.07273\tvalidation-rmse:1305.59597\tvalidation-rmsle:2.07171\n",
      "[30]\ttrain-rmse:1232.45477\ttrain-rmsle:1.60711\tvalidation-rmse:1232.69112\tvalidation-rmsle:1.60594\n",
      "[35]\ttrain-rmse:1153.92913\ttrain-rmsle:1.33716\tvalidation-rmse:1154.22489\tvalidation-rmsle:1.33587\n",
      "[40]\ttrain-rmse:1092.19585\ttrain-rmsle:1.21101\tvalidation-rmse:1092.54718\tvalidation-rmsle:1.20967\n",
      "[45]\ttrain-rmse:1064.84000\ttrain-rmsle:1.17207\tvalidation-rmse:1065.21919\tvalidation-rmsle:1.17072\n",
      "[50]\ttrain-rmse:1064.84000\ttrain-rmsle:1.17207\tvalidation-rmse:1065.21919\tvalidation-rmsle:1.17072\n",
      "[52]\ttrain-rmse:1064.84000\ttrain-rmsle:1.17207\tvalidation-rmse:1065.21919\tvalidation-rmsle:1.17072\n"
     ]
    },
    {
     "name": "stderr",
     "output_type": "stream",
     "text": [
      "[I 2024-12-28 00:44:03,626] Trial 74 finished with value: 1.17072 and parameters: {'learning_rate': 0.22658432284187224, 'n_estimators': 444, 'max_depth': 4, 'min_child_weight': 5, 'subsample': 0.7599017581712678, 'colsample_bytree': 0.6236563127637362, 'gamma': 2.699769291577822, 'lambda': 5.590041698334508, 'alpha': 9.386070558348298}. Best is trial 40 with value: 1.061457.\n"
     ]
    },
    {
     "name": "stdout",
     "output_type": "stream",
     "text": [
      "{'objective': 'reg:squaredlogerror', 'eval_metric': 'rmse', 'learning_rate': 0.40617986412098867, 'n_estimators': 400, 'max_depth': 6, 'min_child_weight': 8, 'subsample': 0.6493870123268533, 'colsample_bytree': 0.7667126858830599, 'gamma': 3.158630215832314, 'lambda': 4.256592875855427, 'alpha': 8.0073103105151, 'random_state': 42}\n"
     ]
    },
    {
     "name": "stderr",
     "output_type": "stream",
     "text": [
      "d:\\Development\\insurance\\venv\\lib\\site-packages\\xgboost\\training.py:38: UserWarning: `feval` is deprecated, use `custom_metric` instead.  They have different behavior when custom objective is also used.See https://xgboost.readthedocs.io/en/latest/tutorials/custom_metric_obj.html for details on the `custom_metric`.\n",
      "  warnings.warn(\n",
      "d:\\Development\\insurance\\venv\\lib\\site-packages\\xgboost\\core.py:158: UserWarning: [00:44:04] WARNING: C:\\buildkite-agent\\builds\\buildkite-windows-cpu-autoscaling-group-i-0c55ff5f71b100e98-1\\xgboost\\xgboost-ci-windows\\src\\learner.cc:740: \n",
      "Parameters: { \"n_estimators\" } are not used.\n",
      "\n",
      "  warnings.warn(smsg, UserWarning)\n"
     ]
    },
    {
     "name": "stdout",
     "output_type": "stream",
     "text": [
      "[0]\ttrain-rmse:1400.14408\ttrain-rmsle:4.33687\tvalidation-rmse:1400.28233\tvalidation-rmsle:4.33615\n",
      "[5]\ttrain-rmse:1393.59760\ttrain-rmsle:4.33687\tvalidation-rmse:1393.73918\tvalidation-rmsle:4.33615\n",
      "[10]\ttrain-rmse:1368.44479\ttrain-rmsle:3.03519\tvalidation-rmse:1368.59934\tvalidation-rmsle:3.03435\n",
      "[15]\ttrain-rmse:1289.68353\ttrain-rmsle:1.94293\tvalidation-rmse:1289.88274\tvalidation-rmsle:1.94187\n",
      "[20]\ttrain-rmse:1150.13124\ttrain-rmsle:1.32760\tvalidation-rmse:1150.43016\tvalidation-rmsle:1.32631\n",
      "[25]\ttrain-rmse:1124.57101\ttrain-rmsle:1.26984\tvalidation-rmse:1124.89204\tvalidation-rmsle:1.26852\n",
      "[30]\ttrain-rmse:1124.57101\ttrain-rmsle:1.26984\tvalidation-rmse:1124.89204\tvalidation-rmsle:1.26852\n",
      "[31]\ttrain-rmse:1124.57101\ttrain-rmsle:1.26984\tvalidation-rmse:1124.89204\tvalidation-rmsle:1.26852\n"
     ]
    },
    {
     "name": "stderr",
     "output_type": "stream",
     "text": [
      "[I 2024-12-28 00:44:08,569] Trial 75 finished with value: 1.268518 and parameters: {'learning_rate': 0.40617986412098867, 'n_estimators': 400, 'max_depth': 6, 'min_child_weight': 8, 'subsample': 0.6493870123268533, 'colsample_bytree': 0.7667126858830599, 'gamma': 3.158630215832314, 'lambda': 4.256592875855427, 'alpha': 8.0073103105151}. Best is trial 40 with value: 1.061457.\n"
     ]
    },
    {
     "name": "stdout",
     "output_type": "stream",
     "text": [
      "{'objective': 'reg:squaredlogerror', 'eval_metric': 'rmse', 'learning_rate': 0.3850294672750767, 'n_estimators': 953, 'max_depth': 3, 'min_child_weight': 1, 'subsample': 0.7277943840609387, 'colsample_bytree': 0.7463619516569802, 'gamma': 1.684926293432985, 'lambda': 4.764204525472828, 'alpha': 9.771778846036021, 'random_state': 42}\n"
     ]
    },
    {
     "name": "stderr",
     "output_type": "stream",
     "text": [
      "d:\\Development\\insurance\\venv\\lib\\site-packages\\xgboost\\training.py:38: UserWarning: `feval` is deprecated, use `custom_metric` instead.  They have different behavior when custom objective is also used.See https://xgboost.readthedocs.io/en/latest/tutorials/custom_metric_obj.html for details on the `custom_metric`.\n",
      "  warnings.warn(\n",
      "d:\\Development\\insurance\\venv\\lib\\site-packages\\xgboost\\core.py:158: UserWarning: [00:44:09] WARNING: C:\\buildkite-agent\\builds\\buildkite-windows-cpu-autoscaling-group-i-0c55ff5f71b100e98-1\\xgboost\\xgboost-ci-windows\\src\\learner.cc:740: \n",
      "Parameters: { \"n_estimators\" } are not used.\n",
      "\n",
      "  warnings.warn(smsg, UserWarning)\n"
     ]
    },
    {
     "name": "stdout",
     "output_type": "stream",
     "text": [
      "[0]\ttrain-rmse:1400.17070\ttrain-rmsle:4.33687\tvalidation-rmse:1400.30894\tvalidation-rmsle:4.33615\n",
      "[5]\ttrain-rmse:1394.23837\ttrain-rmsle:4.33687\tvalidation-rmse:1394.37958\tvalidation-rmsle:4.33615\n",
      "[10]\ttrain-rmse:1372.64118\ttrain-rmsle:3.16057\tvalidation-rmse:1372.79344\tvalidation-rmsle:3.15974\n",
      "[15]\ttrain-rmse:1306.35988\ttrain-rmsle:2.08139\tvalidation-rmse:1306.54896\tvalidation-rmsle:2.08037\n",
      "[20]\ttrain-rmse:1177.74960\ttrain-rmsle:1.40335\tvalidation-rmse:1178.02610\tvalidation-rmsle:1.40209\n",
      "[25]\ttrain-rmse:1069.56251\ttrain-rmsle:1.17591\tvalidation-rmse:1069.92508\tvalidation-rmsle:1.17448\n",
      "[30]\ttrain-rmse:1014.00454\ttrain-rmsle:1.11597\tvalidation-rmse:1014.38999\tvalidation-rmsle:1.11441\n",
      "[35]\ttrain-rmse:985.07211\ttrain-rmsle:1.09664\tvalidation-rmse:985.44538\tvalidation-rmsle:1.09501\n",
      "[40]\ttrain-rmse:968.75566\ttrain-rmsle:1.08784\tvalidation-rmse:969.10711\tvalidation-rmsle:1.08614\n",
      "[45]\ttrain-rmse:958.73582\ttrain-rmsle:1.08322\tvalidation-rmse:959.06342\tvalidation-rmsle:1.08145\n",
      "[50]\ttrain-rmse:951.10166\ttrain-rmsle:1.08042\tvalidation-rmse:951.40436\tvalidation-rmsle:1.07861\n",
      "[55]\ttrain-rmse:945.22036\ttrain-rmsle:1.07945\tvalidation-rmse:945.52899\tvalidation-rmsle:1.07764\n",
      "[60]\ttrain-rmse:941.71240\ttrain-rmsle:1.07904\tvalidation-rmse:942.02466\tvalidation-rmsle:1.07723\n",
      "[65]\ttrain-rmse:939.42322\ttrain-rmsle:1.07884\tvalidation-rmse:939.73789\tvalidation-rmsle:1.07704\n",
      "[70]\ttrain-rmse:937.94196\ttrain-rmsle:1.07874\tvalidation-rmse:938.25820\tvalidation-rmsle:1.07694\n",
      "[75]\ttrain-rmse:937.00686\ttrain-rmsle:1.07869\tvalidation-rmse:937.32410\tvalidation-rmsle:1.07689\n",
      "[80]\ttrain-rmse:936.43269\ttrain-rmsle:1.07866\tvalidation-rmse:936.75055\tvalidation-rmsle:1.07687\n",
      "[85]\ttrain-rmse:936.03474\ttrain-rmsle:1.07864\tvalidation-rmse:936.35302\tvalidation-rmsle:1.07685\n",
      "[90]\ttrain-rmse:935.84047\ttrain-rmsle:1.07864\tvalidation-rmse:936.15896\tvalidation-rmsle:1.07685\n",
      "[95]\ttrain-rmse:935.65721\ttrain-rmsle:1.07863\tvalidation-rmse:935.97590\tvalidation-rmsle:1.07684\n",
      "[100]\ttrain-rmse:935.53837\ttrain-rmsle:1.07863\tvalidation-rmse:935.85719\tvalidation-rmsle:1.07684\n",
      "[105]\ttrain-rmse:935.47827\ttrain-rmsle:1.07862\tvalidation-rmse:935.79716\tvalidation-rmsle:1.07683\n",
      "[110]\ttrain-rmse:935.42820\ttrain-rmsle:1.07862\tvalidation-rmse:935.74714\tvalidation-rmsle:1.07683\n",
      "[115]\ttrain-rmse:935.42820\ttrain-rmsle:1.07862\tvalidation-rmse:935.74714\tvalidation-rmsle:1.07683\n",
      "[120]\ttrain-rmse:935.37065\ttrain-rmsle:1.07862\tvalidation-rmse:935.68965\tvalidation-rmsle:1.07683\n",
      "[125]\ttrain-rmse:935.35458\ttrain-rmsle:1.07862\tvalidation-rmse:935.67360\tvalidation-rmsle:1.07683\n",
      "[130]\ttrain-rmse:935.31171\ttrain-rmsle:1.07862\tvalidation-rmse:935.63078\tvalidation-rmsle:1.07683\n",
      "[135]\ttrain-rmse:935.28412\ttrain-rmsle:1.07862\tvalidation-rmse:935.60322\tvalidation-rmsle:1.07683\n",
      "[140]\ttrain-rmse:935.25676\ttrain-rmsle:1.07862\tvalidation-rmse:935.57589\tvalidation-rmsle:1.07683\n",
      "[145]\ttrain-rmse:935.24304\ttrain-rmsle:1.07862\tvalidation-rmse:935.56218\tvalidation-rmsle:1.07683\n",
      "[150]\ttrain-rmse:935.22176\ttrain-rmsle:1.07862\tvalidation-rmse:935.54092\tvalidation-rmsle:1.07683\n",
      "[155]\ttrain-rmse:935.22176\ttrain-rmsle:1.07862\tvalidation-rmse:935.54092\tvalidation-rmsle:1.07683\n",
      "[156]\ttrain-rmse:935.22176\ttrain-rmsle:1.07862\tvalidation-rmse:935.54092\tvalidation-rmsle:1.07683\n"
     ]
    },
    {
     "name": "stderr",
     "output_type": "stream",
     "text": [
      "[I 2024-12-28 00:44:24,813] Trial 76 finished with value: 1.076827 and parameters: {'learning_rate': 0.3850294672750767, 'n_estimators': 953, 'max_depth': 3, 'min_child_weight': 1, 'subsample': 0.7277943840609387, 'colsample_bytree': 0.7463619516569802, 'gamma': 1.684926293432985, 'lambda': 4.764204525472828, 'alpha': 9.771778846036021}. Best is trial 40 with value: 1.061457.\n"
     ]
    },
    {
     "name": "stdout",
     "output_type": "stream",
     "text": [
      "{'objective': 'reg:squaredlogerror', 'eval_metric': 'rmse', 'learning_rate': 0.3722258423342435, 'n_estimators': 963, 'max_depth': 3, 'min_child_weight': 4, 'subsample': 0.7283050530179597, 'colsample_bytree': 0.7948507865670263, 'gamma': 1.647933912627105, 'lambda': 6.167776924861945, 'alpha': 9.771712626401934, 'random_state': 42}\n"
     ]
    },
    {
     "name": "stderr",
     "output_type": "stream",
     "text": [
      "d:\\Development\\insurance\\venv\\lib\\site-packages\\xgboost\\training.py:38: UserWarning: `feval` is deprecated, use `custom_metric` instead.  They have different behavior when custom objective is also used.See https://xgboost.readthedocs.io/en/latest/tutorials/custom_metric_obj.html for details on the `custom_metric`.\n",
      "  warnings.warn(\n",
      "d:\\Development\\insurance\\venv\\lib\\site-packages\\xgboost\\core.py:158: UserWarning: [00:44:26] WARNING: C:\\buildkite-agent\\builds\\buildkite-windows-cpu-autoscaling-group-i-0c55ff5f71b100e98-1\\xgboost\\xgboost-ci-windows\\src\\learner.cc:740: \n",
      "Parameters: { \"n_estimators\" } are not used.\n",
      "\n",
      "  warnings.warn(smsg, UserWarning)\n"
     ]
    },
    {
     "name": "stdout",
     "output_type": "stream",
     "text": [
      "[0]\ttrain-rmse:1400.18682\ttrain-rmsle:4.33687\tvalidation-rmse:1400.32505\tvalidation-rmsle:4.33615\n",
      "[5]\ttrain-rmse:1394.60734\ttrain-rmsle:4.33687\tvalidation-rmse:1394.74836\tvalidation-rmsle:4.33615\n",
      "[10]\ttrain-rmse:1374.96820\ttrain-rmsle:3.23832\tvalidation-rmse:1375.11925\tvalidation-rmsle:3.23750\n",
      "[15]\ttrain-rmse:1315.82384\ttrain-rmsle:2.17274\tvalidation-rmse:1316.00738\tvalidation-rmsle:2.17174\n",
      "[20]\ttrain-rmse:1198.48000\ttrain-rmsle:1.47102\tvalidation-rmse:1198.74069\tvalidation-rmsle:1.46979\n",
      "[25]\ttrain-rmse:1091.95055\ttrain-rmsle:1.21061\tvalidation-rmse:1092.30204\tvalidation-rmsle:1.20927\n",
      "[30]\ttrain-rmse:1041.93480\ttrain-rmsle:1.14618\tvalidation-rmse:1042.33909\tvalidation-rmsle:1.14483\n",
      "[35]\ttrain-rmse:1041.93480\ttrain-rmsle:1.14618\tvalidation-rmse:1042.33909\tvalidation-rmsle:1.14483\n",
      "[38]\ttrain-rmse:1041.93480\ttrain-rmsle:1.14618\tvalidation-rmse:1042.33909\tvalidation-rmsle:1.14483\n"
     ]
    },
    {
     "name": "stderr",
     "output_type": "stream",
     "text": [
      "[I 2024-12-28 00:44:30,572] Trial 77 finished with value: 1.144829 and parameters: {'learning_rate': 0.3722258423342435, 'n_estimators': 963, 'max_depth': 3, 'min_child_weight': 4, 'subsample': 0.7283050530179597, 'colsample_bytree': 0.7948507865670263, 'gamma': 1.647933912627105, 'lambda': 6.167776924861945, 'alpha': 9.771712626401934}. Best is trial 40 with value: 1.061457.\n"
     ]
    },
    {
     "name": "stdout",
     "output_type": "stream",
     "text": [
      "{'objective': 'reg:squaredlogerror', 'eval_metric': 'rmse', 'learning_rate': 0.3383119832183828, 'n_estimators': 905, 'max_depth': 3, 'min_child_weight': 2, 'subsample': 0.7395242238419361, 'colsample_bytree': 0.5358369089299297, 'gamma': 0.43616562880235143, 'lambda': 4.711121566675958, 'alpha': 8.523051571750747, 'random_state': 42}\n"
     ]
    },
    {
     "name": "stderr",
     "output_type": "stream",
     "text": [
      "d:\\Development\\insurance\\venv\\lib\\site-packages\\xgboost\\training.py:38: UserWarning: `feval` is deprecated, use `custom_metric` instead.  They have different behavior when custom objective is also used.See https://xgboost.readthedocs.io/en/latest/tutorials/custom_metric_obj.html for details on the `custom_metric`.\n",
      "  warnings.warn(\n",
      "d:\\Development\\insurance\\venv\\lib\\site-packages\\xgboost\\core.py:158: UserWarning: [00:44:31] WARNING: C:\\buildkite-agent\\builds\\buildkite-windows-cpu-autoscaling-group-i-0c55ff5f71b100e98-1\\xgboost\\xgboost-ci-windows\\src\\learner.cc:740: \n",
      "Parameters: { \"n_estimators\" } are not used.\n",
      "\n",
      "  warnings.warn(smsg, UserWarning)\n"
     ]
    },
    {
     "name": "stdout",
     "output_type": "stream",
     "text": [
      "[0]\ttrain-rmse:1400.22953\ttrain-rmsle:4.33687\tvalidation-rmse:1400.36774\tvalidation-rmsle:4.33615\n",
      "[5]\ttrain-rmse:1395.51780\ttrain-rmsle:4.33687\tvalidation-rmse:1395.65837\tvalidation-rmsle:4.33615\n",
      "[10]\ttrain-rmse:1380.38773\ttrain-rmsle:3.44966\tvalidation-rmse:1380.53597\tvalidation-rmsle:3.44887\n",
      "[15]\ttrain-rmse:1337.01882\ttrain-rmsle:2.42514\tvalidation-rmse:1337.19030\tvalidation-rmsle:2.42419\n",
      "[20]\ttrain-rmse:1241.56891\ttrain-rmsle:1.65013\tvalidation-rmse:1241.79903\tvalidation-rmsle:1.64897\n",
      "[25]\ttrain-rmse:1124.32747\ttrain-rmsle:1.26936\tvalidation-rmse:1124.64874\tvalidation-rmsle:1.26804\n",
      "[30]\ttrain-rmse:1047.74003\ttrain-rmsle:1.15221\tvalidation-rmse:1048.13786\tvalidation-rmsle:1.15086\n",
      "[35]\ttrain-rmse:1006.51643\ttrain-rmsle:1.11714\tvalidation-rmse:1006.96386\tvalidation-rmsle:1.11580\n",
      "[40]\ttrain-rmse:983.35377\ttrain-rmsle:1.10489\tvalidation-rmse:983.83262\tvalidation-rmsle:1.10356\n",
      "[45]\ttrain-rmse:969.52178\ttrain-rmsle:1.10004\tvalidation-rmse:970.02092\tvalidation-rmsle:1.09873\n",
      "[50]\ttrain-rmse:962.43784\ttrain-rmsle:1.09829\tvalidation-rmse:962.94789\tvalidation-rmsle:1.09698\n",
      "[55]\ttrain-rmse:962.43784\ttrain-rmsle:1.09829\tvalidation-rmse:962.94789\tvalidation-rmsle:1.09698\n",
      "[58]\ttrain-rmse:962.43784\ttrain-rmsle:1.09829\tvalidation-rmse:962.94789\tvalidation-rmsle:1.09698\n"
     ]
    },
    {
     "name": "stderr",
     "output_type": "stream",
     "text": [
      "[I 2024-12-28 00:44:38,075] Trial 78 finished with value: 1.096977 and parameters: {'learning_rate': 0.3383119832183828, 'n_estimators': 905, 'max_depth': 3, 'min_child_weight': 2, 'subsample': 0.7395242238419361, 'colsample_bytree': 0.5358369089299297, 'gamma': 0.43616562880235143, 'lambda': 4.711121566675958, 'alpha': 8.523051571750747}. Best is trial 40 with value: 1.061457.\n"
     ]
    },
    {
     "name": "stdout",
     "output_type": "stream",
     "text": [
      "{'objective': 'reg:squaredlogerror', 'eval_metric': 'rmse', 'learning_rate': 0.385587972824921, 'n_estimators': 921, 'max_depth': 3, 'min_child_weight': 17, 'subsample': 0.7867823412594529, 'colsample_bytree': 0.7459408443794571, 'gamma': 2.2011031300223554, 'lambda': 5.05356413523785, 'alpha': 9.732212034679154, 'random_state': 42}\n"
     ]
    },
    {
     "name": "stderr",
     "output_type": "stream",
     "text": [
      "d:\\Development\\insurance\\venv\\lib\\site-packages\\xgboost\\training.py:38: UserWarning: `feval` is deprecated, use `custom_metric` instead.  They have different behavior when custom objective is also used.See https://xgboost.readthedocs.io/en/latest/tutorials/custom_metric_obj.html for details on the `custom_metric`.\n",
      "  warnings.warn(\n",
      "d:\\Development\\insurance\\venv\\lib\\site-packages\\xgboost\\core.py:158: UserWarning: [00:44:39] WARNING: C:\\buildkite-agent\\builds\\buildkite-windows-cpu-autoscaling-group-i-0c55ff5f71b100e98-1\\xgboost\\xgboost-ci-windows\\src\\learner.cc:740: \n",
      "Parameters: { \"n_estimators\" } are not used.\n",
      "\n",
      "  warnings.warn(smsg, UserWarning)\n"
     ]
    },
    {
     "name": "stdout",
     "output_type": "stream",
     "text": [
      "[0]\ttrain-rmse:1400.17002\ttrain-rmsle:4.33687\tvalidation-rmse:1400.30826\tvalidation-rmsle:4.33615\n",
      "[5]\ttrain-rmse:1394.22186\ttrain-rmsle:4.33687\tvalidation-rmse:1394.36307\tvalidation-rmsle:4.33615\n",
      "[10]\ttrain-rmse:1372.52743\ttrain-rmsle:3.15719\tvalidation-rmse:1372.67975\tvalidation-rmsle:3.15637\n",
      "[15]\ttrain-rmse:1305.91628\ttrain-rmsle:2.07740\tvalidation-rmse:1306.10561\tvalidation-rmsle:2.07637\n",
      "[20]\ttrain-rmse:1176.68531\ttrain-rmsle:1.40013\tvalidation-rmse:1176.96256\tvalidation-rmsle:1.39887\n",
      "[25]\ttrain-rmse:1176.68531\ttrain-rmsle:1.40013\tvalidation-rmse:1176.96256\tvalidation-rmsle:1.39887\n",
      "[30]\ttrain-rmse:1176.68531\ttrain-rmsle:1.40013\tvalidation-rmse:1176.96256\tvalidation-rmsle:1.39887\n"
     ]
    },
    {
     "name": "stderr",
     "output_type": "stream",
     "text": [
      "[I 2024-12-28 00:44:42,944] Trial 79 finished with value: 1.39887 and parameters: {'learning_rate': 0.385587972824921, 'n_estimators': 921, 'max_depth': 3, 'min_child_weight': 17, 'subsample': 0.7867823412594529, 'colsample_bytree': 0.7459408443794571, 'gamma': 2.2011031300223554, 'lambda': 5.05356413523785, 'alpha': 9.732212034679154}. Best is trial 40 with value: 1.061457.\n"
     ]
    },
    {
     "name": "stdout",
     "output_type": "stream",
     "text": [
      "{'objective': 'reg:squaredlogerror', 'eval_metric': 'rmse', 'learning_rate': 0.27302904606083744, 'n_estimators': 551, 'max_depth': 3, 'min_child_weight': 6, 'subsample': 0.7671675111863027, 'colsample_bytree': 0.8111891858083886, 'gamma': 2.533357638387966, 'lambda': 5.802897725460358, 'alpha': 7.647675805279692, 'random_state': 42}\n"
     ]
    },
    {
     "name": "stderr",
     "output_type": "stream",
     "text": [
      "d:\\Development\\insurance\\venv\\lib\\site-packages\\xgboost\\training.py:38: UserWarning: `feval` is deprecated, use `custom_metric` instead.  They have different behavior when custom objective is also used.See https://xgboost.readthedocs.io/en/latest/tutorials/custom_metric_obj.html for details on the `custom_metric`.\n",
      "  warnings.warn(\n",
      "d:\\Development\\insurance\\venv\\lib\\site-packages\\xgboost\\core.py:158: UserWarning: [00:44:44] WARNING: C:\\buildkite-agent\\builds\\buildkite-windows-cpu-autoscaling-group-i-0c55ff5f71b100e98-1\\xgboost\\xgboost-ci-windows\\src\\learner.cc:740: \n",
      "Parameters: { \"n_estimators\" } are not used.\n",
      "\n",
      "  warnings.warn(smsg, UserWarning)\n"
     ]
    },
    {
     "name": "stdout",
     "output_type": "stream",
     "text": [
      "[0]\ttrain-rmse:1400.31171\ttrain-rmsle:4.33687\tvalidation-rmse:1400.44988\tvalidation-rmsle:4.33615\n",
      "[5]\ttrain-rmse:1397.02029\ttrain-rmsle:4.33687\tvalidation-rmse:1397.16006\tvalidation-rmsle:4.33615\n",
      "[10]\ttrain-rmse:1388.27339\ttrain-rmsle:3.88168\tvalidation-rmse:1388.41755\tvalidation-rmsle:3.88093\n",
      "[15]\ttrain-rmse:1366.46660\ttrain-rmsle:2.98146\tvalidation-rmse:1366.62204\tvalidation-rmsle:2.98061\n",
      "[20]\ttrain-rmse:1317.95985\ttrain-rmsle:2.19489\tvalidation-rmse:1318.14210\tvalidation-rmsle:2.19390\n",
      "[25]\ttrain-rmse:1233.90282\ttrain-rmsle:1.61373\tvalidation-rmse:1234.13810\tvalidation-rmsle:1.61256\n",
      "[30]\ttrain-rmse:1141.08155\ttrain-rmsle:1.30591\tvalidation-rmse:1141.38807\tvalidation-rmsle:1.30460\n",
      "[35]\ttrain-rmse:1085.14825\ttrain-rmsle:1.20008\tvalidation-rmse:1085.50647\tvalidation-rmsle:1.19874\n",
      "[40]\ttrain-rmse:1085.14825\ttrain-rmsle:1.20008\tvalidation-rmse:1085.50647\tvalidation-rmsle:1.19874\n",
      "[43]\ttrain-rmse:1085.14825\ttrain-rmsle:1.20008\tvalidation-rmse:1085.50647\tvalidation-rmsle:1.19874\n"
     ]
    },
    {
     "name": "stderr",
     "output_type": "stream",
     "text": [
      "[I 2024-12-28 00:44:48,989] Trial 80 finished with value: 1.198736 and parameters: {'learning_rate': 0.27302904606083744, 'n_estimators': 551, 'max_depth': 3, 'min_child_weight': 6, 'subsample': 0.7671675111863027, 'colsample_bytree': 0.8111891858083886, 'gamma': 2.533357638387966, 'lambda': 5.802897725460358, 'alpha': 7.647675805279692}. Best is trial 40 with value: 1.061457.\n"
     ]
    },
    {
     "name": "stdout",
     "output_type": "stream",
     "text": [
      "{'objective': 'reg:squaredlogerror', 'eval_metric': 'rmse', 'learning_rate': 0.45003822791543974, 'n_estimators': 615, 'max_depth': 5, 'min_child_weight': 1, 'subsample': 0.7080685136454313, 'colsample_bytree': 0.7301568453268589, 'gamma': 3.741912700035687, 'lambda': 3.5145025813851483, 'alpha': 8.911568579083886, 'random_state': 42}\n"
     ]
    },
    {
     "name": "stderr",
     "output_type": "stream",
     "text": [
      "d:\\Development\\insurance\\venv\\lib\\site-packages\\xgboost\\training.py:38: UserWarning: `feval` is deprecated, use `custom_metric` instead.  They have different behavior when custom objective is also used.See https://xgboost.readthedocs.io/en/latest/tutorials/custom_metric_obj.html for details on the `custom_metric`.\n",
      "  warnings.warn(\n",
      "d:\\Development\\insurance\\venv\\lib\\site-packages\\xgboost\\core.py:158: UserWarning: [00:44:50] WARNING: C:\\buildkite-agent\\builds\\buildkite-windows-cpu-autoscaling-group-i-0c55ff5f71b100e98-1\\xgboost\\xgboost-ci-windows\\src\\learner.cc:740: \n",
      "Parameters: { \"n_estimators\" } are not used.\n",
      "\n",
      "  warnings.warn(smsg, UserWarning)\n"
     ]
    },
    {
     "name": "stdout",
     "output_type": "stream",
     "text": [
      "[0]\ttrain-rmse:1400.08877\ttrain-rmsle:4.33687\tvalidation-rmse:1400.22705\tvalidation-rmsle:4.33615\n",
      "[5]\ttrain-rmse:1392.13261\ttrain-rmsle:4.19762\tvalidation-rmse:1392.27479\tvalidation-rmsle:4.19690\n",
      "[10]\ttrain-rmse:1358.14827\ttrain-rmsle:2.78586\tvalidation-rmse:1358.30815\tvalidation-rmsle:2.78498\n",
      "[15]\ttrain-rmse:1249.14662\ttrain-rmsle:1.68840\tvalidation-rmse:1249.37154\tvalidation-rmsle:1.68726\n",
      "[20]\ttrain-rmse:1092.39924\ttrain-rmsle:1.20914\tvalidation-rmse:1092.75291\tvalidation-rmsle:1.20775\n",
      "[25]\ttrain-rmse:1011.01845\ttrain-rmsle:1.11100\tvalidation-rmse:1011.37682\tvalidation-rmsle:1.10932\n",
      "[30]\ttrain-rmse:974.40839\ttrain-rmsle:1.08762\tvalidation-rmse:974.72040\tvalidation-rmsle:1.08577\n",
      "[35]\ttrain-rmse:957.17529\ttrain-rmsle:1.08060\tvalidation-rmse:957.47581\tvalidation-rmsle:1.07871\n",
      "[40]\ttrain-rmse:946.55372\ttrain-rmsle:1.07807\tvalidation-rmse:946.85241\tvalidation-rmsle:1.07617\n",
      "[45]\ttrain-rmse:941.03653\ttrain-rmsle:1.07741\tvalidation-rmse:941.33981\tvalidation-rmsle:1.07552\n",
      "[50]\ttrain-rmse:938.35749\ttrain-rmsle:1.07720\tvalidation-rmse:938.66304\tvalidation-rmsle:1.07532\n",
      "[55]\ttrain-rmse:936.86781\ttrain-rmsle:1.07712\tvalidation-rmse:937.17464\tvalidation-rmsle:1.07524\n",
      "[60]\ttrain-rmse:936.21318\ttrain-rmsle:1.07709\tvalidation-rmse:936.52058\tvalidation-rmsle:1.07522\n",
      "[65]\ttrain-rmse:935.74319\ttrain-rmsle:1.07707\tvalidation-rmse:936.05099\tvalidation-rmsle:1.07520\n",
      "[70]\ttrain-rmse:935.48148\ttrain-rmsle:1.07706\tvalidation-rmse:935.78951\tvalidation-rmsle:1.07519\n",
      "[75]\ttrain-rmse:935.35411\ttrain-rmsle:1.07706\tvalidation-rmse:935.66225\tvalidation-rmsle:1.07519\n",
      "[80]\ttrain-rmse:935.30511\ttrain-rmsle:1.07706\tvalidation-rmse:935.61330\tvalidation-rmsle:1.07519\n",
      "[85]\ttrain-rmse:935.23741\ttrain-rmsle:1.07706\tvalidation-rmse:935.54566\tvalidation-rmsle:1.07518\n",
      "[90]\ttrain-rmse:935.23225\ttrain-rmsle:1.07706\tvalidation-rmse:935.54049\tvalidation-rmsle:1.07518\n",
      "[93]\ttrain-rmse:935.21569\ttrain-rmsle:1.07706\tvalidation-rmse:935.52395\tvalidation-rmsle:1.07518\n"
     ]
    },
    {
     "name": "stderr",
     "output_type": "stream",
     "text": [
      "[I 2024-12-28 00:44:59,554] Trial 81 finished with value: 1.075183 and parameters: {'learning_rate': 0.45003822791543974, 'n_estimators': 615, 'max_depth': 5, 'min_child_weight': 1, 'subsample': 0.7080685136454313, 'colsample_bytree': 0.7301568453268589, 'gamma': 3.741912700035687, 'lambda': 3.5145025813851483, 'alpha': 8.911568579083886}. Best is trial 40 with value: 1.061457.\n"
     ]
    },
    {
     "name": "stdout",
     "output_type": "stream",
     "text": [
      "{'objective': 'reg:squaredlogerror', 'eval_metric': 'rmse', 'learning_rate': 0.44785813438098543, 'n_estimators': 600, 'max_depth': 4, 'min_child_weight': 1, 'subsample': 0.7131458973317362, 'colsample_bytree': 0.7561604361073127, 'gamma': 3.6684400890435476, 'lambda': 3.357152734856596, 'alpha': 9.335590069625836, 'random_state': 42}\n"
     ]
    },
    {
     "name": "stderr",
     "output_type": "stream",
     "text": [
      "d:\\Development\\insurance\\venv\\lib\\site-packages\\xgboost\\training.py:38: UserWarning: `feval` is deprecated, use `custom_metric` instead.  They have different behavior when custom objective is also used.See https://xgboost.readthedocs.io/en/latest/tutorials/custom_metric_obj.html for details on the `custom_metric`.\n",
      "  warnings.warn(\n",
      "d:\\Development\\insurance\\venv\\lib\\site-packages\\xgboost\\core.py:158: UserWarning: [00:45:00] WARNING: C:\\buildkite-agent\\builds\\buildkite-windows-cpu-autoscaling-group-i-0c55ff5f71b100e98-1\\xgboost\\xgboost-ci-windows\\src\\learner.cc:740: \n",
      "Parameters: { \"n_estimators\" } are not used.\n",
      "\n",
      "  warnings.warn(smsg, UserWarning)\n"
     ]
    },
    {
     "name": "stdout",
     "output_type": "stream",
     "text": [
      "[0]\ttrain-rmse:1400.09162\ttrain-rmsle:4.33687\tvalidation-rmse:1400.22990\tvalidation-rmsle:4.33615\n",
      "[5]\ttrain-rmse:1392.21263\ttrain-rmsle:4.20513\tvalidation-rmse:1392.35486\tvalidation-rmsle:4.20442\n",
      "[10]\ttrain-rmse:1358.71053\ttrain-rmsle:2.79779\tvalidation-rmse:1358.87015\tvalidation-rmsle:2.79692\n",
      "[15]\ttrain-rmse:1251.12004\ttrain-rmsle:1.69878\tvalidation-rmse:1251.34370\tvalidation-rmsle:1.69764\n",
      "[20]\ttrain-rmse:1093.34285\ttrain-rmsle:1.21068\tvalidation-rmse:1093.69567\tvalidation-rmsle:1.20930\n",
      "[25]\ttrain-rmse:1010.20583\ttrain-rmsle:1.11030\tvalidation-rmse:1010.56594\tvalidation-rmsle:1.10862\n",
      "[30]\ttrain-rmse:973.22153\ttrain-rmsle:1.08698\tvalidation-rmse:973.53505\tvalidation-rmsle:1.08513\n",
      "[35]\ttrain-rmse:957.30040\ttrain-rmsle:1.07995\tvalidation-rmse:957.59397\tvalidation-rmsle:1.07803\n",
      "[40]\ttrain-rmse:946.25946\ttrain-rmsle:1.07693\tvalidation-rmse:946.54116\tvalidation-rmsle:1.07499\n",
      "[45]\ttrain-rmse:940.45307\ttrain-rmsle:1.07621\tvalidation-rmse:940.73928\tvalidation-rmsle:1.07428\n",
      "[50]\ttrain-rmse:937.68780\ttrain-rmsle:1.07600\tvalidation-rmse:937.97621\tvalidation-rmsle:1.07407\n",
      "[55]\ttrain-rmse:936.18066\ttrain-rmsle:1.07591\tvalidation-rmse:936.47028\tvalidation-rmsle:1.07399\n",
      "[60]\ttrain-rmse:935.55218\ttrain-rmsle:1.07589\tvalidation-rmse:935.84231\tvalidation-rmsle:1.07397\n",
      "[65]\ttrain-rmse:935.10017\ttrain-rmsle:1.07587\tvalidation-rmse:935.39066\tvalidation-rmsle:1.07395\n",
      "[70]\ttrain-rmse:934.84546\ttrain-rmsle:1.07586\tvalidation-rmse:935.13615\tvalidation-rmsle:1.07394\n",
      "[75]\ttrain-rmse:934.72871\ttrain-rmsle:1.07586\tvalidation-rmse:935.01951\tvalidation-rmsle:1.07394\n",
      "[80]\ttrain-rmse:934.68747\ttrain-rmsle:1.07586\tvalidation-rmse:934.97830\tvalidation-rmsle:1.07394\n",
      "[85]\ttrain-rmse:934.61478\ttrain-rmsle:1.07585\tvalidation-rmse:934.90566\tvalidation-rmsle:1.07394\n",
      "[90]\ttrain-rmse:934.61478\ttrain-rmsle:1.07585\tvalidation-rmse:934.90566\tvalidation-rmsle:1.07394\n",
      "[93]\ttrain-rmse:934.60499\ttrain-rmsle:1.07585\tvalidation-rmse:934.89588\tvalidation-rmsle:1.07394\n"
     ]
    },
    {
     "name": "stderr",
     "output_type": "stream",
     "text": [
      "[I 2024-12-28 00:45:10,081] Trial 82 finished with value: 1.073937 and parameters: {'learning_rate': 0.44785813438098543, 'n_estimators': 600, 'max_depth': 4, 'min_child_weight': 1, 'subsample': 0.7131458973317362, 'colsample_bytree': 0.7561604361073127, 'gamma': 3.6684400890435476, 'lambda': 3.357152734856596, 'alpha': 9.335590069625836}. Best is trial 40 with value: 1.061457.\n"
     ]
    },
    {
     "name": "stdout",
     "output_type": "stream",
     "text": [
      "{'objective': 'reg:squaredlogerror', 'eval_metric': 'rmse', 'learning_rate': 0.44632083288309155, 'n_estimators': 603, 'max_depth': 4, 'min_child_weight': 3, 'subsample': 0.7052259310063802, 'colsample_bytree': 0.6880053177660118, 'gamma': 3.63634638103888, 'lambda': 3.2541564638812073, 'alpha': 9.317500541682774, 'random_state': 42}\n"
     ]
    },
    {
     "name": "stderr",
     "output_type": "stream",
     "text": [
      "d:\\Development\\insurance\\venv\\lib\\site-packages\\xgboost\\training.py:38: UserWarning: `feval` is deprecated, use `custom_metric` instead.  They have different behavior when custom objective is also used.See https://xgboost.readthedocs.io/en/latest/tutorials/custom_metric_obj.html for details on the `custom_metric`.\n",
      "  warnings.warn(\n",
      "d:\\Development\\insurance\\venv\\lib\\site-packages\\xgboost\\core.py:158: UserWarning: [00:45:11] WARNING: C:\\buildkite-agent\\builds\\buildkite-windows-cpu-autoscaling-group-i-0c55ff5f71b100e98-1\\xgboost\\xgboost-ci-windows\\src\\learner.cc:740: \n",
      "Parameters: { \"n_estimators\" } are not used.\n",
      "\n",
      "  warnings.warn(smsg, UserWarning)\n"
     ]
    },
    {
     "name": "stdout",
     "output_type": "stream",
     "text": [
      "[0]\ttrain-rmse:1400.09357\ttrain-rmsle:4.33687\tvalidation-rmse:1400.23185\tvalidation-rmsle:4.33615\n",
      "[5]\ttrain-rmse:1392.26671\ttrain-rmsle:4.21042\tvalidation-rmse:1392.40891\tvalidation-rmsle:4.20971\n",
      "[10]\ttrain-rmse:1359.11134\ttrain-rmsle:2.80629\tvalidation-rmse:1359.27075\tvalidation-rmsle:2.80542\n",
      "[15]\ttrain-rmse:1252.57172\ttrain-rmsle:1.70652\tvalidation-rmse:1252.79445\tvalidation-rmsle:1.70538\n",
      "[20]\ttrain-rmse:1094.46914\ttrain-rmsle:1.21466\tvalidation-rmse:1094.81817\tvalidation-rmsle:1.21332\n",
      "[25]\ttrain-rmse:1009.32026\ttrain-rmsle:1.11896\tvalidation-rmse:1009.76396\tvalidation-rmsle:1.11762\n",
      "[30]\ttrain-rmse:1009.32026\ttrain-rmsle:1.11896\tvalidation-rmse:1009.76396\tvalidation-rmsle:1.11762\n",
      "[34]\ttrain-rmse:1009.32026\ttrain-rmsle:1.11896\tvalidation-rmse:1009.76396\tvalidation-rmsle:1.11762\n"
     ]
    },
    {
     "name": "stderr",
     "output_type": "stream",
     "text": [
      "[I 2024-12-28 00:45:15,353] Trial 83 finished with value: 1.11762 and parameters: {'learning_rate': 0.44632083288309155, 'n_estimators': 603, 'max_depth': 4, 'min_child_weight': 3, 'subsample': 0.7052259310063802, 'colsample_bytree': 0.6880053177660118, 'gamma': 3.63634638103888, 'lambda': 3.2541564638812073, 'alpha': 9.317500541682774}. Best is trial 40 with value: 1.061457.\n"
     ]
    },
    {
     "name": "stdout",
     "output_type": "stream",
     "text": [
      "{'objective': 'reg:squaredlogerror', 'eval_metric': 'rmse', 'learning_rate': 0.4135041570095927, 'n_estimators': 658, 'max_depth': 4, 'min_child_weight': 4, 'subsample': 0.8069016704086033, 'colsample_bytree': 0.7853360733756851, 'gamma': 4.194096887956699, 'lambda': 3.5673394544179944, 'alpha': 9.09826701836482, 'random_state': 42}\n"
     ]
    },
    {
     "name": "stderr",
     "output_type": "stream",
     "text": [
      "d:\\Development\\insurance\\venv\\lib\\site-packages\\xgboost\\training.py:38: UserWarning: `feval` is deprecated, use `custom_metric` instead.  They have different behavior when custom objective is also used.See https://xgboost.readthedocs.io/en/latest/tutorials/custom_metric_obj.html for details on the `custom_metric`.\n",
      "  warnings.warn(\n",
      "d:\\Development\\insurance\\venv\\lib\\site-packages\\xgboost\\core.py:158: UserWarning: [00:45:16] WARNING: C:\\buildkite-agent\\builds\\buildkite-windows-cpu-autoscaling-group-i-0c55ff5f71b100e98-1\\xgboost\\xgboost-ci-windows\\src\\learner.cc:740: \n",
      "Parameters: { \"n_estimators\" } are not used.\n",
      "\n",
      "  warnings.warn(smsg, UserWarning)\n"
     ]
    },
    {
     "name": "stdout",
     "output_type": "stream",
     "text": [
      "[0]\ttrain-rmse:1400.13476\ttrain-rmsle:4.33687\tvalidation-rmse:1400.27302\tvalidation-rmsle:4.33615\n",
      "[5]\ttrain-rmse:1393.36331\ttrain-rmsle:4.32284\tvalidation-rmse:1393.50488\tvalidation-rmsle:4.32214\n",
      "[10]\ttrain-rmse:1366.85648\ttrain-rmsle:2.99223\tvalidation-rmse:1367.01172\tvalidation-rmsle:2.99139\n",
      "[15]\ttrain-rmse:1282.86914\ttrain-rmsle:1.89307\tvalidation-rmse:1283.07237\tvalidation-rmsle:1.89199\n",
      "[20]\ttrain-rmse:1133.13531\ttrain-rmsle:1.28795\tvalidation-rmse:1133.44851\tvalidation-rmsle:1.28664\n",
      "[25]\ttrain-rmse:1029.70388\ttrain-rmsle:1.13463\tvalidation-rmse:1030.12211\tvalidation-rmsle:1.13327\n",
      "[30]\ttrain-rmse:1029.70388\ttrain-rmsle:1.13463\tvalidation-rmse:1030.12211\tvalidation-rmsle:1.13327\n",
      "[35]\ttrain-rmse:1029.70388\ttrain-rmsle:1.13463\tvalidation-rmse:1030.12211\tvalidation-rmsle:1.13327\n"
     ]
    },
    {
     "name": "stderr",
     "output_type": "stream",
     "text": [
      "[I 2024-12-28 00:45:20,631] Trial 84 finished with value: 1.133274 and parameters: {'learning_rate': 0.4135041570095927, 'n_estimators': 658, 'max_depth': 4, 'min_child_weight': 4, 'subsample': 0.8069016704086033, 'colsample_bytree': 0.7853360733756851, 'gamma': 4.194096887956699, 'lambda': 3.5673394544179944, 'alpha': 9.09826701836482}. Best is trial 40 with value: 1.061457.\n"
     ]
    },
    {
     "name": "stdout",
     "output_type": "stream",
     "text": [
      "{'objective': 'reg:squaredlogerror', 'eval_metric': 'rmse', 'learning_rate': 0.3571967407699084, 'n_estimators': 712, 'max_depth': 4, 'min_child_weight': 33, 'subsample': 0.748713347789491, 'colsample_bytree': 0.731472322137048, 'gamma': 4.882934195738475, 'lambda': 2.374752516031138, 'alpha': 8.936807043998733, 'random_state': 42}\n"
     ]
    },
    {
     "name": "stderr",
     "output_type": "stream",
     "text": [
      "d:\\Development\\insurance\\venv\\lib\\site-packages\\xgboost\\training.py:38: UserWarning: `feval` is deprecated, use `custom_metric` instead.  They have different behavior when custom objective is also used.See https://xgboost.readthedocs.io/en/latest/tutorials/custom_metric_obj.html for details on the `custom_metric`.\n",
      "  warnings.warn(\n",
      "d:\\Development\\insurance\\venv\\lib\\site-packages\\xgboost\\core.py:158: UserWarning: [00:45:21] WARNING: C:\\buildkite-agent\\builds\\buildkite-windows-cpu-autoscaling-group-i-0c55ff5f71b100e98-1\\xgboost\\xgboost-ci-windows\\src\\learner.cc:740: \n",
      "Parameters: { \"n_estimators\" } are not used.\n",
      "\n",
      "  warnings.warn(smsg, UserWarning)\n"
     ]
    },
    {
     "name": "stdout",
     "output_type": "stream",
     "text": [
      "[0]\ttrain-rmse:1400.20569\ttrain-rmsle:4.33687\tvalidation-rmse:1400.34391\tvalidation-rmsle:4.33615\n",
      "[5]\ttrain-rmse:1395.02048\ttrain-rmsle:4.33687\tvalidation-rmse:1395.16122\tvalidation-rmsle:4.33615\n",
      "[10]\ttrain-rmse:1377.46281\ttrain-rmsle:3.33049\tvalidation-rmse:1377.61246\tvalidation-rmsle:3.32969\n",
      "[15]\ttrain-rmse:1325.40482\ttrain-rmsle:2.27746\tvalidation-rmse:1325.58270\tvalidation-rmsle:2.27648\n",
      "[20]\ttrain-rmse:1211.21671\ttrain-rmsle:1.51797\tvalidation-rmse:1211.46781\tvalidation-rmsle:1.51676\n",
      "[25]\ttrain-rmse:1211.21671\ttrain-rmsle:1.51797\tvalidation-rmse:1211.46781\tvalidation-rmsle:1.51676\n",
      "[29]\ttrain-rmse:1211.21671\ttrain-rmsle:1.51797\tvalidation-rmse:1211.46781\tvalidation-rmsle:1.51676\n"
     ]
    },
    {
     "name": "stderr",
     "output_type": "stream",
     "text": [
      "[I 2024-12-28 00:45:25,716] Trial 85 finished with value: 1.516755 and parameters: {'learning_rate': 0.3571967407699084, 'n_estimators': 712, 'max_depth': 4, 'min_child_weight': 33, 'subsample': 0.748713347789491, 'colsample_bytree': 0.731472322137048, 'gamma': 4.882934195738475, 'lambda': 2.374752516031138, 'alpha': 8.936807043998733}. Best is trial 40 with value: 1.061457.\n"
     ]
    },
    {
     "name": "stdout",
     "output_type": "stream",
     "text": [
      "{'objective': 'reg:squaredlogerror', 'eval_metric': 'rmse', 'learning_rate': 0.45265752424928574, 'n_estimators': 634, 'max_depth': 3, 'min_child_weight': 1, 'subsample': 0.732248901029495, 'colsample_bytree': 0.7093023395276447, 'gamma': 3.160680739122273, 'lambda': 3.6952175616538523, 'alpha': 9.514191682513072, 'random_state': 42}\n"
     ]
    },
    {
     "name": "stderr",
     "output_type": "stream",
     "text": [
      "d:\\Development\\insurance\\venv\\lib\\site-packages\\xgboost\\training.py:38: UserWarning: `feval` is deprecated, use `custom_metric` instead.  They have different behavior when custom objective is also used.See https://xgboost.readthedocs.io/en/latest/tutorials/custom_metric_obj.html for details on the `custom_metric`.\n",
      "  warnings.warn(\n",
      "d:\\Development\\insurance\\venv\\lib\\site-packages\\xgboost\\core.py:158: UserWarning: [00:45:26] WARNING: C:\\buildkite-agent\\builds\\buildkite-windows-cpu-autoscaling-group-i-0c55ff5f71b100e98-1\\xgboost\\xgboost-ci-windows\\src\\learner.cc:740: \n",
      "Parameters: { \"n_estimators\" } are not used.\n",
      "\n",
      "  warnings.warn(smsg, UserWarning)\n"
     ]
    },
    {
     "name": "stdout",
     "output_type": "stream",
     "text": [
      "[0]\ttrain-rmse:1400.08554\ttrain-rmsle:4.33687\tvalidation-rmse:1400.22383\tvalidation-rmsle:4.33615\n",
      "[5]\ttrain-rmse:1392.04222\ttrain-rmsle:4.18866\tvalidation-rmse:1392.18454\tvalidation-rmsle:4.18795\n",
      "[10]\ttrain-rmse:1357.46075\ttrain-rmsle:2.77142\tvalidation-rmse:1357.62104\tvalidation-rmsle:2.77055\n",
      "[15]\ttrain-rmse:1246.61184\ttrain-rmsle:1.67534\tvalidation-rmse:1246.83849\tvalidation-rmsle:1.67419\n",
      "[20]\ttrain-rmse:1090.09242\ttrain-rmsle:1.20545\tvalidation-rmse:1090.44829\tvalidation-rmsle:1.20406\n",
      "[25]\ttrain-rmse:1009.96227\ttrain-rmsle:1.11019\tvalidation-rmse:1010.32732\tvalidation-rmsle:1.10852\n",
      "[30]\ttrain-rmse:973.87345\ttrain-rmsle:1.08732\tvalidation-rmse:974.19266\tvalidation-rmsle:1.08547\n",
      "[35]\ttrain-rmse:957.87389\ttrain-rmsle:1.08016\tvalidation-rmse:958.15913\tvalidation-rmsle:1.07823\n",
      "[40]\ttrain-rmse:947.49341\ttrain-rmsle:1.07631\tvalidation-rmse:947.75408\tvalidation-rmsle:1.07432\n",
      "[45]\ttrain-rmse:940.84670\ttrain-rmsle:1.07538\tvalidation-rmse:941.11228\tvalidation-rmsle:1.07340\n",
      "[50]\ttrain-rmse:937.61471\ttrain-rmsle:1.07509\tvalidation-rmse:937.88273\tvalidation-rmsle:1.07312\n",
      "[55]\ttrain-rmse:935.84427\ttrain-rmsle:1.07499\tvalidation-rmse:936.11365\tvalidation-rmsle:1.07302\n",
      "[60]\ttrain-rmse:935.05550\ttrain-rmsle:1.07495\tvalidation-rmse:935.32549\tvalidation-rmsle:1.07298\n",
      "[65]\ttrain-rmse:934.53452\ttrain-rmsle:1.07493\tvalidation-rmse:934.80492\tvalidation-rmsle:1.07296\n",
      "[70]\ttrain-rmse:934.23460\ttrain-rmsle:1.07492\tvalidation-rmse:934.50523\tvalidation-rmsle:1.07295\n",
      "[75]\ttrain-rmse:934.06992\ttrain-rmsle:1.07491\tvalidation-rmse:934.34068\tvalidation-rmsle:1.07295\n",
      "[80]\ttrain-rmse:933.99867\ttrain-rmsle:1.07491\tvalidation-rmse:934.26949\tvalidation-rmsle:1.07295\n",
      "[85]\ttrain-rmse:933.93054\ttrain-rmsle:1.07491\tvalidation-rmse:934.20141\tvalidation-rmsle:1.07294\n",
      "[90]\ttrain-rmse:933.91707\ttrain-rmsle:1.07491\tvalidation-rmse:934.18796\tvalidation-rmsle:1.07294\n",
      "[93]\ttrain-rmse:933.90988\ttrain-rmsle:1.07491\tvalidation-rmse:934.18076\tvalidation-rmsle:1.07294\n"
     ]
    },
    {
     "name": "stderr",
     "output_type": "stream",
     "text": [
      "[I 2024-12-28 00:45:36,169] Trial 86 finished with value: 1.072943 and parameters: {'learning_rate': 0.45265752424928574, 'n_estimators': 634, 'max_depth': 3, 'min_child_weight': 1, 'subsample': 0.732248901029495, 'colsample_bytree': 0.7093023395276447, 'gamma': 3.160680739122273, 'lambda': 3.6952175616538523, 'alpha': 9.514191682513072}. Best is trial 40 with value: 1.061457.\n"
     ]
    },
    {
     "name": "stdout",
     "output_type": "stream",
     "text": [
      "{'objective': 'reg:squaredlogerror', 'eval_metric': 'rmse', 'learning_rate': 0.4530825912232379, 'n_estimators': 628, 'max_depth': 3, 'min_child_weight': 7, 'subsample': 0.7291415412388573, 'colsample_bytree': 0.7462310149358512, 'gamma': 3.8941697298944895, 'lambda': 2.989673219691706, 'alpha': 8.327435265703153, 'random_state': 42}\n"
     ]
    },
    {
     "name": "stderr",
     "output_type": "stream",
     "text": [
      "d:\\Development\\insurance\\venv\\lib\\site-packages\\xgboost\\training.py:38: UserWarning: `feval` is deprecated, use `custom_metric` instead.  They have different behavior when custom objective is also used.See https://xgboost.readthedocs.io/en/latest/tutorials/custom_metric_obj.html for details on the `custom_metric`.\n",
      "  warnings.warn(\n",
      "d:\\Development\\insurance\\venv\\lib\\site-packages\\xgboost\\core.py:158: UserWarning: [00:45:37] WARNING: C:\\buildkite-agent\\builds\\buildkite-windows-cpu-autoscaling-group-i-0c55ff5f71b100e98-1\\xgboost\\xgboost-ci-windows\\src\\learner.cc:740: \n",
      "Parameters: { \"n_estimators\" } are not used.\n",
      "\n",
      "  warnings.warn(smsg, UserWarning)\n"
     ]
    },
    {
     "name": "stdout",
     "output_type": "stream",
     "text": [
      "[0]\ttrain-rmse:1400.08494\ttrain-rmsle:4.33687\tvalidation-rmse:1400.22322\tvalidation-rmsle:4.33615\n",
      "[5]\ttrain-rmse:1392.02381\ttrain-rmsle:4.18715\tvalidation-rmse:1392.16603\tvalidation-rmsle:4.18643\n",
      "[10]\ttrain-rmse:1357.32455\ttrain-rmsle:2.76892\tvalidation-rmse:1357.48485\tvalidation-rmsle:2.76804\n",
      "[15]\ttrain-rmse:1245.51145\ttrain-rmsle:1.66974\tvalidation-rmse:1245.73870\tvalidation-rmsle:1.66858\n",
      "[20]\ttrain-rmse:1084.02571\ttrain-rmsle:1.19831\tvalidation-rmse:1084.38464\tvalidation-rmsle:1.19696\n",
      "[25]\ttrain-rmse:1084.02571\ttrain-rmsle:1.19831\tvalidation-rmse:1084.38464\tvalidation-rmsle:1.19696\n",
      "[29]\ttrain-rmse:1084.02571\ttrain-rmsle:1.19831\tvalidation-rmse:1084.38464\tvalidation-rmsle:1.19696\n"
     ]
    },
    {
     "name": "stderr",
     "output_type": "stream",
     "text": [
      "[I 2024-12-28 00:45:40,961] Trial 87 finished with value: 1.196959 and parameters: {'learning_rate': 0.4530825912232379, 'n_estimators': 628, 'max_depth': 3, 'min_child_weight': 7, 'subsample': 0.7291415412388573, 'colsample_bytree': 0.7462310149358512, 'gamma': 3.8941697298944895, 'lambda': 2.989673219691706, 'alpha': 8.327435265703153}. Best is trial 40 with value: 1.061457.\n"
     ]
    },
    {
     "name": "stdout",
     "output_type": "stream",
     "text": [
      "{'objective': 'reg:squaredlogerror', 'eval_metric': 'rmse', 'learning_rate': 0.40138322448104913, 'n_estimators': 590, 'max_depth': 3, 'min_child_weight': 2, 'subsample': 0.780874780942096, 'colsample_bytree': 0.6585818926992106, 'gamma': 4.399852875619926, 'lambda': 3.8516964008413512, 'alpha': 9.405563391179978, 'random_state': 42}\n"
     ]
    },
    {
     "name": "stderr",
     "output_type": "stream",
     "text": [
      "d:\\Development\\insurance\\venv\\lib\\site-packages\\xgboost\\training.py:38: UserWarning: `feval` is deprecated, use `custom_metric` instead.  They have different behavior when custom objective is also used.See https://xgboost.readthedocs.io/en/latest/tutorials/custom_metric_obj.html for details on the `custom_metric`.\n",
      "  warnings.warn(\n",
      "d:\\Development\\insurance\\venv\\lib\\site-packages\\xgboost\\core.py:158: UserWarning: [00:45:42] WARNING: C:\\buildkite-agent\\builds\\buildkite-windows-cpu-autoscaling-group-i-0c55ff5f71b100e98-1\\xgboost\\xgboost-ci-windows\\src\\learner.cc:740: \n",
      "Parameters: { \"n_estimators\" } are not used.\n",
      "\n",
      "  warnings.warn(smsg, UserWarning)\n"
     ]
    },
    {
     "name": "stdout",
     "output_type": "stream",
     "text": [
      "[0]\ttrain-rmse:1400.15006\ttrain-rmsle:4.33687\tvalidation-rmse:1400.28831\tvalidation-rmsle:4.33615\n",
      "[5]\ttrain-rmse:1393.74390\ttrain-rmsle:4.33687\tvalidation-rmse:1393.88526\tvalidation-rmsle:4.33615\n",
      "[10]\ttrain-rmse:1369.43315\ttrain-rmsle:3.06310\tvalidation-rmse:1369.58700\tvalidation-rmsle:3.06226\n",
      "[15]\ttrain-rmse:1293.24520\ttrain-rmsle:1.97041\tvalidation-rmse:1293.44207\tvalidation-rmsle:1.96935\n",
      "[20]\ttrain-rmse:1151.21712\ttrain-rmsle:1.33031\tvalidation-rmse:1151.51502\tvalidation-rmsle:1.32901\n",
      "[25]\ttrain-rmse:1043.63348\ttrain-rmsle:1.14790\tvalidation-rmse:1044.03582\tvalidation-rmsle:1.14655\n",
      "[30]\ttrain-rmse:993.95484\ttrain-rmsle:1.10983\tvalidation-rmse:994.41882\tvalidation-rmsle:1.10849\n",
      "[35]\ttrain-rmse:970.81712\ttrain-rmsle:1.10040\tvalidation-rmse:971.31417\tvalidation-rmsle:1.09908\n",
      "[40]\ttrain-rmse:959.00214\ttrain-rmsle:1.09759\tvalidation-rmse:959.51749\tvalidation-rmsle:1.09628\n",
      "[45]\ttrain-rmse:955.99739\ttrain-rmsle:1.09710\tvalidation-rmse:956.51756\tvalidation-rmsle:1.09580\n",
      "[50]\ttrain-rmse:955.99739\ttrain-rmsle:1.09710\tvalidation-rmse:956.51756\tvalidation-rmsle:1.09580\n",
      "[52]\ttrain-rmse:955.99739\ttrain-rmsle:1.09710\tvalidation-rmse:956.51756\tvalidation-rmsle:1.09580\n"
     ]
    },
    {
     "name": "stderr",
     "output_type": "stream",
     "text": [
      "[I 2024-12-28 00:45:47,812] Trial 88 finished with value: 1.095796 and parameters: {'learning_rate': 0.40138322448104913, 'n_estimators': 590, 'max_depth': 3, 'min_child_weight': 2, 'subsample': 0.780874780942096, 'colsample_bytree': 0.6585818926992106, 'gamma': 4.399852875619926, 'lambda': 3.8516964008413512, 'alpha': 9.405563391179978}. Best is trial 40 with value: 1.061457.\n"
     ]
    },
    {
     "name": "stdout",
     "output_type": "stream",
     "text": [
      "{'objective': 'reg:squaredlogerror', 'eval_metric': 'rmse', 'learning_rate': 0.3868732300607744, 'n_estimators': 321, 'max_depth': 3, 'min_child_weight': 5, 'subsample': 0.7588074497230604, 'colsample_bytree': 0.759122480414566, 'gamma': 5.4966770617432035, 'lambda': 4.056722278294728, 'alpha': 9.935399419256111, 'random_state': 42}\n"
     ]
    },
    {
     "name": "stderr",
     "output_type": "stream",
     "text": [
      "d:\\Development\\insurance\\venv\\lib\\site-packages\\xgboost\\training.py:38: UserWarning: `feval` is deprecated, use `custom_metric` instead.  They have different behavior when custom objective is also used.See https://xgboost.readthedocs.io/en/latest/tutorials/custom_metric_obj.html for details on the `custom_metric`.\n",
      "  warnings.warn(\n",
      "d:\\Development\\insurance\\venv\\lib\\site-packages\\xgboost\\core.py:158: UserWarning: [00:45:48] WARNING: C:\\buildkite-agent\\builds\\buildkite-windows-cpu-autoscaling-group-i-0c55ff5f71b100e98-1\\xgboost\\xgboost-ci-windows\\src\\learner.cc:740: \n",
      "Parameters: { \"n_estimators\" } are not used.\n",
      "\n",
      "  warnings.warn(smsg, UserWarning)\n"
     ]
    },
    {
     "name": "stdout",
     "output_type": "stream",
     "text": [
      "[0]\ttrain-rmse:1400.16840\ttrain-rmsle:4.33687\tvalidation-rmse:1400.30664\tvalidation-rmsle:4.33615\n",
      "[5]\ttrain-rmse:1394.18400\ttrain-rmsle:4.33687\tvalidation-rmse:1394.32523\tvalidation-rmsle:4.33615\n",
      "[10]\ttrain-rmse:1372.28149\ttrain-rmsle:3.14938\tvalidation-rmse:1372.43394\tvalidation-rmsle:3.14855\n",
      "[15]\ttrain-rmse:1304.78558\ttrain-rmsle:2.06722\tvalidation-rmse:1304.97557\tvalidation-rmsle:2.06619\n",
      "[20]\ttrain-rmse:1172.37483\ttrain-rmsle:1.38739\tvalidation-rmse:1172.65548\tvalidation-rmsle:1.38613\n",
      "[25]\ttrain-rmse:1060.05780\ttrain-rmsle:1.16614\tvalidation-rmse:1060.44184\tvalidation-rmsle:1.16479\n",
      "[30]\ttrain-rmse:1060.05780\ttrain-rmsle:1.16614\tvalidation-rmse:1060.44184\tvalidation-rmsle:1.16479\n",
      "[35]\ttrain-rmse:1060.05780\ttrain-rmsle:1.16614\tvalidation-rmse:1060.44184\tvalidation-rmsle:1.16479\n"
     ]
    },
    {
     "name": "stderr",
     "output_type": "stream",
     "text": [
      "[I 2024-12-28 00:45:53,113] Trial 89 finished with value: 1.164786 and parameters: {'learning_rate': 0.3868732300607744, 'n_estimators': 321, 'max_depth': 3, 'min_child_weight': 5, 'subsample': 0.7588074497230604, 'colsample_bytree': 0.759122480414566, 'gamma': 5.4966770617432035, 'lambda': 4.056722278294728, 'alpha': 9.935399419256111}. Best is trial 40 with value: 1.061457.\n"
     ]
    },
    {
     "name": "stdout",
     "output_type": "stream",
     "text": [
      "{'objective': 'reg:squaredlogerror', 'eval_metric': 'rmse', 'learning_rate': 0.47582757830731665, 'n_estimators': 773, 'max_depth': 5, 'min_child_weight': 3, 'subsample': 0.8119966744657436, 'colsample_bytree': 0.8466627659722048, 'gamma': 3.1471882124129857, 'lambda': 3.432953476294994, 'alpha': 8.910489706741387, 'random_state': 42}\n"
     ]
    },
    {
     "name": "stderr",
     "output_type": "stream",
     "text": [
      "d:\\Development\\insurance\\venv\\lib\\site-packages\\xgboost\\training.py:38: UserWarning: `feval` is deprecated, use `custom_metric` instead.  They have different behavior when custom objective is also used.See https://xgboost.readthedocs.io/en/latest/tutorials/custom_metric_obj.html for details on the `custom_metric`.\n",
      "  warnings.warn(\n",
      "d:\\Development\\insurance\\venv\\lib\\site-packages\\xgboost\\core.py:158: UserWarning: [00:45:54] WARNING: C:\\buildkite-agent\\builds\\buildkite-windows-cpu-autoscaling-group-i-0c55ff5f71b100e98-1\\xgboost\\xgboost-ci-windows\\src\\learner.cc:740: \n",
      "Parameters: { \"n_estimators\" } are not used.\n",
      "\n",
      "  warnings.warn(smsg, UserWarning)\n"
     ]
    },
    {
     "name": "stdout",
     "output_type": "stream",
     "text": [
      "[0]\ttrain-rmse:1400.05630\ttrain-rmsle:4.33687\tvalidation-rmse:1400.19460\tvalidation-rmsle:4.33615\n",
      "[5]\ttrain-rmse:1391.18312\ttrain-rmsle:4.10994\tvalidation-rmse:1391.32572\tvalidation-rmsle:4.10920\n",
      "[10]\ttrain-rmse:1350.97931\ttrain-rmsle:2.64609\tvalidation-rmse:1351.14295\tvalidation-rmsle:2.64518\n",
      "[15]\ttrain-rmse:1222.15825\ttrain-rmsle:1.56207\tvalidation-rmse:1222.40156\tvalidation-rmsle:1.56087\n",
      "[20]\ttrain-rmse:1062.38914\ttrain-rmsle:1.16895\tvalidation-rmse:1062.77055\tvalidation-rmsle:1.16760\n",
      "[25]\ttrain-rmse:991.62293\ttrain-rmsle:1.10859\tvalidation-rmse:992.08972\tvalidation-rmsle:1.10725\n",
      "[30]\ttrain-rmse:991.62293\ttrain-rmsle:1.10859\tvalidation-rmse:992.08972\tvalidation-rmsle:1.10725\n",
      "[35]\ttrain-rmse:991.62293\ttrain-rmsle:1.10859\tvalidation-rmse:992.08972\tvalidation-rmsle:1.10725\n"
     ]
    },
    {
     "name": "stderr",
     "output_type": "stream",
     "text": [
      "[I 2024-12-28 00:45:58,456] Trial 90 finished with value: 1.107252 and parameters: {'learning_rate': 0.47582757830731665, 'n_estimators': 773, 'max_depth': 5, 'min_child_weight': 3, 'subsample': 0.8119966744657436, 'colsample_bytree': 0.8466627659722048, 'gamma': 3.1471882124129857, 'lambda': 3.432953476294994, 'alpha': 8.910489706741387}. Best is trial 40 with value: 1.061457.\n"
     ]
    },
    {
     "name": "stdout",
     "output_type": "stream",
     "text": [
      "{'objective': 'reg:squaredlogerror', 'eval_metric': 'rmse', 'learning_rate': 0.4290296903723802, 'n_estimators': 865, 'max_depth': 4, 'min_child_weight': 1, 'subsample': 0.8352284080073455, 'colsample_bytree': 0.7100615955636335, 'gamma': 2.8086205574716985, 'lambda': 2.9562811725383225, 'alpha': 9.51949783566794, 'random_state': 42}\n"
     ]
    },
    {
     "name": "stderr",
     "output_type": "stream",
     "text": [
      "d:\\Development\\insurance\\venv\\lib\\site-packages\\xgboost\\training.py:38: UserWarning: `feval` is deprecated, use `custom_metric` instead.  They have different behavior when custom objective is also used.See https://xgboost.readthedocs.io/en/latest/tutorials/custom_metric_obj.html for details on the `custom_metric`.\n",
      "  warnings.warn(\n",
      "d:\\Development\\insurance\\venv\\lib\\site-packages\\xgboost\\core.py:158: UserWarning: [00:45:59] WARNING: C:\\buildkite-agent\\builds\\buildkite-windows-cpu-autoscaling-group-i-0c55ff5f71b100e98-1\\xgboost\\xgboost-ci-windows\\src\\learner.cc:740: \n",
      "Parameters: { \"n_estimators\" } are not used.\n",
      "\n",
      "  warnings.warn(smsg, UserWarning)\n"
     ]
    },
    {
     "name": "stdout",
     "output_type": "stream",
     "text": [
      "[0]\ttrain-rmse:1400.11520\ttrain-rmsle:4.33687\tvalidation-rmse:1400.25347\tvalidation-rmsle:4.33615\n",
      "[5]\ttrain-rmse:1392.85586\ttrain-rmsle:4.27028\tvalidation-rmse:1392.99768\tvalidation-rmsle:4.26956\n",
      "[10]\ttrain-rmse:1363.33137\ttrain-rmsle:2.90302\tvalidation-rmse:1363.48848\tvalidation-rmsle:2.90216\n",
      "[15]\ttrain-rmse:1268.54322\ttrain-rmsle:1.79842\tvalidation-rmse:1268.75545\tvalidation-rmsle:1.79731\n",
      "[20]\ttrain-rmse:1108.87827\ttrain-rmsle:1.23784\tvalidation-rmse:1109.21390\tvalidation-rmsle:1.23649\n",
      "[25]\ttrain-rmse:1012.49120\ttrain-rmsle:1.10864\tvalidation-rmse:1012.81066\tvalidation-rmsle:1.10688\n",
      "[30]\ttrain-rmse:972.18026\ttrain-rmsle:1.08060\tvalidation-rmse:972.44554\tvalidation-rmsle:1.07860\n",
      "[35]\ttrain-rmse:953.52069\ttrain-rmsle:1.07208\tvalidation-rmse:953.72300\tvalidation-rmsle:1.06993\n",
      "[40]\ttrain-rmse:941.78595\ttrain-rmsle:1.06801\tvalidation-rmse:941.94031\tvalidation-rmsle:1.06576\n",
      "[45]\ttrain-rmse:935.20015\ttrain-rmsle:1.06616\tvalidation-rmse:935.33161\tvalidation-rmsle:1.06387\n",
      "[50]\ttrain-rmse:931.15902\ttrain-rmsle:1.06521\tvalidation-rmse:931.27816\tvalidation-rmsle:1.06288\n",
      "[55]\ttrain-rmse:928.70538\ttrain-rmsle:1.06460\tvalidation-rmse:928.81844\tvalidation-rmsle:1.06224\n",
      "[60]\ttrain-rmse:927.09753\ttrain-rmsle:1.06415\tvalidation-rmse:927.20097\tvalidation-rmsle:1.06177\n",
      "[65]\ttrain-rmse:926.34054\ttrain-rmsle:1.06379\tvalidation-rmse:926.44771\tvalidation-rmsle:1.06140\n",
      "[70]\ttrain-rmse:925.48359\ttrain-rmsle:1.06350\tvalidation-rmse:925.58550\tvalidation-rmsle:1.06108\n",
      "[75]\ttrain-rmse:924.94199\ttrain-rmsle:1.06325\tvalidation-rmse:925.03787\tvalidation-rmsle:1.06082\n",
      "[80]\ttrain-rmse:924.56586\ttrain-rmsle:1.06305\tvalidation-rmse:924.65979\tvalidation-rmsle:1.06060\n",
      "[85]\ttrain-rmse:924.22277\ttrain-rmsle:1.06287\tvalidation-rmse:924.31494\tvalidation-rmsle:1.06041\n",
      "[90]\ttrain-rmse:924.03350\ttrain-rmsle:1.06272\tvalidation-rmse:924.12600\tvalidation-rmsle:1.06025\n",
      "[95]\ttrain-rmse:923.95892\ttrain-rmsle:1.06259\tvalidation-rmse:924.05427\tvalidation-rmsle:1.06011\n",
      "[100]\ttrain-rmse:923.77209\ttrain-rmsle:1.06248\tvalidation-rmse:923.86444\tvalidation-rmsle:1.05999\n",
      "[105]\ttrain-rmse:923.60012\ttrain-rmsle:1.06238\tvalidation-rmse:923.69102\tvalidation-rmsle:1.05988\n",
      "[110]\ttrain-rmse:923.40371\ttrain-rmsle:1.06229\tvalidation-rmse:923.49181\tvalidation-rmsle:1.05978\n",
      "[115]\ttrain-rmse:923.34568\ttrain-rmsle:1.06221\tvalidation-rmse:923.43544\tvalidation-rmsle:1.05970\n",
      "[120]\ttrain-rmse:923.27589\ttrain-rmsle:1.06214\tvalidation-rmse:923.36872\tvalidation-rmsle:1.05962\n",
      "[125]\ttrain-rmse:923.18871\ttrain-rmsle:1.06207\tvalidation-rmse:923.28304\tvalidation-rmsle:1.05955\n",
      "[130]\ttrain-rmse:923.12087\ttrain-rmsle:1.06201\tvalidation-rmse:923.21371\tvalidation-rmsle:1.05948\n",
      "[135]\ttrain-rmse:923.06110\ttrain-rmsle:1.06195\tvalidation-rmse:923.15449\tvalidation-rmsle:1.05942\n",
      "[140]\ttrain-rmse:923.02399\ttrain-rmsle:1.06190\tvalidation-rmse:923.12067\tvalidation-rmsle:1.05937\n",
      "[145]\ttrain-rmse:922.93532\ttrain-rmsle:1.06185\tvalidation-rmse:923.03149\tvalidation-rmsle:1.05932\n",
      "[150]\ttrain-rmse:922.92638\ttrain-rmsle:1.06182\tvalidation-rmse:923.02435\tvalidation-rmsle:1.05928\n",
      "[155]\ttrain-rmse:922.84549\ttrain-rmsle:1.06178\tvalidation-rmse:922.94328\tvalidation-rmsle:1.05923\n",
      "[160]\ttrain-rmse:922.81643\ttrain-rmsle:1.06176\tvalidation-rmse:922.91452\tvalidation-rmsle:1.05922\n",
      "[165]\ttrain-rmse:922.77632\ttrain-rmsle:1.06173\tvalidation-rmse:922.87500\tvalidation-rmsle:1.05918\n",
      "[170]\ttrain-rmse:922.80739\ttrain-rmsle:1.06171\tvalidation-rmse:922.90807\tvalidation-rmsle:1.05916\n",
      "[175]\ttrain-rmse:922.78801\ttrain-rmsle:1.06168\tvalidation-rmse:922.88798\tvalidation-rmsle:1.05913\n",
      "[180]\ttrain-rmse:922.71914\ttrain-rmsle:1.06167\tvalidation-rmse:922.81857\tvalidation-rmsle:1.05912\n",
      "[185]\ttrain-rmse:922.71914\ttrain-rmsle:1.06167\tvalidation-rmse:922.81857\tvalidation-rmsle:1.05912\n",
      "[187]\ttrain-rmse:922.71914\ttrain-rmsle:1.06167\tvalidation-rmse:922.81857\tvalidation-rmsle:1.05912\n"
     ]
    },
    {
     "name": "stderr",
     "output_type": "stream",
     "text": [
      "[I 2024-12-28 00:46:18,291] Trial 91 finished with value: 1.05912 and parameters: {'learning_rate': 0.4290296903723802, 'n_estimators': 865, 'max_depth': 4, 'min_child_weight': 1, 'subsample': 0.8352284080073455, 'colsample_bytree': 0.7100615955636335, 'gamma': 2.8086205574716985, 'lambda': 2.9562811725383225, 'alpha': 9.51949783566794}. Best is trial 91 with value: 1.05912.\n"
     ]
    },
    {
     "name": "stdout",
     "output_type": "stream",
     "text": [
      "{'objective': 'reg:squaredlogerror', 'eval_metric': 'rmse', 'learning_rate': 0.43735861947080934, 'n_estimators': 944, 'max_depth': 3, 'min_child_weight': 2, 'subsample': 0.8371864607599392, 'colsample_bytree': 0.7171964540132476, 'gamma': 3.9261459602619775, 'lambda': 3.0418377119751625, 'alpha': 8.580643939468446, 'random_state': 42}\n"
     ]
    },
    {
     "name": "stderr",
     "output_type": "stream",
     "text": [
      "d:\\Development\\insurance\\venv\\lib\\site-packages\\xgboost\\training.py:38: UserWarning: `feval` is deprecated, use `custom_metric` instead.  They have different behavior when custom objective is also used.See https://xgboost.readthedocs.io/en/latest/tutorials/custom_metric_obj.html for details on the `custom_metric`.\n",
      "  warnings.warn(\n",
      "d:\\Development\\insurance\\venv\\lib\\site-packages\\xgboost\\core.py:158: UserWarning: [00:46:19] WARNING: C:\\buildkite-agent\\builds\\buildkite-windows-cpu-autoscaling-group-i-0c55ff5f71b100e98-1\\xgboost\\xgboost-ci-windows\\src\\learner.cc:740: \n",
      "Parameters: { \"n_estimators\" } are not used.\n",
      "\n",
      "  warnings.warn(smsg, UserWarning)\n"
     ]
    },
    {
     "name": "stdout",
     "output_type": "stream",
     "text": [
      "[0]\ttrain-rmse:1400.10475\ttrain-rmsle:4.33687\tvalidation-rmse:1400.24302\tvalidation-rmsle:4.33615\n",
      "[5]\ttrain-rmse:1392.57415\ttrain-rmsle:4.24131\tvalidation-rmse:1392.71608\tvalidation-rmsle:4.24059\n",
      "[10]\ttrain-rmse:1361.32835\ttrain-rmsle:2.85602\tvalidation-rmse:1361.48637\tvalidation-rmsle:2.85515\n",
      "[15]\ttrain-rmse:1260.67991\ttrain-rmsle:1.75157\tvalidation-rmse:1260.89705\tvalidation-rmsle:1.75044\n",
      "[20]\ttrain-rmse:1099.07398\ttrain-rmsle:1.22220\tvalidation-rmse:1099.41812\tvalidation-rmsle:1.22087\n",
      "[25]\ttrain-rmse:1006.45310\ttrain-rmsle:1.11699\tvalidation-rmse:1006.89989\tvalidation-rmsle:1.11565\n",
      "[30]\ttrain-rmse:970.82982\ttrain-rmsle:1.10031\tvalidation-rmse:971.32617\tvalidation-rmsle:1.09898\n",
      "[35]\ttrain-rmse:956.28938\ttrain-rmsle:1.09705\tvalidation-rmse:956.80835\tvalidation-rmsle:1.09574\n",
      "[40]\ttrain-rmse:949.75119\ttrain-rmsle:1.09627\tvalidation-rmse:950.28090\tvalidation-rmsle:1.09497\n",
      "[45]\ttrain-rmse:947.66077\ttrain-rmsle:1.09612\tvalidation-rmse:948.19399\tvalidation-rmsle:1.09482\n",
      "[50]\ttrain-rmse:947.66077\ttrain-rmsle:1.09612\tvalidation-rmse:948.19399\tvalidation-rmsle:1.09482\n",
      "[52]\ttrain-rmse:947.66077\ttrain-rmsle:1.09612\tvalidation-rmse:948.19399\tvalidation-rmsle:1.09482\n"
     ]
    },
    {
     "name": "stderr",
     "output_type": "stream",
     "text": [
      "[I 2024-12-28 00:46:25,257] Trial 92 finished with value: 1.094819 and parameters: {'learning_rate': 0.43735861947080934, 'n_estimators': 944, 'max_depth': 3, 'min_child_weight': 2, 'subsample': 0.8371864607599392, 'colsample_bytree': 0.7171964540132476, 'gamma': 3.9261459602619775, 'lambda': 3.0418377119751625, 'alpha': 8.580643939468446}. Best is trial 91 with value: 1.05912.\n"
     ]
    },
    {
     "name": "stdout",
     "output_type": "stream",
     "text": [
      "{'objective': 'reg:squaredlogerror', 'eval_metric': 'rmse', 'learning_rate': 0.451374525444539, 'n_estimators': 975, 'max_depth': 4, 'min_child_weight': 4, 'subsample': 0.8536947489025225, 'colsample_bytree': 0.8210460335746057, 'gamma': 3.507593967176709, 'lambda': 2.717321238710924, 'alpha': 9.170067183705095, 'random_state': 42}\n"
     ]
    },
    {
     "name": "stderr",
     "output_type": "stream",
     "text": [
      "d:\\Development\\insurance\\venv\\lib\\site-packages\\xgboost\\training.py:38: UserWarning: `feval` is deprecated, use `custom_metric` instead.  They have different behavior when custom objective is also used.See https://xgboost.readthedocs.io/en/latest/tutorials/custom_metric_obj.html for details on the `custom_metric`.\n",
      "  warnings.warn(\n",
      "d:\\Development\\insurance\\venv\\lib\\site-packages\\xgboost\\core.py:158: UserWarning: [00:46:26] WARNING: C:\\buildkite-agent\\builds\\buildkite-windows-cpu-autoscaling-group-i-0c55ff5f71b100e98-1\\xgboost\\xgboost-ci-windows\\src\\learner.cc:740: \n",
      "Parameters: { \"n_estimators\" } are not used.\n",
      "\n",
      "  warnings.warn(smsg, UserWarning)\n"
     ]
    },
    {
     "name": "stdout",
     "output_type": "stream",
     "text": [
      "[0]\ttrain-rmse:1400.08711\ttrain-rmsle:4.33687\tvalidation-rmse:1400.22539\tvalidation-rmsle:4.33615\n",
      "[5]\ttrain-rmse:1392.08455\ttrain-rmsle:4.19297\tvalidation-rmse:1392.22671\tvalidation-rmsle:4.19224\n",
      "[10]\ttrain-rmse:1357.76087\ttrain-rmsle:2.77800\tvalidation-rmse:1357.92077\tvalidation-rmsle:2.77712\n",
      "[15]\ttrain-rmse:1246.55020\ttrain-rmsle:1.67502\tvalidation-rmse:1246.77661\tvalidation-rmsle:1.67386\n",
      "[20]\ttrain-rmse:1079.91376\ttrain-rmsle:1.19229\tvalidation-rmse:1080.27669\tvalidation-rmsle:1.19094\n",
      "[25]\ttrain-rmse:1018.75763\ttrain-rmsle:1.12562\tvalidation-rmse:1019.18880\tvalidation-rmsle:1.12427\n",
      "[30]\ttrain-rmse:1018.75763\ttrain-rmsle:1.12562\tvalidation-rmse:1019.18880\tvalidation-rmsle:1.12427\n",
      "[33]\ttrain-rmse:1018.75763\ttrain-rmsle:1.12562\tvalidation-rmse:1019.18880\tvalidation-rmsle:1.12427\n"
     ]
    },
    {
     "name": "stderr",
     "output_type": "stream",
     "text": [
      "[I 2024-12-28 00:46:30,445] Trial 93 finished with value: 1.124272 and parameters: {'learning_rate': 0.451374525444539, 'n_estimators': 975, 'max_depth': 4, 'min_child_weight': 4, 'subsample': 0.8536947489025225, 'colsample_bytree': 0.8210460335746057, 'gamma': 3.507593967176709, 'lambda': 2.717321238710924, 'alpha': 9.170067183705095}. Best is trial 91 with value: 1.05912.\n"
     ]
    },
    {
     "name": "stdout",
     "output_type": "stream",
     "text": [
      "{'objective': 'reg:squaredlogerror', 'eval_metric': 'rmse', 'learning_rate': 0.4257045048138903, 'n_estimators': 539, 'max_depth': 5, 'min_child_weight': 1, 'subsample': 0.7953658711283644, 'colsample_bytree': 0.6824427421295449, 'gamma': 3.2637268591580684, 'lambda': 2.4985217096864334, 'alpha': 9.444839874161005, 'random_state': 42}\n"
     ]
    },
    {
     "name": "stderr",
     "output_type": "stream",
     "text": [
      "d:\\Development\\insurance\\venv\\lib\\site-packages\\xgboost\\training.py:38: UserWarning: `feval` is deprecated, use `custom_metric` instead.  They have different behavior when custom objective is also used.See https://xgboost.readthedocs.io/en/latest/tutorials/custom_metric_obj.html for details on the `custom_metric`.\n",
      "  warnings.warn(\n",
      "d:\\Development\\insurance\\venv\\lib\\site-packages\\xgboost\\core.py:158: UserWarning: [00:46:31] WARNING: C:\\buildkite-agent\\builds\\buildkite-windows-cpu-autoscaling-group-i-0c55ff5f71b100e98-1\\xgboost\\xgboost-ci-windows\\src\\learner.cc:740: \n",
      "Parameters: { \"n_estimators\" } are not used.\n",
      "\n",
      "  warnings.warn(smsg, UserWarning)\n"
     ]
    },
    {
     "name": "stdout",
     "output_type": "stream",
     "text": [
      "[0]\ttrain-rmse:1400.11940\ttrain-rmsle:4.33687\tvalidation-rmse:1400.25766\tvalidation-rmsle:4.33615\n",
      "[5]\ttrain-rmse:1392.96637\ttrain-rmsle:4.28188\tvalidation-rmse:1393.10811\tvalidation-rmsle:4.28116\n",
      "[10]\ttrain-rmse:1364.12292\ttrain-rmsle:2.92187\tvalidation-rmse:1364.27955\tvalidation-rmsle:2.92101\n",
      "[15]\ttrain-rmse:1271.47523\ttrain-rmsle:1.81675\tvalidation-rmse:1271.68561\tvalidation-rmsle:1.81564\n",
      "[20]\ttrain-rmse:1111.13336\ttrain-rmsle:1.24208\tvalidation-rmse:1111.46709\tvalidation-rmsle:1.24073\n",
      "[25]\ttrain-rmse:1011.37197\ttrain-rmsle:1.10770\tvalidation-rmse:1011.67604\tvalidation-rmsle:1.10590\n",
      "[30]\ttrain-rmse:970.61773\ttrain-rmsle:1.08004\tvalidation-rmse:970.87283\tvalidation-rmsle:1.07798\n",
      "[35]\ttrain-rmse:952.36015\ttrain-rmsle:1.07203\tvalidation-rmse:952.56975\tvalidation-rmsle:1.06983\n",
      "[40]\ttrain-rmse:940.74479\ttrain-rmsle:1.06823\tvalidation-rmse:940.90581\tvalidation-rmsle:1.06594\n",
      "[45]\ttrain-rmse:934.07612\ttrain-rmsle:1.06656\tvalidation-rmse:934.21846\tvalidation-rmsle:1.06422\n",
      "[50]\ttrain-rmse:930.04610\ttrain-rmsle:1.06577\tvalidation-rmse:930.16851\tvalidation-rmsle:1.06339\n",
      "[55]\ttrain-rmse:928.09959\ttrain-rmsle:1.06526\tvalidation-rmse:928.21679\tvalidation-rmsle:1.06286\n",
      "[60]\ttrain-rmse:927.43318\ttrain-rmsle:1.06510\tvalidation-rmse:927.54850\tvalidation-rmsle:1.06269\n",
      "[65]\ttrain-rmse:927.28094\ttrain-rmsle:1.06509\tvalidation-rmse:927.39767\tvalidation-rmsle:1.06268\n",
      "[70]\ttrain-rmse:927.28094\ttrain-rmsle:1.06509\tvalidation-rmse:927.39767\tvalidation-rmsle:1.06268\n",
      "[73]\ttrain-rmse:927.28094\ttrain-rmsle:1.06509\tvalidation-rmse:927.39767\tvalidation-rmsle:1.06268\n"
     ]
    },
    {
     "name": "stderr",
     "output_type": "stream",
     "text": [
      "[I 2024-12-28 00:46:39,671] Trial 94 finished with value: 1.062679 and parameters: {'learning_rate': 0.4257045048138903, 'n_estimators': 539, 'max_depth': 5, 'min_child_weight': 1, 'subsample': 0.7953658711283644, 'colsample_bytree': 0.6824427421295449, 'gamma': 3.2637268591580684, 'lambda': 2.4985217096864334, 'alpha': 9.444839874161005}. Best is trial 91 with value: 1.05912.\n"
     ]
    },
    {
     "name": "stdout",
     "output_type": "stream",
     "text": [
      "{'objective': 'reg:squaredlogerror', 'eval_metric': 'rmse', 'learning_rate': 0.43136554148736994, 'n_estimators': 877, 'max_depth': 5, 'min_child_weight': 3, 'subsample': 0.7983366057559868, 'colsample_bytree': 0.6851747481582358, 'gamma': 2.4695181247102926, 'lambda': 2.1490278186235985, 'alpha': 9.522330709113774, 'random_state': 42}\n"
     ]
    },
    {
     "name": "stderr",
     "output_type": "stream",
     "text": [
      "d:\\Development\\insurance\\venv\\lib\\site-packages\\xgboost\\training.py:38: UserWarning: `feval` is deprecated, use `custom_metric` instead.  They have different behavior when custom objective is also used.See https://xgboost.readthedocs.io/en/latest/tutorials/custom_metric_obj.html for details on the `custom_metric`.\n",
      "  warnings.warn(\n",
      "d:\\Development\\insurance\\venv\\lib\\site-packages\\xgboost\\core.py:158: UserWarning: [00:46:40] WARNING: C:\\buildkite-agent\\builds\\buildkite-windows-cpu-autoscaling-group-i-0c55ff5f71b100e98-1\\xgboost\\xgboost-ci-windows\\src\\learner.cc:740: \n",
      "Parameters: { \"n_estimators\" } are not used.\n",
      "\n",
      "  warnings.warn(smsg, UserWarning)\n"
     ]
    },
    {
     "name": "stdout",
     "output_type": "stream",
     "text": [
      "[0]\ttrain-rmse:1400.11229\ttrain-rmsle:4.33687\tvalidation-rmse:1400.25055\tvalidation-rmsle:4.33615\n",
      "[5]\ttrain-rmse:1392.77742\ttrain-rmsle:4.26212\tvalidation-rmse:1392.91924\tvalidation-rmsle:4.26140\n",
      "[10]\ttrain-rmse:1362.77981\ttrain-rmsle:2.88963\tvalidation-rmse:1362.93715\tvalidation-rmsle:2.88876\n",
      "[15]\ttrain-rmse:1265.96753\ttrain-rmsle:1.78270\tvalidation-rmse:1266.18137\tvalidation-rmsle:1.78159\n",
      "[20]\ttrain-rmse:1101.23131\ttrain-rmsle:1.22591\tvalidation-rmse:1101.57360\tvalidation-rmsle:1.22457\n",
      "[25]\ttrain-rmse:1001.92368\ttrain-rmsle:1.11423\tvalidation-rmse:1002.37667\tvalidation-rmsle:1.11289\n",
      "[30]\ttrain-rmse:1001.92368\ttrain-rmsle:1.11423\tvalidation-rmse:1002.37667\tvalidation-rmsle:1.11289\n",
      "[35]\ttrain-rmse:1001.92368\ttrain-rmsle:1.11423\tvalidation-rmse:1002.37667\tvalidation-rmsle:1.11289\n"
     ]
    },
    {
     "name": "stderr",
     "output_type": "stream",
     "text": [
      "[I 2024-12-28 00:46:44,989] Trial 95 finished with value: 1.112889 and parameters: {'learning_rate': 0.43136554148736994, 'n_estimators': 877, 'max_depth': 5, 'min_child_weight': 3, 'subsample': 0.7983366057559868, 'colsample_bytree': 0.6851747481582358, 'gamma': 2.4695181247102926, 'lambda': 2.1490278186235985, 'alpha': 9.522330709113774}. Best is trial 91 with value: 1.05912.\n"
     ]
    },
    {
     "name": "stdout",
     "output_type": "stream",
     "text": [
      "{'objective': 'reg:squaredlogerror', 'eval_metric': 'rmse', 'learning_rate': 0.4999720428700279, 'n_estimators': 531, 'max_depth': 5, 'min_child_weight': 2, 'subsample': 0.8252087175109974, 'colsample_bytree': 0.7109353357125211, 'gamma': 4.5371217432859305, 'lambda': 1.6020715496197928, 'alpha': 9.81997867071096, 'random_state': 42}\n"
     ]
    },
    {
     "name": "stderr",
     "output_type": "stream",
     "text": [
      "d:\\Development\\insurance\\venv\\lib\\site-packages\\xgboost\\training.py:38: UserWarning: `feval` is deprecated, use `custom_metric` instead.  They have different behavior when custom objective is also used.See https://xgboost.readthedocs.io/en/latest/tutorials/custom_metric_obj.html for details on the `custom_metric`.\n",
      "  warnings.warn(\n",
      "d:\\Development\\insurance\\venv\\lib\\site-packages\\xgboost\\core.py:158: UserWarning: [00:46:46] WARNING: C:\\buildkite-agent\\builds\\buildkite-windows-cpu-autoscaling-group-i-0c55ff5f71b100e98-1\\xgboost\\xgboost-ci-windows\\src\\learner.cc:740: \n",
      "Parameters: { \"n_estimators\" } are not used.\n",
      "\n",
      "  warnings.warn(smsg, UserWarning)\n"
     ]
    },
    {
     "name": "stdout",
     "output_type": "stream",
     "text": [
      "[0]\ttrain-rmse:1400.02587\ttrain-rmsle:4.33687\tvalidation-rmse:1400.16418\tvalidation-rmsle:4.33615\n",
      "[5]\ttrain-rmse:1390.23001\ttrain-rmsle:4.02935\tvalidation-rmse:1390.37307\tvalidation-rmsle:4.02861\n",
      "[10]\ttrain-rmse:1343.38180\ttrain-rmsle:2.51926\tvalidation-rmse:1343.54942\tvalidation-rmsle:2.51833\n",
      "[15]\ttrain-rmse:1192.26442\ttrain-rmsle:1.44958\tvalidation-rmse:1192.52919\tvalidation-rmsle:1.44833\n",
      "[20]\ttrain-rmse:1022.18402\ttrain-rmsle:1.12824\tvalidation-rmse:1022.61062\tvalidation-rmsle:1.12689\n",
      "[25]\ttrain-rmse:964.92958\ttrain-rmsle:1.09865\tvalidation-rmse:965.43436\tvalidation-rmsle:1.09733\n",
      "[30]\ttrain-rmse:950.14016\ttrain-rmsle:1.09623\tvalidation-rmse:950.66863\tvalidation-rmsle:1.09492\n",
      "[35]\ttrain-rmse:948.89325\ttrain-rmsle:1.09612\tvalidation-rmse:949.42379\tvalidation-rmsle:1.09482\n",
      "[40]\ttrain-rmse:948.89325\ttrain-rmsle:1.09612\tvalidation-rmse:949.42379\tvalidation-rmsle:1.09482\n"
     ]
    },
    {
     "name": "stderr",
     "output_type": "stream",
     "text": [
      "[I 2024-12-28 00:46:50,893] Trial 96 finished with value: 1.09482 and parameters: {'learning_rate': 0.4999720428700279, 'n_estimators': 531, 'max_depth': 5, 'min_child_weight': 2, 'subsample': 0.8252087175109974, 'colsample_bytree': 0.7109353357125211, 'gamma': 4.5371217432859305, 'lambda': 1.6020715496197928, 'alpha': 9.81997867071096}. Best is trial 91 with value: 1.05912.\n"
     ]
    },
    {
     "name": "stdout",
     "output_type": "stream",
     "text": [
      "{'objective': 'reg:squaredlogerror', 'eval_metric': 'rmse', 'learning_rate': 0.41798954816594047, 'n_estimators': 878, 'max_depth': 5, 'min_child_weight': 7, 'subsample': 0.8996618190110821, 'colsample_bytree': 0.6367282169562429, 'gamma': 3.3431960439229798, 'lambda': 3.6362606779364097, 'alpha': 8.149588788021717, 'random_state': 42}\n"
     ]
    },
    {
     "name": "stderr",
     "output_type": "stream",
     "text": [
      "d:\\Development\\insurance\\venv\\lib\\site-packages\\xgboost\\training.py:38: UserWarning: `feval` is deprecated, use `custom_metric` instead.  They have different behavior when custom objective is also used.See https://xgboost.readthedocs.io/en/latest/tutorials/custom_metric_obj.html for details on the `custom_metric`.\n",
      "  warnings.warn(\n",
      "d:\\Development\\insurance\\venv\\lib\\site-packages\\xgboost\\core.py:158: UserWarning: [00:46:52] WARNING: C:\\buildkite-agent\\builds\\buildkite-windows-cpu-autoscaling-group-i-0c55ff5f71b100e98-1\\xgboost\\xgboost-ci-windows\\src\\learner.cc:740: \n",
      "Parameters: { \"n_estimators\" } are not used.\n",
      "\n",
      "  warnings.warn(smsg, UserWarning)\n"
     ]
    },
    {
     "name": "stdout",
     "output_type": "stream",
     "text": [
      "[0]\ttrain-rmse:1400.12915\ttrain-rmsle:4.33687\tvalidation-rmse:1400.26741\tvalidation-rmsle:4.33615\n",
      "[5]\ttrain-rmse:1393.21900\ttrain-rmsle:4.30786\tvalidation-rmse:1393.36061\tvalidation-rmsle:4.30715\n",
      "[10]\ttrain-rmse:1365.87951\ttrain-rmsle:2.96618\tvalidation-rmse:1366.03522\tvalidation-rmsle:2.96533\n",
      "[15]\ttrain-rmse:1278.78152\ttrain-rmsle:1.86470\tvalidation-rmse:1278.98731\tvalidation-rmsle:1.86361\n",
      "[20]\ttrain-rmse:1125.53049\ttrain-rmsle:1.27181\tvalidation-rmse:1125.85056\tvalidation-rmsle:1.27049\n",
      "[25]\ttrain-rmse:1074.56064\ttrain-rmsle:1.18484\tvalidation-rmse:1074.92954\tvalidation-rmsle:1.18349\n",
      "[30]\ttrain-rmse:1074.56064\ttrain-rmsle:1.18484\tvalidation-rmse:1074.92954\tvalidation-rmsle:1.18349\n",
      "[32]\ttrain-rmse:1074.56064\ttrain-rmsle:1.18484\tvalidation-rmse:1074.92954\tvalidation-rmsle:1.18349\n"
     ]
    },
    {
     "name": "stderr",
     "output_type": "stream",
     "text": [
      "[I 2024-12-28 00:46:56,139] Trial 97 finished with value: 1.183492 and parameters: {'learning_rate': 0.41798954816594047, 'n_estimators': 878, 'max_depth': 5, 'min_child_weight': 7, 'subsample': 0.8996618190110821, 'colsample_bytree': 0.6367282169562429, 'gamma': 3.3431960439229798, 'lambda': 3.6362606779364097, 'alpha': 8.149588788021717}. Best is trial 91 with value: 1.05912.\n"
     ]
    },
    {
     "name": "stdout",
     "output_type": "stream",
     "text": [
      "{'objective': 'reg:squaredlogerror', 'eval_metric': 'rmse', 'learning_rate': 0.4573335340642583, 'n_estimators': 510, 'max_depth': 6, 'min_child_weight': 9, 'subsample': 0.8520993209895746, 'colsample_bytree': 0.6771510259890448, 'gamma': 2.7133121477271622, 'lambda': 3.231027305051027, 'alpha': 9.305816132301642, 'random_state': 42}\n"
     ]
    },
    {
     "name": "stderr",
     "output_type": "stream",
     "text": [
      "d:\\Development\\insurance\\venv\\lib\\site-packages\\xgboost\\training.py:38: UserWarning: `feval` is deprecated, use `custom_metric` instead.  They have different behavior when custom objective is also used.See https://xgboost.readthedocs.io/en/latest/tutorials/custom_metric_obj.html for details on the `custom_metric`.\n",
      "  warnings.warn(\n",
      "d:\\Development\\insurance\\venv\\lib\\site-packages\\xgboost\\core.py:158: UserWarning: [00:46:57] WARNING: C:\\buildkite-agent\\builds\\buildkite-windows-cpu-autoscaling-group-i-0c55ff5f71b100e98-1\\xgboost\\xgboost-ci-windows\\src\\learner.cc:740: \n",
      "Parameters: { \"n_estimators\" } are not used.\n",
      "\n",
      "  warnings.warn(smsg, UserWarning)\n"
     ]
    },
    {
     "name": "stdout",
     "output_type": "stream",
     "text": [
      "[0]\ttrain-rmse:1400.07957\ttrain-rmsle:4.33687\tvalidation-rmse:1400.21786\tvalidation-rmsle:4.33615\n",
      "[5]\ttrain-rmse:1391.87054\ttrain-rmsle:4.17260\tvalidation-rmse:1392.01284\tvalidation-rmsle:4.17187\n",
      "[10]\ttrain-rmse:1356.19995\ttrain-rmsle:2.74549\tvalidation-rmse:1356.36082\tvalidation-rmsle:2.74461\n",
      "[15]\ttrain-rmse:1240.94386\ttrain-rmsle:1.64707\tvalidation-rmse:1241.17428\tvalidation-rmsle:1.64591\n",
      "[20]\ttrain-rmse:1104.93907\ttrain-rmsle:1.23239\tvalidation-rmse:1105.27800\tvalidation-rmsle:1.23105\n",
      "[25]\ttrain-rmse:1104.93907\ttrain-rmsle:1.23239\tvalidation-rmse:1105.27800\tvalidation-rmsle:1.23105\n",
      "[28]\ttrain-rmse:1104.93907\ttrain-rmsle:1.23239\tvalidation-rmse:1105.27800\tvalidation-rmsle:1.23105\n"
     ]
    },
    {
     "name": "stderr",
     "output_type": "stream",
     "text": [
      "[I 2024-12-28 00:47:01,081] Trial 98 finished with value: 1.231052 and parameters: {'learning_rate': 0.4573335340642583, 'n_estimators': 510, 'max_depth': 6, 'min_child_weight': 9, 'subsample': 0.8520993209895746, 'colsample_bytree': 0.6771510259890448, 'gamma': 2.7133121477271622, 'lambda': 3.231027305051027, 'alpha': 9.305816132301642}. Best is trial 91 with value: 1.05912.\n"
     ]
    },
    {
     "name": "stdout",
     "output_type": "stream",
     "text": [
      "{'objective': 'reg:squaredlogerror', 'eval_metric': 'rmse', 'learning_rate': 0.3951921379211491, 'n_estimators': 543, 'max_depth': 10, 'min_child_weight': 5, 'subsample': 0.7866475367763697, 'colsample_bytree': 0.6501886710752128, 'gamma': 3.635680406331762, 'lambda': 2.8518162255335, 'alpha': 9.667682717820558, 'random_state': 42}\n"
     ]
    },
    {
     "name": "stderr",
     "output_type": "stream",
     "text": [
      "d:\\Development\\insurance\\venv\\lib\\site-packages\\xgboost\\training.py:38: UserWarning: `feval` is deprecated, use `custom_metric` instead.  They have different behavior when custom objective is also used.See https://xgboost.readthedocs.io/en/latest/tutorials/custom_metric_obj.html for details on the `custom_metric`.\n",
      "  warnings.warn(\n",
      "d:\\Development\\insurance\\venv\\lib\\site-packages\\xgboost\\core.py:158: UserWarning: [00:47:02] WARNING: C:\\buildkite-agent\\builds\\buildkite-windows-cpu-autoscaling-group-i-0c55ff5f71b100e98-1\\xgboost\\xgboost-ci-windows\\src\\learner.cc:740: \n",
      "Parameters: { \"n_estimators\" } are not used.\n",
      "\n",
      "  warnings.warn(smsg, UserWarning)\n"
     ]
    },
    {
     "name": "stdout",
     "output_type": "stream",
     "text": [
      "[0]\ttrain-rmse:1400.15787\ttrain-rmsle:4.33687\tvalidation-rmse:1400.29611\tvalidation-rmsle:4.33615\n",
      "[5]\ttrain-rmse:1393.93291\ttrain-rmsle:4.33687\tvalidation-rmse:1394.07418\tvalidation-rmsle:4.33615\n",
      "[10]\ttrain-rmse:1370.66690\ttrain-rmsle:3.09954\tvalidation-rmse:1370.82010\tvalidation-rmsle:3.09871\n",
      "[15]\ttrain-rmse:1297.98759\ttrain-rmsle:2.00870\tvalidation-rmse:1298.18157\tvalidation-rmsle:2.00766\n",
      "[20]\ttrain-rmse:1155.65600\ttrain-rmsle:1.34156\tvalidation-rmse:1155.95014\tvalidation-rmsle:1.34027\n",
      "[25]\ttrain-rmse:1056.44041\ttrain-rmsle:1.16186\tvalidation-rmse:1056.82838\tvalidation-rmsle:1.16051\n",
      "[30]\ttrain-rmse:1056.44041\ttrain-rmsle:1.16186\tvalidation-rmse:1056.82838\tvalidation-rmsle:1.16051\n",
      "[33]\ttrain-rmse:1056.44041\ttrain-rmsle:1.16186\tvalidation-rmse:1056.82838\tvalidation-rmsle:1.16051\n"
     ]
    },
    {
     "name": "stderr",
     "output_type": "stream",
     "text": [
      "[I 2024-12-28 00:47:06,210] Trial 99 finished with value: 1.160509 and parameters: {'learning_rate': 0.3951921379211491, 'n_estimators': 543, 'max_depth': 10, 'min_child_weight': 5, 'subsample': 0.7866475367763697, 'colsample_bytree': 0.6501886710752128, 'gamma': 3.635680406331762, 'lambda': 2.8518162255335, 'alpha': 9.667682717820558}. Best is trial 91 with value: 1.05912.\n"
     ]
    }
   ],
   "source": [
    "\n",
    "# Start optimization\n",
    "study.optimize(objective, n_trials=100)"
   ]
  },
  {
   "cell_type": "markdown",
   "metadata": {},
   "source": [
    "# Catbost"
   ]
  },
  {
   "cell_type": "code",
   "execution_count": 40,
   "metadata": {},
   "outputs": [
    {
     "name": "stderr",
     "output_type": "stream",
     "text": [
      "[I 2024-12-28 02:12:55,557] A new study created in RDB with name: insurance-20241228_021255\n"
     ]
    }
   ],
   "source": [
    "import optuna\n",
    "from catboost import CatBoostRegressor, Pool\n",
    "from sklearn.model_selection import train_test_split\n",
    "from datetime import datetime\n",
    "import numpy as np\n",
    "from sklearn.metrics import mean_squared_log_error\n",
    "\n",
    "import numpy as np\n",
    "\n",
    "class RmsleMetric(object):\n",
    "    def get_final_error(self, error, weight):\n",
    "        # Calculate the final RMSLE value by taking the square root of the average error\n",
    "        return np.sqrt(error / (weight + 1e-38))\n",
    "\n",
    "    def is_max_optimal(self):\n",
    "        return False\n",
    "\n",
    "    def evaluate(self, approxes, target, weight):\n",
    "        assert len(approxes) == 1\n",
    "        assert len(target) == len(approxes[0])\n",
    "\n",
    "        approx = approxes[0]\n",
    "\n",
    "        error_sum = 0.0\n",
    "        weight_sum = 0.0\n",
    "\n",
    "        for i in range(len(approx)):\n",
    "            w = 1.0 if weight is None else weight[i]\n",
    "            weight_sum += w\n",
    "            # RMSLE calculation: squared logarithmic error\n",
    "            error_sum += w * ((np.log1p(approx[i]) - np.log1p(target[i])) ** 2)\n",
    "\n",
    "        return error_sum, weight_sum\n",
    "\n",
    "# Define objective function\n",
    "def objective(trial):\n",
    "    param_grid = {\n",
    "        'learning_rate': trial.suggest_float('learning_rate', 0.02, 0.5),  # Fine-tuned range\n",
    "        'iterations': trial.suggest_int('iterations', 10, 100),  # Number of trees\n",
    "        'depth': trial.suggest_int('depth', 3, 10),  # Depth of trees\n",
    "        'l2_leaf_reg': trial.suggest_float('l2_leaf_reg', 0.01, 10),  # L2 regularization\n",
    "        'min_data_in_leaf': trial.suggest_int('min_data_in_leaf', 1, 50),  # Minimum samples per leaf\n",
    "        'subsample': trial.suggest_float('subsample', 0.5, 1.0),  # Fraction of data used for each tree\n",
    "        'colsample_bylevel': trial.suggest_float('colsample_bylevel', 0.5, 1.0),  # Fraction of features used\n",
    "        'random_state': 42,  # Reproducibility\n",
    "    }\n",
    "\n",
    "    print(param_grid)\n",
    "\n",
    "    # Split data into train and validation sets\n",
    "    X_train_fold, X_val_fold, y_train_fold, y_val_fold = train_test_split(X_train, y_train, test_size=0.2, random_state=1)\n",
    "    X_train_fold = CatogoricalUnknownTransformer().fit_transform(X_train_fold)\n",
    "    X_val_fold = CatogoricalUnknownTransformer().fit_transform(X_val_fold)\n",
    "    \n",
    "    categorical_features = [col for col in X_train_fold.columns if X_train_fold[col].dtype == \"category\"]\n",
    "\n",
    "    # Create CatBoost Pool (a special format for CatBoost)\n",
    "    train_data = Pool(X_train_fold, label=y_train_fold, cat_features=categorical_features)\n",
    "    val_data = Pool(X_val_fold, label=y_val_fold, cat_features=categorical_features)\n",
    "\n",
    "    # Initialize and train the model\n",
    "    catboost_model = CatBoostRegressor(\n",
    "        **param_grid,\n",
    "        eval_metric=RmsleMetric(),  # Use custom RMSLE metric\n",
    "        verbose=5  # Logs every 5 rounds\n",
    "    )\n",
    "\n",
    "    catboost_model.fit(train_data, eval_set=val_data, early_stopping_rounds=10)\n",
    "\n",
    "    # Return the best RMSLE score from the validation set\n",
    "    print(catboost_model.get_best_score())\n",
    "    return catboost_model.get_best_score()['validation']['RmsleMetric']\n",
    "\n",
    "# Get current date and time in the format YYYYMMDD_HHMMSS\n",
    "current_datetime = datetime.now().strftime(\"%Y%m%d_%H%M%S\")\n",
    "\n",
    "# Create a study with a date and time identifier\n",
    "study = optuna.create_study(\n",
    "    direction='minimize',\n",
    "    storage=\"sqlite:///optuna_db.sqlite3\",\n",
    "    study_name=f\"insurance-{current_datetime}\",  # Append date and time to study name\n",
    "    sampler=optuna.samplers.TPESampler(),\n",
    "    pruner=optuna.pruners.HyperbandPruner()\n",
    ")\n"
   ]
  },
  {
   "cell_type": "code",
   "execution_count": 41,
   "metadata": {},
   "outputs": [
    {
     "name": "stdout",
     "output_type": "stream",
     "text": [
      "{'learning_rate': 0.1308858776997113, 'iterations': 30, 'depth': 9, 'l2_leaf_reg': 8.365663597569434, 'min_data_in_leaf': 47, 'subsample': 0.7793090966308684, 'colsample_bylevel': 0.7691257079996305, 'random_state': 42}\n",
      "0:\tlearn: 1.1678947\ttest: 1.1668657\tbest: 1.1668657 (0)\ttotal: 378ms\tremaining: 11s\n",
      "5:\tlearn: 1.1521604\ttest: 1.1511724\tbest: 1.1511724 (5)\ttotal: 1.44s\tremaining: 5.78s\n",
      "10:\tlearn: 1.1448253\ttest: 1.1438438\tbest: 1.1438438 (10)\ttotal: 2.44s\tremaining: 4.22s\n",
      "15:\tlearn: 1.1409032\ttest: 1.1399601\tbest: 1.1399601 (15)\ttotal: 3.4s\tremaining: 2.98s\n",
      "20:\tlearn: 1.1388818\ttest: 1.1378632\tbest: 1.1378632 (20)\ttotal: 4.38s\tremaining: 1.88s\n",
      "25:\tlearn: 1.1380980\ttest: 1.1371805\tbest: 1.1371805 (25)\ttotal: 5.33s\tremaining: 820ms\n"
     ]
    },
    {
     "name": "stderr",
     "output_type": "stream",
     "text": [
      "[I 2024-12-28 02:13:03,061] Trial 0 finished with value: 1.1369037822153407 and parameters: {'learning_rate': 0.1308858776997113, 'iterations': 30, 'depth': 9, 'l2_leaf_reg': 8.365663597569434, 'min_data_in_leaf': 47, 'subsample': 0.7793090966308684, 'colsample_bylevel': 0.7691257079996305}. Best is trial 0 with value: 1.1369037822153407.\n"
     ]
    },
    {
     "name": "stdout",
     "output_type": "stream",
     "text": [
      "29:\tlearn: 1.1377323\ttest: 1.1369038\tbest: 1.1369038 (29)\ttotal: 6.13s\tremaining: 0us\n",
      "\n",
      "bestTest = 1.136903782\n",
      "bestIteration = 29\n",
      "\n",
      "{'learn': {'RmsleMetric': 1.1377323351024844, 'RMSE': 837.2351326697067}, 'validation': {'RmsleMetric': 1.1369037822153407, 'RMSE': 838.431870406504}}\n",
      "{'learning_rate': 0.12110748272324244, 'iterations': 46, 'depth': 8, 'l2_leaf_reg': 3.7261717456189265, 'min_data_in_leaf': 12, 'subsample': 0.8929868812735011, 'colsample_bylevel': 0.7544251675066582, 'random_state': 42}\n",
      "0:\tlearn: 1.1671125\ttest: 1.1660639\tbest: 1.1660639 (0)\ttotal: 381ms\tremaining: 17.2s\n",
      "5:\tlearn: 1.1531221\ttest: 1.1520729\tbest: 1.1520729 (5)\ttotal: 1.38s\tremaining: 9.21s\n",
      "10:\tlearn: 1.1472850\ttest: 1.1462150\tbest: 1.1462150 (10)\ttotal: 2.32s\tremaining: 7.39s\n",
      "15:\tlearn: 1.1432098\ttest: 1.1421775\tbest: 1.1421775 (15)\ttotal: 3.26s\tremaining: 6.11s\n",
      "20:\tlearn: 1.1402720\ttest: 1.1392735\tbest: 1.1392735 (20)\ttotal: 4.17s\tremaining: 4.97s\n",
      "25:\tlearn: 1.1395374\ttest: 1.1385760\tbest: 1.1385760 (25)\ttotal: 5.14s\tremaining: 3.96s\n",
      "30:\tlearn: 1.1385650\ttest: 1.1376013\tbest: 1.1376013 (30)\ttotal: 6.04s\tremaining: 2.92s\n",
      "35:\tlearn: 1.1381570\ttest: 1.1372261\tbest: 1.1372261 (35)\ttotal: 6.97s\tremaining: 1.94s\n",
      "40:\tlearn: 1.1375913\ttest: 1.1367139\tbest: 1.1367139 (40)\ttotal: 7.87s\tremaining: 960ms\n"
     ]
    },
    {
     "name": "stderr",
     "output_type": "stream",
     "text": [
      "[I 2024-12-28 02:13:13,111] Trial 1 finished with value: 1.1361604421397202 and parameters: {'learning_rate': 0.12110748272324244, 'iterations': 46, 'depth': 8, 'l2_leaf_reg': 3.7261717456189265, 'min_data_in_leaf': 12, 'subsample': 0.8929868812735011, 'colsample_bylevel': 0.7544251675066582}. Best is trial 1 with value: 1.1361604421397202.\n"
     ]
    },
    {
     "name": "stdout",
     "output_type": "stream",
     "text": [
      "45:\tlearn: 1.1369836\ttest: 1.1361604\tbest: 1.1361604 (45)\ttotal: 8.79s\tremaining: 0us\n",
      "\n",
      "bestTest = 1.136160442\n",
      "bestIteration = 45\n",
      "\n",
      "{'learn': {'RmsleMetric': 1.1369836019017088, 'RMSE': 837.2539105026523}, 'validation': {'RmsleMetric': 1.1361604421397202, 'RMSE': 838.4388461186005}}\n",
      "{'learning_rate': 0.2287456615414666, 'iterations': 17, 'depth': 9, 'l2_leaf_reg': 7.283525865358969, 'min_data_in_leaf': 49, 'subsample': 0.5264855331183225, 'colsample_bylevel': 0.6509706877566745, 'random_state': 42}\n",
      "0:\tlearn: 1.1633823\ttest: 1.1623447\tbest: 1.1623447 (0)\ttotal: 404ms\tremaining: 6.46s\n",
      "5:\tlearn: 1.1443454\ttest: 1.1433066\tbest: 1.1433066 (5)\ttotal: 1.26s\tremaining: 2.32s\n",
      "10:\tlearn: 1.1392462\ttest: 1.1381122\tbest: 1.1381122 (10)\ttotal: 2.08s\tremaining: 1.14s\n",
      "15:\tlearn: 1.1380377\ttest: 1.1371441\tbest: 1.1371441 (15)\ttotal: 2.92s\tremaining: 182ms\n",
      "16:\tlearn: 1.1376574\ttest: 1.1368100\tbest: 1.1368100 (16)\ttotal: 3.06s\tremaining: 0us\n",
      "\n",
      "bestTest = 1.136810049\n",
      "bestIteration = 16\n",
      "\n",
      "{'learn': {'RmsleMetric': 1.1376574473844685, 'RMSE': 837.5143188625925}, 'validation': {'RmsleMetric': 1.1368100485756418, 'RMSE': 838.7114850083274}}\n"
     ]
    },
    {
     "name": "stderr",
     "output_type": "stream",
     "text": [
      "[I 2024-12-28 02:13:17,441] Trial 2 finished with value: 1.1368100485756418 and parameters: {'learning_rate': 0.2287456615414666, 'iterations': 17, 'depth': 9, 'l2_leaf_reg': 7.283525865358969, 'min_data_in_leaf': 49, 'subsample': 0.5264855331183225, 'colsample_bylevel': 0.6509706877566745}. Best is trial 1 with value: 1.1361604421397202.\n"
     ]
    },
    {
     "name": "stdout",
     "output_type": "stream",
     "text": [
      "{'learning_rate': 0.4405731458707896, 'iterations': 90, 'depth': 4, 'l2_leaf_reg': 6.152510719394344, 'min_data_in_leaf': 45, 'subsample': 0.6006710232271695, 'colsample_bylevel': 0.6723990546801618, 'random_state': 42}\n",
      "0:\tlearn: 1.1656157\ttest: 1.1645106\tbest: 1.1645106 (0)\ttotal: 287ms\tremaining: 25.6s\n",
      "5:\tlearn: 1.1582723\ttest: 1.1571164\tbest: 1.1571164 (5)\ttotal: 790ms\tremaining: 11.1s\n",
      "10:\tlearn: 1.1521575\ttest: 1.1506828\tbest: 1.1506828 (10)\ttotal: 1.32s\tremaining: 9.49s\n",
      "15:\tlearn: 1.1503382\ttest: 1.1489862\tbest: 1.1489862 (15)\ttotal: 1.76s\tremaining: 8.17s\n",
      "20:\tlearn: 1.1494846\ttest: 1.1481786\tbest: 1.1481786 (20)\ttotal: 2.24s\tremaining: 7.35s\n",
      "25:\tlearn: 1.1483841\ttest: 1.1470330\tbest: 1.1470330 (25)\ttotal: 2.68s\tremaining: 6.59s\n",
      "30:\tlearn: 1.1455108\ttest: 1.1442335\tbest: 1.1442044 (28)\ttotal: 3.15s\tremaining: 6s\n",
      "35:\tlearn: 1.1446767\ttest: 1.1433993\tbest: 1.1433868 (34)\ttotal: 3.61s\tremaining: 5.41s\n",
      "40:\tlearn: 1.1440235\ttest: 1.1427138\tbest: 1.1426904 (39)\ttotal: 4.1s\tremaining: 4.89s\n",
      "45:\tlearn: 1.1440248\ttest: 1.1427437\tbest: 1.1426787 (43)\ttotal: 4.58s\tremaining: 4.38s\n",
      "50:\tlearn: 1.1440721\ttest: 1.1428962\tbest: 1.1425692 (47)\ttotal: 5.02s\tremaining: 3.84s\n",
      "55:\tlearn: 1.1434366\ttest: 1.1423627\tbest: 1.1423627 (55)\ttotal: 5.49s\tremaining: 3.33s\n",
      "60:\tlearn: 1.1424592\ttest: 1.1414456\tbest: 1.1414456 (60)\ttotal: 5.97s\tremaining: 2.84s\n",
      "65:\tlearn: 1.1419688\ttest: 1.1410080\tbest: 1.1409201 (63)\ttotal: 6.41s\tremaining: 2.33s\n",
      "70:\tlearn: 1.1418076\ttest: 1.1408825\tbest: 1.1407918 (66)\ttotal: 6.87s\tremaining: 1.84s\n",
      "75:\tlearn: 1.1415372\ttest: 1.1406461\tbest: 1.1405568 (74)\ttotal: 7.34s\tremaining: 1.35s\n",
      "80:\tlearn: 1.1414370\ttest: 1.1405183\tbest: 1.1401961 (76)\ttotal: 7.81s\tremaining: 867ms\n",
      "85:\tlearn: 1.1410441\ttest: 1.1401462\tbest: 1.1401086 (83)\ttotal: 8.27s\tremaining: 385ms\n"
     ]
    },
    {
     "name": "stderr",
     "output_type": "stream",
     "text": [
      "[I 2024-12-28 02:13:27,398] Trial 3 finished with value: 1.1401085640889839 and parameters: {'learning_rate': 0.4405731458707896, 'iterations': 90, 'depth': 4, 'l2_leaf_reg': 6.152510719394344, 'min_data_in_leaf': 45, 'subsample': 0.6006710232271695, 'colsample_bylevel': 0.6723990546801618}. Best is trial 1 with value: 1.1361604421397202.\n"
     ]
    },
    {
     "name": "stdout",
     "output_type": "stream",
     "text": [
      "89:\tlearn: 1.1410962\ttest: 1.1402201\tbest: 1.1401086 (83)\ttotal: 8.66s\tremaining: 0us\n",
      "\n",
      "bestTest = 1.140108564\n",
      "bestIteration = 83\n",
      "\n",
      "Shrink model to first 84 iterations.\n",
      "{'learn': {'RmsleMetric': 1.141010774516743, 'RMSE': 841.9738720638769}, 'validation': {'RmsleMetric': 1.1401085640889839, 'RMSE': 842.7838206516705}}\n",
      "{'learning_rate': 0.18324445397953615, 'iterations': 68, 'depth': 6, 'l2_leaf_reg': 6.829175497379206, 'min_data_in_leaf': 4, 'subsample': 0.9141635999606071, 'colsample_bylevel': 0.9456266018785642, 'random_state': 42}\n",
      "0:\tlearn: 1.1667523\ttest: 1.1656772\tbest: 1.1656772 (0)\ttotal: 345ms\tremaining: 23.1s\n",
      "5:\tlearn: 1.1551892\ttest: 1.1540948\tbest: 1.1540948 (5)\ttotal: 1.24s\tremaining: 12.8s\n",
      "10:\tlearn: 1.1509756\ttest: 1.1498826\tbest: 1.1498826 (10)\ttotal: 2.06s\tremaining: 10.7s\n",
      "15:\tlearn: 1.1465666\ttest: 1.1454044\tbest: 1.1454044 (15)\ttotal: 2.84s\tremaining: 9.24s\n",
      "20:\tlearn: 1.1442186\ttest: 1.1430015\tbest: 1.1430015 (20)\ttotal: 3.63s\tremaining: 8.13s\n",
      "25:\tlearn: 1.1429993\ttest: 1.1418124\tbest: 1.1418124 (25)\ttotal: 4.42s\tremaining: 7.14s\n",
      "30:\tlearn: 1.1423436\ttest: 1.1412481\tbest: 1.1412481 (30)\ttotal: 5.22s\tremaining: 6.24s\n",
      "35:\tlearn: 1.1417235\ttest: 1.1406494\tbest: 1.1406494 (35)\ttotal: 6.04s\tremaining: 5.37s\n",
      "40:\tlearn: 1.1412531\ttest: 1.1402284\tbest: 1.1402284 (40)\ttotal: 6.78s\tremaining: 4.47s\n",
      "45:\tlearn: 1.1410849\ttest: 1.1400571\tbest: 1.1400400 (44)\ttotal: 7.59s\tremaining: 3.63s\n",
      "50:\tlearn: 1.1410685\ttest: 1.1400426\tbest: 1.1399133 (48)\ttotal: 8.43s\tremaining: 2.81s\n",
      "55:\tlearn: 1.1404734\ttest: 1.1394710\tbest: 1.1394710 (55)\ttotal: 9.34s\tremaining: 2s\n",
      "60:\tlearn: 1.1401058\ttest: 1.1391121\tbest: 1.1391121 (60)\ttotal: 10.2s\tremaining: 1.17s\n",
      "65:\tlearn: 1.1397430\ttest: 1.1388016\tbest: 1.1388016 (65)\ttotal: 10.9s\tremaining: 331ms\n"
     ]
    },
    {
     "name": "stderr",
     "output_type": "stream",
     "text": [
      "[I 2024-12-28 02:13:39,940] Trial 4 finished with value: 1.1383567070103482 and parameters: {'learning_rate': 0.18324445397953615, 'iterations': 68, 'depth': 6, 'l2_leaf_reg': 6.829175497379206, 'min_data_in_leaf': 4, 'subsample': 0.9141635999606071, 'colsample_bylevel': 0.9456266018785642}. Best is trial 1 with value: 1.1361604421397202.\n"
     ]
    },
    {
     "name": "stdout",
     "output_type": "stream",
     "text": [
      "67:\tlearn: 1.1392775\ttest: 1.1383567\tbest: 1.1383567 (67)\ttotal: 11.3s\tremaining: 0us\n",
      "\n",
      "bestTest = 1.138356707\n",
      "bestIteration = 67\n",
      "\n",
      "{'learn': {'RmsleMetric': 1.1392774844830031, 'RMSE': 839.3286496971219}, 'validation': {'RmsleMetric': 1.1383567070103482, 'RMSE': 840.2685350009111}}\n",
      "{'learning_rate': 0.28677547181505064, 'iterations': 13, 'depth': 5, 'l2_leaf_reg': 9.54064183087748, 'min_data_in_leaf': 10, 'subsample': 0.8162505823408521, 'colsample_bylevel': 0.79326077329601, 'random_state': 42}\n",
      "0:\tlearn: 1.1659701\ttest: 1.1648264\tbest: 1.1648264 (0)\ttotal: 331ms\tremaining: 3.98s\n",
      "5:\tlearn: 1.1540653\ttest: 1.1529522\tbest: 1.1529522 (5)\ttotal: 1.04s\tremaining: 1.22s\n",
      "10:\tlearn: 1.1505544\ttest: 1.1494153\tbest: 1.1494153 (10)\ttotal: 1.69s\tremaining: 308ms\n"
     ]
    },
    {
     "name": "stderr",
     "output_type": "stream",
     "text": [
      "[I 2024-12-28 02:13:43,157] Trial 5 finished with value: 1.148435372860524 and parameters: {'learning_rate': 0.28677547181505064, 'iterations': 13, 'depth': 5, 'l2_leaf_reg': 9.54064183087748, 'min_data_in_leaf': 10, 'subsample': 0.8162505823408521, 'colsample_bylevel': 0.79326077329601}. Best is trial 1 with value: 1.1361604421397202.\n"
     ]
    },
    {
     "name": "stdout",
     "output_type": "stream",
     "text": [
      "12:\tlearn: 1.1495664\ttest: 1.1484354\tbest: 1.1484354 (12)\ttotal: 1.96s\tremaining: 0us\n",
      "\n",
      "bestTest = 1.148435373\n",
      "bestIteration = 12\n",
      "\n",
      "{'learn': {'RmsleMetric': 1.149566424459126, 'RMSE': 845.6713941628799}, 'validation': {'RmsleMetric': 1.148435372860524, 'RMSE': 846.2751856212773}}\n",
      "{'learning_rate': 0.15321598986553375, 'iterations': 12, 'depth': 8, 'l2_leaf_reg': 7.918793603308895, 'min_data_in_leaf': 31, 'subsample': 0.6113107601127208, 'colsample_bylevel': 0.9229454723445562, 'random_state': 42}\n",
      "0:\tlearn: 1.1653566\ttest: 1.1642958\tbest: 1.1642958 (0)\ttotal: 374ms\tremaining: 4.11s\n",
      "5:\tlearn: 1.1505389\ttest: 1.1494778\tbest: 1.1494778 (5)\ttotal: 1.23s\tremaining: 1.23s\n",
      "10:\tlearn: 1.1436620\ttest: 1.1425883\tbest: 1.1425883 (10)\ttotal: 2.07s\tremaining: 189ms\n",
      "11:\tlearn: 1.1430989\ttest: 1.1420486\tbest: 1.1420486 (11)\ttotal: 2.26s\tremaining: 0us\n",
      "\n",
      "bestTest = 1.142048575\n",
      "bestIteration = 11\n",
      "\n"
     ]
    },
    {
     "name": "stderr",
     "output_type": "stream",
     "text": [
      "[I 2024-12-28 02:13:46,660] Trial 6 finished with value: 1.1420485746712947 and parameters: {'learning_rate': 0.15321598986553375, 'iterations': 12, 'depth': 8, 'l2_leaf_reg': 7.918793603308895, 'min_data_in_leaf': 31, 'subsample': 0.6113107601127208, 'colsample_bylevel': 0.9229454723445562}. Best is trial 1 with value: 1.1361604421397202.\n"
     ]
    },
    {
     "name": "stdout",
     "output_type": "stream",
     "text": [
      "{'learn': {'RmsleMetric': 1.1430988844679273, 'RMSE': 840.6846091525299}, 'validation': {'RmsleMetric': 1.1420485746712947, 'RMSE': 841.4754102455086}}\n",
      "{'learning_rate': 0.40180624561531103, 'iterations': 92, 'depth': 4, 'l2_leaf_reg': 1.4185652019648136, 'min_data_in_leaf': 49, 'subsample': 0.5771377477905486, 'colsample_bylevel': 0.620794312589601, 'random_state': 42}\n",
      "0:\tlearn: 1.1649954\ttest: 1.1638710\tbest: 1.1638710 (0)\ttotal: 285ms\tremaining: 25.9s\n",
      "5:\tlearn: 1.1574224\ttest: 1.1562461\tbest: 1.1562461 (5)\ttotal: 774ms\tremaining: 11.1s\n",
      "10:\tlearn: 1.1531715\ttest: 1.1517056\tbest: 1.1517056 (10)\ttotal: 1.26s\tremaining: 9.31s\n",
      "15:\tlearn: 1.1491226\ttest: 1.1475949\tbest: 1.1475949 (15)\ttotal: 1.77s\tremaining: 8.39s\n",
      "20:\tlearn: 1.1480638\ttest: 1.1466576\tbest: 1.1466576 (20)\ttotal: 2.2s\tremaining: 7.43s\n",
      "25:\tlearn: 1.1469271\ttest: 1.1455582\tbest: 1.1455582 (25)\ttotal: 2.65s\tremaining: 6.72s\n",
      "30:\tlearn: 1.1458444\ttest: 1.1444328\tbest: 1.1444328 (30)\ttotal: 3.09s\tremaining: 6.07s\n",
      "35:\tlearn: 1.1451194\ttest: 1.1436700\tbest: 1.1436700 (35)\ttotal: 3.51s\tremaining: 5.46s\n",
      "40:\tlearn: 1.1446433\ttest: 1.1432976\tbest: 1.1430757 (38)\ttotal: 3.95s\tremaining: 4.91s\n",
      "45:\tlearn: 1.1443179\ttest: 1.1430277\tbest: 1.1427869 (43)\ttotal: 4.38s\tremaining: 4.38s\n",
      "50:\tlearn: 1.1427721\ttest: 1.1414956\tbest: 1.1414956 (50)\ttotal: 4.89s\tremaining: 3.93s\n",
      "55:\tlearn: 1.1427345\ttest: 1.1414775\tbest: 1.1414775 (55)\ttotal: 5.38s\tremaining: 3.46s\n",
      "60:\tlearn: 1.1425544\ttest: 1.1413102\tbest: 1.1412050 (59)\ttotal: 5.86s\tremaining: 2.98s\n",
      "65:\tlearn: 1.1420153\ttest: 1.1407830\tbest: 1.1407444 (63)\ttotal: 6.31s\tremaining: 2.49s\n",
      "70:\tlearn: 1.1421113\ttest: 1.1409116\tbest: 1.1407444 (63)\ttotal: 6.8s\tremaining: 2.01s\n"
     ]
    },
    {
     "name": "stderr",
     "output_type": "stream",
     "text": [
      "[I 2024-12-28 02:13:54,983] Trial 7 finished with value: 1.1407443685424026 and parameters: {'learning_rate': 0.40180624561531103, 'iterations': 92, 'depth': 4, 'l2_leaf_reg': 1.4185652019648136, 'min_data_in_leaf': 49, 'subsample': 0.5771377477905486, 'colsample_bylevel': 0.620794312589601}. Best is trial 1 with value: 1.1361604421397202.\n"
     ]
    },
    {
     "name": "stdout",
     "output_type": "stream",
     "text": [
      "Stopped by overfitting detector  (10 iterations wait)\n",
      "\n",
      "bestTest = 1.140744369\n",
      "bestIteration = 63\n",
      "\n",
      "Shrink model to first 64 iterations.\n",
      "{'learn': {'RmsleMetric': 1.1419983692236881, 'RMSE': 842.8897358255757}, 'validation': {'RmsleMetric': 1.1407443685424026, 'RMSE': 843.5595784527924}}\n",
      "{'learning_rate': 0.17877225308401198, 'iterations': 52, 'depth': 9, 'l2_leaf_reg': 0.7761306905423225, 'min_data_in_leaf': 5, 'subsample': 0.6367724636533183, 'colsample_bylevel': 0.8473568212425406, 'random_state': 42}\n",
      "0:\tlearn: 1.1643291\ttest: 1.1633083\tbest: 1.1633083 (0)\ttotal: 429ms\tremaining: 21.9s\n",
      "5:\tlearn: 1.1470985\ttest: 1.1461534\tbest: 1.1461534 (5)\ttotal: 1.36s\tremaining: 10.4s\n",
      "10:\tlearn: 1.1400681\ttest: 1.1391253\tbest: 1.1391253 (10)\ttotal: 2.29s\tremaining: 8.54s\n",
      "15:\tlearn: 1.1377728\ttest: 1.1369108\tbest: 1.1369108 (15)\ttotal: 3.2s\tremaining: 7.2s\n",
      "20:\tlearn: 1.1369967\ttest: 1.1362874\tbest: 1.1362651 (19)\ttotal: 4.09s\tremaining: 6.04s\n",
      "25:\tlearn: 1.1363789\ttest: 1.1358299\tbest: 1.1358299 (25)\ttotal: 4.88s\tremaining: 4.88s\n",
      "30:\tlearn: 1.1352175\ttest: 1.1348121\tbest: 1.1347788 (29)\ttotal: 5.78s\tremaining: 3.92s\n",
      "35:\tlearn: 1.1349050\ttest: 1.1346879\tbest: 1.1346714 (34)\ttotal: 6.59s\tremaining: 2.93s\n",
      "40:\tlearn: 1.1344288\ttest: 1.1342959\tbest: 1.1342830 (39)\ttotal: 7.5s\tremaining: 2.01s\n",
      "45:\tlearn: 1.1341916\ttest: 1.1341423\tbest: 1.1341423 (45)\ttotal: 8.33s\tremaining: 1.09s\n",
      "50:\tlearn: 1.1340674\ttest: 1.1340857\tbest: 1.1340857 (50)\ttotal: 9.24s\tremaining: 181ms\n",
      "51:\tlearn: 1.1340033\ttest: 1.1340652\tbest: 1.1340652 (51)\ttotal: 9.41s\tremaining: 0us\n",
      "\n",
      "bestTest = 1.134065231\n",
      "bestIteration = 51\n",
      "\n"
     ]
    },
    {
     "name": "stderr",
     "output_type": "stream",
     "text": [
      "[I 2024-12-28 02:14:05,702] Trial 8 finished with value: 1.1340652309664714 and parameters: {'learning_rate': 0.17877225308401198, 'iterations': 52, 'depth': 9, 'l2_leaf_reg': 0.7761306905423225, 'min_data_in_leaf': 5, 'subsample': 0.6367724636533183, 'colsample_bylevel': 0.8473568212425406}. Best is trial 8 with value: 1.1340652309664714.\n"
     ]
    },
    {
     "name": "stdout",
     "output_type": "stream",
     "text": [
      "{'learn': {'RmsleMetric': 1.134003321321907, 'RMSE': 835.1385416206278}, 'validation': {'RmsleMetric': 1.1340652309664714, 'RMSE': 837.4902880653719}}\n",
      "{'learning_rate': 0.18984214096063387, 'iterations': 85, 'depth': 8, 'l2_leaf_reg': 3.9988470154106235, 'min_data_in_leaf': 20, 'subsample': 0.9128850623017168, 'colsample_bylevel': 0.8418420009483638, 'random_state': 42}\n",
      "0:\tlearn: 1.1662665\ttest: 1.1652436\tbest: 1.1652436 (0)\ttotal: 396ms\tremaining: 33.3s\n",
      "5:\tlearn: 1.1477593\ttest: 1.1466932\tbest: 1.1466932 (5)\ttotal: 1.42s\tremaining: 18.7s\n",
      "10:\tlearn: 1.1423218\ttest: 1.1412317\tbest: 1.1412317 (10)\ttotal: 2.43s\tremaining: 16.3s\n",
      "15:\tlearn: 1.1389064\ttest: 1.1378553\tbest: 1.1378553 (15)\ttotal: 3.35s\tremaining: 14.4s\n",
      "20:\tlearn: 1.1374642\ttest: 1.1364375\tbest: 1.1364375 (20)\ttotal: 4.31s\tremaining: 13.1s\n",
      "25:\tlearn: 1.1365905\ttest: 1.1356775\tbest: 1.1356775 (25)\ttotal: 5.24s\tremaining: 11.9s\n",
      "30:\tlearn: 1.1362186\ttest: 1.1353834\tbest: 1.1353834 (30)\ttotal: 6.22s\tremaining: 10.8s\n",
      "35:\tlearn: 1.1358956\ttest: 1.1351268\tbest: 1.1351268 (35)\ttotal: 7.21s\tremaining: 9.81s\n",
      "40:\tlearn: 1.1354897\ttest: 1.1348076\tbest: 1.1348063 (39)\ttotal: 8.18s\tremaining: 8.78s\n",
      "45:\tlearn: 1.1354203\ttest: 1.1348616\tbest: 1.1348063 (39)\ttotal: 8.98s\tremaining: 7.62s\n"
     ]
    },
    {
     "name": "stderr",
     "output_type": "stream",
     "text": [
      "[I 2024-12-28 02:14:16,755] Trial 9 finished with value: 1.1348062984227048 and parameters: {'learning_rate': 0.18984214096063387, 'iterations': 85, 'depth': 8, 'l2_leaf_reg': 3.9988470154106235, 'min_data_in_leaf': 20, 'subsample': 0.9128850623017168, 'colsample_bylevel': 0.8418420009483638}. Best is trial 8 with value: 1.1340652309664714.\n"
     ]
    },
    {
     "name": "stdout",
     "output_type": "stream",
     "text": [
      "Stopped by overfitting detector  (10 iterations wait)\n",
      "\n",
      "bestTest = 1.134806298\n",
      "bestIteration = 39\n",
      "\n",
      "Shrink model to first 40 iterations.\n",
      "{'learn': {'RmsleMetric': 1.1353293252401806, 'RMSE': 836.1139244467203}, 'validation': {'RmsleMetric': 1.1348062984227048, 'RMSE': 837.7310767346202}}\n",
      "{'learning_rate': 0.3238085706744447, 'iterations': 57, 'depth': 10, 'l2_leaf_reg': 1.5129343504061104, 'min_data_in_leaf': 32, 'subsample': 0.6865598131557501, 'colsample_bylevel': 0.5120879763790971, 'random_state': 42}\n",
      "0:\tlearn: 1.1593429\ttest: 1.1584829\tbest: 1.1584829 (0)\ttotal: 421ms\tremaining: 23.6s\n",
      "5:\tlearn: 1.1381241\ttest: 1.1374144\tbest: 1.1374144 (5)\ttotal: 1.47s\tremaining: 12.5s\n",
      "10:\tlearn: 1.1352525\ttest: 1.1349656\tbest: 1.1349656 (10)\ttotal: 2.54s\tremaining: 10.6s\n",
      "15:\tlearn: 1.1339648\ttest: 1.1342177\tbest: 1.1341929 (13)\ttotal: 3.58s\tremaining: 9.17s\n",
      "20:\tlearn: 1.1330963\ttest: 1.1338552\tbest: 1.1338552 (20)\ttotal: 4.65s\tremaining: 7.97s\n",
      "25:\tlearn: 1.1327364\ttest: 1.1339217\tbest: 1.1338138 (23)\ttotal: 5.43s\tremaining: 6.48s\n",
      "30:\tlearn: 1.1324495\ttest: 1.1339772\tbest: 1.1338138 (23)\ttotal: 6.38s\tremaining: 5.35s\n"
     ]
    },
    {
     "name": "stderr",
     "output_type": "stream",
     "text": [
      "[I 2024-12-28 02:14:24,991] Trial 10 finished with value: 1.1338137558559316 and parameters: {'learning_rate': 0.3238085706744447, 'iterations': 57, 'depth': 10, 'l2_leaf_reg': 1.5129343504061104, 'min_data_in_leaf': 32, 'subsample': 0.6865598131557501, 'colsample_bylevel': 0.5120879763790971}. Best is trial 10 with value: 1.1338137558559316.\n"
     ]
    },
    {
     "name": "stdout",
     "output_type": "stream",
     "text": [
      "Stopped by overfitting detector  (10 iterations wait)\n",
      "\n",
      "bestTest = 1.133813756\n",
      "bestIteration = 23\n",
      "\n",
      "Shrink model to first 24 iterations.\n",
      "{'learn': {'RmsleMetric': 1.1321284018568754, 'RMSE': 832.4952687536238}, 'validation': {'RmsleMetric': 1.1338137558559316, 'RMSE': 837.4431051413839}}\n",
      "{'learning_rate': 0.025020435823619958, 'iterations': 57, 'depth': 10, 'l2_leaf_reg': 0.45703594104886935, 'min_data_in_leaf': 32, 'subsample': 0.6947342299627378, 'colsample_bylevel': 0.5311143050579542, 'random_state': 42}\n",
      "0:\tlearn: 1.1702496\ttest: 1.1691925\tbest: 1.1691925 (0)\ttotal: 417ms\tremaining: 23.3s\n",
      "5:\tlearn: 1.1663422\ttest: 1.1653306\tbest: 1.1653306 (5)\ttotal: 1.55s\tremaining: 13.2s\n",
      "10:\tlearn: 1.1628520\ttest: 1.1618772\tbest: 1.1618772 (10)\ttotal: 2.58s\tremaining: 10.8s\n",
      "15:\tlearn: 1.1596262\ttest: 1.1586800\tbest: 1.1586800 (15)\ttotal: 3.63s\tremaining: 9.3s\n",
      "20:\tlearn: 1.1564908\ttest: 1.1555703\tbest: 1.1555703 (20)\ttotal: 4.6s\tremaining: 7.89s\n",
      "25:\tlearn: 1.1540075\ttest: 1.1531154\tbest: 1.1531154 (25)\ttotal: 5.61s\tremaining: 6.69s\n",
      "30:\tlearn: 1.1514553\ttest: 1.1505754\tbest: 1.1505754 (30)\ttotal: 6.65s\tremaining: 5.58s\n",
      "35:\tlearn: 1.1492749\ttest: 1.1483971\tbest: 1.1483971 (35)\ttotal: 7.69s\tremaining: 4.48s\n",
      "40:\tlearn: 1.1475422\ttest: 1.1466786\tbest: 1.1466786 (40)\ttotal: 8.77s\tremaining: 3.42s\n",
      "45:\tlearn: 1.1460331\ttest: 1.1451782\tbest: 1.1451782 (45)\ttotal: 9.86s\tremaining: 2.36s\n",
      "50:\tlearn: 1.1447145\ttest: 1.1438635\tbest: 1.1438635 (50)\ttotal: 11s\tremaining: 1.29s\n",
      "55:\tlearn: 1.1434728\ttest: 1.1426347\tbest: 1.1426347 (55)\ttotal: 12s\tremaining: 215ms\n"
     ]
    },
    {
     "name": "stderr",
     "output_type": "stream",
     "text": [
      "[I 2024-12-28 02:14:38,502] Trial 11 finished with value: 1.1424471040255515 and parameters: {'learning_rate': 0.025020435823619958, 'iterations': 57, 'depth': 10, 'l2_leaf_reg': 0.45703594104886935, 'min_data_in_leaf': 32, 'subsample': 0.6947342299627378, 'colsample_bylevel': 0.5311143050579542}. Best is trial 10 with value: 1.1338137558559316.\n"
     ]
    },
    {
     "name": "stdout",
     "output_type": "stream",
     "text": [
      "56:\tlearn: 1.1432866\ttest: 1.1424471\tbest: 1.1424471 (56)\ttotal: 12.3s\tremaining: 0us\n",
      "\n",
      "bestTest = 1.142447104\n",
      "bestIteration = 56\n",
      "\n",
      "{'learn': {'RmsleMetric': 1.1432865598138828, 'RMSE': 839.4691051481803}, 'validation': {'RmsleMetric': 1.1424471040255515, 'RMSE': 840.5622435260462}}\n",
      "{'learning_rate': 0.3284156172964486, 'iterations': 47, 'depth': 10, 'l2_leaf_reg': 2.144480914900785, 'min_data_in_leaf': 23, 'subsample': 0.6842387962674021, 'colsample_bylevel': 0.5153595074710948, 'random_state': 42}\n",
      "0:\tlearn: 1.1599707\ttest: 1.1590033\tbest: 1.1590033 (0)\ttotal: 516ms\tremaining: 23.7s\n",
      "5:\tlearn: 1.1384494\ttest: 1.1376101\tbest: 1.1376101 (5)\ttotal: 1.66s\tremaining: 11.3s\n",
      "10:\tlearn: 1.1345222\ttest: 1.1342268\tbest: 1.1342268 (10)\ttotal: 2.66s\tremaining: 8.69s\n",
      "15:\tlearn: 1.1332500\ttest: 1.1332681\tbest: 1.1332131 (14)\ttotal: 3.58s\tremaining: 6.93s\n",
      "20:\tlearn: 1.1327876\ttest: 1.1330702\tbest: 1.1330627 (19)\ttotal: 4.46s\tremaining: 5.52s\n",
      "25:\tlearn: 1.1323358\ttest: 1.1330207\tbest: 1.1330207 (25)\ttotal: 5.49s\tremaining: 4.44s\n",
      "30:\tlearn: 1.1318253\ttest: 1.1331122\tbest: 1.1329888 (26)\ttotal: 6.48s\tremaining: 3.34s\n",
      "35:\tlearn: 1.1313309\ttest: 1.1330736\tbest: 1.1329888 (26)\ttotal: 7.38s\tremaining: 2.26s\n",
      "Stopped by overfitting detector  (10 iterations wait)\n",
      "\n",
      "bestTest = 1.132988821\n",
      "bestIteration = 26\n",
      "\n",
      "Shrink model to first 27 iterations.\n",
      "{'learn': {'RmsleMetric': 1.1313290832346397, 'RMSE': 832.6902215867997}, 'validation': {'RmsleMetric': 1.1329888211788033, 'RMSE': 837.3447682541952}}\n"
     ]
    },
    {
     "name": "stderr",
     "output_type": "stream",
     "text": [
      "[I 2024-12-28 02:14:47,347] Trial 12 finished with value: 1.1329888211788033 and parameters: {'learning_rate': 0.3284156172964486, 'iterations': 47, 'depth': 10, 'l2_leaf_reg': 2.144480914900785, 'min_data_in_leaf': 23, 'subsample': 0.6842387962674021, 'colsample_bylevel': 0.5153595074710948}. Best is trial 12 with value: 1.1329888211788033.\n"
     ]
    },
    {
     "name": "stdout",
     "output_type": "stream",
     "text": [
      "{'learning_rate': 0.32970291683977293, 'iterations': 36, 'depth': 10, 'l2_leaf_reg': 2.443723232810377, 'min_data_in_leaf': 23, 'subsample': 0.7043301280032134, 'colsample_bylevel': 0.5140009023733517, 'random_state': 42}\n",
      "0:\tlearn: 1.1599250\ttest: 1.1589576\tbest: 1.1589576 (0)\ttotal: 416ms\tremaining: 14.6s\n",
      "5:\tlearn: 1.1402005\ttest: 1.1395979\tbest: 1.1395979 (5)\ttotal: 1.57s\tremaining: 7.83s\n",
      "10:\tlearn: 1.1347604\ttest: 1.1343233\tbest: 1.1343233 (10)\ttotal: 2.67s\tremaining: 6.06s\n",
      "15:\tlearn: 1.1334670\ttest: 1.1335959\tbest: 1.1335959 (15)\ttotal: 3.66s\tremaining: 4.58s\n",
      "20:\tlearn: 1.1329376\ttest: 1.1334448\tbest: 1.1333717 (17)\ttotal: 4.77s\tremaining: 3.41s\n",
      "25:\tlearn: 1.1321916\ttest: 1.1330119\tbest: 1.1329921 (24)\ttotal: 5.74s\tremaining: 2.21s\n",
      "30:\tlearn: 1.1314877\ttest: 1.1329027\tbest: 1.1328777 (28)\ttotal: 6.82s\tremaining: 1.1s\n"
     ]
    },
    {
     "name": "stderr",
     "output_type": "stream",
     "text": [
      "[I 2024-12-28 02:14:56,503] Trial 13 finished with value: 1.1328660841849232 and parameters: {'learning_rate': 0.32970291683977293, 'iterations': 36, 'depth': 10, 'l2_leaf_reg': 2.443723232810377, 'min_data_in_leaf': 23, 'subsample': 0.7043301280032134, 'colsample_bylevel': 0.5140009023733517}. Best is trial 13 with value: 1.1328660841849232.\n"
     ]
    },
    {
     "name": "stdout",
     "output_type": "stream",
     "text": [
      "35:\tlearn: 1.1309578\ttest: 1.1329274\tbest: 1.1328661 (31)\ttotal: 7.87s\tremaining: 0us\n",
      "\n",
      "bestTest = 1.132866084\n",
      "bestIteration = 31\n",
      "\n",
      "Shrink model to first 32 iterations.\n",
      "{'learn': {'RmsleMetric': 1.1309578222198429, 'RMSE': 832.2300263947091}, 'validation': {'RmsleMetric': 1.1328660841849232, 'RMSE': 837.3254039882511}}\n",
      "{'learning_rate': 0.35890223282578865, 'iterations': 36, 'depth': 7, 'l2_leaf_reg': 3.122006589500362, 'min_data_in_leaf': 22, 'subsample': 0.7366532379350778, 'colsample_bylevel': 0.5794406807169151, 'random_state': 42}\n",
      "0:\tlearn: 1.1617098\ttest: 1.1607170\tbest: 1.1607170 (0)\ttotal: 356ms\tremaining: 12.5s\n",
      "5:\tlearn: 1.1442414\ttest: 1.1431419\tbest: 1.1431419 (5)\ttotal: 1.23s\tremaining: 6.15s\n",
      "10:\tlearn: 1.1411511\ttest: 1.1400950\tbest: 1.1400950 (10)\ttotal: 1.95s\tremaining: 4.44s\n",
      "15:\tlearn: 1.1392851\ttest: 1.1383126\tbest: 1.1382227 (13)\ttotal: 2.66s\tremaining: 3.32s\n",
      "20:\tlearn: 1.1373302\ttest: 1.1364779\tbest: 1.1364779 (20)\ttotal: 3.36s\tremaining: 2.4s\n",
      "25:\tlearn: 1.1363266\ttest: 1.1355767\tbest: 1.1355767 (25)\ttotal: 4.1s\tremaining: 1.58s\n",
      "30:\tlearn: 1.1361736\ttest: 1.1354662\tbest: 1.1354057 (29)\ttotal: 4.84s\tremaining: 781ms\n"
     ]
    },
    {
     "name": "stderr",
     "output_type": "stream",
     "text": [
      "[I 2024-12-28 02:15:03,325] Trial 14 finished with value: 1.135312741133896 and parameters: {'learning_rate': 0.35890223282578865, 'iterations': 36, 'depth': 7, 'l2_leaf_reg': 3.122006589500362, 'min_data_in_leaf': 22, 'subsample': 0.7366532379350778, 'colsample_bylevel': 0.5794406807169151}. Best is trial 13 with value: 1.1328660841849232.\n"
     ]
    },
    {
     "name": "stdout",
     "output_type": "stream",
     "text": [
      "35:\tlearn: 1.1359389\ttest: 1.1353127\tbest: 1.1353127 (35)\ttotal: 5.53s\tremaining: 0us\n",
      "\n",
      "bestTest = 1.135312741\n",
      "bestIteration = 35\n",
      "\n",
      "{'learn': {'RmsleMetric': 1.1359389193521692, 'RMSE': 837.3473830972971}, 'validation': {'RmsleMetric': 1.135312741133896, 'RMSE': 838.7389823122153}}\n",
      "{'learning_rate': 0.479822228803258, 'iterations': 30, 'depth': 10, 'l2_leaf_reg': 2.6549547550936192, 'min_data_in_leaf': 17, 'subsample': 0.8304026953406846, 'colsample_bylevel': 0.5685595770586538, 'random_state': 42}\n",
      "0:\tlearn: 1.1543669\ttest: 1.1535195\tbest: 1.1535195 (0)\ttotal: 468ms\tremaining: 13.6s\n",
      "5:\tlearn: 1.1356710\ttest: 1.1351111\tbest: 1.1351111 (5)\ttotal: 1.81s\tremaining: 7.25s\n",
      "10:\tlearn: 1.1336284\ttest: 1.1337057\tbest: 1.1337057 (10)\ttotal: 3.04s\tremaining: 5.25s\n",
      "15:\tlearn: 1.1316781\ttest: 1.1322915\tbest: 1.1322915 (15)\ttotal: 4.24s\tremaining: 3.71s\n",
      "20:\tlearn: 1.1312937\ttest: 1.1324587\tbest: 1.1322915 (15)\ttotal: 5.47s\tremaining: 2.35s\n"
     ]
    },
    {
     "name": "stderr",
     "output_type": "stream",
     "text": [
      "[I 2024-12-28 02:15:11,430] Trial 15 finished with value: 1.132291508711 and parameters: {'learning_rate': 0.479822228803258, 'iterations': 30, 'depth': 10, 'l2_leaf_reg': 2.6549547550936192, 'min_data_in_leaf': 17, 'subsample': 0.8304026953406846, 'colsample_bylevel': 0.5685595770586538}. Best is trial 15 with value: 1.132291508711.\n"
     ]
    },
    {
     "name": "stdout",
     "output_type": "stream",
     "text": [
      "25:\tlearn: 1.1306771\ttest: 1.1325369\tbest: 1.1322915 (15)\ttotal: 6.73s\tremaining: 1.03s\n",
      "Stopped by overfitting detector  (10 iterations wait)\n",
      "\n",
      "bestTest = 1.132291509\n",
      "bestIteration = 15\n",
      "\n",
      "Shrink model to first 16 iterations.\n",
      "{'learn': {'RmsleMetric': 1.13067710177499, 'RMSE': 832.73087181396}, 'validation': {'RmsleMetric': 1.132291508711, 'RMSE': 837.6852538245855}}\n",
      "{'learning_rate': 0.47247057255844377, 'iterations': 29, 'depth': 7, 'l2_leaf_reg': 5.0463313456536305, 'min_data_in_leaf': 16, 'subsample': 0.9930194852884668, 'colsample_bylevel': 0.6864516896192008, 'random_state': 42}\n",
      "0:\tlearn: 1.1576562\ttest: 1.1565451\tbest: 1.1565451 (0)\ttotal: 369ms\tremaining: 10.3s\n",
      "5:\tlearn: 1.1418081\ttest: 1.1406702\tbest: 1.1406702 (5)\ttotal: 1.29s\tremaining: 4.95s\n",
      "10:\tlearn: 1.1387448\ttest: 1.1377277\tbest: 1.1377277 (10)\ttotal: 2.21s\tremaining: 3.62s\n",
      "15:\tlearn: 1.1362671\ttest: 1.1352470\tbest: 1.1351979 (14)\ttotal: 3.09s\tremaining: 2.51s\n",
      "20:\tlearn: 1.1354471\ttest: 1.1345575\tbest: 1.1345575 (20)\ttotal: 3.95s\tremaining: 1.51s\n",
      "25:\tlearn: 1.1353319\ttest: 1.1345090\tbest: 1.1345082 (24)\ttotal: 4.83s\tremaining: 558ms\n"
     ]
    },
    {
     "name": "stderr",
     "output_type": "stream",
     "text": [
      "[I 2024-12-28 02:15:18,082] Trial 16 finished with value: 1.134493348994052 and parameters: {'learning_rate': 0.47247057255844377, 'iterations': 29, 'depth': 7, 'l2_leaf_reg': 5.0463313456536305, 'min_data_in_leaf': 16, 'subsample': 0.9930194852884668, 'colsample_bylevel': 0.6864516896192008}. Best is trial 15 with value: 1.132291508711.\n"
     ]
    },
    {
     "name": "stdout",
     "output_type": "stream",
     "text": [
      "28:\tlearn: 1.1352970\ttest: 1.1345255\tbest: 1.1344933 (26)\ttotal: 5.38s\tremaining: 0us\n",
      "\n",
      "bestTest = 1.134493349\n",
      "bestIteration = 26\n",
      "\n",
      "Shrink model to first 27 iterations.\n",
      "{'learn': {'RmsleMetric': 1.135290561029814, 'RMSE': 837.2037396726004}, 'validation': {'RmsleMetric': 1.134493348994052, 'RMSE': 838.5036614169941}}\n",
      "{'learning_rate': 0.49499482048937404, 'iterations': 24, 'depth': 6, 'l2_leaf_reg': 5.033261783857608, 'min_data_in_leaf': 38, 'subsample': 0.8390365526400331, 'colsample_bylevel': 0.5787980252190679, 'random_state': 42}\n",
      "0:\tlearn: 1.1601453\ttest: 1.1591481\tbest: 1.1591481 (0)\ttotal: 332ms\tremaining: 7.63s\n",
      "5:\tlearn: 1.1489631\ttest: 1.1478619\tbest: 1.1478619 (5)\ttotal: 1.11s\tremaining: 3.35s\n",
      "10:\tlearn: 1.1432514\ttest: 1.1423495\tbest: 1.1423495 (10)\ttotal: 1.79s\tremaining: 2.11s\n",
      "15:\tlearn: 1.1400548\ttest: 1.1391294\tbest: 1.1391294 (15)\ttotal: 2.38s\tremaining: 1.19s\n",
      "20:\tlearn: 1.1389750\ttest: 1.1381376\tbest: 1.1379600 (17)\ttotal: 3.01s\tremaining: 430ms\n"
     ]
    },
    {
     "name": "stderr",
     "output_type": "stream",
     "text": [
      "[I 2024-12-28 02:15:22,782] Trial 17 finished with value: 1.1369988052990148 and parameters: {'learning_rate': 0.49499482048937404, 'iterations': 24, 'depth': 6, 'l2_leaf_reg': 5.033261783857608, 'min_data_in_leaf': 38, 'subsample': 0.8390365526400331, 'colsample_bylevel': 0.5787980252190679}. Best is trial 15 with value: 1.132291508711.\n"
     ]
    },
    {
     "name": "stdout",
     "output_type": "stream",
     "text": [
      "23:\tlearn: 1.1377951\ttest: 1.1369988\tbest: 1.1369988 (23)\ttotal: 3.43s\tremaining: 0us\n",
      "\n",
      "bestTest = 1.136998805\n",
      "bestIteration = 23\n",
      "\n",
      "{'learn': {'RmsleMetric': 1.1377950500641205, 'RMSE': 839.582994980551}, 'validation': {'RmsleMetric': 1.1369988052990148, 'RMSE': 840.5313735533554}}\n",
      "{'learning_rate': 0.40413253139222144, 'iterations': 39, 'depth': 3, 'l2_leaf_reg': 2.6509875832623404, 'min_data_in_leaf': 27, 'subsample': 0.748943848448058, 'colsample_bylevel': 0.588514330690843, 'random_state': 42}\n",
      "0:\tlearn: 1.1675825\ttest: 1.1665493\tbest: 1.1665493 (0)\ttotal: 297ms\tremaining: 11.3s\n",
      "5:\tlearn: 1.1628502\ttest: 1.1618240\tbest: 1.1618240 (5)\ttotal: 785ms\tremaining: 4.32s\n",
      "10:\tlearn: 1.1589223\ttest: 1.1577862\tbest: 1.1577862 (10)\ttotal: 1.18s\tremaining: 3s\n",
      "15:\tlearn: 1.1569004\ttest: 1.1557575\tbest: 1.1557575 (15)\ttotal: 1.6s\tremaining: 2.3s\n",
      "20:\tlearn: 1.1557980\ttest: 1.1546364\tbest: 1.1546265 (19)\ttotal: 2s\tremaining: 1.71s\n",
      "25:\tlearn: 1.1553196\ttest: 1.1541679\tbest: 1.1541424 (22)\ttotal: 2.39s\tremaining: 1.2s\n",
      "30:\tlearn: 1.1533856\ttest: 1.1522450\tbest: 1.1522450 (30)\ttotal: 2.8s\tremaining: 723ms\n",
      "35:\tlearn: 1.1524697\ttest: 1.1513251\tbest: 1.1509997 (33)\ttotal: 3.21s\tremaining: 267ms\n"
     ]
    },
    {
     "name": "stderr",
     "output_type": "stream",
     "text": [
      "[I 2024-12-28 02:15:27,469] Trial 18 finished with value: 1.1506796374146862 and parameters: {'learning_rate': 0.40413253139222144, 'iterations': 39, 'depth': 3, 'l2_leaf_reg': 2.6509875832623404, 'min_data_in_leaf': 27, 'subsample': 0.748943848448058, 'colsample_bylevel': 0.588514330690843}. Best is trial 15 with value: 1.132291508711.\n"
     ]
    },
    {
     "name": "stdout",
     "output_type": "stream",
     "text": [
      "38:\tlearn: 1.1518238\ttest: 1.1506796\tbest: 1.1506796 (38)\ttotal: 3.45s\tremaining: 0us\n",
      "\n",
      "bestTest = 1.150679637\n",
      "bestIteration = 38\n",
      "\n",
      "{'learn': {'RmsleMetric': 1.1518237597610175, 'RMSE': 850.2090125040089}, 'validation': {'RmsleMetric': 1.1506796374146862, 'RMSE': 850.7368960422807}}\n",
      "{'learning_rate': 0.2675882580788109, 'iterations': 69, 'depth': 10, 'l2_leaf_reg': 4.510022405373607, 'min_data_in_leaf': 15, 'subsample': 0.8517609045581772, 'colsample_bylevel': 0.7162001174561722, 'random_state': 42}\n",
      "0:\tlearn: 1.1617529\ttest: 1.1607153\tbest: 1.1607153 (0)\ttotal: 433ms\tremaining: 29.4s\n",
      "5:\tlearn: 1.1404463\ttest: 1.1395677\tbest: 1.1395677 (5)\ttotal: 1.8s\tremaining: 18.9s\n",
      "10:\tlearn: 1.1370672\ttest: 1.1363525\tbest: 1.1363525 (10)\ttotal: 3.23s\tremaining: 17s\n",
      "15:\tlearn: 1.1346291\ttest: 1.1342851\tbest: 1.1342851 (15)\ttotal: 4.69s\tremaining: 15.6s\n",
      "20:\tlearn: 1.1338941\ttest: 1.1338051\tbest: 1.1338051 (20)\ttotal: 6.02s\tremaining: 13.8s\n",
      "25:\tlearn: 1.1334258\ttest: 1.1337164\tbest: 1.1337160 (24)\ttotal: 7.17s\tremaining: 11.9s\n",
      "30:\tlearn: 1.1325084\ttest: 1.1330066\tbest: 1.1329962 (28)\ttotal: 8.35s\tremaining: 10.2s\n",
      "35:\tlearn: 1.1318994\ttest: 1.1326033\tbest: 1.1326033 (35)\ttotal: 9.52s\tremaining: 8.73s\n",
      "40:\tlearn: 1.1316766\ttest: 1.1326277\tbest: 1.1325816 (36)\ttotal: 11s\tremaining: 7.52s\n",
      "45:\tlearn: 1.1316225\ttest: 1.1326874\tbest: 1.1325816 (36)\ttotal: 12.2s\tremaining: 6.11s\n",
      "Stopped by overfitting detector  (10 iterations wait)\n",
      "\n",
      "bestTest = 1.132581579\n",
      "bestIteration = 36\n",
      "\n",
      "Shrink model to first 37 iterations.\n"
     ]
    },
    {
     "name": "stderr",
     "output_type": "stream",
     "text": [
      "[I 2024-12-28 02:15:41,147] Trial 19 finished with value: 1.1325815792459262 and parameters: {'learning_rate': 0.2675882580788109, 'iterations': 69, 'depth': 10, 'l2_leaf_reg': 4.510022405373607, 'min_data_in_leaf': 15, 'subsample': 0.8517609045581772, 'colsample_bylevel': 0.7162001174561722}. Best is trial 15 with value: 1.132291508711.\n"
     ]
    },
    {
     "name": "stdout",
     "output_type": "stream",
     "text": [
      "{'learn': {'RmsleMetric': 1.1315861095033224, 'RMSE': 832.8145187316677}, 'validation': {'RmsleMetric': 1.1325815792459262, 'RMSE': 836.9135595618538}}\n",
      "{'learning_rate': 0.049586984689339364, 'iterations': 77, 'depth': 9, 'l2_leaf_reg': 4.1710632651529185, 'min_data_in_leaf': 12, 'subsample': 0.9694013467505057, 'colsample_bylevel': 0.7176380504829712, 'random_state': 42}\n",
      "0:\tlearn: 1.1694136\ttest: 1.1683610\tbest: 1.1683610 (0)\ttotal: 422ms\tremaining: 32.1s\n",
      "5:\tlearn: 1.1626595\ttest: 1.1616524\tbest: 1.1616524 (5)\ttotal: 1.49s\tremaining: 17.6s\n",
      "10:\tlearn: 1.1565499\ttest: 1.1555721\tbest: 1.1555721 (10)\ttotal: 2.52s\tremaining: 15.1s\n",
      "15:\tlearn: 1.1512823\ttest: 1.1503150\tbest: 1.1503150 (15)\ttotal: 3.68s\tremaining: 14s\n",
      "20:\tlearn: 1.1479673\ttest: 1.1469984\tbest: 1.1469984 (20)\ttotal: 4.81s\tremaining: 12.8s\n",
      "25:\tlearn: 1.1453409\ttest: 1.1443624\tbest: 1.1443624 (25)\ttotal: 5.91s\tremaining: 11.6s\n",
      "30:\tlearn: 1.1436225\ttest: 1.1426367\tbest: 1.1426367 (30)\ttotal: 7.04s\tremaining: 10.5s\n",
      "35:\tlearn: 1.1420158\ttest: 1.1410265\tbest: 1.1410265 (35)\ttotal: 8.17s\tremaining: 9.31s\n",
      "40:\tlearn: 1.1408950\ttest: 1.1399246\tbest: 1.1399246 (40)\ttotal: 9.29s\tremaining: 8.15s\n",
      "45:\tlearn: 1.1402406\ttest: 1.1392854\tbest: 1.1392854 (45)\ttotal: 10.5s\tremaining: 7.07s\n",
      "50:\tlearn: 1.1394840\ttest: 1.1385483\tbest: 1.1385483 (50)\ttotal: 11.6s\tremaining: 5.92s\n",
      "55:\tlearn: 1.1387856\ttest: 1.1378773\tbest: 1.1378773 (55)\ttotal: 12.7s\tremaining: 4.76s\n",
      "60:\tlearn: 1.1385137\ttest: 1.1376294\tbest: 1.1376294 (60)\ttotal: 13.8s\tremaining: 3.62s\n",
      "65:\tlearn: 1.1382094\ttest: 1.1373562\tbest: 1.1373562 (65)\ttotal: 14.9s\tremaining: 2.48s\n",
      "70:\tlearn: 1.1380141\ttest: 1.1371928\tbest: 1.1371852 (69)\ttotal: 15.8s\tremaining: 1.34s\n",
      "75:\tlearn: 1.1377815\ttest: 1.1369894\tbest: 1.1369894 (75)\ttotal: 16.8s\tremaining: 222ms\n"
     ]
    },
    {
     "name": "stderr",
     "output_type": "stream",
     "text": [
      "[I 2024-12-28 02:15:59,544] Trial 20 finished with value: 1.1368296790862176 and parameters: {'learning_rate': 0.049586984689339364, 'iterations': 77, 'depth': 9, 'l2_leaf_reg': 4.1710632651529185, 'min_data_in_leaf': 12, 'subsample': 0.9694013467505057, 'colsample_bylevel': 0.7176380504829712}. Best is trial 15 with value: 1.132291508711.\n"
     ]
    },
    {
     "name": "stdout",
     "output_type": "stream",
     "text": [
      "76:\tlearn: 1.1376204\ttest: 1.1368297\tbest: 1.1368297 (76)\ttotal: 17.1s\tremaining: 0us\n",
      "\n",
      "bestTest = 1.136829679\n",
      "bestIteration = 76\n",
      "\n",
      "{'learn': {'RmsleMetric': 1.137620391916351, 'RMSE': 837.1828175383189}, 'validation': {'RmsleMetric': 1.1368296790862176, 'RMSE': 838.4058245066915}}\n",
      "{'learning_rate': 0.25826381837170026, 'iterations': 67, 'depth': 10, 'l2_leaf_reg': 5.756189095764328, 'min_data_in_leaf': 17, 'subsample': 0.8475249352345973, 'colsample_bylevel': 0.5530977884849493, 'random_state': 42}\n",
      "0:\tlearn: 1.1619878\ttest: 1.1610752\tbest: 1.1610752 (0)\ttotal: 420ms\tremaining: 27.7s\n",
      "5:\tlearn: 1.1408052\ttest: 1.1399294\tbest: 1.1399294 (5)\ttotal: 1.69s\tremaining: 17.2s\n",
      "10:\tlearn: 1.1372281\ttest: 1.1366855\tbest: 1.1366855 (10)\ttotal: 2.85s\tremaining: 14.5s\n",
      "15:\tlearn: 1.1341269\ttest: 1.1336865\tbest: 1.1336865 (15)\ttotal: 4s\tremaining: 12.7s\n",
      "20:\tlearn: 1.1334877\ttest: 1.1336010\tbest: 1.1335736 (16)\ttotal: 5.16s\tremaining: 11.3s\n",
      "25:\tlearn: 1.1329770\ttest: 1.1333186\tbest: 1.1333186 (25)\ttotal: 6.41s\tremaining: 10.1s\n",
      "30:\tlearn: 1.1321271\ttest: 1.1328953\tbest: 1.1328953 (30)\ttotal: 7.62s\tremaining: 8.85s\n",
      "35:\tlearn: 1.1319751\ttest: 1.1329624\tbest: 1.1328953 (30)\ttotal: 8.8s\tremaining: 7.58s\n",
      "40:\tlearn: 1.1316664\ttest: 1.1328179\tbest: 1.1328178 (39)\ttotal: 9.82s\tremaining: 6.22s\n",
      "45:\tlearn: 1.1314147\ttest: 1.1327759\tbest: 1.1327459 (41)\ttotal: 10.8s\tremaining: 4.93s\n",
      "50:\tlearn: 1.1304795\ttest: 1.1320549\tbest: 1.1320549 (50)\ttotal: 12s\tremaining: 3.76s\n",
      "55:\tlearn: 1.1302342\ttest: 1.1320460\tbest: 1.1320460 (55)\ttotal: 13.2s\tremaining: 2.58s\n",
      "60:\tlearn: 1.1299498\ttest: 1.1320094\tbest: 1.1320094 (60)\ttotal: 14.3s\tremaining: 1.41s\n",
      "65:\tlearn: 1.1296060\ttest: 1.1318370\tbest: 1.1318370 (65)\ttotal: 15.6s\tremaining: 236ms\n"
     ]
    },
    {
     "name": "stderr",
     "output_type": "stream",
     "text": [
      "[I 2024-12-28 02:16:16,713] Trial 21 finished with value: 1.1318269556324092 and parameters: {'learning_rate': 0.25826381837170026, 'iterations': 67, 'depth': 10, 'l2_leaf_reg': 5.756189095764328, 'min_data_in_leaf': 17, 'subsample': 0.8475249352345973, 'colsample_bylevel': 0.5530977884849493}. Best is trial 21 with value: 1.1318269556324092.\n"
     ]
    },
    {
     "name": "stdout",
     "output_type": "stream",
     "text": [
      "66:\tlearn: 1.1295208\ttest: 1.1318270\tbest: 1.1318270 (66)\ttotal: 15.8s\tremaining: 0us\n",
      "\n",
      "bestTest = 1.131826956\n",
      "bestIteration = 66\n",
      "\n",
      "{'learn': {'RmsleMetric': 1.129520793541422, 'RMSE': 830.8824173066035}, 'validation': {'RmsleMetric': 1.1318269556324092, 'RMSE': 836.7704410247355}}\n",
      "{'learning_rate': 0.2531415378670227, 'iterations': 68, 'depth': 10, 'l2_leaf_reg': 5.9562383801221, 'min_data_in_leaf': 16, 'subsample': 0.8401398517122051, 'colsample_bylevel': 0.6311886638333165, 'random_state': 42}\n",
      "0:\tlearn: 1.1620150\ttest: 1.1609932\tbest: 1.1609932 (0)\ttotal: 432ms\tremaining: 28.9s\n",
      "5:\tlearn: 1.1430480\ttest: 1.1421269\tbest: 1.1421269 (5)\ttotal: 1.76s\tremaining: 18.2s\n",
      "10:\tlearn: 1.1378940\ttest: 1.1370562\tbest: 1.1370562 (10)\ttotal: 3.04s\tremaining: 15.7s\n",
      "15:\tlearn: 1.1363411\ttest: 1.1358470\tbest: 1.1358470 (15)\ttotal: 4.37s\tremaining: 14.2s\n",
      "20:\tlearn: 1.1355712\ttest: 1.1353283\tbest: 1.1352939 (19)\ttotal: 5.55s\tremaining: 12.4s\n",
      "25:\tlearn: 1.1347915\ttest: 1.1348005\tbest: 1.1347485 (24)\ttotal: 6.53s\tremaining: 10.6s\n",
      "30:\tlearn: 1.1341159\ttest: 1.1344426\tbest: 1.1344426 (30)\ttotal: 7.86s\tremaining: 9.38s\n",
      "35:\tlearn: 1.1329878\ttest: 1.1336874\tbest: 1.1336874 (35)\ttotal: 9.12s\tremaining: 8.11s\n",
      "40:\tlearn: 1.1322375\ttest: 1.1331856\tbest: 1.1331354 (38)\ttotal: 10.4s\tremaining: 6.83s\n",
      "45:\tlearn: 1.1321365\ttest: 1.1331650\tbest: 1.1331354 (38)\ttotal: 11.2s\tremaining: 5.37s\n",
      "50:\tlearn: 1.1318677\ttest: 1.1330529\tbest: 1.1330354 (49)\ttotal: 12.4s\tremaining: 4.15s\n",
      "55:\tlearn: 1.1310614\ttest: 1.1324085\tbest: 1.1324085 (55)\ttotal: 13.4s\tremaining: 2.88s\n",
      "60:\tlearn: 1.1307159\ttest: 1.1323797\tbest: 1.1323756 (59)\ttotal: 14.7s\tremaining: 1.69s\n",
      "65:\tlearn: 1.1305628\ttest: 1.1323363\tbest: 1.1323363 (65)\ttotal: 15.8s\tremaining: 477ms\n"
     ]
    },
    {
     "name": "stderr",
     "output_type": "stream",
     "text": [
      "[I 2024-12-28 02:16:34,298] Trial 22 finished with value: 1.131768438078553 and parameters: {'learning_rate': 0.2531415378670227, 'iterations': 68, 'depth': 10, 'l2_leaf_reg': 5.9562383801221, 'min_data_in_leaf': 16, 'subsample': 0.8401398517122051, 'colsample_bylevel': 0.6311886638333165}. Best is trial 22 with value: 1.131768438078553.\n"
     ]
    },
    {
     "name": "stdout",
     "output_type": "stream",
     "text": [
      "67:\tlearn: 1.1299111\ttest: 1.1317684\tbest: 1.1317684 (67)\ttotal: 16.3s\tremaining: 0us\n",
      "\n",
      "bestTest = 1.131768438\n",
      "bestIteration = 67\n",
      "\n",
      "{'learn': {'RmsleMetric': 1.1299110639771548, 'RMSE': 831.5057918670534}, 'validation': {'RmsleMetric': 1.131768438078553, 'RMSE': 836.8444316514418}}\n",
      "{'learning_rate': 0.2301987614057884, 'iterations': 65, 'depth': 9, 'l2_leaf_reg': 5.552324790003332, 'min_data_in_leaf': 8, 'subsample': 0.7971696760691487, 'colsample_bylevel': 0.6219674241208889, 'random_state': 42}\n",
      "0:\tlearn: 1.1631168\ttest: 1.1620942\tbest: 1.1620942 (0)\ttotal: 411ms\tremaining: 26.3s\n",
      "5:\tlearn: 1.1438857\ttest: 1.1429229\tbest: 1.1429229 (5)\ttotal: 1.47s\tremaining: 14.4s\n",
      "10:\tlearn: 1.1386631\ttest: 1.1377755\tbest: 1.1377755 (10)\ttotal: 2.42s\tremaining: 11.9s\n",
      "15:\tlearn: 1.1369756\ttest: 1.1361369\tbest: 1.1361369 (15)\ttotal: 3.38s\tremaining: 10.3s\n",
      "20:\tlearn: 1.1355486\ttest: 1.1348378\tbest: 1.1348087 (19)\ttotal: 4.3s\tremaining: 9.02s\n",
      "25:\tlearn: 1.1347583\ttest: 1.1341749\tbest: 1.1341749 (25)\ttotal: 5.02s\tremaining: 7.53s\n",
      "30:\tlearn: 1.1344827\ttest: 1.1340607\tbest: 1.1340033 (28)\ttotal: 5.86s\tremaining: 6.42s\n",
      "35:\tlearn: 1.1343081\ttest: 1.1340417\tbest: 1.1340033 (28)\ttotal: 6.83s\tremaining: 5.5s\n",
      "40:\tlearn: 1.1337937\ttest: 1.1335902\tbest: 1.1335808 (39)\ttotal: 7.76s\tremaining: 4.54s\n",
      "45:\tlearn: 1.1332388\ttest: 1.1331951\tbest: 1.1331592 (42)\ttotal: 8.74s\tremaining: 3.61s\n",
      "50:\tlearn: 1.1329537\ttest: 1.1330155\tbest: 1.1330155 (50)\ttotal: 9.55s\tremaining: 2.62s\n",
      "55:\tlearn: 1.1328525\ttest: 1.1330250\tbest: 1.1330155 (50)\ttotal: 10.4s\tremaining: 1.68s\n",
      "60:\tlearn: 1.1325581\ttest: 1.1327785\tbest: 1.1327785 (60)\ttotal: 11.4s\tremaining: 749ms\n"
     ]
    },
    {
     "name": "stderr",
     "output_type": "stream",
     "text": [
      "[I 2024-12-28 02:16:47,747] Trial 23 finished with value: 1.1326802293216491 and parameters: {'learning_rate': 0.2301987614057884, 'iterations': 65, 'depth': 9, 'l2_leaf_reg': 5.552324790003332, 'min_data_in_leaf': 8, 'subsample': 0.7971696760691487, 'colsample_bylevel': 0.6219674241208889}. Best is trial 22 with value: 1.131768438078553.\n"
     ]
    },
    {
     "name": "stdout",
     "output_type": "stream",
     "text": [
      "64:\tlearn: 1.1323697\ttest: 1.1326802\tbest: 1.1326802 (64)\ttotal: 12.2s\tremaining: 0us\n",
      "\n",
      "bestTest = 1.132680229\n",
      "bestIteration = 64\n",
      "\n",
      "{'learn': {'RmsleMetric': 1.1323697266300188, 'RMSE': 833.8618877777978}, 'validation': {'RmsleMetric': 1.1326802293216491, 'RMSE': 836.8685486883091}}\n",
      "{'learning_rate': 0.24697605609029485, 'iterations': 100, 'depth': 8, 'l2_leaf_reg': 6.130775483116056, 'min_data_in_leaf': 18, 'subsample': 0.8546172090715948, 'colsample_bylevel': 0.5570056775205812, 'random_state': 42}\n",
      "0:\tlearn: 1.1621059\ttest: 1.1610826\tbest: 1.1610826 (0)\ttotal: 361ms\tremaining: 35.7s\n",
      "5:\tlearn: 1.1469063\ttest: 1.1458943\tbest: 1.1458943 (5)\ttotal: 1.3s\tremaining: 20.3s\n",
      "10:\tlearn: 1.1387624\ttest: 1.1377887\tbest: 1.1377887 (10)\ttotal: 2.11s\tremaining: 17.1s\n",
      "15:\tlearn: 1.1380143\ttest: 1.1371378\tbest: 1.1371246 (14)\ttotal: 2.94s\tremaining: 15.4s\n",
      "20:\tlearn: 1.1372189\ttest: 1.1364780\tbest: 1.1364410 (18)\ttotal: 3.66s\tremaining: 13.8s\n",
      "25:\tlearn: 1.1359355\ttest: 1.1351613\tbest: 1.1351214 (24)\ttotal: 4.46s\tremaining: 12.7s\n",
      "30:\tlearn: 1.1354331\ttest: 1.1347484\tbest: 1.1347484 (30)\ttotal: 5.27s\tremaining: 11.7s\n",
      "35:\tlearn: 1.1348879\ttest: 1.1342906\tbest: 1.1342837 (34)\ttotal: 6.13s\tremaining: 10.9s\n",
      "40:\tlearn: 1.1345892\ttest: 1.1340886\tbest: 1.1340886 (40)\ttotal: 6.93s\tremaining: 9.98s\n",
      "45:\tlearn: 1.1343426\ttest: 1.1339112\tbest: 1.1339112 (45)\ttotal: 7.74s\tremaining: 9.09s\n",
      "50:\tlearn: 1.1342671\ttest: 1.1339224\tbest: 1.1339112 (45)\ttotal: 8.57s\tremaining: 8.24s\n",
      "55:\tlearn: 1.1339242\ttest: 1.1336441\tbest: 1.1336441 (55)\ttotal: 9.38s\tremaining: 7.37s\n",
      "60:\tlearn: 1.1335060\ttest: 1.1332612\tbest: 1.1332612 (60)\ttotal: 10.2s\tremaining: 6.52s\n",
      "65:\tlearn: 1.1332789\ttest: 1.1330655\tbest: 1.1330655 (65)\ttotal: 10.9s\tremaining: 5.59s\n",
      "70:\tlearn: 1.1330453\ttest: 1.1329333\tbest: 1.1329333 (70)\ttotal: 11.7s\tremaining: 4.77s\n",
      "75:\tlearn: 1.1329771\ttest: 1.1329441\tbest: 1.1329271 (72)\ttotal: 12.5s\tremaining: 3.94s\n",
      "80:\tlearn: 1.1322037\ttest: 1.1322676\tbest: 1.1322676 (80)\ttotal: 13.3s\tremaining: 3.13s\n",
      "85:\tlearn: 1.1321082\ttest: 1.1322638\tbest: 1.1322638 (85)\ttotal: 14.2s\tremaining: 2.31s\n",
      "90:\tlearn: 1.1320595\ttest: 1.1323133\tbest: 1.1322638 (85)\ttotal: 15s\tremaining: 1.48s\n"
     ]
    },
    {
     "name": "stderr",
     "output_type": "stream",
     "text": [
      "[I 2024-12-28 02:17:04,835] Trial 24 finished with value: 1.1322637740381258 and parameters: {'learning_rate': 0.24697605609029485, 'iterations': 100, 'depth': 8, 'l2_leaf_reg': 6.130775483116056, 'min_data_in_leaf': 18, 'subsample': 0.8546172090715948, 'colsample_bylevel': 0.5570056775205812}. Best is trial 22 with value: 1.131768438078553.\n"
     ]
    },
    {
     "name": "stdout",
     "output_type": "stream",
     "text": [
      "95:\tlearn: 1.1319660\ttest: 1.1322987\tbest: 1.1322638 (85)\ttotal: 15.8s\tremaining: 659ms\n",
      "Stopped by overfitting detector  (10 iterations wait)\n",
      "\n",
      "bestTest = 1.132263774\n",
      "bestIteration = 85\n",
      "\n",
      "Shrink model to first 86 iterations.\n",
      "{'learn': {'RmsleMetric': 1.1319659765615993, 'RMSE': 833.8934726773052}, 'validation': {'RmsleMetric': 1.1322637740381258, 'RMSE': 836.7984110646815}}\n",
      "{'learning_rate': 0.23152421742480386, 'iterations': 97, 'depth': 8, 'l2_leaf_reg': 5.957103757343183, 'min_data_in_leaf': 27, 'subsample': 0.8767725535076244, 'colsample_bylevel': 0.6328133499027921, 'random_state': 42}\n",
      "0:\tlearn: 1.1632601\ttest: 1.1621735\tbest: 1.1621735 (0)\ttotal: 362ms\tremaining: 34.8s\n",
      "5:\tlearn: 1.1453606\ttest: 1.1442173\tbest: 1.1442173 (5)\ttotal: 1.37s\tremaining: 20.7s\n",
      "10:\tlearn: 1.1403641\ttest: 1.1392418\tbest: 1.1392418 (10)\ttotal: 2.26s\tremaining: 17.6s\n",
      "15:\tlearn: 1.1384483\ttest: 1.1374602\tbest: 1.1374602 (15)\ttotal: 3.13s\tremaining: 15.9s\n",
      "20:\tlearn: 1.1370712\ttest: 1.1360836\tbest: 1.1360836 (20)\ttotal: 4s\tremaining: 14.5s\n",
      "25:\tlearn: 1.1364346\ttest: 1.1356042\tbest: 1.1355780 (21)\ttotal: 4.86s\tremaining: 13.3s\n",
      "30:\tlearn: 1.1363391\ttest: 1.1355994\tbest: 1.1355661 (27)\ttotal: 5.75s\tremaining: 12.2s\n",
      "35:\tlearn: 1.1356573\ttest: 1.1349827\tbest: 1.1349827 (35)\ttotal: 6.62s\tremaining: 11.2s\n",
      "40:\tlearn: 1.1349798\ttest: 1.1343893\tbest: 1.1343893 (40)\ttotal: 7.48s\tremaining: 10.2s\n",
      "45:\tlearn: 1.1347534\ttest: 1.1342511\tbest: 1.1342511 (45)\ttotal: 8.23s\tremaining: 9.13s\n",
      "50:\tlearn: 1.1345417\ttest: 1.1340613\tbest: 1.1340509 (49)\ttotal: 9.08s\tremaining: 8.19s\n",
      "55:\tlearn: 1.1340790\ttest: 1.1336571\tbest: 1.1336571 (55)\ttotal: 9.95s\tremaining: 7.28s\n",
      "60:\tlearn: 1.1336200\ttest: 1.1332543\tbest: 1.1332501 (59)\ttotal: 10.8s\tremaining: 6.35s\n",
      "65:\tlearn: 1.1333728\ttest: 1.1330600\tbest: 1.1330600 (65)\ttotal: 11.7s\tremaining: 5.47s\n",
      "70:\tlearn: 1.1333330\ttest: 1.1330273\tbest: 1.1330270 (69)\ttotal: 12.4s\tremaining: 4.55s\n",
      "75:\tlearn: 1.1332082\ttest: 1.1330062\tbest: 1.1330031 (73)\ttotal: 13.3s\tremaining: 3.67s\n",
      "80:\tlearn: 1.1328393\ttest: 1.1327094\tbest: 1.1327094 (80)\ttotal: 14.1s\tremaining: 2.79s\n",
      "85:\tlearn: 1.1327906\ttest: 1.1327149\tbest: 1.1326843 (83)\ttotal: 15s\tremaining: 1.92s\n",
      "90:\tlearn: 1.1325792\ttest: 1.1325867\tbest: 1.1325748 (89)\ttotal: 15.9s\tremaining: 1.05s\n",
      "95:\tlearn: 1.1324128\ttest: 1.1324847\tbest: 1.1324847 (95)\ttotal: 16.7s\tremaining: 174ms\n",
      "96:\tlearn: 1.1323883\ttest: 1.1324821\tbest: 1.1324821 (96)\ttotal: 16.9s\tremaining: 0us\n",
      "\n",
      "bestTest = 1.132482055\n",
      "bestIteration = 96\n",
      "\n"
     ]
    },
    {
     "name": "stderr",
     "output_type": "stream",
     "text": [
      "[I 2024-12-28 02:17:22,997] Trial 25 finished with value: 1.132482055184743 and parameters: {'learning_rate': 0.23152421742480386, 'iterations': 97, 'depth': 8, 'l2_leaf_reg': 5.957103757343183, 'min_data_in_leaf': 27, 'subsample': 0.8767725535076244, 'colsample_bylevel': 0.6328133499027921}. Best is trial 22 with value: 1.131768438078553.\n"
     ]
    },
    {
     "name": "stdout",
     "output_type": "stream",
     "text": [
      "{'learn': {'RmsleMetric': 1.1323883007483624, 'RMSE': 834.3530521267508}, 'validation': {'RmsleMetric': 1.132482055184743, 'RMSE': 836.9718360468523}}\n",
      "{'learning_rate': 0.291937621894352, 'iterations': 79, 'depth': 7, 'l2_leaf_reg': 6.619828938173717, 'min_data_in_leaf': 18, 'subsample': 0.9312390278290442, 'colsample_bylevel': 0.5550122896609487, 'random_state': 42}\n",
      "0:\tlearn: 1.1621704\ttest: 1.1610979\tbest: 1.1610979 (0)\ttotal: 515ms\tremaining: 40.1s\n",
      "5:\tlearn: 1.1475913\ttest: 1.1465223\tbest: 1.1465223 (5)\ttotal: 1.35s\tremaining: 16.4s\n",
      "10:\tlearn: 1.1433638\ttest: 1.1421784\tbest: 1.1421784 (10)\ttotal: 2.14s\tremaining: 13.2s\n",
      "15:\tlearn: 1.1407197\ttest: 1.1396639\tbest: 1.1396639 (15)\ttotal: 2.89s\tremaining: 11.4s\n",
      "20:\tlearn: 1.1395424\ttest: 1.1385581\tbest: 1.1385581 (20)\ttotal: 3.64s\tremaining: 10s\n",
      "25:\tlearn: 1.1385286\ttest: 1.1376363\tbest: 1.1376363 (25)\ttotal: 4.39s\tremaining: 8.95s\n",
      "30:\tlearn: 1.1369159\ttest: 1.1360704\tbest: 1.1360691 (29)\ttotal: 5.18s\tremaining: 8.03s\n",
      "35:\tlearn: 1.1364327\ttest: 1.1356306\tbest: 1.1356306 (35)\ttotal: 5.89s\tremaining: 7.04s\n",
      "40:\tlearn: 1.1354493\ttest: 1.1346832\tbest: 1.1346832 (40)\ttotal: 6.65s\tremaining: 6.16s\n",
      "45:\tlearn: 1.1351600\ttest: 1.1344403\tbest: 1.1344403 (45)\ttotal: 7.31s\tremaining: 5.24s\n",
      "50:\tlearn: 1.1345731\ttest: 1.1339333\tbest: 1.1339225 (48)\ttotal: 8.02s\tremaining: 4.4s\n",
      "55:\tlearn: 1.1343862\ttest: 1.1337846\tbest: 1.1337841 (54)\ttotal: 8.8s\tremaining: 3.62s\n",
      "60:\tlearn: 1.1340258\ttest: 1.1334322\tbest: 1.1334322 (60)\ttotal: 9.61s\tremaining: 2.83s\n",
      "65:\tlearn: 1.1337927\ttest: 1.1332105\tbest: 1.1332105 (65)\ttotal: 10.4s\tremaining: 2.05s\n",
      "70:\tlearn: 1.1337503\ttest: 1.1332392\tbest: 1.1332105 (65)\ttotal: 11.2s\tremaining: 1.26s\n",
      "75:\tlearn: 1.1336862\ttest: 1.1332185\tbest: 1.1332076 (73)\ttotal: 12s\tremaining: 474ms\n"
     ]
    },
    {
     "name": "stderr",
     "output_type": "stream",
     "text": [
      "[I 2024-12-28 02:17:36,767] Trial 26 finished with value: 1.133165557306682 and parameters: {'learning_rate': 0.291937621894352, 'iterations': 79, 'depth': 7, 'l2_leaf_reg': 6.619828938173717, 'min_data_in_leaf': 18, 'subsample': 0.9312390278290442, 'colsample_bylevel': 0.5550122896609487}. Best is trial 22 with value: 1.131768438078553.\n"
     ]
    },
    {
     "name": "stdout",
     "output_type": "stream",
     "text": [
      "78:\tlearn: 1.1336113\ttest: 1.1332008\tbest: 1.1331656 (76)\ttotal: 12.5s\tremaining: 0us\n",
      "\n",
      "bestTest = 1.133165557\n",
      "bestIteration = 76\n",
      "\n",
      "Shrink model to first 77 iterations.\n",
      "{'learn': {'RmsleMetric': 1.1336112905810267, 'RMSE': 835.7908559528946}, 'validation': {'RmsleMetric': 1.133165557306682, 'RMSE': 837.4376771219447}}\n",
      "{'learning_rate': 0.08923216314064353, 'iterations': 77, 'depth': 9, 'l2_leaf_reg': 8.332559887514261, 'min_data_in_leaf': 7, 'subsample': 0.8635115475857054, 'colsample_bylevel': 0.6156549736151211, 'random_state': 42}\n",
      "0:\tlearn: 1.1680620\ttest: 1.1670166\tbest: 1.1670166 (0)\ttotal: 420ms\tremaining: 31.9s\n",
      "5:\tlearn: 1.1568756\ttest: 1.1558980\tbest: 1.1558980 (5)\ttotal: 1.47s\tremaining: 17.4s\n",
      "10:\tlearn: 1.1489848\ttest: 1.1479953\tbest: 1.1479953 (10)\ttotal: 2.48s\tremaining: 14.8s\n",
      "15:\tlearn: 1.1438277\ttest: 1.1428440\tbest: 1.1428440 (15)\ttotal: 3.57s\tremaining: 13.6s\n",
      "20:\tlearn: 1.1416157\ttest: 1.1406420\tbest: 1.1406420 (20)\ttotal: 4.6s\tremaining: 12.3s\n",
      "25:\tlearn: 1.1400386\ttest: 1.1390773\tbest: 1.1390773 (25)\ttotal: 5.59s\tremaining: 11s\n",
      "30:\tlearn: 1.1386465\ttest: 1.1376848\tbest: 1.1376848 (30)\ttotal: 6.55s\tremaining: 9.71s\n",
      "35:\tlearn: 1.1381309\ttest: 1.1371874\tbest: 1.1371874 (35)\ttotal: 7.5s\tremaining: 8.54s\n",
      "40:\tlearn: 1.1375715\ttest: 1.1367536\tbest: 1.1367434 (39)\ttotal: 8.44s\tremaining: 7.41s\n",
      "45:\tlearn: 1.1372252\ttest: 1.1364887\tbest: 1.1364887 (45)\ttotal: 9.36s\tremaining: 6.31s\n",
      "50:\tlearn: 1.1367824\ttest: 1.1360638\tbest: 1.1360638 (50)\ttotal: 10.3s\tremaining: 5.25s\n",
      "55:\tlearn: 1.1365008\ttest: 1.1358509\tbest: 1.1358509 (55)\ttotal: 11.3s\tremaining: 4.23s\n",
      "60:\tlearn: 1.1362210\ttest: 1.1356096\tbest: 1.1356096 (60)\ttotal: 12.1s\tremaining: 3.18s\n",
      "65:\tlearn: 1.1360777\ttest: 1.1355058\tbest: 1.1354976 (64)\ttotal: 13.1s\tremaining: 2.18s\n",
      "70:\tlearn: 1.1356620\ttest: 1.1351534\tbest: 1.1351534 (70)\ttotal: 14s\tremaining: 1.19s\n"
     ]
    },
    {
     "name": "stderr",
     "output_type": "stream",
     "text": [
      "[I 2024-12-28 02:17:53,045] Trial 27 finished with value: 1.1351365691739623 and parameters: {'learning_rate': 0.08923216314064353, 'iterations': 77, 'depth': 9, 'l2_leaf_reg': 8.332559887514261, 'min_data_in_leaf': 7, 'subsample': 0.8635115475857054, 'colsample_bylevel': 0.6156549736151211}. Best is trial 22 with value: 1.131768438078553.\n"
     ]
    },
    {
     "name": "stdout",
     "output_type": "stream",
     "text": [
      "75:\tlearn: 1.1356178\ttest: 1.1351378\tbest: 1.1351378 (75)\ttotal: 14.9s\tremaining: 197ms\n",
      "76:\tlearn: 1.1356165\ttest: 1.1351366\tbest: 1.1351366 (76)\ttotal: 15s\tremaining: 0us\n",
      "\n",
      "bestTest = 1.135136569\n",
      "bestIteration = 76\n",
      "\n",
      "{'learn': {'RmsleMetric': 1.1356164643322377, 'RMSE': 836.1232137282733}, 'validation': {'RmsleMetric': 1.1351365691739623, 'RMSE': 837.7990392317975}}\n",
      "{'learning_rate': 0.2590416522812796, 'iterations': 65, 'depth': 8, 'l2_leaf_reg': 9.539893252347444, 'min_data_in_leaf': 13, 'subsample': 0.7805347807624743, 'colsample_bylevel': 0.9999223508513859, 'random_state': 42}\n",
      "0:\tlearn: 1.1613308\ttest: 1.1602746\tbest: 1.1602746 (0)\ttotal: 356ms\tremaining: 22.8s\n",
      "5:\tlearn: 1.1437711\ttest: 1.1427040\tbest: 1.1427040 (5)\ttotal: 1.34s\tremaining: 13.2s\n",
      "10:\tlearn: 1.1397854\ttest: 1.1387293\tbest: 1.1387293 (10)\ttotal: 2.29s\tremaining: 11.2s\n",
      "15:\tlearn: 1.1381385\ttest: 1.1371568\tbest: 1.1371568 (15)\ttotal: 3.25s\tremaining: 9.96s\n",
      "20:\tlearn: 1.1371023\ttest: 1.1362669\tbest: 1.1362669 (20)\ttotal: 4.17s\tremaining: 8.73s\n",
      "25:\tlearn: 1.1363667\ttest: 1.1355958\tbest: 1.1355958 (25)\ttotal: 5.13s\tremaining: 7.7s\n",
      "30:\tlearn: 1.1359209\ttest: 1.1351958\tbest: 1.1351770 (29)\ttotal: 6.04s\tremaining: 6.63s\n",
      "35:\tlearn: 1.1354672\ttest: 1.1347822\tbest: 1.1347822 (35)\ttotal: 6.97s\tremaining: 5.62s\n",
      "40:\tlearn: 1.1342738\ttest: 1.1336347\tbest: 1.1336347 (40)\ttotal: 7.98s\tremaining: 4.67s\n",
      "45:\tlearn: 1.1341610\ttest: 1.1335711\tbest: 1.1335411 (43)\ttotal: 8.82s\tremaining: 3.64s\n",
      "50:\tlearn: 1.1340677\ttest: 1.1335775\tbest: 1.1335411 (43)\ttotal: 9.76s\tremaining: 2.68s\n",
      "55:\tlearn: 1.1335697\ttest: 1.1331344\tbest: 1.1330899 (51)\ttotal: 10.6s\tremaining: 1.71s\n",
      "60:\tlearn: 1.1333310\ttest: 1.1329407\tbest: 1.1329407 (60)\ttotal: 11.6s\tremaining: 762ms\n"
     ]
    },
    {
     "name": "stderr",
     "output_type": "stream",
     "text": [
      "[I 2024-12-28 02:18:06,738] Trial 28 finished with value: 1.1322922652605556 and parameters: {'learning_rate': 0.2590416522812796, 'iterations': 65, 'depth': 8, 'l2_leaf_reg': 9.539893252347444, 'min_data_in_leaf': 13, 'subsample': 0.7805347807624743, 'colsample_bylevel': 0.9999223508513859}. Best is trial 22 with value: 1.131768438078553.\n"
     ]
    },
    {
     "name": "stdout",
     "output_type": "stream",
     "text": [
      "64:\tlearn: 1.1326108\ttest: 1.1322923\tbest: 1.1322923 (64)\ttotal: 12.4s\tremaining: 0us\n",
      "\n",
      "bestTest = 1.132292265\n",
      "bestIteration = 64\n",
      "\n",
      "{'learn': {'RmsleMetric': 1.1326107641449374, 'RMSE': 834.8768833323579}, 'validation': {'RmsleMetric': 1.1322922652605556, 'RMSE': 836.9807586332886}}\n",
      "{'learning_rate': 0.20366138638223139, 'iterations': 86, 'depth': 9, 'l2_leaf_reg': 7.504070571889456, 'min_data_in_leaf': 1, 'subsample': 0.8123082447712676, 'colsample_bylevel': 0.539690719329938, 'random_state': 42}\n",
      "0:\tlearn: 1.1653187\ttest: 1.1642442\tbest: 1.1642442 (0)\ttotal: 399ms\tremaining: 33.9s\n",
      "5:\tlearn: 1.1452742\ttest: 1.1443081\tbest: 1.1443081 (5)\ttotal: 1.48s\tremaining: 19.7s\n",
      "10:\tlearn: 1.1404173\ttest: 1.1394223\tbest: 1.1394223 (10)\ttotal: 2.41s\tremaining: 16.4s\n",
      "15:\tlearn: 1.1382142\ttest: 1.1373391\tbest: 1.1373391 (15)\ttotal: 3.3s\tremaining: 14.4s\n",
      "20:\tlearn: 1.1366865\ttest: 1.1359042\tbest: 1.1359042 (20)\ttotal: 4.18s\tremaining: 12.9s\n",
      "25:\tlearn: 1.1363010\ttest: 1.1356543\tbest: 1.1356268 (24)\ttotal: 5.05s\tremaining: 11.7s\n",
      "30:\tlearn: 1.1350956\ttest: 1.1345306\tbest: 1.1345306 (30)\ttotal: 5.99s\tremaining: 10.6s\n",
      "35:\tlearn: 1.1344783\ttest: 1.1339899\tbest: 1.1339899 (35)\ttotal: 6.89s\tremaining: 9.57s\n",
      "40:\tlearn: 1.1343613\ttest: 1.1339612\tbest: 1.1339580 (38)\ttotal: 7.74s\tremaining: 8.49s\n",
      "45:\tlearn: 1.1336245\ttest: 1.1334450\tbest: 1.1334450 (45)\ttotal: 8.66s\tremaining: 7.53s\n",
      "50:\tlearn: 1.1335332\ttest: 1.1334825\tbest: 1.1334450 (45)\ttotal: 9.51s\tremaining: 6.52s\n",
      "55:\tlearn: 1.1331990\ttest: 1.1332589\tbest: 1.1332589 (55)\ttotal: 10.3s\tremaining: 5.53s\n"
     ]
    },
    {
     "name": "stderr",
     "output_type": "stream",
     "text": [
      "[W 2024-12-28 02:18:18,950] Trial 29 failed with parameters: {'learning_rate': 0.20366138638223139, 'iterations': 86, 'depth': 9, 'l2_leaf_reg': 7.504070571889456, 'min_data_in_leaf': 1, 'subsample': 0.8123082447712676, 'colsample_bylevel': 0.539690719329938} because of the following error: CatBoostError('catboost/python-package/catboost/helpers.cpp:57: Traceback (most recent call last):\\n  File \"_catboost.pyx\", line 1247, in _catboost._MetricIsMaxOptimal\\n  File \"C:\\\\Users\\\\geroa\\\\AppData\\\\Local\\\\Temp\\\\ipykernel_24200\\\\2705365710.py\", line 15, in is_max_optimal\\n    def is_max_optimal(self):\\nKeyboardInterrupt\\n').\n",
      "Traceback (most recent call last):\n",
      "  File \"_catboost.pyx\", line 1247, in _catboost._MetricIsMaxOptimal\n",
      "  File \"C:\\Users\\geroa\\AppData\\Local\\Temp\\ipykernel_24200\\2705365710.py\", line 15, in is_max_optimal\n",
      "    def is_max_optimal(self):\n",
      "KeyboardInterrupt\n",
      "\n",
      "During handling of the above exception, another exception occurred:\n",
      "\n",
      "Traceback (most recent call last):\n",
      "  File \"d:\\Development\\insurance\\venv\\lib\\site-packages\\optuna\\study\\_optimize.py\", line 197, in _run_trial\n",
      "    value_or_values = func(trial)\n",
      "  File \"C:\\Users\\geroa\\AppData\\Local\\Temp\\ipykernel_24200\\2705365710.py\", line 68, in objective\n",
      "    catboost_model.fit(train_data, eval_set=val_data, early_stopping_rounds=10)\n",
      "  File \"d:\\Development\\insurance\\venv\\lib\\site-packages\\catboost\\core.py\", line 5873, in fit\n",
      "    return self._fit(X, y, cat_features, text_features, embedding_features, None, graph, sample_weight, None, None, None, None, baseline,\n",
      "  File \"d:\\Development\\insurance\\venv\\lib\\site-packages\\catboost\\core.py\", line 2410, in _fit\n",
      "    self._train(\n",
      "  File \"d:\\Development\\insurance\\venv\\lib\\site-packages\\catboost\\core.py\", line 1790, in _train\n",
      "    self._object._train(train_pool, test_pool, params, allow_clear_pool, init_model._object if init_model else None)\n",
      "  File \"_catboost.pyx\", line 5017, in _catboost._CatBoost._train\n",
      "  File \"_catboost.pyx\", line 5066, in _catboost._CatBoost._train\n",
      "_catboost.CatBoostError: catboost/python-package/catboost/helpers.cpp:57: Traceback (most recent call last):\n",
      "  File \"_catboost.pyx\", line 1247, in _catboost._MetricIsMaxOptimal\n",
      "  File \"C:\\Users\\geroa\\AppData\\Local\\Temp\\ipykernel_24200\\2705365710.py\", line 15, in is_max_optimal\n",
      "    def is_max_optimal(self):\n",
      "KeyboardInterrupt\n",
      "\n",
      "[W 2024-12-28 02:18:18,951] Trial 29 failed with value None.\n"
     ]
    },
    {
     "ename": "CatBoostError",
     "evalue": "catboost/python-package/catboost/helpers.cpp:57: Traceback (most recent call last):\n  File \"_catboost.pyx\", line 1247, in _catboost._MetricIsMaxOptimal\n  File \"C:\\Users\\geroa\\AppData\\Local\\Temp\\ipykernel_24200\\2705365710.py\", line 15, in is_max_optimal\n    def is_max_optimal(self):\nKeyboardInterrupt\n",
     "output_type": "error",
     "traceback": [
      "\u001b[1;31m---------------------------------------------------------------------------\u001b[0m",
      "\u001b[1;31mKeyboardInterrupt\u001b[0m                         Traceback (most recent call last)",
      "File \u001b[1;32m_catboost.pyx:1247\u001b[0m, in \u001b[0;36m_catboost._MetricIsMaxOptimal\u001b[1;34m()\u001b[0m\n",
      "Cell \u001b[1;32mIn[40], line 15\u001b[0m, in \u001b[0;36mRmsleMetric.is_max_optimal\u001b[1;34m(self)\u001b[0m\n\u001b[0;32m     13\u001b[0m     \u001b[38;5;28;01mreturn\u001b[39;00m np\u001b[38;5;241m.\u001b[39msqrt(error \u001b[38;5;241m/\u001b[39m (weight \u001b[38;5;241m+\u001b[39m \u001b[38;5;241m1e-38\u001b[39m))\n\u001b[1;32m---> 15\u001b[0m \u001b[38;5;28;01mdef\u001b[39;00m \u001b[38;5;21mis_max_optimal\u001b[39m(\u001b[38;5;28mself\u001b[39m):\n\u001b[0;32m     16\u001b[0m     \u001b[38;5;28;01mreturn\u001b[39;00m \u001b[38;5;28;01mFalse\u001b[39;00m\n",
      "\u001b[1;31mKeyboardInterrupt\u001b[0m: ",
      "\nDuring handling of the above exception, another exception occurred:\n",
      "\u001b[1;31mCatBoostError\u001b[0m                             Traceback (most recent call last)",
      "Cell \u001b[1;32mIn[41], line 1\u001b[0m\n\u001b[1;32m----> 1\u001b[0m \u001b[43mstudy\u001b[49m\u001b[38;5;241;43m.\u001b[39;49m\u001b[43moptimize\u001b[49m\u001b[43m(\u001b[49m\u001b[43mobjective\u001b[49m\u001b[43m,\u001b[49m\u001b[43m \u001b[49m\u001b[43mn_trials\u001b[49m\u001b[38;5;241;43m=\u001b[39;49m\u001b[38;5;241;43m50\u001b[39;49m\u001b[43m)\u001b[49m\n",
      "File \u001b[1;32md:\\Development\\insurance\\venv\\lib\\site-packages\\optuna\\study\\study.py:475\u001b[0m, in \u001b[0;36mStudy.optimize\u001b[1;34m(self, func, n_trials, timeout, n_jobs, catch, callbacks, gc_after_trial, show_progress_bar)\u001b[0m\n\u001b[0;32m    373\u001b[0m \u001b[38;5;28;01mdef\u001b[39;00m \u001b[38;5;21moptimize\u001b[39m(\n\u001b[0;32m    374\u001b[0m     \u001b[38;5;28mself\u001b[39m,\n\u001b[0;32m    375\u001b[0m     func: ObjectiveFuncType,\n\u001b[1;32m   (...)\u001b[0m\n\u001b[0;32m    382\u001b[0m     show_progress_bar: \u001b[38;5;28mbool\u001b[39m \u001b[38;5;241m=\u001b[39m \u001b[38;5;28;01mFalse\u001b[39;00m,\n\u001b[0;32m    383\u001b[0m ) \u001b[38;5;241m-\u001b[39m\u001b[38;5;241m>\u001b[39m \u001b[38;5;28;01mNone\u001b[39;00m:\n\u001b[0;32m    384\u001b[0m \u001b[38;5;250m    \u001b[39m\u001b[38;5;124;03m\"\"\"Optimize an objective function.\u001b[39;00m\n\u001b[0;32m    385\u001b[0m \n\u001b[0;32m    386\u001b[0m \u001b[38;5;124;03m    Optimization is done by choosing a suitable set of hyperparameter values from a given\u001b[39;00m\n\u001b[1;32m   (...)\u001b[0m\n\u001b[0;32m    473\u001b[0m \u001b[38;5;124;03m            If nested invocation of this method occurs.\u001b[39;00m\n\u001b[0;32m    474\u001b[0m \u001b[38;5;124;03m    \"\"\"\u001b[39;00m\n\u001b[1;32m--> 475\u001b[0m     \u001b[43m_optimize\u001b[49m\u001b[43m(\u001b[49m\n\u001b[0;32m    476\u001b[0m \u001b[43m        \u001b[49m\u001b[43mstudy\u001b[49m\u001b[38;5;241;43m=\u001b[39;49m\u001b[38;5;28;43mself\u001b[39;49m\u001b[43m,\u001b[49m\n\u001b[0;32m    477\u001b[0m \u001b[43m        \u001b[49m\u001b[43mfunc\u001b[49m\u001b[38;5;241;43m=\u001b[39;49m\u001b[43mfunc\u001b[49m\u001b[43m,\u001b[49m\n\u001b[0;32m    478\u001b[0m \u001b[43m        \u001b[49m\u001b[43mn_trials\u001b[49m\u001b[38;5;241;43m=\u001b[39;49m\u001b[43mn_trials\u001b[49m\u001b[43m,\u001b[49m\n\u001b[0;32m    479\u001b[0m \u001b[43m        \u001b[49m\u001b[43mtimeout\u001b[49m\u001b[38;5;241;43m=\u001b[39;49m\u001b[43mtimeout\u001b[49m\u001b[43m,\u001b[49m\n\u001b[0;32m    480\u001b[0m \u001b[43m        \u001b[49m\u001b[43mn_jobs\u001b[49m\u001b[38;5;241;43m=\u001b[39;49m\u001b[43mn_jobs\u001b[49m\u001b[43m,\u001b[49m\n\u001b[0;32m    481\u001b[0m \u001b[43m        \u001b[49m\u001b[43mcatch\u001b[49m\u001b[38;5;241;43m=\u001b[39;49m\u001b[38;5;28;43mtuple\u001b[39;49m\u001b[43m(\u001b[49m\u001b[43mcatch\u001b[49m\u001b[43m)\u001b[49m\u001b[43m \u001b[49m\u001b[38;5;28;43;01mif\u001b[39;49;00m\u001b[43m \u001b[49m\u001b[38;5;28;43misinstance\u001b[39;49m\u001b[43m(\u001b[49m\u001b[43mcatch\u001b[49m\u001b[43m,\u001b[49m\u001b[43m \u001b[49m\u001b[43mIterable\u001b[49m\u001b[43m)\u001b[49m\u001b[43m \u001b[49m\u001b[38;5;28;43;01melse\u001b[39;49;00m\u001b[43m \u001b[49m\u001b[43m(\u001b[49m\u001b[43mcatch\u001b[49m\u001b[43m,\u001b[49m\u001b[43m)\u001b[49m\u001b[43m,\u001b[49m\n\u001b[0;32m    482\u001b[0m \u001b[43m        \u001b[49m\u001b[43mcallbacks\u001b[49m\u001b[38;5;241;43m=\u001b[39;49m\u001b[43mcallbacks\u001b[49m\u001b[43m,\u001b[49m\n\u001b[0;32m    483\u001b[0m \u001b[43m        \u001b[49m\u001b[43mgc_after_trial\u001b[49m\u001b[38;5;241;43m=\u001b[39;49m\u001b[43mgc_after_trial\u001b[49m\u001b[43m,\u001b[49m\n\u001b[0;32m    484\u001b[0m \u001b[43m        \u001b[49m\u001b[43mshow_progress_bar\u001b[49m\u001b[38;5;241;43m=\u001b[39;49m\u001b[43mshow_progress_bar\u001b[49m\u001b[43m,\u001b[49m\n\u001b[0;32m    485\u001b[0m \u001b[43m    \u001b[49m\u001b[43m)\u001b[49m\n",
      "File \u001b[1;32md:\\Development\\insurance\\venv\\lib\\site-packages\\optuna\\study\\_optimize.py:63\u001b[0m, in \u001b[0;36m_optimize\u001b[1;34m(study, func, n_trials, timeout, n_jobs, catch, callbacks, gc_after_trial, show_progress_bar)\u001b[0m\n\u001b[0;32m     61\u001b[0m \u001b[38;5;28;01mtry\u001b[39;00m:\n\u001b[0;32m     62\u001b[0m     \u001b[38;5;28;01mif\u001b[39;00m n_jobs \u001b[38;5;241m==\u001b[39m \u001b[38;5;241m1\u001b[39m:\n\u001b[1;32m---> 63\u001b[0m         \u001b[43m_optimize_sequential\u001b[49m\u001b[43m(\u001b[49m\n\u001b[0;32m     64\u001b[0m \u001b[43m            \u001b[49m\u001b[43mstudy\u001b[49m\u001b[43m,\u001b[49m\n\u001b[0;32m     65\u001b[0m \u001b[43m            \u001b[49m\u001b[43mfunc\u001b[49m\u001b[43m,\u001b[49m\n\u001b[0;32m     66\u001b[0m \u001b[43m            \u001b[49m\u001b[43mn_trials\u001b[49m\u001b[43m,\u001b[49m\n\u001b[0;32m     67\u001b[0m \u001b[43m            \u001b[49m\u001b[43mtimeout\u001b[49m\u001b[43m,\u001b[49m\n\u001b[0;32m     68\u001b[0m \u001b[43m            \u001b[49m\u001b[43mcatch\u001b[49m\u001b[43m,\u001b[49m\n\u001b[0;32m     69\u001b[0m \u001b[43m            \u001b[49m\u001b[43mcallbacks\u001b[49m\u001b[43m,\u001b[49m\n\u001b[0;32m     70\u001b[0m \u001b[43m            \u001b[49m\u001b[43mgc_after_trial\u001b[49m\u001b[43m,\u001b[49m\n\u001b[0;32m     71\u001b[0m \u001b[43m            \u001b[49m\u001b[43mreseed_sampler_rng\u001b[49m\u001b[38;5;241;43m=\u001b[39;49m\u001b[38;5;28;43;01mFalse\u001b[39;49;00m\u001b[43m,\u001b[49m\n\u001b[0;32m     72\u001b[0m \u001b[43m            \u001b[49m\u001b[43mtime_start\u001b[49m\u001b[38;5;241;43m=\u001b[39;49m\u001b[38;5;28;43;01mNone\u001b[39;49;00m\u001b[43m,\u001b[49m\n\u001b[0;32m     73\u001b[0m \u001b[43m            \u001b[49m\u001b[43mprogress_bar\u001b[49m\u001b[38;5;241;43m=\u001b[39;49m\u001b[43mprogress_bar\u001b[49m\u001b[43m,\u001b[49m\n\u001b[0;32m     74\u001b[0m \u001b[43m        \u001b[49m\u001b[43m)\u001b[49m\n\u001b[0;32m     75\u001b[0m     \u001b[38;5;28;01melse\u001b[39;00m:\n\u001b[0;32m     76\u001b[0m         \u001b[38;5;28;01mif\u001b[39;00m n_jobs \u001b[38;5;241m==\u001b[39m \u001b[38;5;241m-\u001b[39m\u001b[38;5;241m1\u001b[39m:\n",
      "File \u001b[1;32md:\\Development\\insurance\\venv\\lib\\site-packages\\optuna\\study\\_optimize.py:160\u001b[0m, in \u001b[0;36m_optimize_sequential\u001b[1;34m(study, func, n_trials, timeout, catch, callbacks, gc_after_trial, reseed_sampler_rng, time_start, progress_bar)\u001b[0m\n\u001b[0;32m    157\u001b[0m         \u001b[38;5;28;01mbreak\u001b[39;00m\n\u001b[0;32m    159\u001b[0m \u001b[38;5;28;01mtry\u001b[39;00m:\n\u001b[1;32m--> 160\u001b[0m     frozen_trial \u001b[38;5;241m=\u001b[39m \u001b[43m_run_trial\u001b[49m\u001b[43m(\u001b[49m\u001b[43mstudy\u001b[49m\u001b[43m,\u001b[49m\u001b[43m \u001b[49m\u001b[43mfunc\u001b[49m\u001b[43m,\u001b[49m\u001b[43m \u001b[49m\u001b[43mcatch\u001b[49m\u001b[43m)\u001b[49m\n\u001b[0;32m    161\u001b[0m \u001b[38;5;28;01mfinally\u001b[39;00m:\n\u001b[0;32m    162\u001b[0m     \u001b[38;5;66;03m# The following line mitigates memory problems that can be occurred in some\u001b[39;00m\n\u001b[0;32m    163\u001b[0m     \u001b[38;5;66;03m# environments (e.g., services that use computing containers such as GitHub Actions).\u001b[39;00m\n\u001b[0;32m    164\u001b[0m     \u001b[38;5;66;03m# Please refer to the following PR for further details:\u001b[39;00m\n\u001b[0;32m    165\u001b[0m     \u001b[38;5;66;03m# https://github.com/optuna/optuna/pull/325.\u001b[39;00m\n\u001b[0;32m    166\u001b[0m     \u001b[38;5;28;01mif\u001b[39;00m gc_after_trial:\n",
      "File \u001b[1;32md:\\Development\\insurance\\venv\\lib\\site-packages\\optuna\\study\\_optimize.py:248\u001b[0m, in \u001b[0;36m_run_trial\u001b[1;34m(study, func, catch)\u001b[0m\n\u001b[0;32m    241\u001b[0m         \u001b[38;5;28;01massert\u001b[39;00m \u001b[38;5;28;01mFalse\u001b[39;00m, \u001b[38;5;124m\"\u001b[39m\u001b[38;5;124mShould not reach.\u001b[39m\u001b[38;5;124m\"\u001b[39m\n\u001b[0;32m    243\u001b[0m \u001b[38;5;28;01mif\u001b[39;00m (\n\u001b[0;32m    244\u001b[0m     frozen_trial\u001b[38;5;241m.\u001b[39mstate \u001b[38;5;241m==\u001b[39m TrialState\u001b[38;5;241m.\u001b[39mFAIL\n\u001b[0;32m    245\u001b[0m     \u001b[38;5;129;01mand\u001b[39;00m func_err \u001b[38;5;129;01mis\u001b[39;00m \u001b[38;5;129;01mnot\u001b[39;00m \u001b[38;5;28;01mNone\u001b[39;00m\n\u001b[0;32m    246\u001b[0m     \u001b[38;5;129;01mand\u001b[39;00m \u001b[38;5;129;01mnot\u001b[39;00m \u001b[38;5;28misinstance\u001b[39m(func_err, catch)\n\u001b[0;32m    247\u001b[0m ):\n\u001b[1;32m--> 248\u001b[0m     \u001b[38;5;28;01mraise\u001b[39;00m func_err\n\u001b[0;32m    249\u001b[0m \u001b[38;5;28;01mreturn\u001b[39;00m frozen_trial\n",
      "File \u001b[1;32md:\\Development\\insurance\\venv\\lib\\site-packages\\optuna\\study\\_optimize.py:197\u001b[0m, in \u001b[0;36m_run_trial\u001b[1;34m(study, func, catch)\u001b[0m\n\u001b[0;32m    195\u001b[0m \u001b[38;5;28;01mwith\u001b[39;00m get_heartbeat_thread(trial\u001b[38;5;241m.\u001b[39m_trial_id, study\u001b[38;5;241m.\u001b[39m_storage):\n\u001b[0;32m    196\u001b[0m     \u001b[38;5;28;01mtry\u001b[39;00m:\n\u001b[1;32m--> 197\u001b[0m         value_or_values \u001b[38;5;241m=\u001b[39m \u001b[43mfunc\u001b[49m\u001b[43m(\u001b[49m\u001b[43mtrial\u001b[49m\u001b[43m)\u001b[49m\n\u001b[0;32m    198\u001b[0m     \u001b[38;5;28;01mexcept\u001b[39;00m exceptions\u001b[38;5;241m.\u001b[39mTrialPruned \u001b[38;5;28;01mas\u001b[39;00m e:\n\u001b[0;32m    199\u001b[0m         \u001b[38;5;66;03m# TODO(mamu): Handle multi-objective cases.\u001b[39;00m\n\u001b[0;32m    200\u001b[0m         state \u001b[38;5;241m=\u001b[39m TrialState\u001b[38;5;241m.\u001b[39mPRUNED\n",
      "Cell \u001b[1;32mIn[40], line 68\u001b[0m, in \u001b[0;36mobjective\u001b[1;34m(trial)\u001b[0m\n\u001b[0;32m     61\u001b[0m \u001b[38;5;66;03m# Initialize and train the model\u001b[39;00m\n\u001b[0;32m     62\u001b[0m catboost_model \u001b[38;5;241m=\u001b[39m CatBoostRegressor(\n\u001b[0;32m     63\u001b[0m     \u001b[38;5;241m*\u001b[39m\u001b[38;5;241m*\u001b[39mparam_grid,\n\u001b[0;32m     64\u001b[0m     eval_metric\u001b[38;5;241m=\u001b[39mRmsleMetric(),  \u001b[38;5;66;03m# Use custom RMSLE metric\u001b[39;00m\n\u001b[0;32m     65\u001b[0m     verbose\u001b[38;5;241m=\u001b[39m\u001b[38;5;241m5\u001b[39m  \u001b[38;5;66;03m# Logs every 5 rounds\u001b[39;00m\n\u001b[0;32m     66\u001b[0m )\n\u001b[1;32m---> 68\u001b[0m \u001b[43mcatboost_model\u001b[49m\u001b[38;5;241;43m.\u001b[39;49m\u001b[43mfit\u001b[49m\u001b[43m(\u001b[49m\u001b[43mtrain_data\u001b[49m\u001b[43m,\u001b[49m\u001b[43m \u001b[49m\u001b[43meval_set\u001b[49m\u001b[38;5;241;43m=\u001b[39;49m\u001b[43mval_data\u001b[49m\u001b[43m,\u001b[49m\u001b[43m \u001b[49m\u001b[43mearly_stopping_rounds\u001b[49m\u001b[38;5;241;43m=\u001b[39;49m\u001b[38;5;241;43m10\u001b[39;49m\u001b[43m)\u001b[49m\n\u001b[0;32m     70\u001b[0m \u001b[38;5;66;03m# Return the best RMSLE score from the validation set\u001b[39;00m\n\u001b[0;32m     71\u001b[0m \u001b[38;5;28mprint\u001b[39m(catboost_model\u001b[38;5;241m.\u001b[39mget_best_score())\n",
      "File \u001b[1;32md:\\Development\\insurance\\venv\\lib\\site-packages\\catboost\\core.py:5873\u001b[0m, in \u001b[0;36mCatBoostRegressor.fit\u001b[1;34m(self, X, y, cat_features, text_features, embedding_features, graph, sample_weight, baseline, use_best_model, eval_set, verbose, logging_level, plot, plot_file, column_description, verbose_eval, metric_period, silent, early_stopping_rounds, save_snapshot, snapshot_file, snapshot_interval, init_model, callbacks, log_cout, log_cerr)\u001b[0m\n\u001b[0;32m   5871\u001b[0m \u001b[38;5;28;01mif\u001b[39;00m \u001b[38;5;124m'\u001b[39m\u001b[38;5;124mloss_function\u001b[39m\u001b[38;5;124m'\u001b[39m \u001b[38;5;129;01min\u001b[39;00m params:\n\u001b[0;32m   5872\u001b[0m     CatBoostRegressor\u001b[38;5;241m.\u001b[39m_check_is_compatible_loss(params[\u001b[38;5;124m'\u001b[39m\u001b[38;5;124mloss_function\u001b[39m\u001b[38;5;124m'\u001b[39m])\n\u001b[1;32m-> 5873\u001b[0m \u001b[38;5;28;01mreturn\u001b[39;00m \u001b[38;5;28;43mself\u001b[39;49m\u001b[38;5;241;43m.\u001b[39;49m\u001b[43m_fit\u001b[49m\u001b[43m(\u001b[49m\u001b[43mX\u001b[49m\u001b[43m,\u001b[49m\u001b[43m \u001b[49m\u001b[43my\u001b[49m\u001b[43m,\u001b[49m\u001b[43m \u001b[49m\u001b[43mcat_features\u001b[49m\u001b[43m,\u001b[49m\u001b[43m \u001b[49m\u001b[43mtext_features\u001b[49m\u001b[43m,\u001b[49m\u001b[43m \u001b[49m\u001b[43membedding_features\u001b[49m\u001b[43m,\u001b[49m\u001b[43m \u001b[49m\u001b[38;5;28;43;01mNone\u001b[39;49;00m\u001b[43m,\u001b[49m\u001b[43m \u001b[49m\u001b[43mgraph\u001b[49m\u001b[43m,\u001b[49m\u001b[43m \u001b[49m\u001b[43msample_weight\u001b[49m\u001b[43m,\u001b[49m\u001b[43m \u001b[49m\u001b[38;5;28;43;01mNone\u001b[39;49;00m\u001b[43m,\u001b[49m\u001b[43m \u001b[49m\u001b[38;5;28;43;01mNone\u001b[39;49;00m\u001b[43m,\u001b[49m\u001b[43m \u001b[49m\u001b[38;5;28;43;01mNone\u001b[39;49;00m\u001b[43m,\u001b[49m\u001b[43m \u001b[49m\u001b[38;5;28;43;01mNone\u001b[39;49;00m\u001b[43m,\u001b[49m\u001b[43m \u001b[49m\u001b[43mbaseline\u001b[49m\u001b[43m,\u001b[49m\n\u001b[0;32m   5874\u001b[0m \u001b[43m                 \u001b[49m\u001b[43muse_best_model\u001b[49m\u001b[43m,\u001b[49m\u001b[43m \u001b[49m\u001b[43meval_set\u001b[49m\u001b[43m,\u001b[49m\u001b[43m \u001b[49m\u001b[43mverbose\u001b[49m\u001b[43m,\u001b[49m\u001b[43m \u001b[49m\u001b[43mlogging_level\u001b[49m\u001b[43m,\u001b[49m\u001b[43m \u001b[49m\u001b[43mplot\u001b[49m\u001b[43m,\u001b[49m\u001b[43m \u001b[49m\u001b[43mplot_file\u001b[49m\u001b[43m,\u001b[49m\u001b[43m \u001b[49m\u001b[43mcolumn_description\u001b[49m\u001b[43m,\u001b[49m\n\u001b[0;32m   5875\u001b[0m \u001b[43m                 \u001b[49m\u001b[43mverbose_eval\u001b[49m\u001b[43m,\u001b[49m\u001b[43m \u001b[49m\u001b[43mmetric_period\u001b[49m\u001b[43m,\u001b[49m\u001b[43m \u001b[49m\u001b[43msilent\u001b[49m\u001b[43m,\u001b[49m\u001b[43m \u001b[49m\u001b[43mearly_stopping_rounds\u001b[49m\u001b[43m,\u001b[49m\n\u001b[0;32m   5876\u001b[0m \u001b[43m                 \u001b[49m\u001b[43msave_snapshot\u001b[49m\u001b[43m,\u001b[49m\u001b[43m \u001b[49m\u001b[43msnapshot_file\u001b[49m\u001b[43m,\u001b[49m\u001b[43m \u001b[49m\u001b[43msnapshot_interval\u001b[49m\u001b[43m,\u001b[49m\u001b[43m \u001b[49m\u001b[43minit_model\u001b[49m\u001b[43m,\u001b[49m\u001b[43m \u001b[49m\u001b[43mcallbacks\u001b[49m\u001b[43m,\u001b[49m\u001b[43m \u001b[49m\u001b[43mlog_cout\u001b[49m\u001b[43m,\u001b[49m\u001b[43m \u001b[49m\u001b[43mlog_cerr\u001b[49m\u001b[43m)\u001b[49m\n",
      "File \u001b[1;32md:\\Development\\insurance\\venv\\lib\\site-packages\\catboost\\core.py:2410\u001b[0m, in \u001b[0;36mCatBoost._fit\u001b[1;34m(self, X, y, cat_features, text_features, embedding_features, pairs, graph, sample_weight, group_id, group_weight, subgroup_id, pairs_weight, baseline, use_best_model, eval_set, verbose, logging_level, plot, plot_file, column_description, verbose_eval, metric_period, silent, early_stopping_rounds, save_snapshot, snapshot_file, snapshot_interval, init_model, callbacks, log_cout, log_cerr)\u001b[0m\n\u001b[0;32m   2407\u001b[0m allow_clear_pool \u001b[38;5;241m=\u001b[39m train_params[\u001b[38;5;124m\"\u001b[39m\u001b[38;5;124mallow_clear_pool\u001b[39m\u001b[38;5;124m\"\u001b[39m]\n\u001b[0;32m   2409\u001b[0m \u001b[38;5;28;01mwith\u001b[39;00m plot_wrapper(plot, plot_file, \u001b[38;5;124m'\u001b[39m\u001b[38;5;124mTraining plots\u001b[39m\u001b[38;5;124m'\u001b[39m, [_get_train_dir(\u001b[38;5;28mself\u001b[39m\u001b[38;5;241m.\u001b[39mget_params())]):\n\u001b[1;32m-> 2410\u001b[0m     \u001b[38;5;28;43mself\u001b[39;49m\u001b[38;5;241;43m.\u001b[39;49m\u001b[43m_train\u001b[49m\u001b[43m(\u001b[49m\n\u001b[0;32m   2411\u001b[0m \u001b[43m        \u001b[49m\u001b[43mtrain_pool\u001b[49m\u001b[43m,\u001b[49m\n\u001b[0;32m   2412\u001b[0m \u001b[43m        \u001b[49m\u001b[43mtrain_params\u001b[49m\u001b[43m[\u001b[49m\u001b[38;5;124;43m\"\u001b[39;49m\u001b[38;5;124;43meval_sets\u001b[39;49m\u001b[38;5;124;43m\"\u001b[39;49m\u001b[43m]\u001b[49m\u001b[43m,\u001b[49m\n\u001b[0;32m   2413\u001b[0m \u001b[43m        \u001b[49m\u001b[43mparams\u001b[49m\u001b[43m,\u001b[49m\n\u001b[0;32m   2414\u001b[0m \u001b[43m        \u001b[49m\u001b[43mallow_clear_pool\u001b[49m\u001b[43m,\u001b[49m\n\u001b[0;32m   2415\u001b[0m \u001b[43m        \u001b[49m\u001b[43mtrain_params\u001b[49m\u001b[43m[\u001b[49m\u001b[38;5;124;43m\"\u001b[39;49m\u001b[38;5;124;43minit_model\u001b[39;49m\u001b[38;5;124;43m\"\u001b[39;49m\u001b[43m]\u001b[49m\n\u001b[0;32m   2416\u001b[0m \u001b[43m    \u001b[49m\u001b[43m)\u001b[49m\n\u001b[0;32m   2418\u001b[0m \u001b[38;5;66;03m# Have property feature_importance possibly set\u001b[39;00m\n\u001b[0;32m   2419\u001b[0m loss \u001b[38;5;241m=\u001b[39m \u001b[38;5;28mself\u001b[39m\u001b[38;5;241m.\u001b[39m_object\u001b[38;5;241m.\u001b[39m_get_loss_function_name()\n",
      "File \u001b[1;32md:\\Development\\insurance\\venv\\lib\\site-packages\\catboost\\core.py:1790\u001b[0m, in \u001b[0;36m_CatBoostBase._train\u001b[1;34m(self, train_pool, test_pool, params, allow_clear_pool, init_model)\u001b[0m\n\u001b[0;32m   1789\u001b[0m \u001b[38;5;28;01mdef\u001b[39;00m \u001b[38;5;21m_train\u001b[39m(\u001b[38;5;28mself\u001b[39m, train_pool, test_pool, params, allow_clear_pool, init_model):\n\u001b[1;32m-> 1790\u001b[0m     \u001b[38;5;28;43mself\u001b[39;49m\u001b[38;5;241;43m.\u001b[39;49m\u001b[43m_object\u001b[49m\u001b[38;5;241;43m.\u001b[39;49m\u001b[43m_train\u001b[49m\u001b[43m(\u001b[49m\u001b[43mtrain_pool\u001b[49m\u001b[43m,\u001b[49m\u001b[43m \u001b[49m\u001b[43mtest_pool\u001b[49m\u001b[43m,\u001b[49m\u001b[43m \u001b[49m\u001b[43mparams\u001b[49m\u001b[43m,\u001b[49m\u001b[43m \u001b[49m\u001b[43mallow_clear_pool\u001b[49m\u001b[43m,\u001b[49m\u001b[43m \u001b[49m\u001b[43minit_model\u001b[49m\u001b[38;5;241;43m.\u001b[39;49m\u001b[43m_object\u001b[49m\u001b[43m \u001b[49m\u001b[38;5;28;43;01mif\u001b[39;49;00m\u001b[43m \u001b[49m\u001b[43minit_model\u001b[49m\u001b[43m \u001b[49m\u001b[38;5;28;43;01melse\u001b[39;49;00m\u001b[43m \u001b[49m\u001b[38;5;28;43;01mNone\u001b[39;49;00m\u001b[43m)\u001b[49m\n\u001b[0;32m   1791\u001b[0m     \u001b[38;5;28mself\u001b[39m\u001b[38;5;241m.\u001b[39m_set_trained_model_attributes()\n",
      "File \u001b[1;32m_catboost.pyx:5017\u001b[0m, in \u001b[0;36m_catboost._CatBoost._train\u001b[1;34m()\u001b[0m\n",
      "File \u001b[1;32m_catboost.pyx:5066\u001b[0m, in \u001b[0;36m_catboost._CatBoost._train\u001b[1;34m()\u001b[0m\n",
      "\u001b[1;31mCatBoostError\u001b[0m: catboost/python-package/catboost/helpers.cpp:57: Traceback (most recent call last):\n  File \"_catboost.pyx\", line 1247, in _catboost._MetricIsMaxOptimal\n  File \"C:\\Users\\geroa\\AppData\\Local\\Temp\\ipykernel_24200\\2705365710.py\", line 15, in is_max_optimal\n    def is_max_optimal(self):\nKeyboardInterrupt\n"
     ]
    }
   ],
   "source": [
    "study.optimize(objective, n_trials=50)"
   ]
  },
  {
   "cell_type": "code",
   "execution_count": 7,
   "metadata": {},
   "outputs": [
    {
     "name": "stderr",
     "output_type": "stream",
     "text": [
      "C:\\Users\\geroa\\AppData\\Local\\Temp\\ipykernel_8976\\2487238011.py:1: FutureWarning: The default of observed=False is deprecated and will be changed to True in a future version of pandas. Pass observed=False to retain current behavior or observed=True to adopt the future default and silence this warning.\n",
      "  treated_dataset.groupby(\"Marital Status\")[\"Premium Amount\"].mean()\n"
     ]
    },
    {
     "data": {
      "text/plain": [
       "Marital Status\n",
       "Divorced    1100.625116\n",
       "Married     1099.844389\n",
       "Single      1101.735535\n",
       "Name: Premium Amount, dtype: float64"
      ]
     },
     "execution_count": 7,
     "metadata": {},
     "output_type": "execute_result"
    }
   ],
   "source": [
    "treated_dataset.groupby(\"Marital Status\")[\"Premium Amount\"].mean()"
   ]
  },
  {
   "cell_type": "code",
   "execution_count": 6,
   "metadata": {},
   "outputs": [],
   "source": [
    "\n",
    "# Define a 60-40 split\n",
    "splitter = ShuffleSplit(n_splits=5, test_size=0.2, random_state=1)\n"
   ]
  },
  {
   "cell_type": "code",
   "execution_count": 7,
   "metadata": {},
   "outputs": [],
   "source": [
    "from sklearn.metrics import mean_squared_log_error\n"
   ]
  },
  {
   "cell_type": "code",
   "execution_count": 9,
   "metadata": {},
   "outputs": [],
   "source": [
    "def rmsle(y_true, y_pred):\n",
    "    y_pred = np.maximum(0, y_pred)  # Clip predicted values to be non-negative\n",
    "\n",
    "    return np.sqrt(mean_squared_log_error(y_true, y_pred))"
   ]
  },
  {
   "cell_type": "code",
   "execution_count": 12,
   "metadata": {},
   "outputs": [
    {
     "name": "stdout",
     "output_type": "stream",
     "text": [
      "Starting\n",
      "Train: 0.9457932469658586, Test: 1.045080013297201\n",
      "Starting\n",
      "Train: 0.9455107683720259, Test: 1.0470493446906997\n",
      "Starting\n",
      "Train: 0.9445117829903584, Test: 1.0455479214414307\n",
      "Starting\n",
      "Train: 0.9455311069918902, Test: 1.0469492185041873\n",
      "Starting\n",
      "Train: 0.9453882965429984, Test: 1.0444627183960378\n"
     ]
    }
   ],
   "source": [
    "for train_idx, val_idx in splitter.split(X_train):\n",
    "    print(\"Starting\")\n",
    "    # Prepare data for LightGBM\n",
    "    X_train_fold, X_val_fold = X_train.iloc[train_idx], X_train.iloc[val_idx]\n",
    "    y_train_fold, y_val_fold = y_train.iloc[train_idx], y_train.iloc[val_idx]\n",
    "    \n",
    "    y_train_fold = np.log1p(y_train_fold)\n",
    "    y_val_fold = np.log1p(y_val_fold)\n",
    "    \n",
    "    full_pipeline = Pipeline([\n",
    "        (\"categorical_encoder\", CategoricalEncoder()),\n",
    "        (\"model\",xgb.XGBRegressor(enable_categorical=True, learning_rate=0.016084079332671603, max_depth=10, subsample=0.8732132237392727, colsample_bytree=0.9756972730817159, n_estimators=1078, device=\"cuda\", tree_method=\"hist\"))\n",
    "    ])\n",
    "    full_pipeline.fit(X_train_fold, y_train_fold)\n",
    "    \n",
    "    train_score = rmsle(np.expm1(full_pipeline.predict(X_train_fold)), np.expm1(y_train_fold))\n",
    "    val_score = rmsle(np.expm1(full_pipeline.predict(X_val_fold)), np.expm1(y_val_fold))\n",
    "\n",
    "    print(f\"Train: {train_score}, Test: {val_score}\")"
   ]
  },
  {
   "cell_type": "code",
   "execution_count": 7,
   "metadata": {},
   "outputs": [
    {
     "name": "stdout",
     "output_type": "stream",
     "text": [
      "Starting\n",
      "[LightGBM] [Warning] Found whitespace in feature_names, replace with underlines\n",
      "Train: 1.0432731258164047, Test: 1.0439207494412213\n",
      "Starting\n",
      "[LightGBM] [Warning] Found whitespace in feature_names, replace with underlines\n",
      "Train: 1.0428427391587982, Test: 1.0455364666390634\n",
      "Starting\n",
      "[LightGBM] [Warning] Found whitespace in feature_names, replace with underlines\n",
      "Train: 1.0430762288552056, Test: 1.0446683590649208\n",
      "Starting\n",
      "[LightGBM] [Warning] Found whitespace in feature_names, replace with underlines\n",
      "Train: 1.0426739557223592, Test: 1.045204503979689\n",
      "Starting\n",
      "[LightGBM] [Warning] Found whitespace in feature_names, replace with underlines\n",
      "Train: 1.0434169722200823, Test: 1.0432137286322858\n"
     ]
    }
   ],
   "source": [
    "for train_idx, val_idx in splitter.split(X_train):\n",
    "    print(\"Starting\")\n",
    "    # Prepare data for LightGBM\n",
    "    X_train_fold, X_val_fold = X_train.iloc[train_idx], X_train.iloc[val_idx]\n",
    "    y_train_fold, y_val_fold = y_train.iloc[train_idx], y_train.iloc[val_idx]\n",
    "    \n",
    "    y_train_fold = np.log1p(y_train_fold)\n",
    "    y_val_fold = np.log1p(y_val_fold)\n",
    "    \n",
    "    full_pipeline = Pipeline([\n",
    "        (\"model\",LGBMRegressor(learning_rate=0.1, colsample_bytree=0.9, n_estimators=100, device='gpu', verbose=0))\n",
    "    ])\n",
    "    full_pipeline.fit(X_train_fold, y_train_fold)\n",
    "    \n",
    "    train_score = root_mean_squared_log_error(np.expm1(full_pipeline.predict(X_train_fold)), np.expm1(y_train_fold))\n",
    "    val_score = root_mean_squared_log_error(np.expm1(full_pipeline.predict(X_val_fold)), np.expm1(y_val_fold))\n",
    "\n",
    "    print(f\"Train: {train_score}, Test: {val_score}\")"
   ]
  },
  {
   "cell_type": "code",
   "execution_count": 9,
   "metadata": {},
   "outputs": [
    {
     "name": "stdout",
     "output_type": "stream",
     "text": [
      "Starting\n",
      "Train: 1.0487339020570214, Test: 1.047126652342611\n",
      "Starting\n",
      "Train: 1.0484749710126162, Test: 1.0488654460167754\n",
      "Starting\n",
      "Train: 1.048584641284776, Test: 1.0480031391798197\n",
      "Starting\n",
      "Train: 1.048182440767824, Test: 1.049098477372215\n",
      "Starting\n",
      "Train: 1.0489958596333104, Test: 1.0465021171475435\n"
     ]
    }
   ],
   "source": [
    "for train_idx, val_idx in splitter.split(X_train):\n",
    "    print(\"Starting\")\n",
    "    # Prepare data for LightGBM\n",
    "    X_train_fold, X_val_fold = X_train.iloc[train_idx].copy(), X_train.iloc[val_idx].copy()\n",
    "    y_train_fold, y_val_fold = y_train.iloc[train_idx].copy(), y_train.iloc[val_idx].copy()\n",
    "    \n",
    "    y_train_fold = np.log1p(y_train_fold)\n",
    "    y_val_fold = np.log1p(y_val_fold)\n",
    "    \n",
    "    categorical_features = [col for col in X_train_fold.columns if X_train_fold[col].dtype == \"category\"]\n",
    "    \n",
    "    full_pipeline = Pipeline([\n",
    "        (\"categorical_to_string\", CategoricalToStringTransformer()),\n",
    "        (\"model\",CatBoostRegressor(iterations=100,\n",
    "                          early_stopping_rounds=10,\n",
    "                          grow_policy = 'Depthwise',\n",
    "                          cat_features=categorical_features,\n",
    "                          random_state=42,\n",
    "                          learning_rate=0.0003,verbose=0, task_type='GPU'))\n",
    "    ])\n",
    "    full_pipeline.fit(X_train_fold, y_train_fold)\n",
    "    \n",
    "    train_score = root_mean_squared_log_error(np.expm1(full_pipeline.predict(X_train_fold)), np.expm1(y_train_fold))\n",
    "    val_score = root_mean_squared_log_error(np.expm1(full_pipeline.predict(X_val_fold)), np.expm1(y_val_fold))\n",
    "\n",
    "    print(f\"Train: {train_score}, Test: {val_score}\")"
   ]
  },
  {
   "cell_type": "code",
   "execution_count": 1,
   "metadata": {},
   "outputs": [
    {
     "ename": "NameError",
     "evalue": "name 'ShuffleSplit' is not defined",
     "output_type": "error",
     "traceback": [
      "\u001b[1;31m---------------------------------------------------------------------------\u001b[0m",
      "\u001b[1;31mNameError\u001b[0m                                 Traceback (most recent call last)",
      "Cell \u001b[1;32mIn[1], line 2\u001b[0m\n\u001b[0;32m      1\u001b[0m \u001b[38;5;66;03m# Define a 60-40 split\u001b[39;00m\n\u001b[1;32m----> 2\u001b[0m splitter \u001b[38;5;241m=\u001b[39m \u001b[43mShuffleSplit\u001b[49m(n_splits\u001b[38;5;241m=\u001b[39m\u001b[38;5;241m5\u001b[39m, test_size\u001b[38;5;241m=\u001b[39m\u001b[38;5;241m0.2\u001b[39m, random_state\u001b[38;5;241m=\u001b[39m\u001b[38;5;241m1\u001b[39m)\n\u001b[0;32m      4\u001b[0m results \u001b[38;5;241m=\u001b[39m []\n\u001b[0;32m      5\u001b[0m \u001b[38;5;28;01mfor\u001b[39;00m train_idx, val_idx \u001b[38;5;129;01min\u001b[39;00m splitter\u001b[38;5;241m.\u001b[39msplit(X_train):\n",
      "\u001b[1;31mNameError\u001b[0m: name 'ShuffleSplit' is not defined"
     ]
    }
   ],
   "source": [
    "\n",
    "# Define a 60-40 split\n",
    "splitter = ShuffleSplit(n_splits=5, test_size=0.2, random_state=1)\n",
    "\n",
    "results = []\n",
    "for train_idx, val_idx in splitter.split(X_train):\n",
    "    print(\"Starting\")\n",
    "    # Prepare data for LightGBM\n",
    "    X_train_fold, X_val_fold = X_train.iloc[train_idx], X_train.iloc[val_idx]\n",
    "    y_train_fold, y_val_fold = y_train.iloc[train_idx], y_train.iloc[val_idx]\n",
    "    \n",
    "    full_pipeline = Pipeline([\n",
    "        (\"model\",xgb.XGBRegressor(enable_categorical=True, eta=0.5, colsample_bytree=0.75, n_estimators=100, objective=\"reg:squaredlogerror\"))\n",
    "    ])\n",
    "    full_pipeline.fit(X_train_fold, y_train_fold)\n",
    "    \n",
    "    train_score = root_mean_squared_log_error(full_pipeline.predict(X_train_fold), y_train_fold)\n",
    "    val_score = root_mean_squared_log_error(full_pipeline.predict(X_val_fold), y_val_fold)\n",
    "\n",
    "    print(f\"Train: {train_score}, Test: {val_score}\")"
   ]
  },
  {
   "cell_type": "code",
   "execution_count": 27,
   "metadata": {},
   "outputs": [
    {
     "name": "stdout",
     "output_type": "stream",
     "text": [
      "Starting\n",
      "          Age  Gender  Annual Income Marital Status  Number of Dependents  \\\n",
      "751618   64.0  Female         1824.0       Divorced                   2.0   \n",
      "216955   39.0    Male            NaN       Divorced                   4.0   \n",
      "321255   51.0    Male         1287.0        Married                   2.0   \n",
      "701136   63.0  Female       106294.0       Divorced                   NaN   \n",
      "1088725  29.0    Male        12506.0        Married                   4.0   \n",
      "...       ...     ...            ...            ...                   ...   \n",
      "836489   37.0    Male        39120.0         Single                   1.0   \n",
      "491263   22.0    Male         8078.0         Single                   0.0   \n",
      "470924   64.0  Female         2789.0        Married                   4.0   \n",
      "491755   21.0  Female        17121.0       Divorced                   3.0   \n",
      "128037   39.0    Male         2900.0        Married                   2.0   \n",
      "\n",
      "        Education Level     Occupation  Health Score  Location    Policy Type  \\\n",
      "751618         Master's       Employed     18.384523     Rural  Comprehensive   \n",
      "216955              PhD            NaN           NaN     Rural  Comprehensive   \n",
      "321255      High School            NaN     10.671460  Suburban  Comprehensive   \n",
      "701136      High School  Self-Employed     19.085551  Suburban  Comprehensive   \n",
      "1088725             PhD     Unemployed     19.596744     Rural          Basic   \n",
      "...                 ...            ...           ...       ...            ...   \n",
      "836489       Bachelor's            NaN     47.939608     Urban  Comprehensive   \n",
      "491263      High School       Employed     18.720524     Urban  Comprehensive   \n",
      "470924       Bachelor's            NaN      3.848096     Rural          Basic   \n",
      "491755              PhD       Employed     22.583500     Urban        Premium   \n",
      "128037         Master's  Self-Employed     49.989971     Urban  Comprehensive   \n",
      "\n",
      "         ...  Customer Tenure  Claim Frequency  Policy Start Year  \\\n",
      "751618   ...         4.780822         0.000000               2019   \n",
      "216955   ...         2.816438         0.000000               2021   \n",
      "321255   ...         2.430137         0.000000               2022   \n",
      "701136   ...         2.309589         0.500000               2022   \n",
      "1088725  ...         3.128767         0.500000               2021   \n",
      "...      ...              ...              ...                ...   \n",
      "836489   ...         1.958904         0.000000               2022   \n",
      "491263   ...         4.205479         0.000000               2020   \n",
      "470924   ...         3.663014         0.111111               2020   \n",
      "491755   ...         3.326027              NaN               2021   \n",
      "128037   ...         4.906849         0.000000               2019   \n",
      "\n",
      "         Policy Start Month Policy Start Day Policy Start Hour  \\\n",
      "751618                   11                6                15   \n",
      "216955                   10               23                15   \n",
      "321255                    3               13                15   \n",
      "701136                    4               26                15   \n",
      "1088725                   7                1                15   \n",
      "...                     ...              ...               ...   \n",
      "836489                    9                1                15   \n",
      "491263                    6                3                15   \n",
      "470924                   12               18                15   \n",
      "491755                    4               20                15   \n",
      "128037                    9               21                15   \n",
      "\n",
      "        Policy Start Minute Policy Start Second  Annual Income log 10  \\\n",
      "751618                   21                  39              3.261025   \n",
      "216955                   21                  39                   NaN   \n",
      "321255                   21                  39              3.109579   \n",
      "701136                   21                  39              5.026509   \n",
      "1088725                  21                  39              4.097118   \n",
      "...                     ...                 ...                   ...   \n",
      "836489                   21                  39              4.592399   \n",
      "491263                   21                  39              3.907304   \n",
      "470924                   21                  39              3.445449   \n",
      "491755                   21                  39              4.233529   \n",
      "128037                   21                  39              3.462398   \n",
      "\n",
      "         Previous Claims log  \n",
      "751618              0.000000  \n",
      "216955              0.000000  \n",
      "321255              0.000000  \n",
      "701136              0.693147  \n",
      "1088725             0.693147  \n",
      "...                      ...  \n",
      "836489              0.000000  \n",
      "491263              0.000000  \n",
      "470924              0.693147  \n",
      "491755                   NaN  \n",
      "128037              0.000000  \n",
      "\n",
      "[960000 rows x 28 columns]\n",
      "[LightGBM] [Warning] Unknown parameter: enable_categorical\n",
      "[LightGBM] [Warning] Found whitespace in feature_names, replace with underlines\n",
      "[LightGBM] [Warning] Unknown parameter: enable_categorical\n",
      "[LightGBM] [Info] This is the GPU trainer!!\n",
      "[LightGBM] [Info] Total Bins 1509\n",
      "[LightGBM] [Info] Number of data points in the train set: 960000, number of used features: 25\n",
      "[LightGBM] [Info] Using GPU Device: NVIDIA GeForce RTX 3090, Vendor: NVIDIA Corporation\n",
      "[LightGBM] [Info] Compiling OpenCL Kernel with 256 bins...\n",
      "[LightGBM] [Info] GPU programs have been built\n",
      "[LightGBM] [Info] Size of histogram bin entry: 8\n",
      "[LightGBM] [Info] 25 dense feature groups (25.63 MB) transferred to GPU in 0.017575 secs. 0 sparse feature groups\n",
      "[LightGBM] [Info] Start training from score 6.593970\n",
      "[LightGBM] [Warning] Unknown parameter: enable_categorical\n",
      "[LightGBM] [Warning] Unknown parameter: enable_categorical\n",
      "Train: 1.046259605475052, Test: 1.0451670291526316\n",
      "Starting\n",
      "          Age  Gender  Annual Income Marital Status  Number of Dependents  \\\n",
      "1085468  30.0  Female        19941.0       Divorced                   2.0   \n",
      "297259   46.0  Female         5537.0       Divorced                   3.0   \n",
      "896642   29.0  Female        14267.0       Divorced                   2.0   \n",
      "790500   43.0  Female         2390.0        Married                   3.0   \n",
      "25559    25.0  Female         2491.0       Divorced                   3.0   \n",
      "...       ...     ...            ...            ...                   ...   \n",
      "327155   61.0    Male        43928.0       Divorced                   1.0   \n",
      "668714   32.0  Female        17086.0         Single                   1.0   \n",
      "801836   52.0  Female         5070.0         Single                   NaN   \n",
      "689772   26.0    Male        20489.0         Single                   0.0   \n",
      "1123044  59.0  Female         1658.0        Married                   3.0   \n",
      "\n",
      "        Education Level     Occupation  Health Score  Location    Policy Type  \\\n",
      "1085468     High School     Unemployed     17.622732  Suburban          Basic   \n",
      "297259      High School            NaN     37.242447     Rural  Comprehensive   \n",
      "896642       Bachelor's            NaN     13.154578     Rural          Basic   \n",
      "790500      High School     Unemployed     33.642122  Suburban  Comprehensive   \n",
      "25559       High School  Self-Employed     33.898059  Suburban          Basic   \n",
      "...                 ...            ...           ...       ...            ...   \n",
      "327155       Bachelor's     Unemployed     19.496636     Rural        Premium   \n",
      "668714              PhD  Self-Employed     28.917933     Rural  Comprehensive   \n",
      "801836         Master's     Unemployed     18.020717     Urban        Premium   \n",
      "689772         Master's  Self-Employed           NaN     Urban  Comprehensive   \n",
      "1123044             PhD  Self-Employed     33.988562     Urban        Premium   \n",
      "\n",
      "         ...  Customer Tenure  Claim Frequency  Policy Start Year  \\\n",
      "1085468  ...         1.975342         0.250000               2022   \n",
      "297259   ...         3.391781         0.000000               2021   \n",
      "896642   ...         2.632877         0.200000               2021   \n",
      "790500   ...         1.942466              NaN               2022   \n",
      "25559    ...         4.123288         0.000000               2020   \n",
      "...      ...              ...              ...                ...   \n",
      "327155   ...         2.016438              NaN               2022   \n",
      "668714   ...         3.671233         0.333333               2020   \n",
      "801836   ...         2.531507         0.000000               2022   \n",
      "689772   ...         0.260274         1.000000               2024   \n",
      "1123044  ...         4.794521         0.125000               2019   \n",
      "\n",
      "         Policy Start Month Policy Start Day Policy Start Hour  \\\n",
      "1085468                   8               26                15   \n",
      "297259                    3               27                15   \n",
      "896642                   12               29                15   \n",
      "790500                    9                7                15   \n",
      "25559                     7                3                15   \n",
      "...                     ...              ...               ...   \n",
      "327155                    8               11                15   \n",
      "668714                   12               15                15   \n",
      "801836                    2                4                15   \n",
      "689772                    5               13                15   \n",
      "1123044                  11                1                15   \n",
      "\n",
      "        Policy Start Minute Policy Start Second  Annual Income log 10  \\\n",
      "1085468                  21                  39              4.299747   \n",
      "297259                   21                  39              3.743275   \n",
      "896642                   21                  39              4.154333   \n",
      "790500                   21                  39              3.378398   \n",
      "25559                    21                  39              3.396374   \n",
      "...                     ...                 ...                   ...   \n",
      "327155                   21                  39              4.642741   \n",
      "668714                   21                  39              4.232640   \n",
      "801836                   21                  39              3.705008   \n",
      "689772                   21                  39              4.311521   \n",
      "1123044                  21                  39              3.219585   \n",
      "\n",
      "         Previous Claims log  \n",
      "1085468             0.693147  \n",
      "297259              0.000000  \n",
      "896642              0.693147  \n",
      "790500                   NaN  \n",
      "25559               0.000000  \n",
      "...                      ...  \n",
      "327155                   NaN  \n",
      "668714              0.693147  \n",
      "801836              0.000000  \n",
      "689772              0.693147  \n",
      "1123044             0.693147  \n",
      "\n",
      "[960000 rows x 28 columns]\n",
      "[LightGBM] [Warning] Unknown parameter: enable_categorical\n",
      "[LightGBM] [Warning] Found whitespace in feature_names, replace with underlines\n",
      "[LightGBM] [Warning] Unknown parameter: enable_categorical\n",
      "[LightGBM] [Info] This is the GPU trainer!!\n",
      "[LightGBM] [Info] Total Bins 1509\n",
      "[LightGBM] [Info] Number of data points in the train set: 960000, number of used features: 25\n",
      "[LightGBM] [Info] Using GPU Device: NVIDIA GeForce RTX 3090, Vendor: NVIDIA Corporation\n",
      "[LightGBM] [Info] Compiling OpenCL Kernel with 256 bins...\n",
      "[LightGBM] [Info] GPU programs have been built\n",
      "[LightGBM] [Info] Size of histogram bin entry: 8\n",
      "[LightGBM] [Info] 25 dense feature groups (25.63 MB) transferred to GPU in 0.016619 secs. 0 sparse feature groups\n",
      "[LightGBM] [Info] Start training from score 6.593738\n",
      "[LightGBM] [Warning] Unknown parameter: enable_categorical\n",
      "[LightGBM] [Warning] Unknown parameter: enable_categorical\n",
      "Train: 1.0455732065585395, Test: 1.0466782615532808\n",
      "Starting\n",
      "         Age  Gender  Annual Income Marital Status  Number of Dependents  \\\n",
      "359933  48.0  Female        50610.0         Single                   4.0   \n",
      "190499  49.0    Male       102856.0        Married                   4.0   \n",
      "609762  57.0    Male        10131.0         Single                   2.0   \n",
      "974625  33.0    Male       140563.0         Single                   3.0   \n",
      "114805  48.0    Male         4263.0       Divorced                   2.0   \n",
      "...      ...     ...            ...            ...                   ...   \n",
      "874788  51.0  Female        96952.0       Divorced                   4.0   \n",
      "152046  47.0  Female        16054.0        Married                   4.0   \n",
      "805059  35.0    Male        39451.0         Single                   0.0   \n",
      "498695  64.0  Female        45675.0        Married                   4.0   \n",
      "169404  50.0  Female        12440.0       Divorced                   4.0   \n",
      "\n",
      "       Education Level     Occupation  Health Score  Location    Policy Type  \\\n",
      "359933      Bachelor's       Employed     40.928357     Urban  Comprehensive   \n",
      "190499        Master's            NaN     49.099058     Urban          Basic   \n",
      "609762     High School       Employed     33.697726     Urban        Premium   \n",
      "974625        Master's     Unemployed     33.974136     Urban  Comprehensive   \n",
      "114805        Master's            NaN     31.964197     Urban        Premium   \n",
      "...                ...            ...           ...       ...            ...   \n",
      "874788             PhD            NaN      4.324531  Suburban  Comprehensive   \n",
      "152046        Master's            NaN     24.859894  Suburban          Basic   \n",
      "805059     High School  Self-Employed     11.188631  Suburban          Basic   \n",
      "498695             PhD            NaN     23.854810     Rural        Premium   \n",
      "169404             PhD            NaN     19.154007  Suburban          Basic   \n",
      "\n",
      "        ...  Customer Tenure  Claim Frequency  Policy Start Year  \\\n",
      "359933  ...         2.142466         0.222222               2022   \n",
      "190499  ...         2.931507         2.000000               2021   \n",
      "609762  ...         3.863014         0.000000               2020   \n",
      "974625  ...         3.632877              NaN               2020   \n",
      "114805  ...         1.972603         0.000000               2022   \n",
      "...     ...              ...              ...                ...   \n",
      "874788  ...         4.835616         0.444444               2019   \n",
      "152046  ...         3.545205         0.000000               2021   \n",
      "805059  ...         4.060274         0.111111               2020   \n",
      "498695  ...         4.054795         0.333333               2020   \n",
      "169404  ...         1.153425         0.285714               2023   \n",
      "\n",
      "        Policy Start Month Policy Start Day Policy Start Hour  \\\n",
      "359933                   6               26                15   \n",
      "190499                   9               11                15   \n",
      "609762                  10                6                15   \n",
      "974625                  12               29                15   \n",
      "114805                   8               27                15   \n",
      "...                    ...              ...               ...   \n",
      "874788                  10               17                15   \n",
      "152046                   1               30                15   \n",
      "805059                   7               26                15   \n",
      "498695                   7               28                15   \n",
      "169404                   6               22                15   \n",
      "\n",
      "       Policy Start Minute Policy Start Second  Annual Income log 10  \\\n",
      "359933                  21                  39              4.704236   \n",
      "190499                  21                  39              5.012230   \n",
      "609762                  21                  39              4.005652   \n",
      "974625                  21                  39              5.147871   \n",
      "114805                  21                  39              3.629715   \n",
      "...                    ...                 ...                   ...   \n",
      "874788                  21                  39              4.986557   \n",
      "152046                  21                  39              4.205583   \n",
      "805059                  21                  39              4.596058   \n",
      "498695                  21                  39              4.659679   \n",
      "169404                  21                  39              4.094820   \n",
      "\n",
      "        Previous Claims log  \n",
      "359933             1.098612  \n",
      "190499             1.098612  \n",
      "609762             0.000000  \n",
      "974625                  NaN  \n",
      "114805             0.000000  \n",
      "...                     ...  \n",
      "874788             1.609438  \n",
      "152046             0.000000  \n",
      "805059             0.693147  \n",
      "498695             1.098612  \n",
      "169404             1.098612  \n",
      "\n",
      "[960000 rows x 28 columns]\n",
      "[LightGBM] [Warning] Unknown parameter: enable_categorical\n",
      "[LightGBM] [Warning] Found whitespace in feature_names, replace with underlines\n",
      "[LightGBM] [Warning] Unknown parameter: enable_categorical\n",
      "[LightGBM] [Info] This is the GPU trainer!!\n",
      "[LightGBM] [Info] Total Bins 1506\n",
      "[LightGBM] [Info] Number of data points in the train set: 960000, number of used features: 25\n",
      "[LightGBM] [Info] Using GPU Device: NVIDIA GeForce RTX 3090, Vendor: NVIDIA Corporation\n",
      "[LightGBM] [Info] Compiling OpenCL Kernel with 256 bins...\n",
      "[LightGBM] [Info] GPU programs have been built\n",
      "[LightGBM] [Info] Size of histogram bin entry: 8\n",
      "[LightGBM] [Info] 25 dense feature groups (25.63 MB) transferred to GPU in 0.016707 secs. 0 sparse feature groups\n",
      "[LightGBM] [Info] Start training from score 6.594116\n",
      "[LightGBM] [Warning] Unknown parameter: enable_categorical\n",
      "[LightGBM] [Warning] Unknown parameter: enable_categorical\n",
      "Train: 1.045958996575536, Test: 1.0457760901059139\n",
      "Starting\n",
      "          Age  Gender  Annual Income Marital Status  Number of Dependents  \\\n",
      "66961    35.0  Female         1482.0            NaN                   1.0   \n",
      "826463   38.0  Female            NaN       Divorced                   1.0   \n",
      "86341    23.0  Female         3547.0       Divorced                   4.0   \n",
      "143873   38.0  Female         8073.0        Married                   0.0   \n",
      "513638   56.0    Male        15774.0       Divorced                   2.0   \n",
      "...       ...     ...            ...            ...                   ...   \n",
      "1041434  47.0    Male        37156.0       Divorced                   0.0   \n",
      "1131668  52.0    Male         3620.0       Divorced                   2.0   \n",
      "55354    31.0    Male        97447.0         Single                   1.0   \n",
      "613375   51.0  Female        20125.0        Married                   0.0   \n",
      "897856   54.0  Female       121556.0         Single                   3.0   \n",
      "\n",
      "        Education Level     Occupation  Health Score  Location    Policy Type  \\\n",
      "66961       High School       Employed     24.662441     Rural          Basic   \n",
      "826463              PhD            NaN     50.859458  Suburban  Comprehensive   \n",
      "86341               PhD            NaN     20.847644  Suburban  Comprehensive   \n",
      "143873         Master's     Unemployed     28.384782  Suburban          Basic   \n",
      "513638       Bachelor's     Unemployed     28.973188     Urban  Comprehensive   \n",
      "...                 ...            ...           ...       ...            ...   \n",
      "1041434        Master's  Self-Employed     12.181688     Rural          Basic   \n",
      "1131668             PhD  Self-Employed     40.081359     Rural        Premium   \n",
      "55354          Master's            NaN     14.844667  Suburban          Basic   \n",
      "613375       Bachelor's  Self-Employed     16.141125     Rural          Basic   \n",
      "897856         Master's            NaN     22.144794     Rural        Premium   \n",
      "\n",
      "         ...  Customer Tenure  Claim Frequency  Policy Start Year  \\\n",
      "66961    ...         0.268493         0.142857               2024   \n",
      "826463   ...         4.115068         0.200000               2020   \n",
      "86341    ...         0.852055         0.222222               2023   \n",
      "143873   ...         3.824658              NaN               2020   \n",
      "513638   ...         4.438356              NaN               2020   \n",
      "...      ...              ...              ...                ...   \n",
      "1041434  ...         1.350685         0.000000               2023   \n",
      "1131668  ...         2.747945         0.600000               2021   \n",
      "55354    ...         3.769863         1.000000               2020   \n",
      "613375   ...         0.646575         0.000000               2023   \n",
      "897856   ...         3.317808         0.111111               2021   \n",
      "\n",
      "         Policy Start Month Policy Start Day Policy Start Hour  \\\n",
      "66961                     5               10                15   \n",
      "826463                    7                6                15   \n",
      "86341                    10               10                15   \n",
      "143873                   10               20                15   \n",
      "513638                    3               10                15   \n",
      "...                     ...              ...               ...   \n",
      "1041434                   4               11                15   \n",
      "1131668                  11               17                15   \n",
      "55354                    11                9                15   \n",
      "613375                   12               24                15   \n",
      "897856                    4               23                15   \n",
      "\n",
      "        Policy Start Minute Policy Start Second  Annual Income log 10  \\\n",
      "66961                    21                  39              3.170848   \n",
      "826463                   21                  39                   NaN   \n",
      "86341                    21                  39              3.549861   \n",
      "143873                   21                  39              3.907035   \n",
      "513638                   21                  39              4.197942   \n",
      "...                     ...                 ...                   ...   \n",
      "1041434                  21                  39              4.570029   \n",
      "1131668                  21                  39              3.558709   \n",
      "55354                    21                  39              4.988768   \n",
      "613375                   21                  39              4.303736   \n",
      "897856                   21                  39              5.084776   \n",
      "\n",
      "         Previous Claims log  \n",
      "66961               0.693147  \n",
      "826463              0.693147  \n",
      "86341               1.098612  \n",
      "143873                   NaN  \n",
      "513638                   NaN  \n",
      "...                      ...  \n",
      "1041434             0.000000  \n",
      "1131668             1.386294  \n",
      "55354               1.098612  \n",
      "613375              0.000000  \n",
      "897856              0.693147  \n",
      "\n",
      "[960000 rows x 28 columns]\n",
      "[LightGBM] [Warning] Unknown parameter: enable_categorical\n",
      "[LightGBM] [Warning] Found whitespace in feature_names, replace with underlines\n",
      "[LightGBM] [Warning] Unknown parameter: enable_categorical\n",
      "[LightGBM] [Info] This is the GPU trainer!!\n",
      "[LightGBM] [Info] Total Bins 1510\n",
      "[LightGBM] [Info] Number of data points in the train set: 960000, number of used features: 25\n",
      "[LightGBM] [Info] Using GPU Device: NVIDIA GeForce RTX 3090, Vendor: NVIDIA Corporation\n",
      "[LightGBM] [Info] Compiling OpenCL Kernel with 256 bins...\n",
      "[LightGBM] [Info] GPU programs have been built\n",
      "[LightGBM] [Info] Size of histogram bin entry: 8\n",
      "[LightGBM] [Info] 25 dense feature groups (25.63 MB) transferred to GPU in 0.016934 secs. 0 sparse feature groups\n",
      "[LightGBM] [Info] Start training from score 6.594222\n",
      "[LightGBM] [Warning] Unknown parameter: enable_categorical\n",
      "[LightGBM] [Warning] Unknown parameter: enable_categorical\n",
      "Train: 1.0454659433713813, Test: 1.0466674200249853\n",
      "Starting\n",
      "          Age  Gender  Annual Income Marital Status  Number of Dependents  \\\n",
      "383967   64.0  Female        26324.0         Single                   3.0   \n",
      "180404   36.0  Female            NaN         Single                   0.0   \n",
      "1001498  50.0    Male         9076.0         Single                   2.0   \n",
      "1168073  27.0    Male        90198.0       Divorced                   3.0   \n",
      "276695   35.0    Male           67.0       Divorced                   4.0   \n",
      "...       ...     ...            ...            ...                   ...   \n",
      "409912   50.0  Female        25982.0       Divorced                   0.0   \n",
      "642667   27.0  Female        20982.0       Divorced                   3.0   \n",
      "369972   27.0    Male         1165.0         Single                   1.0   \n",
      "445740   45.0    Male        34389.0       Divorced                   2.0   \n",
      "1026789  35.0  Female        28680.0        Married                   3.0   \n",
      "\n",
      "        Education Level     Occupation  Health Score  Location    Policy Type  \\\n",
      "383967              PhD     Unemployed     17.417601     Rural          Basic   \n",
      "180404       Bachelor's       Employed     11.624609  Suburban  Comprehensive   \n",
      "1001498             PhD     Unemployed     32.859344     Urban  Comprehensive   \n",
      "1168073     High School       Employed     10.096017     Urban  Comprehensive   \n",
      "276695       Bachelor's       Employed     41.807861     Rural          Basic   \n",
      "...                 ...            ...           ...       ...            ...   \n",
      "409912       Bachelor's  Self-Employed      9.231856     Urban          Basic   \n",
      "642667              PhD  Self-Employed     11.674065     Rural          Basic   \n",
      "369972              PhD  Self-Employed     22.715285     Urban          Basic   \n",
      "445740      High School            NaN     17.241201     Rural        Premium   \n",
      "1026789        Master's     Unemployed     18.445035  Suburban        Premium   \n",
      "\n",
      "         ...  Customer Tenure  Claim Frequency  Policy Start Year  \\\n",
      "383967   ...         0.147945              NaN               2024   \n",
      "180404   ...         2.271233         0.333333               2022   \n",
      "1001498  ...         2.208219         0.000000               2022   \n",
      "1168073  ...         4.684932         0.500000               2019   \n",
      "276695   ...         2.158904              NaN               2022   \n",
      "...      ...              ...              ...                ...   \n",
      "409912   ...         1.605479              NaN               2023   \n",
      "642667   ...         1.309589              NaN               2023   \n",
      "369972   ...         0.438356         0.000000               2024   \n",
      "445740   ...         2.408219         0.111111               2022   \n",
      "1026789  ...         1.802740         0.000000               2022   \n",
      "\n",
      "         Policy Start Month Policy Start Day Policy Start Hour  \\\n",
      "383967                    6               23                15   \n",
      "180404                    5               10                15   \n",
      "1001498                   6                2                15   \n",
      "1168073                  12               11                15   \n",
      "276695                    6               20                15   \n",
      "...                     ...              ...               ...   \n",
      "409912                    1                8                15   \n",
      "642667                    4               26                15   \n",
      "369972                    3                9                15   \n",
      "445740                    3               21                15   \n",
      "1026789                  10               28                15   \n",
      "\n",
      "        Policy Start Minute Policy Start Second  Annual Income log 10  \\\n",
      "383967                   21                  39              4.420352   \n",
      "180404                   21                  39                   NaN   \n",
      "1001498                  21                  39              3.957894   \n",
      "1168073                  21                  39              4.955197   \n",
      "276695                   21                  39              1.826075   \n",
      "...                     ...                 ...                   ...   \n",
      "409912                   21                  39              4.414673   \n",
      "642667                   21                  39              4.321847   \n",
      "369972                   21                  39              3.066326   \n",
      "445740                   21                  39              4.536420   \n",
      "1026789                  21                  39              4.457579   \n",
      "\n",
      "         Previous Claims log  \n",
      "383967                   NaN  \n",
      "180404              1.098612  \n",
      "1001498             0.000000  \n",
      "1168073             1.386294  \n",
      "276695                   NaN  \n",
      "...                      ...  \n",
      "409912                   NaN  \n",
      "642667                   NaN  \n",
      "369972              0.000000  \n",
      "445740              0.693147  \n",
      "1026789             0.000000  \n",
      "\n",
      "[960000 rows x 28 columns]\n",
      "[LightGBM] [Warning] Unknown parameter: enable_categorical\n",
      "[LightGBM] [Warning] Found whitespace in feature_names, replace with underlines\n",
      "[LightGBM] [Warning] Unknown parameter: enable_categorical\n",
      "[LightGBM] [Info] This is the GPU trainer!!\n",
      "[LightGBM] [Info] Total Bins 1507\n",
      "[LightGBM] [Info] Number of data points in the train set: 960000, number of used features: 25\n",
      "[LightGBM] [Info] Using GPU Device: NVIDIA GeForce RTX 3090, Vendor: NVIDIA Corporation\n",
      "[LightGBM] [Info] Compiling OpenCL Kernel with 256 bins...\n",
      "[LightGBM] [Info] GPU programs have been built\n",
      "[LightGBM] [Info] Size of histogram bin entry: 8\n",
      "[LightGBM] [Info] 25 dense feature groups (25.63 MB) transferred to GPU in 0.019146 secs. 0 sparse feature groups\n",
      "[LightGBM] [Info] Start training from score 6.593375\n",
      "[LightGBM] [Warning] Unknown parameter: enable_categorical\n",
      "[LightGBM] [Warning] Unknown parameter: enable_categorical\n",
      "Train: 1.0461908598386713, Test: 1.0441058706628104\n"
     ]
    }
   ],
   "source": [
    "results = []\n",
    "for train_idx, val_idx in splitter.split(X_train):\n",
    "    print(\"Starting\")\n",
    "    # Prepare data for LightGBM\n",
    "    X_train_fold, X_val_fold = X_train.iloc[train_idx], X_train.iloc[val_idx]\n",
    "    y_train_fold, y_val_fold = y_train.iloc[train_idx], y_train.iloc[val_idx]\n",
    "    \n",
    "    y_train_fold = np.log1p(y_train_fold)\n",
    "    y_val_fold = np.log1p(y_val_fold)\n",
    "    \n",
    "    null_columns_to_drop = [col for col in X_train_fold.columns.lower() if \"null\" in col.lower()]\n",
    "    X_train_fold = X_train_fold.drop(columns=null_columns_to_drop)\n",
    "    X_val_fold = X_val_fold.drop(columns=null_columns_to_drop)\n",
    "    print(X_train_fold)\n",
    "    \n",
    "    full_pipeline = Pipeline([\n",
    "        (\"model\",LGBMRegressor(enable_categorical=True, learning_rate=0.05, colsample_bytree=0.9, n_estimators=100, device='gpu'))\n",
    "    ])\n",
    "    full_pipeline.fit(X_train_fold, y_train_fold)\n",
    "    \n",
    "    train_score = root_mean_squared_log_error(np.expm1(full_pipeline.predict(X_train_fold)), np.expm1(y_train_fold))\n",
    "    val_score = root_mean_squared_log_error(np.expm1(full_pipeline.predict(X_val_fold)), np.expm1(y_val_fold))\n",
    "\n",
    "    print(f\"Train: {train_score}, Test: {val_score}\")"
   ]
  },
  {
   "cell_type": "code",
   "execution_count": 28,
   "metadata": {},
   "outputs": [],
   "source": []
  },
  {
   "cell_type": "code",
   "execution_count": null,
   "metadata": {},
   "outputs": [],
   "source": []
  },
  {
   "cell_type": "code",
   "execution_count": 58,
   "metadata": {},
   "outputs": [
    {
     "name": "stdout",
     "output_type": "stream",
     "text": [
      "Starting\n",
      "Train: 1.032141185176344, Test: 1.0441128962727946\n",
      "Starting\n",
      "Train: 1.0314373547547373, Test: 1.0458194982478308\n",
      "Starting\n",
      "Train: 1.031817791766439, Test: 1.044954298168544\n",
      "Starting\n",
      "Train: 1.0314014343268854, Test: 1.045542363974723\n",
      "Starting\n",
      "Train: 1.0322409278543372, Test: 1.0436113260947164\n"
     ]
    }
   ],
   "source": [
    "\n",
    "results = []\n",
    "for train_idx, val_idx in splitter.split(X_train):\n",
    "    print(\"Starting\")\n",
    "    # Prepare data for LightGBM\n",
    "    X_train_fold, X_val_fold = X_train.iloc[train_idx], X_train.iloc[val_idx]\n",
    "    y_train_fold, y_val_fold = y_train.iloc[train_idx], y_train.iloc[val_idx]\n",
    "    \n",
    "    y_train_fold = np.log1p(y_train_fold)\n",
    "    y_val_fold = np.log1p(y_val_fold)\n",
    "    \n",
    "    \n",
    "    full_pipeline = Pipeline([\n",
    "        (\"model\",LGBMRegressor(enable_categorical=True, learning_rate=0.1, colsample_bytree=0.9, n_estimators=500, device='gpu'))\n",
    "    ])\n",
    "    full_pipeline.fit(X_train_fold, y_train_fold)\n",
    "    \n",
    "    train_score = root_mean_squared_log_error(np.expm1(full_pipeline.predict(X_train_fold)), np.expm1(y_train_fold))\n",
    "    val_score = root_mean_squared_log_error(np.expm1(full_pipeline.predict(X_val_fold)), np.expm1(y_val_fold))\n",
    "\n",
    "    print(f\"Train: {train_score}, Test: {val_score}\")"
   ]
  },
  {
   "cell_type": "code",
   "execution_count": 63,
   "metadata": {},
   "outputs": [
    {
     "name": "stdout",
     "output_type": "stream",
     "text": [
      "Starting\n",
      "Fitting and caching preprocessor\n",
      "Train: 1.048910258716075, Test: 1.0573189055185195\n",
      "Starting\n",
      "Fitting and caching preprocessor\n",
      "Train: 1.0475316974671656, Test: 1.057645122828006\n",
      "Starting\n",
      "Fitting and caching preprocessor\n",
      "Train: 1.0473273642609564, Test: 1.0565820117322846\n",
      "Starting\n",
      "Fitting and caching preprocessor\n",
      "Train: 1.0471584533902853, Test: 1.0580273418910218\n",
      "Starting\n",
      "Fitting and caching preprocessor\n",
      "Train: 1.0480312367681839, Test: 1.0557269000107363\n"
     ]
    }
   ],
   "source": [
    "\n",
    "results = []\n",
    "for train_idx, val_idx in splitter.split(X_train):\n",
    "    print(\"Starting\")\n",
    "    # Prepare data for LightGBM\n",
    "    X_train_fold, X_val_fold = X_train.iloc[train_idx], X_train.iloc[val_idx]\n",
    "    y_train_fold, y_val_fold = y_train.iloc[train_idx], y_train.iloc[val_idx]\n",
    "    \n",
    "    y_train_fold = np.log1p(y_train_fold)\n",
    "    y_val_fold = np.log1p(y_val_fold)\n",
    "    \n",
    "    preprocessing_pipeline = build_preprocessing_pipeline(train_data=X_train_fold, imputation_method=\"simple\", binning_method=\"opti-means\")\n",
    "    \n",
    "    full_pipeline = Pipeline([\n",
    "        (\"preprocessing\", preprocessing_pipeline),\n",
    "        (\"model\",LGBMRegressor(enable_categorical=True, learning_rate=0.1, colsample_bytree=0.9, n_estimators=500, device='gpu'))\n",
    "    ])\n",
    "    full_pipeline.fit(X_train_fold, y_train_fold)\n",
    "    \n",
    "    train_score = root_mean_squared_log_error(np.expm1(full_pipeline.predict(X_train_fold)), np.expm1(y_train_fold))\n",
    "    val_score = root_mean_squared_log_error(np.expm1(full_pipeline.predict(X_val_fold)), np.expm1(y_val_fold))\n",
    "\n",
    "    print(f\"Train: {train_score}, Test: {val_score}\")"
   ]
  },
  {
   "cell_type": "code",
   "execution_count": 46,
   "metadata": {},
   "outputs": [
    {
     "name": "stdout",
     "output_type": "stream",
     "text": [
      "Starting\n",
      "Fitting and caching preprocessor\n",
      "Train: 1.0369478956815978, Test: 1.044812723038474\n",
      "Starting\n",
      "Fitting and caching preprocessor\n",
      "Train: 1.0365319628705394, Test: 1.0464351434373507\n",
      "Starting\n",
      "Fitting and caching preprocessor\n",
      "Train: 1.0362361877761606, Test: 1.045214605738254\n",
      "Starting\n",
      "Fitting and caching preprocessor\n",
      "Train: 1.0363363713459766, Test: 1.0465101000292005\n",
      "Starting\n",
      "Fitting and caching preprocessor\n",
      "Train: 1.0370389341913067, Test: 1.0443446890099688\n"
     ]
    }
   ],
   "source": [
    "\n",
    "results = []\n",
    "for train_idx, val_idx in splitter.split(X_train):\n",
    "    print(\"Starting\")\n",
    "    # Prepare data for LightGBM\n",
    "    X_train_fold, X_val_fold = X_train.iloc[train_idx].reset_index(drop=True), X_train.iloc[val_idx].reset_index(drop=True)\n",
    "    y_train_fold, y_val_fold = y_train.iloc[train_idx].reset_index(drop=True), y_train.iloc[val_idx].reset_index(drop=True)\n",
    "    \n",
    "    y_train_fold = np.log1p(y_train_fold)\n",
    "    y_val_fold = np.log1p(y_val_fold)\n",
    "    \n",
    "    preprocessing_pipeline = build_preprocessing_pipeline(train_data=X_train_fold, imputation_method=\"mice\", binning_method=None)\n",
    "    \n",
    "    full_pipeline = Pipeline([\n",
    "        (\"preprocessing\", preprocessing_pipeline),\n",
    "        (\"model\",LGBMRegressor(enable_categorical=True, learning_rate=0.1, colsample_bytree=0.9, n_estimators=500))\n",
    "    ])\n",
    "    full_pipeline.fit(X_train_fold, y_train_fold, preprocessing__mice__iterations=3)\n",
    "    \n",
    "    train_score = root_mean_squared_log_error(np.expm1(full_pipeline.predict(X_train_fold)), np.expm1(y_train_fold))\n",
    "    val_score = root_mean_squared_log_error(np.expm1(full_pipeline.predict(X_val_fold)), np.expm1(y_val_fold))\n",
    "\n",
    "    print(f\"Train: {train_score}, Test: {val_score}\")"
   ]
  },
  {
   "cell_type": "code",
   "execution_count": null,
   "metadata": {},
   "outputs": [],
   "source": [
    "\n",
    "results = []\n",
    "for train_idx, val_idx in splitter.split(X_train):\n",
    "    print(\"Starting\")\n",
    "    # Prepare data for LightGBM\n",
    "    X_train_fold, X_val_fold = X_train.iloc[train_idx], X_train.iloc[val_idx]\n",
    "    y_train_fold, y_val_fold = y_train.iloc[train_idx], y_train.iloc[val_idx]\n",
    "    \n",
    "    # Train model\n",
    "    preprocessing_pipeline = build_preprocessing_pipeline(train_data=X_train_fold, imputation_method=\"simple\", binning_method=None)\n",
    "\n",
    "    full_pipeline = Pipeline([\n",
    "        #(\"preprocessing\", preprocessing_pipeline),\n",
    "        (\"model\",xgb.XGBRegressor(enable_categorical=True, eta=0.5, colsample_bytree=0.75, n_estimators=500))\n",
    "    ])\n",
    "    full_pipeline.fit(X_train_fold, y_train_fold)\n",
    "    \n",
    "    train_score = root_mean_squared_log_error(full_pipeline.predict(X_train_fold), y_train_fold)\n",
    "    val_score = root_mean_squared_log_error(full_pipeline.predict(X_val_fold), y_val_fold)\n",
    "\n",
    "    print(f\"Train: {train_score}, Test: {val_score}\")"
   ]
  },
  {
   "cell_type": "code",
   "execution_count": null,
   "metadata": {},
   "outputs": [],
   "source": []
  },
  {
   "cell_type": "code",
   "execution_count": 13,
   "metadata": {},
   "outputs": [
    {
     "name": "stdout",
     "output_type": "stream",
     "text": [
      "Starting\n",
      "Train: ('rmsle', 1.0521373152402227, False), Test: ('rmsle', 1.0502580803569446, False)\n",
      "Starting\n",
      "Train: ('rmsle', 1.052397095980636, False), Test: ('rmsle', 1.052684515975214, False)\n",
      "Starting\n",
      "Train: ('rmsle', 1.0521611794085386, False), Test: ('rmsle', 1.0507623230705292, False)\n",
      "Starting\n",
      "Train: ('rmsle', 1.0521184392850993, False), Test: ('rmsle', 1.0525351946486103, False)\n",
      "Starting\n",
      "Train: ('rmsle', 1.0528637102042155, False), Test: ('rmsle', 1.0497331934492016, False)\n"
     ]
    }
   ],
   "source": [
    "\n",
    "results = []\n",
    "for train_idx, val_idx in splitter.split(X_train):\n",
    "    print(\"Starting\")\n",
    "    # Prepare data for LightGBM\n",
    "    X_train_fold, X_val_fold = X_train.iloc[train_idx], X_train.iloc[val_idx]\n",
    "    y_train_fold, y_val_fold = y_train.iloc[train_idx], y_train.iloc[val_idx]\n",
    "    \n",
    "    # Train model\n",
    "    preprocessing_pipeline = build_preprocessing_pipeline(train_data=X_train_fold, imputation_method=\"simple\", binning_method=None)\n",
    "\n",
    "    full_pipeline = Pipeline([\n",
    "        #(\"preprocessing\", preprocessing_pipeline),\n",
    "        (\"model\",xgb.XGBRFRegressor(enable_categorical=True, eta=0.1, colsample_bytree=0.75, n_estimators=500))\n",
    "    ])\n",
    "    full_pipeline.fit(X_train_fold, y_train_fold)\n",
    "    \n",
    "    train_score = rmsle_metric(full_pipeline.predict(X_train_fold), y_train_fold)\n",
    "    val_score = rmsle_metric(full_pipeline.predict(X_val_fold), y_val_fold)\n",
    "\n",
    "    print(f\"Train: {train_score}, Test: {val_score}\")"
   ]
  },
  {
   "cell_type": "code",
   "execution_count": 14,
   "metadata": {},
   "outputs": [],
   "source": []
  },
  {
   "cell_type": "code",
   "execution_count": 15,
   "metadata": {},
   "outputs": [
    {
     "name": "stdout",
     "output_type": "stream",
     "text": [
      "Starting KNN\n",
      "Fitting and caching preprocessor\n"
     ]
    },
    {
     "ename": "KeyboardInterrupt",
     "evalue": "",
     "output_type": "error",
     "traceback": [
      "\u001b[1;31m---------------------------------------------------------------------------\u001b[0m",
      "\u001b[1;31mKeyboardInterrupt\u001b[0m                         Traceback (most recent call last)",
      "Cell \u001b[1;32mIn[15], line 18\u001b[0m\n\u001b[0;32m     12\u001b[0m preprocessing_pipeline \u001b[38;5;241m=\u001b[39m build_preprocessing_pipeline(train_data\u001b[38;5;241m=\u001b[39mX_train_fold, imputation_method\u001b[38;5;241m=\u001b[39m\u001b[38;5;124m\"\u001b[39m\u001b[38;5;124msimple\u001b[39m\u001b[38;5;124m\"\u001b[39m, binning_method\u001b[38;5;241m=\u001b[39m\u001b[38;5;124m\"\u001b[39m\u001b[38;5;124mopti-ohe\u001b[39m\u001b[38;5;124m\"\u001b[39m)\n\u001b[0;32m     14\u001b[0m full_pipeline \u001b[38;5;241m=\u001b[39m Pipeline([\n\u001b[0;32m     15\u001b[0m     (\u001b[38;5;124m\"\u001b[39m\u001b[38;5;124mpreprocessing\u001b[39m\u001b[38;5;124m\"\u001b[39m, preprocessing_pipeline),\n\u001b[0;32m     16\u001b[0m     (\u001b[38;5;124m\"\u001b[39m\u001b[38;5;124mmodel\u001b[39m\u001b[38;5;124m\"\u001b[39m, KNeighborsRegressor(n_neighbors\u001b[38;5;241m=\u001b[39m\u001b[38;5;241m5\u001b[39m))\n\u001b[0;32m     17\u001b[0m ])\n\u001b[1;32m---> 18\u001b[0m \u001b[43mfull_pipeline\u001b[49m\u001b[38;5;241;43m.\u001b[39;49m\u001b[43mfit\u001b[49m\u001b[43m(\u001b[49m\u001b[43mX_train_fold\u001b[49m\u001b[43m,\u001b[49m\u001b[43m \u001b[49m\u001b[43my_train_fold\u001b[49m\u001b[43m)\u001b[49m\n\u001b[0;32m     20\u001b[0m train_score \u001b[38;5;241m=\u001b[39m rmsle_metric(full_pipeline\u001b[38;5;241m.\u001b[39mpredict(X_train_fold), y_train_fold)\n\u001b[0;32m     21\u001b[0m val_score \u001b[38;5;241m=\u001b[39m rmsle_metric(full_pipeline\u001b[38;5;241m.\u001b[39mpredict(X_val_fold), y_val_fold)\n",
      "File \u001b[1;32md:\\Development\\insurance\\venv\\lib\\site-packages\\sklearn\\base.py:1473\u001b[0m, in \u001b[0;36m_fit_context.<locals>.decorator.<locals>.wrapper\u001b[1;34m(estimator, *args, **kwargs)\u001b[0m\n\u001b[0;32m   1466\u001b[0m     estimator\u001b[38;5;241m.\u001b[39m_validate_params()\n\u001b[0;32m   1468\u001b[0m \u001b[38;5;28;01mwith\u001b[39;00m config_context(\n\u001b[0;32m   1469\u001b[0m     skip_parameter_validation\u001b[38;5;241m=\u001b[39m(\n\u001b[0;32m   1470\u001b[0m         prefer_skip_nested_validation \u001b[38;5;129;01mor\u001b[39;00m global_skip_validation\n\u001b[0;32m   1471\u001b[0m     )\n\u001b[0;32m   1472\u001b[0m ):\n\u001b[1;32m-> 1473\u001b[0m     \u001b[38;5;28;01mreturn\u001b[39;00m fit_method(estimator, \u001b[38;5;241m*\u001b[39margs, \u001b[38;5;241m*\u001b[39m\u001b[38;5;241m*\u001b[39mkwargs)\n",
      "File \u001b[1;32md:\\Development\\insurance\\venv\\lib\\site-packages\\sklearn\\pipeline.py:469\u001b[0m, in \u001b[0;36mPipeline.fit\u001b[1;34m(self, X, y, **params)\u001b[0m\n\u001b[0;32m    426\u001b[0m \u001b[38;5;250m\u001b[39m\u001b[38;5;124;03m\"\"\"Fit the model.\u001b[39;00m\n\u001b[0;32m    427\u001b[0m \n\u001b[0;32m    428\u001b[0m \u001b[38;5;124;03mFit all the transformers one after the other and sequentially transform the\u001b[39;00m\n\u001b[1;32m   (...)\u001b[0m\n\u001b[0;32m    466\u001b[0m \u001b[38;5;124;03m    Pipeline with fitted steps.\u001b[39;00m\n\u001b[0;32m    467\u001b[0m \u001b[38;5;124;03m\"\"\"\u001b[39;00m\n\u001b[0;32m    468\u001b[0m routed_params \u001b[38;5;241m=\u001b[39m \u001b[38;5;28mself\u001b[39m\u001b[38;5;241m.\u001b[39m_check_method_params(method\u001b[38;5;241m=\u001b[39m\u001b[38;5;124m\"\u001b[39m\u001b[38;5;124mfit\u001b[39m\u001b[38;5;124m\"\u001b[39m, props\u001b[38;5;241m=\u001b[39mparams)\n\u001b[1;32m--> 469\u001b[0m Xt \u001b[38;5;241m=\u001b[39m \u001b[38;5;28;43mself\u001b[39;49m\u001b[38;5;241;43m.\u001b[39;49m\u001b[43m_fit\u001b[49m\u001b[43m(\u001b[49m\u001b[43mX\u001b[49m\u001b[43m,\u001b[49m\u001b[43m \u001b[49m\u001b[43my\u001b[49m\u001b[43m,\u001b[49m\u001b[43m \u001b[49m\u001b[43mrouted_params\u001b[49m\u001b[43m)\u001b[49m\n\u001b[0;32m    470\u001b[0m \u001b[38;5;28;01mwith\u001b[39;00m _print_elapsed_time(\u001b[38;5;124m\"\u001b[39m\u001b[38;5;124mPipeline\u001b[39m\u001b[38;5;124m\"\u001b[39m, \u001b[38;5;28mself\u001b[39m\u001b[38;5;241m.\u001b[39m_log_message(\u001b[38;5;28mlen\u001b[39m(\u001b[38;5;28mself\u001b[39m\u001b[38;5;241m.\u001b[39msteps) \u001b[38;5;241m-\u001b[39m \u001b[38;5;241m1\u001b[39m)):\n\u001b[0;32m    471\u001b[0m     \u001b[38;5;28;01mif\u001b[39;00m \u001b[38;5;28mself\u001b[39m\u001b[38;5;241m.\u001b[39m_final_estimator \u001b[38;5;241m!=\u001b[39m \u001b[38;5;124m\"\u001b[39m\u001b[38;5;124mpassthrough\u001b[39m\u001b[38;5;124m\"\u001b[39m:\n",
      "File \u001b[1;32md:\\Development\\insurance\\venv\\lib\\site-packages\\sklearn\\pipeline.py:406\u001b[0m, in \u001b[0;36mPipeline._fit\u001b[1;34m(self, X, y, routed_params)\u001b[0m\n\u001b[0;32m    404\u001b[0m     cloned_transformer \u001b[38;5;241m=\u001b[39m clone(transformer)\n\u001b[0;32m    405\u001b[0m \u001b[38;5;66;03m# Fit or load from cache the current transformer\u001b[39;00m\n\u001b[1;32m--> 406\u001b[0m X, fitted_transformer \u001b[38;5;241m=\u001b[39m \u001b[43mfit_transform_one_cached\u001b[49m\u001b[43m(\u001b[49m\n\u001b[0;32m    407\u001b[0m \u001b[43m    \u001b[49m\u001b[43mcloned_transformer\u001b[49m\u001b[43m,\u001b[49m\n\u001b[0;32m    408\u001b[0m \u001b[43m    \u001b[49m\u001b[43mX\u001b[49m\u001b[43m,\u001b[49m\n\u001b[0;32m    409\u001b[0m \u001b[43m    \u001b[49m\u001b[43my\u001b[49m\u001b[43m,\u001b[49m\n\u001b[0;32m    410\u001b[0m \u001b[43m    \u001b[49m\u001b[38;5;28;43;01mNone\u001b[39;49;00m\u001b[43m,\u001b[49m\n\u001b[0;32m    411\u001b[0m \u001b[43m    \u001b[49m\u001b[43mmessage_clsname\u001b[49m\u001b[38;5;241;43m=\u001b[39;49m\u001b[38;5;124;43m\"\u001b[39;49m\u001b[38;5;124;43mPipeline\u001b[39;49m\u001b[38;5;124;43m\"\u001b[39;49m\u001b[43m,\u001b[49m\n\u001b[0;32m    412\u001b[0m \u001b[43m    \u001b[49m\u001b[43mmessage\u001b[49m\u001b[38;5;241;43m=\u001b[39;49m\u001b[38;5;28;43mself\u001b[39;49m\u001b[38;5;241;43m.\u001b[39;49m\u001b[43m_log_message\u001b[49m\u001b[43m(\u001b[49m\u001b[43mstep_idx\u001b[49m\u001b[43m)\u001b[49m\u001b[43m,\u001b[49m\n\u001b[0;32m    413\u001b[0m \u001b[43m    \u001b[49m\u001b[43mparams\u001b[49m\u001b[38;5;241;43m=\u001b[39;49m\u001b[43mrouted_params\u001b[49m\u001b[43m[\u001b[49m\u001b[43mname\u001b[49m\u001b[43m]\u001b[49m\u001b[43m,\u001b[49m\n\u001b[0;32m    414\u001b[0m \u001b[43m\u001b[49m\u001b[43m)\u001b[49m\n\u001b[0;32m    415\u001b[0m \u001b[38;5;66;03m# Replace the transformer of the step with the fitted\u001b[39;00m\n\u001b[0;32m    416\u001b[0m \u001b[38;5;66;03m# transformer. This is necessary when loading the transformer\u001b[39;00m\n\u001b[0;32m    417\u001b[0m \u001b[38;5;66;03m# from the cache.\u001b[39;00m\n\u001b[0;32m    418\u001b[0m \u001b[38;5;28mself\u001b[39m\u001b[38;5;241m.\u001b[39msteps[step_idx] \u001b[38;5;241m=\u001b[39m (name, fitted_transformer)\n",
      "File \u001b[1;32md:\\Development\\insurance\\venv\\lib\\site-packages\\joblib\\memory.py:312\u001b[0m, in \u001b[0;36mNotMemorizedFunc.__call__\u001b[1;34m(self, *args, **kwargs)\u001b[0m\n\u001b[0;32m    311\u001b[0m \u001b[38;5;28;01mdef\u001b[39;00m \u001b[38;5;21m__call__\u001b[39m(\u001b[38;5;28mself\u001b[39m, \u001b[38;5;241m*\u001b[39margs, \u001b[38;5;241m*\u001b[39m\u001b[38;5;241m*\u001b[39mkwargs):\n\u001b[1;32m--> 312\u001b[0m     \u001b[38;5;28;01mreturn\u001b[39;00m \u001b[38;5;28mself\u001b[39m\u001b[38;5;241m.\u001b[39mfunc(\u001b[38;5;241m*\u001b[39margs, \u001b[38;5;241m*\u001b[39m\u001b[38;5;241m*\u001b[39mkwargs)\n",
      "File \u001b[1;32md:\\Development\\insurance\\venv\\lib\\site-packages\\sklearn\\pipeline.py:1310\u001b[0m, in \u001b[0;36m_fit_transform_one\u001b[1;34m(transformer, X, y, weight, message_clsname, message, params)\u001b[0m\n\u001b[0;32m   1308\u001b[0m \u001b[38;5;28;01mwith\u001b[39;00m _print_elapsed_time(message_clsname, message):\n\u001b[0;32m   1309\u001b[0m     \u001b[38;5;28;01mif\u001b[39;00m \u001b[38;5;28mhasattr\u001b[39m(transformer, \u001b[38;5;124m\"\u001b[39m\u001b[38;5;124mfit_transform\u001b[39m\u001b[38;5;124m\"\u001b[39m):\n\u001b[1;32m-> 1310\u001b[0m         res \u001b[38;5;241m=\u001b[39m transformer\u001b[38;5;241m.\u001b[39mfit_transform(X, y, \u001b[38;5;241m*\u001b[39m\u001b[38;5;241m*\u001b[39mparams\u001b[38;5;241m.\u001b[39mget(\u001b[38;5;124m\"\u001b[39m\u001b[38;5;124mfit_transform\u001b[39m\u001b[38;5;124m\"\u001b[39m, {}))\n\u001b[0;32m   1311\u001b[0m     \u001b[38;5;28;01melse\u001b[39;00m:\n\u001b[0;32m   1312\u001b[0m         res \u001b[38;5;241m=\u001b[39m transformer\u001b[38;5;241m.\u001b[39mfit(X, y, \u001b[38;5;241m*\u001b[39m\u001b[38;5;241m*\u001b[39mparams\u001b[38;5;241m.\u001b[39mget(\u001b[38;5;124m\"\u001b[39m\u001b[38;5;124mfit\u001b[39m\u001b[38;5;124m\"\u001b[39m, {}))\u001b[38;5;241m.\u001b[39mtransform(\n\u001b[0;32m   1313\u001b[0m             X, \u001b[38;5;241m*\u001b[39m\u001b[38;5;241m*\u001b[39mparams\u001b[38;5;241m.\u001b[39mget(\u001b[38;5;124m\"\u001b[39m\u001b[38;5;124mtransform\u001b[39m\u001b[38;5;124m\"\u001b[39m, {})\n\u001b[0;32m   1314\u001b[0m         )\n",
      "File \u001b[1;32md:\\Development\\insurance\\venv\\lib\\site-packages\\sklearn\\utils\\_set_output.py:316\u001b[0m, in \u001b[0;36m_wrap_method_output.<locals>.wrapped\u001b[1;34m(self, X, *args, **kwargs)\u001b[0m\n\u001b[0;32m    314\u001b[0m \u001b[38;5;129m@wraps\u001b[39m(f)\n\u001b[0;32m    315\u001b[0m \u001b[38;5;28;01mdef\u001b[39;00m \u001b[38;5;21mwrapped\u001b[39m(\u001b[38;5;28mself\u001b[39m, X, \u001b[38;5;241m*\u001b[39margs, \u001b[38;5;241m*\u001b[39m\u001b[38;5;241m*\u001b[39mkwargs):\n\u001b[1;32m--> 316\u001b[0m     data_to_wrap \u001b[38;5;241m=\u001b[39m f(\u001b[38;5;28mself\u001b[39m, X, \u001b[38;5;241m*\u001b[39margs, \u001b[38;5;241m*\u001b[39m\u001b[38;5;241m*\u001b[39mkwargs)\n\u001b[0;32m    317\u001b[0m     \u001b[38;5;28;01mif\u001b[39;00m \u001b[38;5;28misinstance\u001b[39m(data_to_wrap, \u001b[38;5;28mtuple\u001b[39m):\n\u001b[0;32m    318\u001b[0m         \u001b[38;5;66;03m# only wrap the first output for cross decomposition\u001b[39;00m\n\u001b[0;32m    319\u001b[0m         return_tuple \u001b[38;5;241m=\u001b[39m (\n\u001b[0;32m    320\u001b[0m             _wrap_data_with_container(method, data_to_wrap[\u001b[38;5;241m0\u001b[39m], X, \u001b[38;5;28mself\u001b[39m),\n\u001b[0;32m    321\u001b[0m             \u001b[38;5;241m*\u001b[39mdata_to_wrap[\u001b[38;5;241m1\u001b[39m:],\n\u001b[0;32m    322\u001b[0m         )\n",
      "File \u001b[1;32md:\\Development\\insurance\\NEW_FIRST_TRY\\utils\\cache.py:53\u001b[0m, in \u001b[0;36mCachedPreprocessor.fit_transform\u001b[1;34m(self, X, y, **kwargs)\u001b[0m\n\u001b[0;32m     49\u001b[0m \u001b[38;5;28;01mdef\u001b[39;00m \u001b[38;5;21mfit_transform\u001b[39m(\u001b[38;5;28mself\u001b[39m, X, y\u001b[38;5;241m=\u001b[39m\u001b[38;5;28;01mNone\u001b[39;00m, \u001b[38;5;241m*\u001b[39m\u001b[38;5;241m*\u001b[39mkwargs):\n\u001b[0;32m     50\u001b[0m \u001b[38;5;250m    \u001b[39m\u001b[38;5;124;03m\"\"\"\u001b[39;00m\n\u001b[0;32m     51\u001b[0m \u001b[38;5;124;03m    Fit the preprocessor and transform the data.\u001b[39;00m\n\u001b[0;32m     52\u001b[0m \u001b[38;5;124;03m    \"\"\"\u001b[39;00m\n\u001b[1;32m---> 53\u001b[0m     \u001b[38;5;28mself\u001b[39m\u001b[38;5;241m.\u001b[39mfit(X, y, \u001b[38;5;241m*\u001b[39m\u001b[38;5;241m*\u001b[39mkwargs)\n\u001b[0;32m     54\u001b[0m     \u001b[38;5;28;01mreturn\u001b[39;00m \u001b[38;5;28mself\u001b[39m\u001b[38;5;241m.\u001b[39mtransform(X)\n",
      "File \u001b[1;32md:\\Development\\insurance\\NEW_FIRST_TRY\\utils\\cache.py:37\u001b[0m, in \u001b[0;36mCachedPreprocessor.fit\u001b[1;34m(self, X, y, **kwargs)\u001b[0m\n\u001b[0;32m     35\u001b[0m \u001b[38;5;28;01melse\u001b[39;00m:\n\u001b[0;32m     36\u001b[0m     \u001b[38;5;28mprint\u001b[39m(\u001b[38;5;124m\"\u001b[39m\u001b[38;5;124mFitting and caching preprocessor\u001b[39m\u001b[38;5;124m\"\u001b[39m)\n\u001b[1;32m---> 37\u001b[0m     \u001b[38;5;28mself\u001b[39m\u001b[38;5;241m.\u001b[39mpreprocessor\u001b[38;5;241m.\u001b[39mfit(X, y, \u001b[38;5;241m*\u001b[39m\u001b[38;5;241m*\u001b[39mkwargs)\n\u001b[0;32m     38\u001b[0m     \u001b[38;5;28mself\u001b[39m\u001b[38;5;241m.\u001b[39mcache[dataset_hash] \u001b[38;5;241m=\u001b[39m pickle\u001b[38;5;241m.\u001b[39mloads(pickle\u001b[38;5;241m.\u001b[39mdumps(\u001b[38;5;28mself\u001b[39m\u001b[38;5;241m.\u001b[39mpreprocessor))\n\u001b[0;32m     39\u001b[0m \u001b[38;5;28;01mreturn\u001b[39;00m \u001b[38;5;28mself\u001b[39m\n",
      "File \u001b[1;32md:\\Development\\insurance\\venv\\lib\\site-packages\\sklearn\\base.py:1473\u001b[0m, in \u001b[0;36m_fit_context.<locals>.decorator.<locals>.wrapper\u001b[1;34m(estimator, *args, **kwargs)\u001b[0m\n\u001b[0;32m   1466\u001b[0m     estimator\u001b[38;5;241m.\u001b[39m_validate_params()\n\u001b[0;32m   1468\u001b[0m \u001b[38;5;28;01mwith\u001b[39;00m config_context(\n\u001b[0;32m   1469\u001b[0m     skip_parameter_validation\u001b[38;5;241m=\u001b[39m(\n\u001b[0;32m   1470\u001b[0m         prefer_skip_nested_validation \u001b[38;5;129;01mor\u001b[39;00m global_skip_validation\n\u001b[0;32m   1471\u001b[0m     )\n\u001b[0;32m   1472\u001b[0m ):\n\u001b[1;32m-> 1473\u001b[0m     \u001b[38;5;28;01mreturn\u001b[39;00m fit_method(estimator, \u001b[38;5;241m*\u001b[39margs, \u001b[38;5;241m*\u001b[39m\u001b[38;5;241m*\u001b[39mkwargs)\n",
      "File \u001b[1;32md:\\Development\\insurance\\venv\\lib\\site-packages\\sklearn\\pipeline.py:473\u001b[0m, in \u001b[0;36mPipeline.fit\u001b[1;34m(self, X, y, **params)\u001b[0m\n\u001b[0;32m    471\u001b[0m     \u001b[38;5;28;01mif\u001b[39;00m \u001b[38;5;28mself\u001b[39m\u001b[38;5;241m.\u001b[39m_final_estimator \u001b[38;5;241m!=\u001b[39m \u001b[38;5;124m\"\u001b[39m\u001b[38;5;124mpassthrough\u001b[39m\u001b[38;5;124m\"\u001b[39m:\n\u001b[0;32m    472\u001b[0m         last_step_params \u001b[38;5;241m=\u001b[39m routed_params[\u001b[38;5;28mself\u001b[39m\u001b[38;5;241m.\u001b[39msteps[\u001b[38;5;241m-\u001b[39m\u001b[38;5;241m1\u001b[39m][\u001b[38;5;241m0\u001b[39m]]\n\u001b[1;32m--> 473\u001b[0m         \u001b[38;5;28mself\u001b[39m\u001b[38;5;241m.\u001b[39m_final_estimator\u001b[38;5;241m.\u001b[39mfit(Xt, y, \u001b[38;5;241m*\u001b[39m\u001b[38;5;241m*\u001b[39mlast_step_params[\u001b[38;5;124m\"\u001b[39m\u001b[38;5;124mfit\u001b[39m\u001b[38;5;124m\"\u001b[39m])\n\u001b[0;32m    475\u001b[0m \u001b[38;5;28;01mreturn\u001b[39;00m \u001b[38;5;28mself\u001b[39m\n",
      "File \u001b[1;32md:\\Development\\insurance\\venv\\lib\\site-packages\\sklearn\\compose\\_column_transformer.py:922\u001b[0m, in \u001b[0;36mColumnTransformer.fit\u001b[1;34m(self, X, y, **params)\u001b[0m\n\u001b[0;32m    919\u001b[0m _raise_for_params(params, \u001b[38;5;28mself\u001b[39m, \u001b[38;5;124m\"\u001b[39m\u001b[38;5;124mfit\u001b[39m\u001b[38;5;124m\"\u001b[39m)\n\u001b[0;32m    920\u001b[0m \u001b[38;5;66;03m# we use fit_transform to make sure to set sparse_output_ (for which we\u001b[39;00m\n\u001b[0;32m    921\u001b[0m \u001b[38;5;66;03m# need the transformed data) to have consistent output type in predict\u001b[39;00m\n\u001b[1;32m--> 922\u001b[0m \u001b[38;5;28mself\u001b[39m\u001b[38;5;241m.\u001b[39mfit_transform(X, y\u001b[38;5;241m=\u001b[39my, \u001b[38;5;241m*\u001b[39m\u001b[38;5;241m*\u001b[39mparams)\n\u001b[0;32m    923\u001b[0m \u001b[38;5;28;01mreturn\u001b[39;00m \u001b[38;5;28mself\u001b[39m\n",
      "File \u001b[1;32md:\\Development\\insurance\\venv\\lib\\site-packages\\sklearn\\utils\\_set_output.py:316\u001b[0m, in \u001b[0;36m_wrap_method_output.<locals>.wrapped\u001b[1;34m(self, X, *args, **kwargs)\u001b[0m\n\u001b[0;32m    314\u001b[0m \u001b[38;5;129m@wraps\u001b[39m(f)\n\u001b[0;32m    315\u001b[0m \u001b[38;5;28;01mdef\u001b[39;00m \u001b[38;5;21mwrapped\u001b[39m(\u001b[38;5;28mself\u001b[39m, X, \u001b[38;5;241m*\u001b[39margs, \u001b[38;5;241m*\u001b[39m\u001b[38;5;241m*\u001b[39mkwargs):\n\u001b[1;32m--> 316\u001b[0m     data_to_wrap \u001b[38;5;241m=\u001b[39m f(\u001b[38;5;28mself\u001b[39m, X, \u001b[38;5;241m*\u001b[39margs, \u001b[38;5;241m*\u001b[39m\u001b[38;5;241m*\u001b[39mkwargs)\n\u001b[0;32m    317\u001b[0m     \u001b[38;5;28;01mif\u001b[39;00m \u001b[38;5;28misinstance\u001b[39m(data_to_wrap, \u001b[38;5;28mtuple\u001b[39m):\n\u001b[0;32m    318\u001b[0m         \u001b[38;5;66;03m# only wrap the first output for cross decomposition\u001b[39;00m\n\u001b[0;32m    319\u001b[0m         return_tuple \u001b[38;5;241m=\u001b[39m (\n\u001b[0;32m    320\u001b[0m             _wrap_data_with_container(method, data_to_wrap[\u001b[38;5;241m0\u001b[39m], X, \u001b[38;5;28mself\u001b[39m),\n\u001b[0;32m    321\u001b[0m             \u001b[38;5;241m*\u001b[39mdata_to_wrap[\u001b[38;5;241m1\u001b[39m:],\n\u001b[0;32m    322\u001b[0m         )\n",
      "File \u001b[1;32md:\\Development\\insurance\\venv\\lib\\site-packages\\sklearn\\base.py:1473\u001b[0m, in \u001b[0;36m_fit_context.<locals>.decorator.<locals>.wrapper\u001b[1;34m(estimator, *args, **kwargs)\u001b[0m\n\u001b[0;32m   1466\u001b[0m     estimator\u001b[38;5;241m.\u001b[39m_validate_params()\n\u001b[0;32m   1468\u001b[0m \u001b[38;5;28;01mwith\u001b[39;00m config_context(\n\u001b[0;32m   1469\u001b[0m     skip_parameter_validation\u001b[38;5;241m=\u001b[39m(\n\u001b[0;32m   1470\u001b[0m         prefer_skip_nested_validation \u001b[38;5;129;01mor\u001b[39;00m global_skip_validation\n\u001b[0;32m   1471\u001b[0m     )\n\u001b[0;32m   1472\u001b[0m ):\n\u001b[1;32m-> 1473\u001b[0m     \u001b[38;5;28;01mreturn\u001b[39;00m fit_method(estimator, \u001b[38;5;241m*\u001b[39margs, \u001b[38;5;241m*\u001b[39m\u001b[38;5;241m*\u001b[39mkwargs)\n",
      "File \u001b[1;32md:\\Development\\insurance\\venv\\lib\\site-packages\\sklearn\\compose\\_column_transformer.py:976\u001b[0m, in \u001b[0;36mColumnTransformer.fit_transform\u001b[1;34m(self, X, y, **params)\u001b[0m\n\u001b[0;32m    973\u001b[0m \u001b[38;5;28;01melse\u001b[39;00m:\n\u001b[0;32m    974\u001b[0m     routed_params \u001b[38;5;241m=\u001b[39m \u001b[38;5;28mself\u001b[39m\u001b[38;5;241m.\u001b[39m_get_empty_routing()\n\u001b[1;32m--> 976\u001b[0m result \u001b[38;5;241m=\u001b[39m \u001b[38;5;28;43mself\u001b[39;49m\u001b[38;5;241;43m.\u001b[39;49m\u001b[43m_call_func_on_transformers\u001b[49m\u001b[43m(\u001b[49m\n\u001b[0;32m    977\u001b[0m \u001b[43m    \u001b[49m\u001b[43mX\u001b[49m\u001b[43m,\u001b[49m\n\u001b[0;32m    978\u001b[0m \u001b[43m    \u001b[49m\u001b[43my\u001b[49m\u001b[43m,\u001b[49m\n\u001b[0;32m    979\u001b[0m \u001b[43m    \u001b[49m\u001b[43m_fit_transform_one\u001b[49m\u001b[43m,\u001b[49m\n\u001b[0;32m    980\u001b[0m \u001b[43m    \u001b[49m\u001b[43mcolumn_as_labels\u001b[49m\u001b[38;5;241;43m=\u001b[39;49m\u001b[38;5;28;43;01mFalse\u001b[39;49;00m\u001b[43m,\u001b[49m\n\u001b[0;32m    981\u001b[0m \u001b[43m    \u001b[49m\u001b[43mrouted_params\u001b[49m\u001b[38;5;241;43m=\u001b[39;49m\u001b[43mrouted_params\u001b[49m\u001b[43m,\u001b[49m\n\u001b[0;32m    982\u001b[0m \u001b[43m\u001b[49m\u001b[43m)\u001b[49m\n\u001b[0;32m    984\u001b[0m \u001b[38;5;28;01mif\u001b[39;00m \u001b[38;5;129;01mnot\u001b[39;00m result:\n\u001b[0;32m    985\u001b[0m     \u001b[38;5;28mself\u001b[39m\u001b[38;5;241m.\u001b[39m_update_fitted_transformers([])\n",
      "File \u001b[1;32md:\\Development\\insurance\\venv\\lib\\site-packages\\sklearn\\compose\\_column_transformer.py:885\u001b[0m, in \u001b[0;36mColumnTransformer._call_func_on_transformers\u001b[1;34m(self, X, y, func, column_as_labels, routed_params)\u001b[0m\n\u001b[0;32m    873\u001b[0m             extra_args \u001b[38;5;241m=\u001b[39m {}\n\u001b[0;32m    874\u001b[0m         jobs\u001b[38;5;241m.\u001b[39mappend(\n\u001b[0;32m    875\u001b[0m             delayed(func)(\n\u001b[0;32m    876\u001b[0m                 transformer\u001b[38;5;241m=\u001b[39mclone(trans) \u001b[38;5;28;01mif\u001b[39;00m \u001b[38;5;129;01mnot\u001b[39;00m fitted \u001b[38;5;28;01melse\u001b[39;00m trans,\n\u001b[1;32m   (...)\u001b[0m\n\u001b[0;32m    882\u001b[0m             )\n\u001b[0;32m    883\u001b[0m         )\n\u001b[1;32m--> 885\u001b[0m     \u001b[38;5;28;01mreturn\u001b[39;00m \u001b[43mParallel\u001b[49m\u001b[43m(\u001b[49m\u001b[43mn_jobs\u001b[49m\u001b[38;5;241;43m=\u001b[39;49m\u001b[38;5;28;43mself\u001b[39;49m\u001b[38;5;241;43m.\u001b[39;49m\u001b[43mn_jobs\u001b[49m\u001b[43m)\u001b[49m\u001b[43m(\u001b[49m\u001b[43mjobs\u001b[49m\u001b[43m)\u001b[49m\n\u001b[0;32m    887\u001b[0m \u001b[38;5;28;01mexcept\u001b[39;00m \u001b[38;5;167;01mValueError\u001b[39;00m \u001b[38;5;28;01mas\u001b[39;00m e:\n\u001b[0;32m    888\u001b[0m     \u001b[38;5;28;01mif\u001b[39;00m \u001b[38;5;124m\"\u001b[39m\u001b[38;5;124mExpected 2D array, got 1D array instead\u001b[39m\u001b[38;5;124m\"\u001b[39m \u001b[38;5;129;01min\u001b[39;00m \u001b[38;5;28mstr\u001b[39m(e):\n",
      "File \u001b[1;32md:\\Development\\insurance\\venv\\lib\\site-packages\\sklearn\\utils\\parallel.py:74\u001b[0m, in \u001b[0;36mParallel.__call__\u001b[1;34m(self, iterable)\u001b[0m\n\u001b[0;32m     69\u001b[0m config \u001b[38;5;241m=\u001b[39m get_config()\n\u001b[0;32m     70\u001b[0m iterable_with_config \u001b[38;5;241m=\u001b[39m (\n\u001b[0;32m     71\u001b[0m     (_with_config(delayed_func, config), args, kwargs)\n\u001b[0;32m     72\u001b[0m     \u001b[38;5;28;01mfor\u001b[39;00m delayed_func, args, kwargs \u001b[38;5;129;01min\u001b[39;00m iterable\n\u001b[0;32m     73\u001b[0m )\n\u001b[1;32m---> 74\u001b[0m \u001b[38;5;28;01mreturn\u001b[39;00m \u001b[38;5;28;43msuper\u001b[39;49m\u001b[43m(\u001b[49m\u001b[43m)\u001b[49m\u001b[38;5;241;43m.\u001b[39;49m\u001b[38;5;21;43m__call__\u001b[39;49m\u001b[43m(\u001b[49m\u001b[43miterable_with_config\u001b[49m\u001b[43m)\u001b[49m\n",
      "File \u001b[1;32md:\\Development\\insurance\\venv\\lib\\site-packages\\joblib\\parallel.py:1918\u001b[0m, in \u001b[0;36mParallel.__call__\u001b[1;34m(self, iterable)\u001b[0m\n\u001b[0;32m   1916\u001b[0m     output \u001b[38;5;241m=\u001b[39m \u001b[38;5;28mself\u001b[39m\u001b[38;5;241m.\u001b[39m_get_sequential_output(iterable)\n\u001b[0;32m   1917\u001b[0m     \u001b[38;5;28mnext\u001b[39m(output)\n\u001b[1;32m-> 1918\u001b[0m     \u001b[38;5;28;01mreturn\u001b[39;00m output \u001b[38;5;28;01mif\u001b[39;00m \u001b[38;5;28mself\u001b[39m\u001b[38;5;241m.\u001b[39mreturn_generator \u001b[38;5;28;01melse\u001b[39;00m \u001b[38;5;28;43mlist\u001b[39;49m\u001b[43m(\u001b[49m\u001b[43moutput\u001b[49m\u001b[43m)\u001b[49m\n\u001b[0;32m   1920\u001b[0m \u001b[38;5;66;03m# Let's create an ID that uniquely identifies the current call. If the\u001b[39;00m\n\u001b[0;32m   1921\u001b[0m \u001b[38;5;66;03m# call is interrupted early and that the same instance is immediately\u001b[39;00m\n\u001b[0;32m   1922\u001b[0m \u001b[38;5;66;03m# re-used, this id will be used to prevent workers that were\u001b[39;00m\n\u001b[0;32m   1923\u001b[0m \u001b[38;5;66;03m# concurrently finalizing a task from the previous call to run the\u001b[39;00m\n\u001b[0;32m   1924\u001b[0m \u001b[38;5;66;03m# callback.\u001b[39;00m\n\u001b[0;32m   1925\u001b[0m \u001b[38;5;28;01mwith\u001b[39;00m \u001b[38;5;28mself\u001b[39m\u001b[38;5;241m.\u001b[39m_lock:\n",
      "File \u001b[1;32md:\\Development\\insurance\\venv\\lib\\site-packages\\joblib\\parallel.py:1847\u001b[0m, in \u001b[0;36mParallel._get_sequential_output\u001b[1;34m(self, iterable)\u001b[0m\n\u001b[0;32m   1845\u001b[0m \u001b[38;5;28mself\u001b[39m\u001b[38;5;241m.\u001b[39mn_dispatched_batches \u001b[38;5;241m+\u001b[39m\u001b[38;5;241m=\u001b[39m \u001b[38;5;241m1\u001b[39m\n\u001b[0;32m   1846\u001b[0m \u001b[38;5;28mself\u001b[39m\u001b[38;5;241m.\u001b[39mn_dispatched_tasks \u001b[38;5;241m+\u001b[39m\u001b[38;5;241m=\u001b[39m \u001b[38;5;241m1\u001b[39m\n\u001b[1;32m-> 1847\u001b[0m res \u001b[38;5;241m=\u001b[39m func(\u001b[38;5;241m*\u001b[39margs, \u001b[38;5;241m*\u001b[39m\u001b[38;5;241m*\u001b[39mkwargs)\n\u001b[0;32m   1848\u001b[0m \u001b[38;5;28mself\u001b[39m\u001b[38;5;241m.\u001b[39mn_completed_tasks \u001b[38;5;241m+\u001b[39m\u001b[38;5;241m=\u001b[39m \u001b[38;5;241m1\u001b[39m\n\u001b[0;32m   1849\u001b[0m \u001b[38;5;28mself\u001b[39m\u001b[38;5;241m.\u001b[39mprint_progress()\n",
      "File \u001b[1;32md:\\Development\\insurance\\venv\\lib\\site-packages\\sklearn\\utils\\parallel.py:136\u001b[0m, in \u001b[0;36m_FuncWrapper.__call__\u001b[1;34m(self, *args, **kwargs)\u001b[0m\n\u001b[0;32m    134\u001b[0m     config \u001b[38;5;241m=\u001b[39m {}\n\u001b[0;32m    135\u001b[0m \u001b[38;5;28;01mwith\u001b[39;00m config_context(\u001b[38;5;241m*\u001b[39m\u001b[38;5;241m*\u001b[39mconfig):\n\u001b[1;32m--> 136\u001b[0m     \u001b[38;5;28;01mreturn\u001b[39;00m \u001b[38;5;28mself\u001b[39m\u001b[38;5;241m.\u001b[39mfunction(\u001b[38;5;241m*\u001b[39margs, \u001b[38;5;241m*\u001b[39m\u001b[38;5;241m*\u001b[39mkwargs)\n",
      "File \u001b[1;32md:\\Development\\insurance\\venv\\lib\\site-packages\\sklearn\\pipeline.py:1310\u001b[0m, in \u001b[0;36m_fit_transform_one\u001b[1;34m(transformer, X, y, weight, message_clsname, message, params)\u001b[0m\n\u001b[0;32m   1308\u001b[0m \u001b[38;5;28;01mwith\u001b[39;00m _print_elapsed_time(message_clsname, message):\n\u001b[0;32m   1309\u001b[0m     \u001b[38;5;28;01mif\u001b[39;00m \u001b[38;5;28mhasattr\u001b[39m(transformer, \u001b[38;5;124m\"\u001b[39m\u001b[38;5;124mfit_transform\u001b[39m\u001b[38;5;124m\"\u001b[39m):\n\u001b[1;32m-> 1310\u001b[0m         res \u001b[38;5;241m=\u001b[39m transformer\u001b[38;5;241m.\u001b[39mfit_transform(X, y, \u001b[38;5;241m*\u001b[39m\u001b[38;5;241m*\u001b[39mparams\u001b[38;5;241m.\u001b[39mget(\u001b[38;5;124m\"\u001b[39m\u001b[38;5;124mfit_transform\u001b[39m\u001b[38;5;124m\"\u001b[39m, {}))\n\u001b[0;32m   1311\u001b[0m     \u001b[38;5;28;01melse\u001b[39;00m:\n\u001b[0;32m   1312\u001b[0m         res \u001b[38;5;241m=\u001b[39m transformer\u001b[38;5;241m.\u001b[39mfit(X, y, \u001b[38;5;241m*\u001b[39m\u001b[38;5;241m*\u001b[39mparams\u001b[38;5;241m.\u001b[39mget(\u001b[38;5;124m\"\u001b[39m\u001b[38;5;124mfit\u001b[39m\u001b[38;5;124m\"\u001b[39m, {}))\u001b[38;5;241m.\u001b[39mtransform(\n\u001b[0;32m   1313\u001b[0m             X, \u001b[38;5;241m*\u001b[39m\u001b[38;5;241m*\u001b[39mparams\u001b[38;5;241m.\u001b[39mget(\u001b[38;5;124m\"\u001b[39m\u001b[38;5;124mtransform\u001b[39m\u001b[38;5;124m\"\u001b[39m, {})\n\u001b[0;32m   1314\u001b[0m         )\n",
      "File \u001b[1;32md:\\Development\\insurance\\venv\\lib\\site-packages\\sklearn\\base.py:1473\u001b[0m, in \u001b[0;36m_fit_context.<locals>.decorator.<locals>.wrapper\u001b[1;34m(estimator, *args, **kwargs)\u001b[0m\n\u001b[0;32m   1466\u001b[0m     estimator\u001b[38;5;241m.\u001b[39m_validate_params()\n\u001b[0;32m   1468\u001b[0m \u001b[38;5;28;01mwith\u001b[39;00m config_context(\n\u001b[0;32m   1469\u001b[0m     skip_parameter_validation\u001b[38;5;241m=\u001b[39m(\n\u001b[0;32m   1470\u001b[0m         prefer_skip_nested_validation \u001b[38;5;129;01mor\u001b[39;00m global_skip_validation\n\u001b[0;32m   1471\u001b[0m     )\n\u001b[0;32m   1472\u001b[0m ):\n\u001b[1;32m-> 1473\u001b[0m     \u001b[38;5;28;01mreturn\u001b[39;00m fit_method(estimator, \u001b[38;5;241m*\u001b[39margs, \u001b[38;5;241m*\u001b[39m\u001b[38;5;241m*\u001b[39mkwargs)\n",
      "File \u001b[1;32md:\\Development\\insurance\\venv\\lib\\site-packages\\sklearn\\pipeline.py:533\u001b[0m, in \u001b[0;36mPipeline.fit_transform\u001b[1;34m(self, X, y, **params)\u001b[0m\n\u001b[0;32m    490\u001b[0m \u001b[38;5;250m\u001b[39m\u001b[38;5;124;03m\"\"\"Fit the model and transform with the final estimator.\u001b[39;00m\n\u001b[0;32m    491\u001b[0m \n\u001b[0;32m    492\u001b[0m \u001b[38;5;124;03mFit all the transformers one after the other and sequentially transform\u001b[39;00m\n\u001b[1;32m   (...)\u001b[0m\n\u001b[0;32m    530\u001b[0m \u001b[38;5;124;03m    Transformed samples.\u001b[39;00m\n\u001b[0;32m    531\u001b[0m \u001b[38;5;124;03m\"\"\"\u001b[39;00m\n\u001b[0;32m    532\u001b[0m routed_params \u001b[38;5;241m=\u001b[39m \u001b[38;5;28mself\u001b[39m\u001b[38;5;241m.\u001b[39m_check_method_params(method\u001b[38;5;241m=\u001b[39m\u001b[38;5;124m\"\u001b[39m\u001b[38;5;124mfit_transform\u001b[39m\u001b[38;5;124m\"\u001b[39m, props\u001b[38;5;241m=\u001b[39mparams)\n\u001b[1;32m--> 533\u001b[0m Xt \u001b[38;5;241m=\u001b[39m \u001b[38;5;28;43mself\u001b[39;49m\u001b[38;5;241;43m.\u001b[39;49m\u001b[43m_fit\u001b[49m\u001b[43m(\u001b[49m\u001b[43mX\u001b[49m\u001b[43m,\u001b[49m\u001b[43m \u001b[49m\u001b[43my\u001b[49m\u001b[43m,\u001b[49m\u001b[43m \u001b[49m\u001b[43mrouted_params\u001b[49m\u001b[43m)\u001b[49m\n\u001b[0;32m    535\u001b[0m last_step \u001b[38;5;241m=\u001b[39m \u001b[38;5;28mself\u001b[39m\u001b[38;5;241m.\u001b[39m_final_estimator\n\u001b[0;32m    536\u001b[0m \u001b[38;5;28;01mwith\u001b[39;00m _print_elapsed_time(\u001b[38;5;124m\"\u001b[39m\u001b[38;5;124mPipeline\u001b[39m\u001b[38;5;124m\"\u001b[39m, \u001b[38;5;28mself\u001b[39m\u001b[38;5;241m.\u001b[39m_log_message(\u001b[38;5;28mlen\u001b[39m(\u001b[38;5;28mself\u001b[39m\u001b[38;5;241m.\u001b[39msteps) \u001b[38;5;241m-\u001b[39m \u001b[38;5;241m1\u001b[39m)):\n",
      "File \u001b[1;32md:\\Development\\insurance\\venv\\lib\\site-packages\\sklearn\\pipeline.py:406\u001b[0m, in \u001b[0;36mPipeline._fit\u001b[1;34m(self, X, y, routed_params)\u001b[0m\n\u001b[0;32m    404\u001b[0m     cloned_transformer \u001b[38;5;241m=\u001b[39m clone(transformer)\n\u001b[0;32m    405\u001b[0m \u001b[38;5;66;03m# Fit or load from cache the current transformer\u001b[39;00m\n\u001b[1;32m--> 406\u001b[0m X, fitted_transformer \u001b[38;5;241m=\u001b[39m \u001b[43mfit_transform_one_cached\u001b[49m\u001b[43m(\u001b[49m\n\u001b[0;32m    407\u001b[0m \u001b[43m    \u001b[49m\u001b[43mcloned_transformer\u001b[49m\u001b[43m,\u001b[49m\n\u001b[0;32m    408\u001b[0m \u001b[43m    \u001b[49m\u001b[43mX\u001b[49m\u001b[43m,\u001b[49m\n\u001b[0;32m    409\u001b[0m \u001b[43m    \u001b[49m\u001b[43my\u001b[49m\u001b[43m,\u001b[49m\n\u001b[0;32m    410\u001b[0m \u001b[43m    \u001b[49m\u001b[38;5;28;43;01mNone\u001b[39;49;00m\u001b[43m,\u001b[49m\n\u001b[0;32m    411\u001b[0m \u001b[43m    \u001b[49m\u001b[43mmessage_clsname\u001b[49m\u001b[38;5;241;43m=\u001b[39;49m\u001b[38;5;124;43m\"\u001b[39;49m\u001b[38;5;124;43mPipeline\u001b[39;49m\u001b[38;5;124;43m\"\u001b[39;49m\u001b[43m,\u001b[49m\n\u001b[0;32m    412\u001b[0m \u001b[43m    \u001b[49m\u001b[43mmessage\u001b[49m\u001b[38;5;241;43m=\u001b[39;49m\u001b[38;5;28;43mself\u001b[39;49m\u001b[38;5;241;43m.\u001b[39;49m\u001b[43m_log_message\u001b[49m\u001b[43m(\u001b[49m\u001b[43mstep_idx\u001b[49m\u001b[43m)\u001b[49m\u001b[43m,\u001b[49m\n\u001b[0;32m    413\u001b[0m \u001b[43m    \u001b[49m\u001b[43mparams\u001b[49m\u001b[38;5;241;43m=\u001b[39;49m\u001b[43mrouted_params\u001b[49m\u001b[43m[\u001b[49m\u001b[43mname\u001b[49m\u001b[43m]\u001b[49m\u001b[43m,\u001b[49m\n\u001b[0;32m    414\u001b[0m \u001b[43m\u001b[49m\u001b[43m)\u001b[49m\n\u001b[0;32m    415\u001b[0m \u001b[38;5;66;03m# Replace the transformer of the step with the fitted\u001b[39;00m\n\u001b[0;32m    416\u001b[0m \u001b[38;5;66;03m# transformer. This is necessary when loading the transformer\u001b[39;00m\n\u001b[0;32m    417\u001b[0m \u001b[38;5;66;03m# from the cache.\u001b[39;00m\n\u001b[0;32m    418\u001b[0m \u001b[38;5;28mself\u001b[39m\u001b[38;5;241m.\u001b[39msteps[step_idx] \u001b[38;5;241m=\u001b[39m (name, fitted_transformer)\n",
      "File \u001b[1;32md:\\Development\\insurance\\venv\\lib\\site-packages\\joblib\\memory.py:312\u001b[0m, in \u001b[0;36mNotMemorizedFunc.__call__\u001b[1;34m(self, *args, **kwargs)\u001b[0m\n\u001b[0;32m    311\u001b[0m \u001b[38;5;28;01mdef\u001b[39;00m \u001b[38;5;21m__call__\u001b[39m(\u001b[38;5;28mself\u001b[39m, \u001b[38;5;241m*\u001b[39margs, \u001b[38;5;241m*\u001b[39m\u001b[38;5;241m*\u001b[39mkwargs):\n\u001b[1;32m--> 312\u001b[0m     \u001b[38;5;28;01mreturn\u001b[39;00m \u001b[38;5;28mself\u001b[39m\u001b[38;5;241m.\u001b[39mfunc(\u001b[38;5;241m*\u001b[39margs, \u001b[38;5;241m*\u001b[39m\u001b[38;5;241m*\u001b[39mkwargs)\n",
      "File \u001b[1;32md:\\Development\\insurance\\venv\\lib\\site-packages\\sklearn\\pipeline.py:1310\u001b[0m, in \u001b[0;36m_fit_transform_one\u001b[1;34m(transformer, X, y, weight, message_clsname, message, params)\u001b[0m\n\u001b[0;32m   1308\u001b[0m \u001b[38;5;28;01mwith\u001b[39;00m _print_elapsed_time(message_clsname, message):\n\u001b[0;32m   1309\u001b[0m     \u001b[38;5;28;01mif\u001b[39;00m \u001b[38;5;28mhasattr\u001b[39m(transformer, \u001b[38;5;124m\"\u001b[39m\u001b[38;5;124mfit_transform\u001b[39m\u001b[38;5;124m\"\u001b[39m):\n\u001b[1;32m-> 1310\u001b[0m         res \u001b[38;5;241m=\u001b[39m transformer\u001b[38;5;241m.\u001b[39mfit_transform(X, y, \u001b[38;5;241m*\u001b[39m\u001b[38;5;241m*\u001b[39mparams\u001b[38;5;241m.\u001b[39mget(\u001b[38;5;124m\"\u001b[39m\u001b[38;5;124mfit_transform\u001b[39m\u001b[38;5;124m\"\u001b[39m, {}))\n\u001b[0;32m   1311\u001b[0m     \u001b[38;5;28;01melse\u001b[39;00m:\n\u001b[0;32m   1312\u001b[0m         res \u001b[38;5;241m=\u001b[39m transformer\u001b[38;5;241m.\u001b[39mfit(X, y, \u001b[38;5;241m*\u001b[39m\u001b[38;5;241m*\u001b[39mparams\u001b[38;5;241m.\u001b[39mget(\u001b[38;5;124m\"\u001b[39m\u001b[38;5;124mfit\u001b[39m\u001b[38;5;124m\"\u001b[39m, {}))\u001b[38;5;241m.\u001b[39mtransform(\n\u001b[0;32m   1313\u001b[0m             X, \u001b[38;5;241m*\u001b[39m\u001b[38;5;241m*\u001b[39mparams\u001b[38;5;241m.\u001b[39mget(\u001b[38;5;124m\"\u001b[39m\u001b[38;5;124mtransform\u001b[39m\u001b[38;5;124m\"\u001b[39m, {})\n\u001b[0;32m   1314\u001b[0m         )\n",
      "File \u001b[1;32md:\\Development\\insurance\\venv\\lib\\site-packages\\sklearn\\utils\\_set_output.py:316\u001b[0m, in \u001b[0;36m_wrap_method_output.<locals>.wrapped\u001b[1;34m(self, X, *args, **kwargs)\u001b[0m\n\u001b[0;32m    314\u001b[0m \u001b[38;5;129m@wraps\u001b[39m(f)\n\u001b[0;32m    315\u001b[0m \u001b[38;5;28;01mdef\u001b[39;00m \u001b[38;5;21mwrapped\u001b[39m(\u001b[38;5;28mself\u001b[39m, X, \u001b[38;5;241m*\u001b[39margs, \u001b[38;5;241m*\u001b[39m\u001b[38;5;241m*\u001b[39mkwargs):\n\u001b[1;32m--> 316\u001b[0m     data_to_wrap \u001b[38;5;241m=\u001b[39m f(\u001b[38;5;28mself\u001b[39m, X, \u001b[38;5;241m*\u001b[39margs, \u001b[38;5;241m*\u001b[39m\u001b[38;5;241m*\u001b[39mkwargs)\n\u001b[0;32m    317\u001b[0m     \u001b[38;5;28;01mif\u001b[39;00m \u001b[38;5;28misinstance\u001b[39m(data_to_wrap, \u001b[38;5;28mtuple\u001b[39m):\n\u001b[0;32m    318\u001b[0m         \u001b[38;5;66;03m# only wrap the first output for cross decomposition\u001b[39;00m\n\u001b[0;32m    319\u001b[0m         return_tuple \u001b[38;5;241m=\u001b[39m (\n\u001b[0;32m    320\u001b[0m             _wrap_data_with_container(method, data_to_wrap[\u001b[38;5;241m0\u001b[39m], X, \u001b[38;5;28mself\u001b[39m),\n\u001b[0;32m    321\u001b[0m             \u001b[38;5;241m*\u001b[39mdata_to_wrap[\u001b[38;5;241m1\u001b[39m:],\n\u001b[0;32m    322\u001b[0m         )\n",
      "File \u001b[1;32md:\\Development\\insurance\\venv\\lib\\site-packages\\sklearn\\base.py:1101\u001b[0m, in \u001b[0;36mTransformerMixin.fit_transform\u001b[1;34m(self, X, y, **fit_params)\u001b[0m\n\u001b[0;32m   1098\u001b[0m     \u001b[38;5;28;01mreturn\u001b[39;00m \u001b[38;5;28mself\u001b[39m\u001b[38;5;241m.\u001b[39mfit(X, \u001b[38;5;241m*\u001b[39m\u001b[38;5;241m*\u001b[39mfit_params)\u001b[38;5;241m.\u001b[39mtransform(X)\n\u001b[0;32m   1099\u001b[0m \u001b[38;5;28;01melse\u001b[39;00m:\n\u001b[0;32m   1100\u001b[0m     \u001b[38;5;66;03m# fit method of arity 2 (supervised transformation)\u001b[39;00m\n\u001b[1;32m-> 1101\u001b[0m     \u001b[38;5;28;01mreturn\u001b[39;00m \u001b[38;5;28;43mself\u001b[39;49m\u001b[38;5;241;43m.\u001b[39;49m\u001b[43mfit\u001b[49m\u001b[43m(\u001b[49m\u001b[43mX\u001b[49m\u001b[43m,\u001b[49m\u001b[43m \u001b[49m\u001b[43my\u001b[49m\u001b[43m,\u001b[49m\u001b[43m \u001b[49m\u001b[38;5;241;43m*\u001b[39;49m\u001b[38;5;241;43m*\u001b[39;49m\u001b[43mfit_params\u001b[49m\u001b[43m)\u001b[49m\u001b[38;5;241;43m.\u001b[39;49m\u001b[43mtransform\u001b[49m\u001b[43m(\u001b[49m\u001b[43mX\u001b[49m\u001b[43m)\u001b[49m\n",
      "File \u001b[1;32md:\\Development\\insurance\\venv\\lib\\site-packages\\sklearn\\utils\\_set_output.py:316\u001b[0m, in \u001b[0;36m_wrap_method_output.<locals>.wrapped\u001b[1;34m(self, X, *args, **kwargs)\u001b[0m\n\u001b[0;32m    314\u001b[0m \u001b[38;5;129m@wraps\u001b[39m(f)\n\u001b[0;32m    315\u001b[0m \u001b[38;5;28;01mdef\u001b[39;00m \u001b[38;5;21mwrapped\u001b[39m(\u001b[38;5;28mself\u001b[39m, X, \u001b[38;5;241m*\u001b[39margs, \u001b[38;5;241m*\u001b[39m\u001b[38;5;241m*\u001b[39mkwargs):\n\u001b[1;32m--> 316\u001b[0m     data_to_wrap \u001b[38;5;241m=\u001b[39m f(\u001b[38;5;28mself\u001b[39m, X, \u001b[38;5;241m*\u001b[39margs, \u001b[38;5;241m*\u001b[39m\u001b[38;5;241m*\u001b[39mkwargs)\n\u001b[0;32m    317\u001b[0m     \u001b[38;5;28;01mif\u001b[39;00m \u001b[38;5;28misinstance\u001b[39m(data_to_wrap, \u001b[38;5;28mtuple\u001b[39m):\n\u001b[0;32m    318\u001b[0m         \u001b[38;5;66;03m# only wrap the first output for cross decomposition\u001b[39;00m\n\u001b[0;32m    319\u001b[0m         return_tuple \u001b[38;5;241m=\u001b[39m (\n\u001b[0;32m    320\u001b[0m             _wrap_data_with_container(method, data_to_wrap[\u001b[38;5;241m0\u001b[39m], X, \u001b[38;5;28mself\u001b[39m),\n\u001b[0;32m    321\u001b[0m             \u001b[38;5;241m*\u001b[39mdata_to_wrap[\u001b[38;5;241m1\u001b[39m:],\n\u001b[0;32m    322\u001b[0m         )\n",
      "File \u001b[1;32md:\\Development\\insurance\\venv\\lib\\site-packages\\sklearn\\impute\\_base.py:570\u001b[0m, in \u001b[0;36mSimpleImputer.transform\u001b[1;34m(self, X)\u001b[0m\n\u001b[0;32m    555\u001b[0m \u001b[38;5;250m\u001b[39m\u001b[38;5;124;03m\"\"\"Impute all missing values in `X`.\u001b[39;00m\n\u001b[0;32m    556\u001b[0m \n\u001b[0;32m    557\u001b[0m \u001b[38;5;124;03mParameters\u001b[39;00m\n\u001b[1;32m   (...)\u001b[0m\n\u001b[0;32m    566\u001b[0m \u001b[38;5;124;03m    `X` with imputed values.\u001b[39;00m\n\u001b[0;32m    567\u001b[0m \u001b[38;5;124;03m\"\"\"\u001b[39;00m\n\u001b[0;32m    568\u001b[0m check_is_fitted(\u001b[38;5;28mself\u001b[39m)\n\u001b[1;32m--> 570\u001b[0m X \u001b[38;5;241m=\u001b[39m \u001b[38;5;28;43mself\u001b[39;49m\u001b[38;5;241;43m.\u001b[39;49m\u001b[43m_validate_input\u001b[49m\u001b[43m(\u001b[49m\u001b[43mX\u001b[49m\u001b[43m,\u001b[49m\u001b[43m \u001b[49m\u001b[43min_fit\u001b[49m\u001b[38;5;241;43m=\u001b[39;49m\u001b[38;5;28;43;01mFalse\u001b[39;49;00m\u001b[43m)\u001b[49m\n\u001b[0;32m    571\u001b[0m statistics \u001b[38;5;241m=\u001b[39m \u001b[38;5;28mself\u001b[39m\u001b[38;5;241m.\u001b[39mstatistics_\n\u001b[0;32m    573\u001b[0m \u001b[38;5;28;01mif\u001b[39;00m X\u001b[38;5;241m.\u001b[39mshape[\u001b[38;5;241m1\u001b[39m] \u001b[38;5;241m!=\u001b[39m statistics\u001b[38;5;241m.\u001b[39mshape[\u001b[38;5;241m0\u001b[39m]:\n",
      "File \u001b[1;32md:\\Development\\insurance\\venv\\lib\\site-packages\\sklearn\\impute\\_base.py:332\u001b[0m, in \u001b[0;36mSimpleImputer._validate_input\u001b[1;34m(self, X, in_fit)\u001b[0m\n\u001b[0;32m    329\u001b[0m     force_all_finite \u001b[38;5;241m=\u001b[39m \u001b[38;5;28;01mTrue\u001b[39;00m\n\u001b[0;32m    331\u001b[0m \u001b[38;5;28;01mtry\u001b[39;00m:\n\u001b[1;32m--> 332\u001b[0m     X \u001b[38;5;241m=\u001b[39m \u001b[38;5;28;43mself\u001b[39;49m\u001b[38;5;241;43m.\u001b[39;49m\u001b[43m_validate_data\u001b[49m\u001b[43m(\u001b[49m\n\u001b[0;32m    333\u001b[0m \u001b[43m        \u001b[49m\u001b[43mX\u001b[49m\u001b[43m,\u001b[49m\n\u001b[0;32m    334\u001b[0m \u001b[43m        \u001b[49m\u001b[43mreset\u001b[49m\u001b[38;5;241;43m=\u001b[39;49m\u001b[43min_fit\u001b[49m\u001b[43m,\u001b[49m\n\u001b[0;32m    335\u001b[0m \u001b[43m        \u001b[49m\u001b[43maccept_sparse\u001b[49m\u001b[38;5;241;43m=\u001b[39;49m\u001b[38;5;124;43m\"\u001b[39;49m\u001b[38;5;124;43mcsc\u001b[39;49m\u001b[38;5;124;43m\"\u001b[39;49m\u001b[43m,\u001b[49m\n\u001b[0;32m    336\u001b[0m \u001b[43m        \u001b[49m\u001b[43mdtype\u001b[49m\u001b[38;5;241;43m=\u001b[39;49m\u001b[43mdtype\u001b[49m\u001b[43m,\u001b[49m\n\u001b[0;32m    337\u001b[0m \u001b[43m        \u001b[49m\u001b[43mforce_writeable\u001b[49m\u001b[38;5;241;43m=\u001b[39;49m\u001b[38;5;28;43;01mTrue\u001b[39;49;00m\u001b[43m \u001b[49m\u001b[38;5;28;43;01mif\u001b[39;49;00m\u001b[43m \u001b[49m\u001b[38;5;129;43;01mnot\u001b[39;49;00m\u001b[43m \u001b[49m\u001b[43min_fit\u001b[49m\u001b[43m \u001b[49m\u001b[38;5;28;43;01melse\u001b[39;49;00m\u001b[43m \u001b[49m\u001b[38;5;28;43;01mNone\u001b[39;49;00m\u001b[43m,\u001b[49m\n\u001b[0;32m    338\u001b[0m \u001b[43m        \u001b[49m\u001b[43mforce_all_finite\u001b[49m\u001b[38;5;241;43m=\u001b[39;49m\u001b[43mforce_all_finite\u001b[49m\u001b[43m,\u001b[49m\n\u001b[0;32m    339\u001b[0m \u001b[43m        \u001b[49m\u001b[43mcopy\u001b[49m\u001b[38;5;241;43m=\u001b[39;49m\u001b[38;5;28;43mself\u001b[39;49m\u001b[38;5;241;43m.\u001b[39;49m\u001b[43mcopy\u001b[49m\u001b[43m,\u001b[49m\n\u001b[0;32m    340\u001b[0m \u001b[43m    \u001b[49m\u001b[43m)\u001b[49m\n\u001b[0;32m    341\u001b[0m \u001b[38;5;28;01mexcept\u001b[39;00m \u001b[38;5;167;01mValueError\u001b[39;00m \u001b[38;5;28;01mas\u001b[39;00m ve:\n\u001b[0;32m    342\u001b[0m     \u001b[38;5;28;01mif\u001b[39;00m \u001b[38;5;124m\"\u001b[39m\u001b[38;5;124mcould not convert\u001b[39m\u001b[38;5;124m\"\u001b[39m \u001b[38;5;129;01min\u001b[39;00m \u001b[38;5;28mstr\u001b[39m(ve):\n",
      "File \u001b[1;32md:\\Development\\insurance\\venv\\lib\\site-packages\\sklearn\\base.py:633\u001b[0m, in \u001b[0;36mBaseEstimator._validate_data\u001b[1;34m(self, X, y, reset, validate_separately, cast_to_ndarray, **check_params)\u001b[0m\n\u001b[0;32m    631\u001b[0m         out \u001b[38;5;241m=\u001b[39m X, y\n\u001b[0;32m    632\u001b[0m \u001b[38;5;28;01melif\u001b[39;00m \u001b[38;5;129;01mnot\u001b[39;00m no_val_X \u001b[38;5;129;01mand\u001b[39;00m no_val_y:\n\u001b[1;32m--> 633\u001b[0m     out \u001b[38;5;241m=\u001b[39m check_array(X, input_name\u001b[38;5;241m=\u001b[39m\u001b[38;5;124m\"\u001b[39m\u001b[38;5;124mX\u001b[39m\u001b[38;5;124m\"\u001b[39m, \u001b[38;5;241m*\u001b[39m\u001b[38;5;241m*\u001b[39mcheck_params)\n\u001b[0;32m    634\u001b[0m \u001b[38;5;28;01melif\u001b[39;00m no_val_X \u001b[38;5;129;01mand\u001b[39;00m \u001b[38;5;129;01mnot\u001b[39;00m no_val_y:\n\u001b[0;32m    635\u001b[0m     out \u001b[38;5;241m=\u001b[39m _check_y(y, \u001b[38;5;241m*\u001b[39m\u001b[38;5;241m*\u001b[39mcheck_params)\n",
      "File \u001b[1;32md:\\Development\\insurance\\venv\\lib\\site-packages\\sklearn\\utils\\validation.py:1012\u001b[0m, in \u001b[0;36mcheck_array\u001b[1;34m(array, accept_sparse, accept_large_sparse, dtype, order, copy, force_writeable, force_all_finite, ensure_2d, allow_nd, ensure_min_samples, ensure_min_features, estimator, input_name)\u001b[0m\n\u001b[0;32m   1010\u001b[0m         array \u001b[38;5;241m=\u001b[39m xp\u001b[38;5;241m.\u001b[39mastype(array, dtype, copy\u001b[38;5;241m=\u001b[39m\u001b[38;5;28;01mFalse\u001b[39;00m)\n\u001b[0;32m   1011\u001b[0m     \u001b[38;5;28;01melse\u001b[39;00m:\n\u001b[1;32m-> 1012\u001b[0m         array \u001b[38;5;241m=\u001b[39m \u001b[43m_asarray_with_order\u001b[49m\u001b[43m(\u001b[49m\u001b[43marray\u001b[49m\u001b[43m,\u001b[49m\u001b[43m \u001b[49m\u001b[43morder\u001b[49m\u001b[38;5;241;43m=\u001b[39;49m\u001b[43morder\u001b[49m\u001b[43m,\u001b[49m\u001b[43m \u001b[49m\u001b[43mdtype\u001b[49m\u001b[38;5;241;43m=\u001b[39;49m\u001b[43mdtype\u001b[49m\u001b[43m,\u001b[49m\u001b[43m \u001b[49m\u001b[43mxp\u001b[49m\u001b[38;5;241;43m=\u001b[39;49m\u001b[43mxp\u001b[49m\u001b[43m)\u001b[49m\n\u001b[0;32m   1013\u001b[0m \u001b[38;5;28;01mexcept\u001b[39;00m ComplexWarning \u001b[38;5;28;01mas\u001b[39;00m complex_warning:\n\u001b[0;32m   1014\u001b[0m     \u001b[38;5;28;01mraise\u001b[39;00m \u001b[38;5;167;01mValueError\u001b[39;00m(\n\u001b[0;32m   1015\u001b[0m         \u001b[38;5;124m\"\u001b[39m\u001b[38;5;124mComplex data not supported\u001b[39m\u001b[38;5;130;01m\\n\u001b[39;00m\u001b[38;5;132;01m{}\u001b[39;00m\u001b[38;5;130;01m\\n\u001b[39;00m\u001b[38;5;124m\"\u001b[39m\u001b[38;5;241m.\u001b[39mformat(array)\n\u001b[0;32m   1016\u001b[0m     ) \u001b[38;5;28;01mfrom\u001b[39;00m \u001b[38;5;21;01mcomplex_warning\u001b[39;00m\n",
      "File \u001b[1;32md:\\Development\\insurance\\venv\\lib\\site-packages\\sklearn\\utils\\_array_api.py:745\u001b[0m, in \u001b[0;36m_asarray_with_order\u001b[1;34m(array, dtype, order, copy, xp, device)\u001b[0m\n\u001b[0;32m    743\u001b[0m     array \u001b[38;5;241m=\u001b[39m numpy\u001b[38;5;241m.\u001b[39marray(array, order\u001b[38;5;241m=\u001b[39morder, dtype\u001b[38;5;241m=\u001b[39mdtype)\n\u001b[0;32m    744\u001b[0m \u001b[38;5;28;01melse\u001b[39;00m:\n\u001b[1;32m--> 745\u001b[0m     array \u001b[38;5;241m=\u001b[39m \u001b[43mnumpy\u001b[49m\u001b[38;5;241;43m.\u001b[39;49m\u001b[43masarray\u001b[49m\u001b[43m(\u001b[49m\u001b[43marray\u001b[49m\u001b[43m,\u001b[49m\u001b[43m \u001b[49m\u001b[43morder\u001b[49m\u001b[38;5;241;43m=\u001b[39;49m\u001b[43morder\u001b[49m\u001b[43m,\u001b[49m\u001b[43m \u001b[49m\u001b[43mdtype\u001b[49m\u001b[38;5;241;43m=\u001b[39;49m\u001b[43mdtype\u001b[49m\u001b[43m)\u001b[49m\n\u001b[0;32m    747\u001b[0m \u001b[38;5;66;03m# At this point array is a NumPy ndarray. We convert it to an array\u001b[39;00m\n\u001b[0;32m    748\u001b[0m \u001b[38;5;66;03m# container that is consistent with the input's namespace.\u001b[39;00m\n\u001b[0;32m    749\u001b[0m \u001b[38;5;28;01mreturn\u001b[39;00m xp\u001b[38;5;241m.\u001b[39masarray(array)\n",
      "File \u001b[1;32md:\\Development\\insurance\\venv\\lib\\site-packages\\pandas\\core\\generic.py:2152\u001b[0m, in \u001b[0;36mNDFrame.__array__\u001b[1;34m(self, dtype, copy)\u001b[0m\n\u001b[0;32m   2149\u001b[0m \u001b[38;5;28;01mdef\u001b[39;00m \u001b[38;5;21m__array__\u001b[39m(\n\u001b[0;32m   2150\u001b[0m     \u001b[38;5;28mself\u001b[39m, dtype: npt\u001b[38;5;241m.\u001b[39mDTypeLike \u001b[38;5;241m|\u001b[39m \u001b[38;5;28;01mNone\u001b[39;00m \u001b[38;5;241m=\u001b[39m \u001b[38;5;28;01mNone\u001b[39;00m, copy: bool_t \u001b[38;5;241m|\u001b[39m \u001b[38;5;28;01mNone\u001b[39;00m \u001b[38;5;241m=\u001b[39m \u001b[38;5;28;01mNone\u001b[39;00m\n\u001b[0;32m   2151\u001b[0m ) \u001b[38;5;241m-\u001b[39m\u001b[38;5;241m>\u001b[39m np\u001b[38;5;241m.\u001b[39mndarray:\n\u001b[1;32m-> 2152\u001b[0m     values \u001b[38;5;241m=\u001b[39m \u001b[38;5;28;43mself\u001b[39;49m\u001b[38;5;241;43m.\u001b[39;49m\u001b[43m_values\u001b[49m\n\u001b[0;32m   2153\u001b[0m     arr \u001b[38;5;241m=\u001b[39m np\u001b[38;5;241m.\u001b[39masarray(values, dtype\u001b[38;5;241m=\u001b[39mdtype)\n\u001b[0;32m   2154\u001b[0m     \u001b[38;5;28;01mif\u001b[39;00m (\n\u001b[0;32m   2155\u001b[0m         astype_is_view(values\u001b[38;5;241m.\u001b[39mdtype, arr\u001b[38;5;241m.\u001b[39mdtype)\n\u001b[0;32m   2156\u001b[0m         \u001b[38;5;129;01mand\u001b[39;00m using_copy_on_write()\n\u001b[0;32m   2157\u001b[0m         \u001b[38;5;129;01mand\u001b[39;00m \u001b[38;5;28mself\u001b[39m\u001b[38;5;241m.\u001b[39m_mgr\u001b[38;5;241m.\u001b[39mis_single_block\n\u001b[0;32m   2158\u001b[0m     ):\n\u001b[0;32m   2159\u001b[0m         \u001b[38;5;66;03m# Check if both conversions can be done without a copy\u001b[39;00m\n",
      "File \u001b[1;32md:\\Development\\insurance\\venv\\lib\\site-packages\\pandas\\core\\frame.py:1127\u001b[0m, in \u001b[0;36mDataFrame._values\u001b[1;34m(self)\u001b[0m\n\u001b[0;32m   1125\u001b[0m blocks \u001b[38;5;241m=\u001b[39m mgr\u001b[38;5;241m.\u001b[39mblocks\n\u001b[0;32m   1126\u001b[0m \u001b[38;5;28;01mif\u001b[39;00m \u001b[38;5;28mlen\u001b[39m(blocks) \u001b[38;5;241m!=\u001b[39m \u001b[38;5;241m1\u001b[39m:\n\u001b[1;32m-> 1127\u001b[0m     \u001b[38;5;28;01mreturn\u001b[39;00m ensure_wrapped_if_datetimelike(\u001b[38;5;28;43mself\u001b[39;49m\u001b[38;5;241;43m.\u001b[39;49m\u001b[43mvalues\u001b[49m)\n\u001b[0;32m   1129\u001b[0m arr \u001b[38;5;241m=\u001b[39m blocks[\u001b[38;5;241m0\u001b[39m]\u001b[38;5;241m.\u001b[39mvalues\n\u001b[0;32m   1130\u001b[0m \u001b[38;5;28;01mif\u001b[39;00m arr\u001b[38;5;241m.\u001b[39mndim \u001b[38;5;241m==\u001b[39m \u001b[38;5;241m1\u001b[39m:\n\u001b[0;32m   1131\u001b[0m     \u001b[38;5;66;03m# non-2D ExtensionArray\u001b[39;00m\n",
      "File \u001b[1;32md:\\Development\\insurance\\venv\\lib\\site-packages\\pandas\\core\\frame.py:12664\u001b[0m, in \u001b[0;36mDataFrame.values\u001b[1;34m(self)\u001b[0m\n\u001b[0;32m  12590\u001b[0m \u001b[38;5;129m@property\u001b[39m\n\u001b[0;32m  12591\u001b[0m \u001b[38;5;28;01mdef\u001b[39;00m \u001b[38;5;21mvalues\u001b[39m(\u001b[38;5;28mself\u001b[39m) \u001b[38;5;241m-\u001b[39m\u001b[38;5;241m>\u001b[39m np\u001b[38;5;241m.\u001b[39mndarray:\n\u001b[0;32m  12592\u001b[0m \u001b[38;5;250m    \u001b[39m\u001b[38;5;124;03m\"\"\"\u001b[39;00m\n\u001b[0;32m  12593\u001b[0m \u001b[38;5;124;03m    Return a Numpy representation of the DataFrame.\u001b[39;00m\n\u001b[0;32m  12594\u001b[0m \n\u001b[1;32m   (...)\u001b[0m\n\u001b[0;32m  12662\u001b[0m \u001b[38;5;124;03m           ['monkey', nan, None]], dtype=object)\u001b[39;00m\n\u001b[0;32m  12663\u001b[0m \u001b[38;5;124;03m    \"\"\"\u001b[39;00m\n\u001b[1;32m> 12664\u001b[0m     \u001b[38;5;28;01mreturn\u001b[39;00m \u001b[38;5;28;43mself\u001b[39;49m\u001b[38;5;241;43m.\u001b[39;49m\u001b[43m_mgr\u001b[49m\u001b[38;5;241;43m.\u001b[39;49m\u001b[43mas_array\u001b[49m\u001b[43m(\u001b[49m\u001b[43m)\u001b[49m\n",
      "File \u001b[1;32md:\\Development\\insurance\\venv\\lib\\site-packages\\pandas\\core\\internals\\managers.py:1694\u001b[0m, in \u001b[0;36mBlockManager.as_array\u001b[1;34m(self, dtype, copy, na_value)\u001b[0m\n\u001b[0;32m   1692\u001b[0m         arr\u001b[38;5;241m.\u001b[39mflags\u001b[38;5;241m.\u001b[39mwriteable \u001b[38;5;241m=\u001b[39m \u001b[38;5;28;01mFalse\u001b[39;00m\n\u001b[0;32m   1693\u001b[0m \u001b[38;5;28;01melse\u001b[39;00m:\n\u001b[1;32m-> 1694\u001b[0m     arr \u001b[38;5;241m=\u001b[39m \u001b[38;5;28;43mself\u001b[39;49m\u001b[38;5;241;43m.\u001b[39;49m\u001b[43m_interleave\u001b[49m\u001b[43m(\u001b[49m\u001b[43mdtype\u001b[49m\u001b[38;5;241;43m=\u001b[39;49m\u001b[43mdtype\u001b[49m\u001b[43m,\u001b[49m\u001b[43m \u001b[49m\u001b[43mna_value\u001b[49m\u001b[38;5;241;43m=\u001b[39;49m\u001b[43mna_value\u001b[49m\u001b[43m)\u001b[49m\n\u001b[0;32m   1695\u001b[0m     \u001b[38;5;66;03m# The underlying data was copied within _interleave, so no need\u001b[39;00m\n\u001b[0;32m   1696\u001b[0m     \u001b[38;5;66;03m# to further copy if copy=True or setting na_value\u001b[39;00m\n\u001b[0;32m   1698\u001b[0m \u001b[38;5;28;01mif\u001b[39;00m na_value \u001b[38;5;129;01mis\u001b[39;00m lib\u001b[38;5;241m.\u001b[39mno_default:\n",
      "File \u001b[1;32md:\\Development\\insurance\\venv\\lib\\site-packages\\pandas\\core\\internals\\managers.py:1735\u001b[0m, in \u001b[0;36mBlockManager._interleave\u001b[1;34m(self, dtype, na_value)\u001b[0m\n\u001b[0;32m   1733\u001b[0m \u001b[38;5;28;01mfor\u001b[39;00m blk \u001b[38;5;129;01min\u001b[39;00m \u001b[38;5;28mself\u001b[39m\u001b[38;5;241m.\u001b[39mblocks:\n\u001b[0;32m   1734\u001b[0m     rl \u001b[38;5;241m=\u001b[39m blk\u001b[38;5;241m.\u001b[39mmgr_locs\n\u001b[1;32m-> 1735\u001b[0m     arr \u001b[38;5;241m=\u001b[39m \u001b[43mblk\u001b[49m\u001b[38;5;241;43m.\u001b[39;49m\u001b[43mget_values\u001b[49m\u001b[43m(\u001b[49m\u001b[43mdtype\u001b[49m\u001b[43m)\u001b[49m\n\u001b[0;32m   1736\u001b[0m     result[rl\u001b[38;5;241m.\u001b[39mindexer] \u001b[38;5;241m=\u001b[39m arr\n\u001b[0;32m   1737\u001b[0m     itemmask[rl\u001b[38;5;241m.\u001b[39mindexer] \u001b[38;5;241m=\u001b[39m \u001b[38;5;241m1\u001b[39m\n",
      "File \u001b[1;32md:\\Development\\insurance\\venv\\lib\\site-packages\\pandas\\core\\internals\\blocks.py:2588\u001b[0m, in \u001b[0;36mNumpyBlock.get_values\u001b[1;34m(self, dtype)\u001b[0m\n\u001b[0;32m   2586\u001b[0m \u001b[38;5;28;01mdef\u001b[39;00m \u001b[38;5;21mget_values\u001b[39m(\u001b[38;5;28mself\u001b[39m, dtype: DtypeObj \u001b[38;5;241m|\u001b[39m \u001b[38;5;28;01mNone\u001b[39;00m \u001b[38;5;241m=\u001b[39m \u001b[38;5;28;01mNone\u001b[39;00m) \u001b[38;5;241m-\u001b[39m\u001b[38;5;241m>\u001b[39m np\u001b[38;5;241m.\u001b[39mndarray:\n\u001b[0;32m   2587\u001b[0m     \u001b[38;5;28;01mif\u001b[39;00m dtype \u001b[38;5;241m==\u001b[39m _dtype_obj:\n\u001b[1;32m-> 2588\u001b[0m         \u001b[38;5;28;01mreturn\u001b[39;00m \u001b[38;5;28;43mself\u001b[39;49m\u001b[38;5;241;43m.\u001b[39;49m\u001b[43mvalues\u001b[49m\u001b[38;5;241;43m.\u001b[39;49m\u001b[43mastype\u001b[49m\u001b[43m(\u001b[49m\u001b[43m_dtype_obj\u001b[49m\u001b[43m)\u001b[49m\n\u001b[0;32m   2589\u001b[0m     \u001b[38;5;28;01mreturn\u001b[39;00m \u001b[38;5;28mself\u001b[39m\u001b[38;5;241m.\u001b[39mvalues\n",
      "\u001b[1;31mKeyboardInterrupt\u001b[0m: "
     ]
    }
   ],
   "source": [
    "# Define a 60-40 split\n",
    "splitter = ShuffleSplit(n_splits=5, test_size=0.2, random_state=1)\n",
    "\n",
    "results = []\n",
    "for train_idx, val_idx in splitter.split(X_train):\n",
    "    print(\"Starting KNN\")\n",
    "    # Prepare data for KNN\n",
    "    X_train_fold, X_val_fold = X_train.iloc[train_idx], X_train.iloc[val_idx]\n",
    "    y_train_fold, y_val_fold = y_train.iloc[train_idx], y_train.iloc[val_idx]\n",
    "    \n",
    "    # Train model\n",
    "    preprocessing_pipeline = build_preprocessing_pipeline(train_data=X_train_fold, imputation_method=\"simple\", binning_method=\"opti-ohe\")\n",
    "\n",
    "    full_pipeline = Pipeline([\n",
    "        (\"preprocessing\", preprocessing_pipeline),\n",
    "        (\"model\", KNeighborsRegressor(n_neighbors=5))\n",
    "    ])\n",
    "    full_pipeline.fit(X_train_fold, y_train_fold)\n",
    "    \n",
    "    train_score = rmsle_metric(full_pipeline.predict(X_train_fold), y_train_fold)\n",
    "    val_score = rmsle_metric(full_pipeline.predict(X_val_fold), y_val_fold)\n",
    "\n",
    "    print(f\"Train: {train_score}, Test: {val_score}\")\n"
   ]
  },
  {
   "cell_type": "markdown",
   "metadata": {},
   "source": [
    "# Stacking "
   ]
  },
  {
   "cell_type": "code",
   "execution_count": 6,
   "metadata": {},
   "outputs": [
    {
     "name": "stdout",
     "output_type": "stream",
     "text": [
      "Starting\n"
     ]
    },
    {
     "name": "stderr",
     "output_type": "stream",
     "text": [
      "d:\\Development\\insurance\\venv\\lib\\site-packages\\xgboost\\core.py:158: UserWarning: [14:51:59] WARNING: C:\\buildkite-agent\\builds\\buildkite-windows-cpu-autoscaling-group-i-0c55ff5f71b100e98-1\\xgboost\\xgboost-ci-windows\\src\\common\\error_msg.cc:58: Falling back to prediction using DMatrix due to mismatched devices. This might lead to higher memory usage and slower performance. XGBoost is running on: cuda:0, while the input data is on: cpu.\n",
      "Potential solutions:\n",
      "- Use a data structure that matches the device ordinal in the booster.\n",
      "- Set the device for booster before call to inplace_predict.\n",
      "\n",
      "This warning will only be shown once.\n",
      "\n",
      "  warnings.warn(smsg, UserWarning)\n"
     ]
    },
    {
     "name": "stdout",
     "output_type": "stream",
     "text": [
      "Train: 1.050891923260523, Test: 1.0508617796438644\n",
      "Starting\n"
     ]
    }
   ],
   "source": [
    "results = []\n",
    "for train_idx, val_idx in splitter.split(X_train):\n",
    "    print(\"Starting\")\n",
    "    # Prepare data for LightGBM\n",
    "    X_train_fold, X_val_fold = X_train.iloc[train_idx], X_train.iloc[val_idx]\n",
    "    y_train_fold, y_val_fold = y_train.iloc[train_idx], y_train.iloc[val_idx]\n",
    "    \n",
    "    y_train_fold = np.log1p(y_train_fold)\n",
    "    y_val_fold = np.log1p(y_val_fold)\n",
    "\n",
    "    categorical_features = [col for col in X_train_fold.columns if X_train_fold[col].dtype == \"category\"]\n",
    "    \n",
    "    catboost_model = Pipeline([\n",
    "        (\"categorical_to_string\", CategoricalToStringTransformer()),\n",
    "        (\"model\",CatBoostRegressor(iterations=100,\n",
    "                          early_stopping_rounds=10,\n",
    "                          grow_policy = 'Depthwise',\n",
    "                          depth=8,\n",
    "                          cat_features=categorical_features,\n",
    "                          random_state=42,\n",
    "                          l2_leaf_reg = 1,\n",
    "                          learning_rate=0.03,verbose=0))\n",
    "    ])\n",
    "\n",
    "    linear_model_pipeline = Pipeline([\n",
    "        (\"preprocessing\", build_preprocessing_pipeline(train_data=X_train_fold, imputation_method=\"simple\", binning_method=\"opti-means\", categorical_to_string=True)),\n",
    "        (\"model\", LinearRegression())\n",
    "    ])\n",
    "    \n",
    "    hist_pipeline = Pipeline([\n",
    "        (\"preprocessing\", build_preprocessing_pipeline(train_data=X_train_fold, imputation_method=\"simple\", categorical_to_string=True)),\n",
    "        (\"model\", HistGradientBoostingRegressor())\n",
    "    ])\n",
    "    \n",
    "    xgboost = xgb.XGBRegressor(enable_categorical=True, eta=0.1, colsample_bytree=0.9, n_estimators=100, device=\"cuda\", tree_method=\"hist\")\n",
    "    xgboost_rf = xgb.XGBRFRegressor(enable_categorical=True, eta=0.1, colsample_bytree=0.9, n_estimators=100, device=\"cuda\", tree_method=\"hist\")\n",
    "    lgbm = LGBMRegressor(learning_rate=0.1, colsample_bytree=0.9, n_estimators=100)\n",
    "\n",
    "    stack_model = StackingRegressor(\n",
    "        estimators=[\n",
    "            (\"linear_model\", linear_model_pipeline),\n",
    "            (\"xgboost\", xgboost),\n",
    "            (\"xgboost_rf\", xgboost_rf),\n",
    "            (\"lgbm\", lgbm),\n",
    "            (\"catboost\", catboost_model)\n",
    "        ],\n",
    "        final_estimator=xgb.XGBRegressor(enable_categorical=True, eta=0.01, colsample_bytree=0.9, n_estimators=100, device=\"cuda\", tree_method=\"hist\"),\n",
    "        n_jobs=-1\n",
    "    )\n",
    "\n",
    "    stack_model.fit(X_train_fold, y_train_fold)\n",
    "\n",
    "    train_score = root_mean_squared_log_error(np.expm1(stack_model.predict(X_train_fold)), np.expm1(y_train_fold))\n",
    "    val_score = root_mean_squared_log_error(np.expm1(stack_model.predict(X_val_fold)), np.expm1(y_val_fold))\n",
    "\n",
    "    print(f\"Train: {train_score}, Test: {val_score}\")"
   ]
  },
  {
   "cell_type": "code",
   "execution_count": 15,
   "metadata": {},
   "outputs": [
    {
     "name": "stdout",
     "output_type": "stream",
     "text": [
      "Using cached preprocessor\n"
     ]
    },
    {
     "data": {
      "text/html": [
       "<style>#sk-container-id-4 {\n",
       "  /* Definition of color scheme common for light and dark mode */\n",
       "  --sklearn-color-text: black;\n",
       "  --sklearn-color-line: gray;\n",
       "  /* Definition of color scheme for unfitted estimators */\n",
       "  --sklearn-color-unfitted-level-0: #fff5e6;\n",
       "  --sklearn-color-unfitted-level-1: #f6e4d2;\n",
       "  --sklearn-color-unfitted-level-2: #ffe0b3;\n",
       "  --sklearn-color-unfitted-level-3: chocolate;\n",
       "  /* Definition of color scheme for fitted estimators */\n",
       "  --sklearn-color-fitted-level-0: #f0f8ff;\n",
       "  --sklearn-color-fitted-level-1: #d4ebff;\n",
       "  --sklearn-color-fitted-level-2: #b3dbfd;\n",
       "  --sklearn-color-fitted-level-3: cornflowerblue;\n",
       "\n",
       "  /* Specific color for light theme */\n",
       "  --sklearn-color-text-on-default-background: var(--sg-text-color, var(--theme-code-foreground, var(--jp-content-font-color1, black)));\n",
       "  --sklearn-color-background: var(--sg-background-color, var(--theme-background, var(--jp-layout-color0, white)));\n",
       "  --sklearn-color-border-box: var(--sg-text-color, var(--theme-code-foreground, var(--jp-content-font-color1, black)));\n",
       "  --sklearn-color-icon: #696969;\n",
       "\n",
       "  @media (prefers-color-scheme: dark) {\n",
       "    /* Redefinition of color scheme for dark theme */\n",
       "    --sklearn-color-text-on-default-background: var(--sg-text-color, var(--theme-code-foreground, var(--jp-content-font-color1, white)));\n",
       "    --sklearn-color-background: var(--sg-background-color, var(--theme-background, var(--jp-layout-color0, #111)));\n",
       "    --sklearn-color-border-box: var(--sg-text-color, var(--theme-code-foreground, var(--jp-content-font-color1, white)));\n",
       "    --sklearn-color-icon: #878787;\n",
       "  }\n",
       "}\n",
       "\n",
       "#sk-container-id-4 {\n",
       "  color: var(--sklearn-color-text);\n",
       "}\n",
       "\n",
       "#sk-container-id-4 pre {\n",
       "  padding: 0;\n",
       "}\n",
       "\n",
       "#sk-container-id-4 input.sk-hidden--visually {\n",
       "  border: 0;\n",
       "  clip: rect(1px 1px 1px 1px);\n",
       "  clip: rect(1px, 1px, 1px, 1px);\n",
       "  height: 1px;\n",
       "  margin: -1px;\n",
       "  overflow: hidden;\n",
       "  padding: 0;\n",
       "  position: absolute;\n",
       "  width: 1px;\n",
       "}\n",
       "\n",
       "#sk-container-id-4 div.sk-dashed-wrapped {\n",
       "  border: 1px dashed var(--sklearn-color-line);\n",
       "  margin: 0 0.4em 0.5em 0.4em;\n",
       "  box-sizing: border-box;\n",
       "  padding-bottom: 0.4em;\n",
       "  background-color: var(--sklearn-color-background);\n",
       "}\n",
       "\n",
       "#sk-container-id-4 div.sk-container {\n",
       "  /* jupyter's `normalize.less` sets `[hidden] { display: none; }`\n",
       "     but bootstrap.min.css set `[hidden] { display: none !important; }`\n",
       "     so we also need the `!important` here to be able to override the\n",
       "     default hidden behavior on the sphinx rendered scikit-learn.org.\n",
       "     See: https://github.com/scikit-learn/scikit-learn/issues/21755 */\n",
       "  display: inline-block !important;\n",
       "  position: relative;\n",
       "}\n",
       "\n",
       "#sk-container-id-4 div.sk-text-repr-fallback {\n",
       "  display: none;\n",
       "}\n",
       "\n",
       "div.sk-parallel-item,\n",
       "div.sk-serial,\n",
       "div.sk-item {\n",
       "  /* draw centered vertical line to link estimators */\n",
       "  background-image: linear-gradient(var(--sklearn-color-text-on-default-background), var(--sklearn-color-text-on-default-background));\n",
       "  background-size: 2px 100%;\n",
       "  background-repeat: no-repeat;\n",
       "  background-position: center center;\n",
       "}\n",
       "\n",
       "/* Parallel-specific style estimator block */\n",
       "\n",
       "#sk-container-id-4 div.sk-parallel-item::after {\n",
       "  content: \"\";\n",
       "  width: 100%;\n",
       "  border-bottom: 2px solid var(--sklearn-color-text-on-default-background);\n",
       "  flex-grow: 1;\n",
       "}\n",
       "\n",
       "#sk-container-id-4 div.sk-parallel {\n",
       "  display: flex;\n",
       "  align-items: stretch;\n",
       "  justify-content: center;\n",
       "  background-color: var(--sklearn-color-background);\n",
       "  position: relative;\n",
       "}\n",
       "\n",
       "#sk-container-id-4 div.sk-parallel-item {\n",
       "  display: flex;\n",
       "  flex-direction: column;\n",
       "}\n",
       "\n",
       "#sk-container-id-4 div.sk-parallel-item:first-child::after {\n",
       "  align-self: flex-end;\n",
       "  width: 50%;\n",
       "}\n",
       "\n",
       "#sk-container-id-4 div.sk-parallel-item:last-child::after {\n",
       "  align-self: flex-start;\n",
       "  width: 50%;\n",
       "}\n",
       "\n",
       "#sk-container-id-4 div.sk-parallel-item:only-child::after {\n",
       "  width: 0;\n",
       "}\n",
       "\n",
       "/* Serial-specific style estimator block */\n",
       "\n",
       "#sk-container-id-4 div.sk-serial {\n",
       "  display: flex;\n",
       "  flex-direction: column;\n",
       "  align-items: center;\n",
       "  background-color: var(--sklearn-color-background);\n",
       "  padding-right: 1em;\n",
       "  padding-left: 1em;\n",
       "}\n",
       "\n",
       "\n",
       "/* Toggleable style: style used for estimator/Pipeline/ColumnTransformer box that is\n",
       "clickable and can be expanded/collapsed.\n",
       "- Pipeline and ColumnTransformer use this feature and define the default style\n",
       "- Estimators will overwrite some part of the style using the `sk-estimator` class\n",
       "*/\n",
       "\n",
       "/* Pipeline and ColumnTransformer style (default) */\n",
       "\n",
       "#sk-container-id-4 div.sk-toggleable {\n",
       "  /* Default theme specific background. It is overwritten whether we have a\n",
       "  specific estimator or a Pipeline/ColumnTransformer */\n",
       "  background-color: var(--sklearn-color-background);\n",
       "}\n",
       "\n",
       "/* Toggleable label */\n",
       "#sk-container-id-4 label.sk-toggleable__label {\n",
       "  cursor: pointer;\n",
       "  display: block;\n",
       "  width: 100%;\n",
       "  margin-bottom: 0;\n",
       "  padding: 0.5em;\n",
       "  box-sizing: border-box;\n",
       "  text-align: center;\n",
       "}\n",
       "\n",
       "#sk-container-id-4 label.sk-toggleable__label-arrow:before {\n",
       "  /* Arrow on the left of the label */\n",
       "  content: \"▸\";\n",
       "  float: left;\n",
       "  margin-right: 0.25em;\n",
       "  color: var(--sklearn-color-icon);\n",
       "}\n",
       "\n",
       "#sk-container-id-4 label.sk-toggleable__label-arrow:hover:before {\n",
       "  color: var(--sklearn-color-text);\n",
       "}\n",
       "\n",
       "/* Toggleable content - dropdown */\n",
       "\n",
       "#sk-container-id-4 div.sk-toggleable__content {\n",
       "  max-height: 0;\n",
       "  max-width: 0;\n",
       "  overflow: hidden;\n",
       "  text-align: left;\n",
       "  /* unfitted */\n",
       "  background-color: var(--sklearn-color-unfitted-level-0);\n",
       "}\n",
       "\n",
       "#sk-container-id-4 div.sk-toggleable__content.fitted {\n",
       "  /* fitted */\n",
       "  background-color: var(--sklearn-color-fitted-level-0);\n",
       "}\n",
       "\n",
       "#sk-container-id-4 div.sk-toggleable__content pre {\n",
       "  margin: 0.2em;\n",
       "  border-radius: 0.25em;\n",
       "  color: var(--sklearn-color-text);\n",
       "  /* unfitted */\n",
       "  background-color: var(--sklearn-color-unfitted-level-0);\n",
       "}\n",
       "\n",
       "#sk-container-id-4 div.sk-toggleable__content.fitted pre {\n",
       "  /* unfitted */\n",
       "  background-color: var(--sklearn-color-fitted-level-0);\n",
       "}\n",
       "\n",
       "#sk-container-id-4 input.sk-toggleable__control:checked~div.sk-toggleable__content {\n",
       "  /* Expand drop-down */\n",
       "  max-height: 200px;\n",
       "  max-width: 100%;\n",
       "  overflow: auto;\n",
       "}\n",
       "\n",
       "#sk-container-id-4 input.sk-toggleable__control:checked~label.sk-toggleable__label-arrow:before {\n",
       "  content: \"▾\";\n",
       "}\n",
       "\n",
       "/* Pipeline/ColumnTransformer-specific style */\n",
       "\n",
       "#sk-container-id-4 div.sk-label input.sk-toggleable__control:checked~label.sk-toggleable__label {\n",
       "  color: var(--sklearn-color-text);\n",
       "  background-color: var(--sklearn-color-unfitted-level-2);\n",
       "}\n",
       "\n",
       "#sk-container-id-4 div.sk-label.fitted input.sk-toggleable__control:checked~label.sk-toggleable__label {\n",
       "  background-color: var(--sklearn-color-fitted-level-2);\n",
       "}\n",
       "\n",
       "/* Estimator-specific style */\n",
       "\n",
       "/* Colorize estimator box */\n",
       "#sk-container-id-4 div.sk-estimator input.sk-toggleable__control:checked~label.sk-toggleable__label {\n",
       "  /* unfitted */\n",
       "  background-color: var(--sklearn-color-unfitted-level-2);\n",
       "}\n",
       "\n",
       "#sk-container-id-4 div.sk-estimator.fitted input.sk-toggleable__control:checked~label.sk-toggleable__label {\n",
       "  /* fitted */\n",
       "  background-color: var(--sklearn-color-fitted-level-2);\n",
       "}\n",
       "\n",
       "#sk-container-id-4 div.sk-label label.sk-toggleable__label,\n",
       "#sk-container-id-4 div.sk-label label {\n",
       "  /* The background is the default theme color */\n",
       "  color: var(--sklearn-color-text-on-default-background);\n",
       "}\n",
       "\n",
       "/* On hover, darken the color of the background */\n",
       "#sk-container-id-4 div.sk-label:hover label.sk-toggleable__label {\n",
       "  color: var(--sklearn-color-text);\n",
       "  background-color: var(--sklearn-color-unfitted-level-2);\n",
       "}\n",
       "\n",
       "/* Label box, darken color on hover, fitted */\n",
       "#sk-container-id-4 div.sk-label.fitted:hover label.sk-toggleable__label.fitted {\n",
       "  color: var(--sklearn-color-text);\n",
       "  background-color: var(--sklearn-color-fitted-level-2);\n",
       "}\n",
       "\n",
       "/* Estimator label */\n",
       "\n",
       "#sk-container-id-4 div.sk-label label {\n",
       "  font-family: monospace;\n",
       "  font-weight: bold;\n",
       "  display: inline-block;\n",
       "  line-height: 1.2em;\n",
       "}\n",
       "\n",
       "#sk-container-id-4 div.sk-label-container {\n",
       "  text-align: center;\n",
       "}\n",
       "\n",
       "/* Estimator-specific */\n",
       "#sk-container-id-4 div.sk-estimator {\n",
       "  font-family: monospace;\n",
       "  border: 1px dotted var(--sklearn-color-border-box);\n",
       "  border-radius: 0.25em;\n",
       "  box-sizing: border-box;\n",
       "  margin-bottom: 0.5em;\n",
       "  /* unfitted */\n",
       "  background-color: var(--sklearn-color-unfitted-level-0);\n",
       "}\n",
       "\n",
       "#sk-container-id-4 div.sk-estimator.fitted {\n",
       "  /* fitted */\n",
       "  background-color: var(--sklearn-color-fitted-level-0);\n",
       "}\n",
       "\n",
       "/* on hover */\n",
       "#sk-container-id-4 div.sk-estimator:hover {\n",
       "  /* unfitted */\n",
       "  background-color: var(--sklearn-color-unfitted-level-2);\n",
       "}\n",
       "\n",
       "#sk-container-id-4 div.sk-estimator.fitted:hover {\n",
       "  /* fitted */\n",
       "  background-color: var(--sklearn-color-fitted-level-2);\n",
       "}\n",
       "\n",
       "/* Specification for estimator info (e.g. \"i\" and \"?\") */\n",
       "\n",
       "/* Common style for \"i\" and \"?\" */\n",
       "\n",
       ".sk-estimator-doc-link,\n",
       "a:link.sk-estimator-doc-link,\n",
       "a:visited.sk-estimator-doc-link {\n",
       "  float: right;\n",
       "  font-size: smaller;\n",
       "  line-height: 1em;\n",
       "  font-family: monospace;\n",
       "  background-color: var(--sklearn-color-background);\n",
       "  border-radius: 1em;\n",
       "  height: 1em;\n",
       "  width: 1em;\n",
       "  text-decoration: none !important;\n",
       "  margin-left: 1ex;\n",
       "  /* unfitted */\n",
       "  border: var(--sklearn-color-unfitted-level-1) 1pt solid;\n",
       "  color: var(--sklearn-color-unfitted-level-1);\n",
       "}\n",
       "\n",
       ".sk-estimator-doc-link.fitted,\n",
       "a:link.sk-estimator-doc-link.fitted,\n",
       "a:visited.sk-estimator-doc-link.fitted {\n",
       "  /* fitted */\n",
       "  border: var(--sklearn-color-fitted-level-1) 1pt solid;\n",
       "  color: var(--sklearn-color-fitted-level-1);\n",
       "}\n",
       "\n",
       "/* On hover */\n",
       "div.sk-estimator:hover .sk-estimator-doc-link:hover,\n",
       ".sk-estimator-doc-link:hover,\n",
       "div.sk-label-container:hover .sk-estimator-doc-link:hover,\n",
       ".sk-estimator-doc-link:hover {\n",
       "  /* unfitted */\n",
       "  background-color: var(--sklearn-color-unfitted-level-3);\n",
       "  color: var(--sklearn-color-background);\n",
       "  text-decoration: none;\n",
       "}\n",
       "\n",
       "div.sk-estimator.fitted:hover .sk-estimator-doc-link.fitted:hover,\n",
       ".sk-estimator-doc-link.fitted:hover,\n",
       "div.sk-label-container:hover .sk-estimator-doc-link.fitted:hover,\n",
       ".sk-estimator-doc-link.fitted:hover {\n",
       "  /* fitted */\n",
       "  background-color: var(--sklearn-color-fitted-level-3);\n",
       "  color: var(--sklearn-color-background);\n",
       "  text-decoration: none;\n",
       "}\n",
       "\n",
       "/* Span, style for the box shown on hovering the info icon */\n",
       ".sk-estimator-doc-link span {\n",
       "  display: none;\n",
       "  z-index: 9999;\n",
       "  position: relative;\n",
       "  font-weight: normal;\n",
       "  right: .2ex;\n",
       "  padding: .5ex;\n",
       "  margin: .5ex;\n",
       "  width: min-content;\n",
       "  min-width: 20ex;\n",
       "  max-width: 50ex;\n",
       "  color: var(--sklearn-color-text);\n",
       "  box-shadow: 2pt 2pt 4pt #999;\n",
       "  /* unfitted */\n",
       "  background: var(--sklearn-color-unfitted-level-0);\n",
       "  border: .5pt solid var(--sklearn-color-unfitted-level-3);\n",
       "}\n",
       "\n",
       ".sk-estimator-doc-link.fitted span {\n",
       "  /* fitted */\n",
       "  background: var(--sklearn-color-fitted-level-0);\n",
       "  border: var(--sklearn-color-fitted-level-3);\n",
       "}\n",
       "\n",
       ".sk-estimator-doc-link:hover span {\n",
       "  display: block;\n",
       "}\n",
       "\n",
       "/* \"?\"-specific style due to the `<a>` HTML tag */\n",
       "\n",
       "#sk-container-id-4 a.estimator_doc_link {\n",
       "  float: right;\n",
       "  font-size: 1rem;\n",
       "  line-height: 1em;\n",
       "  font-family: monospace;\n",
       "  background-color: var(--sklearn-color-background);\n",
       "  border-radius: 1rem;\n",
       "  height: 1rem;\n",
       "  width: 1rem;\n",
       "  text-decoration: none;\n",
       "  /* unfitted */\n",
       "  color: var(--sklearn-color-unfitted-level-1);\n",
       "  border: var(--sklearn-color-unfitted-level-1) 1pt solid;\n",
       "}\n",
       "\n",
       "#sk-container-id-4 a.estimator_doc_link.fitted {\n",
       "  /* fitted */\n",
       "  border: var(--sklearn-color-fitted-level-1) 1pt solid;\n",
       "  color: var(--sklearn-color-fitted-level-1);\n",
       "}\n",
       "\n",
       "/* On hover */\n",
       "#sk-container-id-4 a.estimator_doc_link:hover {\n",
       "  /* unfitted */\n",
       "  background-color: var(--sklearn-color-unfitted-level-3);\n",
       "  color: var(--sklearn-color-background);\n",
       "  text-decoration: none;\n",
       "}\n",
       "\n",
       "#sk-container-id-4 a.estimator_doc_link.fitted:hover {\n",
       "  /* fitted */\n",
       "  background-color: var(--sklearn-color-fitted-level-3);\n",
       "}\n",
       "</style><div id=\"sk-container-id-4\" class=\"sk-top-container\"><div class=\"sk-text-repr-fallback\"><pre>Pipeline(steps=[(&#x27;preprocessing&#x27;,\n",
       "                 CachedPreprocessor(cache={&#x27;2ef144eb4dd9820d23cbd1f947a28dd04389d6b6d307f8dcd7e8f1a831f3b991&#x27;: Pipeline(steps=[(&#x27;preprocessor&#x27;,\n",
       "                                                                                                                                ColumnTransformer(transformers=[(&#x27;onehot&#x27;,\n",
       "                                                                                                                                                                 Pipeline(steps=[(&#x27;ohe_imputer&#x27;,\n",
       "                                                                                                                                                                                  SimpleImputer(strategy=&#x27;most_frequent&#x27;)),\n",
       "                                                                                                                                                                                 (&#x27;ohe&#x27;,\n",
       "                                                                                                                                                                                  OneHotEncoder(drop=&#x27;first&#x27;,\n",
       "                                                                                                                                                                                                handle_unknown=&#x27;ignore&#x27;,\n",
       "                                                                                                                                                                                                sparse_output=False)...\n",
       "                              feature_types=None, gamma=None, grow_policy=None,\n",
       "                              importance_type=None,\n",
       "                              interaction_constraints=None, learning_rate=None,\n",
       "                              max_bin=None, max_cat_threshold=None,\n",
       "                              max_cat_to_onehot=None, max_delta_step=None,\n",
       "                              max_depth=None, max_leaves=None,\n",
       "                              min_child_weight=None, missing=nan,\n",
       "                              monotone_constraints=None, multi_strategy=None,\n",
       "                              n_estimators=None, n_jobs=None,\n",
       "                              num_parallel_tree=None, random_state=None, ...))])</pre><b>In a Jupyter environment, please rerun this cell to show the HTML representation or trust the notebook. <br />On GitHub, the HTML representation is unable to render, please try loading this page with nbviewer.org.</b></div><div class=\"sk-container\" hidden><div class=\"sk-item sk-dashed-wrapped\"><div class=\"sk-label-container\"><div class=\"sk-label fitted sk-toggleable\"><input class=\"sk-toggleable__control sk-hidden--visually\" id=\"sk-estimator-id-64\" type=\"checkbox\" ><label for=\"sk-estimator-id-64\" class=\"sk-toggleable__label fitted sk-toggleable__label-arrow fitted\">&nbsp;&nbsp;Pipeline<a class=\"sk-estimator-doc-link fitted\" rel=\"noreferrer\" target=\"_blank\" href=\"https://scikit-learn.org/1.5/modules/generated/sklearn.pipeline.Pipeline.html\">?<span>Documentation for Pipeline</span></a><span class=\"sk-estimator-doc-link fitted\">i<span>Fitted</span></span></label><div class=\"sk-toggleable__content fitted\"><pre>Pipeline(steps=[(&#x27;preprocessing&#x27;,\n",
       "                 CachedPreprocessor(cache={&#x27;2ef144eb4dd9820d23cbd1f947a28dd04389d6b6d307f8dcd7e8f1a831f3b991&#x27;: Pipeline(steps=[(&#x27;preprocessor&#x27;,\n",
       "                                                                                                                                ColumnTransformer(transformers=[(&#x27;onehot&#x27;,\n",
       "                                                                                                                                                                 Pipeline(steps=[(&#x27;ohe_imputer&#x27;,\n",
       "                                                                                                                                                                                  SimpleImputer(strategy=&#x27;most_frequent&#x27;)),\n",
       "                                                                                                                                                                                 (&#x27;ohe&#x27;,\n",
       "                                                                                                                                                                                  OneHotEncoder(drop=&#x27;first&#x27;,\n",
       "                                                                                                                                                                                                handle_unknown=&#x27;ignore&#x27;,\n",
       "                                                                                                                                                                                                sparse_output=False)...\n",
       "                              feature_types=None, gamma=None, grow_policy=None,\n",
       "                              importance_type=None,\n",
       "                              interaction_constraints=None, learning_rate=None,\n",
       "                              max_bin=None, max_cat_threshold=None,\n",
       "                              max_cat_to_onehot=None, max_delta_step=None,\n",
       "                              max_depth=None, max_leaves=None,\n",
       "                              min_child_weight=None, missing=nan,\n",
       "                              monotone_constraints=None, multi_strategy=None,\n",
       "                              n_estimators=None, n_jobs=None,\n",
       "                              num_parallel_tree=None, random_state=None, ...))])</pre></div> </div></div><div class=\"sk-serial\"><div class=\"sk-item sk-dashed-wrapped\"><div class=\"sk-label-container\"><div class=\"sk-label fitted sk-toggleable\"><input class=\"sk-toggleable__control sk-hidden--visually\" id=\"sk-estimator-id-65\" type=\"checkbox\" ><label for=\"sk-estimator-id-65\" class=\"sk-toggleable__label fitted sk-toggleable__label-arrow fitted\">preprocessing: CachedPreprocessor</label><div class=\"sk-toggleable__content fitted\"><pre>CachedPreprocessor(cache={&#x27;2ef144eb4dd9820d23cbd1f947a28dd04389d6b6d307f8dcd7e8f1a831f3b991&#x27;: Pipeline(steps=[(&#x27;preprocessor&#x27;,\n",
       "                                                                                                               ColumnTransformer(transformers=[(&#x27;onehot&#x27;,\n",
       "                                                                                                                                                Pipeline(steps=[(&#x27;ohe_imputer&#x27;,\n",
       "                                                                                                                                                                 SimpleImputer(strategy=&#x27;most_frequent&#x27;)),\n",
       "                                                                                                                                                                (&#x27;ohe&#x27;,\n",
       "                                                                                                                                                                 OneHotEncoder(drop=&#x27;first&#x27;,\n",
       "                                                                                                                                                                               handle_unknown=&#x27;ignore&#x27;,\n",
       "                                                                                                                                                                               sparse_output=False))]),\n",
       "                                                                                                                                                Index([&#x27;Gender&#x27;, &#x27;Marital Statu...\n",
       "                                                                                  Index([&#x27;Age&#x27;, &#x27;Annual Income&#x27;, &#x27;Number of Dependents&#x27;, &#x27;Health Score&#x27;,\n",
       "       &#x27;Previous Claims&#x27;, &#x27;Vehicle Age&#x27;, &#x27;Credit Score&#x27;, &#x27;Insurance Duration&#x27;,\n",
       "       &#x27;Premium Amount&#x27;, &#x27;Customer Tenure&#x27;, &#x27;Claim Frequency&#x27;,\n",
       "       &#x27;Policy Start Year&#x27;, &#x27;Policy Start Month&#x27;, &#x27;Policy Start Day&#x27;,\n",
       "       &#x27;Policy Start Hour&#x27;, &#x27;Policy Start Minute&#x27;, &#x27;Policy Start Second&#x27;,\n",
       "       &#x27;Annual Income log 10&#x27;, &#x27;Previous Claims log&#x27;, &#x27;Null columns&#x27;],\n",
       "      dtype=&#x27;object&#x27;))],\n",
       "                                                                   verbose_feature_names_out=False))]))</pre></div> </div></div><div class=\"sk-parallel\"><div class=\"sk-parallel-item\"><div class=\"sk-item\"><div class=\"sk-label-container\"><div class=\"sk-label fitted sk-toggleable\"><input class=\"sk-toggleable__control sk-hidden--visually\" id=\"sk-estimator-id-66\" type=\"checkbox\" ><label for=\"sk-estimator-id-66\" class=\"sk-toggleable__label fitted sk-toggleable__label-arrow fitted\">preprocessor: Pipeline</label><div class=\"sk-toggleable__content fitted\"><pre>Pipeline(steps=[(&#x27;preprocessor&#x27;,\n",
       "                 ColumnTransformer(transformers=[(&#x27;onehot&#x27;,\n",
       "                                                  Pipeline(steps=[(&#x27;ohe_imputer&#x27;,\n",
       "                                                                   SimpleImputer(strategy=&#x27;most_frequent&#x27;)),\n",
       "                                                                  (&#x27;ohe&#x27;,\n",
       "                                                                   OneHotEncoder(drop=&#x27;first&#x27;,\n",
       "                                                                                 handle_unknown=&#x27;ignore&#x27;,\n",
       "                                                                                 sparse_output=False))]),\n",
       "                                                  Index([&#x27;Gender&#x27;, &#x27;Marital Status&#x27;, &#x27;Education Level&#x27;, &#x27;Occupation&#x27;, &#x27;Location&#x27;,\n",
       "       &#x27;Policy Type&#x27;, &#x27;Customer Feedback&#x27;, &#x27;Smoking Status&#x27;,\n",
       "       &#x27;...\n",
       "                                                  Index([&#x27;Age&#x27;, &#x27;Annual Income&#x27;, &#x27;Number of Dependents&#x27;, &#x27;Health Score&#x27;,\n",
       "       &#x27;Previous Claims&#x27;, &#x27;Vehicle Age&#x27;, &#x27;Credit Score&#x27;, &#x27;Insurance Duration&#x27;,\n",
       "       &#x27;Premium Amount&#x27;, &#x27;Customer Tenure&#x27;, &#x27;Claim Frequency&#x27;,\n",
       "       &#x27;Policy Start Year&#x27;, &#x27;Policy Start Month&#x27;, &#x27;Policy Start Day&#x27;,\n",
       "       &#x27;Policy Start Hour&#x27;, &#x27;Policy Start Minute&#x27;, &#x27;Policy Start Second&#x27;,\n",
       "       &#x27;Annual Income log 10&#x27;, &#x27;Previous Claims log&#x27;, &#x27;Null columns&#x27;],\n",
       "      dtype=&#x27;object&#x27;))],\n",
       "                                   verbose_feature_names_out=False))])</pre></div> </div></div><div class=\"sk-serial\"><div class=\"sk-item\"><div class=\"sk-serial\"><div class=\"sk-item sk-dashed-wrapped\"><div class=\"sk-label-container\"><div class=\"sk-label fitted sk-toggleable\"><input class=\"sk-toggleable__control sk-hidden--visually\" id=\"sk-estimator-id-67\" type=\"checkbox\" ><label for=\"sk-estimator-id-67\" class=\"sk-toggleable__label fitted sk-toggleable__label-arrow fitted\">&nbsp;preprocessor: ColumnTransformer<a class=\"sk-estimator-doc-link fitted\" rel=\"noreferrer\" target=\"_blank\" href=\"https://scikit-learn.org/1.5/modules/generated/sklearn.compose.ColumnTransformer.html\">?<span>Documentation for preprocessor: ColumnTransformer</span></a></label><div class=\"sk-toggleable__content fitted\"><pre>ColumnTransformer(transformers=[(&#x27;onehot&#x27;,\n",
       "                                 Pipeline(steps=[(&#x27;ohe_imputer&#x27;,\n",
       "                                                  SimpleImputer(strategy=&#x27;most_frequent&#x27;)),\n",
       "                                                 (&#x27;ohe&#x27;,\n",
       "                                                  OneHotEncoder(drop=&#x27;first&#x27;,\n",
       "                                                                handle_unknown=&#x27;ignore&#x27;,\n",
       "                                                                sparse_output=False))]),\n",
       "                                 Index([&#x27;Gender&#x27;, &#x27;Marital Status&#x27;, &#x27;Education Level&#x27;, &#x27;Occupation&#x27;, &#x27;Location&#x27;,\n",
       "       &#x27;Policy Type&#x27;, &#x27;Customer Feedback&#x27;, &#x27;Smoking Status&#x27;,\n",
       "       &#x27;Exercise Frequency&#x27;, &#x27;Property Type...\n",
       "                                 Index([&#x27;Age&#x27;, &#x27;Annual Income&#x27;, &#x27;Number of Dependents&#x27;, &#x27;Health Score&#x27;,\n",
       "       &#x27;Previous Claims&#x27;, &#x27;Vehicle Age&#x27;, &#x27;Credit Score&#x27;, &#x27;Insurance Duration&#x27;,\n",
       "       &#x27;Premium Amount&#x27;, &#x27;Customer Tenure&#x27;, &#x27;Claim Frequency&#x27;,\n",
       "       &#x27;Policy Start Year&#x27;, &#x27;Policy Start Month&#x27;, &#x27;Policy Start Day&#x27;,\n",
       "       &#x27;Policy Start Hour&#x27;, &#x27;Policy Start Minute&#x27;, &#x27;Policy Start Second&#x27;,\n",
       "       &#x27;Annual Income log 10&#x27;, &#x27;Previous Claims log&#x27;, &#x27;Null columns&#x27;],\n",
       "      dtype=&#x27;object&#x27;))],\n",
       "                  verbose_feature_names_out=False)</pre></div> </div></div><div class=\"sk-parallel\"><div class=\"sk-parallel-item\"><div class=\"sk-item\"><div class=\"sk-label-container\"><div class=\"sk-label fitted sk-toggleable\"><input class=\"sk-toggleable__control sk-hidden--visually\" id=\"sk-estimator-id-68\" type=\"checkbox\" ><label for=\"sk-estimator-id-68\" class=\"sk-toggleable__label fitted sk-toggleable__label-arrow fitted\">onehot</label><div class=\"sk-toggleable__content fitted\"><pre>Index([&#x27;Gender&#x27;, &#x27;Marital Status&#x27;, &#x27;Education Level&#x27;, &#x27;Occupation&#x27;, &#x27;Location&#x27;,\n",
       "       &#x27;Policy Type&#x27;, &#x27;Customer Feedback&#x27;, &#x27;Smoking Status&#x27;,\n",
       "       &#x27;Exercise Frequency&#x27;, &#x27;Property Type&#x27;, &#x27;Age_null&#x27;, &#x27;Gender_null&#x27;,\n",
       "       &#x27;Annual Income_null&#x27;, &#x27;Marital Status_null&#x27;,\n",
       "       &#x27;Number of Dependents_null&#x27;, &#x27;Education Level_null&#x27;, &#x27;Occupation_null&#x27;,\n",
       "       &#x27;Health Score_null&#x27;, &#x27;Location_null&#x27;, &#x27;Policy Type_null&#x27;,\n",
       "       &#x27;Previous Claims_null&#x27;, &#x27;Vehicle Age_null&#x27;, &#x27;Credit Score_null&#x27;,\n",
       "       &#x27;Insurance Duration_null&#x27;, &#x27;Customer Feedback_null&#x27;,\n",
       "       &#x27;Smoking Status_null&#x27;, &#x27;Exercise Frequency_null&#x27;, &#x27;Property Type_null&#x27;,\n",
       "       &#x27;Premium Amount_null&#x27;, &#x27;Customer Tenure_null&#x27;, &#x27;Claim Frequency_null&#x27;,\n",
       "       &#x27;Policy Start Year_null&#x27;, &#x27;Policy Start Month_null&#x27;,\n",
       "       &#x27;Policy Start Day_null&#x27;, &#x27;Policy Start Hour_null&#x27;,\n",
       "       &#x27;Policy Start Minute_null&#x27;, &#x27;Policy Start Second_null&#x27;,\n",
       "       &#x27;Annual Income log 10_null&#x27;, &#x27;Previous Claims log_null&#x27;],\n",
       "      dtype=&#x27;object&#x27;)</pre></div> </div></div><div class=\"sk-serial\"><div class=\"sk-item\"><div class=\"sk-serial\"><div class=\"sk-item\"><div class=\"sk-estimator fitted sk-toggleable\"><input class=\"sk-toggleable__control sk-hidden--visually\" id=\"sk-estimator-id-69\" type=\"checkbox\" ><label for=\"sk-estimator-id-69\" class=\"sk-toggleable__label fitted sk-toggleable__label-arrow fitted\">&nbsp;SimpleImputer<a class=\"sk-estimator-doc-link fitted\" rel=\"noreferrer\" target=\"_blank\" href=\"https://scikit-learn.org/1.5/modules/generated/sklearn.impute.SimpleImputer.html\">?<span>Documentation for SimpleImputer</span></a></label><div class=\"sk-toggleable__content fitted\"><pre>SimpleImputer(strategy=&#x27;most_frequent&#x27;)</pre></div> </div></div><div class=\"sk-item\"><div class=\"sk-estimator fitted sk-toggleable\"><input class=\"sk-toggleable__control sk-hidden--visually\" id=\"sk-estimator-id-70\" type=\"checkbox\" ><label for=\"sk-estimator-id-70\" class=\"sk-toggleable__label fitted sk-toggleable__label-arrow fitted\">&nbsp;OneHotEncoder<a class=\"sk-estimator-doc-link fitted\" rel=\"noreferrer\" target=\"_blank\" href=\"https://scikit-learn.org/1.5/modules/generated/sklearn.preprocessing.OneHotEncoder.html\">?<span>Documentation for OneHotEncoder</span></a></label><div class=\"sk-toggleable__content fitted\"><pre>OneHotEncoder(drop=&#x27;first&#x27;, handle_unknown=&#x27;ignore&#x27;, sparse_output=False)</pre></div> </div></div></div></div></div></div></div><div class=\"sk-parallel-item\"><div class=\"sk-item\"><div class=\"sk-label-container\"><div class=\"sk-label fitted sk-toggleable\"><input class=\"sk-toggleable__control sk-hidden--visually\" id=\"sk-estimator-id-71\" type=\"checkbox\" ><label for=\"sk-estimator-id-71\" class=\"sk-toggleable__label fitted sk-toggleable__label-arrow fitted\">education</label><div class=\"sk-toggleable__content fitted\"><pre>[&#x27;Education Level&#x27;]</pre></div> </div></div><div class=\"sk-serial\"><div class=\"sk-item\"><div class=\"sk-serial\"><div class=\"sk-item\"><div class=\"sk-estimator fitted sk-toggleable\"><input class=\"sk-toggleable__control sk-hidden--visually\" id=\"sk-estimator-id-72\" type=\"checkbox\" ><label for=\"sk-estimator-id-72\" class=\"sk-toggleable__label fitted sk-toggleable__label-arrow fitted\">&nbsp;SimpleImputer<a class=\"sk-estimator-doc-link fitted\" rel=\"noreferrer\" target=\"_blank\" href=\"https://scikit-learn.org/1.5/modules/generated/sklearn.impute.SimpleImputer.html\">?<span>Documentation for SimpleImputer</span></a></label><div class=\"sk-toggleable__content fitted\"><pre>SimpleImputer(strategy=&#x27;most_frequent&#x27;)</pre></div> </div></div><div class=\"sk-item\"><div class=\"sk-estimator fitted sk-toggleable\"><input class=\"sk-toggleable__control sk-hidden--visually\" id=\"sk-estimator-id-73\" type=\"checkbox\" ><label for=\"sk-estimator-id-73\" class=\"sk-toggleable__label fitted sk-toggleable__label-arrow fitted\">&nbsp;OrdinalEncoder<a class=\"sk-estimator-doc-link fitted\" rel=\"noreferrer\" target=\"_blank\" href=\"https://scikit-learn.org/1.5/modules/generated/sklearn.preprocessing.OrdinalEncoder.html\">?<span>Documentation for OrdinalEncoder</span></a></label><div class=\"sk-toggleable__content fitted\"><pre>OrdinalEncoder(categories=[[&#x27;High School&#x27;, &quot;Bachelor&#x27;s&quot;, &quot;Master&#x27;s&quot;, &#x27;PhD&#x27;]],\n",
       "               handle_unknown=&#x27;use_encoded_value&#x27;, unknown_value=-1)</pre></div> </div></div></div></div></div></div></div><div class=\"sk-parallel-item\"><div class=\"sk-item\"><div class=\"sk-label-container\"><div class=\"sk-label fitted sk-toggleable\"><input class=\"sk-toggleable__control sk-hidden--visually\" id=\"sk-estimator-id-74\" type=\"checkbox\" ><label for=\"sk-estimator-id-74\" class=\"sk-toggleable__label fitted sk-toggleable__label-arrow fitted\">policy_type</label><div class=\"sk-toggleable__content fitted\"><pre>[&#x27;Policy Type&#x27;]</pre></div> </div></div><div class=\"sk-serial\"><div class=\"sk-item\"><div class=\"sk-serial\"><div class=\"sk-item\"><div class=\"sk-estimator fitted sk-toggleable\"><input class=\"sk-toggleable__control sk-hidden--visually\" id=\"sk-estimator-id-75\" type=\"checkbox\" ><label for=\"sk-estimator-id-75\" class=\"sk-toggleable__label fitted sk-toggleable__label-arrow fitted\">&nbsp;SimpleImputer<a class=\"sk-estimator-doc-link fitted\" rel=\"noreferrer\" target=\"_blank\" href=\"https://scikit-learn.org/1.5/modules/generated/sklearn.impute.SimpleImputer.html\">?<span>Documentation for SimpleImputer</span></a></label><div class=\"sk-toggleable__content fitted\"><pre>SimpleImputer(strategy=&#x27;most_frequent&#x27;)</pre></div> </div></div><div class=\"sk-item\"><div class=\"sk-estimator fitted sk-toggleable\"><input class=\"sk-toggleable__control sk-hidden--visually\" id=\"sk-estimator-id-76\" type=\"checkbox\" ><label for=\"sk-estimator-id-76\" class=\"sk-toggleable__label fitted sk-toggleable__label-arrow fitted\">&nbsp;OrdinalEncoder<a class=\"sk-estimator-doc-link fitted\" rel=\"noreferrer\" target=\"_blank\" href=\"https://scikit-learn.org/1.5/modules/generated/sklearn.preprocessing.OrdinalEncoder.html\">?<span>Documentation for OrdinalEncoder</span></a></label><div class=\"sk-toggleable__content fitted\"><pre>OrdinalEncoder(categories=[[&#x27;Basic&#x27;, &#x27;Comprehensive&#x27;, &#x27;Premium&#x27;]],\n",
       "               handle_unknown=&#x27;use_encoded_value&#x27;, unknown_value=-1)</pre></div> </div></div></div></div></div></div></div><div class=\"sk-parallel-item\"><div class=\"sk-item\"><div class=\"sk-label-container\"><div class=\"sk-label fitted sk-toggleable\"><input class=\"sk-toggleable__control sk-hidden--visually\" id=\"sk-estimator-id-77\" type=\"checkbox\" ><label for=\"sk-estimator-id-77\" class=\"sk-toggleable__label fitted sk-toggleable__label-arrow fitted\">customer_feedback</label><div class=\"sk-toggleable__content fitted\"><pre>[&#x27;Customer Feedback&#x27;]</pre></div> </div></div><div class=\"sk-serial\"><div class=\"sk-item\"><div class=\"sk-serial\"><div class=\"sk-item\"><div class=\"sk-estimator fitted sk-toggleable\"><input class=\"sk-toggleable__control sk-hidden--visually\" id=\"sk-estimator-id-78\" type=\"checkbox\" ><label for=\"sk-estimator-id-78\" class=\"sk-toggleable__label fitted sk-toggleable__label-arrow fitted\">&nbsp;SimpleImputer<a class=\"sk-estimator-doc-link fitted\" rel=\"noreferrer\" target=\"_blank\" href=\"https://scikit-learn.org/1.5/modules/generated/sklearn.impute.SimpleImputer.html\">?<span>Documentation for SimpleImputer</span></a></label><div class=\"sk-toggleable__content fitted\"><pre>SimpleImputer(strategy=&#x27;most_frequent&#x27;)</pre></div> </div></div><div class=\"sk-item\"><div class=\"sk-estimator fitted sk-toggleable\"><input class=\"sk-toggleable__control sk-hidden--visually\" id=\"sk-estimator-id-79\" type=\"checkbox\" ><label for=\"sk-estimator-id-79\" class=\"sk-toggleable__label fitted sk-toggleable__label-arrow fitted\">&nbsp;OrdinalEncoder<a class=\"sk-estimator-doc-link fitted\" rel=\"noreferrer\" target=\"_blank\" href=\"https://scikit-learn.org/1.5/modules/generated/sklearn.preprocessing.OrdinalEncoder.html\">?<span>Documentation for OrdinalEncoder</span></a></label><div class=\"sk-toggleable__content fitted\"><pre>OrdinalEncoder(categories=[[&#x27;Poor&#x27;, &#x27;Average&#x27;, &#x27;Good&#x27;]],\n",
       "               handle_unknown=&#x27;use_encoded_value&#x27;, unknown_value=-1)</pre></div> </div></div></div></div></div></div></div><div class=\"sk-parallel-item\"><div class=\"sk-item\"><div class=\"sk-label-container\"><div class=\"sk-label fitted sk-toggleable\"><input class=\"sk-toggleable__control sk-hidden--visually\" id=\"sk-estimator-id-80\" type=\"checkbox\" ><label for=\"sk-estimator-id-80\" class=\"sk-toggleable__label fitted sk-toggleable__label-arrow fitted\">exercise_frequency</label><div class=\"sk-toggleable__content fitted\"><pre>[&#x27;Exercise Frequency&#x27;]</pre></div> </div></div><div class=\"sk-serial\"><div class=\"sk-item\"><div class=\"sk-serial\"><div class=\"sk-item\"><div class=\"sk-estimator fitted sk-toggleable\"><input class=\"sk-toggleable__control sk-hidden--visually\" id=\"sk-estimator-id-81\" type=\"checkbox\" ><label for=\"sk-estimator-id-81\" class=\"sk-toggleable__label fitted sk-toggleable__label-arrow fitted\">&nbsp;SimpleImputer<a class=\"sk-estimator-doc-link fitted\" rel=\"noreferrer\" target=\"_blank\" href=\"https://scikit-learn.org/1.5/modules/generated/sklearn.impute.SimpleImputer.html\">?<span>Documentation for SimpleImputer</span></a></label><div class=\"sk-toggleable__content fitted\"><pre>SimpleImputer(strategy=&#x27;most_frequent&#x27;)</pre></div> </div></div><div class=\"sk-item\"><div class=\"sk-estimator fitted sk-toggleable\"><input class=\"sk-toggleable__control sk-hidden--visually\" id=\"sk-estimator-id-82\" type=\"checkbox\" ><label for=\"sk-estimator-id-82\" class=\"sk-toggleable__label fitted sk-toggleable__label-arrow fitted\">&nbsp;OrdinalEncoder<a class=\"sk-estimator-doc-link fitted\" rel=\"noreferrer\" target=\"_blank\" href=\"https://scikit-learn.org/1.5/modules/generated/sklearn.preprocessing.OrdinalEncoder.html\">?<span>Documentation for OrdinalEncoder</span></a></label><div class=\"sk-toggleable__content fitted\"><pre>OrdinalEncoder(categories=[[&#x27;Rarely&#x27;, &#x27;Monthly&#x27;, &#x27;Weekly&#x27;, &#x27;Daily&#x27;]],\n",
       "               handle_unknown=&#x27;use_encoded_value&#x27;, unknown_value=-1)</pre></div> </div></div></div></div></div></div></div><div class=\"sk-parallel-item\"><div class=\"sk-item\"><div class=\"sk-label-container\"><div class=\"sk-label fitted sk-toggleable\"><input class=\"sk-toggleable__control sk-hidden--visually\" id=\"sk-estimator-id-83\" type=\"checkbox\" ><label for=\"sk-estimator-id-83\" class=\"sk-toggleable__label fitted sk-toggleable__label-arrow fitted\">num</label><div class=\"sk-toggleable__content fitted\"><pre>Index([&#x27;Age&#x27;, &#x27;Annual Income&#x27;, &#x27;Number of Dependents&#x27;, &#x27;Health Score&#x27;,\n",
       "       &#x27;Previous Claims&#x27;, &#x27;Vehicle Age&#x27;, &#x27;Credit Score&#x27;, &#x27;Insurance Duration&#x27;,\n",
       "       &#x27;Premium Amount&#x27;, &#x27;Customer Tenure&#x27;, &#x27;Claim Frequency&#x27;,\n",
       "       &#x27;Policy Start Year&#x27;, &#x27;Policy Start Month&#x27;, &#x27;Policy Start Day&#x27;,\n",
       "       &#x27;Policy Start Hour&#x27;, &#x27;Policy Start Minute&#x27;, &#x27;Policy Start Second&#x27;,\n",
       "       &#x27;Annual Income log 10&#x27;, &#x27;Previous Claims log&#x27;, &#x27;Null columns&#x27;],\n",
       "      dtype=&#x27;object&#x27;)</pre></div> </div></div><div class=\"sk-serial\"><div class=\"sk-item\"><div class=\"sk-serial\"><div class=\"sk-item\"><div class=\"sk-estimator fitted sk-toggleable\"><input class=\"sk-toggleable__control sk-hidden--visually\" id=\"sk-estimator-id-84\" type=\"checkbox\" ><label for=\"sk-estimator-id-84\" class=\"sk-toggleable__label fitted sk-toggleable__label-arrow fitted\">ContinuousOptimalBinningTransformer</label><div class=\"sk-toggleable__content fitted\"><pre>ContinuousOptimalBinningTransformer()</pre></div> </div></div><div class=\"sk-item\"><div class=\"sk-estimator fitted sk-toggleable\"><input class=\"sk-toggleable__control sk-hidden--visually\" id=\"sk-estimator-id-85\" type=\"checkbox\" ><label for=\"sk-estimator-id-85\" class=\"sk-toggleable__label fitted sk-toggleable__label-arrow fitted\">&nbsp;OneHotEncoder<a class=\"sk-estimator-doc-link fitted\" rel=\"noreferrer\" target=\"_blank\" href=\"https://scikit-learn.org/1.5/modules/generated/sklearn.preprocessing.OneHotEncoder.html\">?<span>Documentation for OneHotEncoder</span></a></label><div class=\"sk-toggleable__content fitted\"><pre>OneHotEncoder(drop=&#x27;first&#x27;, handle_unknown=&#x27;ignore&#x27;, sparse_output=False)</pre></div> </div></div></div></div></div></div></div></div></div></div></div></div></div></div></div></div><div class=\"sk-item\"><div class=\"sk-estimator fitted sk-toggleable\"><input class=\"sk-toggleable__control sk-hidden--visually\" id=\"sk-estimator-id-86\" type=\"checkbox\" ><label for=\"sk-estimator-id-86\" class=\"sk-toggleable__label fitted sk-toggleable__label-arrow fitted\">XGBRegressor</label><div class=\"sk-toggleable__content fitted\"><pre>XGBRegressor(base_score=None, booster=None, callbacks=None,\n",
       "             colsample_bylevel=None, colsample_bynode=None,\n",
       "             colsample_bytree=None, device=None, early_stopping_rounds=None,\n",
       "             enable_categorical=False, eval_metric=None, feature_types=None,\n",
       "             gamma=None, grow_policy=None, importance_type=None,\n",
       "             interaction_constraints=None, learning_rate=None, max_bin=None,\n",
       "             max_cat_threshold=None, max_cat_to_onehot=None,\n",
       "             max_delta_step=None, max_depth=None, max_leaves=None,\n",
       "             min_child_weight=None, missing=nan, monotone_constraints=None,\n",
       "             multi_strategy=None, n_estimators=None, n_jobs=None,\n",
       "             num_parallel_tree=None, random_state=None, ...)</pre></div> </div></div></div></div></div></div>"
      ],
      "text/plain": [
       "Pipeline(steps=[('preprocessing',\n",
       "                 CachedPreprocessor(cache={'2ef144eb4dd9820d23cbd1f947a28dd04389d6b6d307f8dcd7e8f1a831f3b991': Pipeline(steps=[('preprocessor',\n",
       "                                                                                                                                ColumnTransformer(transformers=[('onehot',\n",
       "                                                                                                                                                                 Pipeline(steps=[('ohe_imputer',\n",
       "                                                                                                                                                                                  SimpleImputer(strategy='most_frequent')),\n",
       "                                                                                                                                                                                 ('ohe',\n",
       "                                                                                                                                                                                  OneHotEncoder(drop='first',\n",
       "                                                                                                                                                                                                handle_unknown='ignore',\n",
       "                                                                                                                                                                                                sparse_output=False)...\n",
       "                              feature_types=None, gamma=None, grow_policy=None,\n",
       "                              importance_type=None,\n",
       "                              interaction_constraints=None, learning_rate=None,\n",
       "                              max_bin=None, max_cat_threshold=None,\n",
       "                              max_cat_to_onehot=None, max_delta_step=None,\n",
       "                              max_depth=None, max_leaves=None,\n",
       "                              min_child_weight=None, missing=nan,\n",
       "                              monotone_constraints=None, multi_strategy=None,\n",
       "                              n_estimators=None, n_jobs=None,\n",
       "                              num_parallel_tree=None, random_state=None, ...))])"
      ]
     },
     "execution_count": 15,
     "metadata": {},
     "output_type": "execute_result"
    }
   ],
   "source": [
    "full_pipeline.fit(treated_dataset, treated_dataset['Premium Amount'])\n"
   ]
  },
  {
   "cell_type": "code",
   "execution_count": 16,
   "metadata": {},
   "outputs": [],
   "source": [
    "res = full_pipeline.predict(treated_dataset)\n"
   ]
  },
  {
   "cell_type": "code",
   "execution_count": 17,
   "metadata": {},
   "outputs": [],
   "source": [
    "from utils.metrics import rmsle_metric, source_range_root_mean_squared_log_error"
   ]
  },
  {
   "cell_type": "code",
   "execution_count": 18,
   "metadata": {},
   "outputs": [
    {
     "data": {
      "text/plain": [
       "0.2456514499603087"
      ]
     },
     "execution_count": 18,
     "metadata": {},
     "output_type": "execute_result"
    }
   ],
   "source": [
    "source_range_root_mean_squared_log_error(treated_dataset['Premium Amount'], res)\n"
   ]
  },
  {
   "cell_type": "code",
   "execution_count": 26,
   "metadata": {},
   "outputs": [
    {
     "data": {
      "text/plain": [
       "<Axes: >"
      ]
     },
     "execution_count": 26,
     "metadata": {},
     "output_type": "execute_result"
    },
    {
     "data": {
      "image/png": "[encoded data removed]",
      "text/plain": [
       "<Figure size 640x480 with 1 Axes>"
      ]
     },
     "metadata": {},
     "output_type": "display_data"
    }
   ],
   "source": [
    "pd.Series(res).hist()"
   ]
  },
  {
   "cell_type": "code",
   "execution_count": 7,
   "metadata": {},
   "outputs": [],
   "source": [
    "import miceforest as mf"
   ]
  },
  {
   "cell_type": "code",
   "execution_count": 5,
   "metadata": {},
   "outputs": [
    {
     "data": {
      "text/html": [
       "<div>\n",
       "<style scoped>\n",
       "    .dataframe tbody tr th:only-of-type {\n",
       "        vertical-align: middle;\n",
       "    }\n",
       "\n",
       "    .dataframe tbody tr th {\n",
       "        vertical-align: top;\n",
       "    }\n",
       "\n",
       "    .dataframe thead th {\n",
       "        text-align: right;\n",
       "    }\n",
       "</style>\n",
       "<table border=\"1\" class=\"dataframe\">\n",
       "  <thead>\n",
       "    <tr style=\"text-align: right;\">\n",
       "      <th></th>\n",
       "      <th>Age</th>\n",
       "      <th>Gender</th>\n",
       "      <th>Annual Income</th>\n",
       "      <th>Marital Status</th>\n",
       "      <th>Number of Dependents</th>\n",
       "      <th>Education Level</th>\n",
       "      <th>Occupation</th>\n",
       "      <th>Health Score</th>\n",
       "      <th>Location</th>\n",
       "      <th>Policy Type</th>\n",
       "      <th>...</th>\n",
       "      <th>Claim Frequency_null</th>\n",
       "      <th>Policy Start Year_null</th>\n",
       "      <th>Policy Start Month_null</th>\n",
       "      <th>Policy Start Day_null</th>\n",
       "      <th>Policy Start Hour_null</th>\n",
       "      <th>Policy Start Minute_null</th>\n",
       "      <th>Policy Start Second_null</th>\n",
       "      <th>Null columns_null</th>\n",
       "      <th>Annual Income log 10_null</th>\n",
       "      <th>Previous Claims log_null</th>\n",
       "    </tr>\n",
       "  </thead>\n",
       "  <tbody>\n",
       "    <tr>\n",
       "      <th>0</th>\n",
       "      <td>19.0</td>\n",
       "      <td>Female</td>\n",
       "      <td>10049.0</td>\n",
       "      <td>Married</td>\n",
       "      <td>1.0</td>\n",
       "      <td>Bachelor's</td>\n",
       "      <td>Self-Employed</td>\n",
       "      <td>22.598761</td>\n",
       "      <td>Urban</td>\n",
       "      <td>Premium</td>\n",
       "      <td>...</td>\n",
       "      <td>False</td>\n",
       "      <td>False</td>\n",
       "      <td>False</td>\n",
       "      <td>False</td>\n",
       "      <td>False</td>\n",
       "      <td>False</td>\n",
       "      <td>False</td>\n",
       "      <td>False</td>\n",
       "      <td>False</td>\n",
       "      <td>False</td>\n",
       "    </tr>\n",
       "    <tr>\n",
       "      <th>1</th>\n",
       "      <td>39.0</td>\n",
       "      <td>Female</td>\n",
       "      <td>31678.0</td>\n",
       "      <td>Divorced</td>\n",
       "      <td>3.0</td>\n",
       "      <td>Master's</td>\n",
       "      <td>NaN</td>\n",
       "      <td>15.569731</td>\n",
       "      <td>Rural</td>\n",
       "      <td>Comprehensive</td>\n",
       "      <td>...</td>\n",
       "      <td>False</td>\n",
       "      <td>False</td>\n",
       "      <td>False</td>\n",
       "      <td>False</td>\n",
       "      <td>False</td>\n",
       "      <td>False</td>\n",
       "      <td>False</td>\n",
       "      <td>False</td>\n",
       "      <td>False</td>\n",
       "      <td>False</td>\n",
       "    </tr>\n",
       "    <tr>\n",
       "      <th>2</th>\n",
       "      <td>23.0</td>\n",
       "      <td>Male</td>\n",
       "      <td>25602.0</td>\n",
       "      <td>Divorced</td>\n",
       "      <td>3.0</td>\n",
       "      <td>High School</td>\n",
       "      <td>Self-Employed</td>\n",
       "      <td>47.177549</td>\n",
       "      <td>Suburban</td>\n",
       "      <td>Premium</td>\n",
       "      <td>...</td>\n",
       "      <td>False</td>\n",
       "      <td>False</td>\n",
       "      <td>False</td>\n",
       "      <td>False</td>\n",
       "      <td>False</td>\n",
       "      <td>False</td>\n",
       "      <td>False</td>\n",
       "      <td>False</td>\n",
       "      <td>False</td>\n",
       "      <td>False</td>\n",
       "    </tr>\n",
       "    <tr>\n",
       "      <th>3</th>\n",
       "      <td>21.0</td>\n",
       "      <td>Male</td>\n",
       "      <td>141855.0</td>\n",
       "      <td>Married</td>\n",
       "      <td>2.0</td>\n",
       "      <td>Bachelor's</td>\n",
       "      <td>NaN</td>\n",
       "      <td>10.938144</td>\n",
       "      <td>Rural</td>\n",
       "      <td>Basic</td>\n",
       "      <td>...</td>\n",
       "      <td>False</td>\n",
       "      <td>False</td>\n",
       "      <td>False</td>\n",
       "      <td>False</td>\n",
       "      <td>False</td>\n",
       "      <td>False</td>\n",
       "      <td>False</td>\n",
       "      <td>False</td>\n",
       "      <td>False</td>\n",
       "      <td>False</td>\n",
       "    </tr>\n",
       "    <tr>\n",
       "      <th>4</th>\n",
       "      <td>21.0</td>\n",
       "      <td>Male</td>\n",
       "      <td>39651.0</td>\n",
       "      <td>Single</td>\n",
       "      <td>1.0</td>\n",
       "      <td>Bachelor's</td>\n",
       "      <td>Self-Employed</td>\n",
       "      <td>20.376094</td>\n",
       "      <td>Rural</td>\n",
       "      <td>Premium</td>\n",
       "      <td>...</td>\n",
       "      <td>False</td>\n",
       "      <td>False</td>\n",
       "      <td>False</td>\n",
       "      <td>False</td>\n",
       "      <td>False</td>\n",
       "      <td>False</td>\n",
       "      <td>False</td>\n",
       "      <td>False</td>\n",
       "      <td>False</td>\n",
       "      <td>False</td>\n",
       "    </tr>\n",
       "    <tr>\n",
       "      <th>...</th>\n",
       "      <td>...</td>\n",
       "      <td>...</td>\n",
       "      <td>...</td>\n",
       "      <td>...</td>\n",
       "      <td>...</td>\n",
       "      <td>...</td>\n",
       "      <td>...</td>\n",
       "      <td>...</td>\n",
       "      <td>...</td>\n",
       "      <td>...</td>\n",
       "      <td>...</td>\n",
       "      <td>...</td>\n",
       "      <td>...</td>\n",
       "      <td>...</td>\n",
       "      <td>...</td>\n",
       "      <td>...</td>\n",
       "      <td>...</td>\n",
       "      <td>...</td>\n",
       "      <td>...</td>\n",
       "      <td>...</td>\n",
       "      <td>...</td>\n",
       "    </tr>\n",
       "    <tr>\n",
       "      <th>1199995</th>\n",
       "      <td>36.0</td>\n",
       "      <td>Female</td>\n",
       "      <td>27316.0</td>\n",
       "      <td>Married</td>\n",
       "      <td>0.0</td>\n",
       "      <td>Master's</td>\n",
       "      <td>Unemployed</td>\n",
       "      <td>13.772907</td>\n",
       "      <td>Urban</td>\n",
       "      <td>Premium</td>\n",
       "      <td>...</td>\n",
       "      <td>True</td>\n",
       "      <td>False</td>\n",
       "      <td>False</td>\n",
       "      <td>False</td>\n",
       "      <td>False</td>\n",
       "      <td>False</td>\n",
       "      <td>False</td>\n",
       "      <td>False</td>\n",
       "      <td>False</td>\n",
       "      <td>True</td>\n",
       "    </tr>\n",
       "    <tr>\n",
       "      <th>1199996</th>\n",
       "      <td>54.0</td>\n",
       "      <td>Male</td>\n",
       "      <td>35786.0</td>\n",
       "      <td>Divorced</td>\n",
       "      <td>NaN</td>\n",
       "      <td>Master's</td>\n",
       "      <td>Self-Employed</td>\n",
       "      <td>11.483482</td>\n",
       "      <td>Rural</td>\n",
       "      <td>Comprehensive</td>\n",
       "      <td>...</td>\n",
       "      <td>True</td>\n",
       "      <td>False</td>\n",
       "      <td>False</td>\n",
       "      <td>False</td>\n",
       "      <td>False</td>\n",
       "      <td>False</td>\n",
       "      <td>False</td>\n",
       "      <td>False</td>\n",
       "      <td>False</td>\n",
       "      <td>True</td>\n",
       "    </tr>\n",
       "    <tr>\n",
       "      <th>1199997</th>\n",
       "      <td>19.0</td>\n",
       "      <td>Male</td>\n",
       "      <td>51884.0</td>\n",
       "      <td>Divorced</td>\n",
       "      <td>0.0</td>\n",
       "      <td>Master's</td>\n",
       "      <td>NaN</td>\n",
       "      <td>14.724469</td>\n",
       "      <td>Suburban</td>\n",
       "      <td>Basic</td>\n",
       "      <td>...</td>\n",
       "      <td>False</td>\n",
       "      <td>False</td>\n",
       "      <td>False</td>\n",
       "      <td>False</td>\n",
       "      <td>False</td>\n",
       "      <td>False</td>\n",
       "      <td>False</td>\n",
       "      <td>False</td>\n",
       "      <td>False</td>\n",
       "      <td>False</td>\n",
       "    </tr>\n",
       "    <tr>\n",
       "      <th>1199998</th>\n",
       "      <td>55.0</td>\n",
       "      <td>Male</td>\n",
       "      <td>NaN</td>\n",
       "      <td>Single</td>\n",
       "      <td>1.0</td>\n",
       "      <td>PhD</td>\n",
       "      <td>NaN</td>\n",
       "      <td>18.547381</td>\n",
       "      <td>Suburban</td>\n",
       "      <td>Premium</td>\n",
       "      <td>...</td>\n",
       "      <td>False</td>\n",
       "      <td>False</td>\n",
       "      <td>False</td>\n",
       "      <td>False</td>\n",
       "      <td>False</td>\n",
       "      <td>False</td>\n",
       "      <td>False</td>\n",
       "      <td>False</td>\n",
       "      <td>True</td>\n",
       "      <td>False</td>\n",
       "    </tr>\n",
       "    <tr>\n",
       "      <th>1199999</th>\n",
       "      <td>21.0</td>\n",
       "      <td>Female</td>\n",
       "      <td>NaN</td>\n",
       "      <td>Divorced</td>\n",
       "      <td>0.0</td>\n",
       "      <td>PhD</td>\n",
       "      <td>NaN</td>\n",
       "      <td>10.125323</td>\n",
       "      <td>Rural</td>\n",
       "      <td>Premium</td>\n",
       "      <td>...</td>\n",
       "      <td>False</td>\n",
       "      <td>False</td>\n",
       "      <td>False</td>\n",
       "      <td>False</td>\n",
       "      <td>False</td>\n",
       "      <td>False</td>\n",
       "      <td>False</td>\n",
       "      <td>False</td>\n",
       "      <td>True</td>\n",
       "      <td>False</td>\n",
       "    </tr>\n",
       "  </tbody>\n",
       "</table>\n",
       "<p>1200000 rows × 59 columns</p>\n",
       "</div>"
      ],
      "text/plain": [
       "          Age  Gender  Annual Income Marital Status  Number of Dependents  \\\n",
       "0        19.0  Female        10049.0        Married                   1.0   \n",
       "1        39.0  Female        31678.0       Divorced                   3.0   \n",
       "2        23.0    Male        25602.0       Divorced                   3.0   \n",
       "3        21.0    Male       141855.0        Married                   2.0   \n",
       "4        21.0    Male        39651.0         Single                   1.0   \n",
       "...       ...     ...            ...            ...                   ...   \n",
       "1199995  36.0  Female        27316.0        Married                   0.0   \n",
       "1199996  54.0    Male        35786.0       Divorced                   NaN   \n",
       "1199997  19.0    Male        51884.0       Divorced                   0.0   \n",
       "1199998  55.0    Male            NaN         Single                   1.0   \n",
       "1199999  21.0  Female            NaN       Divorced                   0.0   \n",
       "\n",
       "        Education Level     Occupation  Health Score  Location    Policy Type  \\\n",
       "0            Bachelor's  Self-Employed     22.598761     Urban        Premium   \n",
       "1              Master's            NaN     15.569731     Rural  Comprehensive   \n",
       "2           High School  Self-Employed     47.177549  Suburban        Premium   \n",
       "3            Bachelor's            NaN     10.938144     Rural          Basic   \n",
       "4            Bachelor's  Self-Employed     20.376094     Rural        Premium   \n",
       "...                 ...            ...           ...       ...            ...   \n",
       "1199995        Master's     Unemployed     13.772907     Urban        Premium   \n",
       "1199996        Master's  Self-Employed     11.483482     Rural  Comprehensive   \n",
       "1199997        Master's            NaN     14.724469  Suburban          Basic   \n",
       "1199998             PhD            NaN     18.547381  Suburban        Premium   \n",
       "1199999             PhD            NaN     10.125323     Rural        Premium   \n",
       "\n",
       "         ...  Claim Frequency_null  Policy Start Year_null  \\\n",
       "0        ...                 False                   False   \n",
       "1        ...                 False                   False   \n",
       "2        ...                 False                   False   \n",
       "3        ...                 False                   False   \n",
       "4        ...                 False                   False   \n",
       "...      ...                   ...                     ...   \n",
       "1199995  ...                  True                   False   \n",
       "1199996  ...                  True                   False   \n",
       "1199997  ...                 False                   False   \n",
       "1199998  ...                 False                   False   \n",
       "1199999  ...                 False                   False   \n",
       "\n",
       "         Policy Start Month_null  Policy Start Day_null  \\\n",
       "0                          False                  False   \n",
       "1                          False                  False   \n",
       "2                          False                  False   \n",
       "3                          False                  False   \n",
       "4                          False                  False   \n",
       "...                          ...                    ...   \n",
       "1199995                    False                  False   \n",
       "1199996                    False                  False   \n",
       "1199997                    False                  False   \n",
       "1199998                    False                  False   \n",
       "1199999                    False                  False   \n",
       "\n",
       "        Policy Start Hour_null Policy Start Minute_null  \\\n",
       "0                        False                    False   \n",
       "1                        False                    False   \n",
       "2                        False                    False   \n",
       "3                        False                    False   \n",
       "4                        False                    False   \n",
       "...                        ...                      ...   \n",
       "1199995                  False                    False   \n",
       "1199996                  False                    False   \n",
       "1199997                  False                    False   \n",
       "1199998                  False                    False   \n",
       "1199999                  False                    False   \n",
       "\n",
       "        Policy Start Second_null Null columns_null  Annual Income log 10_null  \\\n",
       "0                          False             False                      False   \n",
       "1                          False             False                      False   \n",
       "2                          False             False                      False   \n",
       "3                          False             False                      False   \n",
       "4                          False             False                      False   \n",
       "...                          ...               ...                        ...   \n",
       "1199995                    False             False                      False   \n",
       "1199996                    False             False                      False   \n",
       "1199997                    False             False                      False   \n",
       "1199998                    False             False                       True   \n",
       "1199999                    False             False                       True   \n",
       "\n",
       "         Previous Claims log_null  \n",
       "0                           False  \n",
       "1                           False  \n",
       "2                           False  \n",
       "3                           False  \n",
       "4                           False  \n",
       "...                           ...  \n",
       "1199995                      True  \n",
       "1199996                      True  \n",
       "1199997                     False  \n",
       "1199998                     False  \n",
       "1199999                     False  \n",
       "\n",
       "[1200000 rows x 59 columns]"
      ]
     },
     "execution_count": 5,
     "metadata": {},
     "output_type": "execute_result"
    }
   ],
   "source": [
    "kernel = mf.ImputationKernel(treated_dataset, num_datasets=1, random_state=1)\n"
   ]
  },
  {
   "cell_type": "code",
   "execution_count": 46,
   "metadata": {},
   "outputs": [],
   "source": [
    "from optbinning import ContinuousOptimalBinning\n"
   ]
  },
  {
   "cell_type": "code",
   "execution_count": 108,
   "metadata": {},
   "outputs": [
    {
     "name": "stdout",
     "output_type": "stream",
     "text": [
      "\u001b[1;31mInit signature:\u001b[0m\n",
      "\u001b[0mContinuousOptimalBinning\u001b[0m\u001b[1;33m(\u001b[0m\u001b[1;33m\n",
      "\u001b[0m    \u001b[0mname\u001b[0m\u001b[1;33m=\u001b[0m\u001b[1;34m''\u001b[0m\u001b[1;33m,\u001b[0m\u001b[1;33m\n",
      "\u001b[0m    \u001b[0mdtype\u001b[0m\u001b[1;33m=\u001b[0m\u001b[1;34m'numerical'\u001b[0m\u001b[1;33m,\u001b[0m\u001b[1;33m\n",
      "\u001b[0m    \u001b[0mprebinning_method\u001b[0m\u001b[1;33m=\u001b[0m\u001b[1;34m'cart'\u001b[0m\u001b[1;33m,\u001b[0m\u001b[1;33m\n",
      "\u001b[0m    \u001b[0mmax_n_prebins\u001b[0m\u001b[1;33m=\u001b[0m\u001b[1;36m20\u001b[0m\u001b[1;33m,\u001b[0m\u001b[1;33m\n",
      "\u001b[0m    \u001b[0mmin_prebin_size\u001b[0m\u001b[1;33m=\u001b[0m\u001b[1;36m0.05\u001b[0m\u001b[1;33m,\u001b[0m\u001b[1;33m\n",
      "\u001b[0m    \u001b[0mmin_n_bins\u001b[0m\u001b[1;33m=\u001b[0m\u001b[1;32mNone\u001b[0m\u001b[1;33m,\u001b[0m\u001b[1;33m\n",
      "\u001b[0m    \u001b[0mmax_n_bins\u001b[0m\u001b[1;33m=\u001b[0m\u001b[1;32mNone\u001b[0m\u001b[1;33m,\u001b[0m\u001b[1;33m\n",
      "\u001b[0m    \u001b[0mmin_bin_size\u001b[0m\u001b[1;33m=\u001b[0m\u001b[1;32mNone\u001b[0m\u001b[1;33m,\u001b[0m\u001b[1;33m\n",
      "\u001b[0m    \u001b[0mmax_bin_size\u001b[0m\u001b[1;33m=\u001b[0m\u001b[1;32mNone\u001b[0m\u001b[1;33m,\u001b[0m\u001b[1;33m\n",
      "\u001b[0m    \u001b[0mmonotonic_trend\u001b[0m\u001b[1;33m=\u001b[0m\u001b[1;34m'auto'\u001b[0m\u001b[1;33m,\u001b[0m\u001b[1;33m\n",
      "\u001b[0m    \u001b[0mmin_mean_diff\u001b[0m\u001b[1;33m=\u001b[0m\u001b[1;36m0\u001b[0m\u001b[1;33m,\u001b[0m\u001b[1;33m\n",
      "\u001b[0m    \u001b[0mmax_pvalue\u001b[0m\u001b[1;33m=\u001b[0m\u001b[1;32mNone\u001b[0m\u001b[1;33m,\u001b[0m\u001b[1;33m\n",
      "\u001b[0m    \u001b[0mmax_pvalue_policy\u001b[0m\u001b[1;33m=\u001b[0m\u001b[1;34m'consecutive'\u001b[0m\u001b[1;33m,\u001b[0m\u001b[1;33m\n",
      "\u001b[0m    \u001b[0mgamma\u001b[0m\u001b[1;33m=\u001b[0m\u001b[1;36m0\u001b[0m\u001b[1;33m,\u001b[0m\u001b[1;33m\n",
      "\u001b[0m    \u001b[0moutlier_detector\u001b[0m\u001b[1;33m=\u001b[0m\u001b[1;32mNone\u001b[0m\u001b[1;33m,\u001b[0m\u001b[1;33m\n",
      "\u001b[0m    \u001b[0moutlier_params\u001b[0m\u001b[1;33m=\u001b[0m\u001b[1;32mNone\u001b[0m\u001b[1;33m,\u001b[0m\u001b[1;33m\n",
      "\u001b[0m    \u001b[0mcat_cutoff\u001b[0m\u001b[1;33m=\u001b[0m\u001b[1;32mNone\u001b[0m\u001b[1;33m,\u001b[0m\u001b[1;33m\n",
      "\u001b[0m    \u001b[0mcat_unknown\u001b[0m\u001b[1;33m=\u001b[0m\u001b[1;32mNone\u001b[0m\u001b[1;33m,\u001b[0m\u001b[1;33m\n",
      "\u001b[0m    \u001b[0muser_splits\u001b[0m\u001b[1;33m=\u001b[0m\u001b[1;32mNone\u001b[0m\u001b[1;33m,\u001b[0m\u001b[1;33m\n",
      "\u001b[0m    \u001b[0muser_splits_fixed\u001b[0m\u001b[1;33m=\u001b[0m\u001b[1;32mNone\u001b[0m\u001b[1;33m,\u001b[0m\u001b[1;33m\n",
      "\u001b[0m    \u001b[0mspecial_codes\u001b[0m\u001b[1;33m=\u001b[0m\u001b[1;32mNone\u001b[0m\u001b[1;33m,\u001b[0m\u001b[1;33m\n",
      "\u001b[0m    \u001b[0msplit_digits\u001b[0m\u001b[1;33m=\u001b[0m\u001b[1;32mNone\u001b[0m\u001b[1;33m,\u001b[0m\u001b[1;33m\n",
      "\u001b[0m    \u001b[0mtime_limit\u001b[0m\u001b[1;33m=\u001b[0m\u001b[1;36m100\u001b[0m\u001b[1;33m,\u001b[0m\u001b[1;33m\n",
      "\u001b[0m    \u001b[0mverbose\u001b[0m\u001b[1;33m=\u001b[0m\u001b[1;32mFalse\u001b[0m\u001b[1;33m,\u001b[0m\u001b[1;33m\n",
      "\u001b[0m    \u001b[1;33m**\u001b[0m\u001b[0mprebinning_kwargs\u001b[0m\u001b[1;33m,\u001b[0m\u001b[1;33m\n",
      "\u001b[0m\u001b[1;33m)\u001b[0m\u001b[1;33m\u001b[0m\u001b[1;33m\u001b[0m\u001b[0m\n",
      "\u001b[1;31mDocstring:\u001b[0m     \n",
      "Optimal binning of a numerical or categorical variable with respect to a\n",
      "continuous target.\n",
      "\n",
      "Parameters\n",
      "----------\n",
      "name : str, optional (default=\"\")\n",
      "    The variable name.\n",
      "\n",
      "dtype : str, optional (default=\"numerical\")\n",
      "    The variable data type. Supported data types are \"numerical\" for\n",
      "    continuous and ordinal variables and \"categorical\" for categorical\n",
      "    and nominal variables.\n",
      "\n",
      "prebinning_method : str, optional (default=\"cart\")\n",
      "    The pre-binning method. Supported methods are \"cart\" for a CART\n",
      "    decision tree, \"quantile\" to generate prebins with approximately same\n",
      "    frequency and \"uniform\" to generate prebins with equal width. Method\n",
      "    \"cart\" uses `sklearn.tree.DecisionTreeRegressor\n",
      "    <https://scikit-learn.org/stable/modules/generated/sklearn.tree.\n",
      "    DecisionTreeRegressor.html>`_.\n",
      "\n",
      "max_n_prebins : int (default=20)\n",
      "    The maximum number of bins after pre-binning (prebins).\n",
      "\n",
      "min_prebin_size : float (default=0.05)\n",
      "    The fraction of mininum number of records for each prebin.\n",
      "\n",
      "min_n_bins : int or None, optional (default=None)\n",
      "    The minimum number of bins. If None, then ``min_n_bins`` is\n",
      "    a value in ``[0, max_n_prebins]``.\n",
      "\n",
      "max_n_bins : int or None, optional (default=None)\n",
      "    The maximum number of bins. If None, then ``max_n_bins`` is\n",
      "    a value in ``[0, max_n_prebins]``.\n",
      "\n",
      "min_bin_size : float or None, optional (default=None)\n",
      "    The fraction of minimum number of records for each bin. If None,\n",
      "    ``min_bin_size = min_prebin_size``.\n",
      "\n",
      "max_bin_size : float or None, optional (default=None)\n",
      "    The fraction of maximum number of records for each bin. If None,\n",
      "    ``max_bin_size = 1.0``.\n",
      "\n",
      "monotonic_trend : str or None, optional (default=\"auto\")\n",
      "    The **mean** monotonic trend. Supported trends are “auto”,\n",
      "    \"auto_heuristic\" and \"auto_asc_desc\" to automatically determine the\n",
      "    trend minimize the L1-norm using a machine learning classifier,\n",
      "    \"ascending\", \"descending\", \"concave\", \"convex\", \"peak\" and\n",
      "    \"peak_heuristic\" to allow a peak change point, and \"valley\" and\n",
      "    \"valley_heuristic\" to allow a valley change point. Trends\n",
      "    \"auto_heuristic\", \"peak_heuristic\" and \"valley_heuristic\" use a\n",
      "    heuristic to determine the change point, and are significantly faster\n",
      "    for large size instances (``max_n_prebins> 20``). Trend \"auto_asc_desc\"\n",
      "    is used to automatically select the best monotonic trend between\n",
      "    \"ascending\" and \"descending\". If None, then the monotonic constraint\n",
      "    is disabled.\n",
      "\n",
      "min_mean_diff : float, optional (default=0)\n",
      "    The minimum mean difference between consecutives bins.\n",
      "\n",
      "max_pvalue : float or None, optional (default=None)\n",
      "    The maximum p-value among bins. The T-test is used to detect bins\n",
      "    not satisfying the p-value constraint.\n",
      "\n",
      "max_pvalue_policy : str, optional (default=\"consecutive\")\n",
      "    The method to determine bins not satisfying the p-value constraint.\n",
      "    Supported methods are \"consecutive\" to compare consecutive bins and\n",
      "    \"all\" to compare all bins.\n",
      "\n",
      "gamma : float, optional (default=0)\n",
      "    Regularization strength to reduce the number of dominating bins. Larger\n",
      "    values specify stronger regularization.\n",
      "\n",
      "    .. versionadded:: 0.14.0\n",
      "\n",
      "outlier_detector : str or None, optional (default=None)\n",
      "    The outlier detection method. Supported methods are \"range\" to use\n",
      "    the interquartile range based method, \"zcore\" to use the modified\n",
      "    Z-score method or \"yquantile\" to use the y-axis detector over\n",
      "    quantiles.\n",
      "\n",
      "outlier_params : dict or None, optional (default=None)\n",
      "    Dictionary of parameters to pass to the outlier detection method.\n",
      "\n",
      "cat_cutoff : float or None, optional (default=None)\n",
      "    Generate bin others with categories in which the fraction of\n",
      "    occurrences is below the  ``cat_cutoff`` value. This option is\n",
      "    available when ``dtype`` is \"categorical\".\n",
      "\n",
      "cat_unknown : float, str or None (default=None)\n",
      "    The assigned value to the unobserved categories in training but\n",
      "    occurring during transform.\n",
      "\n",
      "    If None, the assigned value to an unknown category follows this rule:\n",
      "\n",
      "       - if transform metric == 'mean' then mean target\n",
      "       - if transform metric == 'indices' then -1\n",
      "       - if transform metric == 'bins' then 'unknown'\n",
      "\n",
      "    .. versionadded:: 0.17.1\n",
      "\n",
      "user_splits : array-like or None, optional (default=None)\n",
      "    The list of pre-binning split points when ``dtype`` is \"numerical\" or\n",
      "    the list of prebins when ``dtype`` is \"categorical\".\n",
      "\n",
      "user_splits_fixed : array-like or None (default=None)\n",
      "    The list of pre-binning split points that must be fixed.\n",
      "\n",
      "special_codes : array-like, dict or None, optional (default=None)\n",
      "    List of special codes. Use special codes to specify the data values\n",
      "    that must be treated separately.\n",
      "\n",
      "split_digits : int or None, optional (default=None)\n",
      "    The significant digits of the split points. If ``split_digits`` is set\n",
      "    to 0, the split points are integers. If None, then all significant\n",
      "    digits in the split points are considered.\n",
      "\n",
      "time_limit : int (default=100)\n",
      "    The maximum time in seconds to run the optimization solver.\n",
      "\n",
      "verbose : bool (default=False)\n",
      "    Enable verbose output.\n",
      "\n",
      "**prebinning_kwargs : keyword arguments\n",
      "    The pre-binning keywrord arguments.\n",
      "\n",
      "    .. versionadded:: 0.6.1\n",
      "\n",
      "Notes\n",
      "-----\n",
      "The parameter values ``max_n_prebins`` and ``min_prebin_size`` control\n",
      "complexity and memory usage. The default values generally produce quality\n",
      "results, however, some improvement can be achieved by increasing\n",
      "``max_n_prebins`` and/or decreasing ``min_prebin_size``.\n",
      "\n",
      "The pre-binning refinement phase guarantee that no prebin has zero number\n",
      "of records by merging those pure prebins. Pure bins produce infinity mean.\n",
      "\u001b[1;31mFile:\u001b[0m           d:\\development\\insurance\\venv\\lib\\site-packages\\optbinning\\binning\\continuous_binning.py\n",
      "\u001b[1;31mType:\u001b[0m           ABCMeta\n",
      "\u001b[1;31mSubclasses:\u001b[0m     "
     ]
    }
   ],
   "source": [
    "ContinuousOptimalBinning?"
   ]
  },
  {
   "cell_type": "code",
   "execution_count": 58,
   "metadata": {},
   "outputs": [
    {
     "data": {
      "text/html": [
       "<style>#sk-container-id-9 {\n",
       "  /* Definition of color scheme common for light and dark mode */\n",
       "  --sklearn-color-text: #000;\n",
       "  --sklearn-color-text-muted: #666;\n",
       "  --sklearn-color-line: gray;\n",
       "  /* Definition of color scheme for unfitted estimators */\n",
       "  --sklearn-color-unfitted-level-0: #fff5e6;\n",
       "  --sklearn-color-unfitted-level-1: #f6e4d2;\n",
       "  --sklearn-color-unfitted-level-2: #ffe0b3;\n",
       "  --sklearn-color-unfitted-level-3: chocolate;\n",
       "  /* Definition of color scheme for fitted estimators */\n",
       "  --sklearn-color-fitted-level-0: #f0f8ff;\n",
       "  --sklearn-color-fitted-level-1: #d4ebff;\n",
       "  --sklearn-color-fitted-level-2: #b3dbfd;\n",
       "  --sklearn-color-fitted-level-3: cornflowerblue;\n",
       "\n",
       "  /* Specific color for light theme */\n",
       "  --sklearn-color-text-on-default-background: var(--sg-text-color, var(--theme-code-foreground, var(--jp-content-font-color1, black)));\n",
       "  --sklearn-color-background: var(--sg-background-color, var(--theme-background, var(--jp-layout-color0, white)));\n",
       "  --sklearn-color-border-box: var(--sg-text-color, var(--theme-code-foreground, var(--jp-content-font-color1, black)));\n",
       "  --sklearn-color-icon: #696969;\n",
       "\n",
       "  @media (prefers-color-scheme: dark) {\n",
       "    /* Redefinition of color scheme for dark theme */\n",
       "    --sklearn-color-text-on-default-background: var(--sg-text-color, var(--theme-code-foreground, var(--jp-content-font-color1, white)));\n",
       "    --sklearn-color-background: var(--sg-background-color, var(--theme-background, var(--jp-layout-color0, #111)));\n",
       "    --sklearn-color-border-box: var(--sg-text-color, var(--theme-code-foreground, var(--jp-content-font-color1, white)));\n",
       "    --sklearn-color-icon: #878787;\n",
       "  }\n",
       "}\n",
       "\n",
       "#sk-container-id-9 {\n",
       "  color: var(--sklearn-color-text);\n",
       "}\n",
       "\n",
       "#sk-container-id-9 pre {\n",
       "  padding: 0;\n",
       "}\n",
       "\n",
       "#sk-container-id-9 input.sk-hidden--visually {\n",
       "  border: 0;\n",
       "  clip: rect(1px 1px 1px 1px);\n",
       "  clip: rect(1px, 1px, 1px, 1px);\n",
       "  height: 1px;\n",
       "  margin: -1px;\n",
       "  overflow: hidden;\n",
       "  padding: 0;\n",
       "  position: absolute;\n",
       "  width: 1px;\n",
       "}\n",
       "\n",
       "#sk-container-id-9 div.sk-dashed-wrapped {\n",
       "  border: 1px dashed var(--sklearn-color-line);\n",
       "  margin: 0 0.4em 0.5em 0.4em;\n",
       "  box-sizing: border-box;\n",
       "  padding-bottom: 0.4em;\n",
       "  background-color: var(--sklearn-color-background);\n",
       "}\n",
       "\n",
       "#sk-container-id-9 div.sk-container {\n",
       "  /* jupyter's `normalize.less` sets `[hidden] { display: none; }`\n",
       "     but bootstrap.min.css set `[hidden] { display: none !important; }`\n",
       "     so we also need the `!important` here to be able to override the\n",
       "     default hidden behavior on the sphinx rendered scikit-learn.org.\n",
       "     See: https://github.com/scikit-learn/scikit-learn/issues/21755 */\n",
       "  display: inline-block !important;\n",
       "  position: relative;\n",
       "}\n",
       "\n",
       "#sk-container-id-9 div.sk-text-repr-fallback {\n",
       "  display: none;\n",
       "}\n",
       "\n",
       "div.sk-parallel-item,\n",
       "div.sk-serial,\n",
       "div.sk-item {\n",
       "  /* draw centered vertical line to link estimators */\n",
       "  background-image: linear-gradient(var(--sklearn-color-text-on-default-background), var(--sklearn-color-text-on-default-background));\n",
       "  background-size: 2px 100%;\n",
       "  background-repeat: no-repeat;\n",
       "  background-position: center center;\n",
       "}\n",
       "\n",
       "/* Parallel-specific style estimator block */\n",
       "\n",
       "#sk-container-id-9 div.sk-parallel-item::after {\n",
       "  content: \"\";\n",
       "  width: 100%;\n",
       "  border-bottom: 2px solid var(--sklearn-color-text-on-default-background);\n",
       "  flex-grow: 1;\n",
       "}\n",
       "\n",
       "#sk-container-id-9 div.sk-parallel {\n",
       "  display: flex;\n",
       "  align-items: stretch;\n",
       "  justify-content: center;\n",
       "  background-color: var(--sklearn-color-background);\n",
       "  position: relative;\n",
       "}\n",
       "\n",
       "#sk-container-id-9 div.sk-parallel-item {\n",
       "  display: flex;\n",
       "  flex-direction: column;\n",
       "}\n",
       "\n",
       "#sk-container-id-9 div.sk-parallel-item:first-child::after {\n",
       "  align-self: flex-end;\n",
       "  width: 50%;\n",
       "}\n",
       "\n",
       "#sk-container-id-9 div.sk-parallel-item:last-child::after {\n",
       "  align-self: flex-start;\n",
       "  width: 50%;\n",
       "}\n",
       "\n",
       "#sk-container-id-9 div.sk-parallel-item:only-child::after {\n",
       "  width: 0;\n",
       "}\n",
       "\n",
       "/* Serial-specific style estimator block */\n",
       "\n",
       "#sk-container-id-9 div.sk-serial {\n",
       "  display: flex;\n",
       "  flex-direction: column;\n",
       "  align-items: center;\n",
       "  background-color: var(--sklearn-color-background);\n",
       "  padding-right: 1em;\n",
       "  padding-left: 1em;\n",
       "}\n",
       "\n",
       "\n",
       "/* Toggleable style: style used for estimator/Pipeline/ColumnTransformer box that is\n",
       "clickable and can be expanded/collapsed.\n",
       "- Pipeline and ColumnTransformer use this feature and define the default style\n",
       "- Estimators will overwrite some part of the style using the `sk-estimator` class\n",
       "*/\n",
       "\n",
       "/* Pipeline and ColumnTransformer style (default) */\n",
       "\n",
       "#sk-container-id-9 div.sk-toggleable {\n",
       "  /* Default theme specific background. It is overwritten whether we have a\n",
       "  specific estimator or a Pipeline/ColumnTransformer */\n",
       "  background-color: var(--sklearn-color-background);\n",
       "}\n",
       "\n",
       "/* Toggleable label */\n",
       "#sk-container-id-9 label.sk-toggleable__label {\n",
       "  cursor: pointer;\n",
       "  display: flex;\n",
       "  width: 100%;\n",
       "  margin-bottom: 0;\n",
       "  padding: 0.5em;\n",
       "  box-sizing: border-box;\n",
       "  text-align: center;\n",
       "  align-items: start;\n",
       "  justify-content: space-between;\n",
       "  gap: 0.5em;\n",
       "}\n",
       "\n",
       "#sk-container-id-9 label.sk-toggleable__label .caption {\n",
       "  font-size: 0.6rem;\n",
       "  font-weight: lighter;\n",
       "  color: var(--sklearn-color-text-muted);\n",
       "}\n",
       "\n",
       "#sk-container-id-9 label.sk-toggleable__label-arrow:before {\n",
       "  /* Arrow on the left of the label */\n",
       "  content: \"▸\";\n",
       "  float: left;\n",
       "  margin-right: 0.25em;\n",
       "  color: var(--sklearn-color-icon);\n",
       "}\n",
       "\n",
       "#sk-container-id-9 label.sk-toggleable__label-arrow:hover:before {\n",
       "  color: var(--sklearn-color-text);\n",
       "}\n",
       "\n",
       "/* Toggleable content - dropdown */\n",
       "\n",
       "#sk-container-id-9 div.sk-toggleable__content {\n",
       "  max-height: 0;\n",
       "  max-width: 0;\n",
       "  overflow: hidden;\n",
       "  text-align: left;\n",
       "  /* unfitted */\n",
       "  background-color: var(--sklearn-color-unfitted-level-0);\n",
       "}\n",
       "\n",
       "#sk-container-id-9 div.sk-toggleable__content.fitted {\n",
       "  /* fitted */\n",
       "  background-color: var(--sklearn-color-fitted-level-0);\n",
       "}\n",
       "\n",
       "#sk-container-id-9 div.sk-toggleable__content pre {\n",
       "  margin: 0.2em;\n",
       "  border-radius: 0.25em;\n",
       "  color: var(--sklearn-color-text);\n",
       "  /* unfitted */\n",
       "  background-color: var(--sklearn-color-unfitted-level-0);\n",
       "}\n",
       "\n",
       "#sk-container-id-9 div.sk-toggleable__content.fitted pre {\n",
       "  /* unfitted */\n",
       "  background-color: var(--sklearn-color-fitted-level-0);\n",
       "}\n",
       "\n",
       "#sk-container-id-9 input.sk-toggleable__control:checked~div.sk-toggleable__content {\n",
       "  /* Expand drop-down */\n",
       "  max-height: 200px;\n",
       "  max-width: 100%;\n",
       "  overflow: auto;\n",
       "}\n",
       "\n",
       "#sk-container-id-9 input.sk-toggleable__control:checked~label.sk-toggleable__label-arrow:before {\n",
       "  content: \"▾\";\n",
       "}\n",
       "\n",
       "/* Pipeline/ColumnTransformer-specific style */\n",
       "\n",
       "#sk-container-id-9 div.sk-label input.sk-toggleable__control:checked~label.sk-toggleable__label {\n",
       "  color: var(--sklearn-color-text);\n",
       "  background-color: var(--sklearn-color-unfitted-level-2);\n",
       "}\n",
       "\n",
       "#sk-container-id-9 div.sk-label.fitted input.sk-toggleable__control:checked~label.sk-toggleable__label {\n",
       "  background-color: var(--sklearn-color-fitted-level-2);\n",
       "}\n",
       "\n",
       "/* Estimator-specific style */\n",
       "\n",
       "/* Colorize estimator box */\n",
       "#sk-container-id-9 div.sk-estimator input.sk-toggleable__control:checked~label.sk-toggleable__label {\n",
       "  /* unfitted */\n",
       "  background-color: var(--sklearn-color-unfitted-level-2);\n",
       "}\n",
       "\n",
       "#sk-container-id-9 div.sk-estimator.fitted input.sk-toggleable__control:checked~label.sk-toggleable__label {\n",
       "  /* fitted */\n",
       "  background-color: var(--sklearn-color-fitted-level-2);\n",
       "}\n",
       "\n",
       "#sk-container-id-9 div.sk-label label.sk-toggleable__label,\n",
       "#sk-container-id-9 div.sk-label label {\n",
       "  /* The background is the default theme color */\n",
       "  color: var(--sklearn-color-text-on-default-background);\n",
       "}\n",
       "\n",
       "/* On hover, darken the color of the background */\n",
       "#sk-container-id-9 div.sk-label:hover label.sk-toggleable__label {\n",
       "  color: var(--sklearn-color-text);\n",
       "  background-color: var(--sklearn-color-unfitted-level-2);\n",
       "}\n",
       "\n",
       "/* Label box, darken color on hover, fitted */\n",
       "#sk-container-id-9 div.sk-label.fitted:hover label.sk-toggleable__label.fitted {\n",
       "  color: var(--sklearn-color-text);\n",
       "  background-color: var(--sklearn-color-fitted-level-2);\n",
       "}\n",
       "\n",
       "/* Estimator label */\n",
       "\n",
       "#sk-container-id-9 div.sk-label label {\n",
       "  font-family: monospace;\n",
       "  font-weight: bold;\n",
       "  display: inline-block;\n",
       "  line-height: 1.2em;\n",
       "}\n",
       "\n",
       "#sk-container-id-9 div.sk-label-container {\n",
       "  text-align: center;\n",
       "}\n",
       "\n",
       "/* Estimator-specific */\n",
       "#sk-container-id-9 div.sk-estimator {\n",
       "  font-family: monospace;\n",
       "  border: 1px dotted var(--sklearn-color-border-box);\n",
       "  border-radius: 0.25em;\n",
       "  box-sizing: border-box;\n",
       "  margin-bottom: 0.5em;\n",
       "  /* unfitted */\n",
       "  background-color: var(--sklearn-color-unfitted-level-0);\n",
       "}\n",
       "\n",
       "#sk-container-id-9 div.sk-estimator.fitted {\n",
       "  /* fitted */\n",
       "  background-color: var(--sklearn-color-fitted-level-0);\n",
       "}\n",
       "\n",
       "/* on hover */\n",
       "#sk-container-id-9 div.sk-estimator:hover {\n",
       "  /* unfitted */\n",
       "  background-color: var(--sklearn-color-unfitted-level-2);\n",
       "}\n",
       "\n",
       "#sk-container-id-9 div.sk-estimator.fitted:hover {\n",
       "  /* fitted */\n",
       "  background-color: var(--sklearn-color-fitted-level-2);\n",
       "}\n",
       "\n",
       "/* Specification for estimator info (e.g. \"i\" and \"?\") */\n",
       "\n",
       "/* Common style for \"i\" and \"?\" */\n",
       "\n",
       ".sk-estimator-doc-link,\n",
       "a:link.sk-estimator-doc-link,\n",
       "a:visited.sk-estimator-doc-link {\n",
       "  float: right;\n",
       "  font-size: smaller;\n",
       "  line-height: 1em;\n",
       "  font-family: monospace;\n",
       "  background-color: var(--sklearn-color-background);\n",
       "  border-radius: 1em;\n",
       "  height: 1em;\n",
       "  width: 1em;\n",
       "  text-decoration: none !important;\n",
       "  margin-left: 0.5em;\n",
       "  text-align: center;\n",
       "  /* unfitted */\n",
       "  border: var(--sklearn-color-unfitted-level-1) 1pt solid;\n",
       "  color: var(--sklearn-color-unfitted-level-1);\n",
       "}\n",
       "\n",
       ".sk-estimator-doc-link.fitted,\n",
       "a:link.sk-estimator-doc-link.fitted,\n",
       "a:visited.sk-estimator-doc-link.fitted {\n",
       "  /* fitted */\n",
       "  border: var(--sklearn-color-fitted-level-1) 1pt solid;\n",
       "  color: var(--sklearn-color-fitted-level-1);\n",
       "}\n",
       "\n",
       "/* On hover */\n",
       "div.sk-estimator:hover .sk-estimator-doc-link:hover,\n",
       ".sk-estimator-doc-link:hover,\n",
       "div.sk-label-container:hover .sk-estimator-doc-link:hover,\n",
       ".sk-estimator-doc-link:hover {\n",
       "  /* unfitted */\n",
       "  background-color: var(--sklearn-color-unfitted-level-3);\n",
       "  color: var(--sklearn-color-background);\n",
       "  text-decoration: none;\n",
       "}\n",
       "\n",
       "div.sk-estimator.fitted:hover .sk-estimator-doc-link.fitted:hover,\n",
       ".sk-estimator-doc-link.fitted:hover,\n",
       "div.sk-label-container:hover .sk-estimator-doc-link.fitted:hover,\n",
       ".sk-estimator-doc-link.fitted:hover {\n",
       "  /* fitted */\n",
       "  background-color: var(--sklearn-color-fitted-level-3);\n",
       "  color: var(--sklearn-color-background);\n",
       "  text-decoration: none;\n",
       "}\n",
       "\n",
       "/* Span, style for the box shown on hovering the info icon */\n",
       ".sk-estimator-doc-link span {\n",
       "  display: none;\n",
       "  z-index: 9999;\n",
       "  position: relative;\n",
       "  font-weight: normal;\n",
       "  right: .2ex;\n",
       "  padding: .5ex;\n",
       "  margin: .5ex;\n",
       "  width: min-content;\n",
       "  min-width: 20ex;\n",
       "  max-width: 50ex;\n",
       "  color: var(--sklearn-color-text);\n",
       "  box-shadow: 2pt 2pt 4pt #999;\n",
       "  /* unfitted */\n",
       "  background: var(--sklearn-color-unfitted-level-0);\n",
       "  border: .5pt solid var(--sklearn-color-unfitted-level-3);\n",
       "}\n",
       "\n",
       ".sk-estimator-doc-link.fitted span {\n",
       "  /* fitted */\n",
       "  background: var(--sklearn-color-fitted-level-0);\n",
       "  border: var(--sklearn-color-fitted-level-3);\n",
       "}\n",
       "\n",
       ".sk-estimator-doc-link:hover span {\n",
       "  display: block;\n",
       "}\n",
       "\n",
       "/* \"?\"-specific style due to the `<a>` HTML tag */\n",
       "\n",
       "#sk-container-id-9 a.estimator_doc_link {\n",
       "  float: right;\n",
       "  font-size: 1rem;\n",
       "  line-height: 1em;\n",
       "  font-family: monospace;\n",
       "  background-color: var(--sklearn-color-background);\n",
       "  border-radius: 1rem;\n",
       "  height: 1rem;\n",
       "  width: 1rem;\n",
       "  text-decoration: none;\n",
       "  /* unfitted */\n",
       "  color: var(--sklearn-color-unfitted-level-1);\n",
       "  border: var(--sklearn-color-unfitted-level-1) 1pt solid;\n",
       "}\n",
       "\n",
       "#sk-container-id-9 a.estimator_doc_link.fitted {\n",
       "  /* fitted */\n",
       "  border: var(--sklearn-color-fitted-level-1) 1pt solid;\n",
       "  color: var(--sklearn-color-fitted-level-1);\n",
       "}\n",
       "\n",
       "/* On hover */\n",
       "#sk-container-id-9 a.estimator_doc_link:hover {\n",
       "  /* unfitted */\n",
       "  background-color: var(--sklearn-color-unfitted-level-3);\n",
       "  color: var(--sklearn-color-background);\n",
       "  text-decoration: none;\n",
       "}\n",
       "\n",
       "#sk-container-id-9 a.estimator_doc_link.fitted:hover {\n",
       "  /* fitted */\n",
       "  background-color: var(--sklearn-color-fitted-level-3);\n",
       "}\n",
       "</style><div id=\"sk-container-id-9\" class=\"sk-top-container\"><div class=\"sk-text-repr-fallback\"><pre>ContinuousOptimalBinning(name=&#x27;Premium Amount&#x27;)</pre><b>In a Jupyter environment, please rerun this cell to show the HTML representation or trust the notebook. <br />On GitHub, the HTML representation is unable to render, please try loading this page with nbviewer.org.</b></div><div class=\"sk-container\" hidden><div class=\"sk-item\"><div class=\"sk-estimator  sk-toggleable\"><input class=\"sk-toggleable__control sk-hidden--visually\" id=\"sk-estimator-id-101\" type=\"checkbox\" checked><label for=\"sk-estimator-id-101\" class=\"sk-toggleable__label  sk-toggleable__label-arrow\"><div><div>ContinuousOptimalBinning</div></div><div><span class=\"sk-estimator-doc-link \">i<span>Not fitted</span></span></div></label><div class=\"sk-toggleable__content \"><pre>ContinuousOptimalBinning(name=&#x27;Premium Amount&#x27;)</pre></div> </div></div></div></div>"
      ],
      "text/plain": [
       "ContinuousOptimalBinning(name='Premium Amount')"
      ]
     },
     "execution_count": 58,
     "metadata": {},
     "output_type": "execute_result"
    }
   ],
   "source": [
    "binning = ContinuousOptimalBinning(name=\"Premium Amount\", dtype=\"numerical\")\n",
    "binning.fit(treated_dataset[\"Credit Score\"], treated_dataset[\"Premium Amount\"])\n",
    "\n"
   ]
  },
  {
   "cell_type": "code",
   "execution_count": 62,
   "metadata": {},
   "outputs": [
    {
     "data": {
      "image/png": "[encoded data removed]",
      "text/plain": [
       "<Figure size 640x480 with 2 Axes>"
      ]
     },
     "metadata": {},
     "output_type": "display_data"
    }
   ],
   "source": [
    "binning.binning_table.plot()\n"
   ]
  },
  {
   "cell_type": "code",
   "execution_count": null,
   "metadata": {},
   "outputs": [],
   "source": [
    "import optuna\n",
    "import lightgbm as lgb\n",
    "from sklearn.model_selection import ShuffleSplit\n",
    "from datetime import datetime\n",
    "import numpy as np\n",
    "\n",
    "# Define objective function\n",
    "def objective(trial):\n",
    "    param_grid = {\n",
    "        'boosting_type': 'gbdt',  # Gradient Boosting Decision Tree\n",
    "        'objective': 'regression',  # Use 'binary' for classification\n",
    "        'learning_rate': trial.suggest_loguniform('learning_rate', 0.02, 0.1),  # Fine-tuned range\n",
    "        'num_leaves': trial.suggest_int('num_leaves', 1, 50),  # Wider range for more exploration\n",
    "        'max_depth': trial.suggest_int('max_depth', -1, 50),  # Allow deeper trees or unlimited depth (-1)\n",
    "        'feature_fraction': trial.suggest_uniform('feature_fraction', 0.4, 0.8),  # Sampling fraction of features\n",
    "        'bagging_fraction': trial.suggest_uniform('bagging_fraction', 0.85, 1.0),  # Sampling fraction of data\n",
    "        'bagging_freq': trial.suggest_int('bagging_freq', 1, 7),  # Frequency of bagging\n",
    "        'min_child_samples': trial.suggest_int('min_child_samples', 5, 50),  # Minimum samples per leaf\n",
    "        'min_split_gain': trial.suggest_loguniform('min_split_gain', 1e-3, 0.1),  # Minimum gain for a split\n",
    "        'min_child_weight': trial.suggest_loguniform('min_child_weight', 1e-3, 10),  # Minimum weight for children\n",
    "        'lambda_l1': trial.suggest_loguniform('lambda_l1', 1e-3, 10),  # L1 regularization\n",
    "        'lambda_l2': trial.suggest_loguniform('lambda_l2', 1e-3, 10),  # L2 regularization\n",
    "        'cat_smooth': trial.suggest_uniform('cat_smooth', 5, 30),  # Smoothing for categorical features\n",
    "        'max_bin': trial.suggest_int('max_bin', 150, 200),  # Granularity of feature splits\n",
    "        'verbose': -1,  # Suppress output\n",
    "        'random_state': 41,  # Reproducibility\n",
    "    }\n",
    "    print(param_grid)\n",
    "    \n",
    "    # Define a 60-40 split\n",
    "    splitter = ShuffleSplit(n_splits=5, test_size=0.4, random_state=1)\n",
    "\n",
    "\n",
    "    results = []\n",
    "    for train_idx, val_idx in splitter.split(X_train_fixed):\n",
    "        # Prepare data for LightGBM\n",
    "        X_train_fold, X_val_fold = X_train_fixed.iloc[train_idx], X_train_fixed.iloc[val_idx]\n",
    "        y_train_fold, y_val_fold = y_train.iloc[train_idx], y_train.iloc[val_idx]\n",
    "        \n",
    "        train_data_lgbm = lgb.Dataset(X_train_fold, label=y_train_fold)\n",
    "        val_data_lgbm = lgb.Dataset(X_val_fold, label=y_val_fold)\n",
    "        \n",
    "        # Train model\n",
    "        model = lgb.train(\n",
    "            param_grid,\n",
    "            train_data_lgbm,\n",
    "            num_boost_round=500,\n",
    "            valid_sets=[train_data_lgbm, val_data_lgbm],\n",
    "            valid_names=[\"train\", \"validation\"],\n",
    "            feval=rmsle_metric,    # Custom RMSLE metric\n",
    "            callbacks=[\n",
    "                lgb.early_stopping(stopping_rounds=10),\n",
    "                lgb.log_evaluation(period=5),  # Optional: Logs evaluation every 10 rounds\n",
    "            ]\n",
    "        )\n",
    "        results.append(model.best_score['validation']['rmsle'])\n",
    "        \n",
    "    # Use validation score\n",
    "    return np.mean(results)"
   ]
  },
  {
   "cell_type": "code",
   "execution_count": null,
   "metadata": {},
   "outputs": [],
   "source": []
  }
 ],
 "metadata": {
  "kernelspec": {
   "display_name": "venv",
   "language": "python",
   "name": "python3"
  },
  "language_info": {
   "codemirror_mode": {
    "name": "ipython",
    "version": 3
   },
   "file_extension": ".py",
   "mimetype": "text/x-python",
   "name": "python",
   "nbconvert_exporter": "python",
   "pygments_lexer": "ipython3",
   "version": "3.10.6"
  }
 },
 "nbformat": 4,
 "nbformat_minor": 2
}
