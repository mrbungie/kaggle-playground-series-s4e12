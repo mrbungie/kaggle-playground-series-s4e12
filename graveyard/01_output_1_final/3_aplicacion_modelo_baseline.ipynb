{
 "cells": [
  {
   "cell_type": "code",
   "execution_count": 11,
   "id": "d68ceec4-b2a3-44bc-b809-8bd42339ffa8",
   "metadata": {},
   "outputs": [
    {
     "name": "stdout",
     "output_type": "stream",
     "text": [
      "^C\n"
     ]
    }
   ],
   "source": [
    "!pip install duckdb ydata-profiling pycaret  xgboost lightgbm catboost"
   ]
  },
  {
   "cell_type": "code",
   "execution_count": 4,
   "id": "41cda59f-8d67-4f24-bb88-477f981132ce",
   "metadata": {},
   "outputs": [],
   "source": [
    "import pandas as pd\n",
    "import numpy as np\n",
    "import duckdb\n",
    "import plotnine as p9\n",
    "\n",
    "import pandas as pd\n",
    "from sklearn.preprocessing import KBinsDiscretizer\n",
    "from kmodes.kmodes import KModes\n",
    "\n",
    "from sklearn.model_selection import train_test_split\n",
    "from sklearn.preprocessing import LabelEncoder\n",
    "\n",
    "from kmodes.kprototypes import KPrototypes\n",
    "from sklearn.metrics import adjusted_rand_score\n"
   ]
  },
  {
   "cell_type": "code",
   "execution_count": 10,
   "id": "b4d63602-5964-40c6-82d7-a0b683192034",
   "metadata": {},
   "outputs": [],
   "source": [
    "full_train_csv_data = pd.read_csv(\"../playground-series-s4e12/train.csv\")\n",
    "full_test_csv_data = pd.read_csv(\"../playground-series-s4e12/test.csv\")"
   ]
  },
  {
   "cell_type": "code",
   "execution_count": 11,
   "id": "d5597f2b-6b8c-404d-85a8-5105da666ee5",
   "metadata": {},
   "outputs": [
    {
     "data": {
      "text/plain": [
       "800000"
      ]
     },
     "execution_count": 11,
     "metadata": {},
     "output_type": "execute_result"
    }
   ],
   "source": [
    "len(full_test_csv_data)"
   ]
  },
  {
   "cell_type": "code",
   "execution_count": 12,
   "id": "1f3de277-8353-4a3b-afa3-1e4e06e98b9c",
   "metadata": {},
   "outputs": [
    {
     "data": {
      "text/plain": [
       "1200000"
      ]
     },
     "execution_count": 12,
     "metadata": {},
     "output_type": "execute_result"
    }
   ],
   "source": [
    "len(full_train_csv_data)"
   ]
  },
  {
   "cell_type": "code",
   "execution_count": 13,
   "id": "2eb78453-847b-4dc4-a9fc-a386e6e2fea3",
   "metadata": {},
   "outputs": [],
   "source": [
    "import pandas as pd\n",
    "from pycaret.regression import setup, compare_models, add_metric"
   ]
  },
  {
   "cell_type": "code",
   "execution_count": null,
   "id": "323435ca-c68d-4ecb-8e01-46f3a60f2f95",
   "metadata": {},
   "outputs": [],
   "source": []
  },
  {
   "cell_type": "code",
   "execution_count": 14,
   "id": "b5250cf2-8de1-4ff7-9e7f-bfbf03631809",
   "metadata": {},
   "outputs": [],
   "source": [
    "# Separate numeric and categorical columns\n",
    "numeric_cols = full_test_csv_data.select_dtypes(include=['float64', 'int64']).columns\n",
    "categorical_cols = full_test_csv_data.select_dtypes(include=['object']).columns"
   ]
  },
  {
   "cell_type": "code",
   "execution_count": 15,
   "id": "98f8dd18-cfe7-4586-8ea7-684077f35883",
   "metadata": {},
   "outputs": [
    {
     "data": {
      "text/plain": [
       "Index(['Gender', 'Marital Status', 'Education Level', 'Occupation', 'Location',\n",
       "       'Policy Type', 'Policy Start Date', 'Customer Feedback',\n",
       "       'Smoking Status', 'Exercise Frequency', 'Property Type'],\n",
       "      dtype='object')"
      ]
     },
     "execution_count": 15,
     "metadata": {},
     "output_type": "execute_result"
    }
   ],
   "source": [
    "categorical_cols"
   ]
  },
  {
   "cell_type": "code",
   "execution_count": 16,
   "id": "4d9336fb-9f2b-4cf7-9273-58f859c69e68",
   "metadata": {},
   "outputs": [],
   "source": [
    "def treat_dataset_pandas_init(dataset):\n",
    "    dataset = dataset.copy()\n",
    "    dataset['Policy Start Date'] = pd.to_datetime(dataset['Policy Start Date'])\n",
    "    # Get the last date in the dataset\n",
    "    last_date = dataset['Policy Start Date'].max()\n",
    "    \n",
    "    # Add 1 day to the last date\n",
    "    reference_date = last_date + pd.Timedelta(days=1)\n",
    "    \n",
    "    # Calculate Customer Tenure in years from the reference date\n",
    "    dataset['Customer Tenure'] = (reference_date - dataset['Policy Start Date']).dt.days / 365\n",
    "    dataset['Claim Frequency'] = dataset['Previous Claims'] / dataset['Insurance Duration']\n",
    "    # Extract year, month, day, hour, minute, second from 'Policy Start Date'\n",
    "    dataset['Policy Start Year'] = dataset['Policy Start Date'].dt.year\n",
    "    dataset['Policy Start Month'] = dataset['Policy Start Date'].dt.month\n",
    "    dataset['Policy Start Day'] = dataset['Policy Start Date'].dt.day\n",
    "    dataset['Policy Start Hour'] = dataset['Policy Start Date'].dt.hour\n",
    "    dataset['Policy Start Minute'] = dataset['Policy Start Date'].dt.minute\n",
    "    dataset['Policy Start Second'] = dataset['Policy Start Date'].dt.second\n",
    "    dataset['Null columns'] = dataset.isnull().sum(axis=1)\n",
    "\n",
    "    del dataset[\"id\"]\n",
    "    del dataset[\"Policy Start Date\"]\n",
    "\n",
    "    if \"Premium Amount\" in dataset.columns:\n",
    "        dataset[\"Premium Amount\"] = np.log10(dataset[\"Premium Amount\"] + 1)\n",
    "\n",
    "    dataset[\"Annual Income log 10\"] = np.log10(dataset[\"Annual Income\"])\n",
    "    dataset[\"Previous Claims log\"] = np.log1p(dataset[\"Previous Claims\"])\n",
    "\n",
    "    for col in [col for col in dataset.columns if col not in [\"Premium Amount\",\"id\"]]:\n",
    "        dataset[f\"{col}_null\"] = dataset[col].isnull()\n",
    "    \n",
    "    for col in categorical_cols:\n",
    "        if col in dataset.columns:\n",
    "            dataset[col] =  dataset[col].astype(\"category\")\n",
    "    \n",
    "    return dataset"
   ]
  },
  {
   "cell_type": "code",
   "execution_count": 17,
   "id": "814a5cfa-3cab-4dba-b261-f5403923c958",
   "metadata": {},
   "outputs": [],
   "source": [
    "train_data = treat_dataset_pandas_init(full_train_csv_data)\n",
    "test_data = treat_dataset_pandas_init(full_test_csv_data)"
   ]
  },
  {
   "cell_type": "code",
   "execution_count": 18,
   "id": "1c0d4437-5cc9-41e5-9e40-7aec1de193a1",
   "metadata": {},
   "outputs": [],
   "source": [
    "X_train = train_data[[col for col in train_data.columns if col != \"Premium Amount\"]]\n",
    "y_train = train_data[\"Premium Amount\"]\n",
    "X_val = test_data[[col for col in test_data.columns if col != \"Premium Amount\"]]"
   ]
  },
  {
   "cell_type": "code",
   "execution_count": 42,
   "id": "c3ba0a89-a909-4e8b-9577-5deda63e0846",
   "metadata": {},
   "outputs": [],
   "source": [
    "def get_weights(y, num_bins=10):\n",
    "    # Step 1: Calculate frequencies of each class\n",
    "    # Step 1: Bin the target variable\n",
    "    bin_edges = np.linspace(y.min(), y.max(), num_bins + 1)\n",
    "    y_binned = np.digitize(y, bins=bin_edges, right=False)\n",
    "    \n",
    "    # Step 2: Calculate frequencies for each bin\n",
    "    bin_counts = pd.value_counts(y_binned, sort=False)\n",
    "    bin_weights = {bin_idx: 1.0 / count for bin_idx, count in bin_counts.items()}\n",
    "    \n",
    "    # Step 3: Assign weights to each sample\n",
    "    weights = np.array([bin_weights[bin_idx] for bin_idx in y_binned])\n",
    "    weights /= weights.mean()\n",
    "\n",
    "    return weights"
   ]
  },
  {
   "cell_type": "code",
   "execution_count": 30,
   "id": "73ebd972-7f3a-4e23-9622-0cf171dc4742",
   "metadata": {},
   "outputs": [
    {
     "data": {
      "text/plain": [
       "10.999999999999993"
      ]
     },
     "execution_count": 30,
     "metadata": {},
     "output_type": "execute_result"
    }
   ],
   "source": [
    "get_weights(y_train).sum()"
   ]
  },
  {
   "cell_type": "code",
   "execution_count": 8,
   "id": "adfabe01-9923-4966-82ee-d98bf0d20b30",
   "metadata": {},
   "outputs": [],
   "source": [
    "from sklearn.metrics import root_mean_squared_log_error\n",
    "\n",
    "def source_range_root_mean_squared_log_error(y_true, y_pred, *args, **kwargs):\n",
    "    y_true_orig_range = np.power(10, y_true) - 1\n",
    "    y_pred_orig_range = np.power(10, y_pred) - 1\n",
    "\n",
    "    return root_mean_squared_log_error(y_true_orig_range, y_pred_orig_range, *args, **kwargs)"
   ]
  },
  {
   "cell_type": "code",
   "execution_count": null,
   "id": "c9ae4cf1-5163-4181-b5d8-bb0a3ec72a66",
   "metadata": {},
   "outputs": [],
   "source": [
    "v"
   ]
  },
  {
   "cell_type": "markdown",
   "id": "db4be37c-3cbb-4df6-9309-fecbe931ba9e",
   "metadata": {},
   "source": [
    "# Lighbm"
   ]
  },
  {
   "cell_type": "code",
   "execution_count": 106,
   "id": "521ade96-46d2-41aa-9714-11098518bcfc",
   "metadata": {},
   "outputs": [],
   "source": [
    "from sklearn.metrics import root_mean_squared_log_error"
   ]
  },
  {
   "cell_type": "code",
   "execution_count": 35,
   "id": "6bea33e4-9dfe-4113-a945-58851976082c",
   "metadata": {},
   "outputs": [],
   "source": [
    "def rmsle_objective(y_pred, dataset):\n",
    "    y_true = dataset.get_label()\n",
    "    \n",
    "    y_true = np.power(10, y_true)\n",
    "    y_pred = np.power(10, y_pred)\n",
    "    \n",
    "    # Ensure no negative predictions\n",
    "    y_pred = np.maximum(y_pred, 1e-15)\n",
    "    log_diff = np.log(y_pred + 1) - np.log(y_true + 1)\n",
    "    grad = 2 * log_diff / (y_pred + 1)\n",
    "    hess = 2 / (y_pred + 1)**2\n",
    "    \n",
    "    return grad, hess\n",
    "\n",
    "def rmsle_metric(y_pred, y_true):    \n",
    "    y_true = np.power(10, y_true) - 1\n",
    "    y_pred = np.power(10, y_pred) - 1\n",
    "\n",
    "    rmsle = root_mean_squared_log_error(y_true, y_pred)\n",
    "    \n",
    "    return 'rmsle', rmsle, False  # False because lower is better"
   ]
  },
  {
   "cell_type": "code",
   "execution_count": 108,
   "id": "650aa313-1409-47cf-b3c4-be5546c265d6",
   "metadata": {},
   "outputs": [],
   "source": [
    "import lightgbm as lgb\n",
    "import numpy as np\n",
    "from sklearn.model_selection import KFold\n"
   ]
  },
  {
   "cell_type": "code",
   "execution_count": 109,
   "id": "2fc3ddae-346f-4fc7-90df-fa9e1938b531",
   "metadata": {},
   "outputs": [
    {
     "data": {
      "text/plain": [
       "1.3222192947339193"
      ]
     },
     "execution_count": 109,
     "metadata": {},
     "output_type": "execute_result"
    }
   ],
   "source": [
    "y_train.min()"
   ]
  },
  {
   "cell_type": "code",
   "execution_count": 32,
   "id": "453705a9-4af5-4988-af0e-ec0c8b4d9dfe",
   "metadata": {},
   "outputs": [],
   "source": [
    "import xgboost as xgb\n",
    "import lightgbm as lgb\n"
   ]
  },
  {
   "cell_type": "code",
   "execution_count": 130,
   "id": "03fff9ea-b95c-4bef-b522-e0f9f00f28b8",
   "metadata": {},
   "outputs": [],
   "source": [
    "from models import BinnedXGBRegressionModel"
   ]
  },
  {
   "cell_type": "code",
   "execution_count": 126,
   "id": "b715f43e-17b8-478d-8b65-2f695b5de4d2",
   "metadata": {},
   "outputs": [
    {
     "data": {
      "text/html": [
       "<div>\n",
       "<style scoped>\n",
       "    .dataframe tbody tr th:only-of-type {\n",
       "        vertical-align: middle;\n",
       "    }\n",
       "\n",
       "    .dataframe tbody tr th {\n",
       "        vertical-align: top;\n",
       "    }\n",
       "\n",
       "    .dataframe thead th {\n",
       "        text-align: right;\n",
       "    }\n",
       "</style>\n",
       "<table border=\"1\" class=\"dataframe\">\n",
       "  <thead>\n",
       "    <tr style=\"text-align: right;\">\n",
       "      <th></th>\n",
       "      <th>Age</th>\n",
       "      <th>Gender</th>\n",
       "      <th>Annual Income</th>\n",
       "      <th>Marital Status</th>\n",
       "      <th>Number of Dependents</th>\n",
       "      <th>Education Level</th>\n",
       "      <th>Occupation</th>\n",
       "      <th>Health Score</th>\n",
       "      <th>Location</th>\n",
       "      <th>Policy Type</th>\n",
       "      <th>...</th>\n",
       "      <th>rand_var_0</th>\n",
       "      <th>rand_var_1</th>\n",
       "      <th>rand_var_2</th>\n",
       "      <th>rand_var_3</th>\n",
       "      <th>rand_var_4</th>\n",
       "      <th>rand_var_5</th>\n",
       "      <th>rand_var_6</th>\n",
       "      <th>rand_var_7</th>\n",
       "      <th>rand_var_8</th>\n",
       "      <th>rand_var_9</th>\n",
       "    </tr>\n",
       "  </thead>\n",
       "  <tbody>\n",
       "    <tr>\n",
       "      <th>1067346</th>\n",
       "      <td>24.0</td>\n",
       "      <td>Male</td>\n",
       "      <td>3322.0</td>\n",
       "      <td>Single</td>\n",
       "      <td>1.0</td>\n",
       "      <td>Master's</td>\n",
       "      <td>Self-Employed</td>\n",
       "      <td>25.420095</td>\n",
       "      <td>Rural</td>\n",
       "      <td>Comprehensive</td>\n",
       "      <td>...</td>\n",
       "      <td>0.294668</td>\n",
       "      <td>0.756127</td>\n",
       "      <td>0.436232</td>\n",
       "      <td>0.172232</td>\n",
       "      <td>0.800602</td>\n",
       "      <td>0.981010</td>\n",
       "      <td>0.482679</td>\n",
       "      <td>0.359591</td>\n",
       "      <td>0.497413</td>\n",
       "      <td>0.235071</td>\n",
       "    </tr>\n",
       "    <tr>\n",
       "      <th>256599</th>\n",
       "      <td>53.0</td>\n",
       "      <td>Male</td>\n",
       "      <td>15774.0</td>\n",
       "      <td>Single</td>\n",
       "      <td>3.0</td>\n",
       "      <td>Bachelor's</td>\n",
       "      <td>Employed</td>\n",
       "      <td>49.383968</td>\n",
       "      <td>Rural</td>\n",
       "      <td>Basic</td>\n",
       "      <td>...</td>\n",
       "      <td>0.725363</td>\n",
       "      <td>0.676296</td>\n",
       "      <td>0.641614</td>\n",
       "      <td>0.639033</td>\n",
       "      <td>0.914842</td>\n",
       "      <td>0.633942</td>\n",
       "      <td>0.697627</td>\n",
       "      <td>0.720431</td>\n",
       "      <td>0.156563</td>\n",
       "      <td>0.599474</td>\n",
       "    </tr>\n",
       "    <tr>\n",
       "      <th>501662</th>\n",
       "      <td>33.0</td>\n",
       "      <td>Male</td>\n",
       "      <td>80686.0</td>\n",
       "      <td>Married</td>\n",
       "      <td>NaN</td>\n",
       "      <td>PhD</td>\n",
       "      <td>NaN</td>\n",
       "      <td>20.857803</td>\n",
       "      <td>Rural</td>\n",
       "      <td>Basic</td>\n",
       "      <td>...</td>\n",
       "      <td>0.839413</td>\n",
       "      <td>0.201352</td>\n",
       "      <td>0.756643</td>\n",
       "      <td>0.531282</td>\n",
       "      <td>0.252997</td>\n",
       "      <td>0.321940</td>\n",
       "      <td>0.955863</td>\n",
       "      <td>0.316257</td>\n",
       "      <td>0.504241</td>\n",
       "      <td>0.669762</td>\n",
       "    </tr>\n",
       "    <tr>\n",
       "      <th>47915</th>\n",
       "      <td>53.0</td>\n",
       "      <td>Male</td>\n",
       "      <td>12862.0</td>\n",
       "      <td>Divorced</td>\n",
       "      <td>1.0</td>\n",
       "      <td>High School</td>\n",
       "      <td>Unemployed</td>\n",
       "      <td>14.027907</td>\n",
       "      <td>Rural</td>\n",
       "      <td>Comprehensive</td>\n",
       "      <td>...</td>\n",
       "      <td>0.092349</td>\n",
       "      <td>0.727332</td>\n",
       "      <td>0.166094</td>\n",
       "      <td>0.912402</td>\n",
       "      <td>0.046725</td>\n",
       "      <td>0.479449</td>\n",
       "      <td>0.869187</td>\n",
       "      <td>0.976216</td>\n",
       "      <td>0.073194</td>\n",
       "      <td>0.172922</td>\n",
       "    </tr>\n",
       "    <tr>\n",
       "      <th>289220</th>\n",
       "      <td>62.0</td>\n",
       "      <td>Male</td>\n",
       "      <td>17076.0</td>\n",
       "      <td>Married</td>\n",
       "      <td>2.0</td>\n",
       "      <td>PhD</td>\n",
       "      <td>NaN</td>\n",
       "      <td>33.019563</td>\n",
       "      <td>Rural</td>\n",
       "      <td>Comprehensive</td>\n",
       "      <td>...</td>\n",
       "      <td>0.305390</td>\n",
       "      <td>0.292910</td>\n",
       "      <td>0.217076</td>\n",
       "      <td>0.234200</td>\n",
       "      <td>0.458933</td>\n",
       "      <td>0.749756</td>\n",
       "      <td>0.661455</td>\n",
       "      <td>0.230509</td>\n",
       "      <td>0.451165</td>\n",
       "      <td>0.142329</td>\n",
       "    </tr>\n",
       "    <tr>\n",
       "      <th>...</th>\n",
       "      <td>...</td>\n",
       "      <td>...</td>\n",
       "      <td>...</td>\n",
       "      <td>...</td>\n",
       "      <td>...</td>\n",
       "      <td>...</td>\n",
       "      <td>...</td>\n",
       "      <td>...</td>\n",
       "      <td>...</td>\n",
       "      <td>...</td>\n",
       "      <td>...</td>\n",
       "      <td>...</td>\n",
       "      <td>...</td>\n",
       "      <td>...</td>\n",
       "      <td>...</td>\n",
       "      <td>...</td>\n",
       "      <td>...</td>\n",
       "      <td>...</td>\n",
       "      <td>...</td>\n",
       "      <td>...</td>\n",
       "      <td>...</td>\n",
       "    </tr>\n",
       "    <tr>\n",
       "      <th>836489</th>\n",
       "      <td>37.0</td>\n",
       "      <td>Male</td>\n",
       "      <td>39120.0</td>\n",
       "      <td>Single</td>\n",
       "      <td>1.0</td>\n",
       "      <td>Bachelor's</td>\n",
       "      <td>NaN</td>\n",
       "      <td>47.939608</td>\n",
       "      <td>Urban</td>\n",
       "      <td>Comprehensive</td>\n",
       "      <td>...</td>\n",
       "      <td>0.461464</td>\n",
       "      <td>0.382753</td>\n",
       "      <td>0.337269</td>\n",
       "      <td>0.718637</td>\n",
       "      <td>0.797296</td>\n",
       "      <td>0.027897</td>\n",
       "      <td>0.318733</td>\n",
       "      <td>0.592962</td>\n",
       "      <td>0.926411</td>\n",
       "      <td>0.449853</td>\n",
       "    </tr>\n",
       "    <tr>\n",
       "      <th>491263</th>\n",
       "      <td>22.0</td>\n",
       "      <td>Male</td>\n",
       "      <td>8078.0</td>\n",
       "      <td>Single</td>\n",
       "      <td>0.0</td>\n",
       "      <td>High School</td>\n",
       "      <td>Employed</td>\n",
       "      <td>18.720524</td>\n",
       "      <td>Urban</td>\n",
       "      <td>Comprehensive</td>\n",
       "      <td>...</td>\n",
       "      <td>0.812748</td>\n",
       "      <td>0.774635</td>\n",
       "      <td>0.670007</td>\n",
       "      <td>0.054466</td>\n",
       "      <td>0.932249</td>\n",
       "      <td>0.305337</td>\n",
       "      <td>0.138253</td>\n",
       "      <td>0.082488</td>\n",
       "      <td>0.666993</td>\n",
       "      <td>0.988497</td>\n",
       "    </tr>\n",
       "    <tr>\n",
       "      <th>470924</th>\n",
       "      <td>64.0</td>\n",
       "      <td>Female</td>\n",
       "      <td>2789.0</td>\n",
       "      <td>Married</td>\n",
       "      <td>4.0</td>\n",
       "      <td>Bachelor's</td>\n",
       "      <td>NaN</td>\n",
       "      <td>3.848096</td>\n",
       "      <td>Rural</td>\n",
       "      <td>Basic</td>\n",
       "      <td>...</td>\n",
       "      <td>0.199434</td>\n",
       "      <td>0.343592</td>\n",
       "      <td>0.016318</td>\n",
       "      <td>0.853095</td>\n",
       "      <td>0.886846</td>\n",
       "      <td>0.126434</td>\n",
       "      <td>0.161287</td>\n",
       "      <td>0.762407</td>\n",
       "      <td>0.279665</td>\n",
       "      <td>0.601265</td>\n",
       "    </tr>\n",
       "    <tr>\n",
       "      <th>491755</th>\n",
       "      <td>21.0</td>\n",
       "      <td>Female</td>\n",
       "      <td>17121.0</td>\n",
       "      <td>Divorced</td>\n",
       "      <td>3.0</td>\n",
       "      <td>PhD</td>\n",
       "      <td>Employed</td>\n",
       "      <td>22.583500</td>\n",
       "      <td>Urban</td>\n",
       "      <td>Premium</td>\n",
       "      <td>...</td>\n",
       "      <td>0.010757</td>\n",
       "      <td>0.820673</td>\n",
       "      <td>0.252177</td>\n",
       "      <td>0.514541</td>\n",
       "      <td>0.052684</td>\n",
       "      <td>0.712962</td>\n",
       "      <td>0.724077</td>\n",
       "      <td>0.464268</td>\n",
       "      <td>0.066081</td>\n",
       "      <td>0.649447</td>\n",
       "    </tr>\n",
       "    <tr>\n",
       "      <th>128037</th>\n",
       "      <td>39.0</td>\n",
       "      <td>Male</td>\n",
       "      <td>2900.0</td>\n",
       "      <td>Married</td>\n",
       "      <td>2.0</td>\n",
       "      <td>Master's</td>\n",
       "      <td>Self-Employed</td>\n",
       "      <td>49.989971</td>\n",
       "      <td>Urban</td>\n",
       "      <td>Comprehensive</td>\n",
       "      <td>...</td>\n",
       "      <td>0.517308</td>\n",
       "      <td>0.036180</td>\n",
       "      <td>0.363120</td>\n",
       "      <td>0.275502</td>\n",
       "      <td>0.798720</td>\n",
       "      <td>0.617593</td>\n",
       "      <td>0.141692</td>\n",
       "      <td>0.080466</td>\n",
       "      <td>0.633953</td>\n",
       "      <td>0.288432</td>\n",
       "    </tr>\n",
       "  </tbody>\n",
       "</table>\n",
       "<p>1140000 rows × 68 columns</p>\n",
       "</div>"
      ],
      "text/plain": [
       "          Age  Gender  Annual Income Marital Status  Number of Dependents  \\\n",
       "1067346  24.0    Male         3322.0         Single                   1.0   \n",
       "256599   53.0    Male        15774.0         Single                   3.0   \n",
       "501662   33.0    Male        80686.0        Married                   NaN   \n",
       "47915    53.0    Male        12862.0       Divorced                   1.0   \n",
       "289220   62.0    Male        17076.0        Married                   2.0   \n",
       "...       ...     ...            ...            ...                   ...   \n",
       "836489   37.0    Male        39120.0         Single                   1.0   \n",
       "491263   22.0    Male         8078.0         Single                   0.0   \n",
       "470924   64.0  Female         2789.0        Married                   4.0   \n",
       "491755   21.0  Female        17121.0       Divorced                   3.0   \n",
       "128037   39.0    Male         2900.0        Married                   2.0   \n",
       "\n",
       "        Education Level     Occupation  Health Score Location    Policy Type  \\\n",
       "1067346        Master's  Self-Employed     25.420095    Rural  Comprehensive   \n",
       "256599       Bachelor's       Employed     49.383968    Rural          Basic   \n",
       "501662              PhD            NaN     20.857803    Rural          Basic   \n",
       "47915       High School     Unemployed     14.027907    Rural  Comprehensive   \n",
       "289220              PhD            NaN     33.019563    Rural  Comprehensive   \n",
       "...                 ...            ...           ...      ...            ...   \n",
       "836489       Bachelor's            NaN     47.939608    Urban  Comprehensive   \n",
       "491263      High School       Employed     18.720524    Urban  Comprehensive   \n",
       "470924       Bachelor's            NaN      3.848096    Rural          Basic   \n",
       "491755              PhD       Employed     22.583500    Urban        Premium   \n",
       "128037         Master's  Self-Employed     49.989971    Urban  Comprehensive   \n",
       "\n",
       "         ...  rand_var_0  rand_var_1  rand_var_2  rand_var_3 rand_var_4  \\\n",
       "1067346  ...    0.294668    0.756127    0.436232    0.172232   0.800602   \n",
       "256599   ...    0.725363    0.676296    0.641614    0.639033   0.914842   \n",
       "501662   ...    0.839413    0.201352    0.756643    0.531282   0.252997   \n",
       "47915    ...    0.092349    0.727332    0.166094    0.912402   0.046725   \n",
       "289220   ...    0.305390    0.292910    0.217076    0.234200   0.458933   \n",
       "...      ...         ...         ...         ...         ...        ...   \n",
       "836489   ...    0.461464    0.382753    0.337269    0.718637   0.797296   \n",
       "491263   ...    0.812748    0.774635    0.670007    0.054466   0.932249   \n",
       "470924   ...    0.199434    0.343592    0.016318    0.853095   0.886846   \n",
       "491755   ...    0.010757    0.820673    0.252177    0.514541   0.052684   \n",
       "128037   ...    0.517308    0.036180    0.363120    0.275502   0.798720   \n",
       "\n",
       "        rand_var_5 rand_var_6 rand_var_7  rand_var_8  rand_var_9  \n",
       "1067346   0.981010   0.482679   0.359591    0.497413    0.235071  \n",
       "256599    0.633942   0.697627   0.720431    0.156563    0.599474  \n",
       "501662    0.321940   0.955863   0.316257    0.504241    0.669762  \n",
       "47915     0.479449   0.869187   0.976216    0.073194    0.172922  \n",
       "289220    0.749756   0.661455   0.230509    0.451165    0.142329  \n",
       "...            ...        ...        ...         ...         ...  \n",
       "836489    0.027897   0.318733   0.592962    0.926411    0.449853  \n",
       "491263    0.305337   0.138253   0.082488    0.666993    0.988497  \n",
       "470924    0.126434   0.161287   0.762407    0.279665    0.601265  \n",
       "491755    0.712962   0.724077   0.464268    0.066081    0.649447  \n",
       "128037    0.617593   0.141692   0.080466    0.633953    0.288432  \n",
       "\n",
       "[1140000 rows x 68 columns]"
      ]
     },
     "execution_count": 126,
     "metadata": {},
     "output_type": "execute_result"
    }
   ],
   "source": [
    "X_train.iloc[train_idx]"
   ]
  },
  {
   "cell_type": "code",
   "execution_count": 43,
   "id": "5b007b34-b074-464e-8c3d-cbfeea8b14e9",
   "metadata": {},
   "outputs": [
    {
     "name": "stdout",
     "output_type": "stream",
     "text": [
      "Starting\n",
      "Train: ('rmsle', 1.0449351019406832, False), Test: ('rmsle', 1.0444262068476886, False)\n",
      "Starting\n",
      "Train: ('rmsle', 1.044480313316101, False), Test: ('rmsle', 1.0462181981338883, False)\n",
      "Starting\n",
      "Train: ('rmsle', 1.044690347879979, False), Test: ('rmsle', 1.0449640656878332, False)\n",
      "Starting\n",
      "Train: ('rmsle', 1.0444970994953586, False), Test: ('rmsle', 1.0462344117368445, False)\n",
      "Starting\n",
      "Train: ('rmsle', 1.0449919086982777, False), Test: ('rmsle', 1.0437623704644123, False)\n"
     ]
    }
   ],
   "source": [
    "from sklearn.model_selection import ShuffleSplit\n",
    "import numpy as np\n",
    "\n",
    "# Define a 60-40 split\n",
    "splitter = ShuffleSplit(n_splits=5, test_size=0.2, random_state=1)\n",
    "\n",
    "for train_idx, val_idx in splitter.split(X_train):\n",
    "    print(\"Starting\")\n",
    "    # Prepare data for LightGBM\n",
    "    X_train_fold, X_val_fold = X_train.iloc[train_idx], X_train.iloc[val_idx]\n",
    "    y_train_fold, y_val_fold = y_train.iloc[train_idx], y_train.iloc[val_idx]\n",
    "\n",
    "    X_train_fold_weights = get_weights(y_train_fold, num_bins=2)\n",
    "    \n",
    "    # Train model\n",
    "    model = xgb.XGBRegressor(enable_categorical=True, eta=0.05, colsample_bytree=0.75, num_boost_round=500)\n",
    "    model.fit(X_train_fold, y_train_fold)\n",
    "    \n",
    "    train_score = rmsle_metric(model.predict(X_train_fold), y_train_fold)\n",
    "    val_score = rmsle_metric(model.predict(X_val_fold), y_val_fold)\n",
    "\n",
    "    print(f\"Train: {train_score}, Test: {val_score}\")"
   ]
  },
  {
   "cell_type": "code",
   "execution_count": 133,
   "id": "1d885947-0743-4494-bc23-8e3a848ac056",
   "metadata": {},
   "outputs": [],
   "source": [
    "importances = pd.Series(model.get_booster().get_score(importance_type='total_gain')).reset_index()\n",
    "importances.columns = [\"column\", \"gain\"]\n",
    "importances[\"rand_var\"] = importances[\"column\"].str.contains(\"rand_var\")\n",
    "\n",
    "importances[\"better_than_probe_avg\"] = (importances[\"gain\"] > importances.loc[importances[\"rand_var\"], \"gain\"].mean()) & ~importances[\"rand_var\"]\n",
    "importances =importances.sort_values(by=\"gain\")\n",
    "usable_columns = list(importances[importances[\"better_than_probe_avg\"]][\"column\"].values)"
   ]
  },
  {
   "cell_type": "code",
   "execution_count": 134,
   "id": "b58ad1aa-4eeb-477e-9ddf-e00c9770c0ae",
   "metadata": {},
   "outputs": [
    {
     "data": {
      "text/plain": [
       "['Customer Feedback',\n",
       " 'Claim Frequency',\n",
       " 'Annual Income_null',\n",
       " 'Credit Score_null',\n",
       " 'Customer Tenure',\n",
       " 'Health Score_null',\n",
       " 'Marital Status_null',\n",
       " 'Previous Claims log',\n",
       " 'Annual Income log 10',\n",
       " 'Policy Start Year',\n",
       " 'Customer Feedback_null',\n",
       " 'Previous Claims',\n",
       " 'Health Score',\n",
       " 'Annual Income',\n",
       " 'Credit Score']"
      ]
     },
     "execution_count": 134,
     "metadata": {},
     "output_type": "execute_result"
    }
   ],
   "source": [
    "usable_columns"
   ]
  },
  {
   "cell_type": "code",
   "execution_count": 135,
   "id": "d311c726-a6f6-436d-9b65-46cfb331936e",
   "metadata": {},
   "outputs": [
    {
     "data": {
      "text/plain": [
       "\u001b[1;31mInit signature:\u001b[0m\n",
       "\u001b[0mBinnedXGBRegressionModel\u001b[0m\u001b[1;33m(\u001b[0m\u001b[1;33m\n",
       "\u001b[0m    \u001b[0mn_bins\u001b[0m\u001b[1;33m=\u001b[0m\u001b[1;36m5\u001b[0m\u001b[1;33m,\u001b[0m\u001b[1;33m\n",
       "\u001b[0m    \u001b[0mclassifier_base_model\u001b[0m\u001b[1;33m=\u001b[0m\u001b[0mXGBClassifier\u001b[0m\u001b[1;33m(\u001b[0m\u001b[0mbase_score\u001b[0m\u001b[1;33m=\u001b[0m\u001b[1;32mNone\u001b[0m\u001b[1;33m,\u001b[0m \u001b[0mbooster\u001b[0m\u001b[1;33m=\u001b[0m\u001b[1;32mNone\u001b[0m\u001b[1;33m,\u001b[0m \u001b[0mcallbacks\u001b[0m\u001b[1;33m=\u001b[0m\u001b[1;32mNone\u001b[0m\u001b[1;33m,\u001b[0m\u001b[1;33m\n",
       "\u001b[0m              \u001b[0mcolsample_bylevel\u001b[0m\u001b[1;33m=\u001b[0m\u001b[1;32mNone\u001b[0m\u001b[1;33m,\u001b[0m \u001b[0mcolsample_bynode\u001b[0m\u001b[1;33m=\u001b[0m\u001b[1;32mNone\u001b[0m\u001b[1;33m,\u001b[0m\u001b[1;33m\n",
       "\u001b[0m              \u001b[0mcolsample_bytree\u001b[0m\u001b[1;33m=\u001b[0m\u001b[1;32mNone\u001b[0m\u001b[1;33m,\u001b[0m \u001b[0mdevice\u001b[0m\u001b[1;33m=\u001b[0m\u001b[1;32mNone\u001b[0m\u001b[1;33m,\u001b[0m \u001b[0mearly_stopping_rounds\u001b[0m\u001b[1;33m=\u001b[0m\u001b[1;32mNone\u001b[0m\u001b[1;33m,\u001b[0m\u001b[1;33m\n",
       "\u001b[0m              \u001b[0menable_categorical\u001b[0m\u001b[1;33m=\u001b[0m\u001b[1;32mFalse\u001b[0m\u001b[1;33m,\u001b[0m \u001b[0meval_metric\u001b[0m\u001b[1;33m=\u001b[0m\u001b[1;32mNone\u001b[0m\u001b[1;33m,\u001b[0m \u001b[0mfeature_types\u001b[0m\u001b[1;33m=\u001b[0m\u001b[1;32mNone\u001b[0m\u001b[1;33m,\u001b[0m\u001b[1;33m\n",
       "\u001b[0m              \u001b[0mgamma\u001b[0m\u001b[1;33m=\u001b[0m\u001b[1;32mNone\u001b[0m\u001b[1;33m,\u001b[0m \u001b[0mgrow_policy\u001b[0m\u001b[1;33m=\u001b[0m\u001b[1;32mNone\u001b[0m\u001b[1;33m,\u001b[0m \u001b[0mimportance_type\u001b[0m\u001b[1;33m=\u001b[0m\u001b[1;32mNone\u001b[0m\u001b[1;33m,\u001b[0m\u001b[1;33m\n",
       "\u001b[0m              \u001b[0minteraction_constraints\u001b[0m\u001b[1;33m=\u001b[0m\u001b[1;32mNone\u001b[0m\u001b[1;33m,\u001b[0m \u001b[0mlearning_rate\u001b[0m\u001b[1;33m=\u001b[0m\u001b[1;32mNone\u001b[0m\u001b[1;33m,\u001b[0m \u001b[0mmax_bin\u001b[0m\u001b[1;33m=\u001b[0m\u001b[1;32mNone\u001b[0m\u001b[1;33m,\u001b[0m\u001b[1;33m\n",
       "\u001b[0m              \u001b[0mmax_cat_threshold\u001b[0m\u001b[1;33m=\u001b[0m\u001b[1;32mNone\u001b[0m\u001b[1;33m,\u001b[0m \u001b[0mmax_cat_to_onehot\u001b[0m\u001b[1;33m=\u001b[0m\u001b[1;32mNone\u001b[0m\u001b[1;33m,\u001b[0m\u001b[1;33m\n",
       "\u001b[0m              \u001b[0mmax_delta_step\u001b[0m\u001b[1;33m=\u001b[0m\u001b[1;32mNone\u001b[0m\u001b[1;33m,\u001b[0m \u001b[0mmax_depth\u001b[0m\u001b[1;33m=\u001b[0m\u001b[1;32mNone\u001b[0m\u001b[1;33m,\u001b[0m \u001b[0mmax_leaves\u001b[0m\u001b[1;33m=\u001b[0m\u001b[1;32mNone\u001b[0m\u001b[1;33m,\u001b[0m\u001b[1;33m\n",
       "\u001b[0m              \u001b[0mmin_child_weight\u001b[0m\u001b[1;33m=\u001b[0m\u001b[1;32mNone\u001b[0m\u001b[1;33m,\u001b[0m \u001b[0mmissing\u001b[0m\u001b[1;33m=\u001b[0m\u001b[0mnan\u001b[0m\u001b[1;33m,\u001b[0m \u001b[0mmonotone_constraints\u001b[0m\u001b[1;33m=\u001b[0m\u001b[1;32mNone\u001b[0m\u001b[1;33m,\u001b[0m\u001b[1;33m\n",
       "\u001b[0m              \u001b[0mmulti_strategy\u001b[0m\u001b[1;33m=\u001b[0m\u001b[1;32mNone\u001b[0m\u001b[1;33m,\u001b[0m \u001b[0mn_estimators\u001b[0m\u001b[1;33m=\u001b[0m\u001b[1;32mNone\u001b[0m\u001b[1;33m,\u001b[0m \u001b[0mn_jobs\u001b[0m\u001b[1;33m=\u001b[0m\u001b[1;32mNone\u001b[0m\u001b[1;33m,\u001b[0m\u001b[1;33m\n",
       "\u001b[0m              \u001b[0mnum_parallel_tree\u001b[0m\u001b[1;33m=\u001b[0m\u001b[1;32mNone\u001b[0m\u001b[1;33m,\u001b[0m \u001b[0mrandom_state\u001b[0m\u001b[1;33m=\u001b[0m\u001b[1;32mNone\u001b[0m\u001b[1;33m,\u001b[0m \u001b[1;33m...\u001b[0m\u001b[1;33m)\u001b[0m\u001b[1;33m,\u001b[0m\u001b[1;33m\n",
       "\u001b[0m    \u001b[0mregressor_base_model\u001b[0m\u001b[1;33m=\u001b[0m\u001b[0mXGBRegressor\u001b[0m\u001b[1;33m(\u001b[0m\u001b[0mbase_score\u001b[0m\u001b[1;33m=\u001b[0m\u001b[1;32mNone\u001b[0m\u001b[1;33m,\u001b[0m \u001b[0mbooster\u001b[0m\u001b[1;33m=\u001b[0m\u001b[1;32mNone\u001b[0m\u001b[1;33m,\u001b[0m \u001b[0mcallbacks\u001b[0m\u001b[1;33m=\u001b[0m\u001b[1;32mNone\u001b[0m\u001b[1;33m,\u001b[0m\u001b[1;33m\n",
       "\u001b[0m             \u001b[0mcolsample_bylevel\u001b[0m\u001b[1;33m=\u001b[0m\u001b[1;32mNone\u001b[0m\u001b[1;33m,\u001b[0m \u001b[0mcolsample_bynode\u001b[0m\u001b[1;33m=\u001b[0m\u001b[1;32mNone\u001b[0m\u001b[1;33m,\u001b[0m\u001b[1;33m\n",
       "\u001b[0m             \u001b[0mcolsample_bytree\u001b[0m\u001b[1;33m=\u001b[0m\u001b[1;32mNone\u001b[0m\u001b[1;33m,\u001b[0m \u001b[0mdevice\u001b[0m\u001b[1;33m=\u001b[0m\u001b[1;32mNone\u001b[0m\u001b[1;33m,\u001b[0m \u001b[0mearly_stopping_rounds\u001b[0m\u001b[1;33m=\u001b[0m\u001b[1;32mNone\u001b[0m\u001b[1;33m,\u001b[0m\u001b[1;33m\n",
       "\u001b[0m             \u001b[0menable_categorical\u001b[0m\u001b[1;33m=\u001b[0m\u001b[1;32mFalse\u001b[0m\u001b[1;33m,\u001b[0m \u001b[0meval_metric\u001b[0m\u001b[1;33m=\u001b[0m\u001b[1;32mNone\u001b[0m\u001b[1;33m,\u001b[0m \u001b[0mfeature_types\u001b[0m\u001b[1;33m=\u001b[0m\u001b[1;32mNone\u001b[0m\u001b[1;33m,\u001b[0m\u001b[1;33m\n",
       "\u001b[0m             \u001b[0mgamma\u001b[0m\u001b[1;33m=\u001b[0m\u001b[1;32mNone\u001b[0m\u001b[1;33m,\u001b[0m \u001b[0mgrow_policy\u001b[0m\u001b[1;33m=\u001b[0m\u001b[1;32mNone\u001b[0m\u001b[1;33m,\u001b[0m \u001b[0mimportance_type\u001b[0m\u001b[1;33m=\u001b[0m\u001b[1;32mNone\u001b[0m\u001b[1;33m,\u001b[0m\u001b[1;33m\n",
       "\u001b[0m             \u001b[0minteraction_constraints\u001b[0m\u001b[1;33m=\u001b[0m\u001b[1;32mNone\u001b[0m\u001b[1;33m,\u001b[0m \u001b[0mlearning_rate\u001b[0m\u001b[1;33m=\u001b[0m\u001b[1;32mNone\u001b[0m\u001b[1;33m,\u001b[0m \u001b[0mmax_bin\u001b[0m\u001b[1;33m=\u001b[0m\u001b[1;32mNone\u001b[0m\u001b[1;33m,\u001b[0m\u001b[1;33m\n",
       "\u001b[0m             \u001b[0mmax_cat_threshold\u001b[0m\u001b[1;33m=\u001b[0m\u001b[1;32mNone\u001b[0m\u001b[1;33m,\u001b[0m \u001b[0mmax_cat_to_onehot\u001b[0m\u001b[1;33m=\u001b[0m\u001b[1;32mNone\u001b[0m\u001b[1;33m,\u001b[0m\u001b[1;33m\n",
       "\u001b[0m             \u001b[0mmax_delta_step\u001b[0m\u001b[1;33m=\u001b[0m\u001b[1;32mNone\u001b[0m\u001b[1;33m,\u001b[0m \u001b[0mmax_depth\u001b[0m\u001b[1;33m=\u001b[0m\u001b[1;32mNone\u001b[0m\u001b[1;33m,\u001b[0m \u001b[0mmax_leaves\u001b[0m\u001b[1;33m=\u001b[0m\u001b[1;32mNone\u001b[0m\u001b[1;33m,\u001b[0m\u001b[1;33m\n",
       "\u001b[0m             \u001b[0mmin_child_weight\u001b[0m\u001b[1;33m=\u001b[0m\u001b[1;32mNone\u001b[0m\u001b[1;33m,\u001b[0m \u001b[0mmissing\u001b[0m\u001b[1;33m=\u001b[0m\u001b[0mnan\u001b[0m\u001b[1;33m,\u001b[0m \u001b[0mmonotone_constraints\u001b[0m\u001b[1;33m=\u001b[0m\u001b[1;32mNone\u001b[0m\u001b[1;33m,\u001b[0m\u001b[1;33m\n",
       "\u001b[0m             \u001b[0mmulti_strategy\u001b[0m\u001b[1;33m=\u001b[0m\u001b[1;32mNone\u001b[0m\u001b[1;33m,\u001b[0m \u001b[0mn_estimators\u001b[0m\u001b[1;33m=\u001b[0m\u001b[1;32mNone\u001b[0m\u001b[1;33m,\u001b[0m \u001b[0mn_jobs\u001b[0m\u001b[1;33m=\u001b[0m\u001b[1;32mNone\u001b[0m\u001b[1;33m,\u001b[0m\u001b[1;33m\n",
       "\u001b[0m             \u001b[0mnum_parallel_tree\u001b[0m\u001b[1;33m=\u001b[0m\u001b[1;32mNone\u001b[0m\u001b[1;33m,\u001b[0m \u001b[0mrandom_state\u001b[0m\u001b[1;33m=\u001b[0m\u001b[1;32mNone\u001b[0m\u001b[1;33m,\u001b[0m \u001b[1;33m...\u001b[0m\u001b[1;33m)\u001b[0m\u001b[1;33m,\u001b[0m\u001b[1;33m\n",
       "\u001b[0m    \u001b[0mrandom_state\u001b[0m\u001b[1;33m=\u001b[0m\u001b[1;32mNone\u001b[0m\u001b[1;33m,\u001b[0m\u001b[1;33m\n",
       "\u001b[0m\u001b[1;33m)\u001b[0m\u001b[1;33m\u001b[0m\u001b[1;33m\u001b[0m\u001b[0m\n",
       "\u001b[1;31mDocstring:\u001b[0m     \n",
       "Base class for all estimators in scikit-learn.\n",
       "\n",
       "Inheriting from this class provides default implementations of:\n",
       "\n",
       "- setting and getting parameters used by `GridSearchCV` and friends;\n",
       "- textual and HTML representation displayed in terminals and IDEs;\n",
       "- estimator serialization;\n",
       "- parameters validation;\n",
       "- data validation;\n",
       "- feature names validation.\n",
       "\n",
       "Read more in the :ref:`User Guide <rolling_your_own_estimator>`.\n",
       "\n",
       "\n",
       "Notes\n",
       "-----\n",
       "All estimators should specify all the parameters that can be set\n",
       "at the class level in their ``__init__`` as explicit keyword\n",
       "arguments (no ``*args`` or ``**kwargs``).\n",
       "\n",
       "Examples\n",
       "--------\n",
       ">>> import numpy as np\n",
       ">>> from sklearn.base import BaseEstimator\n",
       ">>> class MyEstimator(BaseEstimator):\n",
       "...     def __init__(self, *, param=1):\n",
       "...         self.param = param\n",
       "...     def fit(self, X, y=None):\n",
       "...         self.is_fitted_ = True\n",
       "...         return self\n",
       "...     def predict(self, X):\n",
       "...         return np.full(shape=X.shape[0], fill_value=self.param)\n",
       ">>> estimator = MyEstimator(param=2)\n",
       ">>> estimator.get_params()\n",
       "{'param': 2}\n",
       ">>> X = np.array([[1, 2], [2, 3], [3, 4]])\n",
       ">>> y = np.array([1, 0, 1])\n",
       ">>> estimator.fit(X, y).predict(X)\n",
       "array([2, 2, 2])\n",
       ">>> estimator.set_params(param=3).fit(X, y).predict(X)\n",
       "array([3, 3, 3])\n",
       "\u001b[1;31mInit docstring:\u001b[0m\n",
       "A model that first bins the target using qcut, uses an XGBClassifier \n",
       "to predict the bin, and then uses separate XGBRegressor models for \n",
       "each bin to predict the final continuous values.\n",
       "\n",
       "Parameters\n",
       "----------\n",
       "n_bins : int, default=5\n",
       "    Number of quantile-based bins to discretize the target into.\n",
       "\n",
       "classifier_params : dict or None\n",
       "    Parameters passed to XGBClassifier.\n",
       "\n",
       "regressor_params : dict or None\n",
       "    Parameters passed to XGBRegressor.\n",
       "\n",
       "random_state : int or None\n",
       "    Random state for reproducibility.\n",
       "\u001b[1;31mFile:\u001b[0m           d:\\development\\insurance\\models.py\n",
       "\u001b[1;31mType:\u001b[0m           type\n",
       "\u001b[1;31mSubclasses:\u001b[0m     "
      ]
     },
     "metadata": {},
     "output_type": "display_data"
    }
   ],
   "source": [
    "BinnedXGBRegressionModel?"
   ]
  },
  {
   "cell_type": "markdown",
   "id": "a0bcd27b-dbe8-4cbf-9511-eb8d99802bd8",
   "metadata": {},
   "source": [
    "# LightGBM Limited Features"
   ]
  },
  {
   "cell_type": "code",
   "execution_count": 151,
   "id": "608a7654-6793-4b97-a16a-92798f60345c",
   "metadata": {},
   "outputs": [],
   "source": [
    "X_train_fixed = X_train#.loc[:, usable_columns]"
   ]
  },
  {
   "cell_type": "code",
   "execution_count": 153,
   "id": "f30d567e-8045-476a-8efb-d1da21e7f341",
   "metadata": {},
   "outputs": [
    {
     "name": "stdout",
     "output_type": "stream",
     "text": [
      "Starting\n",
      "Train: ('rmsle', 1.044500297790616, False), Test: ('rmsle', 1.044440191554214, False)\n",
      "Starting\n",
      "Train: ('rmsle', 1.0441258163128846, False), Test: ('rmsle', 1.0463571755213514, False)\n",
      "Starting\n",
      "Train: ('rmsle', 1.04434477031865, False), Test: ('rmsle', 1.04502001057032, False)\n",
      "Starting\n",
      "Train: ('rmsle', 1.0440920621786398, False), Test: ('rmsle', 1.0462488477322944, False)\n",
      "Starting\n",
      "Train: ('rmsle', 1.0446338897059506, False), Test: ('rmsle', 1.0437807676106068, False)\n"
     ]
    }
   ],
   "source": [
    "from sklearn.model_selection import ShuffleSplit\n",
    "import numpy as np\n",
    "\n",
    "# Define a 60-40 split\n",
    "splitter = ShuffleSplit(n_splits=5, test_size=0.2, random_state=1)\n",
    "\n",
    "for train_idx, val_idx in splitter.split(X_train):\n",
    "    print(\"Starting\")\n",
    "    # Prepare data for LightGBM\n",
    "    X_train_fold, X_val_fold = X_train_fixed.iloc[train_idx], X_train_fixed.iloc[val_idx]\n",
    "    y_train_fold, y_val_fold = y_train.iloc[train_idx], y_train.iloc[val_idx]\n",
    "    \n",
    "    # Train model\n",
    "    model = xgb.XGBRegressor(enable_categorical=True, eta=0.05, colsample_bytree=0.25, num_boost_round=500)\n",
    "    model.fit(X_train_fold, y_train_fold)\n",
    "    \n",
    "    train_score = rmsle_metric(model.predict(X_train_fold), y_train_fold)\n",
    "    val_score = rmsle_metric(model.predict(X_val_fold), y_val_fold)\n",
    "\n",
    "    print(f\"Train: {train_score}, Test: {val_score}\")"
   ]
  },
  {
   "cell_type": "code",
   "execution_count": 154,
   "id": "117db3f8-4f09-470e-9ed8-8a2212038a4d",
   "metadata": {},
   "outputs": [],
   "source": [
    "from statsmodels.distributions.empirical_distribution import ECDF\n",
    "import matplotlib.pyplot as plt\n",
    "\n",
    "def rescale(series, from_min, from_max, to_min, to_max):\n",
    "    return to_min + ((series - from_min) * (to_max - to_min)) / (from_max - from_min)"
   ]
  },
  {
   "cell_type": "code",
   "execution_count": 156,
   "id": "006ab569-d947-4751-b5f8-6777db8af8a1",
   "metadata": {},
   "outputs": [],
   "source": [
    "model = model.fit(X_train, y_train)"
   ]
  },
  {
   "cell_type": "code",
   "execution_count": 157,
   "id": "aa985000-10c9-422b-8264-c7f48b81d55b",
   "metadata": {},
   "outputs": [],
   "source": [
    "y_train_pred = model.predict(X_train)#.loc[:, usable_columns])\n",
    "y_val_pred = model.predict(X_val)#.loc[:, usable_columns])\n"
   ]
  },
  {
   "cell_type": "code",
   "execution_count": 168,
   "id": "9cdc11d4-ffef-4000-b2d3-8d60845fbef8",
   "metadata": {},
   "outputs": [],
   "source": [
    "res_Data = full_test_csv_data[[\"id\"]].copy()"
   ]
  },
  {
   "cell_type": "code",
   "execution_count": 169,
   "id": "6e8ac10e-b1ed-420a-82fc-e5e6340c658f",
   "metadata": {},
   "outputs": [],
   "source": [
    "res_Data[\"pred\"] = np.power(10, y_val_pred) - 1"
   ]
  },
  {
   "cell_type": "code",
   "execution_count": 172,
   "id": "31e3feed-d158-40e7-8bd9-75ba0e3faab9",
   "metadata": {},
   "outputs": [],
   "source": [
    "res_Data.columns = [\"id\",\"Premium Amount\"]"
   ]
  },
  {
   "cell_type": "code",
   "execution_count": 173,
   "id": "274e7ecc-4819-4d1b-94a9-37a938234cd0",
   "metadata": {},
   "outputs": [],
   "source": [
    "res_Data.to_csv(\"results_201224_1828.csv\",index=False,header=True)"
   ]
  },
  {
   "cell_type": "code",
   "execution_count": null,
   "id": "3d1c9e32-0fe0-4c96-b662-ca94defcd91b",
   "metadata": {},
   "outputs": [],
   "source": []
  }
 ],
 "metadata": {
  "kernelspec": {
   "display_name": "Python 3 (ipykernel)",
   "language": "python",
   "name": "python3"
  },
  "language_info": {
   "codemirror_mode": {
    "name": "ipython",
    "version": 3
   },
   "file_extension": ".py",
   "mimetype": "text/x-python",
   "name": "python",
   "nbconvert_exporter": "python",
   "pygments_lexer": "ipython3",
   "version": "3.10.6"
  }
 },
 "nbformat": 4,
 "nbformat_minor": 5
}
