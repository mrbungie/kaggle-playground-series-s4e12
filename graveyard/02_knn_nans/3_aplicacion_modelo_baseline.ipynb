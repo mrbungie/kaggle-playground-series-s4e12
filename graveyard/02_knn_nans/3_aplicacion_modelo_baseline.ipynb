{
 "cells": [
  {
   "cell_type": "code",
   "execution_count": 11,
   "id": "d68ceec4-b2a3-44bc-b809-8bd42339ffa8",
   "metadata": {},
   "outputs": [
    {
     "name": "stdout",
     "output_type": "stream",
     "text": [
      "^C\n"
     ]
    }
   ],
   "source": [
    "!pip install duckdb ydata-profiling pycaret  xgboost lightgbm catboost"
   ]
  },
  {
   "cell_type": "code",
   "execution_count": 1,
   "id": "c827e8ab-674b-4d25-92f2-942ac6b3ebe9",
   "metadata": {},
   "outputs": [],
   "source": [
    "%load_ext autoreload"
   ]
  },
  {
   "cell_type": "code",
   "execution_count": 2,
   "id": "c479c1b1-94ab-4155-ac4e-41b3eba742fe",
   "metadata": {},
   "outputs": [],
   "source": [
    "%autoreload 2"
   ]
  },
  {
   "cell_type": "code",
   "execution_count": 3,
   "id": "41cda59f-8d67-4f24-bb88-477f981132ce",
   "metadata": {},
   "outputs": [],
   "source": [
    "import pandas as pd\n",
    "import numpy as np\n",
    "import duckdb\n",
    "import plotnine as p9\n",
    "\n",
    "import pandas as pd\n",
    "from sklearn.preprocessing import KBinsDiscretizer\n",
    "from kmodes.kmodes import KModes\n",
    "\n",
    "from sklearn.model_selection import train_test_split\n",
    "from sklearn.preprocessing import LabelEncoder\n",
    "\n",
    "from kmodes.kprototypes import KPrototypes\n",
    "from sklearn.metrics import adjusted_rand_score\n"
   ]
  },
  {
   "cell_type": "code",
   "execution_count": 4,
   "id": "b4d63602-5964-40c6-82d7-a0b683192034",
   "metadata": {},
   "outputs": [],
   "source": [
    "full_train_csv_data = pd.read_csv(\"../playground-series-s4e12/train.csv\")\n",
    "full_test_csv_data = pd.read_csv(\"../playground-series-s4e12/test.csv\")"
   ]
  },
  {
   "cell_type": "code",
   "execution_count": 5,
   "id": "d5597f2b-6b8c-404d-85a8-5105da666ee5",
   "metadata": {},
   "outputs": [
    {
     "data": {
      "text/plain": [
       "800000"
      ]
     },
     "execution_count": 5,
     "metadata": {},
     "output_type": "execute_result"
    }
   ],
   "source": [
    "len(full_test_csv_data)"
   ]
  },
  {
   "cell_type": "code",
   "execution_count": 6,
   "id": "1f3de277-8353-4a3b-afa3-1e4e06e98b9c",
   "metadata": {},
   "outputs": [
    {
     "data": {
      "text/plain": [
       "1200000"
      ]
     },
     "execution_count": 6,
     "metadata": {},
     "output_type": "execute_result"
    }
   ],
   "source": [
    "len(full_train_csv_data)"
   ]
  },
  {
   "cell_type": "code",
   "execution_count": 7,
   "id": "2eb78453-847b-4dc4-a9fc-a386e6e2fea3",
   "metadata": {},
   "outputs": [],
   "source": [
    "import pandas as pd\n",
    "from pycaret.regression import setup, compare_models, add_metric"
   ]
  },
  {
   "cell_type": "code",
   "execution_count": 8,
   "id": "b5250cf2-8de1-4ff7-9e7f-bfbf03631809",
   "metadata": {},
   "outputs": [],
   "source": [
    "# Separate numeric and categorical columns\n",
    "numeric_cols = full_test_csv_data.select_dtypes(include=['float64', 'int64']).columns\n",
    "categorical_cols = full_test_csv_data.select_dtypes(include=['object']).columns"
   ]
  },
  {
   "cell_type": "code",
   "execution_count": 9,
   "id": "98f8dd18-cfe7-4586-8ea7-684077f35883",
   "metadata": {},
   "outputs": [
    {
     "data": {
      "text/plain": [
       "Index(['Gender', 'Marital Status', 'Education Level', 'Occupation', 'Location',\n",
       "       'Policy Type', 'Policy Start Date', 'Customer Feedback',\n",
       "       'Smoking Status', 'Exercise Frequency', 'Property Type'],\n",
       "      dtype='object')"
      ]
     },
     "execution_count": 9,
     "metadata": {},
     "output_type": "execute_result"
    }
   ],
   "source": [
    "categorical_cols"
   ]
  },
  {
   "cell_type": "code",
   "execution_count": 10,
   "id": "4d9336fb-9f2b-4cf7-9273-58f859c69e68",
   "metadata": {},
   "outputs": [],
   "source": [
    "def treat_dataset_pandas_init(dataset):\n",
    "    dataset = dataset.copy()\n",
    "    dataset['Policy Start Date'] = pd.to_datetime(dataset['Policy Start Date'])\n",
    "    # Get the last date in the dataset\n",
    "    last_date = dataset['Policy Start Date'].max()\n",
    "    \n",
    "    # Add 1 day to the last date\n",
    "    reference_date = last_date + pd.Timedelta(days=1)\n",
    "    \n",
    "    # Calculate Customer Tenure in years from the reference date\n",
    "    dataset['Customer Tenure'] = (reference_date - dataset['Policy Start Date']).dt.days / 365\n",
    "    dataset['Claim Frequency'] = dataset['Previous Claims'] / dataset['Insurance Duration']\n",
    "    # Extract year, month, day, hour, minute, second from 'Policy Start Date'\n",
    "    dataset['Policy Start Year'] = dataset['Policy Start Date'].dt.year\n",
    "    dataset['Policy Start Month'] = dataset['Policy Start Date'].dt.month\n",
    "    dataset['Policy Start Day'] = dataset['Policy Start Date'].dt.day\n",
    "    dataset['Policy Start Hour'] = dataset['Policy Start Date'].dt.hour\n",
    "    dataset['Policy Start Minute'] = dataset['Policy Start Date'].dt.minute\n",
    "    dataset['Policy Start Second'] = dataset['Policy Start Date'].dt.second\n",
    "    dataset['Null columns'] = dataset.isnull().sum(axis=1)\n",
    "\n",
    "    del dataset[\"id\"]\n",
    "    del dataset[\"Policy Start Date\"]\n",
    "\n",
    "    if \"Premium Amount\" in dataset.columns:\n",
    "        dataset[\"Premium Amount\"] = np.log10(dataset[\"Premium Amount\"] + 1)\n",
    "\n",
    "    dataset[\"Annual Income log 10\"] = np.log10(dataset[\"Annual Income\"])\n",
    "    dataset[\"Previous Claims log\"] = np.log1p(dataset[\"Previous Claims\"])\n",
    "\n",
    "    for col in [col for col in dataset.columns if col not in [\"Premium Amount\",\"id\"]]:\n",
    "        dataset[f\"{col}_null\"] = dataset[col].isnull()\n",
    "    \n",
    "    for col in categorical_cols:\n",
    "        if col in dataset.columns:\n",
    "            dataset[col] =  dataset[col].astype(\"category\")\n",
    "    \n",
    "    return dataset"
   ]
  },
  {
   "cell_type": "code",
   "execution_count": 11,
   "id": "fd32fc98-a589-47f2-8448-4f09a38b6ebc",
   "metadata": {},
   "outputs": [],
   "source": [
    "import pandas as pd\n",
    "import numpy as np\n",
    "from sklearn.compose import ColumnTransformer\n",
    "from sklearn.pipeline import Pipeline\n",
    "from sklearn.preprocessing import OneHotEncoder, OrdinalEncoder, StandardScaler\n",
    "from sklearn.impute import SimpleImputer\n",
    "from sklearn.model_selection import train_test_split\n",
    "from tensorflow.keras.models import Sequential\n",
    "from tensorflow.keras.layers import Dense, Dropout\n",
    "from tensorflow.keras.wrappers.scikit_learn import KerasRegressor\n",
    "from sklearn.base import BaseEstimator, RegressorMixin\n",
    "\n",
    "# Define feature columns\n",
    "categorical_one_hot = ['Gender', 'Marital Status', 'Occupation', 'Location', 'Smoking Status', 'Property Type']\n",
    "categorical_ordinal = ['Education Level', 'Policy Type', 'Customer Feedback', 'Exercise Frequency']\n",
    "numerical_features = [\n",
    "    'Age', 'Annual Income', 'Number of Dependents', 'Health Score',\n",
    "    'Previous Claims', 'Vehicle Age', 'Credit Score', 'Insurance Duration',\n",
    "    'Customer Tenure', 'Claim Frequency', 'Policy Start Year', 'Policy Start Month',\n",
    "    'Policy Start Day', 'Policy Start Hour', 'Policy Start Minute', 'Policy Start Second',\n",
    "    'Annual Income log 10', 'Previous Claims log'\n",
    "]\n",
    "target = 'Premium Amount'\n",
    "\n",
    "# Define ordinal encoding mappings\n",
    "ordinal_mappings = {\n",
    "    'Education Level': ['High School', \"Bachelor's\", \"Master's\", 'PhD'],\n",
    "    'Policy Type': ['Basic', 'Comprehensive', 'Premium'],\n",
    "    'Customer Feedback': ['Poor', 'Average', 'Good'],\n",
    "    'Exercise Frequency': ['Rarely', 'Monthly', 'Weekly', 'Daily']\n",
    "}\n",
    "\n",
    "# Create column transformers\n",
    "one_hot_transformer = Pipeline(steps=[\n",
    "    (f'ohe_imputer', SimpleImputer(strategy='most_frequent')),\n",
    "    (f'ohe', OneHotEncoder(drop='first', sparse_output=False))\n",
    "])\n",
    "\n",
    "ordinal_transformers = {\n",
    "    col: Pipeline(steps=[\n",
    "        (f'ordinal_imputer_{col}', SimpleImputer(strategy='most_frequent')),\n",
    "        (f'ordinal_{col}', OrdinalEncoder(categories=[categories]))\n",
    "    ])\n",
    "    for col, categories in ordinal_mappings.items()\n",
    "}\n",
    "\n",
    "numerical_transformer = Pipeline(steps=[\n",
    "    ('imputer', SimpleImputer(strategy='mean')),\n",
    "    ('scaler', StandardScaler())\n",
    "])\n",
    "\n",
    "# Combine all transformers\n",
    "# Combine all transformers and drop source columns\n",
    "preprocessor = ColumnTransformer(\n",
    "    transformers=[\n",
    "        ('onehot', one_hot_transformer, categorical_one_hot),\n",
    "        ('education', ordinal_transformers['Education Level'], ['Education Level']),\n",
    "        ('policy_type', ordinal_transformers['Policy Type'], ['Policy Type']),\n",
    "        ('customer_feedback', ordinal_transformers['Customer Feedback'], ['Customer Feedback']),\n",
    "        ('exercise_frequency', ordinal_transformers['Exercise Frequency'], ['Exercise Frequency']),\n",
    "        ('num', numerical_transformer, numerical_features)\n",
    "    ],\n",
    "    remainder='drop',  # Drop all untransformed columns\n",
    "    verbose_feature_names_out=False  # Use feature names directly\n",
    ")"
   ]
  },
  {
   "cell_type": "code",
   "execution_count": 12,
   "id": "814a5cfa-3cab-4dba-b261-f5403923c958",
   "metadata": {},
   "outputs": [],
   "source": [
    "train_data = treat_dataset_pandas_init(full_train_csv_data)\n",
    "test_data = treat_dataset_pandas_init(full_test_csv_data)"
   ]
  },
  {
   "cell_type": "code",
   "execution_count": 13,
   "id": "deef96a5-859f-471e-b3b9-d29113866400",
   "metadata": {},
   "outputs": [
    {
     "ename": "ImportError",
     "evalue": "attempted relative import with no known parent package",
     "output_type": "error",
     "traceback": [
      "\u001b[1;31m---------------------------------------------------------------------------\u001b[0m",
      "\u001b[1;31mImportError\u001b[0m                               Traceback (most recent call last)",
      "Cell \u001b[1;32mIn[13], line 1\u001b[0m\n\u001b[1;32m----> 1\u001b[0m \u001b[38;5;28;01mfrom\u001b[39;00m \u001b[38;5;21;01m.\u001b[39;00m\u001b[38;5;21;01m.\u001b[39;00m\u001b[38;5;21;01mmodels\u001b[39;00m \u001b[38;5;28;01mimport\u001b[39;00m BinnedXGBRegressionModel\n",
      "\u001b[1;31mImportError\u001b[0m: attempted relative import with no known parent package"
     ]
    }
   ],
   "source": [
    "from ..models import BinnedXGBRegressionModel"
   ]
  },
  {
   "cell_type": "code",
   "execution_count": 14,
   "id": "b42eea3d-adcd-424f-8390-86e8012e790b",
   "metadata": {},
   "outputs": [],
   "source": [
    "for i in range(0, 10):\n",
    "    train_data[\"rand_var_%s\" %i] = np.random.rand(len(train_data))\n",
    "    \n",
    "    test_data[\"rand_var_%s\" % i] = np.random.rand(len(test_data))"
   ]
  },
  {
   "cell_type": "code",
   "execution_count": 15,
   "id": "1c0d4437-5cc9-41e5-9e40-7aec1de193a1",
   "metadata": {},
   "outputs": [],
   "source": [
    "X_train = train_data[[col for col in train_data.columns if col != \"Premium Amount\"]]\n",
    "y_train = train_data[\"Premium Amount\"]\n",
    "X_val = test_data[[col for col in test_data.columns if col != \"Premium Amount\"]]"
   ]
  },
  {
   "cell_type": "code",
   "execution_count": 16,
   "id": "c3ba0a89-a909-4e8b-9577-5deda63e0846",
   "metadata": {},
   "outputs": [],
   "source": [
    "X_train_preprocessed = preprocessor.fit_transform(X_train)\n",
    "X_val_preprocessed = preprocessor.fit_transform(X_val)\n"
   ]
  },
  {
   "cell_type": "code",
   "execution_count": 17,
   "id": "adfabe01-9923-4966-82ee-d98bf0d20b30",
   "metadata": {},
   "outputs": [],
   "source": [
    "from sklearn.metrics import root_mean_squared_log_error\n",
    "\n",
    "def source_range_root_mean_squared_log_error(y_true, y_pred, *args, **kwargs):\n",
    "    y_true_orig_range = np.power(10, y_true) - 1\n",
    "    y_pred_orig_range = np.power(10, y_pred) - 1\n",
    "\n",
    "    return root_mean_squared_log_error(y_true_orig_range, y_pred_orig_range, *args, **kwargs)"
   ]
  },
  {
   "cell_type": "markdown",
   "id": "db4be37c-3cbb-4df6-9309-fecbe931ba9e",
   "metadata": {},
   "source": [
    "# Lighbm"
   ]
  },
  {
   "cell_type": "code",
   "execution_count": 18,
   "id": "521ade96-46d2-41aa-9714-11098518bcfc",
   "metadata": {},
   "outputs": [],
   "source": [
    "from sklearn.metrics import root_mean_squared_log_error"
   ]
  },
  {
   "cell_type": "code",
   "execution_count": 19,
   "id": "6bea33e4-9dfe-4113-a945-58851976082c",
   "metadata": {},
   "outputs": [],
   "source": [
    "def rmsle_objective(y_pred, dataset):\n",
    "    y_true = dataset.get_label()\n",
    "    \n",
    "    y_true = np.power(10, y_true)\n",
    "    y_pred = np.power(10, y_pred)\n",
    "    \n",
    "    # Ensure no negative predictions\n",
    "    y_pred = np.maximum(y_pred, 1e-15)\n",
    "    log_diff = np.log(y_pred + 1) - np.log(y_true + 1)\n",
    "    grad = 2 * log_diff / (y_pred + 1)\n",
    "    hess = 2 / (y_pred + 1)**2\n",
    "    \n",
    "    return grad, hess\n",
    "\n",
    "def rmsle_metric(y_pred, y_true):    \n",
    "    y_true = np.power(10, y_true) - 1\n",
    "    y_pred = np.power(10, y_pred) - 1\n",
    "\n",
    "    rmsle = root_mean_squared_log_error(y_true, y_pred)\n",
    "    \n",
    "    return 'rmsle', rmsle, False  # False because lower is better"
   ]
  },
  {
   "cell_type": "code",
   "execution_count": 20,
   "id": "650aa313-1409-47cf-b3c4-be5546c265d6",
   "metadata": {},
   "outputs": [],
   "source": [
    "import lightgbm as lgb\n",
    "import numpy as np\n",
    "from sklearn.model_selection import KFold\n"
   ]
  },
  {
   "cell_type": "code",
   "execution_count": 21,
   "id": "2fc3ddae-346f-4fc7-90df-fa9e1938b531",
   "metadata": {},
   "outputs": [
    {
     "data": {
      "text/plain": [
       "1.3222192947339193"
      ]
     },
     "execution_count": 21,
     "metadata": {},
     "output_type": "execute_result"
    }
   ],
   "source": [
    "y_train.min()"
   ]
  },
  {
   "cell_type": "code",
   "execution_count": 22,
   "id": "453705a9-4af5-4988-af0e-ec0c8b4d9dfe",
   "metadata": {},
   "outputs": [],
   "source": [
    "import xgboost as xgb\n",
    "import lightgbm as lgb\n"
   ]
  },
  {
   "cell_type": "code",
   "execution_count": 23,
   "id": "03fff9ea-b95c-4bef-b522-e0f9f00f28b8",
   "metadata": {},
   "outputs": [],
   "source": [
    "from models import BinnedXGBRegressionModel"
   ]
  },
  {
   "cell_type": "code",
   "execution_count": 39,
   "id": "b715f43e-17b8-478d-8b65-2f695b5de4d2",
   "metadata": {},
   "outputs": [],
   "source": [
    "binned_model = BinnedXGBRegressionModel(\n",
    "    n_bins=4\n",
    "    ,regressor_base_model=xgb.XGBRegressor(enable_categorical=True, eta=0.5, colsample_bytree=0.75, num_boost_round=5000)\n",
    "    ,classifier_base_model=xgb.XGBClassifier()).fit(X_train_preprocessed, y_train)"
   ]
  },
  {
   "cell_type": "code",
   "execution_count": 40,
   "id": "0f7691bc-430f-4c63-96f1-e372d2e3780b",
   "metadata": {},
   "outputs": [
    {
     "data": {
      "text/plain": [
       "<Axes: ylabel='Frequency'>"
      ]
     },
     "execution_count": 40,
     "metadata": {},
     "output_type": "execute_result"
    },
    {
     "data": {
      "image/png": "[encoded data removed]",
      "text/plain": [
       "<Figure size 800x550 with 1 Axes>"
      ]
     },
     "metadata": {},
     "output_type": "display_data"
    }
   ],
   "source": [
    "pd.Series(binned_model.predict(X_val_preprocessed)).plot.hist()"
   ]
  },
  {
   "cell_type": "code",
   "execution_count": 41,
   "id": "7f0e098b-b720-4363-8af6-0777d69e8930",
   "metadata": {},
   "outputs": [
    {
     "data": {
      "text/plain": [
       "<Axes: ylabel='Frequency'>"
      ]
     },
     "execution_count": 41,
     "metadata": {},
     "output_type": "execute_result"
    },
    {
     "data": {
      "image/png": "[encoded data removed]",
      "text/plain": [
       "<Figure size 800x550 with 1 Axes>"
      ]
     },
     "metadata": {},
     "output_type": "display_data"
    }
   ],
   "source": [
    "y_train.plot.hist()"
   ]
  },
  {
   "cell_type": "code",
   "execution_count": 1,
   "id": "5b007b34-b074-464e-8c3d-cbfeea8b14e9",
   "metadata": {},
   "outputs": [
    {
     "ename": "NameError",
     "evalue": "name 'X_train' is not defined",
     "output_type": "error",
     "traceback": [
      "\u001b[1;31m---------------------------------------------------------------------------\u001b[0m",
      "\u001b[1;31mNameError\u001b[0m                                 Traceback (most recent call last)",
      "Cell \u001b[1;32mIn[1], line 7\u001b[0m\n\u001b[0;32m      4\u001b[0m \u001b[38;5;66;03m# Define a 60-40 split\u001b[39;00m\n\u001b[0;32m      5\u001b[0m splitter \u001b[38;5;241m=\u001b[39m ShuffleSplit(n_splits\u001b[38;5;241m=\u001b[39m\u001b[38;5;241m5\u001b[39m, test_size\u001b[38;5;241m=\u001b[39m\u001b[38;5;241m0.2\u001b[39m, random_state\u001b[38;5;241m=\u001b[39m\u001b[38;5;241m1\u001b[39m)\n\u001b[1;32m----> 7\u001b[0m \u001b[38;5;28;01mfor\u001b[39;00m train_idx, val_idx \u001b[38;5;129;01min\u001b[39;00m splitter\u001b[38;5;241m.\u001b[39msplit(\u001b[43mX_train\u001b[49m):\n\u001b[0;32m      8\u001b[0m     \u001b[38;5;28mprint\u001b[39m(\u001b[38;5;124m\"\u001b[39m\u001b[38;5;124mStarting\u001b[39m\u001b[38;5;124m\"\u001b[39m)\n\u001b[0;32m      9\u001b[0m     \u001b[38;5;66;03m# Prepare data for LightGBM\u001b[39;00m\n",
      "\u001b[1;31mNameError\u001b[0m: name 'X_train' is not defined"
     ]
    }
   ],
   "source": [
    "from sklearn.model_selection import ShuffleSplit\n",
    "import numpy as np\n",
    "\n",
    "# Define a 60-40 split\n",
    "splitter = ShuffleSplit(n_splits=5, test_size=0.2, random_state=1)\n",
    "\n",
    "for train_idx, val_idx in splitter.split(X_train):\n",
    "    print(\"Starting\")\n",
    "    # Prepare data for LightGBM\n",
    "    X_train_fold, X_val_fold = X_train.iloc[train_idx], X_train.iloc[val_idx]\n",
    "    y_train_fold, y_val_fold = y_train.iloc[train_idx], y_train.iloc[val_idx]\n",
    "    \n",
    "    # Train model\n",
    "    xgb_model = xgb.XGBRegressor(enable_categorical=True, eta=0.05, colsample_bytree=0.75, num_boost_round=500)\n",
    "    model = Pipeline([\n",
    "        (\"preproc\", preprocessor),\n",
    "        (\"xgb\", xgb_model),\n",
    "        #(\"xgb\", BinnedXGBRegressionModel(\n",
    "        #n_bins=2\n",
    "        #,regressor_base_model=xgb.XGBRegressor(enable_categorical=True, eta=0.5, colsample_bytree=0.75, num_boost_round=500)\n",
    "        #,classifier_base_model=xgb.XGBClassifier(enable_categorical=True, eta=0.5, colsample_bytree=0.75, num_boost_round=500))\n",
    "        #)\n",
    "    ])\n",
    "    model.fit(X_train_fold, y_train_fold)\n",
    "    \n",
    "    train_score = rmsle_metric(model.predict(X_train_fold), y_train_fold)\n",
    "    val_score = rmsle_metric(model.predict(X_val_fold), y_val_fold)\n",
    "\n",
    "    print(f\"Train: {train_score}, Test: {val_score}\")"
   ]
  },
  {
   "cell_type": "code",
   "execution_count": 198,
   "id": "1d885947-0743-4494-bc23-8e3a848ac056",
   "metadata": {},
   "outputs": [],
   "source": [
    "importances = pd.Series(model.get_booster().get_score(importance_type='total_gain')).reset_index()\n",
    "importances.columns = [\"column\", \"gain\"]\n",
    "importances[\"rand_var\"] = importances[\"column\"].str.contains(\"rand_var\")\n",
    "\n",
    "importances[\"better_than_probe_avg\"] = (importances[\"gain\"] > importances.loc[importances[\"rand_var\"], \"gain\"].mean()) & ~importances[\"rand_var\"]\n",
    "importances =importances.sort_values(by=\"gain\")\n",
    "usable_columns = list(importances[importances[\"better_than_probe_avg\"]][\"column\"].values)"
   ]
  },
  {
   "cell_type": "markdown",
   "id": "a0bcd27b-dbe8-4cbf-9511-eb8d99802bd8",
   "metadata": {},
   "source": [
    "# LightGBM Limited Features"
   ]
  },
  {
   "cell_type": "code",
   "execution_count": 213,
   "id": "608a7654-6793-4b97-a16a-92798f60345c",
   "metadata": {},
   "outputs": [],
   "source": [
    "X_train_fixed = X_train.loc[:, usable_columns]"
   ]
  },
  {
   "cell_type": "code",
   "execution_count": 231,
   "id": "29aecef5-4116-472d-8ffc-30738c50a70b",
   "metadata": {},
   "outputs": [
    {
     "data": {
      "text/plain": [
       "['Customer Tenure',\n",
       " 'Marital Status_null',\n",
       " 'Policy Start Year',\n",
       " 'Customer Feedback_null',\n",
       " 'Health Score',\n",
       " 'Previous Claims',\n",
       " 'Credit Score',\n",
       " 'Annual Income']"
      ]
     },
     "execution_count": 231,
     "metadata": {},
     "output_type": "execute_result"
    }
   ],
   "source": [
    "usable_columns"
   ]
  },
  {
   "cell_type": "code",
   "execution_count": 218,
   "id": "f30d567e-8045-476a-8efb-d1da21e7f341",
   "metadata": {},
   "outputs": [
    {
     "name": "stdout",
     "output_type": "stream",
     "text": [
      "Starting\n",
      "Train: ('rmsle', 1.0414319480241936, False), Test: ('rmsle', 1.0443248048531553, False)\n",
      "Starting\n",
      "Train: ('rmsle', 1.0409693537040736, False), Test: ('rmsle', 1.0461658721352969, False)\n",
      "Starting\n",
      "Train: ('rmsle', 1.04124619189709, False), Test: ('rmsle', 1.0447801409767128, False)\n",
      "Starting\n",
      "Train: ('rmsle', 1.0410541920096403, False), Test: ('rmsle', 1.0460724699143016, False)\n",
      "Starting\n",
      "Train: ('rmsle', 1.0416228339266616, False), Test: ('rmsle', 1.0436687891507819, False)\n"
     ]
    }
   ],
   "source": [
    "from sklearn.model_selection import ShuffleSplit\n",
    "import numpy as np\n",
    "\n",
    "# Define a 60-40 split\n",
    "splitter = ShuffleSplit(n_splits=5, test_size=0.2, random_state=1)\n",
    "\n",
    "for train_idx, val_idx in splitter.split(X_train):\n",
    "    print(\"Starting\")\n",
    "    # Prepare data for LightGBM\n",
    "    X_train_fold, X_val_fold = X_train.iloc[train_idx], X_train.iloc[val_idx]\n",
    "    y_train_fold, y_val_fold = y_train.iloc[train_idx], y_train.iloc[val_idx]\n",
    "    \n",
    "    # Train model\n",
    "    model = xgb.XGBRegressor(enable_categorical=True, eta=0.1\n",
    "                             , colsample_bytree=1.0, num_boost_round=5000)\n",
    "    model.fit(X_train_fold, y_train_fold)\n",
    "    \n",
    "    train_score = rmsle_metric(model.predict(X_train_fold), y_train_fold)\n",
    "    val_score = rmsle_metric(model.predict(X_val_fold), y_val_fold)\n",
    "\n",
    "    print(f\"Train: {train_score}, Test: {val_score}\")"
   ]
  },
  {
   "cell_type": "code",
   "execution_count": null,
   "id": "aef0529e-0cb2-4040-8560-0fafefb4ee62",
   "metadata": {},
   "outputs": [],
   "source": []
  },
  {
   "cell_type": "code",
   "execution_count": 219,
   "id": "ff313ec0-2adf-4e6b-b1ff-6dd688cd0832",
   "metadata": {},
   "outputs": [],
   "source": [
    "importances = pd.Series(model.get_booster().get_score(importance_type='total_gain')).reset_index()\n",
    "importances.columns = [\"column\", \"gain\"]\n",
    "importances[\"rand_var\"] = importances[\"column\"].str.contains(\"rand_var\")\n",
    "\n",
    "importances[\"better_than_probe_avg\"] = (importances[\"gain\"] > importances.loc[importances[\"rand_var\"], \"gain\"].mean()) & ~importances[\"rand_var\"]\n",
    "importances =importances.sort_values(by=\"gain\")\n",
    "usable_columns = list(importances[importances[\"better_than_probe_avg\"]][\"column\"].values)"
   ]
  },
  {
   "cell_type": "code",
   "execution_count": 220,
   "id": "88e526a5-d20b-473e-b795-38cca8a80937",
   "metadata": {},
   "outputs": [
    {
     "data": {
      "text/html": [
       "<div>\n",
       "<style scoped>\n",
       "    .dataframe tbody tr th:only-of-type {\n",
       "        vertical-align: middle;\n",
       "    }\n",
       "\n",
       "    .dataframe tbody tr th {\n",
       "        vertical-align: top;\n",
       "    }\n",
       "\n",
       "    .dataframe thead th {\n",
       "        text-align: right;\n",
       "    }\n",
       "</style>\n",
       "<table border=\"1\" class=\"dataframe\">\n",
       "  <thead>\n",
       "    <tr style=\"text-align: right;\">\n",
       "      <th></th>\n",
       "      <th>column</th>\n",
       "      <th>gain</th>\n",
       "      <th>rand_var</th>\n",
       "      <th>better_than_probe_avg</th>\n",
       "    </tr>\n",
       "  </thead>\n",
       "  <tbody>\n",
       "    <tr>\n",
       "      <th>15</th>\n",
       "      <td>Smoking Status</td>\n",
       "      <td>13.097382</td>\n",
       "      <td>False</td>\n",
       "      <td>False</td>\n",
       "    </tr>\n",
       "    <tr>\n",
       "      <th>1</th>\n",
       "      <td>Gender</td>\n",
       "      <td>15.256684</td>\n",
       "      <td>False</td>\n",
       "      <td>False</td>\n",
       "    </tr>\n",
       "    <tr>\n",
       "      <th>17</th>\n",
       "      <td>Property Type</td>\n",
       "      <td>38.792526</td>\n",
       "      <td>False</td>\n",
       "      <td>False</td>\n",
       "    </tr>\n",
       "    <tr>\n",
       "      <th>9</th>\n",
       "      <td>Policy Type</td>\n",
       "      <td>60.558346</td>\n",
       "      <td>False</td>\n",
       "      <td>False</td>\n",
       "    </tr>\n",
       "    <tr>\n",
       "      <th>14</th>\n",
       "      <td>Customer Feedback</td>\n",
       "      <td>72.182533</td>\n",
       "      <td>False</td>\n",
       "      <td>False</td>\n",
       "    </tr>\n",
       "    <tr>\n",
       "      <th>3</th>\n",
       "      <td>Marital Status</td>\n",
       "      <td>82.241837</td>\n",
       "      <td>False</td>\n",
       "      <td>False</td>\n",
       "    </tr>\n",
       "    <tr>\n",
       "      <th>6</th>\n",
       "      <td>Occupation</td>\n",
       "      <td>84.737862</td>\n",
       "      <td>False</td>\n",
       "      <td>False</td>\n",
       "    </tr>\n",
       "    <tr>\n",
       "      <th>5</th>\n",
       "      <td>Education Level</td>\n",
       "      <td>88.832588</td>\n",
       "      <td>False</td>\n",
       "      <td>False</td>\n",
       "    </tr>\n",
       "    <tr>\n",
       "      <th>25</th>\n",
       "      <td>Occupation_null</td>\n",
       "      <td>91.203659</td>\n",
       "      <td>False</td>\n",
       "      <td>False</td>\n",
       "    </tr>\n",
       "    <tr>\n",
       "      <th>8</th>\n",
       "      <td>Location</td>\n",
       "      <td>95.033760</td>\n",
       "      <td>False</td>\n",
       "      <td>False</td>\n",
       "    </tr>\n",
       "    <tr>\n",
       "      <th>23</th>\n",
       "      <td>Null columns</td>\n",
       "      <td>114.796883</td>\n",
       "      <td>False</td>\n",
       "      <td>False</td>\n",
       "    </tr>\n",
       "    <tr>\n",
       "      <th>21</th>\n",
       "      <td>Policy Start Month</td>\n",
       "      <td>119.902603</td>\n",
       "      <td>False</td>\n",
       "      <td>False</td>\n",
       "    </tr>\n",
       "    <tr>\n",
       "      <th>16</th>\n",
       "      <td>Exercise Frequency</td>\n",
       "      <td>122.253181</td>\n",
       "      <td>False</td>\n",
       "      <td>False</td>\n",
       "    </tr>\n",
       "    <tr>\n",
       "      <th>4</th>\n",
       "      <td>Number of Dependents</td>\n",
       "      <td>133.478302</td>\n",
       "      <td>False</td>\n",
       "      <td>False</td>\n",
       "    </tr>\n",
       "    <tr>\n",
       "      <th>13</th>\n",
       "      <td>Insurance Duration</td>\n",
       "      <td>140.292572</td>\n",
       "      <td>False</td>\n",
       "      <td>False</td>\n",
       "    </tr>\n",
       "    <tr>\n",
       "      <th>11</th>\n",
       "      <td>Vehicle Age</td>\n",
       "      <td>156.953186</td>\n",
       "      <td>False</td>\n",
       "      <td>False</td>\n",
       "    </tr>\n",
       "    <tr>\n",
       "      <th>22</th>\n",
       "      <td>Policy Start Day</td>\n",
       "      <td>201.435654</td>\n",
       "      <td>False</td>\n",
       "      <td>False</td>\n",
       "    </tr>\n",
       "    <tr>\n",
       "      <th>19</th>\n",
       "      <td>Claim Frequency</td>\n",
       "      <td>361.456604</td>\n",
       "      <td>False</td>\n",
       "      <td>False</td>\n",
       "    </tr>\n",
       "    <tr>\n",
       "      <th>0</th>\n",
       "      <td>Age</td>\n",
       "      <td>374.211639</td>\n",
       "      <td>False</td>\n",
       "      <td>False</td>\n",
       "    </tr>\n",
       "    <tr>\n",
       "      <th>35</th>\n",
       "      <td>rand_var_8</td>\n",
       "      <td>388.731110</td>\n",
       "      <td>True</td>\n",
       "      <td>False</td>\n",
       "    </tr>\n",
       "    <tr>\n",
       "      <th>29</th>\n",
       "      <td>rand_var_2</td>\n",
       "      <td>394.955658</td>\n",
       "      <td>True</td>\n",
       "      <td>False</td>\n",
       "    </tr>\n",
       "    <tr>\n",
       "      <th>34</th>\n",
       "      <td>rand_var_7</td>\n",
       "      <td>402.596313</td>\n",
       "      <td>True</td>\n",
       "      <td>False</td>\n",
       "    </tr>\n",
       "    <tr>\n",
       "      <th>33</th>\n",
       "      <td>rand_var_6</td>\n",
       "      <td>407.945770</td>\n",
       "      <td>True</td>\n",
       "      <td>False</td>\n",
       "    </tr>\n",
       "    <tr>\n",
       "      <th>27</th>\n",
       "      <td>rand_var_0</td>\n",
       "      <td>408.885712</td>\n",
       "      <td>True</td>\n",
       "      <td>False</td>\n",
       "    </tr>\n",
       "    <tr>\n",
       "      <th>31</th>\n",
       "      <td>rand_var_4</td>\n",
       "      <td>417.555267</td>\n",
       "      <td>True</td>\n",
       "      <td>False</td>\n",
       "    </tr>\n",
       "    <tr>\n",
       "      <th>36</th>\n",
       "      <td>rand_var_9</td>\n",
       "      <td>418.873566</td>\n",
       "      <td>True</td>\n",
       "      <td>False</td>\n",
       "    </tr>\n",
       "    <tr>\n",
       "      <th>30</th>\n",
       "      <td>rand_var_3</td>\n",
       "      <td>425.831360</td>\n",
       "      <td>True</td>\n",
       "      <td>False</td>\n",
       "    </tr>\n",
       "    <tr>\n",
       "      <th>32</th>\n",
       "      <td>rand_var_5</td>\n",
       "      <td>474.787415</td>\n",
       "      <td>True</td>\n",
       "      <td>False</td>\n",
       "    </tr>\n",
       "    <tr>\n",
       "      <th>28</th>\n",
       "      <td>rand_var_1</td>\n",
       "      <td>504.953400</td>\n",
       "      <td>True</td>\n",
       "      <td>False</td>\n",
       "    </tr>\n",
       "    <tr>\n",
       "      <th>18</th>\n",
       "      <td>Customer Tenure</td>\n",
       "      <td>1306.735229</td>\n",
       "      <td>False</td>\n",
       "      <td>True</td>\n",
       "    </tr>\n",
       "    <tr>\n",
       "      <th>24</th>\n",
       "      <td>Marital Status_null</td>\n",
       "      <td>2591.602783</td>\n",
       "      <td>False</td>\n",
       "      <td>True</td>\n",
       "    </tr>\n",
       "    <tr>\n",
       "      <th>20</th>\n",
       "      <td>Policy Start Year</td>\n",
       "      <td>5768.592773</td>\n",
       "      <td>False</td>\n",
       "      <td>True</td>\n",
       "    </tr>\n",
       "    <tr>\n",
       "      <th>26</th>\n",
       "      <td>Customer Feedback_null</td>\n",
       "      <td>8950.863281</td>\n",
       "      <td>False</td>\n",
       "      <td>True</td>\n",
       "    </tr>\n",
       "    <tr>\n",
       "      <th>7</th>\n",
       "      <td>Health Score</td>\n",
       "      <td>15696.756836</td>\n",
       "      <td>False</td>\n",
       "      <td>True</td>\n",
       "    </tr>\n",
       "    <tr>\n",
       "      <th>10</th>\n",
       "      <td>Previous Claims</td>\n",
       "      <td>17893.582031</td>\n",
       "      <td>False</td>\n",
       "      <td>True</td>\n",
       "    </tr>\n",
       "    <tr>\n",
       "      <th>12</th>\n",
       "      <td>Credit Score</td>\n",
       "      <td>25764.767578</td>\n",
       "      <td>False</td>\n",
       "      <td>True</td>\n",
       "    </tr>\n",
       "    <tr>\n",
       "      <th>2</th>\n",
       "      <td>Annual Income</td>\n",
       "      <td>27282.822266</td>\n",
       "      <td>False</td>\n",
       "      <td>True</td>\n",
       "    </tr>\n",
       "  </tbody>\n",
       "</table>\n",
       "</div>"
      ],
      "text/plain": [
       "                    column          gain  rand_var  better_than_probe_avg\n",
       "15          Smoking Status     13.097382     False                  False\n",
       "1                   Gender     15.256684     False                  False\n",
       "17           Property Type     38.792526     False                  False\n",
       "9              Policy Type     60.558346     False                  False\n",
       "14       Customer Feedback     72.182533     False                  False\n",
       "3           Marital Status     82.241837     False                  False\n",
       "6               Occupation     84.737862     False                  False\n",
       "5          Education Level     88.832588     False                  False\n",
       "25         Occupation_null     91.203659     False                  False\n",
       "8                 Location     95.033760     False                  False\n",
       "23            Null columns    114.796883     False                  False\n",
       "21      Policy Start Month    119.902603     False                  False\n",
       "16      Exercise Frequency    122.253181     False                  False\n",
       "4     Number of Dependents    133.478302     False                  False\n",
       "13      Insurance Duration    140.292572     False                  False\n",
       "11             Vehicle Age    156.953186     False                  False\n",
       "22        Policy Start Day    201.435654     False                  False\n",
       "19         Claim Frequency    361.456604     False                  False\n",
       "0                      Age    374.211639     False                  False\n",
       "35              rand_var_8    388.731110      True                  False\n",
       "29              rand_var_2    394.955658      True                  False\n",
       "34              rand_var_7    402.596313      True                  False\n",
       "33              rand_var_6    407.945770      True                  False\n",
       "27              rand_var_0    408.885712      True                  False\n",
       "31              rand_var_4    417.555267      True                  False\n",
       "36              rand_var_9    418.873566      True                  False\n",
       "30              rand_var_3    425.831360      True                  False\n",
       "32              rand_var_5    474.787415      True                  False\n",
       "28              rand_var_1    504.953400      True                  False\n",
       "18         Customer Tenure   1306.735229     False                   True\n",
       "24     Marital Status_null   2591.602783     False                   True\n",
       "20       Policy Start Year   5768.592773     False                   True\n",
       "26  Customer Feedback_null   8950.863281     False                   True\n",
       "7             Health Score  15696.756836     False                   True\n",
       "10         Previous Claims  17893.582031     False                   True\n",
       "12            Credit Score  25764.767578     False                   True\n",
       "2            Annual Income  27282.822266     False                   True"
      ]
     },
     "execution_count": 220,
     "metadata": {},
     "output_type": "execute_result"
    }
   ],
   "source": [
    "importances"
   ]
  },
  {
   "cell_type": "code",
   "execution_count": 221,
   "id": "117db3f8-4f09-470e-9ed8-8a2212038a4d",
   "metadata": {},
   "outputs": [],
   "source": [
    "from statsmodels.distributions.empirical_distribution import ECDF\n",
    "import matplotlib.pyplot as plt\n",
    "\n",
    "def rescale(series, from_min, from_max, to_min, to_max):\n",
    "    return to_min + ((series - from_min) * (to_max - to_min)) / (from_max - from_min)"
   ]
  },
  {
   "cell_type": "code",
   "execution_count": 223,
   "id": "006ab569-d947-4751-b5f8-6777db8af8a1",
   "metadata": {},
   "outputs": [],
   "source": [
    "model = model.fit(X_train, y_train)"
   ]
  },
  {
   "cell_type": "code",
   "execution_count": 225,
   "id": "a6546bbc-5337-44ed-8fd1-f6b5f70ebbd9",
   "metadata": {},
   "outputs": [],
   "source": [
    "model.save_model(\"results_201224_1828_limited_columns.pkl\")"
   ]
  },
  {
   "cell_type": "code",
   "execution_count": 226,
   "id": "aa985000-10c9-422b-8264-c7f48b81d55b",
   "metadata": {},
   "outputs": [],
   "source": [
    "y_train_pred = model.predict(X_train)#.loc[:, usable_columns])\n",
    "y_val_pred = model.predict(X_val)#.loc[:, usable_columns])\n"
   ]
  },
  {
   "cell_type": "code",
   "execution_count": 227,
   "id": "9cdc11d4-ffef-4000-b2d3-8d60845fbef8",
   "metadata": {},
   "outputs": [],
   "source": [
    "res_Data = full_test_csv_data[[\"id\"]].copy()"
   ]
  },
  {
   "cell_type": "code",
   "execution_count": 228,
   "id": "6e8ac10e-b1ed-420a-82fc-e5e6340c658f",
   "metadata": {},
   "outputs": [],
   "source": [
    "res_Data[\"pred\"] = np.power(10, y_val_pred) - 1"
   ]
  },
  {
   "cell_type": "code",
   "execution_count": 229,
   "id": "31e3feed-d158-40e7-8bd9-75ba0e3faab9",
   "metadata": {},
   "outputs": [],
   "source": [
    "res_Data.columns = [\"id\",\"Premium Amount\"]"
   ]
  },
  {
   "cell_type": "code",
   "execution_count": 230,
   "id": "274e7ecc-4819-4d1b-94a9-37a938234cd0",
   "metadata": {},
   "outputs": [],
   "source": [
    "res_Data.to_csv(\"results_201224_1828_limited_columns.csv\",index=False,header=True)"
   ]
  },
  {
   "cell_type": "code",
   "execution_count": null,
   "id": "3d1c9e32-0fe0-4c96-b662-ca94defcd91b",
   "metadata": {},
   "outputs": [],
   "source": []
  }
 ],
 "metadata": {
  "kernelspec": {
   "display_name": "Python 3 (ipykernel)",
   "language": "python",
   "name": "python3"
  },
  "language_info": {
   "codemirror_mode": {
    "name": "ipython",
    "version": 3
   },
   "file_extension": ".py",
   "mimetype": "text/x-python",
   "name": "python",
   "nbconvert_exporter": "python",
   "pygments_lexer": "ipython3",
   "version": "3.10.6"
  }
 },
 "nbformat": 4,
 "nbformat_minor": 5
}
